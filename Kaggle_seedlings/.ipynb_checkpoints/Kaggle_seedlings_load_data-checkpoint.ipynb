{
 "cells": [
  {
   "cell_type": "code",
   "execution_count": 1,
   "metadata": {},
   "outputs": [],
   "source": [
    "#https://www.kaggle.com/c/plant-seedlings-classification\n",
    "from __future__ import division, print_function\n"
   ]
  },
  {
   "cell_type": "code",
   "execution_count": 26,
   "metadata": {},
   "outputs": [],
   "source": [
    "sample_or_prod = True #True = sample, False = production\n",
    "batch_size = 64 #ajust to suit memory capacity of hardware."
   ]
  },
  {
   "cell_type": "code",
   "execution_count": 17,
   "metadata": {},
   "outputs": [
    {
     "name": "stdout",
     "output_type": "stream",
     "text": [
      "os.getcwd: /home/ubuntu/fastai\n"
     ]
    },
    {
     "name": "stderr",
     "output_type": "stream",
     "text": [
      "WARNING (theano.sandbox.cuda): The cuda backend is deprecated and will be removed in the next release (v0.10).  Please switch to the gpuarray backend. You can get more information about how to switch at this URL:\n",
      " https://github.com/Theano/Theano/wiki/Converting-to-the-new-gpu-back-end%28gpuarray%29\n",
      "\n",
      "Using gpu device 0: Tesla K80 (CNMeM is disabled, cuDNN 5110)\n",
      "Using Theano backend.\n"
     ]
    }
   ],
   "source": [
    "import os\n",
    "from datetime import datetime\n",
    "from glob import glob\n",
    "from random import shuffle\n",
    "from shutil import copyfile\n",
    "\n",
    "os.chdir(HOMEPATH)\n",
    "print (\"os.getcwd:\", os.getcwd())\n",
    "# Rather than importing everything manually, we'll make things easy\n",
    "#   and load them all in utils.py, and just import them from there.\n",
    "%matplotlib inline\n",
    "import utils; reload(utils)\n",
    "from utils import *"
   ]
  },
  {
   "cell_type": "code",
   "execution_count": 4,
   "metadata": {},
   "outputs": [
    {
     "name": "stdout",
     "output_type": "stream",
     "text": [
      "HOMEPATH: /home/ubuntu/fastai/\n",
      "DATA_PATH: /home/ubuntu/fastai/data/Kaggle_seedlings/\n",
      "/home/ubuntu/fastai/data/Kaggle_seedlings\n",
      "\u001b[01;34m.\u001b[00m\r\n",
      "├── \u001b[01;34mmodels\u001b[00m\r\n",
      "├── \u001b[01;34mresults\u001b[00m\r\n",
      "├── \u001b[01;34msample\u001b[00m\r\n",
      "│   ├── \u001b[01;34mtest\u001b[00m\r\n",
      "│   │   └── \u001b[01;34munknown\u001b[00m\r\n",
      "│   ├── \u001b[01;34mtrain\u001b[00m\r\n",
      "│   │   ├── \u001b[01;34mBlack-grass\u001b[00m\r\n",
      "│   │   ├── \u001b[01;34mCharlock\u001b[00m\r\n",
      "│   │   ├── \u001b[01;34mCleavers\u001b[00m\r\n",
      "│   │   ├── \u001b[01;34mCommon Chickweed\u001b[00m\r\n",
      "│   │   ├── \u001b[01;34mCommon wheat\u001b[00m\r\n",
      "│   │   ├── \u001b[01;34mFat Hen\u001b[00m\r\n",
      "│   │   ├── \u001b[01;34mLoose Silky-bent\u001b[00m\r\n",
      "│   │   ├── \u001b[01;34mMaize\u001b[00m\r\n",
      "│   │   ├── \u001b[01;34mScentless Mayweed\u001b[00m\r\n",
      "│   │   ├── \u001b[01;34mShepherds Purse\u001b[00m\r\n",
      "│   │   ├── \u001b[01;34mSmall-flowered Cranesbill\u001b[00m\r\n",
      "│   │   └── \u001b[01;34mSugar beet\u001b[00m\r\n",
      "│   └── \u001b[01;34mvalid\u001b[00m\r\n",
      "│       ├── \u001b[01;34mBlack-grass\u001b[00m\r\n",
      "│       ├── \u001b[01;34mCharlock\u001b[00m\r\n",
      "│       ├── \u001b[01;34mCleavers\u001b[00m\r\n",
      "│       ├── \u001b[01;34mCommon Chickweed\u001b[00m\r\n",
      "│       ├── \u001b[01;34mCommon wheat\u001b[00m\r\n",
      "│       ├── \u001b[01;34mFat Hen\u001b[00m\r\n",
      "│       ├── \u001b[01;34mLoose Silky-bent\u001b[00m\r\n",
      "│       ├── \u001b[01;34mMaize\u001b[00m\r\n",
      "│       ├── \u001b[01;34mScentless Mayweed\u001b[00m\r\n",
      "│       ├── \u001b[01;34mShepherds Purse\u001b[00m\r\n",
      "│       ├── \u001b[01;34mSmall-flowered Cranesbill\u001b[00m\r\n",
      "│       └── \u001b[01;34mSugar beet\u001b[00m\r\n",
      "├── \u001b[01;34mtest\u001b[00m\r\n",
      "│   └── \u001b[01;34munknown\u001b[00m\r\n",
      "├── \u001b[01;34mtrain\u001b[00m\r\n",
      "│   ├── \u001b[01;34mBlack-grass\u001b[00m\r\n",
      "│   ├── \u001b[01;34mCharlock\u001b[00m\r\n",
      "│   ├── \u001b[01;34mCleavers\u001b[00m\r\n",
      "│   ├── \u001b[01;34mCommon Chickweed\u001b[00m\r\n",
      "│   ├── \u001b[01;34mCommon wheat\u001b[00m\r\n",
      "│   ├── \u001b[01;34mFat Hen\u001b[00m\r\n",
      "│   ├── \u001b[01;34mLoose Silky-bent\u001b[00m\r\n",
      "│   ├── \u001b[01;34mMaize\u001b[00m\r\n",
      "│   ├── \u001b[01;34mScentless Mayweed\u001b[00m\r\n",
      "│   ├── \u001b[01;34mShepherds Purse\u001b[00m\r\n",
      "│   ├── \u001b[01;34mSmall-flowered Cranesbill\u001b[00m\r\n",
      "│   └── \u001b[01;34mSugar beet\u001b[00m\r\n",
      "└── \u001b[01;34mvalid\u001b[00m\r\n",
      "    ├── \u001b[01;34mBlack-grass\u001b[00m\r\n",
      "    ├── \u001b[01;34mCharlock\u001b[00m\r\n",
      "    ├── \u001b[01;34mCleavers\u001b[00m\r\n",
      "    ├── \u001b[01;34mCommon Chickweed\u001b[00m\r\n",
      "    ├── \u001b[01;34mCommon wheat\u001b[00m\r\n",
      "    ├── \u001b[01;34mFat Hen\u001b[00m\r\n",
      "    ├── \u001b[01;34mLoose Silky-bent\u001b[00m\r\n",
      "    ├── \u001b[01;34mMaize\u001b[00m\r\n",
      "    ├── \u001b[01;34mScentless Mayweed\u001b[00m\r\n",
      "    ├── \u001b[01;34mShepherds Purse\u001b[00m\r\n",
      "    ├── \u001b[01;34mSmall-flowered Cranesbill\u001b[00m\r\n",
      "    └── \u001b[01;34mSugar beet\u001b[00m\r\n",
      "\r\n",
      "59 directories\r\n"
     ]
    }
   ],
   "source": [
    "HOMEPATH = \"/home/ubuntu/fastai/\"\n",
    "DATA_PATH = HOMEPATH + \"data/Kaggle_seedlings/\"\n",
    "print(\"HOMEPATH:\", HOMEPATH)\n",
    "print(\"DATA_PATH:\", DATA_PATH)\n",
    "\n",
    "\n",
    "os.chdir(DATA_PATH)\n",
    "print (os.getcwd())\n",
    "!tree -d"
   ]
  },
  {
   "cell_type": "code",
   "execution_count": 7,
   "metadata": {
    "scrolled": true
   },
   "outputs": [
    {
     "name": "stdout",
     "output_type": "stream",
     "text": [
      "WORKING_DATA: /home/ubuntu/fastai/data/Kaggle_seedlings/sample/\n",
      "WORKING_TEST: /home/ubuntu/fastai/data/Kaggle_seedlings/sample/test/\n",
      "WORKING_TRAIN: /home/ubuntu/fastai/data/Kaggle_seedlings/sample/train/\n",
      "WORKING_VALID: /home/ubuntu/fastai/data/Kaggle_seedlings/sample/valid/\n",
      "s_or_p: _sample_\n"
     ]
    }
   ],
   "source": [
    "MODEL_PATH = DATA_PATH+\"models/\"\n",
    "RESULTS_PATH = DATA_PATH+\"results/\"\n",
    "\n",
    "SAMPLE_DATA_PATH = DATA_PATH + \"sample/\"#choose this for testing or above for production\n",
    "SAMPLE_TEST_PATH = SAMPLE_DATA_PATH+\"test/\"\n",
    "SAMPLE_TRAIN_PATH = SAMPLE_DATA_PATH + \"train/\"\n",
    "SAMPLE_VALID_PATH = SAMPLE_DATA_PATH + \"valid/\"\n",
    "\n",
    "TEST_PATH = DATA_PATH+\"test/\"\n",
    "TRAIN_PATH = DATA_PATH + \"train/\"\n",
    "VALID_PATH = DATA_PATH + \"valid/\"\n",
    "\n",
    "if sample_or_prod:\n",
    "    WORKING_DATA  = SAMPLE_DATA_PATH\n",
    "    WORKING_TEST  = SAMPLE_TEST_PATH\n",
    "    WORKING_TRAIN = SAMPLE_TRAIN_PATH\n",
    "    WORKING_VALID = SAMPLE_VALID_PATH\n",
    "    s_or_p = \"_sample_\"\n",
    "else:\n",
    "    WORKING_DATA  = DATA_PATH\n",
    "    WORKING_TEST  = TEST_PATH\n",
    "    WORKING_TRAIN = TRAIN_PATH\n",
    "    WORKING_VALID = VALID_PATH\n",
    "    s_or_p = \"_prod_\"\n",
    "    \n",
    "print (\"WORKING_DATA:\", WORKING_DATA)\n",
    "print (\"WORKING_TEST:\", WORKING_TEST)\n",
    "print (\"WORKING_TRAIN:\", WORKING_TRAIN)\n",
    "print (\"WORKING_VALID:\", WORKING_VALID)\n",
    "print (\"s_or_p:\", s_or_p)"
   ]
  },
  {
   "cell_type": "code",
   "execution_count": 8,
   "metadata": {},
   "outputs": [],
   "source": [
    "def dirFileList(dir_path):\n",
    "    return [name for name in os.listdir(dir_path) if os.path.isfile(os.path.join(dir_path, name))]"
   ]
  },
  {
   "cell_type": "code",
   "execution_count": 9,
   "metadata": {},
   "outputs": [
    {
     "name": "stdout",
     "output_type": "stream",
     "text": [
      "['Black-grass/', 'Charlock/', 'Cleavers/', 'Common Chickweed/', 'Common wheat/', 'Fat Hen/', 'Loose Silky-bent/', 'Maize/', 'Scentless Mayweed/', 'Shepherds Purse/', 'Small-flowered Cranesbill/', 'Sugar beet/']\n"
     ]
    }
   ],
   "source": [
    "#nb: do not change order \n",
    "#NBB: must have trailing slash\n",
    "\n",
    "CATEGORIES = ['Black-grass', 'Charlock', 'Cleavers', 'Common Chickweed', 'Common wheat', 'Fat Hen', 'Loose Silky-bent',\n",
    "              'Maize', 'Scentless Mayweed', 'Shepherds Purse', 'Small-flowered Cranesbill', 'Sugar beet']\n",
    "for i in range(len(CATEGORIES)):\n",
    "    CATEGORIES[i] = CATEGORIES[i] + \"/\"\n",
    "print (CATEGORIES)\n"
   ]
  },
  {
   "cell_type": "code",
   "execution_count": 10,
   "metadata": {},
   "outputs": [
    {
     "name": "stdout",
     "output_type": "stream",
     "text": [
      "DATA_DIR_LIST: ['/home/ubuntu/fastai/data/Kaggle_seedlings/', '/home/ubuntu/fastai/data/Kaggle_seedlings/sample/', '/home/ubuntu/fastai/data/Kaggle_seedlings/sample/test/', '/home/ubuntu/fastai/data/Kaggle_seedlings/sample/test/unknown/', '/home/ubuntu/fastai/data/Kaggle_seedlings/sample/train/', '/home/ubuntu/fastai/data/Kaggle_seedlings/sample/valid/', '/home/ubuntu/fastai/data/Kaggle_seedlings/test/', '/home/ubuntu/fastai/data/Kaggle_seedlings/test/unknown/', '/home/ubuntu/fastai/data/Kaggle_seedlings/train/', '/home/ubuntu/fastai/data/Kaggle_seedlings/valid/', '/home/ubuntu/fastai/data/Kaggle_seedlings/models/', '/home/ubuntu/fastai/data/Kaggle_seedlings/results/']\n"
     ]
    }
   ],
   "source": [
    "UNKNOWN = 'unknown/'\n",
    "\n",
    "DATA_DIR_LIST = [DATA_PATH, SAMPLE_DATA_PATH, SAMPLE_TEST_PATH, SAMPLE_TEST_PATH+UNKNOWN, SAMPLE_TRAIN_PATH, \n",
    "                 SAMPLE_VALID_PATH, TEST_PATH, TEST_PATH+UNKNOWN, TRAIN_PATH, VALID_PATH, MODEL_PATH, RESULTS_PATH]\n",
    "\n",
    "print (\"DATA_DIR_LIST:\", DATA_DIR_LIST)\n",
    "\n",
    "for category in CATEGORIES:\n",
    "    #\n",
    "    DATA_DIR_LIST.append(TRAIN_PATH+category)\n",
    "    DATA_DIR_LIST.append(VALID_PATH+category)\n",
    "    DATA_DIR_LIST.append(SAMPLE_TRAIN_PATH+category)\n",
    "    DATA_DIR_LIST.append(SAMPLE_VALID_PATH+category)"
   ]
  },
  {
   "cell_type": "code",
   "execution_count": 11,
   "metadata": {},
   "outputs": [],
   "source": [
    "def listDirsFileCount(DATA_DIR_LIST):\n",
    "    DATA_DIR_LIST = sorted(DATA_DIR_LIST)\n",
    "    for dir_ in DATA_DIR_LIST:\n",
    "        print (dir_, len(dirFileList(dir_)))\n",
    "        \n"
   ]
  },
  {
   "cell_type": "code",
   "execution_count": 12,
   "metadata": {
    "scrolled": false
   },
   "outputs": [
    {
     "name": "stdout",
     "output_type": "stream",
     "text": [
      "/home/ubuntu/fastai/data/Kaggle_seedlings/ 4\n",
      "/home/ubuntu/fastai/data/Kaggle_seedlings/models/ 0\n",
      "/home/ubuntu/fastai/data/Kaggle_seedlings/results/ 0\n",
      "/home/ubuntu/fastai/data/Kaggle_seedlings/sample/ 0\n",
      "/home/ubuntu/fastai/data/Kaggle_seedlings/sample/test/ 0\n",
      "/home/ubuntu/fastai/data/Kaggle_seedlings/sample/test/unknown/ 158\n",
      "/home/ubuntu/fastai/data/Kaggle_seedlings/sample/train/ 0\n",
      "/home/ubuntu/fastai/data/Kaggle_seedlings/sample/train/Black-grass/ 65\n",
      "/home/ubuntu/fastai/data/Kaggle_seedlings/sample/train/Charlock/ 98\n",
      "/home/ubuntu/fastai/data/Kaggle_seedlings/sample/train/Cleavers/ 76\n",
      "/home/ubuntu/fastai/data/Kaggle_seedlings/sample/train/Common Chickweed/ 154\n",
      "/home/ubuntu/fastai/data/Kaggle_seedlings/sample/train/Common wheat/ 58\n",
      "/home/ubuntu/fastai/data/Kaggle_seedlings/sample/train/Fat Hen/ 123\n",
      "/home/ubuntu/fastai/data/Kaggle_seedlings/sample/train/Loose Silky-bent/ 166\n",
      "/home/ubuntu/fastai/data/Kaggle_seedlings/sample/train/Maize/ 58\n",
      "/home/ubuntu/fastai/data/Kaggle_seedlings/sample/train/Scentless Mayweed/ 131\n",
      "/home/ubuntu/fastai/data/Kaggle_seedlings/sample/train/Shepherds Purse/ 58\n",
      "/home/ubuntu/fastai/data/Kaggle_seedlings/sample/train/Small-flowered Cranesbill/ 121\n",
      "/home/ubuntu/fastai/data/Kaggle_seedlings/sample/train/Sugar beet/ 89\n",
      "/home/ubuntu/fastai/data/Kaggle_seedlings/sample/valid/ 0\n",
      "/home/ubuntu/fastai/data/Kaggle_seedlings/sample/valid/Black-grass/ 29\n",
      "/home/ubuntu/fastai/data/Kaggle_seedlings/sample/valid/Charlock/ 43\n",
      "/home/ubuntu/fastai/data/Kaggle_seedlings/sample/valid/Cleavers/ 31\n",
      "/home/ubuntu/fastai/data/Kaggle_seedlings/sample/valid/Common Chickweed/ 67\n",
      "/home/ubuntu/fastai/data/Kaggle_seedlings/sample/valid/Common wheat/ 23\n",
      "/home/ubuntu/fastai/data/Kaggle_seedlings/sample/valid/Fat Hen/ 52\n",
      "/home/ubuntu/fastai/data/Kaggle_seedlings/sample/valid/Loose Silky-bent/ 72\n",
      "/home/ubuntu/fastai/data/Kaggle_seedlings/sample/valid/Maize/ 22\n",
      "/home/ubuntu/fastai/data/Kaggle_seedlings/sample/valid/Scentless Mayweed/ 56\n",
      "/home/ubuntu/fastai/data/Kaggle_seedlings/sample/valid/Shepherds Purse/ 24\n",
      "/home/ubuntu/fastai/data/Kaggle_seedlings/sample/valid/Small-flowered Cranesbill/ 49\n",
      "/home/ubuntu/fastai/data/Kaggle_seedlings/sample/valid/Sugar beet/ 43\n",
      "/home/ubuntu/fastai/data/Kaggle_seedlings/test/ 0\n",
      "/home/ubuntu/fastai/data/Kaggle_seedlings/test/unknown/ 794\n",
      "/home/ubuntu/fastai/data/Kaggle_seedlings/train/ 0\n",
      "/home/ubuntu/fastai/data/Kaggle_seedlings/train/Black-grass/ 185\n",
      "/home/ubuntu/fastai/data/Kaggle_seedlings/train/Charlock/ 273\n",
      "/home/ubuntu/fastai/data/Kaggle_seedlings/train/Cleavers/ 201\n",
      "/home/ubuntu/fastai/data/Kaggle_seedlings/train/Common Chickweed/ 428\n",
      "/home/ubuntu/fastai/data/Kaggle_seedlings/train/Common wheat/ 155\n",
      "/home/ubuntu/fastai/data/Kaggle_seedlings/train/Fat Hen/ 333\n",
      "/home/ubuntu/fastai/data/Kaggle_seedlings/train/Loose Silky-bent/ 458\n",
      "/home/ubuntu/fastai/data/Kaggle_seedlings/train/Maize/ 155\n",
      "/home/ubuntu/fastai/data/Kaggle_seedlings/train/Scentless Mayweed/ 362\n",
      "/home/ubuntu/fastai/data/Kaggle_seedlings/train/Shepherds Purse/ 162\n",
      "/home/ubuntu/fastai/data/Kaggle_seedlings/train/Small-flowered Cranesbill/ 348\n",
      "/home/ubuntu/fastai/data/Kaggle_seedlings/train/Sugar beet/ 270\n",
      "/home/ubuntu/fastai/data/Kaggle_seedlings/valid/ 0\n",
      "/home/ubuntu/fastai/data/Kaggle_seedlings/valid/Black-grass/ 78\n",
      "/home/ubuntu/fastai/data/Kaggle_seedlings/valid/Charlock/ 117\n",
      "/home/ubuntu/fastai/data/Kaggle_seedlings/valid/Cleavers/ 86\n",
      "/home/ubuntu/fastai/data/Kaggle_seedlings/valid/Common Chickweed/ 183\n",
      "/home/ubuntu/fastai/data/Kaggle_seedlings/valid/Common wheat/ 66\n",
      "/home/ubuntu/fastai/data/Kaggle_seedlings/valid/Fat Hen/ 142\n",
      "/home/ubuntu/fastai/data/Kaggle_seedlings/valid/Loose Silky-bent/ 196\n",
      "/home/ubuntu/fastai/data/Kaggle_seedlings/valid/Maize/ 66\n",
      "/home/ubuntu/fastai/data/Kaggle_seedlings/valid/Scentless Mayweed/ 154\n",
      "/home/ubuntu/fastai/data/Kaggle_seedlings/valid/Shepherds Purse/ 69\n",
      "/home/ubuntu/fastai/data/Kaggle_seedlings/valid/Small-flowered Cranesbill/ 148\n",
      "/home/ubuntu/fastai/data/Kaggle_seedlings/valid/Sugar beet/ 115\n"
     ]
    }
   ],
   "source": [
    "listDirsFileCount(DATA_DIR_LIST)"
   ]
  },
  {
   "cell_type": "code",
   "execution_count": 15,
   "metadata": {},
   "outputs": [
    {
     "name": "stdout",
     "output_type": "stream",
     "text": [
      "WORKING_TRAIN: /home/ubuntu/fastai/data/Kaggle_seedlings/sample/train/\n",
      "WORKING_VALID: /home/ubuntu/fastai/data/Kaggle_seedlings/sample/valid/\n"
     ]
    }
   ],
   "source": [
    "print (\"WORKING_TRAIN:\", WORKING_TRAIN)\n",
    "print (\"WORKING_VALID:\", WORKING_VALID)"
   ]
  },
  {
   "cell_type": "code",
   "execution_count": 19,
   "metadata": {},
   "outputs": [
    {
     "name": "stdout",
     "output_type": "stream",
     "text": [
      "Found 511 images belonging to 12 classes.\n",
      "val_data: <type 'numpy.ndarray'> (511, 3, 224, 224)\n"
     ]
    }
   ],
   "source": [
    "#utils.get_data\n",
    "val_data = get_data(WORKING_VALID)\n",
    "print (\"val_data:\", type(val_data), val_data.shape)"
   ]
  },
  {
   "cell_type": "code",
   "execution_count": 20,
   "metadata": {},
   "outputs": [
    {
     "name": "stdout",
     "output_type": "stream",
     "text": [
      "Found 1197 images belonging to 12 classes.\n",
      "trn_data: <type 'numpy.ndarray'> (1197, 3, 224, 224)\n"
     ]
    }
   ],
   "source": [
    "trn_data = get_data(WORKING_TRAIN)\n",
    "print (\"trn_data:\", type(trn_data), trn_data.shape)"
   ]
  },
  {
   "cell_type": "code",
   "execution_count": 21,
   "metadata": {},
   "outputs": [
    {
     "name": "stdout",
     "output_type": "stream",
     "text": [
      "Found 511 images belonging to 12 classes.\n",
      "Found 1197 images belonging to 12 classes.\n"
     ]
    }
   ],
   "source": [
    "# Use batch size of 1 since we're just doing preprocessing on the CPU\n",
    "val_batches = get_batches(WORKING_VALID, shuffle=False, batch_size=1)\n",
    "trn_batches = get_batches(WORKING_TRAIN, shuffle=False, batch_size=1)"
   ]
  },
  {
   "cell_type": "code",
   "execution_count": 24,
   "metadata": {},
   "outputs": [
    {
     "name": "stdout",
     "output_type": "stream",
     "text": [
      "val_classes: <type 'numpy.ndarray'> (511,)\n",
      "[0 0 0 0 0 0 0 0 0 0]\n",
      "trn_classes: <type 'numpy.ndarray'> (1197,)\n",
      "[0 0 0 0 0 0 0 0 0 0]\n",
      "val_labels:\n",
      " [[ 1.  0.  0.  0.  0.  0.  0.  0.  0.  0.  0.  0.]\n",
      " [ 1.  0.  0.  0.  0.  0.  0.  0.  0.  0.  0.  0.]\n",
      " [ 1.  0.  0.  0.  0.  0.  0.  0.  0.  0.  0.  0.]]\n",
      "trn_labels:\n",
      " [[ 1.  0.  0.  0.  0.  0.  0.  0.  0.  0.  0.  0.]\n",
      " [ 1.  0.  0.  0.  0.  0.  0.  0.  0.  0.  0.  0.]\n",
      " [ 1.  0.  0.  0.  0.  0.  0.  0.  0.  0.  0.  0.]]\n"
     ]
    }
   ],
   "source": [
    "val_classes = val_batches.classes\n",
    "trn_classes = trn_batches.classes\n",
    "print (\"val_classes:\", type(val_classes), val_classes.shape)\n",
    "print(val_classes[0:10])\n",
    "print (\"trn_classes:\", type(trn_classes), trn_classes.shape)\n",
    "print(trn_classes[0:10])\n",
    "\n",
    "val_labels = onehot(val_classes)\n",
    "trn_labels = onehot(trn_classes)\n",
    "print (\"val_labels:\\n\", val_labels[0:3])\n",
    "print (\"trn_labels:\\n\", trn_labels[0:3])"
   ]
  },
  {
   "cell_type": "code",
   "execution_count": 27,
   "metadata": {},
   "outputs": [
    {
     "name": "stdout",
     "output_type": "stream",
     "text": [
      "gen: <class 'keras.preprocessing.image.ImageDataGenerator'>\n",
      "trn_batches: <class 'keras.preprocessing.image.NumpyArrayIterator'>\n",
      "val_batches: <class 'keras.preprocessing.image.NumpyArrayIterator'>\n"
     ]
    }
   ],
   "source": [
    "gen=image.ImageDataGenerator()\n",
    "print (\"gen:\", type(gen))\n",
    "\n",
    "\n",
    "trn_batches = gen.flow(trn_data, trn_labels, batch_size=batch_size, shuffle=True)\n",
    "#https://keras.io/preprocessing/image/\n",
    "#flow(x, y): Takes numpy data & label arrays, \n",
    "#and generates batches of augmented/normalized data. \n",
    "#Yields batches indefinitely, in an infinite loop.\n",
    "\n",
    "val_batches = gen.flow(val_data, val_labels, batch_size=batch_size, shuffle=False)\n",
    "\n",
    "print (\"trn_batches:\", type(trn_batches))\n",
    "print (\"val_batches:\", type(val_batches))"
   ]
  },
  {
   "cell_type": "code",
   "execution_count": null,
   "metadata": {},
   "outputs": [],
   "source": []
  }
 ],
 "metadata": {
  "kernelspec": {
   "display_name": "Python 2",
   "language": "python",
   "name": "python2"
  },
  "language_info": {
   "codemirror_mode": {
    "name": "ipython",
    "version": 2
   },
   "file_extension": ".py",
   "mimetype": "text/x-python",
   "name": "python",
   "nbconvert_exporter": "python",
   "pygments_lexer": "ipython2",
   "version": "2.7.12"
  }
 },
 "nbformat": 4,
 "nbformat_minor": 2
}
