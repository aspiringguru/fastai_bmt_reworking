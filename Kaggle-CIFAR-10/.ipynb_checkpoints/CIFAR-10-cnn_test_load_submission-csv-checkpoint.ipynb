{
 "cells": [
  {
   "cell_type": "code",
   "execution_count": 1,
   "metadata": {},
   "outputs": [
    {
     "name": "stdout",
     "output_type": "stream",
     "text": [
      "DATA_WORKING      : /home/ubuntu/fastai/data/cifar-10/sample/\n",
      "DATA_WORKING_RESULTS: /home/ubuntu/fastai/data/cifar-10/sample/results/\n"
     ]
    }
   ],
   "source": [
    "\n",
    "HOMEPATH = \"/home/ubuntu/fastai/\"\n",
    "DATA_HOME_DIR = HOMEPATH + \"data/cifar-10/\"\n",
    "DATA_WORKING = DATA_HOME_DIR + \"sample/\"  #change this from + sample to DATA_HOME_DIR when production ready.\n",
    "DATA_WORKING_RESULTS = DATA_WORKING + \"results/\"\n",
    "\n",
    "print (\"DATA_WORKING      :\", DATA_WORKING)\n",
    "print (\"DATA_WORKING_RESULTS:\", DATA_WORKING_RESULTS)"
   ]
  },
  {
   "cell_type": "code",
   "execution_count": 2,
   "metadata": {},
   "outputs": [],
   "source": [
    "#path = HOMEPATH + \"data/dogscats/sample/\"\n",
    "path = DATA_HOME_DIR \n",
    "#path = DATA_HOME_DIR + \"sample/\"\n",
    "train_path = path + 'train/'\n",
    "test_path = path + 'test/'\n",
    "testUnknown_path = path + 'test/unknown/'\n",
    "valid_path = path + 'valid/'\n",
    "model_path = path + 'models/'\n",
    "sample_path = path + 'sample/'\n",
    "sampleTrain_path = path + 'sample/train/'\n",
    "sampleTest_path = path + 'sample/test/'\n",
    "sampleValid_path = path + 'sample/valid/'\n",
    "sampleResults_path = path + 'sample/results/'\n",
    "sampleTestUnknown_path = path + 'sample/test/unknown/'\n",
    "\n",
    "categories = ['airplane', 'automobile', 'bird', 'cat', 'deer', 'dog', 'frog', 'horse', 'ship', 'truck']\n"
   ]
  },
  {
   "cell_type": "code",
   "execution_count": 11,
   "metadata": {},
   "outputs": [],
   "source": [
    "SAMPLESUBMIT = \"sampleSubmission.csv\""
   ]
  },
  {
   "cell_type": "code",
   "execution_count": 51,
   "metadata": {},
   "outputs": [],
   "source": [
    "from keras.models import load_model\n",
    "from keras.preprocessing import image, sequence\n",
    "\n",
    "\n",
    "from __future__ import print_function\n",
    "import keras\n",
    "from keras.datasets import cifar10\n",
    "from keras.preprocessing.image import ImageDataGenerator\n",
    "from keras.models import Sequential\n",
    "from keras.layers import Dense, Dropout, Activation, Flatten\n",
    "from keras.layers import Conv2D, MaxPooling2D\n",
    "from keras.preprocessing import image, sequence\n",
    "import os\n",
    "import numpy as np\n",
    "import pandas as pd\n",
    "import PIL\n",
    "from PIL import Image\n",
    "import csv\n",
    "\n",
    "import matplotlib.pyplot as plt\n",
    "from datetime import datetime\n",
    "\n",
    "%matplotlib inline"
   ]
  },
  {
   "cell_type": "code",
   "execution_count": 17,
   "metadata": {},
   "outputs": [
    {
     "name": "stdout",
     "output_type": "stream",
     "text": [
      "os.getcwd: /home/ubuntu/fastai/data/cifar-10\n"
     ]
    }
   ],
   "source": [
    "os.chdir(DATA_HOME_DIR)\n",
    "print (\"os.getcwd:\", os.getcwd())"
   ]
  },
  {
   "cell_type": "code",
   "execution_count": 19,
   "metadata": {},
   "outputs": [],
   "source": [
    "sampleSubmit = pd.read_csv(DATA_HOME_DIR+SAMPLESUBMIT)"
   ]
  },
  {
   "cell_type": "code",
   "execution_count": 21,
   "metadata": {},
   "outputs": [
    {
     "name": "stdout",
     "output_type": "stream",
     "text": [
      "<class 'pandas.core.frame.DataFrame'> (300000, 2)\n"
     ]
    }
   ],
   "source": [
    "print (type(sampleSubmit), sampleSubmit.shape)"
   ]
  },
  {
   "cell_type": "code",
   "execution_count": 22,
   "metadata": {},
   "outputs": [
    {
     "data": {
      "text/plain": [
       "['id', 'label']"
      ]
     },
     "execution_count": 22,
     "metadata": {},
     "output_type": "execute_result"
    }
   ],
   "source": [
    "list(sampleSubmit)"
   ]
  },
  {
   "cell_type": "code",
   "execution_count": 25,
   "metadata": {},
   "outputs": [
    {
     "data": {
      "text/plain": [
       "array(['cat'], dtype=object)"
      ]
     },
     "execution_count": 25,
     "metadata": {},
     "output_type": "execute_result"
    }
   ],
   "source": [
    "sampleSubmit.label.unique()"
   ]
  },
  {
   "cell_type": "code",
   "execution_count": 26,
   "metadata": {},
   "outputs": [],
   "source": [
    "def dirFileList(dir_path):\n",
    "    return [name for name in os.listdir(dir_path) if os.path.isfile(os.path.join(dir_path, name))]\n"
   ]
  },
  {
   "cell_type": "code",
   "execution_count": 31,
   "metadata": {},
   "outputs": [
    {
     "name": "stdout",
     "output_type": "stream",
     "text": [
      "# of files in /home/ubuntu/fastai/data/cifar-10/test/unknown/ : 300000\n",
      "# of files in /home/ubuntu/fastai/data/cifar-10/sample/test/unknown/ : 32138\n"
     ]
    }
   ],
   "source": [
    "print (\"# of files in\", testUnknown_path, \":\", len(dirFileList(testUnknown_path)))#should be 300,000\n",
    "print (\"# of files in\", sampleTestUnknown_path, \":\", len(dirFileList(sampleTestUnknown_path)))#should be 60,000"
   ]
  },
  {
   "cell_type": "code",
   "execution_count": 33,
   "metadata": {},
   "outputs": [],
   "source": [
    "#test_file_list = len(dirFileList(testUnknown_path)) #swap to this when production ready.\n",
    "test_file_list = len(dirFileList(sampleTestUnknown_path))"
   ]
  },
  {
   "cell_type": "code",
   "execution_count": 38,
   "metadata": {},
   "outputs": [],
   "source": [
    "os.chdir(\"/home/ubuntu/fastai/fastai_bmt_reworking/Kaggle-CIFAR-10\")\n",
    "model = load_model('history3.h5')"
   ]
  },
  {
   "cell_type": "code",
   "execution_count": 39,
   "metadata": {},
   "outputs": [
    {
     "name": "stdout",
     "output_type": "stream",
     "text": [
      "_________________________________________________________________\n",
      "Layer (type)                 Output Shape              Param #   \n",
      "=================================================================\n",
      "conv2d_1 (Conv2D)            (None, 224, 224, 32)      896       \n",
      "_________________________________________________________________\n",
      "activation_1 (Activation)    (None, 224, 224, 32)      0         \n",
      "_________________________________________________________________\n",
      "conv2d_2 (Conv2D)            (None, 222, 222, 32)      9248      \n",
      "_________________________________________________________________\n",
      "activation_2 (Activation)    (None, 222, 222, 32)      0         \n",
      "_________________________________________________________________\n",
      "max_pooling2d_1 (MaxPooling2 (None, 111, 111, 32)      0         \n",
      "_________________________________________________________________\n",
      "dropout_1 (Dropout)          (None, 111, 111, 32)      0         \n",
      "_________________________________________________________________\n",
      "conv2d_3 (Conv2D)            (None, 111, 111, 64)      18496     \n",
      "_________________________________________________________________\n",
      "activation_3 (Activation)    (None, 111, 111, 64)      0         \n",
      "_________________________________________________________________\n",
      "conv2d_4 (Conv2D)            (None, 109, 109, 64)      36928     \n",
      "_________________________________________________________________\n",
      "activation_4 (Activation)    (None, 109, 109, 64)      0         \n",
      "_________________________________________________________________\n",
      "max_pooling2d_2 (MaxPooling2 (None, 54, 54, 64)        0         \n",
      "_________________________________________________________________\n",
      "dropout_2 (Dropout)          (None, 54, 54, 64)        0         \n",
      "_________________________________________________________________\n",
      "flatten_1 (Flatten)          (None, 186624)            0         \n",
      "_________________________________________________________________\n",
      "dense_1 (Dense)              (None, 512)               95552000  \n",
      "_________________________________________________________________\n",
      "activation_5 (Activation)    (None, 512)               0         \n",
      "_________________________________________________________________\n",
      "dropout_3 (Dropout)          (None, 512)               0         \n",
      "_________________________________________________________________\n",
      "dense_2 (Dense)              (None, 10)                5130      \n",
      "_________________________________________________________________\n",
      "activation_6 (Activation)    (None, 10)                0         \n",
      "=================================================================\n",
      "Total params: 95,622,698\n",
      "Trainable params: 95,622,698\n",
      "Non-trainable params: 0\n",
      "_________________________________________________________________\n"
     ]
    }
   ],
   "source": [
    "model.summary()"
   ]
  },
  {
   "cell_type": "code",
   "execution_count": 50,
   "metadata": {},
   "outputs": [
    {
     "name": "stdout",
     "output_type": "stream",
     "text": [
      "# of files in /home/ubuntu/fastai/data/cifar-10/train/airplane : 5000\n",
      "# of files in /home/ubuntu/fastai/data/cifar-10/train/automobile : 5000\n",
      "# of files in /home/ubuntu/fastai/data/cifar-10/train/bird : 5000\n",
      "# of files in /home/ubuntu/fastai/data/cifar-10/train/cat : 5000\n",
      "# of files in /home/ubuntu/fastai/data/cifar-10/train/deer : 5000\n",
      "# of files in /home/ubuntu/fastai/data/cifar-10/train/dog : 5000\n",
      "# of files in /home/ubuntu/fastai/data/cifar-10/train/frog : 5000\n",
      "# of files in /home/ubuntu/fastai/data/cifar-10/train/horse : 5000\n",
      "# of files in /home/ubuntu/fastai/data/cifar-10/train/ship : 5000\n",
      "# of files in /home/ubuntu/fastai/data/cifar-10/train/truck : 5000\n",
      "# of files in /home/ubuntu/fastai/data/cifar-10/valid/airplane : 0\n",
      "# of files in /home/ubuntu/fastai/data/cifar-10/valid/automobile : 0\n",
      "# of files in /home/ubuntu/fastai/data/cifar-10/valid/bird : 0\n",
      "# of files in /home/ubuntu/fastai/data/cifar-10/valid/cat : 0\n",
      "# of files in /home/ubuntu/fastai/data/cifar-10/valid/deer : 0\n",
      "# of files in /home/ubuntu/fastai/data/cifar-10/valid/dog : 0\n",
      "# of files in /home/ubuntu/fastai/data/cifar-10/valid/frog : 0\n",
      "# of files in /home/ubuntu/fastai/data/cifar-10/valid/horse : 0\n",
      "# of files in /home/ubuntu/fastai/data/cifar-10/valid/ship : 0\n",
      "# of files in /home/ubuntu/fastai/data/cifar-10/valid/truck : 0\n",
      "# of files in /home/ubuntu/fastai/data/cifar-10/sample/train/airplane : 0\n",
      "# of files in /home/ubuntu/fastai/data/cifar-10/sample/train/automobile : 0\n",
      "# of files in /home/ubuntu/fastai/data/cifar-10/sample/train/bird : 0\n",
      "# of files in /home/ubuntu/fastai/data/cifar-10/sample/train/cat : 0\n",
      "# of files in /home/ubuntu/fastai/data/cifar-10/sample/train/deer : 0\n",
      "# of files in /home/ubuntu/fastai/data/cifar-10/sample/train/dog : 0\n",
      "# of files in /home/ubuntu/fastai/data/cifar-10/sample/train/frog : 0\n",
      "# of files in /home/ubuntu/fastai/data/cifar-10/sample/train/horse : 0\n",
      "# of files in /home/ubuntu/fastai/data/cifar-10/sample/train/ship : 0\n",
      "# of files in /home/ubuntu/fastai/data/cifar-10/sample/train/truck : 0\n",
      "# of files in /home/ubuntu/fastai/data/cifar-10/sample/valid/airplane : 0\n",
      "# of files in /home/ubuntu/fastai/data/cifar-10/sample/valid/automobile : 0\n",
      "# of files in /home/ubuntu/fastai/data/cifar-10/sample/valid/bird : 0\n",
      "# of files in /home/ubuntu/fastai/data/cifar-10/sample/valid/cat : 0\n",
      "# of files in /home/ubuntu/fastai/data/cifar-10/sample/valid/deer : 0\n",
      "# of files in /home/ubuntu/fastai/data/cifar-10/sample/valid/dog : 0\n",
      "# of files in /home/ubuntu/fastai/data/cifar-10/sample/valid/frog : 0\n",
      "# of files in /home/ubuntu/fastai/data/cifar-10/sample/valid/horse : 0\n",
      "# of files in /home/ubuntu/fastai/data/cifar-10/sample/valid/ship : 0\n",
      "# of files in /home/ubuntu/fastai/data/cifar-10/sample/valid/truck : 0\n",
      "# of files in /home/ubuntu/fastai/data/cifar-10/sample/test/unknown/ : 60000\n"
     ]
    }
   ],
   "source": [
    "dirList = [train_path, valid_path, sampleTrain_path, sampleValid_path]\n",
    "\n",
    "for dir_path in dirList:\n",
    "    for category in categories:\n",
    "        print (\"# of files in\", dir_path+category, \":\", len(dirFileList(dir_path+category)))\n",
    "\n",
    "print (\"# of files in\", sampleTestUnknown_path, \":\", len(dirFileList(sampleTestUnknown_path)))"
   ]
  },
  {
   "cell_type": "code",
   "execution_count": 44,
   "metadata": {},
   "outputs": [],
   "source": [
    "def get_batches(dirname, gen=image.ImageDataGenerator(), shuffle=True, batch_size=4, class_mode='categorical',\n",
    "                target_size=(224,224)):\n",
    "    return gen.flow_from_directory(dirname, target_size=target_size,\n",
    "            class_mode=class_mode, shuffle=shuffle, batch_size=batch_size)\n"
   ]
  },
  {
   "cell_type": "code",
   "execution_count": 53,
   "metadata": {},
   "outputs": [],
   "source": [
    "def get_data(path, target_size=(224,224)):\n",
    "    batches = get_batches(path, shuffle=False, batch_size=1, class_mode=None, target_size=target_size)\n",
    "    print(\"type(batches):\", type(batches))\n",
    "    print(\"batches.next():\", batches.next())\n",
    "    return np.concatenate([batches.next() for i in range(batches.samples)])#nb: batches.samples required for python 3"
   ]
  },
  {
   "cell_type": "code",
   "execution_count": 54,
   "metadata": {},
   "outputs": [
    {
     "name": "stdout",
     "output_type": "stream",
     "text": [
      "DATA_WORKING: /home/ubuntu/fastai/data/cifar-10/sample/\n",
      "startTime: 2017-12-14 22:26:08.882930\n",
      "Found 0 images belonging to 0 classes.\n",
      "type(batches): <class 'keras.preprocessing.image.DirectoryIterator'>\n"
     ]
    },
    {
     "ename": "ZeroDivisionError",
     "evalue": "integer division or modulo by zero",
     "output_type": "error",
     "traceback": [
      "\u001b[0;31m---------------------------------------------------------------------------\u001b[0m",
      "\u001b[0;31mZeroDivisionError\u001b[0m                         Traceback (most recent call last)",
      "\u001b[0;32m<ipython-input-54-cc19fab6a7a3>\u001b[0m in \u001b[0;36m<module>\u001b[0;34m()\u001b[0m\n\u001b[1;32m      4\u001b[0m \u001b[0mprint\u001b[0m \u001b[0;34m(\u001b[0m\u001b[0;34m\"startTime:\"\u001b[0m\u001b[0;34m,\u001b[0m \u001b[0mstartTime\u001b[0m\u001b[0;34m)\u001b[0m\u001b[0;34m\u001b[0m\u001b[0m\n\u001b[1;32m      5\u001b[0m \u001b[0;34m\u001b[0m\u001b[0m\n\u001b[0;32m----> 6\u001b[0;31m \u001b[0mval_data\u001b[0m \u001b[0;34m=\u001b[0m \u001b[0mget_data\u001b[0m\u001b[0;34m(\u001b[0m\u001b[0msampleTestUnknown_path\u001b[0m\u001b[0;34m)\u001b[0m\u001b[0;34m\u001b[0m\u001b[0m\n\u001b[0m\u001b[1;32m      7\u001b[0m \u001b[0;34m\u001b[0m\u001b[0m\n\u001b[1;32m      8\u001b[0m \u001b[0mprint\u001b[0m \u001b[0;34m(\u001b[0m\u001b[0;34m\"val_data:\"\u001b[0m\u001b[0;34m,\u001b[0m \u001b[0mtype\u001b[0m\u001b[0;34m(\u001b[0m\u001b[0mval_data\u001b[0m\u001b[0;34m)\u001b[0m\u001b[0;34m,\u001b[0m \u001b[0mval_data\u001b[0m\u001b[0;34m.\u001b[0m\u001b[0mshape\u001b[0m\u001b[0;34m)\u001b[0m\u001b[0;34m\u001b[0m\u001b[0m\n",
      "\u001b[0;32m<ipython-input-53-66949cd86b5d>\u001b[0m in \u001b[0;36mget_data\u001b[0;34m(path, target_size)\u001b[0m\n\u001b[1;32m      2\u001b[0m     \u001b[0mbatches\u001b[0m \u001b[0;34m=\u001b[0m \u001b[0mget_batches\u001b[0m\u001b[0;34m(\u001b[0m\u001b[0mpath\u001b[0m\u001b[0;34m,\u001b[0m \u001b[0mshuffle\u001b[0m\u001b[0;34m=\u001b[0m\u001b[0;32mFalse\u001b[0m\u001b[0;34m,\u001b[0m \u001b[0mbatch_size\u001b[0m\u001b[0;34m=\u001b[0m\u001b[0;36m1\u001b[0m\u001b[0;34m,\u001b[0m \u001b[0mclass_mode\u001b[0m\u001b[0;34m=\u001b[0m\u001b[0;32mNone\u001b[0m\u001b[0;34m,\u001b[0m \u001b[0mtarget_size\u001b[0m\u001b[0;34m=\u001b[0m\u001b[0mtarget_size\u001b[0m\u001b[0;34m)\u001b[0m\u001b[0;34m\u001b[0m\u001b[0m\n\u001b[1;32m      3\u001b[0m     \u001b[0mprint\u001b[0m\u001b[0;34m(\u001b[0m\u001b[0;34m\"type(batches):\"\u001b[0m\u001b[0;34m,\u001b[0m \u001b[0mtype\u001b[0m\u001b[0;34m(\u001b[0m\u001b[0mbatches\u001b[0m\u001b[0;34m)\u001b[0m\u001b[0;34m)\u001b[0m\u001b[0;34m\u001b[0m\u001b[0m\n\u001b[0;32m----> 4\u001b[0;31m     \u001b[0mprint\u001b[0m\u001b[0;34m(\u001b[0m\u001b[0;34m\"batches.next():\"\u001b[0m\u001b[0;34m,\u001b[0m \u001b[0mbatches\u001b[0m\u001b[0;34m.\u001b[0m\u001b[0mnext\u001b[0m\u001b[0;34m(\u001b[0m\u001b[0;34m)\u001b[0m\u001b[0;34m)\u001b[0m\u001b[0;34m\u001b[0m\u001b[0m\n\u001b[0m\u001b[1;32m      5\u001b[0m     \u001b[0;32mreturn\u001b[0m \u001b[0mnp\u001b[0m\u001b[0;34m.\u001b[0m\u001b[0mconcatenate\u001b[0m\u001b[0;34m(\u001b[0m\u001b[0;34m[\u001b[0m\u001b[0mbatches\u001b[0m\u001b[0;34m.\u001b[0m\u001b[0mnext\u001b[0m\u001b[0;34m(\u001b[0m\u001b[0;34m)\u001b[0m \u001b[0;32mfor\u001b[0m \u001b[0mi\u001b[0m \u001b[0;32min\u001b[0m \u001b[0mrange\u001b[0m\u001b[0;34m(\u001b[0m\u001b[0mbatches\u001b[0m\u001b[0;34m.\u001b[0m\u001b[0msamples\u001b[0m\u001b[0;34m)\u001b[0m\u001b[0;34m]\u001b[0m\u001b[0;34m)\u001b[0m\u001b[0;31m#nb: batches.samples required for python 3\u001b[0m\u001b[0;34m\u001b[0m\u001b[0m\n",
      "\u001b[0;32m/usr/local/lib/python3.5/dist-packages/Keras-2.0.8-py3.5.egg/keras/preprocessing/image.py\u001b[0m in \u001b[0;36mnext\u001b[0;34m(self)\u001b[0m\n\u001b[1;32m   1021\u001b[0m         \"\"\"\n\u001b[1;32m   1022\u001b[0m         \u001b[0;32mwith\u001b[0m \u001b[0mself\u001b[0m\u001b[0;34m.\u001b[0m\u001b[0mlock\u001b[0m\u001b[0;34m:\u001b[0m\u001b[0;34m\u001b[0m\u001b[0m\n\u001b[0;32m-> 1023\u001b[0;31m             \u001b[0mindex_array\u001b[0m\u001b[0;34m,\u001b[0m \u001b[0mcurrent_index\u001b[0m\u001b[0;34m,\u001b[0m \u001b[0mcurrent_batch_size\u001b[0m \u001b[0;34m=\u001b[0m \u001b[0mnext\u001b[0m\u001b[0;34m(\u001b[0m\u001b[0mself\u001b[0m\u001b[0;34m.\u001b[0m\u001b[0mindex_generator\u001b[0m\u001b[0;34m)\u001b[0m\u001b[0;34m\u001b[0m\u001b[0m\n\u001b[0m\u001b[1;32m   1024\u001b[0m         \u001b[0;31m# The transformation of images is not under thread lock\u001b[0m\u001b[0;34m\u001b[0m\u001b[0;34m\u001b[0m\u001b[0m\n\u001b[1;32m   1025\u001b[0m         \u001b[0;31m# so it can be done in parallel\u001b[0m\u001b[0;34m\u001b[0m\u001b[0;34m\u001b[0m\u001b[0m\n",
      "\u001b[0;32m/usr/local/lib/python3.5/dist-packages/Keras-2.0.8-py3.5.egg/keras/preprocessing/image.py\u001b[0m in \u001b[0;36m_flow_index\u001b[0;34m(self, n, batch_size, shuffle, seed)\u001b[0m\n\u001b[1;32m    718\u001b[0m                     \u001b[0mindex_array\u001b[0m \u001b[0;34m=\u001b[0m \u001b[0mnp\u001b[0m\u001b[0;34m.\u001b[0m\u001b[0mrandom\u001b[0m\u001b[0;34m.\u001b[0m\u001b[0mpermutation\u001b[0m\u001b[0;34m(\u001b[0m\u001b[0mn\u001b[0m\u001b[0;34m)\u001b[0m\u001b[0;34m\u001b[0m\u001b[0m\n\u001b[1;32m    719\u001b[0m \u001b[0;34m\u001b[0m\u001b[0m\n\u001b[0;32m--> 720\u001b[0;31m             \u001b[0mcurrent_index\u001b[0m \u001b[0;34m=\u001b[0m \u001b[0;34m(\u001b[0m\u001b[0mself\u001b[0m\u001b[0;34m.\u001b[0m\u001b[0mbatch_index\u001b[0m \u001b[0;34m*\u001b[0m \u001b[0mbatch_size\u001b[0m\u001b[0;34m)\u001b[0m \u001b[0;34m%\u001b[0m \u001b[0mn\u001b[0m\u001b[0;34m\u001b[0m\u001b[0m\n\u001b[0m\u001b[1;32m    721\u001b[0m             \u001b[0;32mif\u001b[0m \u001b[0mn\u001b[0m \u001b[0;34m>\u001b[0m \u001b[0mcurrent_index\u001b[0m \u001b[0;34m+\u001b[0m \u001b[0mbatch_size\u001b[0m\u001b[0;34m:\u001b[0m\u001b[0;34m\u001b[0m\u001b[0m\n\u001b[1;32m    722\u001b[0m                 \u001b[0mcurrent_batch_size\u001b[0m \u001b[0;34m=\u001b[0m \u001b[0mbatch_size\u001b[0m\u001b[0;34m\u001b[0m\u001b[0m\n",
      "\u001b[0;31mZeroDivisionError\u001b[0m: integer division or modulo by zero"
     ]
    }
   ],
   "source": [
    "print (\"DATA_WORKING:\", DATA_WORKING)\n",
    "#nb: get_data is from utils.get_data\n",
    "startTime= datetime.now()\n",
    "print (\"startTime:\", startTime)\n",
    "\n",
    "val_data = get_data(sampleTestUnknown_path)\n",
    "\n",
    "print (\"val_data:\", type(val_data), val_data.shape)\n",
    "\n",
    "timeElapsed=datetime.now()-startTime\n",
    "print('val_data:Time elapsed (hh:mm:ss.ms) {}'.format(timeElapsed))\n"
   ]
  },
  {
   "cell_type": "code",
   "execution_count": null,
   "metadata": {},
   "outputs": [],
   "source": []
  }
 ],
 "metadata": {
  "kernelspec": {
   "display_name": "Python 3",
   "language": "python",
   "name": "python3"
  },
  "language_info": {
   "codemirror_mode": {
    "name": "ipython",
    "version": 3
   },
   "file_extension": ".py",
   "mimetype": "text/x-python",
   "name": "python",
   "nbconvert_exporter": "python",
   "pygments_lexer": "ipython3",
   "version": "3.5.2"
  }
 },
 "nbformat": 4,
 "nbformat_minor": 2
}
