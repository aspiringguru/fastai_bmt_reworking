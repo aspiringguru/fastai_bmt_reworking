{
 "cells": [
  {
   "cell_type": "markdown",
   "metadata": {},
   "source": [
    "# Fisheries competition"
   ]
  },
  {
   "cell_type": "markdown",
   "metadata": {},
   "source": [
    "In this notebook we're going to investigate a range of different architectures for the [Kaggle fisheries competition](https://www.kaggle.com/c/the-nature-conservancy-fisheries-monitoring/).  The video states that vgg.py and ``vgg_ft()`` from utils.py have been updated to include VGG with batch normalization, but this is not the case.  We've instead created a new file [vgg_bn.py](https://github.com/fastai/courses/blob/master/deeplearning1/nbs/vgg16bn.py) and an additional method ``vgg_ft_bn()`` (which is already in utils.py) which we use in this notebook."
   ]
  },
  {
   "cell_type": "code",
   "execution_count": 1,
   "metadata": {},
   "outputs": [],
   "source": [
    "sample_or_prod = True #True = sample, False = production\n",
    "\n",
    "train_valid_fract = 0.3\n",
    "sample_fract = 0.2"
   ]
  },
  {
   "cell_type": "code",
   "execution_count": 33,
   "metadata": {
    "scrolled": true
   },
   "outputs": [
    {
     "name": "stdout",
     "output_type": "stream",
     "text": [
      "('HOMEPATH:', '/home/ubuntu/fastai/')\n",
      "('DATA_PATH:', '/home/ubuntu/fastai/data/fish/')\n"
     ]
    }
   ],
   "source": [
    "HOMEPATH = \"/home/ubuntu/fastai/\"\n",
    "DATA_PATH = HOMEPATH + \"data/fish/\"\n",
    "print(\"HOMEPATH:\", HOMEPATH)\n",
    "print(\"DATA_PATH:\", DATA_PATH)\n",
    "import os\n",
    "\n",
    "from datetime import datetime\n",
    "from glob import glob\n",
    "from random import shuffle\n",
    "from shutil import copyfile\n",
    "from __future__ import division, print_function"
   ]
  },
  {
   "cell_type": "markdown",
   "metadata": {},
   "source": [
    "setup notes.\n",
    "cd /home/ubuntu/fastai/data/fish/\n",
    "rm -rf *\n",
    "kg download -u user_email -p password -c the-nature-conservancy-fisheries-monitoring\n",
    "ls\n",
    "unzip -l sample_submission_stg1.csv.zip\n",
    "unzip -l test_stg1.zip\n",
    "#test_stg1/ 1001 files\n",
    "unzip -l train.zip\n",
    "#train/ multiple category directories, 3790 files\n",
    "unzip -l sample_submission_stg2.csv.zip\n",
    "7z l test_stg2.7z\n",
    "#12153 files under test_stg2  NB: this is an odd directory name. refer kaggle comp notes. \n",
    "\n",
    "\n",
    "unzip sample_submission_stg1.csv.zip\n",
    "unzip test_stg1.zip\n",
    "unzip train.zip\n",
    "unzip  sample_submission_stg2.csv.zip\n",
    "\n",
    "#hold on unzipping second test directory as huge number of files.\n",
    "#7z x test_stg2.7z\n",
    "\n",
    "\n"
   ]
  },
  {
   "cell_type": "code",
   "execution_count": null,
   "metadata": {},
   "outputs": [],
   "source": [
    "from theano.sandbox import cuda"
   ]
  },
  {
   "cell_type": "code",
   "execution_count": 58,
   "metadata": {
    "scrolled": false
   },
   "outputs": [
    {
     "name": "stdout",
     "output_type": "stream",
     "text": [
      "os.getcwd: /home/ubuntu/fastai\n"
     ]
    },
    {
     "name": "stderr",
     "output_type": "stream",
     "text": [
      "WARNING (theano.sandbox.cuda): The cuda backend is deprecated and will be removed in the next release (v0.10).  Please switch to the gpuarray backend. You can get more information about how to switch at this URL:\n",
      " https://github.com/Theano/Theano/wiki/Converting-to-the-new-gpu-back-end%28gpuarray%29\n",
      "\n",
      "Using gpu device 0: Tesla K80 (CNMeM is disabled, cuDNN 5110)\n",
      "Using Theano backend.\n"
     ]
    }
   ],
   "source": [
    "os.chdir(HOMEPATH)\n",
    "print (\"os.getcwd:\", os.getcwd())\n",
    "\n",
    "%matplotlib inline\n",
    "import utils; reload(utils)\n",
    "from utils import *\n",
    "from __future__ import division, print_function"
   ]
  },
  {
   "cell_type": "code",
   "execution_count": 3,
   "metadata": {},
   "outputs": [],
   "source": [
    "#path = \"data/fish/sample/\"\n",
    "path = DATA_PATH\n",
    "batch_size=64"
   ]
  },
  {
   "cell_type": "code",
   "execution_count": 4,
   "metadata": {},
   "outputs": [
    {
     "name": "stdout",
     "output_type": "stream",
     "text": [
      "('WORKING_DATA:', '/home/ubuntu/fastai/data/fish/sample/')\n",
      "('WORKING_TEST:', '/home/ubuntu/fastai/data/fish/sample/test/')\n",
      "('WORKING_TRAIN:', '/home/ubuntu/fastai/data/fish/sample/train/')\n",
      "('WORKING_VALID:', '/home/ubuntu/fastai/data/fish/sample/valid/')\n",
      "('s_or_p:', '_sample_')\n"
     ]
    }
   ],
   "source": [
    "MODEL_PATH = DATA_PATH+\"models/\"\n",
    "RESULTS_PATH = DATA_PATH+\"results/\"\n",
    "\n",
    "\n",
    "SAMPLE_DATA_PATH = DATA_PATH + \"sample/\"#choose this for testing or above for production\n",
    "SAMPLE_TEST_PATH = SAMPLE_DATA_PATH+\"test/\"\n",
    "SAMPLE_TRAIN_PATH = SAMPLE_DATA_PATH + \"train/\"\n",
    "SAMPLE_VALID_PATH = SAMPLE_DATA_PATH + \"valid/\"\n",
    "\n",
    "\n",
    "TEST_PATH = DATA_PATH+\"test/\"\n",
    "TRAIN_PATH = DATA_PATH + \"train/\"\n",
    "VALID_PATH = DATA_PATH + \"valid/\"\n",
    "\n",
    "if sample_or_prod:\n",
    "    WORKING_DATA  = SAMPLE_DATA_PATH\n",
    "    WORKING_TEST  = SAMPLE_TEST_PATH\n",
    "    WORKING_TRAIN = SAMPLE_TRAIN_PATH\n",
    "    WORKING_VALID = SAMPLE_VALID_PATH\n",
    "    s_or_p = \"_sample_\"\n",
    "else:\n",
    "    WORKING_DATA  = DATA_PATH\n",
    "    WORKING_TEST  = TEST_PATH\n",
    "    WORKING_TRAIN = TRAIN_PATH\n",
    "    WORKING_VALID = VALID_PATH\n",
    "    s_or_p = \"_prod_\"\n",
    "\n",
    "    \n",
    "print (\"WORKING_DATA:\", WORKING_DATA)\n",
    "print (\"WORKING_TEST:\", WORKING_TEST)\n",
    "print (\"WORKING_TRAIN:\", WORKING_TRAIN)\n",
    "print (\"WORKING_VALID:\", WORKING_VALID)\n",
    "print (\"s_or_p:\", s_or_p)"
   ]
  },
  {
   "cell_type": "code",
   "execution_count": 51,
   "metadata": {},
   "outputs": [
    {
     "name": "stdout",
     "output_type": "stream",
     "text": [
      "TRAIN_PATH: /home/ubuntu/fastai/data/fish/train/\n",
      "CATEGORIES: ['OTHER', 'LAG', 'ALB', 'NoF', 'BET', 'SHARK', 'DOL', 'YFT']\n",
      "CATEGORIES: ['OTHER/', 'LAG/', 'ALB/', 'NoF/', 'BET/', 'SHARK/', 'DOL/', 'YFT/']\n"
     ]
    }
   ],
   "source": [
    "#since this dataset unzips files into category subdirectories we can obtain categories from a directory list.\n",
    "print (\"TRAIN_PATH:\", TRAIN_PATH)\n",
    "CATEGORIES = list(os.walk(TRAIN_PATH))[0][1]\n",
    "print (\"CATEGORIES:\", CATEGORIES)\n",
    "for i in range(len(CATEGORIES)):\n",
    "    CATEGORIES[i] = CATEGORIES[i] + \"/\"\n",
    "print (\"CATEGORIES:\", CATEGORIES)\n"
   ]
  },
  {
   "cell_type": "code",
   "execution_count": 6,
   "metadata": {},
   "outputs": [],
   "source": [
    "def dirFileList(dir_path):\n",
    "    return [name for name in os.listdir(dir_path) if os.path.isfile(os.path.join(dir_path, name))]\n"
   ]
  },
  {
   "cell_type": "code",
   "execution_count": 31,
   "metadata": {},
   "outputs": [],
   "source": [
    "def listDirsFileCount(DATA_DIR_LIST):\n",
    "    DATA_DIR_LIST = sorted(DATA_DIR_LIST)\n",
    "    for dir_ in DATA_DIR_LIST:\n",
    "        try:\n",
    "            numFiles = len(dirFileList(dir_))\n",
    "            print (dir_, numFiles)\n",
    "        except Exception as e: \n",
    "            print(\"\\nlistDirsFileCount:\"+dir_+\"\\n\"+ str(e)+\"\\n\")\n"
   ]
  },
  {
   "cell_type": "code",
   "execution_count": 8,
   "metadata": {},
   "outputs": [],
   "source": [
    "#check if dir exists, create if not already.\n",
    "def makeNewDir(newDirPath):\n",
    "    if not os.path.exists(newDirPath): \n",
    "        print(\"directory \", newDirPath, \" did not exist, creating:\")\n",
    "        os.mkdir(newDirPath)\n",
    "    else:\n",
    "        print(\"directory \", newDirPath, \"already existed. filecount = \", len(dirFileList(newDirPath)))\n"
   ]
  },
  {
   "cell_type": "code",
   "execution_count": 59,
   "metadata": {},
   "outputs": [
    {
     "name": "stdout",
     "output_type": "stream",
     "text": [
      "('directory ', '/home/ubuntu/fastai/data/fish/sample/', 'already existed. filecount = ', 0)\n",
      "('directory ', '/home/ubuntu/fastai/data/fish/sample/test/', 'already existed. filecount = ', 0)\n",
      "('directory ', '/home/ubuntu/fastai/data/fish/sample/test/unknown/', 'already existed. filecount = ', 0)\n",
      "('directory ', '/home/ubuntu/fastai/data/fish/sample/train/', 'already existed. filecount = ', 0)\n",
      "('directory ', '/home/ubuntu/fastai/data/fish/sample/valid/', 'already existed. filecount = ', 0)\n",
      "('directory ', '/home/ubuntu/fastai/data/fish/models/', 'already existed. filecount = ', 0)\n",
      "('directory ', '/home/ubuntu/fastai/data/fish/results/', 'already existed. filecount = ', 0)\n",
      "('directory ', '/home/ubuntu/fastai/data/fish/test/', 'already existed. filecount = ', 0)\n",
      "('directory ', '/home/ubuntu/fastai/data/fish/test/unknown/', 'already existed. filecount = ', 1000)\n",
      "('directory ', '/home/ubuntu/fastai/data/fish/train/', 'already existed. filecount = ', 1)\n",
      "('directory ', '/home/ubuntu/fastai/data/fish/valid/', 'already existed. filecount = ', 0)\n",
      "('directory ', '/home/ubuntu/fastai/data/fish/train/OTHER/', 'already existed. filecount = ', 210)\n",
      "('directory ', '/home/ubuntu/fastai/data/fish/valid/OTHER/', 'already existed. filecount = ', 89)\n",
      "('directory ', '/home/ubuntu/fastai/data/fish/sample/train/OTHER/', 'already existed. filecount = ', 42)\n",
      "('directory ', '/home/ubuntu/fastai/data/fish/sample/valid/OTHER/', 'already existed. filecount = ', 17)\n",
      "('directory ', '/home/ubuntu/fastai/data/fish/train/LAG/', 'already existed. filecount = ', 47)\n",
      "('directory ', '/home/ubuntu/fastai/data/fish/valid/LAG/', 'already existed. filecount = ', 20)\n",
      "('directory ', '/home/ubuntu/fastai/data/fish/sample/train/LAG/', 'already existed. filecount = ', 9)\n",
      "('directory ', '/home/ubuntu/fastai/data/fish/sample/valid/LAG/', 'already existed. filecount = ', 4)\n",
      "('directory ', '/home/ubuntu/fastai/data/fish/train/ALB/', 'already existed. filecount = ', 1204)\n",
      "('directory ', '/home/ubuntu/fastai/data/fish/valid/ALB/', 'already existed. filecount = ', 515)\n",
      "('directory ', '/home/ubuntu/fastai/data/fish/sample/train/ALB/', 'already existed. filecount = ', 240)\n",
      "('directory ', '/home/ubuntu/fastai/data/fish/sample/valid/ALB/', 'already existed. filecount = ', 103)\n",
      "('directory ', '/home/ubuntu/fastai/data/fish/train/NoF/', 'already existed. filecount = ', 326)\n",
      "('directory ', '/home/ubuntu/fastai/data/fish/valid/NoF/', 'already existed. filecount = ', 139)\n",
      "('directory ', '/home/ubuntu/fastai/data/fish/sample/train/NoF/', 'already existed. filecount = ', 65)\n",
      "('directory ', '/home/ubuntu/fastai/data/fish/sample/valid/NoF/', 'already existed. filecount = ', 27)\n",
      "('directory ', '/home/ubuntu/fastai/data/fish/train/BET/', 'already existed. filecount = ', 140)\n",
      "('directory ', '/home/ubuntu/fastai/data/fish/valid/BET/', 'already existed. filecount = ', 60)\n",
      "('directory ', '/home/ubuntu/fastai/data/fish/sample/train/BET/', 'already existed. filecount = ', 28)\n",
      "('directory ', '/home/ubuntu/fastai/data/fish/sample/valid/BET/', 'already existed. filecount = ', 12)\n",
      "('directory ', '/home/ubuntu/fastai/data/fish/train/SHARK/', 'already existed. filecount = ', 124)\n",
      "('directory ', '/home/ubuntu/fastai/data/fish/valid/SHARK/', 'already existed. filecount = ', 52)\n",
      "('directory ', '/home/ubuntu/fastai/data/fish/sample/train/SHARK/', 'already existed. filecount = ', 24)\n",
      "('directory ', '/home/ubuntu/fastai/data/fish/sample/valid/SHARK/', 'already existed. filecount = ', 10)\n",
      "('directory ', '/home/ubuntu/fastai/data/fish/train/DOL/', 'already existed. filecount = ', 82)\n",
      "('directory ', '/home/ubuntu/fastai/data/fish/valid/DOL/', 'already existed. filecount = ', 35)\n",
      "('directory ', '/home/ubuntu/fastai/data/fish/sample/train/DOL/', 'already existed. filecount = ', 16)\n",
      "('directory ', '/home/ubuntu/fastai/data/fish/sample/valid/DOL/', 'already existed. filecount = ', 7)\n",
      "('directory ', '/home/ubuntu/fastai/data/fish/train/YFT/', 'already existed. filecount = ', 514)\n",
      "('directory ', '/home/ubuntu/fastai/data/fish/valid/YFT/', 'already existed. filecount = ', 220)\n",
      "('directory ', '/home/ubuntu/fastai/data/fish/sample/train/YFT/', 'already existed. filecount = ', 102)\n",
      "('directory ', '/home/ubuntu/fastai/data/fish/sample/valid/YFT/', 'already existed. filecount = ', 44)\n"
     ]
    }
   ],
   "source": [
    "UNKNOWN = 'unknown/'\n",
    "\n",
    "#NB: train and test are created by unzipping the data.\n",
    "makeNewDir(SAMPLE_DATA_PATH)\n",
    "makeNewDir(SAMPLE_TEST_PATH)\n",
    "makeNewDir(SAMPLE_TEST_PATH+UNKNOWN)\n",
    "makeNewDir(SAMPLE_TRAIN_PATH)\n",
    "makeNewDir(SAMPLE_VALID_PATH)\n",
    "\n",
    "makeNewDir(MODEL_PATH)\n",
    "makeNewDir(RESULTS_PATH)\n",
    "\n",
    "makeNewDir(TEST_PATH)\n",
    "makeNewDir(TEST_PATH+UNKNOWN)\n",
    "makeNewDir(TRAIN_PATH)\n",
    "makeNewDir(VALID_PATH)\n",
    "\n",
    "DATA_DIR_LIST = [DATA_PATH, SAMPLE_DATA_PATH, SAMPLE_TEST_PATH, SAMPLE_TEST_PATH+UNKNOWN, SAMPLE_TRAIN_PATH, \n",
    "                 SAMPLE_VALID_PATH, TEST_PATH, TEST_PATH+UNKNOWN, TRAIN_PATH, VALID_PATH, MODEL_PATH, RESULTS_PATH]\n",
    "\n",
    "\n",
    "\n",
    "for category in CATEGORIES:\n",
    "    makeNewDir(TRAIN_PATH+category)\n",
    "    makeNewDir(VALID_PATH+category)\n",
    "    makeNewDir(SAMPLE_TRAIN_PATH+category)\n",
    "    makeNewDir(SAMPLE_VALID_PATH+category)\n",
    "    #\n",
    "    DATA_DIR_LIST.append(TRAIN_PATH+category)\n",
    "    DATA_DIR_LIST.append(VALID_PATH+category)\n",
    "    DATA_DIR_LIST.append(SAMPLE_TRAIN_PATH+category)\n",
    "    DATA_DIR_LIST.append(SAMPLE_VALID_PATH+category)\n",
    "    \n",
    "DATA_DIR_LIST.append(DATA_PATH + \"test_stg1/\") #destination for unzipped files from kaggle\n",
    "DATA_DIR_LIST.append(DATA_PATH + \"test_stg2/\") #destination for unzipped files from kaggle\n",
    "\n"
   ]
  },
  {
   "cell_type": "code",
   "execution_count": 21,
   "metadata": {},
   "outputs": [
    {
     "name": "stdout",
     "output_type": "stream",
     "text": [
      "('DATA_DIR_LIST:', ['/home/ubuntu/fastai/data/fish/', '/home/ubuntu/fastai/data/fish/sample/', '/home/ubuntu/fastai/data/fish/sample/test/', '/home/ubuntu/fastai/data/fish/sample/test/unknown/', '/home/ubuntu/fastai/data/fish/sample/train/', '/home/ubuntu/fastai/data/fish/sample/valid/', '/home/ubuntu/fastai/data/fish/test/', '/home/ubuntu/fastai/data/fish/test/unknown/', '/home/ubuntu/fastai/data/fish/train/', '/home/ubuntu/fastai/data/fish/valid/', '/home/ubuntu/fastai/data/fish/models/', '/home/ubuntu/fastai/data/fish/results/', '/home/ubuntu/fastai/data/fish/train/OTHER', '/home/ubuntu/fastai/data/fish/valid/OTHER', '/home/ubuntu/fastai/data/fish/sample/train/OTHER', '/home/ubuntu/fastai/data/fish/sample/valid/OTHER', '/home/ubuntu/fastai/data/fish/train/LAG', '/home/ubuntu/fastai/data/fish/valid/LAG', '/home/ubuntu/fastai/data/fish/sample/train/LAG', '/home/ubuntu/fastai/data/fish/sample/valid/LAG', '/home/ubuntu/fastai/data/fish/train/ALB', '/home/ubuntu/fastai/data/fish/valid/ALB', '/home/ubuntu/fastai/data/fish/sample/train/ALB', '/home/ubuntu/fastai/data/fish/sample/valid/ALB', '/home/ubuntu/fastai/data/fish/train/NoF', '/home/ubuntu/fastai/data/fish/valid/NoF', '/home/ubuntu/fastai/data/fish/sample/train/NoF', '/home/ubuntu/fastai/data/fish/sample/valid/NoF', '/home/ubuntu/fastai/data/fish/train/BET', '/home/ubuntu/fastai/data/fish/valid/BET', '/home/ubuntu/fastai/data/fish/sample/train/BET', '/home/ubuntu/fastai/data/fish/sample/valid/BET', '/home/ubuntu/fastai/data/fish/train/SHARK', '/home/ubuntu/fastai/data/fish/valid/SHARK', '/home/ubuntu/fastai/data/fish/sample/train/SHARK', '/home/ubuntu/fastai/data/fish/sample/valid/SHARK', '/home/ubuntu/fastai/data/fish/train/DOL', '/home/ubuntu/fastai/data/fish/valid/DOL', '/home/ubuntu/fastai/data/fish/sample/train/DOL', '/home/ubuntu/fastai/data/fish/sample/valid/DOL', '/home/ubuntu/fastai/data/fish/train/YFT', '/home/ubuntu/fastai/data/fish/valid/YFT', '/home/ubuntu/fastai/data/fish/sample/train/YFT', '/home/ubuntu/fastai/data/fish/sample/valid/YFT', '/home/ubuntu/fastai/data/fish/test_stg1/', '/home/ubuntu/fastai/data/fish/test_stg2/'])\n"
     ]
    }
   ],
   "source": [
    "print (\"DATA_DIR_LIST:\", DATA_DIR_LIST)\n"
   ]
  },
  {
   "cell_type": "code",
   "execution_count": 35,
   "metadata": {},
   "outputs": [
    {
     "name": "stdout",
     "output_type": "stream",
     "text": [
      "('/home/ubuntu/fastai/data/fish/', 7)\n",
      "('/home/ubuntu/fastai/data/fish/models/', 0)\n",
      "('/home/ubuntu/fastai/data/fish/results/', 0)\n",
      "('/home/ubuntu/fastai/data/fish/sample/', 0)\n",
      "('/home/ubuntu/fastai/data/fish/sample/test/', 0)\n",
      "('/home/ubuntu/fastai/data/fish/sample/test/unknown/', 0)\n",
      "('/home/ubuntu/fastai/data/fish/sample/train/', 0)\n",
      "('/home/ubuntu/fastai/data/fish/sample/train/ALB', 0)\n",
      "('/home/ubuntu/fastai/data/fish/sample/train/BET', 0)\n",
      "('/home/ubuntu/fastai/data/fish/sample/train/DOL', 0)\n",
      "('/home/ubuntu/fastai/data/fish/sample/train/LAG', 0)\n",
      "('/home/ubuntu/fastai/data/fish/sample/train/NoF', 0)\n",
      "('/home/ubuntu/fastai/data/fish/sample/train/OTHER', 0)\n",
      "('/home/ubuntu/fastai/data/fish/sample/train/SHARK', 0)\n",
      "('/home/ubuntu/fastai/data/fish/sample/train/YFT', 0)\n",
      "('/home/ubuntu/fastai/data/fish/sample/valid/', 0)\n",
      "('/home/ubuntu/fastai/data/fish/sample/valid/ALB', 0)\n",
      "('/home/ubuntu/fastai/data/fish/sample/valid/BET', 0)\n",
      "('/home/ubuntu/fastai/data/fish/sample/valid/DOL', 0)\n",
      "('/home/ubuntu/fastai/data/fish/sample/valid/LAG', 0)\n",
      "('/home/ubuntu/fastai/data/fish/sample/valid/NoF', 0)\n",
      "('/home/ubuntu/fastai/data/fish/sample/valid/OTHER', 0)\n",
      "('/home/ubuntu/fastai/data/fish/sample/valid/SHARK', 0)\n",
      "('/home/ubuntu/fastai/data/fish/sample/valid/YFT', 0)\n",
      "('/home/ubuntu/fastai/data/fish/test/', 0)\n",
      "('/home/ubuntu/fastai/data/fish/test/unknown/', 1000)\n",
      "('/home/ubuntu/fastai/data/fish/test_stg1/', 0)\n",
      "\n",
      "listDirsFileCount:/home/ubuntu/fastai/data/fish/test_stg2/\n",
      "[Errno 2] No such file or directory: '/home/ubuntu/fastai/data/fish/test_stg2/'\n",
      "\n",
      "('/home/ubuntu/fastai/data/fish/train/', 1)\n",
      "('/home/ubuntu/fastai/data/fish/train/ALB', 1719)\n",
      "('/home/ubuntu/fastai/data/fish/train/BET', 200)\n",
      "('/home/ubuntu/fastai/data/fish/train/DOL', 117)\n",
      "('/home/ubuntu/fastai/data/fish/train/LAG', 67)\n",
      "('/home/ubuntu/fastai/data/fish/train/NoF', 465)\n",
      "('/home/ubuntu/fastai/data/fish/train/OTHER', 299)\n",
      "('/home/ubuntu/fastai/data/fish/train/SHARK', 176)\n",
      "('/home/ubuntu/fastai/data/fish/train/YFT', 734)\n",
      "('/home/ubuntu/fastai/data/fish/valid/', 0)\n",
      "('/home/ubuntu/fastai/data/fish/valid/ALB', 0)\n",
      "('/home/ubuntu/fastai/data/fish/valid/BET', 0)\n",
      "('/home/ubuntu/fastai/data/fish/valid/DOL', 0)\n",
      "('/home/ubuntu/fastai/data/fish/valid/LAG', 0)\n",
      "('/home/ubuntu/fastai/data/fish/valid/NoF', 0)\n",
      "('/home/ubuntu/fastai/data/fish/valid/OTHER', 0)\n",
      "('/home/ubuntu/fastai/data/fish/valid/SHARK', 0)\n",
      "('/home/ubuntu/fastai/data/fish/valid/YFT', 0)\n"
     ]
    }
   ],
   "source": [
    "listDirsFileCount(DATA_DIR_LIST)"
   ]
  },
  {
   "cell_type": "code",
   "execution_count": 48,
   "metadata": {},
   "outputs": [],
   "source": [
    "def moveCopyFiles(fileList, orig, dest, moveCopy):\n",
    "    #if moveCopy=True then move files\n",
    "    #if moveCopy=False then copy files\n",
    "    success = 0\n",
    "    error = 0\n",
    "    count = 0\n",
    "    for f in fileList:\n",
    "        filename = orig+f\n",
    "        destFilename = dest+f\n",
    "        try:\n",
    "            #print \"moving from \", filename+\" to \", destFilename\n",
    "            if moveCopy:\n",
    "                os.rename(filename, destFilename)\n",
    "            else:\n",
    "                copyfile(filename, destFilename)\n",
    "            success += 1\n",
    "        except:\n",
    "            print(\"error moving :\", filename)\n",
    "            print(\"from:\", orig,\" to:\", dest)\n",
    "            print(\"filename:\", filename)\n",
    "            print(\"destFilename:\", destFilename)\n",
    "            error += 1\n",
    "        count += 1\n",
    "        #break\n",
    "    print (\"success:\", success)\n",
    "    print (\"error:\", error)\n",
    "    print (\"count:\", count)\n"
   ]
  },
  {
   "cell_type": "code",
   "execution_count": 37,
   "metadata": {},
   "outputs": [],
   "source": [
    "#to do: split files from train to train/valid.\n",
    "#copy files from train to sample/train and from valid to sample/valid\n",
    "#DONE:move files from unzipped test directory to test/unknown  (since code libraries expect to find in blah/unknown)\n",
    "\n"
   ]
  },
  {
   "cell_type": "code",
   "execution_count": 38,
   "metadata": {},
   "outputs": [
    {
     "name": "stdout",
     "output_type": "stream",
     "text": [
      "os.getcwd: /home/ubuntu/fastai/data/fish/test_stg1\n",
      "# of files in dir  /home/ubuntu/fastai/data/fish/test_stg1/ : 0\n",
      "success: 0\n",
      "error: 0\n",
      "count: 0\n",
      "# of files in dir  /home/ubuntu/fastai/data/fish/test/unknown/ : 1000\n"
     ]
    }
   ],
   "source": [
    "#move test files from unzipped directory to test/unknown\n",
    "unzipped_test = DATA_PATH + \"test_stg1/\"\n",
    "os.chdir(unzipped_test)\n",
    "print (\"os.getcwd:\", os.getcwd())\n",
    "files = glob('*.jpg')\n",
    "#print len(files)\n",
    "\n",
    "print (\"# of files in dir \", unzipped_test, \":\", len(dirFileList(unzipped_test)))\n",
    "moveCopyFiles(files, unzipped_test, TEST_PATH+UNKNOWN, True)\n",
    "print (\"# of files in dir \", TEST_PATH+UNKNOWN, \":\", len(dirFileList(TEST_PATH+UNKNOWN)))"
   ]
  },
  {
   "cell_type": "code",
   "execution_count": 46,
   "metadata": {},
   "outputs": [],
   "source": [
    "def splitMoveCopyFiles(fraction, origDir, destDir, moveOrCopy):\n",
    "    #if moveCopy=True then move files\n",
    "    #if moveCopy=False then copy files\n",
    "    #print (categories[0])\n",
    "    fileList = dirFileList(origDir)\n",
    "    shuffle(fileList)\n",
    "    print (\"Number of files in original directory :\", len(fileList))\n",
    "    num_files_to_move = int(len(fileList) * fraction)\n",
    "    print (\"num_files_to_move:\", num_files_to_move)\n",
    "    files = fileList[0:num_files_to_move]\n",
    "    moveCopyFiles(files, origDir, destDir, moveOrCopy)\n"
   ]
  },
  {
   "cell_type": "code",
   "execution_count": 52,
   "metadata": {},
   "outputs": [
    {
     "name": "stdout",
     "output_type": "stream",
     "text": [
      "# of files: 299 0.3 /home/ubuntu/fastai/data/fish/train/OTHER/ /home/ubuntu/fastai/data/fish/valid/OTHER/\n",
      "len(destFileList)==0\n",
      "Number of files in original directory : 299\n",
      "num_files_to_move: 89\n",
      "success: 89\n",
      "error: 0\n",
      "count: 89\n",
      "Number of files in original directory : 210\n",
      "num_files_to_move: 42\n",
      "success: 42\n",
      "error: 0\n",
      "count: 42\n",
      "Number of files in original directory : 89\n",
      "num_files_to_move: 17\n",
      "success: 17\n",
      "error: 0\n",
      "count: 17\n",
      "# of files: 67 0.3 /home/ubuntu/fastai/data/fish/train/LAG/ /home/ubuntu/fastai/data/fish/valid/LAG/\n",
      "len(destFileList)==0\n",
      "Number of files in original directory : 67\n",
      "num_files_to_move: 20\n",
      "success: 20\n",
      "error: 0\n",
      "count: 20\n",
      "Number of files in original directory : 47\n",
      "num_files_to_move: 9\n",
      "success: 9\n",
      "error: 0\n",
      "count: 9\n",
      "Number of files in original directory : 20\n",
      "num_files_to_move: 4\n",
      "success: 4\n",
      "error: 0\n",
      "count: 4\n",
      "# of files: 1719 0.3 /home/ubuntu/fastai/data/fish/train/ALB/ /home/ubuntu/fastai/data/fish/valid/ALB/\n",
      "len(destFileList)==0\n",
      "Number of files in original directory : 1719\n",
      "num_files_to_move: 515\n",
      "success: 515\n",
      "error: 0\n",
      "count: 515\n",
      "Number of files in original directory : 1204\n",
      "num_files_to_move: 240\n",
      "success: 240\n",
      "error: 0\n",
      "count: 240\n",
      "Number of files in original directory : 515\n",
      "num_files_to_move: 103\n",
      "success: 103\n",
      "error: 0\n",
      "count: 103\n",
      "# of files: 465 0.3 /home/ubuntu/fastai/data/fish/train/NoF/ /home/ubuntu/fastai/data/fish/valid/NoF/\n",
      "len(destFileList)==0\n",
      "Number of files in original directory : 465\n",
      "num_files_to_move: 139\n",
      "success: 139\n",
      "error: 0\n",
      "count: 139\n",
      "Number of files in original directory : 326\n",
      "num_files_to_move: 65\n",
      "success: 65\n",
      "error: 0\n",
      "count: 65\n",
      "Number of files in original directory : 139\n",
      "num_files_to_move: 27\n",
      "success: 27\n",
      "error: 0\n",
      "count: 27\n",
      "# of files: 200 0.3 /home/ubuntu/fastai/data/fish/train/BET/ /home/ubuntu/fastai/data/fish/valid/BET/\n",
      "len(destFileList)==0\n",
      "Number of files in original directory : 200\n",
      "num_files_to_move: 60\n",
      "success: 60\n",
      "error: 0\n",
      "count: 60\n",
      "Number of files in original directory : 140\n",
      "num_files_to_move: 28\n",
      "success: 28\n",
      "error: 0\n",
      "count: 28\n",
      "Number of files in original directory : 60\n",
      "num_files_to_move: 12\n",
      "success: 12\n",
      "error: 0\n",
      "count: 12\n",
      "# of files: 176 0.3 /home/ubuntu/fastai/data/fish/train/SHARK/ /home/ubuntu/fastai/data/fish/valid/SHARK/\n",
      "len(destFileList)==0\n",
      "Number of files in original directory : 176\n",
      "num_files_to_move: 52\n",
      "success: 52\n",
      "error: 0\n",
      "count: 52\n",
      "Number of files in original directory : 124\n",
      "num_files_to_move: 24\n",
      "success: 24\n",
      "error: 0\n",
      "count: 24\n",
      "Number of files in original directory : 52\n",
      "num_files_to_move: 10\n",
      "success: 10\n",
      "error: 0\n",
      "count: 10\n",
      "# of files: 117 0.3 /home/ubuntu/fastai/data/fish/train/DOL/ /home/ubuntu/fastai/data/fish/valid/DOL/\n",
      "len(destFileList)==0\n",
      "Number of files in original directory : 117\n",
      "num_files_to_move: 35\n",
      "success: 35\n",
      "error: 0\n",
      "count: 35\n",
      "Number of files in original directory : 82\n",
      "num_files_to_move: 16\n",
      "success: 16\n",
      "error: 0\n",
      "count: 16\n",
      "Number of files in original directory : 35\n",
      "num_files_to_move: 7\n",
      "success: 7\n",
      "error: 0\n",
      "count: 7\n",
      "# of files: 734 0.3 /home/ubuntu/fastai/data/fish/train/YFT/ /home/ubuntu/fastai/data/fish/valid/YFT/\n",
      "len(destFileList)==0\n",
      "Number of files in original directory : 734\n",
      "num_files_to_move: 220\n",
      "success: 220\n",
      "error: 0\n",
      "count: 220\n",
      "Number of files in original directory : 514\n",
      "num_files_to_move: 102\n",
      "success: 102\n",
      "error: 0\n",
      "count: 102\n",
      "Number of files in original directory : 220\n",
      "num_files_to_move: 44\n",
      "success: 44\n",
      "error: 0\n",
      "count: 44\n"
     ]
    }
   ],
   "source": [
    "#get list of files, randomly subset from list, move to valid. repeat for each category in categories list.\n",
    "#NB: test if destination directory is empty first to avoid repeating moves.\n",
    "\n",
    "for category in CATEGORIES:\n",
    "    moveList = dirFileList(TRAIN_PATH+category)\n",
    "    print (\"# of files:\", len(moveList), train_valid_fract, TRAIN_PATH+category, VALID_PATH+category)\n",
    "    #check if destination directory is empty to avoid repeat moves.\n",
    "    destFileList = dirFileList(VALID_PATH+category)\n",
    "    if len(destFileList)==0:\n",
    "        print (\"len(destFileList)==0\")\n",
    "        splitMoveCopyFiles(train_valid_fract, TRAIN_PATH+category, VALID_PATH+category, True)\n",
    "        # now select and _copy_ random files from TRAIN_PATH+category to SAMPLE_TRAIN_PATH+category\n",
    "        splitMoveCopyFiles(sample_fract, TRAIN_PATH+category, SAMPLE_TRAIN_PATH+category, False)\n",
    "        # now select and _copy_ random files from VALID_PATH+category to SAMPLE_VALID_PATH+category\n",
    "        splitMoveCopyFiles(sample_fract, VALID_PATH+category, SAMPLE_VALID_PATH+category, False)\n",
    "    else:\n",
    "        print (\"files already in destination directory, do NOT move.\")\n",
    "\n",
    "    #test destination dir is empty, if not don't copy.\n",
    "    # now select and _copy_ random files from TRAIN_PATH+category to SAMPLE_TRAIN_PATH+category\n",
    "    if len(dirFileList(SAMPLE_TRAIN_PATH+category))==0:\n",
    "        splitMoveCopyFiles(sample_fract, TRAIN_PATH+category, SAMPLE_TRAIN_PATH+category, False)\n",
    "    # now select and _copy_ random files from VALID_PATH+category to SAMPLE_VALID_PATH+category\n",
    "    if len(dirFileList(SAMPLE_VALID_PATH+category))==0:\n",
    "        splitMoveCopyFiles(sample_fract, VALID_PATH+category, SAMPLE_VALID_PATH+category, False)\n"
   ]
  },
  {
   "cell_type": "code",
   "execution_count": 64,
   "metadata": {},
   "outputs": [
    {
     "name": "stdout",
     "output_type": "stream",
     "text": [
      "Number of files in original directory : 1000\n",
      "num_files_to_move: 200\n",
      "success: 200\n",
      "error: 0\n",
      "count: 200\n"
     ]
    }
   ],
   "source": [
    "splitMoveCopyFiles(sample_fract, TEST_PATH+UNKNOWN, SAMPLE_TEST_PATH+UNKNOWN, False)"
   ]
  },
  {
   "cell_type": "code",
   "execution_count": 65,
   "metadata": {},
   "outputs": [
    {
     "name": "stdout",
     "output_type": "stream",
     "text": [
      "('/home/ubuntu/fastai/data/fish/', 7)\n",
      "('/home/ubuntu/fastai/data/fish/models/', 0)\n",
      "('/home/ubuntu/fastai/data/fish/results/', 0)\n",
      "('/home/ubuntu/fastai/data/fish/sample/', 0)\n",
      "('/home/ubuntu/fastai/data/fish/sample/test/', 0)\n",
      "('/home/ubuntu/fastai/data/fish/sample/test/unknown/', 200)\n",
      "('/home/ubuntu/fastai/data/fish/sample/train/', 0)\n",
      "('/home/ubuntu/fastai/data/fish/sample/train/ALB/', 240)\n",
      "('/home/ubuntu/fastai/data/fish/sample/train/BET/', 28)\n",
      "('/home/ubuntu/fastai/data/fish/sample/train/DOL/', 16)\n",
      "('/home/ubuntu/fastai/data/fish/sample/train/LAG/', 9)\n",
      "('/home/ubuntu/fastai/data/fish/sample/train/NoF/', 65)\n",
      "('/home/ubuntu/fastai/data/fish/sample/train/OTHER/', 42)\n",
      "('/home/ubuntu/fastai/data/fish/sample/train/SHARK/', 24)\n",
      "('/home/ubuntu/fastai/data/fish/sample/train/YFT/', 102)\n",
      "('/home/ubuntu/fastai/data/fish/sample/valid/', 0)\n",
      "('/home/ubuntu/fastai/data/fish/sample/valid/ALB/', 103)\n",
      "('/home/ubuntu/fastai/data/fish/sample/valid/BET/', 12)\n",
      "('/home/ubuntu/fastai/data/fish/sample/valid/DOL/', 7)\n",
      "('/home/ubuntu/fastai/data/fish/sample/valid/LAG/', 4)\n",
      "('/home/ubuntu/fastai/data/fish/sample/valid/NoF/', 27)\n",
      "('/home/ubuntu/fastai/data/fish/sample/valid/OTHER/', 17)\n",
      "('/home/ubuntu/fastai/data/fish/sample/valid/SHARK/', 10)\n",
      "('/home/ubuntu/fastai/data/fish/sample/valid/YFT/', 44)\n",
      "('/home/ubuntu/fastai/data/fish/test/', 0)\n",
      "('/home/ubuntu/fastai/data/fish/test/unknown/', 1000)\n",
      "('/home/ubuntu/fastai/data/fish/test_stg1/', 0)\n",
      "\n",
      "listDirsFileCount:/home/ubuntu/fastai/data/fish/test_stg2/\n",
      "[Errno 2] No such file or directory: '/home/ubuntu/fastai/data/fish/test_stg2/'\n",
      "\n",
      "('/home/ubuntu/fastai/data/fish/train/', 1)\n",
      "('/home/ubuntu/fastai/data/fish/train/ALB/', 1204)\n",
      "('/home/ubuntu/fastai/data/fish/train/BET/', 140)\n",
      "('/home/ubuntu/fastai/data/fish/train/DOL/', 82)\n",
      "('/home/ubuntu/fastai/data/fish/train/LAG/', 47)\n",
      "('/home/ubuntu/fastai/data/fish/train/NoF/', 326)\n",
      "('/home/ubuntu/fastai/data/fish/train/OTHER/', 210)\n",
      "('/home/ubuntu/fastai/data/fish/train/SHARK/', 124)\n",
      "('/home/ubuntu/fastai/data/fish/train/YFT/', 514)\n",
      "('/home/ubuntu/fastai/data/fish/valid/', 0)\n",
      "('/home/ubuntu/fastai/data/fish/valid/ALB/', 515)\n",
      "('/home/ubuntu/fastai/data/fish/valid/BET/', 60)\n",
      "('/home/ubuntu/fastai/data/fish/valid/DOL/', 35)\n",
      "('/home/ubuntu/fastai/data/fish/valid/LAG/', 20)\n",
      "('/home/ubuntu/fastai/data/fish/valid/NoF/', 139)\n",
      "('/home/ubuntu/fastai/data/fish/valid/OTHER/', 89)\n",
      "('/home/ubuntu/fastai/data/fish/valid/SHARK/', 52)\n",
      "('/home/ubuntu/fastai/data/fish/valid/YFT/', 220)\n"
     ]
    }
   ],
   "source": [
    "listDirsFileCount(DATA_DIR_LIST)"
   ]
  },
  {
   "cell_type": "code",
   "execution_count": null,
   "metadata": {},
   "outputs": [],
   "source": []
  },
  {
   "cell_type": "code",
   "execution_count": 39,
   "metadata": {},
   "outputs": [
    {
     "name": "stdout",
     "output_type": "stream",
     "text": [
      "/home/ubuntu/fastai/data/fish\n",
      "\u001b[01;34m.\u001b[00m\r\n",
      "├── \u001b[01;34m__MACOSX\u001b[00m\r\n",
      "│   └── \u001b[01;34mtrain\u001b[00m\r\n",
      "├── \u001b[01;34mmodels\u001b[00m\r\n",
      "├── \u001b[01;34mresults\u001b[00m\r\n",
      "├── \u001b[01;34msample\u001b[00m\r\n",
      "│   ├── \u001b[01;34mtest\u001b[00m\r\n",
      "│   │   └── \u001b[01;34munknown\u001b[00m\r\n",
      "│   ├── \u001b[01;34mtrain\u001b[00m\r\n",
      "│   │   ├── \u001b[01;34mALB\u001b[00m\r\n",
      "│   │   ├── \u001b[01;34mBET\u001b[00m\r\n",
      "│   │   ├── \u001b[01;34mDOL\u001b[00m\r\n",
      "│   │   ├── \u001b[01;34mLAG\u001b[00m\r\n",
      "│   │   ├── \u001b[01;34mNoF\u001b[00m\r\n",
      "│   │   ├── \u001b[01;34mOTHER\u001b[00m\r\n",
      "│   │   ├── \u001b[01;34mSHARK\u001b[00m\r\n",
      "│   │   └── \u001b[01;34mYFT\u001b[00m\r\n",
      "│   └── \u001b[01;34mvalid\u001b[00m\r\n",
      "│       ├── \u001b[01;34mALB\u001b[00m\r\n",
      "│       ├── \u001b[01;34mBET\u001b[00m\r\n",
      "│       ├── \u001b[01;34mDOL\u001b[00m\r\n",
      "│       ├── \u001b[01;34mLAG\u001b[00m\r\n",
      "│       ├── \u001b[01;34mNoF\u001b[00m\r\n",
      "│       ├── \u001b[01;34mOTHER\u001b[00m\r\n",
      "│       ├── \u001b[01;34mSHARK\u001b[00m\r\n",
      "│       └── \u001b[01;34mYFT\u001b[00m\r\n",
      "├── \u001b[01;34mtest\u001b[00m\r\n",
      "│   └── \u001b[01;34munknown\u001b[00m\r\n",
      "├── \u001b[01;34mtest_stg1\u001b[00m\r\n",
      "├── \u001b[01;34mtrain\u001b[00m\r\n",
      "│   ├── \u001b[01;34mALB\u001b[00m\r\n",
      "│   ├── \u001b[01;34mBET\u001b[00m\r\n",
      "│   ├── \u001b[01;34mDOL\u001b[00m\r\n",
      "│   ├── \u001b[01;34mLAG\u001b[00m\r\n",
      "│   ├── \u001b[01;34mNoF\u001b[00m\r\n",
      "│   ├── \u001b[01;34mOTHER\u001b[00m\r\n",
      "│   ├── \u001b[01;34mSHARK\u001b[00m\r\n",
      "│   └── \u001b[01;34mYFT\u001b[00m\r\n",
      "└── \u001b[01;34mvalid\u001b[00m\r\n",
      "    ├── \u001b[01;34mALB\u001b[00m\r\n",
      "    ├── \u001b[01;34mBET\u001b[00m\r\n",
      "    ├── \u001b[01;34mDOL\u001b[00m\r\n",
      "    ├── \u001b[01;34mLAG\u001b[00m\r\n",
      "    ├── \u001b[01;34mNoF\u001b[00m\r\n",
      "    ├── \u001b[01;34mOTHER\u001b[00m\r\n",
      "    ├── \u001b[01;34mSHARK\u001b[00m\r\n",
      "    └── \u001b[01;34mYFT\u001b[00m\r\n",
      "\r\n",
      "46 directories\r\n"
     ]
    }
   ],
   "source": [
    "os.chdir(DATA_PATH)\n",
    "print (os.getcwd())\n",
    "!tree -d"
   ]
  },
  {
   "cell_type": "code",
   "execution_count": 86,
   "metadata": {},
   "outputs": [],
   "source": [
    "def showLayersInfo(model):\n",
    "    print (\"Number of layers : \", len(model.layers))\n",
    "    count = 0\n",
    "    for layer in model.layers:\n",
    "        print (count, type(layer), \", trainable:\", layer.trainable)\n",
    "        print (\"input:\", layer.input_shape, \", output:\",layer.output_shape, \"\\n\")\n",
    "        count +=1"
   ]
  },
  {
   "cell_type": "code",
   "execution_count": 56,
   "metadata": {},
   "outputs": [
    {
     "name": "stdout",
     "output_type": "stream",
     "text": [
      "WORKING_TRAIN: /home/ubuntu/fastai/data/fish/sample/train/\n",
      "WORKING_VALID: /home/ubuntu/fastai/data/fish/sample/valid/\n"
     ]
    }
   ],
   "source": [
    "print (\"WORKING_TRAIN:\", WORKING_TRAIN)\n",
    "print (\"WORKING_VALID:\", WORKING_VALID)"
   ]
  },
  {
   "cell_type": "code",
   "execution_count": 60,
   "metadata": {},
   "outputs": [
    {
     "name": "stdout",
     "output_type": "stream",
     "text": [
      "Found 526 images belonging to 8 classes.\n",
      "Found 224 images belonging to 8 classes.\n",
      "batches: <class 'keras.preprocessing.image.DirectoryIterator'>\n",
      "val_batches: <class 'keras.preprocessing.image.DirectoryIterator'>\n"
     ]
    }
   ],
   "source": [
    "\n",
    "batches = get_batches(WORKING_TRAIN, batch_size=batch_size)\n",
    "val_batches = get_batches(WORKING_VALID, batch_size=batch_size*2, shuffle=False)\n",
    "print (\"batches:\", type(batches))\n",
    "print (\"val_batches:\", type(val_batches))"
   ]
  },
  {
   "cell_type": "code",
   "execution_count": 66,
   "metadata": {},
   "outputs": [
    {
     "name": "stdout",
     "output_type": "stream",
     "text": [
      "WORKING_DATA: /home/ubuntu/fastai/data/fish/sample/\n",
      "Found 526 images belonging to 8 classes.\n",
      "Found 224 images belonging to 8 classes.\n",
      "Found 200 images belonging to 1 classes.\n",
      "val_classes: <type 'numpy.ndarray'> (224,)\n",
      "trn_classes: <type 'numpy.ndarray'> (526,)\n",
      "val_labels: <type 'numpy.ndarray'> (224, 8)\n",
      "val_filenames: <type 'list'> 224 ALB/img_06213.jpg\n",
      "filenames: <type 'list'> 526 ALB/img_00041.jpg\n",
      "test_filenames: <type 'list'> 200 unknown/img_07417.jpg\n"
     ]
    }
   ],
   "source": [
    "print (\"WORKING_DATA:\", WORKING_DATA)\n",
    "(val_classes, trn_classes, val_labels, trn_labels, \n",
    "    val_filenames, filenames, test_filenames) = get_classes(WORKING_DATA)\n",
    "print (\"val_classes:\", type(val_classes), val_classes.shape)\n",
    "print (\"trn_classes:\", type(trn_classes), trn_classes.shape)\n",
    "print (\"val_labels:\", type(val_labels), val_labels.shape)\n",
    "print (\"val_filenames:\", type(val_filenames), len(val_filenames), val_filenames[0])\n",
    "print (\"filenames:\", type(filenames), len(filenames), filenames[0])\n",
    "print (\"test_filenames:\", type(test_filenames), len(test_filenames), test_filenames[0])"
   ]
  },
  {
   "cell_type": "markdown",
   "metadata": {},
   "source": [
    "Sometimes it's helpful to have just the filenames, without the path."
   ]
  },
  {
   "cell_type": "code",
   "execution_count": 67,
   "metadata": {},
   "outputs": [],
   "source": [
    "raw_filenames = [f.split('/')[-1] for f in filenames]\n",
    "raw_test_filenames = [f.split('/')[-1] for f in test_filenames]\n",
    "raw_val_filenames = [f.split('/')[-1] for f in val_filenames]"
   ]
  },
  {
   "cell_type": "code",
   "execution_count": 68,
   "metadata": {},
   "outputs": [
    {
     "name": "stdout",
     "output_type": "stream",
     "text": [
      "raw_filenames: img_00041.jpg\n",
      "raw_test_filenames: img_07417.jpg\n",
      "raw_val_filenames: img_06213.jpg\n"
     ]
    }
   ],
   "source": [
    "print (\"raw_filenames:\", raw_filenames[0])\n",
    "print (\"raw_test_filenames:\", raw_test_filenames[0])\n",
    "print (\"raw_val_filenames:\", raw_val_filenames[0])"
   ]
  },
  {
   "cell_type": "markdown",
   "metadata": {},
   "source": [
    "## Basic VGG"
   ]
  },
  {
   "cell_type": "markdown",
   "metadata": {},
   "source": [
    "We start with our usual VGG approach.  We will be using VGG with batch normalization.  We explained how to add batch normalization to VGG in the [imagenet_batchnorm notebook](https://github.com/fastai/courses/blob/master/deeplearning1/nbs/imagenet_batchnorm.ipynb).  VGG with batch normalization is implemented in [vgg_bn.py](https://github.com/fastai/courses/blob/master/deeplearning1/nbs/vgg16bn.py), and there is a version of ``vgg_ft`` (our fine tuning function) with batch norm called ``vgg_ft_bn`` in [utils.py](https://github.com/fastai/courses/blob/master/deeplearning1/nbs/utils.py)."
   ]
  },
  {
   "cell_type": "markdown",
   "metadata": {},
   "source": [
    "### Initial model"
   ]
  },
  {
   "cell_type": "markdown",
   "metadata": {},
   "source": [
    "First we create a simple fine-tuned VGG model to be our starting point."
   ]
  },
  {
   "cell_type": "code",
   "execution_count": 77,
   "metadata": {},
   "outputs": [
    {
     "name": "stdout",
     "output_type": "stream",
     "text": [
      "8\n"
     ]
    }
   ],
   "source": [
    "print (len(CATEGORIES))"
   ]
  },
  {
   "cell_type": "code",
   "execution_count": 78,
   "metadata": {},
   "outputs": [],
   "source": [
    "from vgg16bn import Vgg16BN\n",
    "model = vgg_ft_bn(8)\n",
    "#NB: creates Vgg16BN stack of layers, pops last layer, makes all layers non trainable.\n",
    "#adds Dense(num, activation='softmax') where num=8=number of categories"
   ]
  },
  {
   "cell_type": "code",
   "execution_count": 71,
   "metadata": {},
   "outputs": [
    {
     "name": "stdout",
     "output_type": "stream",
     "text": [
      "/home/ubuntu/fastai/data/fish/\n"
     ]
    }
   ],
   "source": [
    "print (path)"
   ]
  },
  {
   "cell_type": "code",
   "execution_count": 72,
   "metadata": {
    "scrolled": true
   },
   "outputs": [
    {
     "name": "stdout",
     "output_type": "stream",
     "text": [
      "WORKING_TRAIN: /home/ubuntu/fastai/data/fish/sample/train/\n",
      "WORKING_VALID: /home/ubuntu/fastai/data/fish/sample/valid/\n",
      "Found 526 images belonging to 8 classes.\n",
      "Found 224 images belonging to 8 classes.\n"
     ]
    }
   ],
   "source": [
    "print (\"WORKING_TRAIN:\", WORKING_TRAIN)\n",
    "print (\"WORKING_VALID:\", WORKING_VALID)\n",
    "trn = get_data(WORKING_TRAIN)\n",
    "val = get_data(WORKING_VALID)"
   ]
  },
  {
   "cell_type": "code",
   "execution_count": 79,
   "metadata": {},
   "outputs": [
    {
     "name": "stdout",
     "output_type": "stream",
     "text": [
      "Found 200 images belonging to 1 classes.\n"
     ]
    }
   ],
   "source": [
    "test = get_data(WORKING_TEST)"
   ]
  },
  {
   "cell_type": "code",
   "execution_count": 75,
   "metadata": {},
   "outputs": [
    {
     "name": "stdout",
     "output_type": "stream",
     "text": [
      "trn: <type 'numpy.ndarray'> (526, 3, 224, 224)\n",
      "val: <type 'numpy.ndarray'> (224, 3, 224, 224)\n",
      "test: <type 'numpy.ndarray'> (200, 3, 224, 224)\n"
     ]
    }
   ],
   "source": [
    "print (\"trn:\", type(trn), trn.shape)\n",
    "print (\"val:\", type(val), val.shape)\n",
    "print (\"test:\", type(test), test.shape)"
   ]
  },
  {
   "cell_type": "code",
   "execution_count": null,
   "metadata": {},
   "outputs": [],
   "source": [
    "#save_array(MODEL_PATH+'trn.dat', trn)\n",
    "#save_array(MODEL_PATH+'val.dat', val)"
   ]
  },
  {
   "cell_type": "code",
   "execution_count": null,
   "metadata": {},
   "outputs": [],
   "source": [
    "#save_array(MODEL_PATH+'test.dat', test)"
   ]
  },
  {
   "cell_type": "code",
   "execution_count": null,
   "metadata": {},
   "outputs": [],
   "source": [
    "#trn = load_array(MODEL_PATH+'trn.dat')\n",
    "#val = load_array(MODEL_PATH+'val.dat')"
   ]
  },
  {
   "cell_type": "code",
   "execution_count": null,
   "metadata": {},
   "outputs": [],
   "source": [
    "#test = load_array(MODEL_PATH+'test.dat')"
   ]
  },
  {
   "cell_type": "code",
   "execution_count": 185,
   "metadata": {},
   "outputs": [
    {
     "name": "stdout",
     "output_type": "stream",
     "text": [
      "<class 'keras.preprocessing.image.ImageDataGenerator'>\n"
     ]
    }
   ],
   "source": [
    "gen = image.ImageDataGenerator()\n",
    "print (type(gen))\n",
    "\n",
    "#why is this created but not used???"
   ]
  },
  {
   "cell_type": "code",
   "execution_count": 186,
   "metadata": {},
   "outputs": [],
   "source": [
    "model.compile(optimizer=Adam(1e-3), loss='categorical_crossentropy', metrics=['accuracy'])"
   ]
  },
  {
   "cell_type": "code",
   "execution_count": 187,
   "metadata": {
    "scrolled": true
   },
   "outputs": [
    {
     "ename": "ValueError",
     "evalue": "Error when checking model input: expected input_5 to have shape (None, 512, 14, 14) but got array with shape (526, 3, 360, 640)",
     "output_type": "error",
     "traceback": [
      "\u001b[0;31m---------------------------------------------------------------------------\u001b[0m",
      "\u001b[0;31mValueError\u001b[0m                                Traceback (most recent call last)",
      "\u001b[0;32m<ipython-input-187-7dd40351401a>\u001b[0m in \u001b[0;36m<module>\u001b[0;34m()\u001b[0m\n\u001b[0;32m----> 1\u001b[0;31m \u001b[0mmodel\u001b[0m\u001b[0;34m.\u001b[0m\u001b[0mfit\u001b[0m\u001b[0;34m(\u001b[0m\u001b[0mtrn\u001b[0m\u001b[0;34m,\u001b[0m \u001b[0mtrn_labels\u001b[0m\u001b[0;34m,\u001b[0m \u001b[0mbatch_size\u001b[0m\u001b[0;34m=\u001b[0m\u001b[0mbatch_size\u001b[0m\u001b[0;34m,\u001b[0m \u001b[0mnb_epoch\u001b[0m\u001b[0;34m=\u001b[0m\u001b[0;36m3\u001b[0m\u001b[0;34m,\u001b[0m \u001b[0mvalidation_data\u001b[0m\u001b[0;34m=\u001b[0m\u001b[0;34m(\u001b[0m\u001b[0mval\u001b[0m\u001b[0;34m,\u001b[0m \u001b[0mval_labels\u001b[0m\u001b[0;34m)\u001b[0m\u001b[0;34m)\u001b[0m\u001b[0;34m\u001b[0m\u001b[0m\n\u001b[0m",
      "\u001b[0;32m/usr/local/lib/python2.7/dist-packages/keras/engine/training.pyc\u001b[0m in \u001b[0;36mfit\u001b[0;34m(self, x, y, batch_size, nb_epoch, verbose, callbacks, validation_split, validation_data, shuffle, class_weight, sample_weight, initial_epoch)\u001b[0m\n\u001b[1;32m   1114\u001b[0m             \u001b[0mclass_weight\u001b[0m\u001b[0;34m=\u001b[0m\u001b[0mclass_weight\u001b[0m\u001b[0;34m,\u001b[0m\u001b[0;34m\u001b[0m\u001b[0m\n\u001b[1;32m   1115\u001b[0m             \u001b[0mcheck_batch_axis\u001b[0m\u001b[0;34m=\u001b[0m\u001b[0mFalse\u001b[0m\u001b[0;34m,\u001b[0m\u001b[0;34m\u001b[0m\u001b[0m\n\u001b[0;32m-> 1116\u001b[0;31m             batch_size=batch_size)\n\u001b[0m\u001b[1;32m   1117\u001b[0m         \u001b[0;31m# prepare validation data\u001b[0m\u001b[0;34m\u001b[0m\u001b[0;34m\u001b[0m\u001b[0m\n\u001b[1;32m   1118\u001b[0m         \u001b[0;32mif\u001b[0m \u001b[0mvalidation_data\u001b[0m\u001b[0;34m:\u001b[0m\u001b[0;34m\u001b[0m\u001b[0m\n",
      "\u001b[0;32m/usr/local/lib/python2.7/dist-packages/keras/engine/training.pyc\u001b[0m in \u001b[0;36m_standardize_user_data\u001b[0;34m(self, x, y, sample_weight, class_weight, check_batch_axis, batch_size)\u001b[0m\n\u001b[1;32m   1027\u001b[0m                                    \u001b[0mself\u001b[0m\u001b[0;34m.\u001b[0m\u001b[0minternal_input_shapes\u001b[0m\u001b[0;34m,\u001b[0m\u001b[0;34m\u001b[0m\u001b[0m\n\u001b[1;32m   1028\u001b[0m                                    \u001b[0mcheck_batch_axis\u001b[0m\u001b[0;34m=\u001b[0m\u001b[0mFalse\u001b[0m\u001b[0;34m,\u001b[0m\u001b[0;34m\u001b[0m\u001b[0m\n\u001b[0;32m-> 1029\u001b[0;31m                                    exception_prefix='model input')\n\u001b[0m\u001b[1;32m   1030\u001b[0m         y = standardize_input_data(y, self.output_names,\n\u001b[1;32m   1031\u001b[0m                                    \u001b[0moutput_shapes\u001b[0m\u001b[0;34m,\u001b[0m\u001b[0;34m\u001b[0m\u001b[0m\n",
      "\u001b[0;32m/usr/local/lib/python2.7/dist-packages/keras/engine/training.pyc\u001b[0m in \u001b[0;36mstandardize_input_data\u001b[0;34m(data, names, shapes, check_batch_axis, exception_prefix)\u001b[0m\n\u001b[1;32m    122\u001b[0m                             \u001b[0;34m' to have shape '\u001b[0m \u001b[0;34m+\u001b[0m \u001b[0mstr\u001b[0m\u001b[0;34m(\u001b[0m\u001b[0mshapes\u001b[0m\u001b[0;34m[\u001b[0m\u001b[0mi\u001b[0m\u001b[0;34m]\u001b[0m\u001b[0;34m)\u001b[0m \u001b[0;34m+\u001b[0m\u001b[0;34m\u001b[0m\u001b[0m\n\u001b[1;32m    123\u001b[0m                             \u001b[0;34m' but got array with shape '\u001b[0m \u001b[0;34m+\u001b[0m\u001b[0;34m\u001b[0m\u001b[0m\n\u001b[0;32m--> 124\u001b[0;31m                             str(array.shape))\n\u001b[0m\u001b[1;32m    125\u001b[0m     \u001b[0;32mreturn\u001b[0m \u001b[0marrays\u001b[0m\u001b[0;34m\u001b[0m\u001b[0m\n\u001b[1;32m    126\u001b[0m \u001b[0;34m\u001b[0m\u001b[0m\n",
      "\u001b[0;31mValueError\u001b[0m: Error when checking model input: expected input_5 to have shape (None, 512, 14, 14) but got array with shape (526, 3, 360, 640)"
     ]
    }
   ],
   "source": [
    "model.fit(trn, trn_labels, batch_size=batch_size, nb_epoch=3, validation_data=(val, val_labels))"
   ]
  },
  {
   "cell_type": "code",
   "execution_count": null,
   "metadata": {},
   "outputs": [],
   "source": [
    "model.save_weights(path+'results/ft1.h5')"
   ]
  },
  {
   "cell_type": "markdown",
   "metadata": {},
   "source": [
    "### Precompute convolutional output"
   ]
  },
  {
   "cell_type": "markdown",
   "metadata": {},
   "source": [
    "We pre-compute the output of the last convolution layer of VGG, since we're unlikely to need to fine-tune those layers. (All following analysis will be done on just the pre-computed convolutional features.)"
   ]
  },
  {
   "cell_type": "code",
   "execution_count": null,
   "metadata": {},
   "outputs": [],
   "source": [
    "model.load_weights(path+'results/ft1.h5')"
   ]
  },
  {
   "cell_type": "code",
   "execution_count": 82,
   "metadata": {},
   "outputs": [],
   "source": [
    "conv_layers,fc_layers = split_at(model, Convolution2D)"
   ]
  },
  {
   "cell_type": "code",
   "execution_count": 90,
   "metadata": {},
   "outputs": [
    {
     "name": "stdout",
     "output_type": "stream",
     "text": [
      "Number of layers :  9\n",
      "0 <class 'keras.layers.pooling.MaxPooling2D'> , trainable: False\n",
      "input: (None, 512, 14, 14) , output: (None, 512, 7, 7) \n",
      "\n",
      "1 <class 'keras.layers.core.Flatten'> , trainable: False\n",
      "input: (None, 512, 7, 7) , output: (None, 25088) \n",
      "\n",
      "2 <class 'keras.layers.core.Dense'> , trainable: False\n",
      "input: (None, 25088) , output: (None, 4096) \n",
      "\n",
      "3 <class 'keras.layers.normalization.BatchNormalization'> , trainable: False\n",
      "input: (None, 4096) , output: (None, 4096) \n",
      "\n",
      "4 <class 'keras.layers.core.Dropout'> , trainable: False\n",
      "input: (None, 4096) , output: (None, 4096) \n",
      "\n",
      "5 <class 'keras.layers.core.Dense'> , trainable: False\n",
      "input: (None, 4096) , output: (None, 4096) \n",
      "\n",
      "6 <class 'keras.layers.normalization.BatchNormalization'> , trainable: False\n",
      "input: (None, 4096) , output: (None, 4096) \n",
      "\n",
      "7 <class 'keras.layers.core.Dropout'> , trainable: False\n",
      "input: (None, 4096) , output: (None, 4096) \n",
      "\n",
      "8 <class 'keras.layers.core.Dense'> , trainable: True\n",
      "input: (None, 4096) , output: (None, 8) \n",
      "\n"
     ]
    }
   ],
   "source": [
    "showLayersInfo(Sequential(fc_layers))\n",
    "#9 layers, only last layers is trainable"
   ]
  },
  {
   "cell_type": "code",
   "execution_count": 83,
   "metadata": {},
   "outputs": [],
   "source": [
    "conv_model = Sequential(conv_layers)"
   ]
  },
  {
   "cell_type": "code",
   "execution_count": 87,
   "metadata": {},
   "outputs": [
    {
     "name": "stdout",
     "output_type": "stream",
     "text": [
      "Number of layers :  31\n",
      "0 <class 'keras.layers.core.Lambda'> , trainable: False\n",
      "input: (None, 3, 224, 224) , output: (None, 3, 224, 224) \n",
      "\n",
      "1 <class 'keras.layers.convolutional.ZeroPadding2D'> , trainable: False\n",
      "input: (None, 3, 224, 224) , output: (None, 3, 226, 226) \n",
      "\n",
      "2 <class 'keras.layers.convolutional.Convolution2D'> , trainable: False\n",
      "input: (None, 3, 226, 226) , output: (None, 64, 224, 224) \n",
      "\n",
      "3 <class 'keras.layers.convolutional.ZeroPadding2D'> , trainable: False\n",
      "input: (None, 64, 224, 224) , output: (None, 64, 226, 226) \n",
      "\n",
      "4 <class 'keras.layers.convolutional.Convolution2D'> , trainable: False\n",
      "input: (None, 64, 226, 226) , output: (None, 64, 224, 224) \n",
      "\n",
      "5 <class 'keras.layers.pooling.MaxPooling2D'> , trainable: False\n",
      "input: (None, 64, 224, 224) , output: (None, 64, 112, 112) \n",
      "\n",
      "6 <class 'keras.layers.convolutional.ZeroPadding2D'> , trainable: False\n",
      "input: (None, 64, 112, 112) , output: (None, 64, 114, 114) \n",
      "\n",
      "7 <class 'keras.layers.convolutional.Convolution2D'> , trainable: False\n",
      "input: (None, 64, 114, 114) , output: (None, 128, 112, 112) \n",
      "\n",
      "8 <class 'keras.layers.convolutional.ZeroPadding2D'> , trainable: False\n",
      "input: (None, 128, 112, 112) , output: (None, 128, 114, 114) \n",
      "\n",
      "9 <class 'keras.layers.convolutional.Convolution2D'> , trainable: False\n",
      "input: (None, 128, 114, 114) , output: (None, 128, 112, 112) \n",
      "\n",
      "10 <class 'keras.layers.pooling.MaxPooling2D'> , trainable: False\n",
      "input: (None, 128, 112, 112) , output: (None, 128, 56, 56) \n",
      "\n",
      "11 <class 'keras.layers.convolutional.ZeroPadding2D'> , trainable: False\n",
      "input: (None, 128, 56, 56) , output: (None, 128, 58, 58) \n",
      "\n",
      "12 <class 'keras.layers.convolutional.Convolution2D'> , trainable: False\n",
      "input: (None, 128, 58, 58) , output: (None, 256, 56, 56) \n",
      "\n",
      "13 <class 'keras.layers.convolutional.ZeroPadding2D'> , trainable: False\n",
      "input: (None, 256, 56, 56) , output: (None, 256, 58, 58) \n",
      "\n",
      "14 <class 'keras.layers.convolutional.Convolution2D'> , trainable: False\n",
      "input: (None, 256, 58, 58) , output: (None, 256, 56, 56) \n",
      "\n",
      "15 <class 'keras.layers.convolutional.ZeroPadding2D'> , trainable: False\n",
      "input: (None, 256, 56, 56) , output: (None, 256, 58, 58) \n",
      "\n",
      "16 <class 'keras.layers.convolutional.Convolution2D'> , trainable: False\n",
      "input: (None, 256, 58, 58) , output: (None, 256, 56, 56) \n",
      "\n",
      "17 <class 'keras.layers.pooling.MaxPooling2D'> , trainable: False\n",
      "input: (None, 256, 56, 56) , output: (None, 256, 28, 28) \n",
      "\n",
      "18 <class 'keras.layers.convolutional.ZeroPadding2D'> , trainable: False\n",
      "input: (None, 256, 28, 28) , output: (None, 256, 30, 30) \n",
      "\n",
      "19 <class 'keras.layers.convolutional.Convolution2D'> , trainable: False\n",
      "input: (None, 256, 30, 30) , output: (None, 512, 28, 28) \n",
      "\n",
      "20 <class 'keras.layers.convolutional.ZeroPadding2D'> , trainable: False\n",
      "input: (None, 512, 28, 28) , output: (None, 512, 30, 30) \n",
      "\n",
      "21 <class 'keras.layers.convolutional.Convolution2D'> , trainable: False\n",
      "input: (None, 512, 30, 30) , output: (None, 512, 28, 28) \n",
      "\n",
      "22 <class 'keras.layers.convolutional.ZeroPadding2D'> , trainable: False\n",
      "input: (None, 512, 28, 28) , output: (None, 512, 30, 30) \n",
      "\n",
      "23 <class 'keras.layers.convolutional.Convolution2D'> , trainable: False\n",
      "input: (None, 512, 30, 30) , output: (None, 512, 28, 28) \n",
      "\n",
      "24 <class 'keras.layers.pooling.MaxPooling2D'> , trainable: False\n",
      "input: (None, 512, 28, 28) , output: (None, 512, 14, 14) \n",
      "\n",
      "25 <class 'keras.layers.convolutional.ZeroPadding2D'> , trainable: False\n",
      "input: (None, 512, 14, 14) , output: (None, 512, 16, 16) \n",
      "\n",
      "26 <class 'keras.layers.convolutional.Convolution2D'> , trainable: False\n",
      "input: (None, 512, 16, 16) , output: (None, 512, 14, 14) \n",
      "\n",
      "27 <class 'keras.layers.convolutional.ZeroPadding2D'> , trainable: False\n",
      "input: (None, 512, 14, 14) , output: (None, 512, 16, 16) \n",
      "\n",
      "28 <class 'keras.layers.convolutional.Convolution2D'> , trainable: False\n",
      "input: (None, 512, 16, 16) , output: (None, 512, 14, 14) \n",
      "\n",
      "29 <class 'keras.layers.convolutional.ZeroPadding2D'> , trainable: False\n",
      "input: (None, 512, 14, 14) , output: (None, 512, 16, 16) \n",
      "\n",
      "30 <class 'keras.layers.convolutional.Convolution2D'> , trainable: False\n",
      "input: (None, 512, 16, 16) , output: (None, 512, 14, 14) \n",
      "\n"
     ]
    }
   ],
   "source": [
    "showLayersInfo(conv_model)\n",
    "#31 layers, all non trainable"
   ]
  },
  {
   "cell_type": "code",
   "execution_count": 85,
   "metadata": {},
   "outputs": [
    {
     "name": "stdout",
     "output_type": "stream",
     "text": [
      "____________________________________________________________________________________________________\n",
      "Layer (type)                     Output Shape          Param #     Connected to                     \n",
      "====================================================================================================\n",
      "lambda_2 (Lambda)                (None, 3, 224, 224)   0           lambda_input_2[0][0]             \n",
      "____________________________________________________________________________________________________\n",
      "zeropadding2d_14 (ZeroPadding2D) (None, 3, 226, 226)   0           lambda_2[0][0]                   \n",
      "____________________________________________________________________________________________________\n",
      "convolution2d_14 (Convolution2D) (None, 64, 224, 224)  1792        zeropadding2d_14[1][0]           \n",
      "____________________________________________________________________________________________________\n",
      "zeropadding2d_15 (ZeroPadding2D) (None, 64, 226, 226)  0           convolution2d_14[1][0]           \n",
      "____________________________________________________________________________________________________\n",
      "convolution2d_15 (Convolution2D) (None, 64, 224, 224)  36928       zeropadding2d_15[1][0]           \n",
      "____________________________________________________________________________________________________\n",
      "maxpooling2d_6 (MaxPooling2D)    (None, 64, 112, 112)  0           convolution2d_15[1][0]           \n",
      "____________________________________________________________________________________________________\n",
      "zeropadding2d_16 (ZeroPadding2D) (None, 64, 114, 114)  0           maxpooling2d_6[1][0]             \n",
      "____________________________________________________________________________________________________\n",
      "convolution2d_16 (Convolution2D) (None, 128, 112, 112) 73856       zeropadding2d_16[1][0]           \n",
      "____________________________________________________________________________________________________\n",
      "zeropadding2d_17 (ZeroPadding2D) (None, 128, 114, 114) 0           convolution2d_16[1][0]           \n",
      "____________________________________________________________________________________________________\n",
      "convolution2d_17 (Convolution2D) (None, 128, 112, 112) 147584      zeropadding2d_17[1][0]           \n",
      "____________________________________________________________________________________________________\n",
      "maxpooling2d_7 (MaxPooling2D)    (None, 128, 56, 56)   0           convolution2d_17[1][0]           \n",
      "____________________________________________________________________________________________________\n",
      "zeropadding2d_18 (ZeroPadding2D) (None, 128, 58, 58)   0           maxpooling2d_7[1][0]             \n",
      "____________________________________________________________________________________________________\n",
      "convolution2d_18 (Convolution2D) (None, 256, 56, 56)   295168      zeropadding2d_18[1][0]           \n",
      "____________________________________________________________________________________________________\n",
      "zeropadding2d_19 (ZeroPadding2D) (None, 256, 58, 58)   0           convolution2d_18[1][0]           \n",
      "____________________________________________________________________________________________________\n",
      "convolution2d_19 (Convolution2D) (None, 256, 56, 56)   590080      zeropadding2d_19[1][0]           \n",
      "____________________________________________________________________________________________________\n",
      "zeropadding2d_20 (ZeroPadding2D) (None, 256, 58, 58)   0           convolution2d_19[1][0]           \n",
      "____________________________________________________________________________________________________\n",
      "convolution2d_20 (Convolution2D) (None, 256, 56, 56)   590080      zeropadding2d_20[1][0]           \n",
      "____________________________________________________________________________________________________\n",
      "maxpooling2d_8 (MaxPooling2D)    (None, 256, 28, 28)   0           convolution2d_20[1][0]           \n",
      "____________________________________________________________________________________________________\n",
      "zeropadding2d_21 (ZeroPadding2D) (None, 256, 30, 30)   0           maxpooling2d_8[1][0]             \n",
      "____________________________________________________________________________________________________\n",
      "convolution2d_21 (Convolution2D) (None, 512, 28, 28)   1180160     zeropadding2d_21[1][0]           \n",
      "____________________________________________________________________________________________________\n",
      "zeropadding2d_22 (ZeroPadding2D) (None, 512, 30, 30)   0           convolution2d_21[1][0]           \n",
      "____________________________________________________________________________________________________\n",
      "convolution2d_22 (Convolution2D) (None, 512, 28, 28)   2359808     zeropadding2d_22[1][0]           \n",
      "____________________________________________________________________________________________________\n",
      "zeropadding2d_23 (ZeroPadding2D) (None, 512, 30, 30)   0           convolution2d_22[1][0]           \n",
      "____________________________________________________________________________________________________\n",
      "convolution2d_23 (Convolution2D) (None, 512, 28, 28)   2359808     zeropadding2d_23[1][0]           \n",
      "____________________________________________________________________________________________________\n",
      "maxpooling2d_9 (MaxPooling2D)    (None, 512, 14, 14)   0           convolution2d_23[1][0]           \n",
      "____________________________________________________________________________________________________\n",
      "zeropadding2d_24 (ZeroPadding2D) (None, 512, 16, 16)   0           maxpooling2d_9[1][0]             \n",
      "____________________________________________________________________________________________________\n",
      "convolution2d_24 (Convolution2D) (None, 512, 14, 14)   2359808     zeropadding2d_24[1][0]           \n",
      "____________________________________________________________________________________________________\n",
      "zeropadding2d_25 (ZeroPadding2D) (None, 512, 16, 16)   0           convolution2d_24[1][0]           \n",
      "____________________________________________________________________________________________________\n",
      "convolution2d_25 (Convolution2D) (None, 512, 14, 14)   2359808     zeropadding2d_25[1][0]           \n",
      "____________________________________________________________________________________________________\n",
      "zeropadding2d_26 (ZeroPadding2D) (None, 512, 16, 16)   0           convolution2d_25[1][0]           \n",
      "____________________________________________________________________________________________________\n",
      "convolution2d_26 (Convolution2D) (None, 512, 14, 14)   2359808     zeropadding2d_26[1][0]           \n",
      "====================================================================================================\n",
      "Total params: 14,714,688\n",
      "Trainable params: 0\n",
      "Non-trainable params: 14,714,688\n",
      "____________________________________________________________________________________________________\n"
     ]
    }
   ],
   "source": [
    "conv_model.summary()"
   ]
  },
  {
   "cell_type": "code",
   "execution_count": 97,
   "metadata": {},
   "outputs": [
    {
     "name": "stdout",
     "output_type": "stream",
     "text": [
      "trn: <type 'numpy.ndarray'> (526, 3, 224, 224)\n",
      "val: <type 'numpy.ndarray'> (224, 3, 224, 224)\n",
      "test: <type 'numpy.ndarray'> (200, 3, 224, 224)\n"
     ]
    }
   ],
   "source": [
    "#reminder of the shape of input numpy arrays.\n",
    "print (\"trn:\", type(trn), trn.shape)\n",
    "print (\"val:\", type(val), val.shape)\n",
    "print (\"test:\", type(test), test.shape)"
   ]
  },
  {
   "cell_type": "code",
   "execution_count": 84,
   "metadata": {},
   "outputs": [],
   "source": [
    "conv_feat = conv_model.predict(trn)\n",
    "conv_val_feat = conv_model.predict(val)"
   ]
  },
  {
   "cell_type": "code",
   "execution_count": 93,
   "metadata": {},
   "outputs": [
    {
     "name": "stdout",
     "output_type": "stream",
     "text": [
      "conv_feat: <type 'numpy.ndarray'> (526, 512, 14, 14)\n",
      "conv_val_feat: <type 'numpy.ndarray'> (224, 512, 14, 14)\n"
     ]
    }
   ],
   "source": [
    "print (\"conv_feat:\", type(conv_feat), conv_feat.shape)\n",
    "print (\"conv_val_feat:\", type(conv_val_feat), conv_val_feat.shape)\n",
    "#nb: output shape of last layer in conv_model = (None, 512, 14, 14) "
   ]
  },
  {
   "cell_type": "code",
   "execution_count": 94,
   "metadata": {},
   "outputs": [
    {
     "name": "stdout",
     "output_type": "stream",
     "text": [
      "conv_test_feat: <type 'numpy.ndarray'> (200, 512, 14, 14)\n"
     ]
    }
   ],
   "source": [
    "conv_test_feat = conv_model.predict(test)\n",
    "print (\"conv_test_feat:\", type(conv_test_feat), conv_test_feat.shape)\n"
   ]
  },
  {
   "cell_type": "code",
   "execution_count": null,
   "metadata": {},
   "outputs": [],
   "source": [
    "#save_array(path+'results/conv_val_feat.dat', conv_val_feat)\n",
    "#save_array(path+'results/conv_feat.dat', conv_feat)"
   ]
  },
  {
   "cell_type": "code",
   "execution_count": null,
   "metadata": {},
   "outputs": [],
   "source": [
    "#save_array(path+'results/conv_test_feat.dat', conv_test_feat)"
   ]
  },
  {
   "cell_type": "code",
   "execution_count": null,
   "metadata": {},
   "outputs": [],
   "source": [
    "#conv_feat = load_array(path+'results/conv_feat.dat')\n",
    "#conv_val_feat = load_array(path+'results/conv_val_feat.dat')"
   ]
  },
  {
   "cell_type": "code",
   "execution_count": 95,
   "metadata": {},
   "outputs": [],
   "source": [
    "#conv_test_feat = load_array(path+'results/conv_test_feat.dat')"
   ]
  },
  {
   "cell_type": "code",
   "execution_count": 96,
   "metadata": {},
   "outputs": [
    {
     "data": {
      "text/plain": [
       "(224, 512, 14, 14)"
      ]
     },
     "execution_count": 96,
     "metadata": {},
     "output_type": "execute_result"
    }
   ],
   "source": [
    "conv_val_feat.shape"
   ]
  },
  {
   "cell_type": "code",
   "execution_count": null,
   "metadata": {},
   "outputs": [],
   "source": []
  },
  {
   "cell_type": "markdown",
   "metadata": {},
   "source": [
    "### Train model"
   ]
  },
  {
   "cell_type": "markdown",
   "metadata": {},
   "source": [
    "We can now create our first baseline model - a simple 3-layer FC net."
   ]
  },
  {
   "cell_type": "code",
   "execution_count": 98,
   "metadata": {},
   "outputs": [],
   "source": [
    "def get_bn_layers(p):\n",
    "    #11 layers\n",
    "    return [\n",
    "        MaxPooling2D(input_shape=conv_layers[-1].output_shape[1:]),\n",
    "        BatchNormalization(axis=1),\n",
    "        Dropout(p/4),\n",
    "        Flatten(),\n",
    "        Dense(512, activation='relu'),\n",
    "        BatchNormalization(),\n",
    "        Dropout(p),\n",
    "        Dense(512, activation='relu'),\n",
    "        BatchNormalization(),\n",
    "        Dropout(p/2),\n",
    "        Dense(8, activation='softmax')\n",
    "    ]"
   ]
  },
  {
   "cell_type": "code",
   "execution_count": 99,
   "metadata": {},
   "outputs": [],
   "source": [
    "p=0.6"
   ]
  },
  {
   "cell_type": "code",
   "execution_count": 101,
   "metadata": {},
   "outputs": [],
   "source": [
    "bn_model = Sequential(get_bn_layers(p)) \n",
    "#dropout rate: nb: dropout rate for second Dropout layer is 1/2 of previous \n",
    "bn_model.compile(Adam(lr=0.001), loss='categorical_crossentropy', metrics=['accuracy'])"
   ]
  },
  {
   "cell_type": "code",
   "execution_count": 102,
   "metadata": {},
   "outputs": [
    {
     "name": "stdout",
     "output_type": "stream",
     "text": [
      "Train on 526 samples, validate on 224 samples\n",
      "Epoch 1/3\n",
      "526/526 [==============================] - 0s - loss: 2.1006 - acc: 0.3650 - val_loss: 3.9980 - val_acc: 0.5714\n",
      "Epoch 2/3\n",
      "526/526 [==============================] - 0s - loss: 0.8984 - acc: 0.7091 - val_loss: 2.9135 - val_acc: 0.6295\n",
      "Epoch 3/3\n",
      "526/526 [==============================] - 0s - loss: 0.5472 - acc: 0.8251 - val_loss: 2.0523 - val_acc: 0.7455\n"
     ]
    },
    {
     "data": {
      "text/plain": [
       "<keras.callbacks.History at 0x7f2d5cf8f110>"
      ]
     },
     "execution_count": 102,
     "metadata": {},
     "output_type": "execute_result"
    }
   ],
   "source": [
    "bn_model.fit(conv_feat, trn_labels, batch_size=batch_size, nb_epoch=3, \n",
    "             validation_data=(conv_val_feat, val_labels))"
   ]
  },
  {
   "cell_type": "code",
   "execution_count": 103,
   "metadata": {},
   "outputs": [],
   "source": [
    "bn_model.optimizer.lr = 1e-4"
   ]
  },
  {
   "cell_type": "code",
   "execution_count": 104,
   "metadata": {
    "scrolled": false
   },
   "outputs": [
    {
     "name": "stdout",
     "output_type": "stream",
     "text": [
      "Train on 526 samples, validate on 224 samples\n",
      "Epoch 1/7\n",
      "526/526 [==============================] - 0s - loss: 0.3308 - acc: 0.8954 - val_loss: 1.8580 - val_acc: 0.7545\n",
      "Epoch 2/7\n",
      "526/526 [==============================] - 0s - loss: 0.2575 - acc: 0.9125 - val_loss: 1.6069 - val_acc: 0.7545\n",
      "Epoch 3/7\n",
      "526/526 [==============================] - 0s - loss: 0.1700 - acc: 0.9563 - val_loss: 1.4505 - val_acc: 0.7902\n",
      "Epoch 4/7\n",
      "526/526 [==============================] - 0s - loss: 0.1287 - acc: 0.9563 - val_loss: 1.3309 - val_acc: 0.8036\n",
      "Epoch 5/7\n",
      "526/526 [==============================] - 0s - loss: 0.1084 - acc: 0.9696 - val_loss: 1.3206 - val_acc: 0.8170\n",
      "Epoch 6/7\n",
      "526/526 [==============================] - 0s - loss: 0.0818 - acc: 0.9734 - val_loss: 1.3874 - val_acc: 0.7991\n",
      "Epoch 7/7\n",
      "526/526 [==============================] - 0s - loss: 0.0685 - acc: 0.9886 - val_loss: 1.2230 - val_acc: 0.8259\n"
     ]
    },
    {
     "data": {
      "text/plain": [
       "<keras.callbacks.History at 0x7f2d5cfcae90>"
      ]
     },
     "execution_count": 104,
     "metadata": {},
     "output_type": "execute_result"
    }
   ],
   "source": [
    "bn_model.fit(conv_feat, trn_labels, batch_size=batch_size, nb_epoch=7, \n",
    "             validation_data=(conv_val_feat, val_labels))"
   ]
  },
  {
   "cell_type": "code",
   "execution_count": 105,
   "metadata": {
    "scrolled": true
   },
   "outputs": [],
   "source": [
    "#bn_model.save_weights(path+'models/conv_512_6.h5')"
   ]
  },
  {
   "cell_type": "code",
   "execution_count": 106,
   "metadata": {},
   "outputs": [
    {
     "name": "stdout",
     "output_type": "stream",
     "text": [
      "192/224 [========================>.....] - ETA: 0s"
     ]
    },
    {
     "data": {
      "text/plain": [
       "[1.2230296390397208, 0.8258928571428571]"
      ]
     },
     "execution_count": 106,
     "metadata": {},
     "output_type": "execute_result"
    }
   ],
   "source": [
    "bn_model.evaluate(conv_val_feat, val_labels)"
   ]
  },
  {
   "cell_type": "code",
   "execution_count": null,
   "metadata": {},
   "outputs": [],
   "source": [
    "#bn_model.load_weights(path+'models/conv_512_6.h5')"
   ]
  },
  {
   "cell_type": "markdown",
   "metadata": {},
   "source": [
    "## Multi-input"
   ]
  },
  {
   "cell_type": "markdown",
   "metadata": {},
   "source": [
    "The images are of different sizes, which are likely to represent the boat they came from (since different boats will use different cameras). Perhaps this creates some data leakage that we can take advantage of to get a better Kaggle leaderboard position? To find out, first we create arrays of the file sizes for each image:"
   ]
  },
  {
   "cell_type": "code",
   "execution_count": 107,
   "metadata": {},
   "outputs": [],
   "source": [
    "sizes = [PIL.Image.open(WORKING_TRAIN+f).size for f in filenames]\n",
    "id2size = list(set(sizes))\n",
    "size2id = {o:i for i,o in enumerate(id2size)}"
   ]
  },
  {
   "cell_type": "code",
   "execution_count": 112,
   "metadata": {},
   "outputs": [
    {
     "name": "stdout",
     "output_type": "stream",
     "text": [
      "sizes: <type 'list'> 526\n",
      "trn: <type 'numpy.ndarray'> (526, 3, 224, 224)\n"
     ]
    }
   ],
   "source": [
    "print (\"sizes:\", type(sizes), len(sizes))\n",
    "#reminder of the shape of input numpy arrays.\n",
    "print (\"trn:\", type(trn), trn.shape)\n",
    "#fish/sample/train/ nb: x files spread across categories"
   ]
  },
  {
   "cell_type": "code",
   "execution_count": 113,
   "metadata": {},
   "outputs": [
    {
     "data": {
      "text/plain": [
       "Counter({(1192, 670): 30,\n",
       "         (1244, 700): 7,\n",
       "         (1276, 718): 23,\n",
       "         (1280, 720): 295,\n",
       "         (1280, 750): 93,\n",
       "         (1280, 924): 4,\n",
       "         (1280, 974): 58,\n",
       "         (1334, 750): 4,\n",
       "         (1518, 854): 3,\n",
       "         (1732, 974): 9})"
      ]
     },
     "execution_count": 113,
     "metadata": {},
     "output_type": "execute_result"
    }
   ],
   "source": [
    "import collections\n",
    "collections.Counter(sizes)"
   ]
  },
  {
   "cell_type": "markdown",
   "metadata": {},
   "source": [
    "Then we one-hot encode them (since we want to treat them as categorical) and normalize the data."
   ]
  },
  {
   "cell_type": "code",
   "execution_count": 117,
   "metadata": {},
   "outputs": [],
   "source": [
    "trn_sizes_orig = to_categorical([size2id[o] for o in sizes], len(id2size))"
   ]
  },
  {
   "cell_type": "code",
   "execution_count": 118,
   "metadata": {},
   "outputs": [
    {
     "name": "stdout",
     "output_type": "stream",
     "text": [
      "trn_sizes_orig: <type 'numpy.ndarray'> (526, 10)\n"
     ]
    }
   ],
   "source": [
    "print (\"trn_sizes_orig:\", type(trn_sizes_orig), trn_sizes_orig.shape)"
   ]
  },
  {
   "cell_type": "code",
   "execution_count": 119,
   "metadata": {},
   "outputs": [],
   "source": [
    "raw_val_sizes = [PIL.Image.open(path+'valid/'+f).size for f in val_filenames]\n",
    "val_sizes = to_categorical([size2id[o] for o in raw_val_sizes], len(id2size))"
   ]
  },
  {
   "cell_type": "code",
   "execution_count": 120,
   "metadata": {},
   "outputs": [],
   "source": [
    "trn_sizes = trn_sizes_orig-trn_sizes_orig.mean(axis=0)/trn_sizes_orig.std(axis=0)\n",
    "val_sizes = val_sizes-trn_sizes_orig.mean(axis=0)/trn_sizes_orig.std(axis=0)"
   ]
  },
  {
   "cell_type": "markdown",
   "metadata": {},
   "source": [
    "To use this additional \"meta-data\", we create a model with multiple input layers - `sz_inp` will be our input for the size information."
   ]
  },
  {
   "cell_type": "code",
   "execution_count": 121,
   "metadata": {},
   "outputs": [],
   "source": [
    "p=0.6"
   ]
  },
  {
   "cell_type": "code",
   "execution_count": 122,
   "metadata": {},
   "outputs": [],
   "source": [
    "inp = Input(conv_layers[-1].output_shape[1:])\n",
    "sz_inp = Input((len(id2size),))\n",
    "bn_inp = BatchNormalization()(sz_inp)\n",
    "\n",
    "x = MaxPooling2D()(inp)\n",
    "x = BatchNormalization(axis=1)(x)\n",
    "x = Dropout(p/4)(x)\n",
    "x = Flatten()(x)\n",
    "x = Dense(512, activation='relu')(x)\n",
    "x = BatchNormalization()(x)\n",
    "x = Dropout(p)(x)\n",
    "x = Dense(512, activation='relu')(x)\n",
    "x = BatchNormalization()(x)\n",
    "x = Dropout(p/2)(x)\n",
    "x = merge([x,bn_inp], 'concat')\n",
    "x = Dense(8, activation='softmax')(x)"
   ]
  },
  {
   "cell_type": "markdown",
   "metadata": {},
   "source": [
    "When we compile the model, we have to specify all the input layers in an array."
   ]
  },
  {
   "cell_type": "code",
   "execution_count": 123,
   "metadata": {},
   "outputs": [],
   "source": [
    "model = Model([inp, sz_inp], x)\n",
    "model.compile(Adam(lr=0.001), loss='categorical_crossentropy', metrics=['accuracy'])"
   ]
  },
  {
   "cell_type": "markdown",
   "metadata": {},
   "source": [
    "And when we train the model, we have to provide all the input layers' data in an array."
   ]
  },
  {
   "cell_type": "code",
   "execution_count": 124,
   "metadata": {},
   "outputs": [
    {
     "name": "stdout",
     "output_type": "stream",
     "text": [
      "Train on 526 samples, validate on 224 samples\n",
      "Epoch 1/3\n",
      "526/526 [==============================] - 0s - loss: 2.1177 - acc: 0.3650 - val_loss: 5.9120 - val_acc: 0.4107\n",
      "Epoch 2/3\n",
      "526/526 [==============================] - 0s - loss: 0.9762 - acc: 0.6749 - val_loss: 3.3233 - val_acc: 0.6250\n",
      "Epoch 3/3\n",
      "526/526 [==============================] - 0s - loss: 0.4825 - acc: 0.8479 - val_loss: 2.6876 - val_acc: 0.7143\n"
     ]
    },
    {
     "data": {
      "text/plain": [
       "<keras.callbacks.History at 0x7f2d557ce0d0>"
      ]
     },
     "execution_count": 124,
     "metadata": {},
     "output_type": "execute_result"
    }
   ],
   "source": [
    "model.fit([conv_feat, trn_sizes], trn_labels, batch_size=batch_size, nb_epoch=3, \n",
    "             validation_data=([conv_val_feat, val_sizes], val_labels))"
   ]
  },
  {
   "cell_type": "code",
   "execution_count": 125,
   "metadata": {},
   "outputs": [],
   "source": [
    "bn_model.optimizer.lr = 1e-4"
   ]
  },
  {
   "cell_type": "code",
   "execution_count": 126,
   "metadata": {},
   "outputs": [
    {
     "name": "stdout",
     "output_type": "stream",
     "text": [
      "Train on 526 samples, validate on 224 samples\n",
      "Epoch 1/8\n",
      "526/526 [==============================] - 0s - loss: 0.0772 - acc: 0.9810 - val_loss: 1.1965 - val_acc: 0.8080\n",
      "Epoch 2/8\n",
      "526/526 [==============================] - 0s - loss: 0.0374 - acc: 0.9962 - val_loss: 1.1852 - val_acc: 0.8125\n",
      "Epoch 3/8\n",
      "526/526 [==============================] - 0s - loss: 0.0544 - acc: 0.9867 - val_loss: 1.3038 - val_acc: 0.8080\n",
      "Epoch 4/8\n",
      "526/526 [==============================] - 0s - loss: 0.0622 - acc: 0.9810 - val_loss: 1.1978 - val_acc: 0.8036\n",
      "Epoch 5/8\n",
      "526/526 [==============================] - 0s - loss: 0.0296 - acc: 0.9924 - val_loss: 1.1526 - val_acc: 0.8170\n",
      "Epoch 6/8\n",
      "526/526 [==============================] - 0s - loss: 0.0264 - acc: 0.9943 - val_loss: 1.2570 - val_acc: 0.8214\n",
      "Epoch 7/8\n",
      "526/526 [==============================] - 0s - loss: 0.0329 - acc: 0.9962 - val_loss: 1.1899 - val_acc: 0.8170\n",
      "Epoch 8/8\n",
      "526/526 [==============================] - 0s - loss: 0.0232 - acc: 0.9943 - val_loss: 1.1521 - val_acc: 0.8170\n"
     ]
    },
    {
     "data": {
      "text/plain": [
       "<keras.callbacks.History at 0x7f2d557ce9d0>"
      ]
     },
     "execution_count": 126,
     "metadata": {},
     "output_type": "execute_result"
    }
   ],
   "source": [
    "bn_model.fit(conv_feat, trn_labels, batch_size=batch_size, nb_epoch=8, \n",
    "             validation_data=(conv_val_feat, val_labels))"
   ]
  },
  {
   "cell_type": "markdown",
   "metadata": {},
   "source": [
    "The model did not show an improvement by using the leakage, other than in the early epochs. This is most likely because the information about what boat the picture came from is readily identified from the image itself, so the meta-data turned out not to add any additional information."
   ]
  },
  {
   "cell_type": "markdown",
   "metadata": {},
   "source": [
    "## Bounding boxes & multi output"
   ]
  },
  {
   "cell_type": "markdown",
   "metadata": {},
   "source": [
    "### Import / view bounding boxes"
   ]
  },
  {
   "cell_type": "markdown",
   "metadata": {},
   "source": [
    "A kaggle user has created bounding box annotations for each fish in each training set image. You can download them [from here](https://www.kaggle.com/c/the-nature-conservancy-fisheries-monitoring/forums/t/25902/complete-bounding-box-annotation). We will see if we can utilize this additional information. First, we'll load in the data, and keep just the largest bounding box for each image."
   ]
  },
  {
   "cell_type": "code",
   "execution_count": 127,
   "metadata": {},
   "outputs": [],
   "source": [
    "import ujson as json"
   ]
  },
  {
   "cell_type": "code",
   "execution_count": 128,
   "metadata": {},
   "outputs": [],
   "source": [
    "anno_classes = ['alb', 'bet', 'dol', 'lag', 'other', 'shark', 'yft']"
   ]
  },
  {
   "cell_type": "code",
   "execution_count": 129,
   "metadata": {
    "scrolled": true
   },
   "outputs": [],
   "source": [
    "def get_annotations():\n",
    "    #NB: the downloads the files and saves in new directory 'annos'\n",
    "    annot_urls = {\n",
    "        '5458/bet_labels.json': 'bd20591439b650f44b36b72a98d3ce27',\n",
    "        '5459/shark_labels.json': '94b1b3110ca58ff4788fb659eda7da90',\n",
    "        '5460/dol_labels.json': '91a25d29a29b7e8b8d7a8770355993de',\n",
    "        '5461/yft_labels.json': '9ef63caad8f076457d48a21986d81ddc',\n",
    "        '5462/alb_labels.json': '731c74d347748b5272042f0661dad37c',\n",
    "        '5463/lag_labels.json': '92d75d9218c3333ac31d74125f2b380a'\n",
    "    }\n",
    "    \n",
    "    cache_subdir = os.path.abspath(os.path.join(DATA_PATH, 'annos'))\n",
    "    print (\"cache_subdir:\", type(cache_subdir), cache_subdir)\n",
    "    url_prefix = 'https://kaggle2.blob.core.windows.net/forum-message-attachments/147157/'\n",
    "    \n",
    "    if not os.path.exists(cache_subdir):\n",
    "        os.makedirs(cache_subdir)\n",
    "    \n",
    "    for url_suffix, md5_hash in annot_urls.iteritems():\n",
    "        #the md5has checks file downloaded is valid\n",
    "        fname = url_suffix.rsplit('/', 1)[-1]\n",
    "        print (\"fname:\", fname)\n",
    "        get_file(fname, url_prefix + url_suffix, cache_subdir=cache_subdir, md5_hash=md5_hash)\n",
    "        #keras.utils.data_utils.get_file\n",
    "        #https://keras.io/utils/#get_file: \n",
    "        #keras.utils.get_file(fname, origin, untar=False, md5_hash=None, file_hash=None, cache_subdir='datasets', \n",
    "        #                     hash_algorithm='auto', extract=False, archive_format='auto', cache_dir=None)\n",
    "        #fname: local destination filename\n",
    "        #origin: Original URL of the file."
   ]
  },
  {
   "cell_type": "code",
   "execution_count": 130,
   "metadata": {},
   "outputs": [
    {
     "name": "stdout",
     "output_type": "stream",
     "text": [
      "cache_subdir: <type 'str'> /home/ubuntu/fastai/data/fish/annos\n",
      "fname: lag_labels.json\n",
      "Downloading data from https://kaggle2.blob.core.windows.net/forum-message-attachments/147157/5463/lag_labels.json\n",
      "fname: shark_labels.json\n",
      "Downloading data from https://kaggle2.blob.core.windows.net/forum-message-attachments/147157/5459/shark_labels.json\n",
      "fname: yft_labels.json\n",
      "Downloading data from https://kaggle2.blob.core.windows.net/forum-message-attachments/147157/5461/yft_labels.json\n",
      "fname: bet_labels.json\n",
      "Downloading data from https://kaggle2.blob.core.windows.net/forum-message-attachments/147157/5458/bet_labels.json\n",
      "fname: alb_labels.json\n",
      "Downloading data from https://kaggle2.blob.core.windows.net/forum-message-attachments/147157/5462/alb_labels.json\n",
      "fname: dol_labels.json\n",
      "Downloading data from https://kaggle2.blob.core.windows.net/forum-message-attachments/147157/5460/dol_labels.json\n"
     ]
    }
   ],
   "source": [
    "get_annotations()"
   ]
  },
  {
   "cell_type": "code",
   "execution_count": 132,
   "metadata": {},
   "outputs": [
    {
     "data": {
      "text/plain": [
       "['alb', 'bet', 'dol', 'lag', 'other', 'shark', 'yft']"
      ]
     },
     "execution_count": 132,
     "metadata": {},
     "output_type": "execute_result"
    }
   ],
   "source": [
    "anno_classes"
   ]
  },
  {
   "cell_type": "code",
   "execution_count": 139,
   "metadata": {},
   "outputs": [
    {
     "name": "stdout",
     "output_type": "stream",
     "text": [
      "<type 'list'> 1719 <type 'dict'> [u'filename', u'annotations', u'class']\n",
      "img_07917.jpg [{u'y': 193.3597426816281, u'width': 383.68430384213445, u'x': 547.1578480789353, u'class': u'rect', u'height': 151.06975503141317}] image\n"
     ]
    }
   ],
   "source": [
    "bb_json = {}\n",
    "for c in anno_classes:\n",
    "    if c == 'other': continue # no annotation file for \"other\" class\n",
    "    j = json.load(open('{}annos/{}_labels.json'.format(path, c), 'r'))\n",
    "    #dispay the key structure just once\n",
    "    if c == 'alb':\n",
    "        print (type(j), len(j), type(j[0]), j[0].keys())\n",
    "        print (j[0]['filename'], j[0]['annotations'], j[0]['class'])\n",
    "    for l in j:\n",
    "        if 'annotations' in l.keys() and len(l['annotations'])>0:\n",
    "            bb_json[l['filename'].split('/')[-1]] = sorted(\n",
    "                l['annotations'], key=lambda x: x['height']*x['width'])[-1]"
   ]
  },
  {
   "cell_type": "code",
   "execution_count": 143,
   "metadata": {},
   "outputs": [
    {
     "name": "stdout",
     "output_type": "stream",
     "text": [
      "<type 'dict'> 2998 [u'y', u'width', u'x', u'class', u'height']\n"
     ]
    }
   ],
   "source": [
    "print (type(bb_json), len(bb_json.keys()), bb_json['img_04908.jpg'].keys())"
   ]
  },
  {
   "cell_type": "code",
   "execution_count": 144,
   "metadata": {},
   "outputs": [
    {
     "data": {
      "text/plain": [
       "{u'class': u'rect',\n",
       " u'height': 246.75000000000074,\n",
       " u'width': 432.8700000000013,\n",
       " u'x': 465.3000000000014,\n",
       " u'y': 496.32000000000147}"
      ]
     },
     "execution_count": 144,
     "metadata": {},
     "output_type": "execute_result"
    }
   ],
   "source": [
    "bb_json['img_04908.jpg']"
   ]
  },
  {
   "cell_type": "code",
   "execution_count": 153,
   "metadata": {},
   "outputs": [
    {
     "name": "stdout",
     "output_type": "stream",
     "text": [
      "raw_filenames: <type 'list'> 224 ['img_06213.jpg', 'img_07232.jpg', 'img_00998.jpg']\n",
      "raw_val_filenames: <type 'list'> 224 ['img_06213.jpg', 'img_07232.jpg', 'img_00998.jpg']\n"
     ]
    }
   ],
   "source": [
    "print (\"raw_filenames:\", type(raw_filenames), len(raw_val_filenames),raw_val_filenames[0:3])\n",
    "print (\"raw_val_filenames:\", type(raw_val_filenames), len(raw_val_filenames), raw_val_filenames[0:3])\n"
   ]
  },
  {
   "cell_type": "code",
   "execution_count": 145,
   "metadata": {},
   "outputs": [],
   "source": [
    "file2idx = {o:i for i,o in enumerate(raw_filenames)}\n",
    "val_file2idx = {o:i for i,o in enumerate(raw_val_filenames)}"
   ]
  },
  {
   "cell_type": "code",
   "execution_count": 155,
   "metadata": {},
   "outputs": [
    {
     "data": {
      "text/plain": [
       "(78, 448)"
      ]
     },
     "execution_count": 155,
     "metadata": {},
     "output_type": "execute_result"
    }
   ],
   "source": [
    "526-224*2, 224*2"
   ]
  },
  {
   "cell_type": "code",
   "execution_count": 151,
   "metadata": {},
   "outputs": [
    {
     "name": "stdout",
     "output_type": "stream",
     "text": [
      "file2idx: <type 'dict'> 526\n",
      "val_file2idx: <type 'dict'> 526\n"
     ]
    }
   ],
   "source": [
    "print (\"file2idx:\", type(file2idx), len(file2idx.keys()))\n",
    "print (\"val_file2idx:\", type(val_file2idx), len(file2idx.keys()))"
   ]
  },
  {
   "cell_type": "markdown",
   "metadata": {},
   "source": [
    "For any images that have no annotations, we'll create an empty bounding box."
   ]
  },
  {
   "cell_type": "code",
   "execution_count": 156,
   "metadata": {},
   "outputs": [],
   "source": [
    "empty_bbox = {'height': 0., 'width': 0., 'x': 0., 'y': 0.}"
   ]
  },
  {
   "cell_type": "code",
   "execution_count": 157,
   "metadata": {},
   "outputs": [],
   "source": [
    "for f in raw_filenames:\n",
    "    if not f in bb_json.keys(): bb_json[f] = empty_bbox\n",
    "for f in raw_val_filenames:\n",
    "    if not f in bb_json.keys(): bb_json[f] = empty_bbox"
   ]
  },
  {
   "cell_type": "markdown",
   "metadata": {},
   "source": [
    "Finally, we convert the dictionary into an array, and convert the coordinates to our resized 224x224 images."
   ]
  },
  {
   "cell_type": "code",
   "execution_count": 158,
   "metadata": {},
   "outputs": [],
   "source": [
    "bb_params = ['height', 'width', 'x', 'y']\n",
    "def convert_bb(bb, size):\n",
    "    bb = [bb[p] for p in bb_params]\n",
    "    conv_x = (224. / size[0])\n",
    "    conv_y = (224. / size[1])\n",
    "    bb[0] = bb[0]*conv_y\n",
    "    bb[1] = bb[1]*conv_x\n",
    "    bb[2] = max(bb[2]*conv_x, 0)\n",
    "    bb[3] = max(bb[3]*conv_y, 0)\n",
    "    return bb"
   ]
  },
  {
   "cell_type": "code",
   "execution_count": 166,
   "metadata": {},
   "outputs": [
    {
     "name": "stdout",
     "output_type": "stream",
     "text": [
      "raw_filenames: <type 'list'> 526 img_00041.jpg\n",
      "sizes: <type 'list'> 526 (1280, 720)\n"
     ]
    }
   ],
   "source": [
    "#recall\n",
    "#(val_classes, trn_classes, val_labels, trn_labels, val_filenames, filenames, test_filenames) = get_classes(WORKING_DATA)\n",
    "#raw_filenames = [f.split('/')[-1] for f in filenames]\n",
    "print (\"raw_filenames:\", type(raw_filenames), len(raw_filenames), raw_filenames[0])\n",
    "#recall: sizes = [PIL.Image.open(WORKING_TRAIN+f).size for f in filenames]\n",
    "print (\"sizes:\", type(sizes), len(sizes), sizes[0])"
   ]
  },
  {
   "cell_type": "code",
   "execution_count": 159,
   "metadata": {},
   "outputs": [],
   "source": [
    "trn_bbox = np.stack([convert_bb(bb_json[f], s) for f,s in zip(raw_filenames, sizes)], ).astype(np.float32)"
   ]
  },
  {
   "cell_type": "code",
   "execution_count": 162,
   "metadata": {},
   "outputs": [
    {
     "name": "stdout",
     "output_type": "stream",
     "text": [
      "trn_bbox: <type 'numpy.ndarray'> (526, 4)\n"
     ]
    }
   ],
   "source": [
    "print (\"trn_bbox:\", type(trn_bbox), trn_bbox.shape)"
   ]
  },
  {
   "cell_type": "code",
   "execution_count": 160,
   "metadata": {},
   "outputs": [],
   "source": [
    "val_bbox = np.stack([convert_bb(bb_json[f], s) \n",
    "                   for f,s in zip(raw_val_filenames, raw_val_sizes)]).astype(np.float32)"
   ]
  },
  {
   "cell_type": "markdown",
   "metadata": {},
   "source": [
    "Now we can check our work by drawing one of the annotations."
   ]
  },
  {
   "cell_type": "code",
   "execution_count": 167,
   "metadata": {},
   "outputs": [],
   "source": [
    "def create_rect(bb, color='red'):\n",
    "    return plt.Rectangle((bb[2], bb[3]), bb[1], bb[0], color=color, fill=False, lw=3)\n",
    "\n",
    "def show_bb(i):\n",
    "    bb = val_bbox[i]\n",
    "    plot(val[i])\n",
    "    plt.gca().add_patch(create_rect(bb))"
   ]
  },
  {
   "cell_type": "code",
   "execution_count": 168,
   "metadata": {},
   "outputs": [
    {
     "data": {
      "image/png": "[encoded data removed]",
      "text/plain": [
       "<matplotlib.figure.Figure at 0x7f2d54feb990>"
      ]
     },
     "metadata": {},
     "output_type": "display_data"
    }
   ],
   "source": [
    "show_bb(0)"
   ]
  },
  {
   "cell_type": "markdown",
   "metadata": {},
   "source": [
    "### Create & train model"
   ]
  },
  {
   "cell_type": "markdown",
   "metadata": {},
   "source": [
    "Since we're not allowed (by the kaggle rules) to manually annotate the test set, we'll need to create a model that predicts the locations of the bounding box on each image. To do so, we create a model with multiple outputs: it will predict both the type of fish (the 'class'), and the 4 bounding box coordinates. We prefer this approach to only predicting the bounding box coordinates, since we hope that giving the model more context about what it's looking for will help it with both tasks."
   ]
  },
  {
   "cell_type": "code",
   "execution_count": null,
   "metadata": {},
   "outputs": [],
   "source": [
    "p=0.6\n",
    "#video @ ! 50'"
   ]
  },
  {
   "cell_type": "code",
   "execution_count": 171,
   "metadata": {},
   "outputs": [
    {
     "name": "stdout",
     "output_type": "stream",
     "text": [
      "(512, 14, 14)\n",
      "<class 'theano.tensor.var.TensorVariable'> input_5\n"
     ]
    }
   ],
   "source": [
    "inp = Input(conv_layers[-1].output_shape[1:])\n",
    "print (conv_layers[-1].output_shape[1:])\n",
    "print (type(inp), inp)\n",
    "#keras.layers.Input"
   ]
  },
  {
   "cell_type": "code",
   "execution_count": 172,
   "metadata": {},
   "outputs": [
    {
     "name": "stdout",
     "output_type": "stream",
     "text": [
      "<class 'theano.tensor.var.TensorVariable'> <class 'theano.tensor.var.TensorVariable'> <class 'theano.tensor.var.TensorVariable'>\n"
     ]
    }
   ],
   "source": [
    "x = MaxPooling2D()(inp)\n",
    "x = BatchNormalization(axis=1)(x)\n",
    "x = Dropout(p/4)(x)\n",
    "x = Flatten()(x)\n",
    "x = Dense(512, activation='relu')(x)\n",
    "x = BatchNormalization()(x)\n",
    "x = Dropout(p)(x)\n",
    "x = Dense(512, activation='relu')(x)\n",
    "x = BatchNormalization()(x)\n",
    "x = Dropout(p/2)(x)\n",
    "x_bb = Dense(4, name='bb')(x)\n",
    "x_class = Dense(8, activation='softmax', name='class')(x)\n",
    "print (type(x), type(x_bb), type(x_class))"
   ]
  },
  {
   "cell_type": "markdown",
   "metadata": {},
   "source": [
    "Since we have multiple outputs, we need to provide them to the model constructor in an array, and we also need to say what loss function to use for each. We also weight the bounding box loss function down by 1000x since the scale of the cross-entropy loss and the MSE is very different."
   ]
  },
  {
   "cell_type": "code",
   "execution_count": 173,
   "metadata": {},
   "outputs": [],
   "source": [
    "model = Model([inp], [x_bb, x_class])\n",
    "model.compile(Adam(lr=0.001), loss=['mse', 'categorical_crossentropy'], metrics=['accuracy'],\n",
    "             loss_weights=[.001, 1.])"
   ]
  },
  {
   "cell_type": "code",
   "execution_count": 174,
   "metadata": {},
   "outputs": [
    {
     "name": "stdout",
     "output_type": "stream",
     "text": [
      "Train on 526 samples, validate on 224 samples\n",
      "Epoch 1/3\n",
      "526/526 [==============================] - 0s - loss: 6.7559 - bb_loss: 4566.8834 - class_loss: 2.1890 - bb_acc: 0.2700 - class_acc: 0.3536 - val_loss: 9.7404 - val_bb_loss: 3623.9803 - val_class_loss: 6.1165 - val_bb_acc: 0.3705 - val_class_acc: 0.4732\n",
      "Epoch 2/3\n",
      "526/526 [==============================] - 0s - loss: 5.5664 - bb_loss: 4538.9685 - class_loss: 1.0275 - bb_acc: 0.3669 - class_acc: 0.6863 - val_loss: 6.8872 - val_bb_loss: 3461.9841 - val_class_loss: 3.4252 - val_bb_acc: 0.5402 - val_class_acc: 0.5670\n",
      "Epoch 3/3\n",
      "526/526 [==============================] - 0s - loss: 5.0816 - bb_loss: 4509.6863 - class_loss: 0.5719 - bb_acc: 0.3631 - class_acc: 0.8194 - val_loss: 6.4802 - val_bb_loss: 3469.5895 - val_class_loss: 3.0106 - val_bb_acc: 0.5759 - val_class_acc: 0.6071\n"
     ]
    },
    {
     "data": {
      "text/plain": [
       "<keras.callbacks.History at 0x7f2d48c7d2d0>"
      ]
     },
     "execution_count": 174,
     "metadata": {},
     "output_type": "execute_result"
    }
   ],
   "source": [
    "model.fit(conv_feat, [trn_bbox, trn_labels], batch_size=batch_size, nb_epoch=3, \n",
    "             validation_data=(conv_val_feat, [val_bbox, val_labels]))"
   ]
  },
  {
   "cell_type": "code",
   "execution_count": 175,
   "metadata": {},
   "outputs": [],
   "source": [
    "model.optimizer.lr = 1e-5"
   ]
  },
  {
   "cell_type": "code",
   "execution_count": 176,
   "metadata": {
    "scrolled": true
   },
   "outputs": [
    {
     "name": "stdout",
     "output_type": "stream",
     "text": [
      "Train on 526 samples, validate on 224 samples\n",
      "Epoch 1/10\n",
      "526/526 [==============================] - 0s - loss: 4.8067 - bb_loss: 4479.8779 - class_loss: 0.3269 - bb_acc: 0.3821 - class_acc: 0.8973 - val_loss: 5.7419 - val_bb_loss: 3530.1813 - val_class_loss: 2.2117 - val_bb_acc: 0.5759 - val_class_acc: 0.7277\n",
      "Epoch 2/10\n",
      "526/526 [==============================] - 0s - loss: 4.6812 - bb_loss: 4433.8280 - class_loss: 0.2474 - bb_acc: 0.4297 - class_acc: 0.9183 - val_loss: 5.3820 - val_bb_loss: 3558.9102 - val_class_loss: 1.8231 - val_bb_acc: 0.5714 - val_class_acc: 0.7366\n",
      "Epoch 3/10\n",
      "526/526 [==============================] - 0s - loss: 4.5927 - bb_loss: 4397.9029 - class_loss: 0.1948 - bb_acc: 0.4259 - class_acc: 0.9449 - val_loss: 5.1729 - val_bb_loss: 3597.6380 - val_class_loss: 1.5752 - val_bb_acc: 0.5536 - val_class_acc: 0.7768\n",
      "Epoch 4/10\n",
      "526/526 [==============================] - 0s - loss: 4.4967 - bb_loss: 4342.6254 - class_loss: 0.1541 - bb_acc: 0.4392 - class_acc: 0.9601 - val_loss: 5.1309 - val_bb_loss: 3621.8280 - val_class_loss: 1.5091 - val_bb_acc: 0.5670 - val_class_acc: 0.7857\n",
      "Epoch 5/10\n",
      "526/526 [==============================] - 0s - loss: 4.4488 - bb_loss: 4306.9274 - class_loss: 0.1419 - bb_acc: 0.4468 - class_acc: 0.9525 - val_loss: 5.1309 - val_bb_loss: 3613.3818 - val_class_loss: 1.5175 - val_bb_acc: 0.5670 - val_class_acc: 0.7857\n",
      "Epoch 6/10\n",
      "526/526 [==============================] - 0s - loss: 4.3817 - bb_loss: 4251.6038 - class_loss: 0.1301 - bb_acc: 0.4468 - class_acc: 0.9582 - val_loss: 5.0882 - val_bb_loss: 3578.6697 - val_class_loss: 1.5095 - val_bb_acc: 0.5625 - val_class_acc: 0.7946\n",
      "Epoch 7/10\n",
      "526/526 [==============================] - 0s - loss: 4.2268 - bb_loss: 4164.4974 - class_loss: 0.0623 - bb_acc: 0.4506 - class_acc: 0.9867 - val_loss: 4.9016 - val_bb_loss: 3533.0684 - val_class_loss: 1.3686 - val_bb_acc: 0.5759 - val_class_acc: 0.8036\n",
      "Epoch 8/10\n",
      "526/526 [==============================] - 0s - loss: 4.1566 - bb_loss: 4094.7519 - class_loss: 0.0618 - bb_acc: 0.4525 - class_acc: 0.9886 - val_loss: 4.7434 - val_bb_loss: 3491.4372 - val_class_loss: 1.2520 - val_bb_acc: 0.5625 - val_class_acc: 0.8125\n",
      "Epoch 9/10\n",
      "526/526 [==============================] - 0s - loss: 4.0536 - bb_loss: 4010.7908 - class_loss: 0.0428 - bb_acc: 0.4544 - class_acc: 0.9905 - val_loss: 4.6448 - val_bb_loss: 3409.4328 - val_class_loss: 1.2354 - val_bb_acc: 0.5536 - val_class_acc: 0.7991\n",
      "Epoch 10/10\n",
      "526/526 [==============================] - 0s - loss: 3.9764 - bb_loss: 3917.5977 - class_loss: 0.0588 - bb_acc: 0.4715 - class_acc: 0.9886 - val_loss: 4.5423 - val_bb_loss: 3291.7527 - val_class_loss: 1.2506 - val_bb_acc: 0.5670 - val_class_acc: 0.8214\n"
     ]
    },
    {
     "data": {
      "text/plain": [
       "<keras.callbacks.History at 0x7f2d48c7dbd0>"
      ]
     },
     "execution_count": 176,
     "metadata": {},
     "output_type": "execute_result"
    }
   ],
   "source": [
    "model.fit(conv_feat, [trn_bbox, trn_labels], batch_size=batch_size, nb_epoch=10, \n",
    "             validation_data=(conv_val_feat, [val_bbox, val_labels]))"
   ]
  },
  {
   "cell_type": "markdown",
   "metadata": {},
   "source": [
    "Excitingly, it turned out that the classification model is much improved by giving it this additional task. Let's see how well the bounding box model did by taking a look at its output."
   ]
  },
  {
   "cell_type": "code",
   "execution_count": 177,
   "metadata": {},
   "outputs": [],
   "source": [
    "pred = model.predict(conv_val_feat[0:10])\n",
    "#video @ 53'"
   ]
  },
  {
   "cell_type": "code",
   "execution_count": 178,
   "metadata": {},
   "outputs": [],
   "source": [
    "def show_bb_pred(i):\n",
    "    bb = val_bbox[i]\n",
    "    bb_pred = pred[0][i]\n",
    "    plt.figure(figsize=(6,6))\n",
    "    plot(val[i])\n",
    "    ax=plt.gca()\n",
    "    ax.add_patch(create_rect(bb_pred, 'yellow'))\n",
    "    ax.add_patch(create_rect(bb))"
   ]
  },
  {
   "cell_type": "markdown",
   "metadata": {},
   "source": [
    "The image shows that it can find fish that are tricky for us to see!"
   ]
  },
  {
   "cell_type": "code",
   "execution_count": 179,
   "metadata": {},
   "outputs": [
    {
     "data": {
      "image/png": "[encoded data removed]",
      "text/plain": [
       "<matplotlib.figure.Figure at 0x7f2d48c7dd50>"
      ]
     },
     "metadata": {},
     "output_type": "display_data"
    }
   ],
   "source": [
    "show_bb_pred(6)\n",
    "#week 7 video @ 59'48\""
   ]
  },
  {
   "cell_type": "code",
   "execution_count": 180,
   "metadata": {},
   "outputs": [
    {
     "name": "stdout",
     "output_type": "stream",
     "text": [
      "160/224 [====================>.........] - ETA: 0s"
     ]
    },
    {
     "data": {
      "text/plain": [
       "[4.5423060485294888,\n",
       " 3291.7526506696427,\n",
       " 1.2505531779357366,\n",
       " 0.5669642857142857,\n",
       " 0.8214285714285714]"
      ]
     },
     "execution_count": 180,
     "metadata": {},
     "output_type": "execute_result"
    }
   ],
   "source": [
    "model.evaluate(conv_val_feat, [val_bbox, val_labels])"
   ]
  },
  {
   "cell_type": "code",
   "execution_count": 181,
   "metadata": {},
   "outputs": [],
   "source": [
    "#model.save_weights(MODEL_PATH+'models/bn_anno.h5')"
   ]
  },
  {
   "cell_type": "code",
   "execution_count": 182,
   "metadata": {},
   "outputs": [],
   "source": [
    "#model.load_weights(MODEL_PATH+'models/bn_anno.h5')"
   ]
  },
  {
   "cell_type": "markdown",
   "metadata": {},
   "source": [
    "## Larger size"
   ]
  },
  {
   "cell_type": "markdown",
   "metadata": {},
   "source": [
    "### Set up data"
   ]
  },
  {
   "cell_type": "markdown",
   "metadata": {},
   "source": [
    "Let's see if we get better results if we use larger images. We'll use 640x360, since it's the same shape as the most common size we saw earlier (1280x720), without being too big."
   ]
  },
  {
   "cell_type": "code",
   "execution_count": 184,
   "metadata": {},
   "outputs": [
    {
     "name": "stdout",
     "output_type": "stream",
     "text": [
      "Found 526 images belonging to 8 classes.\n",
      "Found 224 images belonging to 8 classes.\n"
     ]
    }
   ],
   "source": [
    "trn = get_data(WORKING_TRAIN, (360,640))\n",
    "val = get_data(WORKING_VALID, (360,640))"
   ]
  },
  {
   "cell_type": "markdown",
   "metadata": {},
   "source": [
    "The image shows that things are much clearer at this size."
   ]
  },
  {
   "cell_type": "code",
   "execution_count": 188,
   "metadata": {},
   "outputs": [
    {
     "data": {
      "image/png": "[encoded data removed]",
      "text/plain": [
       "<matplotlib.figure.Figure at 0x7f2d76ffe090>"
      ]
     },
     "metadata": {},
     "output_type": "display_data"
    }
   ],
   "source": [
    "plot(trn[0])"
   ]
  },
  {
   "cell_type": "code",
   "execution_count": 189,
   "metadata": {},
   "outputs": [
    {
     "name": "stdout",
     "output_type": "stream",
     "text": [
      "Found 200 images belonging to 1 classes.\n"
     ]
    }
   ],
   "source": [
    "test = get_data(WORKING_TEST, (360,640))"
   ]
  },
  {
   "cell_type": "code",
   "execution_count": null,
   "metadata": {},
   "outputs": [],
   "source": [
    "#save_array(path+'results/trn_640.dat', trn)\n",
    "#save_array(path+'results/val_640.dat', val)"
   ]
  },
  {
   "cell_type": "code",
   "execution_count": null,
   "metadata": {},
   "outputs": [],
   "source": [
    "#save_array(path+'results/test_640.dat', test)"
   ]
  },
  {
   "cell_type": "code",
   "execution_count": 190,
   "metadata": {},
   "outputs": [],
   "source": [
    "#trn = load_array(path+'results/trn_640.dat')\n",
    "#val = load_array(path+'results/val_640.dat')"
   ]
  },
  {
   "cell_type": "markdown",
   "metadata": {},
   "source": [
    "We can now create our VGG model - we'll need to tell it we're not using the normal 224x224 images, which also means it won't include the fully connected layers (since they don't make sense for non-default sizes). We will also remove the last max pooling layer, since we don't want to throw away information yet."
   ]
  },
  {
   "cell_type": "code",
   "execution_count": 201,
   "metadata": {},
   "outputs": [
    {
     "name": "stdout",
     "output_type": "stream",
     "text": [
      "vgg640.input_shape: (None, 3, 360, 640)\n",
      "vgg640.output_shape: (None, 512, 11, 20)\n",
      "32\n"
     ]
    }
   ],
   "source": [
    "vgg640 = Vgg16BN((360, 640)).model\n",
    "print (\"vgg640.input_shape:\", vgg640.input_shape)\n",
    "print (\"vgg640.output_shape:\", vgg640.output_shape)\n",
    "print(len(vgg640.layers))"
   ]
  },
  {
   "cell_type": "code",
   "execution_count": 202,
   "metadata": {
    "scrolled": true
   },
   "outputs": [
    {
     "name": "stdout",
     "output_type": "stream",
     "text": [
      "31\n",
      "vgg640.input_shape: (None, 3, 360, 640)\n",
      "vgg640.output_shape: (None, 512, 22, 40)\n"
     ]
    }
   ],
   "source": [
    "vgg640.pop()\n",
    "print(len(vgg640.layers))\n",
    "print (\"vgg640.input_shape:\", vgg640.input_shape)\n",
    "print (\"vgg640.output_shape:\", vgg640.output_shape)\n",
    "vgg640.compile(Adam(), 'categorical_crossentropy', metrics=['accuracy'])"
   ]
  },
  {
   "cell_type": "code",
   "execution_count": 203,
   "metadata": {},
   "outputs": [
    {
     "name": "stdout",
     "output_type": "stream",
     "text": [
      "____________________________________________________________________________________________________\n",
      "Layer (type)                     Output Shape          Param #     Connected to                     \n",
      "====================================================================================================\n",
      "lambda_6 (Lambda)                (None, 3, 360, 640)   0           lambda_input_6[0][0]             \n",
      "____________________________________________________________________________________________________\n",
      "zeropadding2d_66 (ZeroPadding2D) (None, 3, 362, 642)   0           lambda_6[0][0]                   \n",
      "____________________________________________________________________________________________________\n",
      "convolution2d_66 (Convolution2D) (None, 64, 360, 640)  1792        zeropadding2d_66[0][0]           \n",
      "____________________________________________________________________________________________________\n",
      "zeropadding2d_67 (ZeroPadding2D) (None, 64, 362, 642)  0           convolution2d_66[0][0]           \n",
      "____________________________________________________________________________________________________\n",
      "convolution2d_67 (Convolution2D) (None, 64, 360, 640)  36928       zeropadding2d_67[0][0]           \n",
      "____________________________________________________________________________________________________\n",
      "maxpooling2d_30 (MaxPooling2D)   (None, 64, 180, 320)  0           convolution2d_67[0][0]           \n",
      "____________________________________________________________________________________________________\n",
      "zeropadding2d_68 (ZeroPadding2D) (None, 64, 182, 322)  0           maxpooling2d_30[0][0]            \n",
      "____________________________________________________________________________________________________\n",
      "convolution2d_68 (Convolution2D) (None, 128, 180, 320) 73856       zeropadding2d_68[0][0]           \n",
      "____________________________________________________________________________________________________\n",
      "zeropadding2d_69 (ZeroPadding2D) (None, 128, 182, 322) 0           convolution2d_68[0][0]           \n",
      "____________________________________________________________________________________________________\n",
      "convolution2d_69 (Convolution2D) (None, 128, 180, 320) 147584      zeropadding2d_69[0][0]           \n",
      "____________________________________________________________________________________________________\n",
      "maxpooling2d_31 (MaxPooling2D)   (None, 128, 90, 160)  0           convolution2d_69[0][0]           \n",
      "____________________________________________________________________________________________________\n",
      "zeropadding2d_70 (ZeroPadding2D) (None, 128, 92, 162)  0           maxpooling2d_31[0][0]            \n",
      "____________________________________________________________________________________________________\n",
      "convolution2d_70 (Convolution2D) (None, 256, 90, 160)  295168      zeropadding2d_70[0][0]           \n",
      "____________________________________________________________________________________________________\n",
      "zeropadding2d_71 (ZeroPadding2D) (None, 256, 92, 162)  0           convolution2d_70[0][0]           \n",
      "____________________________________________________________________________________________________\n",
      "convolution2d_71 (Convolution2D) (None, 256, 90, 160)  590080      zeropadding2d_71[0][0]           \n",
      "____________________________________________________________________________________________________\n",
      "zeropadding2d_72 (ZeroPadding2D) (None, 256, 92, 162)  0           convolution2d_71[0][0]           \n",
      "____________________________________________________________________________________________________\n",
      "convolution2d_72 (Convolution2D) (None, 256, 90, 160)  590080      zeropadding2d_72[0][0]           \n",
      "____________________________________________________________________________________________________\n",
      "maxpooling2d_32 (MaxPooling2D)   (None, 256, 45, 80)   0           convolution2d_72[0][0]           \n",
      "____________________________________________________________________________________________________\n",
      "zeropadding2d_73 (ZeroPadding2D) (None, 256, 47, 82)   0           maxpooling2d_32[0][0]            \n",
      "____________________________________________________________________________________________________\n",
      "convolution2d_73 (Convolution2D) (None, 512, 45, 80)   1180160     zeropadding2d_73[0][0]           \n",
      "____________________________________________________________________________________________________\n",
      "zeropadding2d_74 (ZeroPadding2D) (None, 512, 47, 82)   0           convolution2d_73[0][0]           \n",
      "____________________________________________________________________________________________________\n",
      "convolution2d_74 (Convolution2D) (None, 512, 45, 80)   2359808     zeropadding2d_74[0][0]           \n",
      "____________________________________________________________________________________________________\n",
      "zeropadding2d_75 (ZeroPadding2D) (None, 512, 47, 82)   0           convolution2d_74[0][0]           \n",
      "____________________________________________________________________________________________________\n",
      "convolution2d_75 (Convolution2D) (None, 512, 45, 80)   2359808     zeropadding2d_75[0][0]           \n",
      "____________________________________________________________________________________________________\n",
      "maxpooling2d_33 (MaxPooling2D)   (None, 512, 22, 40)   0           convolution2d_75[0][0]           \n",
      "____________________________________________________________________________________________________\n",
      "zeropadding2d_76 (ZeroPadding2D) (None, 512, 24, 42)   0           maxpooling2d_33[0][0]            \n",
      "____________________________________________________________________________________________________\n",
      "convolution2d_76 (Convolution2D) (None, 512, 22, 40)   2359808     zeropadding2d_76[0][0]           \n",
      "____________________________________________________________________________________________________\n",
      "zeropadding2d_77 (ZeroPadding2D) (None, 512, 24, 42)   0           convolution2d_76[0][0]           \n",
      "____________________________________________________________________________________________________\n",
      "convolution2d_77 (Convolution2D) (None, 512, 22, 40)   2359808     zeropadding2d_77[0][0]           \n",
      "____________________________________________________________________________________________________\n",
      "zeropadding2d_78 (ZeroPadding2D) (None, 512, 24, 42)   0           convolution2d_77[0][0]           \n",
      "____________________________________________________________________________________________________\n",
      "convolution2d_78 (Convolution2D) (None, 512, 22, 40)   2359808     zeropadding2d_78[0][0]           \n",
      "====================================================================================================\n",
      "Total params: 14,714,688\n",
      "Trainable params: 14,714,688\n",
      "Non-trainable params: 0\n",
      "____________________________________________________________________________________________________\n"
     ]
    }
   ],
   "source": [
    "vgg640.summary()"
   ]
  },
  {
   "cell_type": "code",
   "execution_count": 204,
   "metadata": {},
   "outputs": [
    {
     "name": "stdout",
     "output_type": "stream",
     "text": [
      "Number of layers :  31\n",
      "0 <class 'keras.layers.core.Lambda'> , trainable: True\n",
      "input: (None, 3, 360, 640) , output: (None, 3, 360, 640) \n",
      "\n",
      "1 <class 'keras.layers.convolutional.ZeroPadding2D'> , trainable: True\n",
      "input: (None, 3, 360, 640) , output: (None, 3, 362, 642) \n",
      "\n",
      "2 <class 'keras.layers.convolutional.Convolution2D'> , trainable: True\n",
      "input: (None, 3, 362, 642) , output: (None, 64, 360, 640) \n",
      "\n",
      "3 <class 'keras.layers.convolutional.ZeroPadding2D'> , trainable: True\n",
      "input: (None, 64, 360, 640) , output: (None, 64, 362, 642) \n",
      "\n",
      "4 <class 'keras.layers.convolutional.Convolution2D'> , trainable: True\n",
      "input: (None, 64, 362, 642) , output: (None, 64, 360, 640) \n",
      "\n",
      "5 <class 'keras.layers.pooling.MaxPooling2D'> , trainable: True\n",
      "input: (None, 64, 360, 640) , output: (None, 64, 180, 320) \n",
      "\n",
      "6 <class 'keras.layers.convolutional.ZeroPadding2D'> , trainable: True\n",
      "input: (None, 64, 180, 320) , output: (None, 64, 182, 322) \n",
      "\n",
      "7 <class 'keras.layers.convolutional.Convolution2D'> , trainable: True\n",
      "input: (None, 64, 182, 322) , output: (None, 128, 180, 320) \n",
      "\n",
      "8 <class 'keras.layers.convolutional.ZeroPadding2D'> , trainable: True\n",
      "input: (None, 128, 180, 320) , output: (None, 128, 182, 322) \n",
      "\n",
      "9 <class 'keras.layers.convolutional.Convolution2D'> , trainable: True\n",
      "input: (None, 128, 182, 322) , output: (None, 128, 180, 320) \n",
      "\n",
      "10 <class 'keras.layers.pooling.MaxPooling2D'> , trainable: True\n",
      "input: (None, 128, 180, 320) , output: (None, 128, 90, 160) \n",
      "\n",
      "11 <class 'keras.layers.convolutional.ZeroPadding2D'> , trainable: True\n",
      "input: (None, 128, 90, 160) , output: (None, 128, 92, 162) \n",
      "\n",
      "12 <class 'keras.layers.convolutional.Convolution2D'> , trainable: True\n",
      "input: (None, 128, 92, 162) , output: (None, 256, 90, 160) \n",
      "\n",
      "13 <class 'keras.layers.convolutional.ZeroPadding2D'> , trainable: True\n",
      "input: (None, 256, 90, 160) , output: (None, 256, 92, 162) \n",
      "\n",
      "14 <class 'keras.layers.convolutional.Convolution2D'> , trainable: True\n",
      "input: (None, 256, 92, 162) , output: (None, 256, 90, 160) \n",
      "\n",
      "15 <class 'keras.layers.convolutional.ZeroPadding2D'> , trainable: True\n",
      "input: (None, 256, 90, 160) , output: (None, 256, 92, 162) \n",
      "\n",
      "16 <class 'keras.layers.convolutional.Convolution2D'> , trainable: True\n",
      "input: (None, 256, 92, 162) , output: (None, 256, 90, 160) \n",
      "\n",
      "17 <class 'keras.layers.pooling.MaxPooling2D'> , trainable: True\n",
      "input: (None, 256, 90, 160) , output: (None, 256, 45, 80) \n",
      "\n",
      "18 <class 'keras.layers.convolutional.ZeroPadding2D'> , trainable: True\n",
      "input: (None, 256, 45, 80) , output: (None, 256, 47, 82) \n",
      "\n",
      "19 <class 'keras.layers.convolutional.Convolution2D'> , trainable: True\n",
      "input: (None, 256, 47, 82) , output: (None, 512, 45, 80) \n",
      "\n",
      "20 <class 'keras.layers.convolutional.ZeroPadding2D'> , trainable: True\n",
      "input: (None, 512, 45, 80) , output: (None, 512, 47, 82) \n",
      "\n",
      "21 <class 'keras.layers.convolutional.Convolution2D'> , trainable: True\n",
      "input: (None, 512, 47, 82) , output: (None, 512, 45, 80) \n",
      "\n",
      "22 <class 'keras.layers.convolutional.ZeroPadding2D'> , trainable: True\n",
      "input: (None, 512, 45, 80) , output: (None, 512, 47, 82) \n",
      "\n",
      "23 <class 'keras.layers.convolutional.Convolution2D'> , trainable: True\n",
      "input: (None, 512, 47, 82) , output: (None, 512, 45, 80) \n",
      "\n",
      "24 <class 'keras.layers.pooling.MaxPooling2D'> , trainable: True\n",
      "input: (None, 512, 45, 80) , output: (None, 512, 22, 40) \n",
      "\n",
      "25 <class 'keras.layers.convolutional.ZeroPadding2D'> , trainable: True\n",
      "input: (None, 512, 22, 40) , output: (None, 512, 24, 42) \n",
      "\n",
      "26 <class 'keras.layers.convolutional.Convolution2D'> , trainable: True\n",
      "input: (None, 512, 24, 42) , output: (None, 512, 22, 40) \n",
      "\n",
      "27 <class 'keras.layers.convolutional.ZeroPadding2D'> , trainable: True\n",
      "input: (None, 512, 22, 40) , output: (None, 512, 24, 42) \n",
      "\n",
      "28 <class 'keras.layers.convolutional.Convolution2D'> , trainable: True\n",
      "input: (None, 512, 24, 42) , output: (None, 512, 22, 40) \n",
      "\n",
      "29 <class 'keras.layers.convolutional.ZeroPadding2D'> , trainable: True\n",
      "input: (None, 512, 22, 40) , output: (None, 512, 24, 42) \n",
      "\n",
      "30 <class 'keras.layers.convolutional.Convolution2D'> , trainable: True\n",
      "input: (None, 512, 24, 42) , output: (None, 512, 22, 40) \n",
      "\n"
     ]
    }
   ],
   "source": [
    "showLayersInfo(vgg640)"
   ]
  },
  {
   "cell_type": "markdown",
   "metadata": {},
   "source": [
    "We can now pre-compute the output of the convolutional part of VGG."
   ]
  },
  {
   "cell_type": "code",
   "execution_count": 205,
   "metadata": {},
   "outputs": [
    {
     "name": "stdout",
     "output_type": "stream",
     "text": [
      "224/224 [==============================] - 27s    \n",
      "526/526 [==============================] - 65s    \n"
     ]
    }
   ],
   "source": [
    "conv_val_feat = vgg640.predict(val, batch_size=32, verbose=1)\n",
    "conv_trn_feat = vgg640.predict(trn, batch_size=32, verbose=1)"
   ]
  },
  {
   "cell_type": "code",
   "execution_count": 206,
   "metadata": {},
   "outputs": [],
   "source": [
    "#save_array(RESULTS_PATH+'conv_val_640.dat', conv_val_feat)\n",
    "#save_array(RESULTS_PATH+'conv_trn_640.dat', conv_trn_feat)"
   ]
  },
  {
   "cell_type": "code",
   "execution_count": 207,
   "metadata": {},
   "outputs": [
    {
     "name": "stdout",
     "output_type": "stream",
     "text": [
      "200/200 [==============================] - 24s    \n"
     ]
    }
   ],
   "source": [
    "conv_test_feat = vgg640.predict(test, batch_size=32, verbose=1)"
   ]
  },
  {
   "cell_type": "code",
   "execution_count": 208,
   "metadata": {},
   "outputs": [],
   "source": [
    "#save_array(RESULTS_PATH+'conv_test_640.dat', conv_test_feat)"
   ]
  },
  {
   "cell_type": "code",
   "execution_count": 209,
   "metadata": {},
   "outputs": [],
   "source": [
    "#conv_val_feat = load_array(path+'results/conv_val_640.dat')\n",
    "#conv_trn_feat = load_array(path+'results/conv_trn_640.dat')"
   ]
  },
  {
   "cell_type": "code",
   "execution_count": 210,
   "metadata": {},
   "outputs": [],
   "source": [
    "#conv_test_feat = load_array(path+'results/conv_test_640.dat')"
   ]
  },
  {
   "cell_type": "code",
   "execution_count": 214,
   "metadata": {},
   "outputs": [
    {
     "name": "stdout",
     "output_type": "stream",
     "text": [
      "conv_val_feat: <type 'numpy.ndarray'> (224, 512, 22, 40)\n",
      "conv_trn_feat: <type 'numpy.ndarray'> (526, 512, 22, 40)\n",
      "conv_test_feat: <type 'numpy.ndarray'> (200, 512, 22, 40)\n",
      "nb: output of model = vgg640.output_shape: (None, 512, 22, 40)\n"
     ]
    }
   ],
   "source": [
    "print (\"conv_val_feat:\", type(conv_val_feat), conv_val_feat.shape)\n",
    "print (\"conv_trn_feat:\", type(conv_trn_feat), conv_trn_feat.shape)\n",
    "print (\"conv_test_feat:\", type(conv_test_feat), conv_test_feat.shape)\n",
    "print (\"nb: output of model = vgg640.output_shape:\", vgg640.output_shape)"
   ]
  },
  {
   "cell_type": "code",
   "execution_count": null,
   "metadata": {},
   "outputs": [],
   "source": []
  },
  {
   "cell_type": "markdown",
   "metadata": {},
   "source": [
    "### Fully convolutional net (FCN)"
   ]
  },
  {
   "cell_type": "markdown",
   "metadata": {},
   "source": [
    "Since we're using a larger input, the output of the final convolutional layer is also larger. So we probably don't want to put a dense layer there - that would be a *lot* of parameters! Instead, let's use a fully convolutional net (FCN); this also has the benefit that they tend to generalize well, and also seems like a good fit for our problem (since the fish are a small part of the image)."
   ]
  },
  {
   "cell_type": "code",
   "execution_count": 218,
   "metadata": {},
   "outputs": [],
   "source": [
    "conv_layers,_ = split_at(vgg640, Convolution2D)\n",
    "#utils.split_at(model, layer_type): splits model object into two lists of layers split at last occurance of layer_type."
   ]
  },
  {
   "cell_type": "code",
   "execution_count": 219,
   "metadata": {},
   "outputs": [
    {
     "name": "stdout",
     "output_type": "stream",
     "text": [
      "conv_layers: <type 'list'> 31\n"
     ]
    }
   ],
   "source": [
    "print (\"conv_layers:\", type(conv_layers), len(conv_layers))"
   ]
  },
  {
   "cell_type": "markdown",
   "metadata": {},
   "source": [
    "I'm not using any dropout, since I found I got better results without it."
   ]
  },
  {
   "cell_type": "code",
   "execution_count": 220,
   "metadata": {},
   "outputs": [],
   "source": [
    "nf=128; p=0."
   ]
  },
  {
   "cell_type": "code",
   "execution_count": 221,
   "metadata": {},
   "outputs": [],
   "source": [
    "def get_lrg_layers():\n",
    "    return [\n",
    "        BatchNormalization(axis=1, input_shape=conv_layers[-1].output_shape[1:]),\n",
    "        Convolution2D(nf,3,3, activation='relu', border_mode='same'),\n",
    "        BatchNormalization(axis=1),\n",
    "        MaxPooling2D(),\n",
    "        Convolution2D(nf,3,3, activation='relu', border_mode='same'),\n",
    "        BatchNormalization(axis=1),\n",
    "        MaxPooling2D(),\n",
    "        Convolution2D(nf,3,3, activation='relu', border_mode='same'),\n",
    "        BatchNormalization(axis=1),\n",
    "        MaxPooling2D((1,2)),\n",
    "        Convolution2D(8,3,3, border_mode='same'),\n",
    "        Dropout(p),\n",
    "        GlobalAveragePooling2D(),\n",
    "        Activation('softmax')\n",
    "    ]"
   ]
  },
  {
   "cell_type": "code",
   "execution_count": 222,
   "metadata": {},
   "outputs": [],
   "source": [
    "lrg_model = Sequential(get_lrg_layers())\n",
    "#submit results to Kaggle using just this model"
   ]
  },
  {
   "cell_type": "code",
   "execution_count": 223,
   "metadata": {},
   "outputs": [
    {
     "name": "stdout",
     "output_type": "stream",
     "text": [
      "____________________________________________________________________________________________________\n",
      "Layer (type)                     Output Shape          Param #     Connected to                     \n",
      "====================================================================================================\n",
      "batchnormalization_18 (BatchNorm (None, 512, 22, 40)   2048        batchnormalization_input_1[0][0] \n",
      "____________________________________________________________________________________________________\n",
      "convolution2d_79 (Convolution2D) (None, 128, 22, 40)   589952      batchnormalization_18[0][0]      \n",
      "____________________________________________________________________________________________________\n",
      "batchnormalization_19 (BatchNorm (None, 128, 22, 40)   512         convolution2d_79[0][0]           \n",
      "____________________________________________________________________________________________________\n",
      "maxpooling2d_35 (MaxPooling2D)   (None, 128, 11, 20)   0           batchnormalization_19[0][0]      \n",
      "____________________________________________________________________________________________________\n",
      "convolution2d_80 (Convolution2D) (None, 128, 11, 20)   147584      maxpooling2d_35[0][0]            \n",
      "____________________________________________________________________________________________________\n",
      "batchnormalization_20 (BatchNorm (None, 128, 11, 20)   512         convolution2d_80[0][0]           \n",
      "____________________________________________________________________________________________________\n",
      "maxpooling2d_36 (MaxPooling2D)   (None, 128, 5, 10)    0           batchnormalization_20[0][0]      \n",
      "____________________________________________________________________________________________________\n",
      "convolution2d_81 (Convolution2D) (None, 128, 5, 10)    147584      maxpooling2d_36[0][0]            \n",
      "____________________________________________________________________________________________________\n",
      "batchnormalization_21 (BatchNorm (None, 128, 5, 10)    512         convolution2d_81[0][0]           \n",
      "____________________________________________________________________________________________________\n",
      "maxpooling2d_37 (MaxPooling2D)   (None, 128, 5, 5)     0           batchnormalization_21[0][0]      \n",
      "____________________________________________________________________________________________________\n",
      "convolution2d_82 (Convolution2D) (None, 8, 5, 5)       9224        maxpooling2d_37[0][0]            \n",
      "____________________________________________________________________________________________________\n",
      "dropout_17 (Dropout)             (None, 8, 5, 5)       0           convolution2d_82[0][0]           \n",
      "____________________________________________________________________________________________________\n",
      "globalaveragepooling2d_1 (Global (None, 8)             0           dropout_17[0][0]                 \n",
      "____________________________________________________________________________________________________\n",
      "activation_1 (Activation)        (None, 8)             0           globalaveragepooling2d_1[0][0]   \n",
      "====================================================================================================\n",
      "Total params: 897,928\n",
      "Trainable params: 896,136\n",
      "Non-trainable params: 1,792\n",
      "____________________________________________________________________________________________________\n"
     ]
    }
   ],
   "source": [
    "lrg_model.summary()"
   ]
  },
  {
   "cell_type": "code",
   "execution_count": 224,
   "metadata": {},
   "outputs": [
    {
     "name": "stdout",
     "output_type": "stream",
     "text": [
      "Number of layers :  14\n",
      "0 <class 'keras.layers.normalization.BatchNormalization'> , trainable: True\n",
      "input: (None, 512, 22, 40) , output: (None, 512, 22, 40) \n",
      "\n",
      "1 <class 'keras.layers.convolutional.Convolution2D'> , trainable: True\n",
      "input: (None, 512, 22, 40) , output: (None, 128, 22, 40) \n",
      "\n",
      "2 <class 'keras.layers.normalization.BatchNormalization'> , trainable: True\n",
      "input: (None, 128, 22, 40) , output: (None, 128, 22, 40) \n",
      "\n",
      "3 <class 'keras.layers.pooling.MaxPooling2D'> , trainable: True\n",
      "input: (None, 128, 22, 40) , output: (None, 128, 11, 20) \n",
      "\n",
      "4 <class 'keras.layers.convolutional.Convolution2D'> , trainable: True\n",
      "input: (None, 128, 11, 20) , output: (None, 128, 11, 20) \n",
      "\n",
      "5 <class 'keras.layers.normalization.BatchNormalization'> , trainable: True\n",
      "input: (None, 128, 11, 20) , output: (None, 128, 11, 20) \n",
      "\n",
      "6 <class 'keras.layers.pooling.MaxPooling2D'> , trainable: True\n",
      "input: (None, 128, 11, 20) , output: (None, 128, 5, 10) \n",
      "\n",
      "7 <class 'keras.layers.convolutional.Convolution2D'> , trainable: True\n",
      "input: (None, 128, 5, 10) , output: (None, 128, 5, 10) \n",
      "\n",
      "8 <class 'keras.layers.normalization.BatchNormalization'> , trainable: True\n",
      "input: (None, 128, 5, 10) , output: (None, 128, 5, 10) \n",
      "\n",
      "9 <class 'keras.layers.pooling.MaxPooling2D'> , trainable: True\n",
      "input: (None, 128, 5, 10) , output: (None, 128, 5, 5) \n",
      "\n",
      "10 <class 'keras.layers.convolutional.Convolution2D'> , trainable: True\n",
      "input: (None, 128, 5, 5) , output: (None, 8, 5, 5) \n",
      "\n",
      "11 <class 'keras.layers.core.Dropout'> , trainable: True\n",
      "input: (None, 8, 5, 5) , output: (None, 8, 5, 5) \n",
      "\n",
      "12 <class 'keras.layers.pooling.GlobalAveragePooling2D'> , trainable: True\n",
      "input: (None, 8, 5, 5) , output: (None, 8) \n",
      "\n",
      "13 <class 'keras.layers.core.Activation'> , trainable: True\n",
      "input: (None, 8) , output: (None, 8) \n",
      "\n"
     ]
    }
   ],
   "source": [
    "showLayersInfo(lrg_model)"
   ]
  },
  {
   "cell_type": "code",
   "execution_count": 225,
   "metadata": {},
   "outputs": [],
   "source": [
    "lrg_model.compile(Adam(lr=0.001), loss='categorical_crossentropy', metrics=['accuracy'])"
   ]
  },
  {
   "cell_type": "code",
   "execution_count": null,
   "metadata": {},
   "outputs": [],
   "source": [
    "#recall\n",
    "#trn = get_data(WORKING_TRAIN, (360,640))\n",
    "#conv_trn_feat = vgg640.predict(trn, batch_size=32, verbose=1)\n",
    "#(val_classes, trn_classes, val_labels, trn_labels, val_filenames, filenames, test_filenames) = get_classes(WORKING_DATA)\n",
    "#val = get_data(WORKING_VALID, (360,640))\n",
    "#conv_val_feat = vgg640.predict(val, batch_size=32, verbose=1)\n"
   ]
  },
  {
   "cell_type": "code",
   "execution_count": 226,
   "metadata": {},
   "outputs": [
    {
     "name": "stdout",
     "output_type": "stream",
     "text": [
      "Train on 526 samples, validate on 224 samples\n",
      "Epoch 1/2\n",
      "526/526 [==============================] - 2s - loss: 1.3843 - acc: 0.5475 - val_loss: 6.6673 - val_acc: 0.4598\n",
      "Epoch 2/2\n",
      "526/526 [==============================] - 2s - loss: 0.4099 - acc: 0.8935 - val_loss: 5.6375 - val_acc: 0.4732\n"
     ]
    },
    {
     "data": {
      "text/plain": [
       "<keras.callbacks.History at 0x7f2d8491a510>"
      ]
     },
     "execution_count": 226,
     "metadata": {},
     "output_type": "execute_result"
    }
   ],
   "source": [
    "lrg_model.fit(conv_trn_feat, trn_labels, batch_size=batch_size, nb_epoch=2, \n",
    "             validation_data=(conv_val_feat, val_labels))"
   ]
  },
  {
   "cell_type": "code",
   "execution_count": 227,
   "metadata": {},
   "outputs": [],
   "source": [
    "lrg_model.optimizer.lr=1e-5"
   ]
  },
  {
   "cell_type": "code",
   "execution_count": 228,
   "metadata": {
    "scrolled": true
   },
   "outputs": [
    {
     "name": "stdout",
     "output_type": "stream",
     "text": [
      "Train on 526 samples, validate on 224 samples\n",
      "Epoch 1/6\n",
      "526/526 [==============================] - 2s - loss: 0.1488 - acc: 0.9658 - val_loss: 4.3055 - val_acc: 0.5223\n",
      "Epoch 2/6\n",
      "526/526 [==============================] - 2s - loss: 0.0500 - acc: 0.9924 - val_loss: 3.6410 - val_acc: 0.4732\n",
      "Epoch 3/6\n",
      "526/526 [==============================] - 2s - loss: 0.0321 - acc: 0.9905 - val_loss: 2.9831 - val_acc: 0.6071\n",
      "Epoch 4/6\n",
      "526/526 [==============================] - 2s - loss: 0.0206 - acc: 0.9981 - val_loss: 1.8091 - val_acc: 0.6652\n",
      "Epoch 5/6\n",
      "526/526 [==============================] - 2s - loss: 0.0089 - acc: 0.9981 - val_loss: 1.3501 - val_acc: 0.7143\n",
      "Epoch 6/6\n",
      "526/526 [==============================] - 2s - loss: 0.0046 - acc: 1.0000 - val_loss: 1.3988 - val_acc: 0.7143\n"
     ]
    },
    {
     "data": {
      "text/plain": [
       "<keras.callbacks.History at 0x7f2d8491aa50>"
      ]
     },
     "execution_count": 228,
     "metadata": {},
     "output_type": "execute_result"
    }
   ],
   "source": [
    "lrg_model.fit(conv_trn_feat, trn_labels, batch_size=batch_size, nb_epoch=6, \n",
    "             validation_data=(conv_val_feat, val_labels))"
   ]
  },
  {
   "cell_type": "markdown",
   "metadata": {},
   "source": [
    "When I submitted the results of this model to Kaggle, I got the best single model results of any shown here (ranked 22nd on the leaderboard as at Dec-6-2016.)"
   ]
  },
  {
   "cell_type": "code",
   "execution_count": 229,
   "metadata": {},
   "outputs": [],
   "source": [
    "#lrg_model.save_weights(path+'models/lrg_nmp.h5')"
   ]
  },
  {
   "cell_type": "code",
   "execution_count": 230,
   "metadata": {},
   "outputs": [],
   "source": [
    "#lrg_model.load_weights(path+'models/lrg_nmp.h5')"
   ]
  },
  {
   "cell_type": "code",
   "execution_count": 231,
   "metadata": {},
   "outputs": [
    {
     "name": "stdout",
     "output_type": "stream",
     "text": [
      "224/224 [==============================] - 0s     \n"
     ]
    },
    {
     "data": {
      "text/plain": [
       "[1.3988339219774519, 0.7142857142857143]"
      ]
     },
     "execution_count": 231,
     "metadata": {},
     "output_type": "execute_result"
    }
   ],
   "source": [
    "lrg_model.evaluate(conv_val_feat, val_labels)"
   ]
  },
  {
   "cell_type": "markdown",
   "metadata": {},
   "source": [
    "Another benefit of this kind of model is that the last convolutional layer has to learn to classify each part of the image (since there's only an average pooling layer after). Let's create a function that grabs the output of this layer (which is the 4th-last layer of our model)."
   ]
  },
  {
   "cell_type": "code",
   "execution_count": 235,
   "metadata": {},
   "outputs": [],
   "source": [
    "l = lrg_model.layers"
   ]
  },
  {
   "cell_type": "code",
   "execution_count": 239,
   "metadata": {},
   "outputs": [
    {
     "name": "stdout",
     "output_type": "stream",
     "text": [
      "<type 'module'>\n",
      "<keras.layers.normalization.BatchNormalization object at 0x7f2d49fe59d0>\n",
      "batchnormalization_input_1\n",
      "keras_learning_phase\n"
     ]
    }
   ],
   "source": [
    "#recall - from utils.py: from keras import backend as K\n",
    "print (type(K))\n",
    "print (l[0])\n",
    "print (l[0].input)\n",
    "print (K.learning_phase()) #keras.backend.learning_phase()\n",
    "#The learning phase flag is a bool tensor (0 = test, 1 = train) to be passed as input to any Keras function\n",
    "#that uses a different behavior at train time and test time."
   ]
  },
  {
   "cell_type": "code",
   "execution_count": 237,
   "metadata": {},
   "outputs": [],
   "source": [
    "conv_fn = K.function([l[0].input, K.learning_phase()], l[-4].output)"
   ]
  },
  {
   "cell_type": "code",
   "execution_count": 240,
   "metadata": {},
   "outputs": [],
   "source": [
    "def get_cm(inp, label):\n",
    "    conv = conv_fn([inp,0])[0, label]\n",
    "    return scipy.misc.imresize(conv, (360,640), interp='nearest')"
   ]
  },
  {
   "cell_type": "markdown",
   "metadata": {},
   "source": [
    "We have to add an extra dimension to our input since the CNN expects a 'batch' (even if it's just a batch of one)."
   ]
  },
  {
   "cell_type": "code",
   "execution_count": 241,
   "metadata": {},
   "outputs": [
    {
     "data": {
      "text/plain": [
       "array([ 0.99,  0.  ,  0.  ,  0.  ,  0.  ,  0.  ,  0.  ,  0.  ], dtype=float32)"
      ]
     },
     "execution_count": 241,
     "metadata": {},
     "output_type": "execute_result"
    }
   ],
   "source": [
    "inp = np.expand_dims(conv_val_feat[0], 0)\n",
    "np.round(lrg_model.predict(inp)[0],2)"
   ]
  },
  {
   "cell_type": "code",
   "execution_count": 242,
   "metadata": {},
   "outputs": [
    {
     "data": {
      "text/plain": [
       "<matplotlib.image.AxesImage at 0x7f2d7dd87a90>"
      ]
     },
     "execution_count": 242,
     "metadata": {},
     "output_type": "execute_result"
    },
    {
     "data": {
      "image/png": "[encoded data removed]",
      "text/plain": [
       "<matplotlib.figure.Figure at 0x7f2d7f2df5d0>"
      ]
     },
     "metadata": {},
     "output_type": "display_data"
    }
   ],
   "source": [
    "plt.imshow(to_plot(val[0]))"
   ]
  },
  {
   "cell_type": "code",
   "execution_count": 243,
   "metadata": {},
   "outputs": [
    {
     "name": "stderr",
     "output_type": "stream",
     "text": [
      "/usr/local/lib/python2.7/dist-packages/ipykernel_launcher.py:3: DeprecationWarning: `imresize` is deprecated!\n",
      "`imresize` is deprecated in SciPy 1.0.0, and will be removed in 1.2.0.\n",
      "Use ``skimage.transform.resize`` instead.\n",
      "  This is separate from the ipykernel package so we can avoid doing imports until\n"
     ]
    }
   ],
   "source": [
    "cm = get_cm(inp, 0)"
   ]
  },
  {
   "cell_type": "markdown",
   "metadata": {},
   "source": [
    "The heatmap shows that (at very low resolution) the model is finding the fish!"
   ]
  },
  {
   "cell_type": "code",
   "execution_count": 244,
   "metadata": {},
   "outputs": [
    {
     "data": {
      "text/plain": [
       "<matplotlib.image.AxesImage at 0x7f2d630c9310>"
      ]
     },
     "execution_count": 244,
     "metadata": {},
     "output_type": "execute_result"
    },
    {
     "data": {
      "image/png": "[encoded data removed]",
      "text/plain": [
       "<matplotlib.figure.Figure at 0x7f2d7dd3ac50>"
      ]
     },
     "metadata": {},
     "output_type": "display_data"
    }
   ],
   "source": [
    "plt.imshow(cm, cmap=\"cool\")"
   ]
  },
  {
   "cell_type": "markdown",
   "metadata": {},
   "source": [
    "### All convolutional net heatmap"
   ]
  },
  {
   "cell_type": "markdown",
   "metadata": {},
   "source": [
    "To create a higher resolution heatmap, we'll remove all the max pooling layers, and repeat the previous steps."
   ]
  },
  {
   "cell_type": "code",
   "execution_count": null,
   "metadata": {},
   "outputs": [],
   "source": [
    "def get_lrg_layers():\n",
    "    return [\n",
    "        BatchNormalization(axis=1, input_shape=conv_layers[-1].output_shape[1:]),\n",
    "        Convolution2D(nf,3,3, activation='relu', border_mode='same'),\n",
    "        BatchNormalization(axis=1),\n",
    "        Convolution2D(nf,3,3, activation='relu', border_mode='same'),\n",
    "        BatchNormalization(axis=1),\n",
    "        Convolution2D(nf,3,3, activation='relu', border_mode='same'),\n",
    "        BatchNormalization(axis=1),\n",
    "        Convolution2D(8,3,3, border_mode='same'),\n",
    "        GlobalAveragePooling2D(),\n",
    "        Activation('softmax')\n",
    "    ]"
   ]
  },
  {
   "cell_type": "code",
   "execution_count": null,
   "metadata": {},
   "outputs": [],
   "source": [
    "lrg_model = Sequential(get_lrg_layers())"
   ]
  },
  {
   "cell_type": "code",
   "execution_count": null,
   "metadata": {},
   "outputs": [],
   "source": [
    "lrg_model.summary()"
   ]
  },
  {
   "cell_type": "code",
   "execution_count": null,
   "metadata": {},
   "outputs": [],
   "source": [
    "lrg_model.compile(Adam(lr=0.001), loss='categorical_crossentropy', metrics=['accuracy'])"
   ]
  },
  {
   "cell_type": "code",
   "execution_count": null,
   "metadata": {},
   "outputs": [],
   "source": [
    "lrg_model.fit(conv_trn_feat, trn_labels, batch_size=batch_size, nb_epoch=2, \n",
    "             validation_data=(conv_val_feat, val_labels))"
   ]
  },
  {
   "cell_type": "code",
   "execution_count": null,
   "metadata": {},
   "outputs": [],
   "source": [
    "lrg_model.optimizer.lr=1e-5"
   ]
  },
  {
   "cell_type": "code",
   "execution_count": null,
   "metadata": {
    "scrolled": false
   },
   "outputs": [],
   "source": [
    "lrg_model.fit(conv_trn_feat, trn_labels, batch_size=batch_size, nb_epoch=6, \n",
    "             validation_data=(conv_val_feat, val_labels))"
   ]
  },
  {
   "cell_type": "code",
   "execution_count": null,
   "metadata": {},
   "outputs": [],
   "source": [
    "lrg_model.save_weights(path+'models/lrg_0mp.h5')"
   ]
  },
  {
   "cell_type": "code",
   "execution_count": null,
   "metadata": {},
   "outputs": [],
   "source": [
    "lrg_model.load_weights(path+'models/lrg_0mp.h5')"
   ]
  },
  {
   "cell_type": "markdown",
   "metadata": {
    "collapsed": true
   },
   "source": [
    "#### Create heatmap"
   ]
  },
  {
   "cell_type": "code",
   "execution_count": null,
   "metadata": {},
   "outputs": [],
   "source": [
    "l = lrg_model.layers\n",
    "conv_fn = K.function([l[0].input, K.learning_phase()], l[-3].output)"
   ]
  },
  {
   "cell_type": "code",
   "execution_count": null,
   "metadata": {},
   "outputs": [],
   "source": [
    "def get_cm2(inp, label):\n",
    "    conv = conv_fn([inp,0])[0, label]\n",
    "    return scipy.misc.imresize(conv, (360,640))"
   ]
  },
  {
   "cell_type": "code",
   "execution_count": null,
   "metadata": {},
   "outputs": [],
   "source": [
    "inp = np.expand_dims(conv_val_feat[0], 0)"
   ]
  },
  {
   "cell_type": "code",
   "execution_count": null,
   "metadata": {},
   "outputs": [],
   "source": [
    "plt.imshow(to_plot(val[0]))"
   ]
  },
  {
   "cell_type": "code",
   "execution_count": null,
   "metadata": {},
   "outputs": [],
   "source": [
    "cm = get_cm2(inp, 0)"
   ]
  },
  {
   "cell_type": "code",
   "execution_count": null,
   "metadata": {},
   "outputs": [],
   "source": [
    "cm = get_cm2(inp, 4)"
   ]
  },
  {
   "cell_type": "code",
   "execution_count": null,
   "metadata": {},
   "outputs": [],
   "source": [
    "plt.imshow(cm, cmap=\"cool\")"
   ]
  },
  {
   "cell_type": "code",
   "execution_count": null,
   "metadata": {},
   "outputs": [],
   "source": [
    "plt.figure(figsize=(10,10))\n",
    "plot(val[0])\n",
    "plt.imshow(cm, cmap=\"cool\", alpha=0.5)"
   ]
  },
  {
   "cell_type": "markdown",
   "metadata": {},
   "source": [
    "### Inception mini-net"
   ]
  },
  {
   "cell_type": "markdown",
   "metadata": {},
   "source": [
    "Here's an example of how to create and use \"inception blocks\" - as you see, they use multiple different convolution filter sizes and concatenate the results together. We'll talk more about these next year."
   ]
  },
  {
   "cell_type": "code",
   "execution_count": null,
   "metadata": {},
   "outputs": [],
   "source": [
    "def conv2d_bn(x, nb_filter, nb_row, nb_col, subsample=(1, 1)):\n",
    "    x = Convolution2D(nb_filter, nb_row, nb_col,\n",
    "                      subsample=subsample, activation='relu', border_mode='same')(x)\n",
    "    return BatchNormalization(axis=1)(x)"
   ]
  },
  {
   "cell_type": "code",
   "execution_count": null,
   "metadata": {},
   "outputs": [],
   "source": [
    "def incep_block(x):\n",
    "    branch1x1 = conv2d_bn(x, 32, 1, 1, subsample=(2, 2))\n",
    "    branch5x5 = conv2d_bn(x, 24, 1, 1)\n",
    "    branch5x5 = conv2d_bn(branch5x5, 32, 5, 5, subsample=(2, 2))\n",
    "\n",
    "    branch3x3dbl = conv2d_bn(x, 32, 1, 1)\n",
    "    branch3x3dbl = conv2d_bn(branch3x3dbl, 48, 3, 3)\n",
    "    branch3x3dbl = conv2d_bn(branch3x3dbl, 48, 3, 3, subsample=(2, 2))\n",
    "\n",
    "    branch_pool = AveragePooling2D(\n",
    "        (3, 3), strides=(2, 2), border_mode='same')(x)\n",
    "    branch_pool = conv2d_bn(branch_pool, 16, 1, 1)\n",
    "    return merge([branch1x1, branch5x5, branch3x3dbl, branch_pool],\n",
    "              mode='concat', concat_axis=1)"
   ]
  },
  {
   "cell_type": "code",
   "execution_count": null,
   "metadata": {},
   "outputs": [],
   "source": [
    "inp = Input(vgg640.layers[-1].output_shape[1:]) \n",
    "x = BatchNormalization(axis=1)(inp)\n",
    "x = incep_block(x)\n",
    "x = incep_block(x)\n",
    "x = incep_block(x)\n",
    "x = Dropout(0.75)(x)\n",
    "x = Convolution2D(8,3,3, border_mode='same')(x)\n",
    "x = GlobalAveragePooling2D()(x)\n",
    "outp = Activation('softmax')(x)"
   ]
  },
  {
   "cell_type": "code",
   "execution_count": null,
   "metadata": {},
   "outputs": [],
   "source": [
    "lrg_model = Model([inp], outp)"
   ]
  },
  {
   "cell_type": "code",
   "execution_count": null,
   "metadata": {},
   "outputs": [],
   "source": [
    "lrg_model.compile(Adam(lr=0.001), loss='categorical_crossentropy', metrics=['accuracy'])"
   ]
  },
  {
   "cell_type": "code",
   "execution_count": null,
   "metadata": {},
   "outputs": [],
   "source": [
    "lrg_model.fit(conv_trn_feat, trn_labels, batch_size=batch_size, nb_epoch=2, \n",
    "             validation_data=(conv_val_feat, val_labels))"
   ]
  },
  {
   "cell_type": "code",
   "execution_count": null,
   "metadata": {},
   "outputs": [],
   "source": [
    "lrg_model.optimizer.lr=1e-5"
   ]
  },
  {
   "cell_type": "code",
   "execution_count": null,
   "metadata": {
    "scrolled": false
   },
   "outputs": [],
   "source": [
    "lrg_model.fit(conv_trn_feat, trn_labels, batch_size=batch_size, nb_epoch=6, \n",
    "             validation_data=(conv_val_feat, val_labels))"
   ]
  },
  {
   "cell_type": "code",
   "execution_count": null,
   "metadata": {
    "scrolled": true
   },
   "outputs": [],
   "source": [
    "lrg_model.fit(conv_trn_feat, trn_labels, batch_size=batch_size, nb_epoch=10, \n",
    "             validation_data=(conv_val_feat, val_labels))"
   ]
  },
  {
   "cell_type": "code",
   "execution_count": null,
   "metadata": {},
   "outputs": [],
   "source": [
    "lrg_model.save_weights(path+'models/lrg_nmp.h5')"
   ]
  },
  {
   "cell_type": "code",
   "execution_count": null,
   "metadata": {},
   "outputs": [],
   "source": [
    "lrg_model.load_weights(path+'models/lrg_nmp.h5')"
   ]
  },
  {
   "cell_type": "markdown",
   "metadata": {},
   "source": [
    "## Pseudo-labeling"
   ]
  },
  {
   "cell_type": "code",
   "execution_count": null,
   "metadata": {},
   "outputs": [],
   "source": [
    "preds = model.predict([conv_test_feat, test_sizes], batch_size=batch_size*2)"
   ]
  },
  {
   "cell_type": "code",
   "execution_count": null,
   "metadata": {},
   "outputs": [],
   "source": [
    "gen = image.ImageDataGenerator()"
   ]
  },
  {
   "cell_type": "code",
   "execution_count": null,
   "metadata": {},
   "outputs": [],
   "source": [
    "test_batches = gen.flow(conv_test_feat, preds, batch_size=16)"
   ]
  },
  {
   "cell_type": "code",
   "execution_count": null,
   "metadata": {},
   "outputs": [],
   "source": [
    "val_batches = gen.flow(conv_val_feat, val_labels, batch_size=4)"
   ]
  },
  {
   "cell_type": "code",
   "execution_count": null,
   "metadata": {},
   "outputs": [],
   "source": [
    "batches = gen.flow(conv_feat, trn_labels, batch_size=44)"
   ]
  },
  {
   "cell_type": "code",
   "execution_count": null,
   "metadata": {},
   "outputs": [],
   "source": [
    "mi = MixIterator([batches, test_batches, val_batches])"
   ]
  },
  {
   "cell_type": "code",
   "execution_count": null,
   "metadata": {
    "scrolled": false
   },
   "outputs": [],
   "source": [
    "bn_model.fit_generator(mi, mi.N, nb_epoch=8, validation_data=(conv_val_feat, val_labels))"
   ]
  },
  {
   "cell_type": "markdown",
   "metadata": {
    "collapsed": true
   },
   "source": [
    "## Submit"
   ]
  },
  {
   "cell_type": "code",
   "execution_count": null,
   "metadata": {},
   "outputs": [],
   "source": [
    "def do_clip(arr, mx): return np.clip(arr, (1-mx)/7, mx)"
   ]
  },
  {
   "cell_type": "code",
   "execution_count": null,
   "metadata": {
    "scrolled": true
   },
   "outputs": [],
   "source": [
    "lrg_model.evaluate(conv_val_feat, val_labels, batch_size*2)"
   ]
  },
  {
   "cell_type": "code",
   "execution_count": null,
   "metadata": {},
   "outputs": [],
   "source": [
    "preds = model.predict(conv_test_feat, batch_size=batch_size)"
   ]
  },
  {
   "cell_type": "code",
   "execution_count": null,
   "metadata": {},
   "outputs": [],
   "source": [
    "preds = preds[1]"
   ]
  },
  {
   "cell_type": "code",
   "execution_count": null,
   "metadata": {},
   "outputs": [],
   "source": [
    "test = load_array(path+'results/test_640.dat')"
   ]
  },
  {
   "cell_type": "code",
   "execution_count": null,
   "metadata": {},
   "outputs": [],
   "source": [
    "test = load_array(path+'results/test.dat')"
   ]
  },
  {
   "cell_type": "code",
   "execution_count": null,
   "metadata": {},
   "outputs": [],
   "source": [
    "preds = conv_model.predict(test, batch_size=32)"
   ]
  },
  {
   "cell_type": "code",
   "execution_count": null,
   "metadata": {},
   "outputs": [],
   "source": [
    "subm = do_clip(preds,0.82)"
   ]
  },
  {
   "cell_type": "code",
   "execution_count": null,
   "metadata": {},
   "outputs": [],
   "source": [
    "subm_name = path+'results/subm_bb.gz'"
   ]
  },
  {
   "cell_type": "code",
   "execution_count": null,
   "metadata": {},
   "outputs": [],
   "source": [
    "# classes = sorted(batches.class_indices, key=batches.class_indices.get)\n",
    "classes = ['ALB', 'BET', 'DOL', 'LAG', 'NoF', 'OTHER', 'SHARK', 'YFT']"
   ]
  },
  {
   "cell_type": "code",
   "execution_count": null,
   "metadata": {
    "scrolled": true
   },
   "outputs": [],
   "source": [
    "submission = pd.DataFrame(subm, columns=classes)\n",
    "submission.insert(0, 'image', raw_test_filenames)\n",
    "submission.head()"
   ]
  },
  {
   "cell_type": "code",
   "execution_count": null,
   "metadata": {},
   "outputs": [],
   "source": [
    "submission.to_csv(subm_name, index=False, compression='gzip')"
   ]
  },
  {
   "cell_type": "code",
   "execution_count": null,
   "metadata": {
    "scrolled": false
   },
   "outputs": [],
   "source": [
    "FileLink(subm_name)"
   ]
  },
  {
   "cell_type": "code",
   "execution_count": null,
   "metadata": {},
   "outputs": [],
   "source": []
  }
 ],
 "metadata": {
  "anaconda-cloud": {},
  "kernelspec": {
   "display_name": "Python 2",
   "language": "python",
   "name": "python2"
  },
  "language_info": {
   "codemirror_mode": {
    "name": "ipython",
    "version": 2
   },
   "file_extension": ".py",
   "mimetype": "text/x-python",
   "name": "python",
   "nbconvert_exporter": "python",
   "pygments_lexer": "ipython2",
   "version": "2.7.12"
  }
 },
 "nbformat": 4,
 "nbformat_minor": 1
}
