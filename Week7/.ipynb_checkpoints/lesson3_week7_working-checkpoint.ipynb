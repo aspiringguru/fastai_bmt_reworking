{
 "cells": [
  {
   "cell_type": "markdown",
   "metadata": {},
   "source": [
    "# Training a better model"
   ]
  },
  {
   "cell_type": "code",
   "execution_count": 1,
   "metadata": {},
   "outputs": [
    {
     "name": "stdout",
     "output_type": "stream",
     "text": [
      "('HOMEPATH:', '/home/ubuntu/fastai/')\n"
     ]
    }
   ],
   "source": [
    "sample_or_prod = True #True = sample, False = production\n",
    "\n",
    "HOMEPATH = \"/home/ubuntu/fastai/\"\n",
    "print(\"HOMEPATH:\", HOMEPATH)\n",
    "DATA_PATH = HOMEPATH + \"data/dogscats/\"\n",
    "\n",
    "\n"
   ]
  },
  {
   "cell_type": "code",
   "execution_count": 2,
   "metadata": {},
   "outputs": [
    {
     "name": "stdout",
     "output_type": "stream",
     "text": [
      "('WORKING_DATA:', '/home/ubuntu/fastai/data/dogscats/sample/')\n",
      "('WORKING_TEST:', '/home/ubuntu/fastai/data/dogscats/sample/test/')\n",
      "('WORKING_TRAIN:', '/home/ubuntu/fastai/data/dogscats/sample/train/')\n",
      "('WORKING_VALID:', '/home/ubuntu/fastai/data/dogscats/sample/valid/')\n",
      "('s_or_p:', '_sample_')\n"
     ]
    }
   ],
   "source": [
    "MODEL_PATH = DATA_PATH+\"models/\"\n",
    "RESULTS_PATH = DATA_PATH+\"results/\"\n",
    "\n",
    "\n",
    "SAMPLE_DATA_PATH = DATA_PATH + \"sample/\"#choose this for testing or above for production\n",
    "SAMPLE_TEST_PATH = SAMPLE_DATA_PATH+\"test/\"\n",
    "SAMPLE_TRAIN_PATH = SAMPLE_DATA_PATH + \"train/\"\n",
    "SAMPLE_VALID_PATH = SAMPLE_DATA_PATH + \"valid/\"\n",
    "\n",
    "\n",
    "TEST_PATH = DATA_PATH+\"test/\"\n",
    "TRAIN_PATH = DATA_PATH + \"train/\"\n",
    "VALID_PATH = DATA_PATH + \"valid/\"\n",
    "\n",
    "if sample_or_prod:\n",
    "    WORKING_DATA  = SAMPLE_DATA_PATH\n",
    "    WORKING_TEST  = SAMPLE_TEST_PATH\n",
    "    WORKING_TRAIN = SAMPLE_TRAIN_PATH\n",
    "    WORKING_VALID = SAMPLE_VALID_PATH\n",
    "    s_or_p = \"_sample_\"\n",
    "else:\n",
    "    WORKING_DATA  = DATA_PATH\n",
    "    WORKING_TEST  = TEST_PATH\n",
    "    WORKING_TRAIN = TRAIN_PATH\n",
    "    WORKING_VALID = VALID_PATH\n",
    "    s_or_p = \"_prod_\"\n",
    "\n",
    "    \n",
    "print (\"WORKING_DATA:\", WORKING_DATA)\n",
    "print (\"WORKING_TEST:\", WORKING_TEST)\n",
    "print (\"WORKING_TRAIN:\", WORKING_TRAIN)\n",
    "print (\"WORKING_VALID:\", WORKING_VALID)\n",
    "print (\"s_or_p:\", s_or_p)"
   ]
  },
  {
   "cell_type": "code",
   "execution_count": 3,
   "metadata": {},
   "outputs": [
    {
     "name": "stderr",
     "output_type": "stream",
     "text": [
      "WARNING (theano.sandbox.cuda): The cuda backend is deprecated and will be removed in the next release (v0.10).  Please switch to the gpuarray backend. You can get more information about how to switch at this URL:\n",
      " https://github.com/Theano/Theano/wiki/Converting-to-the-new-gpu-back-end%28gpuarray%29\n",
      "\n",
      "Using gpu device 0: Tesla K80 (CNMeM is disabled, cuDNN 5110)\n"
     ]
    }
   ],
   "source": [
    "from theano.sandbox import cuda"
   ]
  },
  {
   "cell_type": "code",
   "execution_count": 4,
   "metadata": {},
   "outputs": [
    {
     "name": "stdout",
     "output_type": "stream",
     "text": [
      "('os.getcwd:', '/home/ubuntu/fastai')\n"
     ]
    },
    {
     "name": "stderr",
     "output_type": "stream",
     "text": [
      "Using Theano backend.\n"
     ]
    }
   ],
   "source": [
    "import os\n",
    "os.chdir(HOMEPATH)\n",
    "print (\"os.getcwd:\", os.getcwd())\n",
    "\n",
    "%matplotlib inline\n",
    "import utils; reload(utils)\n",
    "from utils import *\n",
    "from __future__ import division, print_function"
   ]
  },
  {
   "cell_type": "code",
   "execution_count": 5,
   "metadata": {},
   "outputs": [],
   "source": [
    "#path = \"data/dogscats/sample/\"\n",
    "path = WORKING_DATA\n",
    "model_path = MODEL_PATH\n",
    "#if not os.path.exists(model_path): os.mkdir(model_path)\n",
    "\n",
    "batch_size=64"
   ]
  },
  {
   "cell_type": "code",
   "execution_count": 6,
   "metadata": {},
   "outputs": [],
   "source": [
    "def plot_history(histories):\n",
    "    #histories : list of history objects. nb: history.history dictionary structure\n",
    "    print (\"len(histories):\", len(histories))\n",
    "    if len(histories)==1: \n",
    "        history = histories\n",
    "        #needs fix\n",
    "    else:\n",
    "        #create empty history to copy into\n",
    "        history = {}\n",
    "        for i in histories[0].history.keys():\n",
    "            history[i] = []\n",
    "        #now combine all history[key] lists into one history[key] list.\n",
    "        for hist in histories:\n",
    "            for key in history.keys():\n",
    "                history[key] += hist.history[key]\n",
    "                #print (key, len(hist.history[key]), len(history[key]))\n",
    "\n",
    "    # list all data in history\n",
    "    print(history.keys(), len(history[history.keys()[0]]))\n",
    "    for key in history.keys():\n",
    "        print (key, \":\", history[key][-1])\n",
    "\n",
    "    # summarize history for accuracy\n",
    "    plt.plot(history['acc'])\n",
    "    plt.plot(history['val_acc'])\n",
    "    plt.title('model accuracy')\n",
    "    plt.ylabel('accuracy')\n",
    "    plt.xlabel('epoch')\n",
    "    plt.legend(['train', 'validate'], loc='upper left')\n",
    "    plt.show()\n",
    "    # summarize history for loss\n",
    "    plt.plot(history['loss'])\n",
    "    plt.plot(history['val_loss'])\n",
    "    plt.title('model loss')\n",
    "    plt.ylabel('loss')\n",
    "    plt.xlabel('epoch')\n",
    "    plt.legend(['train', 'validate'], loc='upper left')\n",
    "    plt.show()"
   ]
  },
  {
   "cell_type": "markdown",
   "metadata": {
    "heading_collapsed": true
   },
   "source": [
    "## Are we underfitting?"
   ]
  },
  {
   "cell_type": "markdown",
   "metadata": {
    "hidden": true
   },
   "source": [
    "Our validation accuracy so far has generally been higher than our training accuracy. That leads to two obvious questions:\n",
    "\n",
    "1. How is this possible?\n",
    "2. Is this desirable?\n",
    "\n",
    "The answer to (1) is that this is happening because of *dropout*. Dropout refers to a layer that randomly deletes (i.e. sets to zero) each activation in the previous layer with probability *p* (generally 0.5). This only happens during training, not when calculating the accuracy on the validation set, which is why the validation set can show higher accuracy than the training set.\n",
    "\n",
    "The purpose of dropout is to avoid overfitting. By deleting parts of the neural network at random during training, it ensures that no one part of the network can overfit to one part of the training set. The creation of dropout was one of the key developments in deep learning, and has allowed us to create rich models without overfitting. However, it can also result in underfitting if overused, and this is something we should be careful of with our model.\n",
    "\n",
    "So the answer to (2) is: this is probably not desirable. It is likely that we can get better validation set results with less (or no) dropout, if we're seeing that validation accuracy is higher than training accuracy - a strong sign of underfitting. So let's try removing dropout entirely, and see what happens!\n",
    "\n",
    "(We had dropout in this model already because the VGG authors found it necessary for the imagenet competition. But that doesn't mean it's necessary for dogs v cats, so we will do our own analysis of regularization approaches from scratch.)"
   ]
  },
  {
   "cell_type": "markdown",
   "metadata": {},
   "source": [
    "## Removing dropout"
   ]
  },
  {
   "cell_type": "markdown",
   "metadata": {},
   "source": [
    "Our high level approach here will be to start with our fine-tuned cats vs dogs model (with dropout), then fine-tune all the dense layers, after removing dropout from them. The steps we will take are:\n",
    "- Re-create and load our modified VGG model with binary dependent (i.e. dogs v cats)\n",
    "- Split the model between the convolutional (*conv*) layers and the dense layers\n",
    "- Pre-calculate the output of the conv layers, so that we don't have to redundently re-calculate them on every epoch\n",
    "- Create a new model with just the dense layers, and dropout p set to zero\n",
    "- Train this new model using the output of the conv layers as training data."
   ]
  },
  {
   "cell_type": "markdown",
   "metadata": {},
   "source": [
    "As before we need to start with a working model, so let's bring in our working VGG 16 model and change it to predict our binary dependent..."
   ]
  },
  {
   "cell_type": "code",
   "execution_count": 7,
   "metadata": {},
   "outputs": [],
   "source": [
    "model = vgg_ft(2)"
   ]
  },
  {
   "cell_type": "markdown",
   "metadata": {},
   "source": [
    "...and load our fine-tuned weights."
   ]
  },
  {
   "cell_type": "code",
   "execution_count": 8,
   "metadata": {},
   "outputs": [
    {
     "name": "stdout",
     "output_type": "stream",
     "text": [
      "____________________________________________________________________________________________________\n",
      "Layer (type)                     Output Shape          Param #     Connected to                     \n",
      "====================================================================================================\n",
      "lambda_1 (Lambda)                (None, 3, 224, 224)   0           lambda_input_1[0][0]             \n",
      "____________________________________________________________________________________________________\n",
      "zeropadding2d_1 (ZeroPadding2D)  (None, 3, 226, 226)   0           lambda_1[0][0]                   \n",
      "____________________________________________________________________________________________________\n",
      "convolution2d_1 (Convolution2D)  (None, 64, 224, 224)  1792        zeropadding2d_1[0][0]            \n",
      "____________________________________________________________________________________________________\n",
      "zeropadding2d_2 (ZeroPadding2D)  (None, 64, 226, 226)  0           convolution2d_1[0][0]            \n",
      "____________________________________________________________________________________________________\n",
      "convolution2d_2 (Convolution2D)  (None, 64, 224, 224)  36928       zeropadding2d_2[0][0]            \n",
      "____________________________________________________________________________________________________\n",
      "maxpooling2d_1 (MaxPooling2D)    (None, 64, 112, 112)  0           convolution2d_2[0][0]            \n",
      "____________________________________________________________________________________________________\n",
      "zeropadding2d_3 (ZeroPadding2D)  (None, 64, 114, 114)  0           maxpooling2d_1[0][0]             \n",
      "____________________________________________________________________________________________________\n",
      "convolution2d_3 (Convolution2D)  (None, 128, 112, 112) 73856       zeropadding2d_3[0][0]            \n",
      "____________________________________________________________________________________________________\n",
      "zeropadding2d_4 (ZeroPadding2D)  (None, 128, 114, 114) 0           convolution2d_3[0][0]            \n",
      "____________________________________________________________________________________________________\n",
      "convolution2d_4 (Convolution2D)  (None, 128, 112, 112) 147584      zeropadding2d_4[0][0]            \n",
      "____________________________________________________________________________________________________\n",
      "maxpooling2d_2 (MaxPooling2D)    (None, 128, 56, 56)   0           convolution2d_4[0][0]            \n",
      "____________________________________________________________________________________________________\n",
      "zeropadding2d_5 (ZeroPadding2D)  (None, 128, 58, 58)   0           maxpooling2d_2[0][0]             \n",
      "____________________________________________________________________________________________________\n",
      "convolution2d_5 (Convolution2D)  (None, 256, 56, 56)   295168      zeropadding2d_5[0][0]            \n",
      "____________________________________________________________________________________________________\n",
      "zeropadding2d_6 (ZeroPadding2D)  (None, 256, 58, 58)   0           convolution2d_5[0][0]            \n",
      "____________________________________________________________________________________________________\n",
      "convolution2d_6 (Convolution2D)  (None, 256, 56, 56)   590080      zeropadding2d_6[0][0]            \n",
      "____________________________________________________________________________________________________\n",
      "zeropadding2d_7 (ZeroPadding2D)  (None, 256, 58, 58)   0           convolution2d_6[0][0]            \n",
      "____________________________________________________________________________________________________\n",
      "convolution2d_7 (Convolution2D)  (None, 256, 56, 56)   590080      zeropadding2d_7[0][0]            \n",
      "____________________________________________________________________________________________________\n",
      "maxpooling2d_3 (MaxPooling2D)    (None, 256, 28, 28)   0           convolution2d_7[0][0]            \n",
      "____________________________________________________________________________________________________\n",
      "zeropadding2d_8 (ZeroPadding2D)  (None, 256, 30, 30)   0           maxpooling2d_3[0][0]             \n",
      "____________________________________________________________________________________________________\n",
      "convolution2d_8 (Convolution2D)  (None, 512, 28, 28)   1180160     zeropadding2d_8[0][0]            \n",
      "____________________________________________________________________________________________________\n",
      "zeropadding2d_9 (ZeroPadding2D)  (None, 512, 30, 30)   0           convolution2d_8[0][0]            \n",
      "____________________________________________________________________________________________________\n",
      "convolution2d_9 (Convolution2D)  (None, 512, 28, 28)   2359808     zeropadding2d_9[0][0]            \n",
      "____________________________________________________________________________________________________\n",
      "zeropadding2d_10 (ZeroPadding2D) (None, 512, 30, 30)   0           convolution2d_9[0][0]            \n",
      "____________________________________________________________________________________________________\n",
      "convolution2d_10 (Convolution2D) (None, 512, 28, 28)   2359808     zeropadding2d_10[0][0]           \n",
      "____________________________________________________________________________________________________\n",
      "maxpooling2d_4 (MaxPooling2D)    (None, 512, 14, 14)   0           convolution2d_10[0][0]           \n",
      "____________________________________________________________________________________________________\n",
      "zeropadding2d_11 (ZeroPadding2D) (None, 512, 16, 16)   0           maxpooling2d_4[0][0]             \n",
      "____________________________________________________________________________________________________\n",
      "convolution2d_11 (Convolution2D) (None, 512, 14, 14)   2359808     zeropadding2d_11[0][0]           \n",
      "____________________________________________________________________________________________________\n",
      "zeropadding2d_12 (ZeroPadding2D) (None, 512, 16, 16)   0           convolution2d_11[0][0]           \n",
      "____________________________________________________________________________________________________\n",
      "convolution2d_12 (Convolution2D) (None, 512, 14, 14)   2359808     zeropadding2d_12[0][0]           \n",
      "____________________________________________________________________________________________________\n",
      "zeropadding2d_13 (ZeroPadding2D) (None, 512, 16, 16)   0           convolution2d_12[0][0]           \n",
      "____________________________________________________________________________________________________\n",
      "convolution2d_13 (Convolution2D) (None, 512, 14, 14)   2359808     zeropadding2d_13[0][0]           \n",
      "____________________________________________________________________________________________________\n",
      "maxpooling2d_5 (MaxPooling2D)    (None, 512, 7, 7)     0           convolution2d_13[0][0]           \n",
      "____________________________________________________________________________________________________\n",
      "flatten_1 (Flatten)              (None, 25088)         0           maxpooling2d_5[0][0]             \n",
      "____________________________________________________________________________________________________\n",
      "dense_1 (Dense)                  (None, 4096)          102764544   flatten_1[0][0]                  \n",
      "____________________________________________________________________________________________________\n",
      "dropout_1 (Dropout)              (None, 4096)          0           dense_1[0][0]                    \n",
      "____________________________________________________________________________________________________\n",
      "dense_2 (Dense)                  (None, 4096)          16781312    dropout_1[0][0]                  \n",
      "____________________________________________________________________________________________________\n",
      "dropout_2 (Dropout)              (None, 4096)          0           dense_2[0][0]                    \n",
      "____________________________________________________________________________________________________\n",
      "dense_4 (Dense)                  (None, 2)             8194        dropout_2[0][0]                  \n",
      "====================================================================================================\n",
      "Total params: 134,268,738\n",
      "Trainable params: 8,194\n",
      "Non-trainable params: 134,260,544\n",
      "____________________________________________________________________________________________________\n"
     ]
    }
   ],
   "source": [
    "model.summary()"
   ]
  },
  {
   "cell_type": "code",
   "execution_count": 9,
   "metadata": {},
   "outputs": [],
   "source": [
    "model.load_weights(model_path+'finetune3.h5')"
   ]
  },
  {
   "cell_type": "markdown",
   "metadata": {
    "collapsed": true
   },
   "source": [
    "We're going to be training a number of iterations without dropout, so it would be best for us to pre-calculate the input to the fully connected layers - i.e. the *Flatten()* layer. We'll start by finding this layer in our model, and creating a new model that contains just the layers up to and including this layer:"
   ]
  },
  {
   "cell_type": "code",
   "execution_count": 10,
   "metadata": {},
   "outputs": [],
   "source": [
    "layers = model.layers"
   ]
  },
  {
   "cell_type": "code",
   "execution_count": 11,
   "metadata": {},
   "outputs": [],
   "source": [
    "last_conv_idx = [index for index,layer in enumerate(layers) \n",
    "                     if type(layer) is Convolution2D][-1]"
   ]
  },
  {
   "cell_type": "code",
   "execution_count": 12,
   "metadata": {},
   "outputs": [
    {
     "data": {
      "text/plain": [
       "30"
      ]
     },
     "execution_count": 12,
     "metadata": {},
     "output_type": "execute_result"
    }
   ],
   "source": [
    "last_conv_idx"
   ]
  },
  {
   "cell_type": "code",
   "execution_count": 13,
   "metadata": {},
   "outputs": [
    {
     "data": {
      "text/plain": [
       "<keras.layers.convolutional.Convolution2D at 0x7f1964890ed0>"
      ]
     },
     "execution_count": 13,
     "metadata": {},
     "output_type": "execute_result"
    }
   ],
   "source": [
    "layers[last_conv_idx]"
   ]
  },
  {
   "cell_type": "code",
   "execution_count": 14,
   "metadata": {},
   "outputs": [],
   "source": [
    "conv_layers = layers[:last_conv_idx+1]\n",
    "conv_model = Sequential(conv_layers)\n",
    "# Dense layers - also known as fully connected or 'FC' layers\n",
    "fc_layers = layers[last_conv_idx+1:]"
   ]
  },
  {
   "cell_type": "markdown",
   "metadata": {},
   "source": [
    "Now we can use the exact same approach to creating features as we used when we created the linear model from the imagenet predictions in the last lesson - it's only the model that has changed. As you're seeing, there's a fairly small number of \"recipes\" that can get us a long way!"
   ]
  },
  {
   "cell_type": "code",
   "execution_count": 15,
   "metadata": {
    "scrolled": false
   },
   "outputs": [
    {
     "name": "stdout",
     "output_type": "stream",
     "text": [
      "Found 2000 images belonging to 2 classes.\n",
      "Found 2000 images belonging to 2 classes.\n",
      "Found 12500 images belonging to 1 classes.\n"
     ]
    }
   ],
   "source": [
    "batches = get_batches(WORKING_TRAIN, shuffle=False, batch_size=batch_size)\n",
    "val_batches = get_batches(WORKING_VALID, shuffle=False, batch_size=batch_size)\n",
    "test_batches = get_batches(WORKING_TEST, shuffle=False, batch_size=batch_size)\n",
    "\n",
    "trn_classes = batches.classes\n",
    "val_classes = val_batches.classes\n",
    "test_classes = test_batches.classes\n",
    "\n",
    "trn_labels = onehot(trn_classes)\n",
    "val_labels = onehot(val_classes)\n",
    "test_labels = onehot(test_classes)"
   ]
  },
  {
   "cell_type": "code",
   "execution_count": 16,
   "metadata": {},
   "outputs": [
    {
     "name": "stdout",
     "output_type": "stream",
     "text": [
      "trn_classes: <type 'numpy.ndarray'> (2000,)\n",
      "val_classes: <type 'numpy.ndarray'> (2000,)\n",
      "test_classes: <type 'numpy.ndarray'> (12500,)\n",
      "trn_labels: <type 'numpy.ndarray'> (2000, 2)\n",
      "val_labels: <type 'numpy.ndarray'> (2000, 2)\n",
      "test_labels: <type 'numpy.ndarray'> (12500, 1)\n"
     ]
    }
   ],
   "source": [
    "print (\"trn_classes:\", type(trn_classes), trn_classes.shape)\n",
    "print (\"val_classes:\", type(val_classes), val_classes.shape)\n",
    "print (\"test_classes:\", type(test_classes), test_classes.shape)\n",
    "print (\"trn_labels:\", type(trn_labels), trn_labels.shape)\n",
    "print (\"val_labels:\", type(val_labels), val_labels.shape)\n",
    "\n",
    "print (\"test_labels:\", type(test_labels), test_labels.shape)\n",
    "#nb: test_labels are one column only 'unknown'"
   ]
  },
  {
   "cell_type": "code",
   "execution_count": 17,
   "metadata": {},
   "outputs": [
    {
     "name": "stdout",
     "output_type": "stream",
     "text": [
      "batches.class_indices: {'cats': 0, 'dogs': 1}\n",
      "val_batches.class_indices: {'cats': 0, 'dogs': 1}\n",
      "test_batches.class_indices: {'unknown': 0}\n"
     ]
    }
   ],
   "source": [
    "print (\"batches.class_indices:\", batches.class_indices)\n",
    "print (\"val_batches.class_indices:\", val_batches.class_indices)\n",
    "print (\"test_batches.class_indices:\", test_batches.class_indices)"
   ]
  },
  {
   "cell_type": "code",
   "execution_count": 18,
   "metadata": {},
   "outputs": [],
   "source": [
    "test_features = conv_model.predict_generator(test_batches, test_batches.nb_sample)"
   ]
  },
  {
   "cell_type": "code",
   "execution_count": 19,
   "metadata": {},
   "outputs": [],
   "source": [
    "val_features = conv_model.predict_generator(val_batches, val_batches.nb_sample)"
   ]
  },
  {
   "cell_type": "code",
   "execution_count": 20,
   "metadata": {},
   "outputs": [
    {
     "name": "stdout",
     "output_type": "stream",
     "text": [
      "val_batches: <class 'keras.preprocessing.image.DirectoryIterator'>\n",
      "val_batches.nb_sample: <type 'int'> 2000\n"
     ]
    }
   ],
   "source": [
    "print (\"val_batches:\", type(val_batches))\n",
    "print (\"val_batches.nb_sample:\", type(val_batches.nb_sample), val_batches.nb_sample)"
   ]
  },
  {
   "cell_type": "code",
   "execution_count": 21,
   "metadata": {},
   "outputs": [],
   "source": [
    "trn_features = conv_model.predict_generator(batches, batches.nb_sample)"
   ]
  },
  {
   "cell_type": "code",
   "execution_count": 22,
   "metadata": {},
   "outputs": [
    {
     "name": "stdout",
     "output_type": "stream",
     "text": [
      "val_features: <type 'numpy.ndarray'> (2000, 512, 14, 14)\n",
      "trn_features: <type 'numpy.ndarray'> (2000, 512, 14, 14)\n",
      "test_features: <type 'numpy.ndarray'> (12500, 512, 14, 14)\n"
     ]
    }
   ],
   "source": [
    "print (\"val_features:\", type(val_features), val_features.shape)\n",
    "print (\"trn_features:\", type(trn_features), trn_features.shape)\n",
    "print (\"test_features:\", type(test_features), test_features.shape)\n"
   ]
  },
  {
   "cell_type": "code",
   "execution_count": 23,
   "metadata": {},
   "outputs": [],
   "source": [
    "#save_array(model_path + 'train_convlayer_features.bc', trn_features)\n",
    "#save_array(model_path + 'valid_convlayer_features.bc', val_features)"
   ]
  },
  {
   "cell_type": "code",
   "execution_count": 24,
   "metadata": {},
   "outputs": [],
   "source": [
    "#trn_features = load_array(model_path+'train_convlayer_features.bc')\n",
    "#val_features = load_array(model_path+'valid_convlayer_features.bc')"
   ]
  },
  {
   "cell_type": "markdown",
   "metadata": {},
   "source": [
    "For our new fully connected model, we'll create it using the exact same architecture as the last layers of VGG 16, so that we can conveniently copy pre-trained weights over from that model. However, we'll set the dropout layer's p values to zero, so as to effectively remove dropout."
   ]
  },
  {
   "cell_type": "code",
   "execution_count": 25,
   "metadata": {},
   "outputs": [],
   "source": [
    "# Copy the weights from the pre-trained model.\n",
    "# NB: Since we're removing dropout, we want to half the weights\n",
    "def proc_wgts(layer): return [o/2 for o in layer.get_weights()]"
   ]
  },
  {
   "cell_type": "code",
   "execution_count": 26,
   "metadata": {},
   "outputs": [],
   "source": [
    "# Such a finely tuned model needs to be updated very slowly!\n",
    "opt = RMSprop(lr=0.00001, rho=0.7)"
   ]
  },
  {
   "cell_type": "code",
   "execution_count": 27,
   "metadata": {},
   "outputs": [],
   "source": [
    "def get_fc_model():\n",
    "    model = Sequential([\n",
    "        MaxPooling2D(input_shape=conv_layers[-1].output_shape[1:]),\n",
    "        Flatten(),\n",
    "        Dense(4096, activation='relu'),\n",
    "        Dropout(0.),\n",
    "        Dense(4096, activation='relu'),\n",
    "        Dropout(0.),\n",
    "        Dense(2, activation='softmax')\n",
    "        ])\n",
    "\n",
    "    for l1,l2 in zip(model.layers, fc_layers): l1.set_weights(proc_wgts(l2))\n",
    "\n",
    "    model.compile(optimizer=opt, loss='categorical_crossentropy', metrics=['accuracy'])\n",
    "    return model"
   ]
  },
  {
   "cell_type": "code",
   "execution_count": 28,
   "metadata": {},
   "outputs": [],
   "source": [
    "fc_model = get_fc_model()"
   ]
  },
  {
   "cell_type": "markdown",
   "metadata": {},
   "source": [
    "And fit the model in the usual way:"
   ]
  },
  {
   "cell_type": "code",
   "execution_count": 30,
   "metadata": {},
   "outputs": [
    {
     "name": "stdout",
     "output_type": "stream",
     "text": [
      "Train on 2000 samples, validate on 2000 samples\n",
      "Epoch 1/8\n",
      "2000/2000 [==============================] - 3s - loss: 0.2632 - acc: 0.9805 - val_loss: 0.3533 - val_acc: 0.9745\n",
      "Epoch 2/8\n",
      "2000/2000 [==============================] - 3s - loss: 0.2031 - acc: 0.9860 - val_loss: 0.3159 - val_acc: 0.9775\n",
      "Epoch 3/8\n",
      "2000/2000 [==============================] - 3s - loss: 0.1892 - acc: 0.9865 - val_loss: 0.3076 - val_acc: 0.9785\n",
      "Epoch 4/8\n",
      "2000/2000 [==============================] - 3s - loss: 0.2027 - acc: 0.9865 - val_loss: 0.2856 - val_acc: 0.9805\n",
      "Epoch 5/8\n",
      "2000/2000 [==============================] - 3s - loss: 0.1280 - acc: 0.9910 - val_loss: 0.2972 - val_acc: 0.9795\n",
      "Epoch 6/8\n",
      "2000/2000 [==============================] - 3s - loss: 0.1140 - acc: 0.9925 - val_loss: 0.3272 - val_acc: 0.9780\n",
      "Epoch 7/8\n",
      "2000/2000 [==============================] - 3s - loss: 0.1048 - acc: 0.9935 - val_loss: 0.3142 - val_acc: 0.9800\n",
      "Epoch 8/8\n",
      "2000/2000 [==============================] - 3s - loss: 0.1048 - acc: 0.9935 - val_loss: 0.3142 - val_acc: 0.9800\n"
     ]
    },
    {
     "data": {
      "text/plain": [
       "<keras.callbacks.History at 0x7f195285bcd0>"
      ]
     },
     "execution_count": 30,
     "metadata": {},
     "output_type": "execute_result"
    }
   ],
   "source": [
    "fc_model.fit(trn_features, trn_labels, nb_epoch=8, \n",
    "             batch_size=batch_size, validation_data=(val_features, val_labels))"
   ]
  },
  {
   "cell_type": "code",
   "execution_count": 29,
   "metadata": {},
   "outputs": [
    {
     "name": "stdout",
     "output_type": "stream",
     "text": [
      "model_path: /home/ubuntu/fastai/data/dogscats/models/\n"
     ]
    }
   ],
   "source": [
    "print (\"model_path:\", model_path)"
   ]
  },
  {
   "cell_type": "code",
   "execution_count": 31,
   "metadata": {},
   "outputs": [],
   "source": [
    "fc_model.save_weights(model_path+'fc_model_no_dropout.h5')"
   ]
  },
  {
   "cell_type": "code",
   "execution_count": null,
   "metadata": {},
   "outputs": [],
   "source": [
    "#fc_model.load_weights(model_path+'fc_model_no_dropout.h5')"
   ]
  },
  {
   "cell_type": "code",
   "execution_count": null,
   "metadata": {},
   "outputs": [],
   "source": [
    "# Resnet"
   ]
  },
  {
   "cell_type": "code",
   "execution_count": 38,
   "metadata": {},
   "outputs": [
    {
     "name": "stdout",
     "output_type": "stream",
     "text": [
      "os.getcwd: /home/ubuntu/fastai\n"
     ]
    }
   ],
   "source": [
    "os.chdir(HOMEPATH)\n",
    "print (\"os.getcwd:\", os.getcwd())\n",
    "\n",
    "import resnet50; reload(resnet50)\n",
    "from resnet50 import Resnet50"
   ]
  },
  {
   "cell_type": "code",
   "execution_count": 39,
   "metadata": {},
   "outputs": [
    {
     "name": "stderr",
     "output_type": "stream",
     "text": [
      "/usr/local/lib/python2.7/dist-packages/keras/layers/core.py:622: UserWarning: `output_shape` argument not specified for layer lambda_3 and cannot be automatically inferred with the Theano backend. Defaulting to output shape `(None, 3, 224, 224)` (same as input shape). If the expected output shape is different, specify it via the `output_shape` argument.\n",
      "  .format(self.name, input_shape))\n"
     ]
    },
    {
     "name": "stdout",
     "output_type": "stream",
     "text": [
      "<class 'keras.engine.training.Model'>\n"
     ]
    }
   ],
   "source": [
    "rn0 = Resnet50(include_top=False).model\n",
    "print (type(rn0))"
   ]
  },
  {
   "cell_type": "code",
   "execution_count": 40,
   "metadata": {},
   "outputs": [
    {
     "name": "stdout",
     "output_type": "stream",
     "text": [
      "____________________________________________________________________________________________________\n",
      "Layer (type)                     Output Shape          Param #     Connected to                     \n",
      "====================================================================================================\n",
      "input_2 (InputLayer)             (None, 3, 224, 224)   0                                            \n",
      "____________________________________________________________________________________________________\n",
      "lambda_3 (Lambda)                (None, 3, 224, 224)   0           input_2[0][0]                    \n",
      "____________________________________________________________________________________________________\n",
      "zeropadding2d_15 (ZeroPadding2D) (None, 3, 230, 230)   0           lambda_3[0][0]                   \n",
      "____________________________________________________________________________________________________\n",
      "conv1 (Convolution2D)            (None, 64, 112, 112)  9472        zeropadding2d_15[0][0]           \n",
      "____________________________________________________________________________________________________\n",
      "bn_conv1 (BatchNormalization)    (None, 64, 112, 112)  256         conv1[0][0]                      \n",
      "____________________________________________________________________________________________________\n",
      "activation_50 (Activation)       (None, 64, 112, 112)  0           bn_conv1[0][0]                   \n",
      "____________________________________________________________________________________________________\n",
      "maxpooling2d_8 (MaxPooling2D)    (None, 64, 55, 55)    0           activation_50[0][0]              \n",
      "____________________________________________________________________________________________________\n",
      "res2a_branch2a (Convolution2D)   (None, 64, 55, 55)    4160        maxpooling2d_8[0][0]             \n",
      "____________________________________________________________________________________________________\n",
      "bn2a_branch2a (BatchNormalizatio (None, 64, 55, 55)    256         res2a_branch2a[0][0]             \n",
      "____________________________________________________________________________________________________\n",
      "activation_51 (Activation)       (None, 64, 55, 55)    0           bn2a_branch2a[0][0]              \n",
      "____________________________________________________________________________________________________\n",
      "res2a_branch2b (Convolution2D)   (None, 64, 55, 55)    36928       activation_51[0][0]              \n",
      "____________________________________________________________________________________________________\n",
      "bn2a_branch2b (BatchNormalizatio (None, 64, 55, 55)    256         res2a_branch2b[0][0]             \n",
      "____________________________________________________________________________________________________\n",
      "activation_52 (Activation)       (None, 64, 55, 55)    0           bn2a_branch2b[0][0]              \n",
      "____________________________________________________________________________________________________\n",
      "res2a_branch2c (Convolution2D)   (None, 256, 55, 55)   16640       activation_52[0][0]              \n",
      "____________________________________________________________________________________________________\n",
      "res2a_branch1 (Convolution2D)    (None, 256, 55, 55)   16640       maxpooling2d_8[0][0]             \n",
      "____________________________________________________________________________________________________\n",
      "bn2a_branch2c (BatchNormalizatio (None, 256, 55, 55)   1024        res2a_branch2c[0][0]             \n",
      "____________________________________________________________________________________________________\n",
      "bn2a_branch1 (BatchNormalization (None, 256, 55, 55)   1024        res2a_branch1[0][0]              \n",
      "____________________________________________________________________________________________________\n",
      "merge_17 (Merge)                 (None, 256, 55, 55)   0           bn2a_branch2c[0][0]              \n",
      "                                                                   bn2a_branch1[0][0]               \n",
      "____________________________________________________________________________________________________\n",
      "activation_53 (Activation)       (None, 256, 55, 55)   0           merge_17[0][0]                   \n",
      "____________________________________________________________________________________________________\n",
      "res2b_branch2a (Convolution2D)   (None, 64, 55, 55)    16448       activation_53[0][0]              \n",
      "____________________________________________________________________________________________________\n",
      "bn2b_branch2a (BatchNormalizatio (None, 64, 55, 55)    256         res2b_branch2a[0][0]             \n",
      "____________________________________________________________________________________________________\n",
      "activation_54 (Activation)       (None, 64, 55, 55)    0           bn2b_branch2a[0][0]              \n",
      "____________________________________________________________________________________________________\n",
      "res2b_branch2b (Convolution2D)   (None, 64, 55, 55)    36928       activation_54[0][0]              \n",
      "____________________________________________________________________________________________________\n",
      "bn2b_branch2b (BatchNormalizatio (None, 64, 55, 55)    256         res2b_branch2b[0][0]             \n",
      "____________________________________________________________________________________________________\n",
      "activation_55 (Activation)       (None, 64, 55, 55)    0           bn2b_branch2b[0][0]              \n",
      "____________________________________________________________________________________________________\n",
      "res2b_branch2c (Convolution2D)   (None, 256, 55, 55)   16640       activation_55[0][0]              \n",
      "____________________________________________________________________________________________________\n",
      "bn2b_branch2c (BatchNormalizatio (None, 256, 55, 55)   1024        res2b_branch2c[0][0]             \n",
      "____________________________________________________________________________________________________\n",
      "merge_18 (Merge)                 (None, 256, 55, 55)   0           bn2b_branch2c[0][0]              \n",
      "                                                                   activation_53[0][0]              \n",
      "____________________________________________________________________________________________________\n",
      "activation_56 (Activation)       (None, 256, 55, 55)   0           merge_18[0][0]                   \n",
      "____________________________________________________________________________________________________\n",
      "res2c_branch2a (Convolution2D)   (None, 64, 55, 55)    16448       activation_56[0][0]              \n",
      "____________________________________________________________________________________________________\n",
      "bn2c_branch2a (BatchNormalizatio (None, 64, 55, 55)    256         res2c_branch2a[0][0]             \n",
      "____________________________________________________________________________________________________\n",
      "activation_57 (Activation)       (None, 64, 55, 55)    0           bn2c_branch2a[0][0]              \n",
      "____________________________________________________________________________________________________\n",
      "res2c_branch2b (Convolution2D)   (None, 64, 55, 55)    36928       activation_57[0][0]              \n",
      "____________________________________________________________________________________________________\n",
      "bn2c_branch2b (BatchNormalizatio (None, 64, 55, 55)    256         res2c_branch2b[0][0]             \n",
      "____________________________________________________________________________________________________\n",
      "activation_58 (Activation)       (None, 64, 55, 55)    0           bn2c_branch2b[0][0]              \n",
      "____________________________________________________________________________________________________\n",
      "res2c_branch2c (Convolution2D)   (None, 256, 55, 55)   16640       activation_58[0][0]              \n",
      "____________________________________________________________________________________________________\n",
      "bn2c_branch2c (BatchNormalizatio (None, 256, 55, 55)   1024        res2c_branch2c[0][0]             \n",
      "____________________________________________________________________________________________________\n",
      "merge_19 (Merge)                 (None, 256, 55, 55)   0           bn2c_branch2c[0][0]              \n",
      "                                                                   activation_56[0][0]              \n",
      "____________________________________________________________________________________________________\n",
      "activation_59 (Activation)       (None, 256, 55, 55)   0           merge_19[0][0]                   \n",
      "____________________________________________________________________________________________________\n",
      "res3a_branch2a (Convolution2D)   (None, 128, 28, 28)   32896       activation_59[0][0]              \n",
      "____________________________________________________________________________________________________\n",
      "bn3a_branch2a (BatchNormalizatio (None, 128, 28, 28)   512         res3a_branch2a[0][0]             \n",
      "____________________________________________________________________________________________________\n",
      "activation_60 (Activation)       (None, 128, 28, 28)   0           bn3a_branch2a[0][0]              \n",
      "____________________________________________________________________________________________________\n"
     ]
    },
    {
     "name": "stdout",
     "output_type": "stream",
     "text": [
      "res3a_branch2b (Convolution2D)   (None, 128, 28, 28)   147584      activation_60[0][0]              \n",
      "____________________________________________________________________________________________________\n",
      "bn3a_branch2b (BatchNormalizatio (None, 128, 28, 28)   512         res3a_branch2b[0][0]             \n",
      "____________________________________________________________________________________________________\n",
      "activation_61 (Activation)       (None, 128, 28, 28)   0           bn3a_branch2b[0][0]              \n",
      "____________________________________________________________________________________________________\n",
      "res3a_branch2c (Convolution2D)   (None, 512, 28, 28)   66048       activation_61[0][0]              \n",
      "____________________________________________________________________________________________________\n",
      "res3a_branch1 (Convolution2D)    (None, 512, 28, 28)   131584      activation_59[0][0]              \n",
      "____________________________________________________________________________________________________\n",
      "bn3a_branch2c (BatchNormalizatio (None, 512, 28, 28)   2048        res3a_branch2c[0][0]             \n",
      "____________________________________________________________________________________________________\n",
      "bn3a_branch1 (BatchNormalization (None, 512, 28, 28)   2048        res3a_branch1[0][0]              \n",
      "____________________________________________________________________________________________________\n",
      "merge_20 (Merge)                 (None, 512, 28, 28)   0           bn3a_branch2c[0][0]              \n",
      "                                                                   bn3a_branch1[0][0]               \n",
      "____________________________________________________________________________________________________\n",
      "activation_62 (Activation)       (None, 512, 28, 28)   0           merge_20[0][0]                   \n",
      "____________________________________________________________________________________________________\n",
      "res3b_branch2a (Convolution2D)   (None, 128, 28, 28)   65664       activation_62[0][0]              \n",
      "____________________________________________________________________________________________________\n",
      "bn3b_branch2a (BatchNormalizatio (None, 128, 28, 28)   512         res3b_branch2a[0][0]             \n",
      "____________________________________________________________________________________________________\n",
      "activation_63 (Activation)       (None, 128, 28, 28)   0           bn3b_branch2a[0][0]              \n",
      "____________________________________________________________________________________________________\n",
      "res3b_branch2b (Convolution2D)   (None, 128, 28, 28)   147584      activation_63[0][0]              \n",
      "____________________________________________________________________________________________________\n",
      "bn3b_branch2b (BatchNormalizatio (None, 128, 28, 28)   512         res3b_branch2b[0][0]             \n",
      "____________________________________________________________________________________________________\n",
      "activation_64 (Activation)       (None, 128, 28, 28)   0           bn3b_branch2b[0][0]              \n",
      "____________________________________________________________________________________________________\n",
      "res3b_branch2c (Convolution2D)   (None, 512, 28, 28)   66048       activation_64[0][0]              \n",
      "____________________________________________________________________________________________________\n",
      "bn3b_branch2c (BatchNormalizatio (None, 512, 28, 28)   2048        res3b_branch2c[0][0]             \n",
      "____________________________________________________________________________________________________\n",
      "merge_21 (Merge)                 (None, 512, 28, 28)   0           bn3b_branch2c[0][0]              \n",
      "                                                                   activation_62[0][0]              \n",
      "____________________________________________________________________________________________________\n",
      "activation_65 (Activation)       (None, 512, 28, 28)   0           merge_21[0][0]                   \n",
      "____________________________________________________________________________________________________\n",
      "res3c_branch2a (Convolution2D)   (None, 128, 28, 28)   65664       activation_65[0][0]              \n",
      "____________________________________________________________________________________________________\n",
      "bn3c_branch2a (BatchNormalizatio (None, 128, 28, 28)   512         res3c_branch2a[0][0]             \n",
      "____________________________________________________________________________________________________\n",
      "activation_66 (Activation)       (None, 128, 28, 28)   0           bn3c_branch2a[0][0]              \n",
      "____________________________________________________________________________________________________\n",
      "res3c_branch2b (Convolution2D)   (None, 128, 28, 28)   147584      activation_66[0][0]              \n",
      "____________________________________________________________________________________________________\n",
      "bn3c_branch2b (BatchNormalizatio (None, 128, 28, 28)   512         res3c_branch2b[0][0]             \n",
      "____________________________________________________________________________________________________\n",
      "activation_67 (Activation)       (None, 128, 28, 28)   0           bn3c_branch2b[0][0]              \n",
      "____________________________________________________________________________________________________\n",
      "res3c_branch2c (Convolution2D)   (None, 512, 28, 28)   66048       activation_67[0][0]              \n",
      "____________________________________________________________________________________________________\n",
      "bn3c_branch2c (BatchNormalizatio (None, 512, 28, 28)   2048        res3c_branch2c[0][0]             \n",
      "____________________________________________________________________________________________________\n",
      "merge_22 (Merge)                 (None, 512, 28, 28)   0           bn3c_branch2c[0][0]              \n",
      "                                                                   activation_65[0][0]              \n",
      "____________________________________________________________________________________________________\n",
      "activation_68 (Activation)       (None, 512, 28, 28)   0           merge_22[0][0]                   \n",
      "____________________________________________________________________________________________________\n",
      "res3d_branch2a (Convolution2D)   (None, 128, 28, 28)   65664       activation_68[0][0]              \n",
      "____________________________________________________________________________________________________\n",
      "bn3d_branch2a (BatchNormalizatio (None, 128, 28, 28)   512         res3d_branch2a[0][0]             \n",
      "____________________________________________________________________________________________________\n",
      "activation_69 (Activation)       (None, 128, 28, 28)   0           bn3d_branch2a[0][0]              \n",
      "____________________________________________________________________________________________________\n",
      "res3d_branch2b (Convolution2D)   (None, 128, 28, 28)   147584      activation_69[0][0]              \n",
      "____________________________________________________________________________________________________\n",
      "bn3d_branch2b (BatchNormalizatio (None, 128, 28, 28)   512         res3d_branch2b[0][0]             \n",
      "____________________________________________________________________________________________________\n",
      "activation_70 (Activation)       (None, 128, 28, 28)   0           bn3d_branch2b[0][0]              \n",
      "____________________________________________________________________________________________________\n",
      "res3d_branch2c (Convolution2D)   (None, 512, 28, 28)   66048       activation_70[0][0]              \n",
      "____________________________________________________________________________________________________\n",
      "bn3d_branch2c (BatchNormalizatio (None, 512, 28, 28)   2048        res3d_branch2c[0][0]             \n",
      "____________________________________________________________________________________________________\n",
      "merge_23 (Merge)                 (None, 512, 28, 28)   0           bn3d_branch2c[0][0]              \n",
      "                                                                   activation_68[0][0]              \n",
      "____________________________________________________________________________________________________\n",
      "activation_71 (Activation)       (None, 512, 28, 28)   0           merge_23[0][0]                   \n",
      "____________________________________________________________________________________________________\n"
     ]
    },
    {
     "name": "stdout",
     "output_type": "stream",
     "text": [
      "res4a_branch2a (Convolution2D)   (None, 256, 14, 14)   131328      activation_71[0][0]              \n",
      "____________________________________________________________________________________________________\n",
      "bn4a_branch2a (BatchNormalizatio (None, 256, 14, 14)   1024        res4a_branch2a[0][0]             \n",
      "____________________________________________________________________________________________________\n",
      "activation_72 (Activation)       (None, 256, 14, 14)   0           bn4a_branch2a[0][0]              \n",
      "____________________________________________________________________________________________________\n",
      "res4a_branch2b (Convolution2D)   (None, 256, 14, 14)   590080      activation_72[0][0]              \n",
      "____________________________________________________________________________________________________\n",
      "bn4a_branch2b (BatchNormalizatio (None, 256, 14, 14)   1024        res4a_branch2b[0][0]             \n",
      "____________________________________________________________________________________________________\n",
      "activation_73 (Activation)       (None, 256, 14, 14)   0           bn4a_branch2b[0][0]              \n",
      "____________________________________________________________________________________________________\n",
      "res4a_branch2c (Convolution2D)   (None, 1024, 14, 14)  263168      activation_73[0][0]              \n",
      "____________________________________________________________________________________________________\n",
      "res4a_branch1 (Convolution2D)    (None, 1024, 14, 14)  525312      activation_71[0][0]              \n",
      "____________________________________________________________________________________________________\n",
      "bn4a_branch2c (BatchNormalizatio (None, 1024, 14, 14)  4096        res4a_branch2c[0][0]             \n",
      "____________________________________________________________________________________________________\n",
      "bn4a_branch1 (BatchNormalization (None, 1024, 14, 14)  4096        res4a_branch1[0][0]              \n",
      "____________________________________________________________________________________________________\n",
      "merge_24 (Merge)                 (None, 1024, 14, 14)  0           bn4a_branch2c[0][0]              \n",
      "                                                                   bn4a_branch1[0][0]               \n",
      "____________________________________________________________________________________________________\n",
      "activation_74 (Activation)       (None, 1024, 14, 14)  0           merge_24[0][0]                   \n",
      "____________________________________________________________________________________________________\n",
      "res4b_branch2a (Convolution2D)   (None, 256, 14, 14)   262400      activation_74[0][0]              \n",
      "____________________________________________________________________________________________________\n",
      "bn4b_branch2a (BatchNormalizatio (None, 256, 14, 14)   1024        res4b_branch2a[0][0]             \n",
      "____________________________________________________________________________________________________\n",
      "activation_75 (Activation)       (None, 256, 14, 14)   0           bn4b_branch2a[0][0]              \n",
      "____________________________________________________________________________________________________\n",
      "res4b_branch2b (Convolution2D)   (None, 256, 14, 14)   590080      activation_75[0][0]              \n",
      "____________________________________________________________________________________________________\n",
      "bn4b_branch2b (BatchNormalizatio (None, 256, 14, 14)   1024        res4b_branch2b[0][0]             \n",
      "____________________________________________________________________________________________________\n",
      "activation_76 (Activation)       (None, 256, 14, 14)   0           bn4b_branch2b[0][0]              \n",
      "____________________________________________________________________________________________________\n",
      "res4b_branch2c (Convolution2D)   (None, 1024, 14, 14)  263168      activation_76[0][0]              \n",
      "____________________________________________________________________________________________________\n",
      "bn4b_branch2c (BatchNormalizatio (None, 1024, 14, 14)  4096        res4b_branch2c[0][0]             \n",
      "____________________________________________________________________________________________________\n",
      "merge_25 (Merge)                 (None, 1024, 14, 14)  0           bn4b_branch2c[0][0]              \n",
      "                                                                   activation_74[0][0]              \n",
      "____________________________________________________________________________________________________\n",
      "activation_77 (Activation)       (None, 1024, 14, 14)  0           merge_25[0][0]                   \n",
      "____________________________________________________________________________________________________\n",
      "res4c_branch2a (Convolution2D)   (None, 256, 14, 14)   262400      activation_77[0][0]              \n",
      "____________________________________________________________________________________________________\n",
      "bn4c_branch2a (BatchNormalizatio (None, 256, 14, 14)   1024        res4c_branch2a[0][0]             \n",
      "____________________________________________________________________________________________________\n",
      "activation_78 (Activation)       (None, 256, 14, 14)   0           bn4c_branch2a[0][0]              \n",
      "____________________________________________________________________________________________________\n",
      "res4c_branch2b (Convolution2D)   (None, 256, 14, 14)   590080      activation_78[0][0]              \n",
      "____________________________________________________________________________________________________\n",
      "bn4c_branch2b (BatchNormalizatio (None, 256, 14, 14)   1024        res4c_branch2b[0][0]             \n",
      "____________________________________________________________________________________________________\n",
      "activation_79 (Activation)       (None, 256, 14, 14)   0           bn4c_branch2b[0][0]              \n",
      "____________________________________________________________________________________________________\n",
      "res4c_branch2c (Convolution2D)   (None, 1024, 14, 14)  263168      activation_79[0][0]              \n",
      "____________________________________________________________________________________________________\n",
      "bn4c_branch2c (BatchNormalizatio (None, 1024, 14, 14)  4096        res4c_branch2c[0][0]             \n",
      "____________________________________________________________________________________________________\n",
      "merge_26 (Merge)                 (None, 1024, 14, 14)  0           bn4c_branch2c[0][0]              \n",
      "                                                                   activation_77[0][0]              \n",
      "____________________________________________________________________________________________________\n",
      "activation_80 (Activation)       (None, 1024, 14, 14)  0           merge_26[0][0]                   \n",
      "____________________________________________________________________________________________________\n",
      "res4d_branch2a (Convolution2D)   (None, 256, 14, 14)   262400      activation_80[0][0]              \n",
      "____________________________________________________________________________________________________\n",
      "bn4d_branch2a (BatchNormalizatio (None, 256, 14, 14)   1024        res4d_branch2a[0][0]             \n",
      "____________________________________________________________________________________________________\n",
      "activation_81 (Activation)       (None, 256, 14, 14)   0           bn4d_branch2a[0][0]              \n",
      "____________________________________________________________________________________________________\n",
      "res4d_branch2b (Convolution2D)   (None, 256, 14, 14)   590080      activation_81[0][0]              \n",
      "____________________________________________________________________________________________________\n",
      "bn4d_branch2b (BatchNormalizatio (None, 256, 14, 14)   1024        res4d_branch2b[0][0]             \n",
      "____________________________________________________________________________________________________\n",
      "activation_82 (Activation)       (None, 256, 14, 14)   0           bn4d_branch2b[0][0]              \n",
      "____________________________________________________________________________________________________\n",
      "res4d_branch2c (Convolution2D)   (None, 1024, 14, 14)  263168      activation_82[0][0]              \n",
      "____________________________________________________________________________________________________\n",
      "bn4d_branch2c (BatchNormalizatio (None, 1024, 14, 14)  4096        res4d_branch2c[0][0]             \n",
      "____________________________________________________________________________________________________\n",
      "merge_27 (Merge)                 (None, 1024, 14, 14)  0           bn4d_branch2c[0][0]              \n",
      "                                                                   activation_80[0][0]              \n",
      "____________________________________________________________________________________________________\n",
      "activation_83 (Activation)       (None, 1024, 14, 14)  0           merge_27[0][0]                   \n",
      "____________________________________________________________________________________________________\n",
      "res4e_branch2a (Convolution2D)   (None, 256, 14, 14)   262400      activation_83[0][0]              \n",
      "____________________________________________________________________________________________________\n"
     ]
    },
    {
     "name": "stdout",
     "output_type": "stream",
     "text": [
      "bn4e_branch2a (BatchNormalizatio (None, 256, 14, 14)   1024        res4e_branch2a[0][0]             \n",
      "____________________________________________________________________________________________________\n",
      "activation_84 (Activation)       (None, 256, 14, 14)   0           bn4e_branch2a[0][0]              \n",
      "____________________________________________________________________________________________________\n",
      "res4e_branch2b (Convolution2D)   (None, 256, 14, 14)   590080      activation_84[0][0]              \n",
      "____________________________________________________________________________________________________\n",
      "bn4e_branch2b (BatchNormalizatio (None, 256, 14, 14)   1024        res4e_branch2b[0][0]             \n",
      "____________________________________________________________________________________________________\n",
      "activation_85 (Activation)       (None, 256, 14, 14)   0           bn4e_branch2b[0][0]              \n",
      "____________________________________________________________________________________________________\n",
      "res4e_branch2c (Convolution2D)   (None, 1024, 14, 14)  263168      activation_85[0][0]              \n",
      "____________________________________________________________________________________________________\n",
      "bn4e_branch2c (BatchNormalizatio (None, 1024, 14, 14)  4096        res4e_branch2c[0][0]             \n",
      "____________________________________________________________________________________________________\n",
      "merge_28 (Merge)                 (None, 1024, 14, 14)  0           bn4e_branch2c[0][0]              \n",
      "                                                                   activation_83[0][0]              \n",
      "____________________________________________________________________________________________________\n",
      "activation_86 (Activation)       (None, 1024, 14, 14)  0           merge_28[0][0]                   \n",
      "____________________________________________________________________________________________________\n",
      "res4f_branch2a (Convolution2D)   (None, 256, 14, 14)   262400      activation_86[0][0]              \n",
      "____________________________________________________________________________________________________\n",
      "bn4f_branch2a (BatchNormalizatio (None, 256, 14, 14)   1024        res4f_branch2a[0][0]             \n",
      "____________________________________________________________________________________________________\n",
      "activation_87 (Activation)       (None, 256, 14, 14)   0           bn4f_branch2a[0][0]              \n",
      "____________________________________________________________________________________________________\n",
      "res4f_branch2b (Convolution2D)   (None, 256, 14, 14)   590080      activation_87[0][0]              \n",
      "____________________________________________________________________________________________________\n",
      "bn4f_branch2b (BatchNormalizatio (None, 256, 14, 14)   1024        res4f_branch2b[0][0]             \n",
      "____________________________________________________________________________________________________\n",
      "activation_88 (Activation)       (None, 256, 14, 14)   0           bn4f_branch2b[0][0]              \n",
      "____________________________________________________________________________________________________\n",
      "res4f_branch2c (Convolution2D)   (None, 1024, 14, 14)  263168      activation_88[0][0]              \n",
      "____________________________________________________________________________________________________\n",
      "bn4f_branch2c (BatchNormalizatio (None, 1024, 14, 14)  4096        res4f_branch2c[0][0]             \n",
      "____________________________________________________________________________________________________\n",
      "merge_29 (Merge)                 (None, 1024, 14, 14)  0           bn4f_branch2c[0][0]              \n",
      "                                                                   activation_86[0][0]              \n",
      "____________________________________________________________________________________________________\n",
      "activation_89 (Activation)       (None, 1024, 14, 14)  0           merge_29[0][0]                   \n",
      "____________________________________________________________________________________________________\n",
      "res5a_branch2a (Convolution2D)   (None, 512, 7, 7)     524800      activation_89[0][0]              \n",
      "____________________________________________________________________________________________________\n",
      "bn5a_branch2a (BatchNormalizatio (None, 512, 7, 7)     2048        res5a_branch2a[0][0]             \n",
      "____________________________________________________________________________________________________\n",
      "activation_90 (Activation)       (None, 512, 7, 7)     0           bn5a_branch2a[0][0]              \n",
      "____________________________________________________________________________________________________\n",
      "res5a_branch2b (Convolution2D)   (None, 512, 7, 7)     2359808     activation_90[0][0]              \n",
      "____________________________________________________________________________________________________\n",
      "bn5a_branch2b (BatchNormalizatio (None, 512, 7, 7)     2048        res5a_branch2b[0][0]             \n",
      "____________________________________________________________________________________________________\n",
      "activation_91 (Activation)       (None, 512, 7, 7)     0           bn5a_branch2b[0][0]              \n",
      "____________________________________________________________________________________________________\n",
      "res5a_branch2c (Convolution2D)   (None, 2048, 7, 7)    1050624     activation_91[0][0]              \n",
      "____________________________________________________________________________________________________\n",
      "res5a_branch1 (Convolution2D)    (None, 2048, 7, 7)    2099200     activation_89[0][0]              \n",
      "____________________________________________________________________________________________________\n",
      "bn5a_branch2c (BatchNormalizatio (None, 2048, 7, 7)    8192        res5a_branch2c[0][0]             \n",
      "____________________________________________________________________________________________________\n",
      "bn5a_branch1 (BatchNormalization (None, 2048, 7, 7)    8192        res5a_branch1[0][0]              \n",
      "____________________________________________________________________________________________________\n",
      "merge_30 (Merge)                 (None, 2048, 7, 7)    0           bn5a_branch2c[0][0]              \n",
      "                                                                   bn5a_branch1[0][0]               \n",
      "____________________________________________________________________________________________________\n",
      "activation_92 (Activation)       (None, 2048, 7, 7)    0           merge_30[0][0]                   \n",
      "____________________________________________________________________________________________________\n",
      "res5b_branch2a (Convolution2D)   (None, 512, 7, 7)     1049088     activation_92[0][0]              \n",
      "____________________________________________________________________________________________________\n",
      "bn5b_branch2a (BatchNormalizatio (None, 512, 7, 7)     2048        res5b_branch2a[0][0]             \n",
      "____________________________________________________________________________________________________\n",
      "activation_93 (Activation)       (None, 512, 7, 7)     0           bn5b_branch2a[0][0]              \n",
      "____________________________________________________________________________________________________\n",
      "res5b_branch2b (Convolution2D)   (None, 512, 7, 7)     2359808     activation_93[0][0]              \n",
      "____________________________________________________________________________________________________\n",
      "bn5b_branch2b (BatchNormalizatio (None, 512, 7, 7)     2048        res5b_branch2b[0][0]             \n",
      "____________________________________________________________________________________________________\n",
      "activation_94 (Activation)       (None, 512, 7, 7)     0           bn5b_branch2b[0][0]              \n",
      "____________________________________________________________________________________________________\n",
      "res5b_branch2c (Convolution2D)   (None, 2048, 7, 7)    1050624     activation_94[0][0]              \n",
      "____________________________________________________________________________________________________\n",
      "bn5b_branch2c (BatchNormalizatio (None, 2048, 7, 7)    8192        res5b_branch2c[0][0]             \n",
      "____________________________________________________________________________________________________\n",
      "merge_31 (Merge)                 (None, 2048, 7, 7)    0           bn5b_branch2c[0][0]              \n",
      "                                                                   activation_92[0][0]              \n",
      "____________________________________________________________________________________________________\n",
      "activation_95 (Activation)       (None, 2048, 7, 7)    0           merge_31[0][0]                   \n",
      "____________________________________________________________________________________________________\n"
     ]
    },
    {
     "name": "stdout",
     "output_type": "stream",
     "text": [
      "res5c_branch2a (Convolution2D)   (None, 512, 7, 7)     1049088     activation_95[0][0]              \n",
      "____________________________________________________________________________________________________\n",
      "bn5c_branch2a (BatchNormalizatio (None, 512, 7, 7)     2048        res5c_branch2a[0][0]             \n",
      "____________________________________________________________________________________________________\n",
      "activation_96 (Activation)       (None, 512, 7, 7)     0           bn5c_branch2a[0][0]              \n",
      "____________________________________________________________________________________________________\n",
      "res5c_branch2b (Convolution2D)   (None, 512, 7, 7)     2359808     activation_96[0][0]              \n",
      "____________________________________________________________________________________________________\n",
      "bn5c_branch2b (BatchNormalizatio (None, 512, 7, 7)     2048        res5c_branch2b[0][0]             \n",
      "____________________________________________________________________________________________________\n",
      "activation_97 (Activation)       (None, 512, 7, 7)     0           bn5c_branch2b[0][0]              \n",
      "____________________________________________________________________________________________________\n",
      "res5c_branch2c (Convolution2D)   (None, 2048, 7, 7)    1050624     activation_97[0][0]              \n",
      "____________________________________________________________________________________________________\n",
      "bn5c_branch2c (BatchNormalizatio (None, 2048, 7, 7)    8192        res5c_branch2c[0][0]             \n",
      "____________________________________________________________________________________________________\n",
      "merge_32 (Merge)                 (None, 2048, 7, 7)    0           bn5c_branch2c[0][0]              \n",
      "                                                                   activation_95[0][0]              \n",
      "____________________________________________________________________________________________________\n",
      "activation_98 (Activation)       (None, 2048, 7, 7)    0           merge_32[0][0]                   \n",
      "====================================================================================================\n",
      "Total params: 23,587,712\n",
      "Trainable params: 23,534,592\n",
      "Non-trainable params: 53,120\n",
      "____________________________________________________________________________________________________\n"
     ]
    }
   ],
   "source": [
    "rn0.summary()"
   ]
  },
  {
   "cell_type": "code",
   "execution_count": 41,
   "metadata": {},
   "outputs": [
    {
     "name": "stdout",
     "output_type": "stream",
     "text": [
      "(None, 2048, 7, 7)\n",
      "(2048, 7, 7)\n"
     ]
    }
   ],
   "source": [
    "print (rn0.output_shape[0:])\n",
    "print (rn0.output_shape[1:])"
   ]
  },
  {
   "cell_type": "code",
   "execution_count": 42,
   "metadata": {},
   "outputs": [
    {
     "name": "stdout",
     "output_type": "stream",
     "text": [
      "batch_size: 64\n",
      "path: /home/ubuntu/fastai/data/dogscats/sample/\n"
     ]
    }
   ],
   "source": [
    "print (\"batch_size:\", batch_size)\n",
    "print (\"path:\", path)"
   ]
  },
  {
   "cell_type": "code",
   "execution_count": 43,
   "metadata": {},
   "outputs": [],
   "source": [
    "#previously\n",
    "#val_batches = get_batches(WORKING_VALID, shuffle=False, batch_size=batch_size)\n",
    "#val_classes = val_batches.classes\n",
    "#val_classes: <type 'numpy.ndarray'> (2000,)\n",
    "#val_labels = onehot(val_classes)\n",
    "#val_labels: <type 'numpy.ndarray'> (2000, 2)\n",
    "\n",
    "\n",
    "#batches = get_batches(WORKING_TRAIN, shuffle=False, batch_size=batch_size)\n",
    "#trn_classes = batches.classes\n",
    "#trn_classes: <type 'numpy.ndarray'> (2000,)\n",
    "#trn_labels = onehot(trn_classes)\n",
    "#trn_labels: <type 'numpy.ndarray'> (2000, 2)\n",
    "\n",
    "#below we see we can obtain the above and more in one step using get_classes"
   ]
  },
  {
   "cell_type": "code",
   "execution_count": 47,
   "metadata": {},
   "outputs": [
    {
     "name": "stdout",
     "output_type": "stream",
     "text": [
      "Found 2000 images belonging to 2 classes.\n",
      "Found 2000 images belonging to 2 classes.\n",
      "Found 12500 images belonging to 1 classes.\n"
     ]
    }
   ],
   "source": [
    "(val_classes, trn_classes, val_labels, trn_labels, val_filenames, filenames, test_filenames) = get_classes(path)"
   ]
  },
  {
   "cell_type": "code",
   "execution_count": 48,
   "metadata": {},
   "outputs": [
    {
     "name": "stdout",
     "output_type": "stream",
     "text": [
      "val_classes: <type 'numpy.ndarray'> (2000,)\n",
      "trn_classes: <type 'numpy.ndarray'> (2000,)\n",
      "val_labels: <type 'numpy.ndarray'> (2000, 2)\n",
      "trn_labels: <type 'numpy.ndarray'> (2000, 2)\n",
      "val_filenames: <type 'list'> 2000\n",
      "filenames: <type 'list'> 2000\n",
      "test_filenames: <type 'list'> 12500\n"
     ]
    }
   ],
   "source": [
    "print (\"val_classes:\", type(val_classes), val_classes.shape)\n",
    "print (\"trn_classes:\", type(trn_classes), trn_classes.shape)\n",
    "print (\"val_labels:\", type(val_labels), val_labels.shape)\n",
    "print (\"trn_labels:\", type(trn_labels), trn_labels.shape)\n",
    "print (\"val_filenames:\", type(val_filenames), len(val_filenames))\n",
    "print (\"filenames:\", type(filenames), len(filenames))\n",
    "print (\"test_filenames:\", type(test_filenames), len(test_filenames))"
   ]
  },
  {
   "cell_type": "code",
   "execution_count": 50,
   "metadata": {},
   "outputs": [
    {
     "name": "stdout",
     "output_type": "stream",
     "text": [
      "Found 2000 images belonging to 2 classes.\n"
     ]
    }
   ],
   "source": [
    "batches = get_batches(WORKING_TRAIN, shuffle=False, batch_size=batch_size)\n",
    "#exact same as identical line above\n",
    "#nb: get_classes(path) calls batches = get_batches(path+'train', shuffle=False, batch_size=1)\n",
    "#so this returns a directoryIterator with the nominated batch_size\n"
   ]
  },
  {
   "cell_type": "code",
   "execution_count": 51,
   "metadata": {},
   "outputs": [
    {
     "name": "stdout",
     "output_type": "stream",
     "text": [
      "Found 2000 images belonging to 2 classes.\n"
     ]
    }
   ],
   "source": [
    "val_batches = get_batches(WORKING_VALID, shuffle=False, batch_size=batch_size)\n",
    "#exact same as identical line above"
   ]
  },
  {
   "cell_type": "code",
   "execution_count": 52,
   "metadata": {},
   "outputs": [
    {
     "name": "stdout",
     "output_type": "stream",
     "text": [
      "batches: <class 'keras.preprocessing.image.DirectoryIterator'>\n",
      "val_batches: <class 'keras.preprocessing.image.DirectoryIterator'>\n"
     ]
    }
   ],
   "source": [
    "print (\"batches:\", type(batches))\n",
    "print (\"val_batches:\", type(val_batches))"
   ]
  },
  {
   "cell_type": "code",
   "execution_count": 53,
   "metadata": {},
   "outputs": [],
   "source": [
    "val_features = rn0.predict_generator(val_batches, val_batches.nb_sample)"
   ]
  },
  {
   "cell_type": "code",
   "execution_count": 54,
   "metadata": {},
   "outputs": [],
   "source": [
    "trn_features = rn0.predict_generator(batches, batches.nb_sample)"
   ]
  },
  {
   "cell_type": "code",
   "execution_count": 55,
   "metadata": {},
   "outputs": [],
   "source": [
    "test_features = rn0.predict_generator(test_batches, test_batches.nb_sample)"
   ]
  },
  {
   "cell_type": "code",
   "execution_count": 56,
   "metadata": {},
   "outputs": [
    {
     "name": "stdout",
     "output_type": "stream",
     "text": [
      "val_features: <type 'numpy.ndarray'> (2000, 2048, 7, 7)\n",
      "trn_features: <type 'numpy.ndarray'> (2000, 2048, 7, 7)\n",
      "test_features: <type 'numpy.ndarray'> (12500, 2048, 7, 7)\n"
     ]
    }
   ],
   "source": [
    "print (\"val_features:\", type(val_features), val_features.shape)\n",
    "print (\"trn_features:\", type(trn_features), trn_features.shape)\n",
    "print (\"test_features:\", type(test_features), test_features.shape)\n"
   ]
  },
  {
   "cell_type": "code",
   "execution_count": 57,
   "metadata": {},
   "outputs": [],
   "source": [
    "def get_fc_layers(p):\n",
    "    #first layer takes input from output of model rn0.\n",
    "    #last layer provides two outputs for two categories.\n",
    "    return [\n",
    "        BatchNormalization(axis=1, input_shape=rn0.output_shape[1:]),\n",
    "        Flatten(),\n",
    "        Dropout(p),\n",
    "        Dense(1024, activation='relu'),\n",
    "        BatchNormalization(),\n",
    "        Dropout(p/2),\n",
    "        Dense(1024, activation='relu'),\n",
    "        BatchNormalization(),\n",
    "        Dropout(p),\n",
    "        Dense(2, activation='softmax')\n",
    "    ]"
   ]
  },
  {
   "cell_type": "code",
   "execution_count": 58,
   "metadata": {},
   "outputs": [],
   "source": [
    "model = Sequential(get_fc_layers(0.5))"
   ]
  },
  {
   "cell_type": "code",
   "execution_count": null,
   "metadata": {},
   "outputs": [],
   "source": [
    "model.summary()"
   ]
  },
  {
   "cell_type": "code",
   "execution_count": 59,
   "metadata": {},
   "outputs": [],
   "source": [
    "model.compile(optimizer=Adam(), loss='categorical_crossentropy', metrics=['accuracy'])"
   ]
  },
  {
   "cell_type": "code",
   "execution_count": 60,
   "metadata": {},
   "outputs": [
    {
     "name": "stdout",
     "output_type": "stream",
     "text": [
      "batch_size: 64\n"
     ]
    }
   ],
   "source": [
    "print (\"batch_size:\", batch_size)"
   ]
  },
  {
   "cell_type": "code",
   "execution_count": 61,
   "metadata": {},
   "outputs": [
    {
     "name": "stdout",
     "output_type": "stream",
     "text": [
      "Train on 2000 samples, validate on 2000 samples\n",
      "Epoch 1/2\n",
      "2000/2000 [==============================] - 4s - loss: 0.2117 - acc: 0.9485 - val_loss: 0.8098 - val_acc: 0.9385\n",
      "Epoch 2/2\n",
      "2000/2000 [==============================] - 4s - loss: 0.0699 - acc: 0.9880 - val_loss: 0.2282 - val_acc: 0.9730\n"
     ]
    },
    {
     "data": {
      "text/plain": [
       "<keras.callbacks.History at 0x7f194d646350>"
      ]
     },
     "execution_count": 61,
     "metadata": {},
     "output_type": "execute_result"
    }
   ],
   "source": [
    "model.fit(trn_features, trn_labels, nb_epoch=2, batch_size=batch_size, validation_data=(val_features, val_labels))"
   ]
  },
  {
   "cell_type": "code",
   "execution_count": 62,
   "metadata": {},
   "outputs": [],
   "source": [
    "def get_ap_layers(p):\n",
    "    #first layer takes input from output of model rn0.\n",
    "    #last layer provides two outputs for two categories.\n",
    "    return [\n",
    "        GlobalAveragePooling2D(input_shape=rn0.output_shape[1:]),\n",
    "        Dropout(p),\n",
    "        Dense(2, activation='softmax')\n",
    "    ]"
   ]
  },
  {
   "cell_type": "code",
   "execution_count": 63,
   "metadata": {},
   "outputs": [],
   "source": [
    "model = Sequential(get_ap_layers(0.2))"
   ]
  },
  {
   "cell_type": "code",
   "execution_count": null,
   "metadata": {},
   "outputs": [],
   "source": [
    "model.summary()"
   ]
  },
  {
   "cell_type": "code",
   "execution_count": 64,
   "metadata": {},
   "outputs": [],
   "source": [
    "model.compile(optimizer=Adam(), loss='categorical_crossentropy', metrics=['accuracy'])"
   ]
  },
  {
   "cell_type": "code",
   "execution_count": 65,
   "metadata": {},
   "outputs": [
    {
     "name": "stdout",
     "output_type": "stream",
     "text": [
      "Train on 2000 samples, validate on 2000 samples\n",
      "Epoch 1/3\n",
      "2000/2000 [==============================] - 0s - loss: 0.2250 - acc: 0.9095 - val_loss: 0.0723 - val_acc: 0.9765\n",
      "Epoch 2/3\n",
      "2000/2000 [==============================] - 0s - loss: 0.0664 - acc: 0.9785 - val_loss: 0.0571 - val_acc: 0.9820\n",
      "Epoch 3/3\n",
      "2000/2000 [==============================] - 0s - loss: 0.0378 - acc: 0.9895 - val_loss: 0.0530 - val_acc: 0.9830\n"
     ]
    },
    {
     "data": {
      "text/plain": [
       "<keras.callbacks.History at 0x7f194657f290>"
      ]
     },
     "execution_count": 65,
     "metadata": {},
     "output_type": "execute_result"
    }
   ],
   "source": [
    "model.fit(trn_features, trn_labels, nb_epoch=3, batch_size=batch_size, validation_data=(val_features, val_labels))"
   ]
  },
  {
   "cell_type": "code",
   "execution_count": null,
   "metadata": {},
   "outputs": [],
   "source": [
    "#Resnet50 Large"
   ]
  },
  {
   "cell_type": "code",
   "execution_count": 66,
   "metadata": {},
   "outputs": [
    {
     "name": "stderr",
     "output_type": "stream",
     "text": [
      "/usr/local/lib/python2.7/dist-packages/keras/layers/core.py:622: UserWarning: `output_shape` argument not specified for layer lambda_4 and cannot be automatically inferred with the Theano backend. Defaulting to output shape `(None, 3, 400, 400)` (same as input shape). If the expected output shape is different, specify it via the `output_shape` argument.\n",
      "  .format(self.name, input_shape))\n"
     ]
    },
    {
     "name": "stdout",
     "output_type": "stream",
     "text": [
      "<class 'keras.engine.training.Model'>\n"
     ]
    }
   ],
   "source": [
    "rn0 = Resnet50(include_top=False, size=(400,400)).model\n",
    "print (type(rn0))"
   ]
  },
  {
   "cell_type": "code",
   "execution_count": 67,
   "metadata": {},
   "outputs": [
    {
     "name": "stdout",
     "output_type": "stream",
     "text": [
      "____________________________________________________________________________________________________\n",
      "Layer (type)                     Output Shape          Param #     Connected to                     \n",
      "====================================================================================================\n",
      "input_3 (InputLayer)             (None, 3, 400, 400)   0                                            \n",
      "____________________________________________________________________________________________________\n",
      "lambda_4 (Lambda)                (None, 3, 400, 400)   0           input_3[0][0]                    \n",
      "____________________________________________________________________________________________________\n",
      "zeropadding2d_16 (ZeroPadding2D) (None, 3, 406, 406)   0           lambda_4[0][0]                   \n",
      "____________________________________________________________________________________________________\n",
      "conv1 (Convolution2D)            (None, 64, 200, 200)  9472        zeropadding2d_16[0][0]           \n",
      "____________________________________________________________________________________________________\n",
      "bn_conv1 (BatchNormalization)    (None, 64, 200, 200)  256         conv1[0][0]                      \n",
      "____________________________________________________________________________________________________\n",
      "activation_99 (Activation)       (None, 64, 200, 200)  0           bn_conv1[0][0]                   \n",
      "____________________________________________________________________________________________________\n",
      "maxpooling2d_9 (MaxPooling2D)    (None, 64, 99, 99)    0           activation_99[0][0]              \n",
      "____________________________________________________________________________________________________\n",
      "res2a_branch2a (Convolution2D)   (None, 64, 99, 99)    4160        maxpooling2d_9[0][0]             \n",
      "____________________________________________________________________________________________________\n",
      "bn2a_branch2a (BatchNormalizatio (None, 64, 99, 99)    256         res2a_branch2a[0][0]             \n",
      "____________________________________________________________________________________________________\n",
      "activation_100 (Activation)      (None, 64, 99, 99)    0           bn2a_branch2a[0][0]              \n",
      "____________________________________________________________________________________________________\n",
      "res2a_branch2b (Convolution2D)   (None, 64, 99, 99)    36928       activation_100[0][0]             \n",
      "____________________________________________________________________________________________________\n",
      "bn2a_branch2b (BatchNormalizatio (None, 64, 99, 99)    256         res2a_branch2b[0][0]             \n",
      "____________________________________________________________________________________________________\n",
      "activation_101 (Activation)      (None, 64, 99, 99)    0           bn2a_branch2b[0][0]              \n",
      "____________________________________________________________________________________________________\n",
      "res2a_branch2c (Convolution2D)   (None, 256, 99, 99)   16640       activation_101[0][0]             \n",
      "____________________________________________________________________________________________________\n",
      "res2a_branch1 (Convolution2D)    (None, 256, 99, 99)   16640       maxpooling2d_9[0][0]             \n",
      "____________________________________________________________________________________________________\n",
      "bn2a_branch2c (BatchNormalizatio (None, 256, 99, 99)   1024        res2a_branch2c[0][0]             \n",
      "____________________________________________________________________________________________________\n",
      "bn2a_branch1 (BatchNormalization (None, 256, 99, 99)   1024        res2a_branch1[0][0]              \n",
      "____________________________________________________________________________________________________\n",
      "merge_33 (Merge)                 (None, 256, 99, 99)   0           bn2a_branch2c[0][0]              \n",
      "                                                                   bn2a_branch1[0][0]               \n",
      "____________________________________________________________________________________________________\n",
      "activation_102 (Activation)      (None, 256, 99, 99)   0           merge_33[0][0]                   \n",
      "____________________________________________________________________________________________________\n",
      "res2b_branch2a (Convolution2D)   (None, 64, 99, 99)    16448       activation_102[0][0]             \n",
      "____________________________________________________________________________________________________\n",
      "bn2b_branch2a (BatchNormalizatio (None, 64, 99, 99)    256         res2b_branch2a[0][0]             \n",
      "____________________________________________________________________________________________________\n",
      "activation_103 (Activation)      (None, 64, 99, 99)    0           bn2b_branch2a[0][0]              \n",
      "____________________________________________________________________________________________________\n",
      "res2b_branch2b (Convolution2D)   (None, 64, 99, 99)    36928       activation_103[0][0]             \n",
      "____________________________________________________________________________________________________\n",
      "bn2b_branch2b (BatchNormalizatio (None, 64, 99, 99)    256         res2b_branch2b[0][0]             \n",
      "____________________________________________________________________________________________________\n",
      "activation_104 (Activation)      (None, 64, 99, 99)    0           bn2b_branch2b[0][0]              \n",
      "____________________________________________________________________________________________________\n",
      "res2b_branch2c (Convolution2D)   (None, 256, 99, 99)   16640       activation_104[0][0]             \n",
      "____________________________________________________________________________________________________\n",
      "bn2b_branch2c (BatchNormalizatio (None, 256, 99, 99)   1024        res2b_branch2c[0][0]             \n",
      "____________________________________________________________________________________________________\n",
      "merge_34 (Merge)                 (None, 256, 99, 99)   0           bn2b_branch2c[0][0]              \n",
      "                                                                   activation_102[0][0]             \n",
      "____________________________________________________________________________________________________\n",
      "activation_105 (Activation)      (None, 256, 99, 99)   0           merge_34[0][0]                   \n",
      "____________________________________________________________________________________________________\n",
      "res2c_branch2a (Convolution2D)   (None, 64, 99, 99)    16448       activation_105[0][0]             \n",
      "____________________________________________________________________________________________________\n",
      "bn2c_branch2a (BatchNormalizatio (None, 64, 99, 99)    256         res2c_branch2a[0][0]             \n",
      "____________________________________________________________________________________________________\n",
      "activation_106 (Activation)      (None, 64, 99, 99)    0           bn2c_branch2a[0][0]              \n",
      "____________________________________________________________________________________________________\n",
      "res2c_branch2b (Convolution2D)   (None, 64, 99, 99)    36928       activation_106[0][0]             \n",
      "____________________________________________________________________________________________________\n",
      "bn2c_branch2b (BatchNormalizatio (None, 64, 99, 99)    256         res2c_branch2b[0][0]             \n",
      "____________________________________________________________________________________________________\n",
      "activation_107 (Activation)      (None, 64, 99, 99)    0           bn2c_branch2b[0][0]              \n",
      "____________________________________________________________________________________________________\n",
      "res2c_branch2c (Convolution2D)   (None, 256, 99, 99)   16640       activation_107[0][0]             \n",
      "____________________________________________________________________________________________________\n",
      "bn2c_branch2c (BatchNormalizatio (None, 256, 99, 99)   1024        res2c_branch2c[0][0]             \n",
      "____________________________________________________________________________________________________\n",
      "merge_35 (Merge)                 (None, 256, 99, 99)   0           bn2c_branch2c[0][0]              \n",
      "                                                                   activation_105[0][0]             \n",
      "____________________________________________________________________________________________________\n",
      "activation_108 (Activation)      (None, 256, 99, 99)   0           merge_35[0][0]                   \n",
      "____________________________________________________________________________________________________\n",
      "res3a_branch2a (Convolution2D)   (None, 128, 50, 50)   32896       activation_108[0][0]             \n",
      "____________________________________________________________________________________________________\n",
      "bn3a_branch2a (BatchNormalizatio (None, 128, 50, 50)   512         res3a_branch2a[0][0]             \n",
      "____________________________________________________________________________________________________\n",
      "activation_109 (Activation)      (None, 128, 50, 50)   0           bn3a_branch2a[0][0]              \n",
      "____________________________________________________________________________________________________\n"
     ]
    },
    {
     "name": "stdout",
     "output_type": "stream",
     "text": [
      "res3a_branch2b (Convolution2D)   (None, 128, 50, 50)   147584      activation_109[0][0]             \n",
      "____________________________________________________________________________________________________\n",
      "bn3a_branch2b (BatchNormalizatio (None, 128, 50, 50)   512         res3a_branch2b[0][0]             \n",
      "____________________________________________________________________________________________________\n",
      "activation_110 (Activation)      (None, 128, 50, 50)   0           bn3a_branch2b[0][0]              \n",
      "____________________________________________________________________________________________________\n",
      "res3a_branch2c (Convolution2D)   (None, 512, 50, 50)   66048       activation_110[0][0]             \n",
      "____________________________________________________________________________________________________\n",
      "res3a_branch1 (Convolution2D)    (None, 512, 50, 50)   131584      activation_108[0][0]             \n",
      "____________________________________________________________________________________________________\n",
      "bn3a_branch2c (BatchNormalizatio (None, 512, 50, 50)   2048        res3a_branch2c[0][0]             \n",
      "____________________________________________________________________________________________________\n",
      "bn3a_branch1 (BatchNormalization (None, 512, 50, 50)   2048        res3a_branch1[0][0]              \n",
      "____________________________________________________________________________________________________\n",
      "merge_36 (Merge)                 (None, 512, 50, 50)   0           bn3a_branch2c[0][0]              \n",
      "                                                                   bn3a_branch1[0][0]               \n",
      "____________________________________________________________________________________________________\n",
      "activation_111 (Activation)      (None, 512, 50, 50)   0           merge_36[0][0]                   \n",
      "____________________________________________________________________________________________________\n",
      "res3b_branch2a (Convolution2D)   (None, 128, 50, 50)   65664       activation_111[0][0]             \n",
      "____________________________________________________________________________________________________\n",
      "bn3b_branch2a (BatchNormalizatio (None, 128, 50, 50)   512         res3b_branch2a[0][0]             \n",
      "____________________________________________________________________________________________________\n",
      "activation_112 (Activation)      (None, 128, 50, 50)   0           bn3b_branch2a[0][0]              \n",
      "____________________________________________________________________________________________________\n",
      "res3b_branch2b (Convolution2D)   (None, 128, 50, 50)   147584      activation_112[0][0]             \n",
      "____________________________________________________________________________________________________\n",
      "bn3b_branch2b (BatchNormalizatio (None, 128, 50, 50)   512         res3b_branch2b[0][0]             \n",
      "____________________________________________________________________________________________________\n",
      "activation_113 (Activation)      (None, 128, 50, 50)   0           bn3b_branch2b[0][0]              \n",
      "____________________________________________________________________________________________________\n",
      "res3b_branch2c (Convolution2D)   (None, 512, 50, 50)   66048       activation_113[0][0]             \n",
      "____________________________________________________________________________________________________\n",
      "bn3b_branch2c (BatchNormalizatio (None, 512, 50, 50)   2048        res3b_branch2c[0][0]             \n",
      "____________________________________________________________________________________________________\n",
      "merge_37 (Merge)                 (None, 512, 50, 50)   0           bn3b_branch2c[0][0]              \n",
      "                                                                   activation_111[0][0]             \n",
      "____________________________________________________________________________________________________\n",
      "activation_114 (Activation)      (None, 512, 50, 50)   0           merge_37[0][0]                   \n",
      "____________________________________________________________________________________________________\n",
      "res3c_branch2a (Convolution2D)   (None, 128, 50, 50)   65664       activation_114[0][0]             \n",
      "____________________________________________________________________________________________________\n",
      "bn3c_branch2a (BatchNormalizatio (None, 128, 50, 50)   512         res3c_branch2a[0][0]             \n",
      "____________________________________________________________________________________________________\n",
      "activation_115 (Activation)      (None, 128, 50, 50)   0           bn3c_branch2a[0][0]              \n",
      "____________________________________________________________________________________________________\n",
      "res3c_branch2b (Convolution2D)   (None, 128, 50, 50)   147584      activation_115[0][0]             \n",
      "____________________________________________________________________________________________________\n",
      "bn3c_branch2b (BatchNormalizatio (None, 128, 50, 50)   512         res3c_branch2b[0][0]             \n",
      "____________________________________________________________________________________________________\n",
      "activation_116 (Activation)      (None, 128, 50, 50)   0           bn3c_branch2b[0][0]              \n",
      "____________________________________________________________________________________________________\n",
      "res3c_branch2c (Convolution2D)   (None, 512, 50, 50)   66048       activation_116[0][0]             \n",
      "____________________________________________________________________________________________________\n",
      "bn3c_branch2c (BatchNormalizatio (None, 512, 50, 50)   2048        res3c_branch2c[0][0]             \n",
      "____________________________________________________________________________________________________\n",
      "merge_38 (Merge)                 (None, 512, 50, 50)   0           bn3c_branch2c[0][0]              \n",
      "                                                                   activation_114[0][0]             \n",
      "____________________________________________________________________________________________________\n",
      "activation_117 (Activation)      (None, 512, 50, 50)   0           merge_38[0][0]                   \n",
      "____________________________________________________________________________________________________\n",
      "res3d_branch2a (Convolution2D)   (None, 128, 50, 50)   65664       activation_117[0][0]             \n",
      "____________________________________________________________________________________________________\n",
      "bn3d_branch2a (BatchNormalizatio (None, 128, 50, 50)   512         res3d_branch2a[0][0]             \n",
      "____________________________________________________________________________________________________\n",
      "activation_118 (Activation)      (None, 128, 50, 50)   0           bn3d_branch2a[0][0]              \n",
      "____________________________________________________________________________________________________\n",
      "res3d_branch2b (Convolution2D)   (None, 128, 50, 50)   147584      activation_118[0][0]             \n",
      "____________________________________________________________________________________________________\n",
      "bn3d_branch2b (BatchNormalizatio (None, 128, 50, 50)   512         res3d_branch2b[0][0]             \n",
      "____________________________________________________________________________________________________\n",
      "activation_119 (Activation)      (None, 128, 50, 50)   0           bn3d_branch2b[0][0]              \n",
      "____________________________________________________________________________________________________\n",
      "res3d_branch2c (Convolution2D)   (None, 512, 50, 50)   66048       activation_119[0][0]             \n",
      "____________________________________________________________________________________________________\n",
      "bn3d_branch2c (BatchNormalizatio (None, 512, 50, 50)   2048        res3d_branch2c[0][0]             \n",
      "____________________________________________________________________________________________________\n",
      "merge_39 (Merge)                 (None, 512, 50, 50)   0           bn3d_branch2c[0][0]              \n",
      "                                                                   activation_117[0][0]             \n",
      "____________________________________________________________________________________________________\n",
      "activation_120 (Activation)      (None, 512, 50, 50)   0           merge_39[0][0]                   \n",
      "____________________________________________________________________________________________________\n"
     ]
    },
    {
     "name": "stdout",
     "output_type": "stream",
     "text": [
      "res4a_branch2a (Convolution2D)   (None, 256, 25, 25)   131328      activation_120[0][0]             \n",
      "____________________________________________________________________________________________________\n",
      "bn4a_branch2a (BatchNormalizatio (None, 256, 25, 25)   1024        res4a_branch2a[0][0]             \n",
      "____________________________________________________________________________________________________\n",
      "activation_121 (Activation)      (None, 256, 25, 25)   0           bn4a_branch2a[0][0]              \n",
      "____________________________________________________________________________________________________\n",
      "res4a_branch2b (Convolution2D)   (None, 256, 25, 25)   590080      activation_121[0][0]             \n",
      "____________________________________________________________________________________________________\n",
      "bn4a_branch2b (BatchNormalizatio (None, 256, 25, 25)   1024        res4a_branch2b[0][0]             \n",
      "____________________________________________________________________________________________________\n",
      "activation_122 (Activation)      (None, 256, 25, 25)   0           bn4a_branch2b[0][0]              \n",
      "____________________________________________________________________________________________________\n",
      "res4a_branch2c (Convolution2D)   (None, 1024, 25, 25)  263168      activation_122[0][0]             \n",
      "____________________________________________________________________________________________________\n",
      "res4a_branch1 (Convolution2D)    (None, 1024, 25, 25)  525312      activation_120[0][0]             \n",
      "____________________________________________________________________________________________________\n",
      "bn4a_branch2c (BatchNormalizatio (None, 1024, 25, 25)  4096        res4a_branch2c[0][0]             \n",
      "____________________________________________________________________________________________________\n",
      "bn4a_branch1 (BatchNormalization (None, 1024, 25, 25)  4096        res4a_branch1[0][0]              \n",
      "____________________________________________________________________________________________________\n",
      "merge_40 (Merge)                 (None, 1024, 25, 25)  0           bn4a_branch2c[0][0]              \n",
      "                                                                   bn4a_branch1[0][0]               \n",
      "____________________________________________________________________________________________________\n",
      "activation_123 (Activation)      (None, 1024, 25, 25)  0           merge_40[0][0]                   \n",
      "____________________________________________________________________________________________________\n",
      "res4b_branch2a (Convolution2D)   (None, 256, 25, 25)   262400      activation_123[0][0]             \n",
      "____________________________________________________________________________________________________\n",
      "bn4b_branch2a (BatchNormalizatio (None, 256, 25, 25)   1024        res4b_branch2a[0][0]             \n",
      "____________________________________________________________________________________________________\n",
      "activation_124 (Activation)      (None, 256, 25, 25)   0           bn4b_branch2a[0][0]              \n",
      "____________________________________________________________________________________________________\n",
      "res4b_branch2b (Convolution2D)   (None, 256, 25, 25)   590080      activation_124[0][0]             \n",
      "____________________________________________________________________________________________________\n",
      "bn4b_branch2b (BatchNormalizatio (None, 256, 25, 25)   1024        res4b_branch2b[0][0]             \n",
      "____________________________________________________________________________________________________\n",
      "activation_125 (Activation)      (None, 256, 25, 25)   0           bn4b_branch2b[0][0]              \n",
      "____________________________________________________________________________________________________\n",
      "res4b_branch2c (Convolution2D)   (None, 1024, 25, 25)  263168      activation_125[0][0]             \n",
      "____________________________________________________________________________________________________\n",
      "bn4b_branch2c (BatchNormalizatio (None, 1024, 25, 25)  4096        res4b_branch2c[0][0]             \n",
      "____________________________________________________________________________________________________\n",
      "merge_41 (Merge)                 (None, 1024, 25, 25)  0           bn4b_branch2c[0][0]              \n",
      "                                                                   activation_123[0][0]             \n",
      "____________________________________________________________________________________________________\n",
      "activation_126 (Activation)      (None, 1024, 25, 25)  0           merge_41[0][0]                   \n",
      "____________________________________________________________________________________________________\n",
      "res4c_branch2a (Convolution2D)   (None, 256, 25, 25)   262400      activation_126[0][0]             \n",
      "____________________________________________________________________________________________________\n",
      "bn4c_branch2a (BatchNormalizatio (None, 256, 25, 25)   1024        res4c_branch2a[0][0]             \n",
      "____________________________________________________________________________________________________\n",
      "activation_127 (Activation)      (None, 256, 25, 25)   0           bn4c_branch2a[0][0]              \n",
      "____________________________________________________________________________________________________\n",
      "res4c_branch2b (Convolution2D)   (None, 256, 25, 25)   590080      activation_127[0][0]             \n",
      "____________________________________________________________________________________________________\n",
      "bn4c_branch2b (BatchNormalizatio (None, 256, 25, 25)   1024        res4c_branch2b[0][0]             \n",
      "____________________________________________________________________________________________________\n",
      "activation_128 (Activation)      (None, 256, 25, 25)   0           bn4c_branch2b[0][0]              \n",
      "____________________________________________________________________________________________________\n",
      "res4c_branch2c (Convolution2D)   (None, 1024, 25, 25)  263168      activation_128[0][0]             \n",
      "____________________________________________________________________________________________________\n",
      "bn4c_branch2c (BatchNormalizatio (None, 1024, 25, 25)  4096        res4c_branch2c[0][0]             \n",
      "____________________________________________________________________________________________________\n",
      "merge_42 (Merge)                 (None, 1024, 25, 25)  0           bn4c_branch2c[0][0]              \n",
      "                                                                   activation_126[0][0]             \n",
      "____________________________________________________________________________________________________\n",
      "activation_129 (Activation)      (None, 1024, 25, 25)  0           merge_42[0][0]                   \n",
      "____________________________________________________________________________________________________\n",
      "res4d_branch2a (Convolution2D)   (None, 256, 25, 25)   262400      activation_129[0][0]             \n",
      "____________________________________________________________________________________________________\n",
      "bn4d_branch2a (BatchNormalizatio (None, 256, 25, 25)   1024        res4d_branch2a[0][0]             \n",
      "____________________________________________________________________________________________________\n",
      "activation_130 (Activation)      (None, 256, 25, 25)   0           bn4d_branch2a[0][0]              \n",
      "____________________________________________________________________________________________________\n",
      "res4d_branch2b (Convolution2D)   (None, 256, 25, 25)   590080      activation_130[0][0]             \n",
      "____________________________________________________________________________________________________\n",
      "bn4d_branch2b (BatchNormalizatio (None, 256, 25, 25)   1024        res4d_branch2b[0][0]             \n",
      "____________________________________________________________________________________________________\n",
      "activation_131 (Activation)      (None, 256, 25, 25)   0           bn4d_branch2b[0][0]              \n",
      "____________________________________________________________________________________________________\n",
      "res4d_branch2c (Convolution2D)   (None, 1024, 25, 25)  263168      activation_131[0][0]             \n",
      "____________________________________________________________________________________________________\n",
      "bn4d_branch2c (BatchNormalizatio (None, 1024, 25, 25)  4096        res4d_branch2c[0][0]             \n",
      "____________________________________________________________________________________________________\n",
      "merge_43 (Merge)                 (None, 1024, 25, 25)  0           bn4d_branch2c[0][0]              \n",
      "                                                                   activation_129[0][0]             \n",
      "____________________________________________________________________________________________________\n",
      "activation_132 (Activation)      (None, 1024, 25, 25)  0           merge_43[0][0]                   \n",
      "____________________________________________________________________________________________________\n",
      "res4e_branch2a (Convolution2D)   (None, 256, 25, 25)   262400      activation_132[0][0]             \n",
      "____________________________________________________________________________________________________\n",
      "bn4e_branch2a (BatchNormalizatio (None, 256, 25, 25)   1024        res4e_branch2a[0][0]             \n",
      "____________________________________________________________________________________________________\n",
      "activation_133 (Activation)      (None, 256, 25, 25)   0           bn4e_branch2a[0][0]              \n",
      "____________________________________________________________________________________________________\n",
      "res4e_branch2b (Convolution2D)   (None, 256, 25, 25)   590080      activation_133[0][0]             \n",
      "____________________________________________________________________________________________________\n"
     ]
    },
    {
     "name": "stdout",
     "output_type": "stream",
     "text": [
      "bn4e_branch2b (BatchNormalizatio (None, 256, 25, 25)   1024        res4e_branch2b[0][0]             \n",
      "____________________________________________________________________________________________________\n",
      "activation_134 (Activation)      (None, 256, 25, 25)   0           bn4e_branch2b[0][0]              \n",
      "____________________________________________________________________________________________________\n",
      "res4e_branch2c (Convolution2D)   (None, 1024, 25, 25)  263168      activation_134[0][0]             \n",
      "____________________________________________________________________________________________________\n",
      "bn4e_branch2c (BatchNormalizatio (None, 1024, 25, 25)  4096        res4e_branch2c[0][0]             \n",
      "____________________________________________________________________________________________________\n",
      "merge_44 (Merge)                 (None, 1024, 25, 25)  0           bn4e_branch2c[0][0]              \n",
      "                                                                   activation_132[0][0]             \n",
      "____________________________________________________________________________________________________\n",
      "activation_135 (Activation)      (None, 1024, 25, 25)  0           merge_44[0][0]                   \n",
      "____________________________________________________________________________________________________\n",
      "res4f_branch2a (Convolution2D)   (None, 256, 25, 25)   262400      activation_135[0][0]             \n",
      "____________________________________________________________________________________________________\n",
      "bn4f_branch2a (BatchNormalizatio (None, 256, 25, 25)   1024        res4f_branch2a[0][0]             \n",
      "____________________________________________________________________________________________________\n",
      "activation_136 (Activation)      (None, 256, 25, 25)   0           bn4f_branch2a[0][0]              \n",
      "____________________________________________________________________________________________________\n",
      "res4f_branch2b (Convolution2D)   (None, 256, 25, 25)   590080      activation_136[0][0]             \n",
      "____________________________________________________________________________________________________\n",
      "bn4f_branch2b (BatchNormalizatio (None, 256, 25, 25)   1024        res4f_branch2b[0][0]             \n",
      "____________________________________________________________________________________________________\n",
      "activation_137 (Activation)      (None, 256, 25, 25)   0           bn4f_branch2b[0][0]              \n",
      "____________________________________________________________________________________________________\n",
      "res4f_branch2c (Convolution2D)   (None, 1024, 25, 25)  263168      activation_137[0][0]             \n",
      "____________________________________________________________________________________________________\n",
      "bn4f_branch2c (BatchNormalizatio (None, 1024, 25, 25)  4096        res4f_branch2c[0][0]             \n",
      "____________________________________________________________________________________________________\n",
      "merge_45 (Merge)                 (None, 1024, 25, 25)  0           bn4f_branch2c[0][0]              \n",
      "                                                                   activation_135[0][0]             \n",
      "____________________________________________________________________________________________________\n",
      "activation_138 (Activation)      (None, 1024, 25, 25)  0           merge_45[0][0]                   \n",
      "____________________________________________________________________________________________________\n",
      "res5a_branch2a (Convolution2D)   (None, 512, 13, 13)   524800      activation_138[0][0]             \n",
      "____________________________________________________________________________________________________\n",
      "bn5a_branch2a (BatchNormalizatio (None, 512, 13, 13)   2048        res5a_branch2a[0][0]             \n",
      "____________________________________________________________________________________________________\n",
      "activation_139 (Activation)      (None, 512, 13, 13)   0           bn5a_branch2a[0][0]              \n",
      "____________________________________________________________________________________________________\n",
      "res5a_branch2b (Convolution2D)   (None, 512, 13, 13)   2359808     activation_139[0][0]             \n",
      "____________________________________________________________________________________________________\n",
      "bn5a_branch2b (BatchNormalizatio (None, 512, 13, 13)   2048        res5a_branch2b[0][0]             \n",
      "____________________________________________________________________________________________________\n",
      "activation_140 (Activation)      (None, 512, 13, 13)   0           bn5a_branch2b[0][0]              \n",
      "____________________________________________________________________________________________________\n",
      "res5a_branch2c (Convolution2D)   (None, 2048, 13, 13)  1050624     activation_140[0][0]             \n",
      "____________________________________________________________________________________________________\n",
      "res5a_branch1 (Convolution2D)    (None, 2048, 13, 13)  2099200     activation_138[0][0]             \n",
      "____________________________________________________________________________________________________\n",
      "bn5a_branch2c (BatchNormalizatio (None, 2048, 13, 13)  8192        res5a_branch2c[0][0]             \n",
      "____________________________________________________________________________________________________\n",
      "bn5a_branch1 (BatchNormalization (None, 2048, 13, 13)  8192        res5a_branch1[0][0]              \n",
      "____________________________________________________________________________________________________\n",
      "merge_46 (Merge)                 (None, 2048, 13, 13)  0           bn5a_branch2c[0][0]              \n",
      "                                                                   bn5a_branch1[0][0]               \n",
      "____________________________________________________________________________________________________\n",
      "activation_141 (Activation)      (None, 2048, 13, 13)  0           merge_46[0][0]                   \n",
      "____________________________________________________________________________________________________\n",
      "res5b_branch2a (Convolution2D)   (None, 512, 13, 13)   1049088     activation_141[0][0]             \n",
      "____________________________________________________________________________________________________\n",
      "bn5b_branch2a (BatchNormalizatio (None, 512, 13, 13)   2048        res5b_branch2a[0][0]             \n",
      "____________________________________________________________________________________________________\n",
      "activation_142 (Activation)      (None, 512, 13, 13)   0           bn5b_branch2a[0][0]              \n",
      "____________________________________________________________________________________________________\n",
      "res5b_branch2b (Convolution2D)   (None, 512, 13, 13)   2359808     activation_142[0][0]             \n",
      "____________________________________________________________________________________________________\n",
      "bn5b_branch2b (BatchNormalizatio (None, 512, 13, 13)   2048        res5b_branch2b[0][0]             \n",
      "____________________________________________________________________________________________________\n",
      "activation_143 (Activation)      (None, 512, 13, 13)   0           bn5b_branch2b[0][0]              \n",
      "____________________________________________________________________________________________________\n",
      "res5b_branch2c (Convolution2D)   (None, 2048, 13, 13)  1050624     activation_143[0][0]             \n",
      "____________________________________________________________________________________________________\n",
      "bn5b_branch2c (BatchNormalizatio (None, 2048, 13, 13)  8192        res5b_branch2c[0][0]             \n",
      "____________________________________________________________________________________________________\n",
      "merge_47 (Merge)                 (None, 2048, 13, 13)  0           bn5b_branch2c[0][0]              \n",
      "                                                                   activation_141[0][0]             \n",
      "____________________________________________________________________________________________________\n",
      "activation_144 (Activation)      (None, 2048, 13, 13)  0           merge_47[0][0]                   \n",
      "____________________________________________________________________________________________________\n",
      "res5c_branch2a (Convolution2D)   (None, 512, 13, 13)   1049088     activation_144[0][0]             \n",
      "____________________________________________________________________________________________________\n"
     ]
    },
    {
     "name": "stdout",
     "output_type": "stream",
     "text": [
      "bn5c_branch2a (BatchNormalizatio (None, 512, 13, 13)   2048        res5c_branch2a[0][0]             \n",
      "____________________________________________________________________________________________________\n",
      "activation_145 (Activation)      (None, 512, 13, 13)   0           bn5c_branch2a[0][0]              \n",
      "____________________________________________________________________________________________________\n",
      "res5c_branch2b (Convolution2D)   (None, 512, 13, 13)   2359808     activation_145[0][0]             \n",
      "____________________________________________________________________________________________________\n",
      "bn5c_branch2b (BatchNormalizatio (None, 512, 13, 13)   2048        res5c_branch2b[0][0]             \n",
      "____________________________________________________________________________________________________\n",
      "activation_146 (Activation)      (None, 512, 13, 13)   0           bn5c_branch2b[0][0]              \n",
      "____________________________________________________________________________________________________\n",
      "res5c_branch2c (Convolution2D)   (None, 2048, 13, 13)  1050624     activation_146[0][0]             \n",
      "____________________________________________________________________________________________________\n",
      "bn5c_branch2c (BatchNormalizatio (None, 2048, 13, 13)  8192        res5c_branch2c[0][0]             \n",
      "____________________________________________________________________________________________________\n",
      "merge_48 (Merge)                 (None, 2048, 13, 13)  0           bn5c_branch2c[0][0]              \n",
      "                                                                   activation_144[0][0]             \n",
      "____________________________________________________________________________________________________\n",
      "activation_147 (Activation)      (None, 2048, 13, 13)  0           merge_48[0][0]                   \n",
      "====================================================================================================\n",
      "Total params: 23,587,712\n",
      "Trainable params: 23,534,592\n",
      "Non-trainable params: 53,120\n",
      "____________________________________________________________________________________________________\n"
     ]
    }
   ],
   "source": [
    "rn0.summary()"
   ]
  },
  {
   "cell_type": "code",
   "execution_count": 68,
   "metadata": {},
   "outputs": [
    {
     "name": "stdout",
     "output_type": "stream",
     "text": [
      "rn0.output_shape[]: (None, 2048, 13, 13)\n",
      "rn0.output_shape[1:]: (2048, 13, 13)\n"
     ]
    }
   ],
   "source": [
    "print (\"rn0.output_shape[]:\", rn0.output_shape)\n",
    "print (\"rn0.output_shape[1:]:\", rn0.output_shape[1:])"
   ]
  },
  {
   "cell_type": "code",
   "execution_count": 69,
   "metadata": {},
   "outputs": [
    {
     "name": "stdout",
     "output_type": "stream",
     "text": [
      "Found 2000 images belonging to 2 classes.\n"
     ]
    }
   ],
   "source": [
    "batches = get_batches(WORKING_TRAIN, shuffle=False, batch_size=batch_size, target_size = (400,400))"
   ]
  },
  {
   "cell_type": "code",
   "execution_count": 70,
   "metadata": {
    "scrolled": true
   },
   "outputs": [
    {
     "name": "stdout",
     "output_type": "stream",
     "text": [
      "Found 2000 images belonging to 2 classes.\n"
     ]
    }
   ],
   "source": [
    "val_batches = get_batches(WORKING_VALID, shuffle=False, batch_size=batch_size*2, target_size = (400,400))"
   ]
  },
  {
   "cell_type": "code",
   "execution_count": 71,
   "metadata": {},
   "outputs": [
    {
     "name": "stdout",
     "output_type": "stream",
     "text": [
      "Found 12500 images belonging to 1 classes.\n"
     ]
    }
   ],
   "source": [
    "test_batches = get_batches(WORKING_TEST, shuffle=False, batch_size=batch_size*2, target_size = (400,400))"
   ]
  },
  {
   "cell_type": "code",
   "execution_count": 72,
   "metadata": {},
   "outputs": [
    {
     "name": "stdout",
     "output_type": "stream",
     "text": [
      "Found 2000 images belonging to 2 classes.\n",
      "Found 2000 images belonging to 2 classes.\n",
      "Found 12500 images belonging to 1 classes.\n"
     ]
    }
   ],
   "source": [
    "(val_classes, trn_classes, val_labels, trn_labels, val_filenames, filenames, test_filenames) = get_classes(path)"
   ]
  },
  {
   "cell_type": "code",
   "execution_count": 73,
   "metadata": {},
   "outputs": [
    {
     "name": "stdout",
     "output_type": "stream",
     "text": [
      "val_classes: <type 'numpy.ndarray'> (2000,)\n",
      "trn_classes: <type 'numpy.ndarray'> (2000,)\n",
      "val_labels: <type 'numpy.ndarray'> (2000, 2)\n",
      "trn_labels: <type 'numpy.ndarray'> (2000, 2)\n",
      "val_filenames: <type 'list'> 2000\n",
      "filenames: <type 'list'> 2000\n",
      "test_filenames: <type 'list'> 12500\n"
     ]
    }
   ],
   "source": [
    "print (\"val_classes:\", type(val_classes), val_classes.shape)\n",
    "print (\"trn_classes:\", type(trn_classes), trn_classes.shape)\n",
    "print (\"val_labels:\", type(val_labels), val_labels.shape)\n",
    "print (\"trn_labels:\", type(trn_labels), trn_labels.shape)\n",
    "print (\"val_filenames:\", type(val_filenames), len(val_filenames))\n",
    "print (\"filenames:\", type(filenames), len(filenames))\n",
    "print (\"test_filenames:\", type(test_filenames), len(test_filenames))"
   ]
  },
  {
   "cell_type": "code",
   "execution_count": 74,
   "metadata": {},
   "outputs": [],
   "source": [
    "val_features = rn0.predict_generator(val_batches, val_batches.nb_sample)#same as previously assigned val_features."
   ]
  },
  {
   "cell_type": "code",
   "execution_count": 75,
   "metadata": {},
   "outputs": [
    {
     "name": "stdout",
     "output_type": "stream",
     "text": [
      "val_features: <type 'numpy.ndarray'> (2000, 2048, 13, 13)\n"
     ]
    }
   ],
   "source": [
    "print (\"val_features:\", type(val_features), val_features.shape)"
   ]
  },
  {
   "cell_type": "code",
   "execution_count": 76,
   "metadata": {},
   "outputs": [],
   "source": [
    "trn_features = rn0.predict_generator(batches, batches.nb_sample)#same as previously assigned val_features?"
   ]
  },
  {
   "cell_type": "code",
   "execution_count": 77,
   "metadata": {},
   "outputs": [
    {
     "name": "stdout",
     "output_type": "stream",
     "text": [
      "trn_features: <type 'numpy.ndarray'> (2000, 2048, 13, 13)\n"
     ]
    }
   ],
   "source": [
    "print (\"trn_features:\", type(trn_features), trn_features.shape)"
   ]
  },
  {
   "cell_type": "code",
   "execution_count": 79,
   "metadata": {},
   "outputs": [],
   "source": [
    "test_features = rn0.predict_generator(test_batches, test_batches.nb_sample)#same as previously assigned val_features?"
   ]
  },
  {
   "cell_type": "code",
   "execution_count": 80,
   "metadata": {},
   "outputs": [
    {
     "name": "stdout",
     "output_type": "stream",
     "text": [
      "test_features: <type 'numpy.ndarray'> (12500, 2048, 13, 13)\n"
     ]
    }
   ],
   "source": [
    "print (\"test_features:\", type(test_features), test_features.shape)"
   ]
  },
  {
   "cell_type": "code",
   "execution_count": 81,
   "metadata": {},
   "outputs": [],
   "source": [
    "model = Sequential(get_ap_layers(0.01))\n",
    "#NB: get_ap_layers creates stack of layers with input parameters to suit output from model rn0.\n",
    "#NBB: future todo: modify method to include input model as a parameter."
   ]
  },
  {
   "cell_type": "code",
   "execution_count": 82,
   "metadata": {},
   "outputs": [
    {
     "name": "stdout",
     "output_type": "stream",
     "text": [
      "____________________________________________________________________________________________________\n",
      "Layer (type)                     Output Shape          Param #     Connected to                     \n",
      "====================================================================================================\n",
      "globalaveragepooling2d_2 (Global (None, 2048)          0           globalaveragepooling2d_input_2[0]\n",
      "____________________________________________________________________________________________________\n",
      "dropout_9 (Dropout)              (None, 2048)          0           globalaveragepooling2d_2[0][0]   \n",
      "____________________________________________________________________________________________________\n",
      "dense_12 (Dense)                 (None, 2)             4098        dropout_9[0][0]                  \n",
      "====================================================================================================\n",
      "Total params: 4,098\n",
      "Trainable params: 4,098\n",
      "Non-trainable params: 0\n",
      "____________________________________________________________________________________________________\n"
     ]
    }
   ],
   "source": [
    "model.summary()"
   ]
  },
  {
   "cell_type": "code",
   "execution_count": 83,
   "metadata": {},
   "outputs": [],
   "source": [
    "model.compile(optimizer=Adam(), loss='categorical_crossentropy', metrics=['accuracy'])"
   ]
  },
  {
   "cell_type": "code",
   "execution_count": 84,
   "metadata": {},
   "outputs": [
    {
     "name": "stdout",
     "output_type": "stream",
     "text": [
      "Train on 2000 samples, validate on 2000 samples\n",
      "Epoch 1/3\n",
      "2000/2000 [==============================] - 3s - loss: 0.2641 - acc: 0.9015 - val_loss: 0.1068 - val_acc: 0.9685\n",
      "Epoch 2/3\n",
      "2000/2000 [==============================] - 3s - loss: 0.0751 - acc: 0.9815 - val_loss: 0.0751 - val_acc: 0.9765\n",
      "Epoch 3/3\n",
      "2000/2000 [==============================] - 3s - loss: 0.0501 - acc: 0.9905 - val_loss: 0.0659 - val_acc: 0.9805\n"
     ]
    }
   ],
   "source": [
    "history1 = model.fit(trn_features, trn_labels, nb_epoch=3, batch_size=batch_size, validation_data=(val_features, val_labels))\n",
    "#NB: using sample data, loss: 0.0550 - acc: 0.9885 - val_loss: 0.0654 - val_acc: 0.9815\n",
    "#NBB: video shows acc:0.9898 val_acc:0.9930 - it is using full dataset not sample. run again with to use full dataset."
   ]
  },
  {
   "cell_type": "code",
   "execution_count": 85,
   "metadata": {
    "scrolled": true
   },
   "outputs": [
    {
     "name": "stdout",
     "output_type": "stream",
     "text": [
      "Train on 2000 samples, validate on 2000 samples\n",
      "Epoch 1/3\n",
      "2000/2000 [==============================] - 3s - loss: 0.0392 - acc: 0.9925 - val_loss: 0.0598 - val_acc: 0.9805\n",
      "Epoch 2/3\n",
      "2000/2000 [==============================] - 3s - loss: 0.0315 - acc: 0.9940 - val_loss: 0.0534 - val_acc: 0.9810\n",
      "Epoch 3/3\n",
      "2000/2000 [==============================] - 3s - loss: 0.0268 - acc: 0.9955 - val_loss: 0.0511 - val_acc: 0.9820\n"
     ]
    }
   ],
   "source": [
    "history2 = model.fit(trn_features, trn_labels, nb_epoch=3, batch_size=batch_size, validation_data=(val_features, val_labels))\n"
   ]
  },
  {
   "cell_type": "code",
   "execution_count": 86,
   "metadata": {},
   "outputs": [
    {
     "name": "stdout",
     "output_type": "stream",
     "text": [
      "Train on 2000 samples, validate on 2000 samples\n",
      "Epoch 1/3\n",
      "2000/2000 [==============================] - 3s - loss: 0.0226 - acc: 0.9965 - val_loss: 0.0485 - val_acc: 0.9825\n",
      "Epoch 2/3\n",
      "2000/2000 [==============================] - 3s - loss: 0.0221 - acc: 0.9965 - val_loss: 0.0481 - val_acc: 0.9835\n",
      "Epoch 3/3\n",
      "2000/2000 [==============================] - 3s - loss: 0.0178 - acc: 0.9965 - val_loss: 0.0458 - val_acc: 0.9845\n"
     ]
    }
   ],
   "source": [
    "history3 = model.fit(trn_features, trn_labels, nb_epoch=3, batch_size=batch_size, validation_data=(val_features, val_labels))\n"
   ]
  },
  {
   "cell_type": "code",
   "execution_count": 87,
   "metadata": {},
   "outputs": [
    {
     "name": "stdout",
     "output_type": "stream",
     "text": [
      "len(histories): 3\n",
      "['acc', 'loss', 'val_acc', 'val_loss'] 9\n",
      "acc : 0.9965\n",
      "loss : 0.01775527215\n",
      "val_acc : 0.9845\n",
      "val_loss : 0.045766580224\n"
     ]
    },
    {
     "data": {
      "image/png": "[encoded data removed]",
      "text/plain": [
       "<matplotlib.figure.Figure at 0x7f194fbc0410>"
      ]
     },
     "metadata": {},
     "output_type": "display_data"
    },
    {
     "data": {
      "image/png": "[encoded data removed]",
      "text/plain": [
       "<matplotlib.figure.Figure at 0x7f19505dc690>"
      ]
     },
     "metadata": {},
     "output_type": "display_data"
    }
   ],
   "source": [
    "plot_history([history1, history2, history3])"
   ]
  },
  {
   "cell_type": "code",
   "execution_count": 88,
   "metadata": {},
   "outputs": [],
   "source": [
    "model.save_weights(model_path + 'model_get_ap_layers_p01.h5')"
   ]
  },
  {
   "cell_type": "code",
   "execution_count": null,
   "metadata": {},
   "outputs": [],
   "source": [
    "#test_features = model.predict_generator(test_batches, test_batches.nb_sample)"
   ]
  },
  {
   "cell_type": "code",
   "execution_count": 89,
   "metadata": {},
   "outputs": [
    {
     "name": "stdout",
     "output_type": "stream",
     "text": [
      "1984/2000 [============================>.] - ETA: 0s"
     ]
    },
    {
     "data": {
      "text/plain": [
       "[0.01494270320236683, 0.99950000000000006]"
      ]
     },
     "execution_count": 89,
     "metadata": {},
     "output_type": "execute_result"
    }
   ],
   "source": [
    "model.evaluate(trn_features, trn_labels, batch_size=batch_size)"
   ]
  },
  {
   "cell_type": "code",
   "execution_count": 90,
   "metadata": {},
   "outputs": [],
   "source": [
    "preds = model.predict(test_features, batch_size=batch_size)"
   ]
  },
  {
   "cell_type": "code",
   "execution_count": 91,
   "metadata": {},
   "outputs": [
    {
     "name": "stdout",
     "output_type": "stream",
     "text": [
      "preds: <type 'numpy.ndarray'> (12500, 2)\n"
     ]
    }
   ],
   "source": [
    "print (\"preds:\", type(preds), preds.shape)"
   ]
  },
  {
   "cell_type": "code",
   "execution_count": 92,
   "metadata": {},
   "outputs": [
    {
     "data": {
      "text/plain": [
       "array([ 0.9624,  0.0376], dtype=float32)"
      ]
     },
     "execution_count": 92,
     "metadata": {},
     "output_type": "execute_result"
    }
   ],
   "source": [
    "preds[0,]"
   ]
  },
  {
   "cell_type": "code",
   "execution_count": 96,
   "metadata": {},
   "outputs": [
    {
     "data": {
      "text/plain": [
       "(12500,\n",
       " ['unknown/2957.jpg',\n",
       "  'unknown/11706.jpg',\n",
       "  'unknown/10629.jpg',\n",
       "  'unknown/9810.jpg',\n",
       "  'unknown/9834.jpg'])"
      ]
     },
     "execution_count": 96,
     "metadata": {},
     "output_type": "execute_result"
    }
   ],
   "source": [
    "len(test_filenames), test_filenames[0:5]"
   ]
  },
  {
   "cell_type": "code",
   "execution_count": 100,
   "metadata": {},
   "outputs": [
    {
     "name": "stdout",
     "output_type": "stream",
     "text": [
      "filenames_int: 12500\n",
      "[2957, 11706, 10629, 9810, 9834, 5308, 2850, 6998, 6901, 7008, 10673, 9721, 1516, 12433, 8143, 12332, 9660, 1707, 6581, 4762]\n",
      "filenames_int: (12500,)\n",
      "[ 2957 11706 10629  9810  9834  5308  2850  6998  6901  7008 10673  9721  1516 12433  8143 12332\n",
      "  9660  1707  6581  4762]\n"
     ]
    }
   ],
   "source": [
    "#assemble list of filenames, strip directory and extension. keep for generating submission file.\n",
    "count = 0\n",
    "filenames_int = []\n",
    "for name in test_filenames:\n",
    "    #print (name)\n",
    "    #print (name.find(\"/\"))\n",
    "    name_int = int(name[7+1:len(name)-4])\n",
    "    #print (\"name_int:\", name_int)\n",
    "    filenames_int.append(name_int)\n",
    "    count += 1\n",
    "    #if count ==10: break\n",
    "print (\"filenames_int:\", len(filenames_int))\n",
    "print (filenames_int[0:20])\n",
    "#convert list to numpy array - enables joining to form csv file\n",
    "filenames_int = np.asarray(filenames_int)\n",
    "print (\"filenames_int:\", filenames_int.shape)\n",
    "print (filenames_int[0:20])"
   ]
  },
  {
   "cell_type": "markdown",
   "metadata": {},
   "source": [
    "#extract of sample_submission.csv\n",
    "id,label\n",
    "1,0.5\n",
    "2,0.5\n",
    "3,0.5\n",
    "\n",
    "where label = prob of being a dog (?)"
   ]
  },
  {
   "cell_type": "code",
   "execution_count": 94,
   "metadata": {},
   "outputs": [
    {
     "name": "stdout",
     "output_type": "stream",
     "text": [
      "preds_dogs.shape: (12500,)\n",
      "[  3.7594e-02   5.2407e-01   9.9984e-01   9.9418e-01   2.9335e-03   4.6005e-01   1.3474e-02\n",
      "   9.9827e-01   9.9861e-01   9.9428e-01   9.2422e-05   9.9359e-01   9.7335e-01   9.9787e-01\n",
      "   5.0218e-03   1.2404e-04   3.7811e-03   9.9226e-01   9.9899e-01   9.9973e-01]\n"
     ]
    }
   ],
   "source": [
    "preds_dogs = preds[:, 1]\n",
    "print (\"preds_dogs.shape:\", preds_dogs.shape)\n",
    "print (preds_dogs[0:20])"
   ]
  },
  {
   "cell_type": "code",
   "execution_count": 95,
   "metadata": {},
   "outputs": [
    {
     "name": "stdout",
     "output_type": "stream",
     "text": [
      "[ 0.05    0.5241  0.95    0.95    0.05    0.4601  0.05    0.95    0.95    0.95    0.05    0.95    0.95\n",
      "  0.95    0.05    0.05    0.05    0.95    0.95    0.95  ]\n"
     ]
    }
   ],
   "source": [
    "preds_dogs = preds_dogs.clip(min=0.05, max=0.95)\n",
    "print (preds_dogs[0:20])"
   ]
  },
  {
   "cell_type": "code",
   "execution_count": 101,
   "metadata": {},
   "outputs": [
    {
     "name": "stdout",
     "output_type": "stream",
     "text": [
      "(12500,)\n",
      "(12500, 1)\n"
     ]
    }
   ],
   "source": [
    "#reshape\n",
    "print(filenames_int.shape)\n",
    "filenames_int_ = filenames_int.reshape((filenames_int.shape[0], 1))\n",
    "print(filenames_int_.shape)\n",
    "#print(filenames_int_)"
   ]
  },
  {
   "cell_type": "code",
   "execution_count": 102,
   "metadata": {},
   "outputs": [
    {
     "name": "stdout",
     "output_type": "stream",
     "text": [
      "(12500,)\n",
      "(12500, 1)\n"
     ]
    }
   ],
   "source": [
    "print(preds_dogs.shape)\n",
    "preds_dogs_ = preds_dogs.reshape((preds_dogs.shape[0], 1))\n",
    "print(preds_dogs_.shape)\n",
    "#print(preds_dogs_)"
   ]
  },
  {
   "cell_type": "code",
   "execution_count": 103,
   "metadata": {},
   "outputs": [
    {
     "name": "stdout",
     "output_type": "stream",
     "text": [
      "result: (12500, 2)\n",
      "[[  2.9570e+03   5.0000e-02]\n",
      " [  1.1706e+04   5.2407e-01]\n",
      " [  1.0629e+04   9.5000e-01]\n",
      " [  9.8100e+03   9.5000e-01]\n",
      " [  9.8340e+03   5.0000e-02]\n",
      " [  5.3080e+03   4.6005e-01]\n",
      " [  2.8500e+03   5.0000e-02]\n",
      " [  6.9980e+03   9.5000e-01]\n",
      " [  6.9010e+03   9.5000e-01]\n",
      " [  7.0080e+03   9.5000e-01]]\n"
     ]
    }
   ],
   "source": [
    "result = np.hstack((filenames_int_, preds_dogs_))\n",
    "print (\"result:\", result.shape)\n",
    "print (result[0:10, :])"
   ]
  },
  {
   "cell_type": "code",
   "execution_count": 108,
   "metadata": {},
   "outputs": [
    {
     "data": {
      "text/plain": [
       "array([[ 1.  ,  0.05],\n",
       "       [ 2.  ,  0.95],\n",
       "       [ 3.  ,  0.95],\n",
       "       [ 4.  ,  0.95],\n",
       "       [ 5.  ,  0.05]])"
      ]
     },
     "execution_count": 108,
     "metadata": {},
     "output_type": "execute_result"
    }
   ],
   "source": [
    "result = result[result[:,0].argsort()]\n",
    "result[0:5, ]"
   ]
  },
  {
   "cell_type": "code",
   "execution_count": 109,
   "metadata": {},
   "outputs": [
    {
     "data": {
      "text/plain": [
       "'/home/ubuntu/fastai/data/dogscats/results/'"
      ]
     },
     "execution_count": 109,
     "metadata": {},
     "output_type": "execute_result"
    }
   ],
   "source": [
    "RESULTS_PATH"
   ]
  },
  {
   "cell_type": "code",
   "execution_count": 110,
   "metadata": {},
   "outputs": [],
   "source": [
    "np.savetxt(RESULTS_PATH+'30-12-submit.csv', result, fmt = (\"%1u\", \"%.2f\"), delimiter=',', header=\"id,label\", comments='')"
   ]
  },
  {
   "cell_type": "markdown",
   "metadata": {},
   "source": [
    "# Reducing overfitting"
   ]
  },
  {
   "cell_type": "markdown",
   "metadata": {},
   "source": [
    "Now that we've gotten the model to overfit, we can take a number of steps to reduce this."
   ]
  },
  {
   "cell_type": "markdown",
   "metadata": {
    "heading_collapsed": true
   },
   "source": [
    "## Approaches to reducing overfitting"
   ]
  },
  {
   "cell_type": "markdown",
   "metadata": {
    "hidden": true
   },
   "source": [
    "We do not necessarily need to rely on dropout or other regularization approaches to reduce overfitting. There are other techniques we should try first, since regularlization, by definition, biases our model towards simplicity - which we only want to do if we know that's necessary. This is the order that we recommend using for reducing overfitting (more details about each in a moment):\n",
    "\n",
    "1. Add more data\n",
    "2. Use data augmentation\n",
    "3. Use architectures that generalize well\n",
    "4. Add regularization\n",
    "5. Reduce architecture complexity.\n",
    "\n",
    "We'll assume that you've already collected as much data as you can, so step (1) isn't relevant (this is true for most Kaggle competitions, for instance). So the next step (2) is data augmentation. This refers to creating additional synthetic data, based on reasonable modifications of your input data. For images, this is likely to involve one or more of: flipping, rotation, zooming, cropping, panning, minor color changes.\n",
    "\n",
    "Which types of augmentation are appropriate depends on your data. For regular photos, for instance, you'll want to use horizontal flipping, but not vertical flipping (since an upside down car is much less common than a car the right way up, for instance!)\n",
    "\n",
    "We recommend *always* using at least some light data augmentation, unless you have so much data that your model will never see the same input twice."
   ]
  },
  {
   "cell_type": "markdown",
   "metadata": {},
   "source": [
    "## About data augmentation"
   ]
  },
  {
   "cell_type": "markdown",
   "metadata": {},
   "source": [
    "Keras comes with very convenient features for automating data augmentation. You simply define what types and maximum amounts of augmentation you want, and keras ensures that every item of every batch randomly is changed according to these settings. Here's how to define a generator that includes data augmentation:"
   ]
  },
  {
   "cell_type": "code",
   "execution_count": null,
   "metadata": {},
   "outputs": [],
   "source": [
    "# dim_ordering='tf' uses tensorflow dimension ordering,\n",
    "#   which is the same order as matplotlib uses for display.\n",
    "# Therefore when just using for display purposes, this is more convenient\n",
    "gen = image.ImageDataGenerator(rotation_range=10, width_shift_range=0.1, \n",
    "       height_shift_range=0.1, shear_range=0.15, zoom_range=0.1, \n",
    "       channel_shift_range=10., horizontal_flip=True, dim_ordering='tf')"
   ]
  },
  {
   "cell_type": "markdown",
   "metadata": {},
   "source": [
    "Let's take a look at how this generator changes a single image (the details of this code don't matter much, but feel free to read the comments and keras docs to understand the details if you're interested)."
   ]
  },
  {
   "cell_type": "code",
   "execution_count": null,
   "metadata": {},
   "outputs": [],
   "source": [
    "# Create a 'batch' of a single image\n",
    "img = np.expand_dims(ndimage.imread('data/dogscats/test/7.jpg'),0)\n",
    "# Request the generator to create batches from this image\n",
    "aug_iter = gen.flow(img)"
   ]
  },
  {
   "cell_type": "code",
   "execution_count": null,
   "metadata": {},
   "outputs": [],
   "source": [
    "# Get eight examples of these augmented images\n",
    "aug_imgs = [next(aug_iter)[0].astype(np.uint8) for i in range(8)]"
   ]
  },
  {
   "cell_type": "code",
   "execution_count": null,
   "metadata": {},
   "outputs": [],
   "source": [
    "# The original\n",
    "plt.imshow(img[0])"
   ]
  },
  {
   "cell_type": "markdown",
   "metadata": {},
   "source": [
    "As you can see below, there's no magic to data augmentation - it's a very intuitive approach to generating richer input data. Generally speaking, your intuition should be a good guide to appropriate data augmentation, although it's a good idea to test your intuition by checking the results of different augmentation approaches."
   ]
  },
  {
   "cell_type": "code",
   "execution_count": null,
   "metadata": {},
   "outputs": [],
   "source": [
    "# Augmented data\n",
    "plots(aug_imgs, (20,7), 2)"
   ]
  },
  {
   "cell_type": "code",
   "execution_count": null,
   "metadata": {},
   "outputs": [],
   "source": [
    "# Ensure that we return to theano dimension ordering\n",
    "K.set_image_dim_ordering('th')"
   ]
  },
  {
   "cell_type": "markdown",
   "metadata": {
    "heading_collapsed": true
   },
   "source": [
    "## Adding data augmentation"
   ]
  },
  {
   "cell_type": "markdown",
   "metadata": {
    "hidden": true
   },
   "source": [
    "Let's try adding a small amount of data augmentation, and see if we reduce overfitting as a result. The approach will be identical to the method we used to finetune the dense layers in lesson 2, except that we will use a generator with augmentation configured. Here's how we set up the generator, and create batches from it:"
   ]
  },
  {
   "cell_type": "code",
   "execution_count": null,
   "metadata": {
    "hidden": true
   },
   "outputs": [],
   "source": [
    "gen = image.ImageDataGenerator(rotation_range=15, width_shift_range=0.1, \n",
    "                               height_shift_range=0.1, zoom_range=0.1, horizontal_flip=True)"
   ]
  },
  {
   "cell_type": "code",
   "execution_count": null,
   "metadata": {
    "hidden": true
   },
   "outputs": [],
   "source": [
    "batches = get_batches(path+'train', gen, batch_size=batch_size)\n",
    "# NB: We don't want to augment or shuffle the validation set\n",
    "val_batches = get_batches(path+'valid', shuffle=False, batch_size=batch_size)"
   ]
  },
  {
   "cell_type": "markdown",
   "metadata": {
    "hidden": true
   },
   "source": [
    "When using data augmentation, we can't pre-compute our convolutional layer features, since randomized changes are being made to every input image. That is, even if the training process sees the same image multiple times, each time it will have undergone different data augmentation, so the results of the convolutional layers will be different.\n",
    "\n",
    "Therefore, in order to allow data to flow through all the conv layers and our new dense layers, we attach our fully connected model to the convolutional model--after ensuring that the convolutional layers are not trainable:"
   ]
  },
  {
   "cell_type": "code",
   "execution_count": null,
   "metadata": {
    "hidden": true
   },
   "outputs": [],
   "source": [
    "fc_model = get_fc_model()"
   ]
  },
  {
   "cell_type": "code",
   "execution_count": null,
   "metadata": {
    "hidden": true
   },
   "outputs": [],
   "source": [
    "for layer in conv_model.layers: layer.trainable = False\n",
    "# Look how easy it is to connect two models together!\n",
    "conv_model.add(fc_model)"
   ]
  },
  {
   "cell_type": "markdown",
   "metadata": {
    "hidden": true
   },
   "source": [
    "Now we can compile, train, and save our model as usual - note that we use *fit_generator()* since we want to pull random images from the directories on every batch."
   ]
  },
  {
   "cell_type": "code",
   "execution_count": null,
   "metadata": {
    "hidden": true
   },
   "outputs": [],
   "source": [
    "conv_model.compile(optimizer=opt, loss='categorical_crossentropy', metrics=['accuracy'])"
   ]
  },
  {
   "cell_type": "code",
   "execution_count": null,
   "metadata": {
    "hidden": true,
    "scrolled": true
   },
   "outputs": [],
   "source": [
    "conv_model.fit_generator(batches, samples_per_epoch=batches.nb_sample, nb_epoch=8, \n",
    "                        validation_data=val_batches, nb_val_samples=val_batches.nb_sample)"
   ]
  },
  {
   "cell_type": "code",
   "execution_count": null,
   "metadata": {
    "hidden": true,
    "scrolled": false
   },
   "outputs": [],
   "source": [
    "conv_model.fit_generator(batches, samples_per_epoch=batches.nb_sample, nb_epoch=3, \n",
    "                        validation_data=val_batches, nb_val_samples=val_batches.nb_sample)"
   ]
  },
  {
   "cell_type": "code",
   "execution_count": null,
   "metadata": {
    "hidden": true
   },
   "outputs": [],
   "source": [
    "conv_model.save_weights(model_path + 'aug1.h5')"
   ]
  },
  {
   "cell_type": "code",
   "execution_count": null,
   "metadata": {
    "hidden": true
   },
   "outputs": [],
   "source": [
    "conv_model.load_weights(model_path + 'aug1.h5')"
   ]
  },
  {
   "cell_type": "markdown",
   "metadata": {
    "collapsed": true
   },
   "source": [
    "## Batch normalization"
   ]
  },
  {
   "cell_type": "markdown",
   "metadata": {
    "heading_collapsed": true
   },
   "source": [
    "### About batch normalization"
   ]
  },
  {
   "cell_type": "markdown",
   "metadata": {
    "hidden": true
   },
   "source": [
    "Batch normalization (*batchnorm*) is a way to ensure that activations don't become too high or too low at any point in the model. Adjusting activations so they are of similar scales is called *normalization*. Normalization is very helpful for fast training - if some activations are very high, they will saturate the model and create very large gradients, causing training to fail; if very low, they will cause training to proceed very slowly. Furthermore, large or small activations in one layer will tend to result in even larger or smaller activations in later layers, since the activations get multiplied repeatedly across the layers.\n",
    "\n",
    "Prior to the development of batchnorm in 2015, only the inputs to a model could be effectively normalized - by simply subtracting their mean and dividing by their standard deviation. However, weights in intermediate layers could easily become poorly scaled, due to problems in weight initialization, or a high learning rate combined with random fluctuations in weights."
   ]
  },
  {
   "cell_type": "markdown",
   "metadata": {
    "hidden": true
   },
   "source": [
    "Batchnorm resolves this problem by normalizing each intermediate layer as well. The details of how it works are not terribly important (although I will outline them in a moment) - the important takeaway is that **all modern networks should use batchnorm, or something equivalent**. There are two reasons for this:\n",
    "1. Adding batchnorm to a model can result in **10x or more improvements in training speed**\n",
    "2. Because normalization greatly reduces the ability of a small number of outlying inputs to over-influence the training, it also tends to **reduce overfitting**."
   ]
  },
  {
   "cell_type": "markdown",
   "metadata": {
    "hidden": true
   },
   "source": [
    "As promised, here's a brief outline of how batchnorm works. As a first step, it normalizes intermediate layers in the same way as input layers can be normalized. But this on its own would not be enough, since the model would then just push the weights up or down indefinitely to try to undo this normalization. Therefore, batchnorm takes two additional steps:\n",
    "1. Add two more trainable parameters to each layer - one to multiply all activations to set an arbitrary standard deviation, and one to add to all activations to set an arbitary mean\n",
    "2. Incorporate both the normalization, and the learnt multiply/add parameters, into the gradient calculations during backprop.\n",
    "\n",
    "This ensures that the weights don't tend to push very high or very low (since the normalization is included in the gradient calculations, so the updates are aware of the normalization). But it also ensures that if a layer does need to change the overall mean or standard deviation in order to match the output scale, it can do so."
   ]
  },
  {
   "cell_type": "markdown",
   "metadata": {
    "heading_collapsed": true
   },
   "source": [
    "### Adding batchnorm to the model"
   ]
  },
  {
   "cell_type": "markdown",
   "metadata": {
    "hidden": true
   },
   "source": [
    "We can use nearly the same approach as before - but this time we'll add batchnorm layers (and dropout layers):"
   ]
  },
  {
   "cell_type": "code",
   "execution_count": null,
   "metadata": {
    "hidden": true
   },
   "outputs": [],
   "source": [
    "conv_layers[-1].output_shape[1:]"
   ]
  },
  {
   "cell_type": "code",
   "execution_count": null,
   "metadata": {
    "hidden": true
   },
   "outputs": [],
   "source": [
    "def get_bn_layers(p):\n",
    "    return [\n",
    "        MaxPooling2D(input_shape=conv_layers[-1].output_shape[1:]),\n",
    "        Flatten(),\n",
    "        Dense(4096, activation='relu'),\n",
    "        BatchNormalization(),\n",
    "        Dropout(p),\n",
    "        Dense(4096, activation='relu'),\n",
    "        BatchNormalization(),\n",
    "        Dropout(p),\n",
    "        Dense(1000, activation='softmax')\n",
    "        ]"
   ]
  },
  {
   "cell_type": "code",
   "execution_count": null,
   "metadata": {},
   "outputs": [],
   "source": [
    "def load_fc_weights_from_vgg16bn(model):\n",
    "    \"Load weights for model from the dense layers of the Vgg16BN model.\"\n",
    "    # See imagenet_batchnorm.ipynb for info on how the weights for\n",
    "    # Vgg16BN can be generated from the standard Vgg16 weights.\n",
    "    from vgg16bn import Vgg16BN\n",
    "    vgg16_bn = Vgg16BN()\n",
    "    _, fc_layers = split_at(vgg16_bn.model, Convolution2D)\n",
    "    copy_weights(fc_layers, model.layers)"
   ]
  },
  {
   "cell_type": "code",
   "execution_count": null,
   "metadata": {
    "hidden": true
   },
   "outputs": [],
   "source": [
    "p=0.6"
   ]
  },
  {
   "cell_type": "code",
   "execution_count": null,
   "metadata": {
    "hidden": true
   },
   "outputs": [],
   "source": [
    "bn_model = Sequential(get_bn_layers(0.6))"
   ]
  },
  {
   "cell_type": "code",
   "execution_count": null,
   "metadata": {
    "hidden": true
   },
   "outputs": [],
   "source": [
    "load_fc_weights_from_vgg16bn(bn_model)"
   ]
  },
  {
   "cell_type": "code",
   "execution_count": null,
   "metadata": {
    "hidden": true
   },
   "outputs": [],
   "source": [
    "def proc_wgts(layer, prev_p, new_p):\n",
    "    scal = (1-prev_p)/(1-new_p)\n",
    "    return [o*scal for o in layer.get_weights()]"
   ]
  },
  {
   "cell_type": "code",
   "execution_count": null,
   "metadata": {
    "hidden": true
   },
   "outputs": [],
   "source": [
    "for l in bn_model.layers: \n",
    "    if type(l)==Dense: l.set_weights(proc_wgts(l, 0.5, 0.6))"
   ]
  },
  {
   "cell_type": "code",
   "execution_count": null,
   "metadata": {
    "hidden": true
   },
   "outputs": [],
   "source": [
    "bn_model.pop()\n",
    "for layer in bn_model.layers: layer.trainable=False"
   ]
  },
  {
   "cell_type": "code",
   "execution_count": null,
   "metadata": {
    "hidden": true
   },
   "outputs": [],
   "source": [
    "bn_model.add(Dense(2,activation='softmax'))"
   ]
  },
  {
   "cell_type": "code",
   "execution_count": null,
   "metadata": {
    "hidden": true
   },
   "outputs": [],
   "source": [
    "bn_model.compile(Adam(), 'categorical_crossentropy', metrics=['accuracy'])"
   ]
  },
  {
   "cell_type": "code",
   "execution_count": null,
   "metadata": {
    "hidden": true,
    "scrolled": false
   },
   "outputs": [],
   "source": [
    "bn_model.fit(trn_features, trn_labels, nb_epoch=8, validation_data=(val_features, val_labels))"
   ]
  },
  {
   "cell_type": "code",
   "execution_count": null,
   "metadata": {
    "hidden": true
   },
   "outputs": [],
   "source": [
    "bn_model.save_weights(model_path+'bn.h5')"
   ]
  },
  {
   "cell_type": "code",
   "execution_count": null,
   "metadata": {
    "hidden": true
   },
   "outputs": [],
   "source": [
    "bn_model.load_weights(model_path+'bn.h5')"
   ]
  },
  {
   "cell_type": "code",
   "execution_count": null,
   "metadata": {
    "hidden": true
   },
   "outputs": [],
   "source": [
    "bn_layers = get_bn_layers(0.6)\n",
    "bn_layers.pop()\n",
    "bn_layers.append(Dense(2,activation='softmax'))"
   ]
  },
  {
   "cell_type": "code",
   "execution_count": null,
   "metadata": {
    "hidden": true
   },
   "outputs": [],
   "source": [
    "final_model = Sequential(conv_layers)\n",
    "for layer in final_model.layers: layer.trainable = False\n",
    "for layer in bn_layers: final_model.add(layer)"
   ]
  },
  {
   "cell_type": "code",
   "execution_count": null,
   "metadata": {
    "hidden": true
   },
   "outputs": [],
   "source": [
    "for l1,l2 in zip(bn_model.layers, bn_layers):\n",
    "    l2.set_weights(l1.get_weights())"
   ]
  },
  {
   "cell_type": "code",
   "execution_count": null,
   "metadata": {
    "hidden": true
   },
   "outputs": [],
   "source": [
    "final_model.compile(optimizer=Adam(), \n",
    "                    loss='categorical_crossentropy', metrics=['accuracy'])"
   ]
  },
  {
   "cell_type": "code",
   "execution_count": null,
   "metadata": {
    "hidden": true
   },
   "outputs": [],
   "source": [
    "final_model.fit_generator(batches, samples_per_epoch=batches.nb_sample, nb_epoch=1, \n",
    "                        validation_data=val_batches, nb_val_samples=val_batches.nb_sample)"
   ]
  },
  {
   "cell_type": "code",
   "execution_count": null,
   "metadata": {
    "hidden": true
   },
   "outputs": [],
   "source": [
    "final_model.save_weights(model_path + 'final1.h5')"
   ]
  },
  {
   "cell_type": "code",
   "execution_count": null,
   "metadata": {
    "hidden": true
   },
   "outputs": [],
   "source": [
    "final_model.fit_generator(batches, samples_per_epoch=batches.nb_sample, nb_epoch=4, \n",
    "                        validation_data=val_batches, nb_val_samples=val_batches.nb_sample)"
   ]
  },
  {
   "cell_type": "code",
   "execution_count": null,
   "metadata": {
    "hidden": true
   },
   "outputs": [],
   "source": [
    "final_model.save_weights(model_path + 'final2.h5')"
   ]
  },
  {
   "cell_type": "code",
   "execution_count": null,
   "metadata": {
    "hidden": true
   },
   "outputs": [],
   "source": [
    "final_model.optimizer.lr=0.001"
   ]
  },
  {
   "cell_type": "code",
   "execution_count": null,
   "metadata": {
    "hidden": true
   },
   "outputs": [],
   "source": [
    "final_model.fit_generator(batches, samples_per_epoch=batches.nb_sample, nb_epoch=4, \n",
    "                        validation_data=val_batches, nb_val_samples=val_batches.nb_sample)"
   ]
  },
  {
   "cell_type": "code",
   "execution_count": null,
   "metadata": {
    "hidden": true
   },
   "outputs": [],
   "source": [
    "bn_model.save_weights(model_path + 'final3.h5')"
   ]
  },
  {
   "cell_type": "code",
   "execution_count": null,
   "metadata": {
    "hidden": true
   },
   "outputs": [],
   "source": []
  }
 ],
 "metadata": {
  "anaconda-cloud": {},
  "kernelspec": {
   "display_name": "Python 2",
   "language": "python",
   "name": "python2"
  },
  "language_info": {
   "codemirror_mode": {
    "name": "ipython",
    "version": 2
   },
   "file_extension": ".py",
   "mimetype": "text/x-python",
   "name": "python",
   "nbconvert_exporter": "python",
   "pygments_lexer": "ipython2",
   "version": "2.7.12"
  },
  "nav_menu": {},
  "toc": {
   "navigate_menu": true,
   "number_sections": true,
   "sideBar": true,
   "threshold": 6,
   "toc_cell": false,
   "toc_section_display": "block",
   "toc_window_display": false
  },
  "widgets": {
   "state": {},
   "version": "1.1.2"
  }
 },
 "nbformat": 4,
 "nbformat_minor": 1
}
