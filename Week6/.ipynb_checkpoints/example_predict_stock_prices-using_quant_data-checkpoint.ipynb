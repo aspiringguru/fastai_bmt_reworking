{
 "cells": [
  {
   "cell_type": "code",
   "execution_count": 1,
   "metadata": {},
   "outputs": [],
   "source": [
    "#https://www.kaggle.com/pablocastilla/predict-stock-prices-with-lstm/notebook\n",
    "\n",
    "\n",
    "#https://www.quandl.com/data/EOD/V-Visa-Inc-V-Stock-Prices-Dividends-and-Splits\n",
    "\n",
    "#scp -i /c/Users/bmt/.ssh/aws-key.pem /d/2017_working/quick_yahoo_quote_test/quant_data/EOD-V.csv ubuntu@ec2-54-186-239-216.us-west-2.compute.amazonaws.com://home/ubuntu/fastai/data/stock_data/  "
   ]
  },
  {
   "cell_type": "code",
   "execution_count": 40,
   "metadata": {},
   "outputs": [],
   "source": [
    "import numpy as np # linear algebra\n",
    "import pandas as pd # data processing, CSV file I/O (e.g. pd.read_csv)\n",
    "\n",
    "from subprocess import check_output\n",
    "from keras.layers.core import Dense, Activation, Dropout\n",
    "from keras.layers.recurrent import LSTM\n",
    "from keras.models import Sequential\n",
    "from sklearn.cross_validation import  train_test_split\n",
    "import time #helper libraries\n",
    "from sklearn.preprocessing import MinMaxScaler\n",
    "import matplotlib.pyplot as plt\n",
    "from numpy import newaxis\n",
    "\n",
    "import os\n",
    "import sys"
   ]
  },
  {
   "cell_type": "code",
   "execution_count": 41,
   "metadata": {},
   "outputs": [],
   "source": [
    "LIB_DIR = \"/home/ubuntu/fastai/fastai_bmt_reworking/bmt_library\"\n",
    "DATA_DIR = \"/home/ubuntu/fastai/data/stock_data/\""
   ]
  },
  {
   "cell_type": "code",
   "execution_count": 42,
   "metadata": {},
   "outputs": [
    {
     "name": "stdout",
     "output_type": "stream",
     "text": [
      "('current working directory:', '/home/ubuntu/fastai/fastai_bmt_reworking/bmt_library')\n"
     ]
    }
   ],
   "source": [
    "os.chdir(LIB_DIR)\n",
    "print (\"current working directory:\", os.getcwd())\n",
    "\n",
    "%matplotlib inline\n",
    "import yqd #library to access yahoo stock prices\n",
    "import tools #library with misc tools for deep learning"
   ]
  },
  {
   "cell_type": "code",
   "execution_count": null,
   "metadata": {},
   "outputs": [],
   "source": [
    "file_name = \"\""
   ]
  },
  {
   "cell_type": "code",
   "execution_count": 7,
   "metadata": {
    "scrolled": true
   },
   "outputs": [
    {
     "name": "stdout",
     "output_type": "stream",
     "text": [
      "(2471, 13)\n"
     ]
    },
    {
     "data": {
      "text/html": [
       "<div>\n",
       "<style>\n",
       "    .dataframe thead tr:only-child th {\n",
       "        text-align: right;\n",
       "    }\n",
       "\n",
       "    .dataframe thead th {\n",
       "        text-align: left;\n",
       "    }\n",
       "\n",
       "    .dataframe tbody tr th {\n",
       "        vertical-align: top;\n",
       "    }\n",
       "</style>\n",
       "<table border=\"1\" class=\"dataframe\">\n",
       "  <thead>\n",
       "    <tr style=\"text-align: right;\">\n",
       "      <th></th>\n",
       "      <th>Date</th>\n",
       "      <th>Open</th>\n",
       "      <th>High</th>\n",
       "      <th>Low</th>\n",
       "      <th>Close</th>\n",
       "      <th>Volume</th>\n",
       "      <th>Dividend</th>\n",
       "      <th>Split</th>\n",
       "      <th>Adj_Open</th>\n",
       "      <th>Adj_High</th>\n",
       "      <th>Adj_Low</th>\n",
       "      <th>Adj_Close</th>\n",
       "      <th>Adj_Volume</th>\n",
       "    </tr>\n",
       "  </thead>\n",
       "  <tbody>\n",
       "    <tr>\n",
       "      <th>0</th>\n",
       "      <td>2018-01-09</td>\n",
       "      <td>119.97</td>\n",
       "      <td>119.970</td>\n",
       "      <td>118.66</td>\n",
       "      <td>119.11</td>\n",
       "      <td>6345958</td>\n",
       "      <td>0.0</td>\n",
       "      <td>1</td>\n",
       "      <td>119.97</td>\n",
       "      <td>119.970</td>\n",
       "      <td>118.66</td>\n",
       "      <td>119.11</td>\n",
       "      <td>6345958</td>\n",
       "    </tr>\n",
       "    <tr>\n",
       "      <th>1</th>\n",
       "      <td>2018-01-08</td>\n",
       "      <td>118.61</td>\n",
       "      <td>120.477</td>\n",
       "      <td>118.07</td>\n",
       "      <td>119.34</td>\n",
       "      <td>6660722</td>\n",
       "      <td>0.0</td>\n",
       "      <td>1</td>\n",
       "      <td>118.61</td>\n",
       "      <td>120.477</td>\n",
       "      <td>118.07</td>\n",
       "      <td>119.34</td>\n",
       "      <td>6660722</td>\n",
       "    </tr>\n",
       "    <tr>\n",
       "      <th>2</th>\n",
       "      <td>2018-01-05</td>\n",
       "      <td>116.99</td>\n",
       "      <td>119.000</td>\n",
       "      <td>116.42</td>\n",
       "      <td>118.86</td>\n",
       "      <td>8590137</td>\n",
       "      <td>0.0</td>\n",
       "      <td>1</td>\n",
       "      <td>116.99</td>\n",
       "      <td>119.000</td>\n",
       "      <td>116.42</td>\n",
       "      <td>118.86</td>\n",
       "      <td>8590137</td>\n",
       "    </tr>\n",
       "    <tr>\n",
       "      <th>3</th>\n",
       "      <td>2018-01-04</td>\n",
       "      <td>116.25</td>\n",
       "      <td>117.360</td>\n",
       "      <td>116.03</td>\n",
       "      <td>116.08</td>\n",
       "      <td>7805271</td>\n",
       "      <td>0.0</td>\n",
       "      <td>1</td>\n",
       "      <td>116.25</td>\n",
       "      <td>117.360</td>\n",
       "      <td>116.03</td>\n",
       "      <td>116.08</td>\n",
       "      <td>7805271</td>\n",
       "    </tr>\n",
       "    <tr>\n",
       "      <th>4</th>\n",
       "      <td>2018-01-03</td>\n",
       "      <td>114.95</td>\n",
       "      <td>115.785</td>\n",
       "      <td>114.66</td>\n",
       "      <td>115.65</td>\n",
       "      <td>6946106</td>\n",
       "      <td>0.0</td>\n",
       "      <td>1</td>\n",
       "      <td>114.95</td>\n",
       "      <td>115.785</td>\n",
       "      <td>114.66</td>\n",
       "      <td>115.65</td>\n",
       "      <td>6946106</td>\n",
       "    </tr>\n",
       "  </tbody>\n",
       "</table>\n",
       "</div>"
      ],
      "text/plain": [
       "         Date    Open     High     Low   Close   Volume  Dividend  Split  \\\n",
       "0  2018-01-09  119.97  119.970  118.66  119.11  6345958       0.0      1   \n",
       "1  2018-01-08  118.61  120.477  118.07  119.34  6660722       0.0      1   \n",
       "2  2018-01-05  116.99  119.000  116.42  118.86  8590137       0.0      1   \n",
       "3  2018-01-04  116.25  117.360  116.03  116.08  7805271       0.0      1   \n",
       "4  2018-01-03  114.95  115.785  114.66  115.65  6946106       0.0      1   \n",
       "\n",
       "   Adj_Open  Adj_High  Adj_Low  Adj_Close  Adj_Volume  \n",
       "0    119.97   119.970   118.66     119.11     6345958  \n",
       "1    118.61   120.477   118.07     119.34     6660722  \n",
       "2    116.99   119.000   116.42     118.86     8590137  \n",
       "3    116.25   117.360   116.03     116.08     7805271  \n",
       "4    114.95   115.785   114.66     115.65     6946106  "
      ]
     },
     "execution_count": 7,
     "metadata": {},
     "output_type": "execute_result"
    }
   ],
   "source": [
    "prices_dataset =  pd.read_csv(DATA_DIR+\"EOD-V.csv\")\n",
    "print (prices_dataset.shape)\n",
    "prices_dataset.head()"
   ]
  },
  {
   "cell_type": "code",
   "execution_count": 8,
   "metadata": {},
   "outputs": [
    {
     "data": {
      "text/plain": [
       "(numpy.ndarray, 2471)"
      ]
     },
     "execution_count": 8,
     "metadata": {},
     "output_type": "execute_result"
    }
   ],
   "source": [
    "stock_prices = prices_dataset.Close.values.astype('float32')\n",
    "type(stock_prices), stock_prices.shape[0]"
   ]
  },
  {
   "cell_type": "code",
   "execution_count": 9,
   "metadata": {},
   "outputs": [
    {
     "data": {
      "text/plain": [
       "(numpy.ndarray, (2471, 1))"
      ]
     },
     "execution_count": 9,
     "metadata": {},
     "output_type": "execute_result"
    }
   ],
   "source": [
    "stock_prices = stock_prices.reshape(stock_prices.shape[0], 1)\n",
    "type(stock_prices), stock_prices.shape"
   ]
  },
  {
   "cell_type": "code",
   "execution_count": 10,
   "metadata": {},
   "outputs": [
    {
     "data": {
      "image/png": "[encoded data removed]",
      "text/plain": [
       "<matplotlib.figure.Figure at 0x7f87d9468610>"
      ]
     },
     "metadata": {},
     "output_type": "display_data"
    }
   ],
   "source": [
    "plt.plot(stock_prices)\n",
    "plt.show()"
   ]
  },
  {
   "cell_type": "code",
   "execution_count": 11,
   "metadata": {},
   "outputs": [],
   "source": [
    "scaler = MinMaxScaler(feature_range=(0, 1))\n",
    "stock_prices = scaler.fit_transform(stock_prices)"
   ]
  },
  {
   "cell_type": "code",
   "execution_count": 12,
   "metadata": {},
   "outputs": [
    {
     "name": "stdout",
     "output_type": "stream",
     "text": [
      "('train_size:', 1976)\n",
      "('test_size:', 495)\n"
     ]
    }
   ],
   "source": [
    "train_size = int(len(stock_prices) * 0.80)\n",
    "test_size = len(stock_prices) - train_size\n",
    "print (\"train_size:\", train_size)\n",
    "print (\"test_size:\", test_size)"
   ]
  },
  {
   "cell_type": "code",
   "execution_count": 13,
   "metadata": {},
   "outputs": [
    {
     "name": "stdout",
     "output_type": "stream",
     "text": [
      "1976\n",
      "495\n"
     ]
    }
   ],
   "source": [
    "train = stock_prices[0:train_size,:]\n",
    "test  = stock_prices[train_size:len(stock_prices),:]\n",
    "print (len(train))\n",
    "print (len(test))"
   ]
  },
  {
   "cell_type": "code",
   "execution_count": 14,
   "metadata": {},
   "outputs": [],
   "source": [
    "# convert an array of values into a dataset matrix\n",
    "def create_dataset(dataset, look_back=1):\n",
    "\tdataX, dataY = [], []\n",
    "\tfor i in range(len(dataset)-look_back-1):\n",
    "\t\ta = dataset[i:(i+look_back), 0]\n",
    "\t\t#print (\"i:\", i, \", a:\", a)\n",
    "\t\t#select left column, row i to row i+look_back\n",
    "\t\tdataX.append(a)\n",
    "\t\tdataY.append(dataset[i + look_back, 0])\n",
    "\t\t\n",
    "    #convert to numpy arrays and return\n",
    "\treturn np.array(dataX), np.array(dataY)"
   ]
  },
  {
   "cell_type": "code",
   "execution_count": 15,
   "metadata": {},
   "outputs": [
    {
     "name": "stdout",
     "output_type": "stream",
     "text": [
      "('trainX:', <type 'numpy.ndarray'>, (1974, 1))\n",
      "('trainY:', <type 'numpy.ndarray'>, (1974,))\n",
      "('testX:', <type 'numpy.ndarray'>, (493, 1))\n",
      "('testY:', <type 'numpy.ndarray'>, (493,))\n"
     ]
    }
   ],
   "source": [
    "# reshape into X=t and Y=t+1\n",
    "look_back = 1\n",
    "trainX, trainY = create_dataset(train, look_back)\n",
    "testX, testY = create_dataset(test, look_back)\n",
    "print (\"trainX:\", type(trainX), trainX.shape)\n",
    "print (\"trainY:\", type(trainY), trainY.shape)\n",
    "print (\"testX:\", type(testX), testX.shape)\n",
    "print (\"testY:\", type(testY), testY.shape)"
   ]
  },
  {
   "cell_type": "code",
   "execution_count": 16,
   "metadata": {},
   "outputs": [
    {
     "name": "stdout",
     "output_type": "stream",
     "text": [
      "('trainX:', (1974, 1, 1))\n",
      "('testX:', (493, 1, 1))\n"
     ]
    }
   ],
   "source": [
    "trainX = np.reshape(trainX, (trainX.shape[0], 1, trainX.shape[1]))\n",
    "testX = np.reshape(testX, (testX.shape[0], 1, testX.shape[1]))\n",
    "print (\"trainX:\", trainX.shape)\n",
    "print (\"testX:\", testX.shape)\n"
   ]
  },
  {
   "cell_type": "code",
   "execution_count": 17,
   "metadata": {},
   "outputs": [
    {
     "name": "stdout",
     "output_type": "stream",
     "text": [
      "('compilation time : ', 0.009341955184936523)\n"
     ]
    }
   ],
   "source": [
    "#Step 2 Build Model\n",
    "model = Sequential()\n",
    "\n",
    "model.add(LSTM( input_dim=1,\n",
    "                output_dim=50,\n",
    "                return_sequences=True))\n",
    "model.add(Dropout(0.2))\n",
    "model.add(LSTM( 100, return_sequences=False))\n",
    "model.add(Dropout(0.2))\n",
    "model.add(Dense(output_dim=1))\n",
    "model.add(Activation('linear'))\n",
    "\n",
    "start = time.time()\n",
    "model.compile(loss='mse', optimizer='rmsprop')\n",
    "print ('compilation time : ', time.time() - start)"
   ]
  },
  {
   "cell_type": "code",
   "execution_count": 18,
   "metadata": {},
   "outputs": [
    {
     "name": "stdout",
     "output_type": "stream",
     "text": [
      "____________________________________________________________________________________________________\n",
      "Layer (type)                     Output Shape          Param #     Connected to                     \n",
      "====================================================================================================\n",
      "lstm_1 (LSTM)                    (None, None, 50)      10400       lstm_input_1[0][0]               \n",
      "____________________________________________________________________________________________________\n",
      "dropout_1 (Dropout)              (None, None, 50)      0           lstm_1[0][0]                     \n",
      "____________________________________________________________________________________________________\n",
      "lstm_2 (LSTM)                    (None, 100)           60400       dropout_1[0][0]                  \n",
      "____________________________________________________________________________________________________\n",
      "dropout_2 (Dropout)              (None, 100)           0           lstm_2[0][0]                     \n",
      "____________________________________________________________________________________________________\n",
      "dense_1 (Dense)                  (None, 1)             101         dropout_2[0][0]                  \n",
      "____________________________________________________________________________________________________\n",
      "activation_1 (Activation)        (None, 1)             0           dense_1[0][0]                    \n",
      "====================================================================================================\n",
      "Total params: 70,901\n",
      "Trainable params: 70,901\n",
      "Non-trainable params: 0\n",
      "____________________________________________________________________________________________________\n"
     ]
    }
   ],
   "source": [
    "model.summary()"
   ]
  },
  {
   "cell_type": "code",
   "execution_count": 19,
   "metadata": {},
   "outputs": [
    {
     "name": "stdout",
     "output_type": "stream",
     "text": [
      "Train on 1875 samples, validate on 99 samples\n",
      "Epoch 1/10\n",
      "1875/1875 [==============================] - 0s - loss: 0.1198 - val_loss: 0.0013\n",
      "Epoch 2/10\n",
      "1875/1875 [==============================] - 0s - loss: 0.0400 - val_loss: 0.0088\n",
      "Epoch 3/10\n",
      "1875/1875 [==============================] - 0s - loss: 0.0176 - val_loss: 0.0099\n",
      "Epoch 4/10\n",
      "1875/1875 [==============================] - 0s - loss: 0.0096 - val_loss: 0.0042\n",
      "Epoch 5/10\n",
      "1875/1875 [==============================] - 0s - loss: 0.0040 - val_loss: 5.7386e-04\n",
      "Epoch 6/10\n",
      "1875/1875 [==============================] - 0s - loss: 0.0022 - val_loss: 2.1976e-04\n",
      "Epoch 7/10\n",
      "1875/1875 [==============================] - 0s - loss: 0.0022 - val_loss: 1.8829e-04\n",
      "Epoch 8/10\n",
      "1875/1875 [==============================] - 0s - loss: 0.0022 - val_loss: 6.7951e-05\n",
      "Epoch 9/10\n",
      "1875/1875 [==============================] - 0s - loss: 0.0021 - val_loss: 7.1515e-05\n",
      "Epoch 10/10\n",
      "1875/1875 [==============================] - 0s - loss: 0.0019 - val_loss: 9.0756e-05\n"
     ]
    }
   ],
   "source": [
    "history = model.fit(trainX, trainY, batch_size=128, nb_epoch=10, validation_split=0.05, verbose=1)"
   ]
  },
  {
   "cell_type": "code",
   "execution_count": 59,
   "metadata": {},
   "outputs": [],
   "source": [
    "def plot_history(history):\n",
    "    #nb: for this model, acc and val_acc do not appear in history. why? model layers dependent?\n",
    "    # list all data in history\n",
    "    print(history.history.keys())\n",
    "    # summarize history for accuracy\n",
    "    #plt.plot(history.history['acc'])\n",
    "    #plt.plot(history.history['val_acc'])\n",
    "    #plt.title('model accuracy')\n",
    "    #plt.ylabel('accuracy')\n",
    "    #plt.xlabel('epoch')\n",
    "    #plt.legend(['train', 'validate'], loc='upper left')\n",
    "    #plt.show()\n",
    "    # summarize history for loss\n",
    "    plt.plot(history.history['loss'], color='red')\n",
    "    plt.plot(history.history['val_loss'], color='blue')\n",
    "    plt.title('model loss')\n",
    "    plt.ylabel('loss')\n",
    "    plt.xlabel('epoch')\n",
    "    plt.legend(['loss', 'val_loss'], loc='upper right')\n",
    "    plt.show()\n"
   ]
  },
  {
   "cell_type": "code",
   "execution_count": 60,
   "metadata": {},
   "outputs": [
    {
     "name": "stdout",
     "output_type": "stream",
     "text": [
      "['loss', 'val_loss']\n"
     ]
    }
   ],
   "source": [
    "type(history)\n",
    "print(history.history.keys())"
   ]
  },
  {
   "cell_type": "code",
   "execution_count": 61,
   "metadata": {
    "scrolled": true
   },
   "outputs": [
    {
     "name": "stdout",
     "output_type": "stream",
     "text": [
      "['loss', 'val_loss']\n"
     ]
    },
    {
     "data": {
      "image/png": "[encoded data removed]",
      "text/plain": [
       "<matplotlib.figure.Figure at 0x7f87b1183490>"
      ]
     },
     "metadata": {},
     "output_type": "display_data"
    }
   ],
   "source": [
    "plot_history(history)"
   ]
  },
  {
   "cell_type": "code",
   "execution_count": 34,
   "metadata": {},
   "outputs": [],
   "source": [
    "def plot_results_multiple(predicted_data, true_data, length):\n",
    "    \n",
    "    plt.plot(scaler.inverse_transform(true_data.reshape(-1, 1))[length:], color='red')\n",
    "    plt.plot(scaler.inverse_transform(np.array(predicted_data).reshape(-1, 1))[length:], color='blue')\n",
    "    plt.show()"
   ]
  },
  {
   "cell_type": "code",
   "execution_count": 21,
   "metadata": {},
   "outputs": [],
   "source": [
    "#predict length consecutive values from a real one\n",
    "def predict_sequences_multiple(model, firstValue,length):\n",
    "    prediction_seqs = []\n",
    "    curr_frame = firstValue\n",
    "    \n",
    "    for i in range(length): \n",
    "        predicted = []        \n",
    "        \n",
    "        print(model.predict(curr_frame[newaxis,:,:]))\n",
    "        predicted.append(model.predict(curr_frame[newaxis,:,:])[0,0])\n",
    "        \n",
    "        curr_frame = curr_frame[0:]\n",
    "        curr_frame = np.insert(curr_frame[0:], i+1, predicted[-1], axis=0)\n",
    "        \n",
    "        prediction_seqs.append(predicted[-1])\n",
    "        \n",
    "    return prediction_seqs"
   ]
  },
  {
   "cell_type": "code",
   "execution_count": 22,
   "metadata": {},
   "outputs": [
    {
     "name": "stdout",
     "output_type": "stream",
     "text": [
      "[[ 0.19921643]]\n",
      "[[ 0.41489109]]\n",
      "[[ 0.84025955]]\n",
      "[[ 1.76129842]]\n",
      "[[ 3.60229182]]\n"
     ]
    }
   ],
   "source": [
    "predict_length=5\n",
    "predictions = predict_sequences_multiple(model, testX[0], predict_length)\n"
   ]
  },
  {
   "cell_type": "code",
   "execution_count": 23,
   "metadata": {},
   "outputs": [
    {
     "name": "stdout",
     "output_type": "stream",
     "text": [
      "[[  89.40917206]\n",
      " [ 140.28036499]\n",
      " [ 240.61203003]\n",
      " [ 457.85748291]\n",
      " [ 892.09259033]]\n"
     ]
    }
   ],
   "source": [
    "#print(MinMaxScaler.inverse_transform(scaler, np.array(predictions).reshape(-1, 1)))\n",
    "#code above produces same output as below\n",
    "print(scaler.inverse_transform(np.array(predictions).reshape(-1, 1)))\n",
    "#code above is used in method plot_results_multiple\n",
    "#MinMaxScaler.inverse_transform\n"
   ]
  },
  {
   "cell_type": "code",
   "execution_count": 29,
   "metadata": {},
   "outputs": [
    {
     "name": "stdout",
     "output_type": "stream",
     "text": [
      "('predictions:', <type 'list'>, 5, <type 'numpy.float32'>)\n",
      "('testY:', <type 'numpy.ndarray'>, (493,))\n",
      "('predict_length:', <type 'int'>, 5)\n"
     ]
    }
   ],
   "source": [
    "print (\"predictions:\", type(predictions), len(predictions), type(predictions[0]))\n",
    "print (\"testY:\", type(testY), testY.shape)\n",
    "print (\"predict_length:\", type(predict_length), predict_length)"
   ]
  },
  {
   "cell_type": "code",
   "execution_count": 37,
   "metadata": {
    "scrolled": true
   },
   "outputs": [
    {
     "data": {
      "image/png": "[encoded data removed]",
      "text/plain": [
       "<matplotlib.figure.Figure at 0x7f87b1310990>"
      ]
     },
     "metadata": {},
     "output_type": "display_data"
    }
   ],
   "source": [
    "plot_results_multiple(predictions, testY, predict_length)"
   ]
  },
  {
   "cell_type": "code",
   "execution_count": 36,
   "metadata": {},
   "outputs": [
    {
     "data": {
      "image/png": "[encoded data removed]",
      "text/plain": [
       "<matplotlib.figure.Figure at 0x7f87b148fd10>"
      ]
     },
     "metadata": {},
     "output_type": "display_data"
    }
   ],
   "source": [
    "plt.plot(scaler.inverse_transform(testY.reshape(-1, 1))[predict_length:], color='red')\n",
    "plt.show()"
   ]
  },
  {
   "cell_type": "code",
   "execution_count": 38,
   "metadata": {},
   "outputs": [
    {
     "data": {
      "image/png": "[encoded data removed]",
      "text/plain": [
       "<matplotlib.figure.Figure at 0x7f87b1264e90>"
      ]
     },
     "metadata": {},
     "output_type": "display_data"
    }
   ],
   "source": [
    "plt.plot(scaler.inverse_transform(np.array(predictions).reshape(-1, 1))[predict_length:], color='blue')\n",
    "plt.show()"
   ]
  },
  {
   "cell_type": "code",
   "execution_count": null,
   "metadata": {},
   "outputs": [],
   "source": []
  }
 ],
 "metadata": {
  "kernelspec": {
   "display_name": "Python 2",
   "language": "python",
   "name": "python2"
  },
  "language_info": {
   "codemirror_mode": {
    "name": "ipython",
    "version": 2
   },
   "file_extension": ".py",
   "mimetype": "text/x-python",
   "name": "python",
   "nbconvert_exporter": "python",
   "pygments_lexer": "ipython2",
   "version": "2.7.12"
  }
 },
 "nbformat": 4,
 "nbformat_minor": 2
}
