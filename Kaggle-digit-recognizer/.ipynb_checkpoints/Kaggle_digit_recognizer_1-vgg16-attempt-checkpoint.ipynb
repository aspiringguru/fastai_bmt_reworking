{
 "cells": [
  {
   "cell_type": "code",
   "execution_count": 1,
   "metadata": {},
   "outputs": [
    {
     "name": "stdout",
     "output_type": "stream",
     "text": [
      "('HOMEPATH:', '/home/ubuntu/fastai/')\n",
      "('DATAPATH:', '/home/ubuntu/fastai/data/Kaggle_digit_recognizer/')\n"
     ]
    }
   ],
   "source": [
    "HOMEPATH = \"/home/ubuntu/fastai/\"\n",
    "DATAPATH = HOMEPATH + \"data/Kaggle_digit_recognizer/\"\n",
    "print(\"HOMEPATH:\", HOMEPATH)\n",
    "print(\"DATAPATH:\", DATAPATH)\n",
    "import os"
   ]
  },
  {
   "cell_type": "code",
   "execution_count": 38,
   "metadata": {},
   "outputs": [
    {
     "name": "stdout",
     "output_type": "stream",
     "text": [
      "os.getcwd: /home/ubuntu/fastai\n"
     ]
    }
   ],
   "source": [
    "os.chdir(HOMEPATH)\n",
    "print (\"os.getcwd:\", os.getcwd())\n",
    "import utils; reload(utils)\n",
    "from utils import *\n",
    "\n",
    "%matplotlib inline\n",
    "\n",
    "import pandas as pd\n",
    "import numpy as np\n",
    "from sklearn.model_selection import train_test_split\n",
    "from __future__ import division, print_function\n",
    "\n",
    "from keras.utils.np_utils import to_categorical\n",
    "from datetime import datetime"
   ]
  },
  {
   "cell_type": "code",
   "execution_count": 3,
   "metadata": {},
   "outputs": [
    {
     "name": "stdout",
     "output_type": "stream",
     "text": [
      "['pixel0', 'pixel1', 'pixel782', 'pixel783']\n",
      "['label', 'pixel0', 'pixel782', 'pixel783']\n"
     ]
    }
   ],
   "source": [
    "#Each pixel column in the training set has a name like pixelx, where x is an integer between 0 and 783, inclusive.\n",
    "colNames = []\n",
    "colDtypes = {}\n",
    "colDtypes[\"label\"] = np.int64\n",
    "\n",
    "for i in range(784):\n",
    "    colNames.append(\"pixel\"+str(i))\n",
    "    colDtypes[\"pixel\"+str(i)] = np.int64\n",
    "print (colNames[0:2] + colNames[-2:])\n",
    "colNames = ['label'] + colNames\n",
    "print (colNames[0:2] + colNames[-2:])\n"
   ]
  },
  {
   "cell_type": "code",
   "execution_count": 4,
   "metadata": {},
   "outputs": [],
   "source": [
    "df = pd.read_csv(DATAPATH+'train.csv', names=colNames, dtype=colDtypes, header=1)"
   ]
  },
  {
   "cell_type": "code",
   "execution_count": 5,
   "metadata": {},
   "outputs": [
    {
     "data": {
      "text/plain": [
       "(pandas.core.frame.DataFrame, (41999, 785))"
      ]
     },
     "execution_count": 5,
     "metadata": {},
     "output_type": "execute_result"
    }
   ],
   "source": [
    "type(df), df.shape\n",
    "#785 columns = 1 + 28*28\n",
    "#reshape into numy array with shape (4199, 1, 28,28)"
   ]
  },
  {
   "cell_type": "code",
   "execution_count": 6,
   "metadata": {},
   "outputs": [
    {
     "data": {
      "text/html": [
       "<div>\n",
       "<style>\n",
       "    .dataframe thead tr:only-child th {\n",
       "        text-align: right;\n",
       "    }\n",
       "\n",
       "    .dataframe thead th {\n",
       "        text-align: left;\n",
       "    }\n",
       "\n",
       "    .dataframe tbody tr th {\n",
       "        vertical-align: top;\n",
       "    }\n",
       "</style>\n",
       "<table border=\"1\" class=\"dataframe\">\n",
       "  <thead>\n",
       "    <tr style=\"text-align: right;\">\n",
       "      <th></th>\n",
       "      <th>label</th>\n",
       "      <th>pixel0</th>\n",
       "      <th>pixel1</th>\n",
       "      <th>pixel2</th>\n",
       "      <th>pixel3</th>\n",
       "      <th>pixel4</th>\n",
       "      <th>pixel5</th>\n",
       "      <th>pixel6</th>\n",
       "      <th>pixel7</th>\n",
       "      <th>pixel8</th>\n",
       "      <th>...</th>\n",
       "      <th>pixel774</th>\n",
       "      <th>pixel775</th>\n",
       "      <th>pixel776</th>\n",
       "      <th>pixel777</th>\n",
       "      <th>pixel778</th>\n",
       "      <th>pixel779</th>\n",
       "      <th>pixel780</th>\n",
       "      <th>pixel781</th>\n",
       "      <th>pixel782</th>\n",
       "      <th>pixel783</th>\n",
       "    </tr>\n",
       "  </thead>\n",
       "  <tbody>\n",
       "    <tr>\n",
       "      <th>0</th>\n",
       "      <td>0</td>\n",
       "      <td>0</td>\n",
       "      <td>0</td>\n",
       "      <td>0</td>\n",
       "      <td>0</td>\n",
       "      <td>0</td>\n",
       "      <td>0</td>\n",
       "      <td>0</td>\n",
       "      <td>0</td>\n",
       "      <td>0</td>\n",
       "      <td>...</td>\n",
       "      <td>0</td>\n",
       "      <td>0</td>\n",
       "      <td>0</td>\n",
       "      <td>0</td>\n",
       "      <td>0</td>\n",
       "      <td>0</td>\n",
       "      <td>0</td>\n",
       "      <td>0</td>\n",
       "      <td>0</td>\n",
       "      <td>0</td>\n",
       "    </tr>\n",
       "    <tr>\n",
       "      <th>1</th>\n",
       "      <td>1</td>\n",
       "      <td>0</td>\n",
       "      <td>0</td>\n",
       "      <td>0</td>\n",
       "      <td>0</td>\n",
       "      <td>0</td>\n",
       "      <td>0</td>\n",
       "      <td>0</td>\n",
       "      <td>0</td>\n",
       "      <td>0</td>\n",
       "      <td>...</td>\n",
       "      <td>0</td>\n",
       "      <td>0</td>\n",
       "      <td>0</td>\n",
       "      <td>0</td>\n",
       "      <td>0</td>\n",
       "      <td>0</td>\n",
       "      <td>0</td>\n",
       "      <td>0</td>\n",
       "      <td>0</td>\n",
       "      <td>0</td>\n",
       "    </tr>\n",
       "  </tbody>\n",
       "</table>\n",
       "<p>2 rows × 785 columns</p>\n",
       "</div>"
      ],
      "text/plain": [
       "   label  pixel0  pixel1  pixel2  pixel3  pixel4  pixel5  pixel6  pixel7  \\\n",
       "0      0       0       0       0       0       0       0       0       0   \n",
       "1      1       0       0       0       0       0       0       0       0   \n",
       "\n",
       "   pixel8    ...     pixel774  pixel775  pixel776  pixel777  pixel778  \\\n",
       "0       0    ...            0         0         0         0         0   \n",
       "1       0    ...            0         0         0         0         0   \n",
       "\n",
       "   pixel779  pixel780  pixel781  pixel782  pixel783  \n",
       "0         0         0         0         0         0  \n",
       "1         0         0         0         0         0  \n",
       "\n",
       "[2 rows x 785 columns]"
      ]
     },
     "execution_count": 6,
     "metadata": {},
     "output_type": "execute_result"
    }
   ],
   "source": [
    "df.head(2)\n"
   ]
  },
  {
   "cell_type": "code",
   "execution_count": 7,
   "metadata": {},
   "outputs": [
    {
     "data": {
      "text/plain": [
       "[0, 1, 2, 3, 4, 5, 6, 7, 8, 9]"
      ]
     },
     "execution_count": 7,
     "metadata": {},
     "output_type": "execute_result"
    }
   ],
   "source": [
    "uniques = list(df.label.unique())\n",
    "uniques.sort()\n",
    "uniques"
   ]
  },
  {
   "cell_type": "code",
   "execution_count": 8,
   "metadata": {},
   "outputs": [
    {
     "name": "stdout",
     "output_type": "stream",
     "text": [
      "pixelData.shape: (41999, 784)\n",
      "labelData.shape: (41999,) [0 1 4 0 0 7 3 5 3 8]\n"
     ]
    }
   ],
   "source": [
    "pixelData = df.as_matrix()[:,1:]\n",
    "print (\"pixelData.shape:\", pixelData.shape)\n",
    "labelData = df.as_matrix()[:,0]\n",
    "print (\"labelData.shape:\", labelData.shape, labelData[0:10])\n"
   ]
  },
  {
   "cell_type": "code",
   "execution_count": 9,
   "metadata": {},
   "outputs": [
    {
     "name": "stdout",
     "output_type": "stream",
     "text": [
      "pixelData.shape: (41999, 28, 28)\n"
     ]
    }
   ],
   "source": [
    "pixelData = pixelData.reshape((41999, 28, 28))\n",
    "print (\"pixelData.shape:\", pixelData.shape)"
   ]
  },
  {
   "cell_type": "code",
   "execution_count": 10,
   "metadata": {},
   "outputs": [],
   "source": [
    "X_train, X_test, y_train, y_test = train_test_split(pixelData, labelData, test_size=0.1, random_state=42)#split was 0.33"
   ]
  },
  {
   "cell_type": "code",
   "execution_count": 11,
   "metadata": {},
   "outputs": [
    {
     "name": "stdout",
     "output_type": "stream",
     "text": [
      "X_train: (37799, 28, 28)\n",
      "X_test: (4200, 28, 28)\n",
      "y_train: (37799,)\n",
      "y_test: (4200,)\n"
     ]
    }
   ],
   "source": [
    "print (\"X_train:\", X_train.shape)\n",
    "print (\"X_test:\", X_test.shape)\n",
    "print (\"y_train:\", y_train.shape)\n",
    "print (\"y_test:\", y_test.shape)"
   ]
  },
  {
   "cell_type": "code",
   "execution_count": 12,
   "metadata": {},
   "outputs": [
    {
     "name": "stdout",
     "output_type": "stream",
     "text": [
      "expand shape\n",
      "type(X_test): <type 'numpy.ndarray'> (4200, 1, 28, 28)\n",
      "type(X_train): <type 'numpy.ndarray'> (37799, 1, 28, 28)\n"
     ]
    }
   ],
   "source": [
    "if len(X_test.shape)==3:\n",
    "    print(\"expand shape\")\n",
    "    X_test = np.expand_dims(X_test,1)\n",
    "    X_train = np.expand_dims(X_train,1)\n",
    "else:\n",
    "        print(\"expand shape already done, don't do again.\")\n",
    "\n",
    "print (\"type(X_test):\", type(X_test), X_test.shape)\n",
    "print (\"type(X_train):\", type(X_train), X_train.shape)"
   ]
  },
  {
   "cell_type": "code",
   "execution_count": 13,
   "metadata": {},
   "outputs": [
    {
     "name": "stdout",
     "output_type": "stream",
     "text": [
      "X_train: (37799, 1, 28, 28)\n",
      "X_test: (4200, 1, 28, 28)\n"
     ]
    }
   ],
   "source": [
    "print (\"X_train:\", X_train.shape)\n",
    "print (\"X_test:\", X_test.shape)\n"
   ]
  },
  {
   "cell_type": "code",
   "execution_count": 14,
   "metadata": {},
   "outputs": [
    {
     "name": "stdout",
     "output_type": "stream",
     "text": [
      "type(y_train): <type 'numpy.ndarray'> (37799,) 1\n",
      "type(y_test): <type 'numpy.ndarray'> (4200,) 1\n"
     ]
    }
   ],
   "source": [
    "print (\"type(y_train):\", type(y_train), y_train.shape, len(y_train.shape))\n",
    "print (\"type(y_test):\", type(y_test), y_test.shape, len(y_test.shape))"
   ]
  },
  {
   "cell_type": "code",
   "execution_count": 15,
   "metadata": {},
   "outputs": [
    {
     "name": "stdout",
     "output_type": "stream",
     "text": [
      "type(y_train): <type 'numpy.ndarray'> (37799, 10)\n",
      "type(y_test): <type 'numpy.ndarray'> (4200, 10)\n"
     ]
    }
   ],
   "source": [
    "if len(y_test.shape)==1:\n",
    "    y_train = to_categorical(y_train)\n",
    "else:\n",
    "    print (\"y_train already onehot'd, dont try again.\")\n",
    "\n",
    "if len(y_test.shape)==1:\n",
    "    y_test = to_categorical(y_test)\n",
    "else:\n",
    "    print (\"y_train already onehot'd, dont try again.\")\n",
    "\n",
    "print (\"type(y_train):\", type(y_train), y_train.shape)\n",
    "print (\"type(y_test):\", type(y_test), y_test.shape)"
   ]
  },
  {
   "cell_type": "code",
   "execution_count": 16,
   "metadata": {},
   "outputs": [
    {
     "name": "stdout",
     "output_type": "stream",
     "text": [
      "y_train\n",
      " [[ 0.  0.  0.  0.  0.  0.  0.  0.  0.  1.]\n",
      " [ 0.  0.  0.  0.  0.  0.  0.  1.  0.  0.]\n",
      " [ 0.  1.  0.  0.  0.  0.  0.  0.  0.  0.]\n",
      " [ 0.  0.  0.  0.  0.  0.  0.  0.  1.  0.]\n",
      " [ 0.  0.  0.  1.  0.  0.  0.  0.  0.  0.]]\n",
      "y_test\n",
      " [[ 0.  0.  0.  0.  0.  0.  1.  0.  0.  0.]\n",
      " [ 0.  1.  0.  0.  0.  0.  0.  0.  0.  0.]\n",
      " [ 0.  0.  0.  0.  0.  1.  0.  0.  0.  0.]\n",
      " [ 0.  0.  0.  1.  0.  0.  0.  0.  0.  0.]\n",
      " [ 0.  1.  0.  0.  0.  0.  0.  0.  0.  0.]]\n"
     ]
    }
   ],
   "source": [
    "print (\"y_train\\n\", y_train[0:5, :])\n",
    "print (\"y_test\\n\", y_test[0:5, :])"
   ]
  },
  {
   "cell_type": "code",
   "execution_count": 17,
   "metadata": {},
   "outputs": [],
   "source": [
    "mean_px = X_train.mean().astype(np.float32)\n",
    "std_px = X_train.std().astype(np.float32)"
   ]
  },
  {
   "cell_type": "code",
   "execution_count": null,
   "metadata": {},
   "outputs": [],
   "source": []
  },
  {
   "cell_type": "code",
   "execution_count": 18,
   "metadata": {},
   "outputs": [],
   "source": [
    "def showLayersInfo(model):\n",
    "    print (\"Number of layers : \", len(model.layers))\n",
    "    count = 0\n",
    "    for layer in model.layers:\n",
    "        print (count, type(layer), \", trainable:\", layer.trainable)\n",
    "        print (\"input:\", layer.input_shape, \", output:\",layer.output_shape, \"\\n\")\n",
    "        count +=1"
   ]
  },
  {
   "cell_type": "code",
   "execution_count": 19,
   "metadata": {},
   "outputs": [],
   "source": [
    "def plot_history(histories):\n",
    "    #histories : list of history objects. nb: history.history dictionary structure\n",
    "    print (\"len(histories):\", len(histories))\n",
    "    if len(histories)==1: \n",
    "        history = histories\n",
    "    else:\n",
    "        #create empty history to copy into\n",
    "        history = {}\n",
    "        for i in histories[0].history.keys():\n",
    "            history[i] = []\n",
    "        #now combine all history[key] lists into one history[key] list.\n",
    "        for hist in histories:\n",
    "            for key in history.keys():\n",
    "                history[key] += hist.history[key]\n",
    "                #print (key, len(hist.history[key]), len(history[key]))\n",
    "\n",
    "    # list all data in history\n",
    "    print(history.keys(), len(history[history.keys()[0]]))\n",
    "    for key in history.keys():\n",
    "        print (key, \":\", history[key][-1])\n",
    "\n",
    "    # summarize history for accuracy\n",
    "    plt.plot(history['acc'])\n",
    "    plt.plot(history['val_acc'])\n",
    "    plt.title('model accuracy')\n",
    "    plt.ylabel('accuracy')\n",
    "    plt.xlabel('epoch')\n",
    "    plt.legend(['train', 'validate'], loc='upper left')\n",
    "    plt.show()\n",
    "    # summarize history for loss\n",
    "    plt.plot(history['loss'])\n",
    "    plt.plot(history['val_loss'])\n",
    "    plt.title('model loss')\n",
    "    plt.ylabel('loss')\n",
    "    plt.xlabel('epoch')\n",
    "    plt.legend(['train', 'validate'], loc='upper left')\n",
    "    plt.show()"
   ]
  },
  {
   "cell_type": "code",
   "execution_count": 20,
   "metadata": {},
   "outputs": [],
   "source": [
    "gen = image.ImageDataGenerator()\n",
    "#recall: (X_train, y_train), (X_test, y_test) = mnist.load_data()\n",
    "batches = gen.flow(X_train, y_train, batch_size=64)\n",
    "test_batches = gen.flow(X_test, y_test, batch_size=64)"
   ]
  },
  {
   "cell_type": "code",
   "execution_count": 21,
   "metadata": {},
   "outputs": [],
   "source": [
    "def norm_input(x): return (x-mean_px)/std_px"
   ]
  },
  {
   "cell_type": "code",
   "execution_count": 22,
   "metadata": {},
   "outputs": [
    {
     "name": "stdout",
     "output_type": "stream",
     "text": [
      "os.getcwd: /home/ubuntu/fastai\n"
     ]
    }
   ],
   "source": [
    "os.chdir(HOMEPATH)\n",
    "print (\"os.getcwd:\", os.getcwd())\n",
    "import vgg16bn"
   ]
  },
  {
   "cell_type": "code",
   "execution_count": null,
   "metadata": {},
   "outputs": [],
   "source": [
    "#https://keras.io/layers/core/#dropout\n",
    "#rate: float between 0 and 1. Fraction of the input units to drop.\n",
    "#Dropout(0.2) = 20% dropout."
   ]
  },
  {
   "cell_type": "code",
   "execution_count": 32,
   "metadata": {},
   "outputs": [],
   "source": [
    "def get_model_bn_do_bad_does_not_converge():\n",
    "    model = Sequential()\n",
    "    model.add(Lambda(norm_input, input_shape=(1,28,28)))\n",
    "    model.add(Convolution2D(64, 3, 3, activation='relu'))\n",
    "    model.add(ZeroPadding2D((1, 1)))\n",
    "    model.add(BatchNormalization(axis=-1))\n",
    "    model.add(Convolution2D(32, 3, 3, activation='relu'))\n",
    "    model.add(MaxPooling2D((2, 2), strides=(2, 2)))\n",
    "\n",
    "    model.add(BatchNormalization(axis=-1))\n",
    "    model.add(Convolution2D(64, 3, 3, activation='relu'))\n",
    "    model.add(BatchNormalization(axis=-1))\n",
    "    model.add(Convolution2D(64, 3, 3, activation='relu'))\n",
    "    model.add(MaxPooling2D(pool_size=(2,2)))\n",
    "\n",
    "    model.add(Flatten())\n",
    "    # Fully connected layer\n",
    "\n",
    "    model.add(BatchNormalization())\n",
    "    model.add(Dense(512))\n",
    "    model.add(Activation('relu'))\n",
    "    model.add(BatchNormalization())\n",
    "    model.add(Dropout(0.2))\n",
    "    model.add(Dense(10))\n",
    "    \n",
    "    model.compile(Adam(), loss='categorical_crossentropy', metrics=['accuracy'])\n",
    "    return model"
   ]
  },
  {
   "cell_type": "code",
   "execution_count": 33,
   "metadata": {},
   "outputs": [],
   "source": [
    "def get_model_bn_do():\n",
    "    #https://github.com/yashk2810/MNIST-Keras/blob/master/Notebook/MNIST_keras_CNN-99.55%25.ipynb\n",
    "    model = Sequential([\n",
    "        Lambda(norm_input, input_shape=(1,28,28)),\n",
    "\n",
    "        #ConvBlock(2, 64) = 2 sets of layers with Convolution2D.filters=64\n",
    "        ZeroPadding2D((1, 1)),\n",
    "        Convolution2D(64, 3, 3, activation='relu'),\n",
    "        ZeroPadding2D((1, 1)),\n",
    "        Convolution2D(64, 3, 3, activation='relu'),\n",
    "        MaxPooling2D((2, 2), strides=(2, 2)),\n",
    "\n",
    "        #ConvBlock(2, 128) = 2 sets of layers with Convolution2D.filters=64\n",
    "        ZeroPadding2D((1, 1)),\n",
    "        Convolution2D(128, 3, 3, activation='relu'),\n",
    "        ZeroPadding2D((1, 1)),\n",
    "        Convolution2D(128, 3, 3, activation='relu'),\n",
    "        MaxPooling2D((2, 2), strides=(2, 2)),\n",
    "\n",
    "        #ConvBlock(3, 256) = 3 sets of layers with Convolution2D.filters=256\n",
    "        ZeroPadding2D((1, 1)),\n",
    "        Convolution2D(256, 3, 3, activation='relu'),\n",
    "        ZeroPadding2D((1, 1)),\n",
    "        Convolution2D(256, 3, 3, activation='relu'),\n",
    "        ZeroPadding2D((1, 1)),\n",
    "        Convolution2D(256, 3, 3, activation='relu'),\n",
    "        MaxPooling2D((2, 2), strides=(2, 2)),\n",
    "\n",
    "        #ConvBlock(3, 512) = 3 sets of layers with Convolution2D.filters=512\n",
    "        #todo: look at adding BatchNormalization(), to these ConvBlock groups of layers.\n",
    "        ZeroPadding2D((1, 1)),\n",
    "        Convolution2D(512, 3, 3, activation='relu'),\n",
    "        ZeroPadding2D((1, 1)),\n",
    "        Convolution2D(512, 3, 3, activation='relu'),\n",
    "        ZeroPadding2D((1, 1)),\n",
    "        Convolution2D(512, 3, 3, activation='relu'),\n",
    "        MaxPooling2D((2, 2), strides=(2, 2)),\n",
    "\n",
    "        #NB: if a second block of ConvBlock(3, 512) is attempted, errors result due to excessive image size reduction.\n",
    "        Flatten(),\n",
    "        \n",
    "        #FCBlock\n",
    "        Dense(4096, activation='relu'),\n",
    "        BatchNormalization(),\n",
    "        Dropout(0.6),#experiment with different dropout.\n",
    "\n",
    "        #FCBlock\n",
    "        Dense(4096, activation='relu'),\n",
    "        BatchNormalization(),\n",
    "        Dropout(0.5),\n",
    "        \n",
    "        Dense(10, activation='softmax')#last dense layer - 10 categories for 10 digits.\n",
    "\n",
    "        ])\n",
    "    model.compile(Adam(), loss='categorical_crossentropy', metrics=['accuracy'])\n",
    "    #consider the SGD optimiser instead of the Adam optimiser. \n",
    "    #also check how setting model.optimizer.lr=0.001 (etc) impacts on this.\n",
    "    #sgd = SGD(lr=1e-3, decay=1e-6, momentum=0.9, nesterov=True)\n",
    "    #model.compile(optimizer=sgd, loss='categorical_crossentropy', metrics=['accuracy'])\n",
    "    return model"
   ]
  },
  {
   "cell_type": "code",
   "execution_count": null,
   "metadata": {},
   "outputs": [],
   "source": [
    "#https://shaoanlu.wordpress.com/2017/05/29/sgd-all-which-one-is-the-best-optimizer-dogs-vs-cats-toy-experiment/\n",
    "#https://machinelearningmastery.com/using-learning-rate-schedules-deep-learning-models-python-keras/\n",
    "#"
   ]
  },
  {
   "cell_type": "code",
   "execution_count": 34,
   "metadata": {},
   "outputs": [
    {
     "name": "stderr",
     "output_type": "stream",
     "text": [
      "/usr/local/lib/python2.7/dist-packages/keras/layers/core.py:622: UserWarning: `output_shape` argument not specified for layer lambda_4 and cannot be automatically inferred with the Theano backend. Defaulting to output shape `(None, 1, 28, 28)` (same as input shape). If the expected output shape is different, specify it via the `output_shape` argument.\n",
      "  .format(self.name, input_shape))\n"
     ]
    },
    {
     "name": "stdout",
     "output_type": "stream",
     "text": [
      "____________________________________________________________________________________________________\n",
      "Layer (type)                     Output Shape          Param #     Connected to                     \n",
      "====================================================================================================\n",
      "lambda_4 (Lambda)                (None, 1, 28, 28)     0           lambda_input_4[0][0]             \n",
      "____________________________________________________________________________________________________\n",
      "zeropadding2d_13 (ZeroPadding2D) (None, 1, 30, 30)     0           lambda_4[0][0]                   \n",
      "____________________________________________________________________________________________________\n",
      "convolution2d_19 (Convolution2D) (None, 64, 28, 28)    640         zeropadding2d_13[0][0]           \n",
      "____________________________________________________________________________________________________\n",
      "zeropadding2d_14 (ZeroPadding2D) (None, 64, 30, 30)    0           convolution2d_19[0][0]           \n",
      "____________________________________________________________________________________________________\n",
      "convolution2d_20 (Convolution2D) (None, 64, 28, 28)    36928       zeropadding2d_14[0][0]           \n",
      "____________________________________________________________________________________________________\n",
      "maxpooling2d_9 (MaxPooling2D)    (None, 64, 14, 14)    0           convolution2d_20[0][0]           \n",
      "____________________________________________________________________________________________________\n",
      "zeropadding2d_15 (ZeroPadding2D) (None, 64, 16, 16)    0           maxpooling2d_9[0][0]             \n",
      "____________________________________________________________________________________________________\n",
      "convolution2d_21 (Convolution2D) (None, 128, 14, 14)   73856       zeropadding2d_15[0][0]           \n",
      "____________________________________________________________________________________________________\n",
      "zeropadding2d_16 (ZeroPadding2D) (None, 128, 16, 16)   0           convolution2d_21[0][0]           \n",
      "____________________________________________________________________________________________________\n",
      "convolution2d_22 (Convolution2D) (None, 128, 14, 14)   147584      zeropadding2d_16[0][0]           \n",
      "____________________________________________________________________________________________________\n",
      "maxpooling2d_10 (MaxPooling2D)   (None, 128, 7, 7)     0           convolution2d_22[0][0]           \n",
      "____________________________________________________________________________________________________\n",
      "zeropadding2d_17 (ZeroPadding2D) (None, 128, 9, 9)     0           maxpooling2d_10[0][0]            \n",
      "____________________________________________________________________________________________________\n",
      "convolution2d_23 (Convolution2D) (None, 256, 7, 7)     295168      zeropadding2d_17[0][0]           \n",
      "____________________________________________________________________________________________________\n",
      "zeropadding2d_18 (ZeroPadding2D) (None, 256, 9, 9)     0           convolution2d_23[0][0]           \n",
      "____________________________________________________________________________________________________\n",
      "convolution2d_24 (Convolution2D) (None, 256, 7, 7)     590080      zeropadding2d_18[0][0]           \n",
      "____________________________________________________________________________________________________\n",
      "zeropadding2d_19 (ZeroPadding2D) (None, 256, 9, 9)     0           convolution2d_24[0][0]           \n",
      "____________________________________________________________________________________________________\n",
      "convolution2d_25 (Convolution2D) (None, 256, 7, 7)     590080      zeropadding2d_19[0][0]           \n",
      "____________________________________________________________________________________________________\n",
      "maxpooling2d_11 (MaxPooling2D)   (None, 256, 3, 3)     0           convolution2d_25[0][0]           \n",
      "____________________________________________________________________________________________________\n",
      "zeropadding2d_20 (ZeroPadding2D) (None, 256, 5, 5)     0           maxpooling2d_11[0][0]            \n",
      "____________________________________________________________________________________________________\n",
      "convolution2d_26 (Convolution2D) (None, 512, 3, 3)     1180160     zeropadding2d_20[0][0]           \n",
      "____________________________________________________________________________________________________\n",
      "zeropadding2d_21 (ZeroPadding2D) (None, 512, 5, 5)     0           convolution2d_26[0][0]           \n",
      "____________________________________________________________________________________________________\n",
      "convolution2d_27 (Convolution2D) (None, 512, 3, 3)     2359808     zeropadding2d_21[0][0]           \n",
      "____________________________________________________________________________________________________\n",
      "zeropadding2d_22 (ZeroPadding2D) (None, 512, 5, 5)     0           convolution2d_27[0][0]           \n",
      "____________________________________________________________________________________________________\n",
      "convolution2d_28 (Convolution2D) (None, 512, 3, 3)     2359808     zeropadding2d_22[0][0]           \n",
      "____________________________________________________________________________________________________\n",
      "maxpooling2d_12 (MaxPooling2D)   (None, 512, 1, 1)     0           convolution2d_28[0][0]           \n",
      "____________________________________________________________________________________________________\n",
      "flatten_4 (Flatten)              (None, 512)           0           maxpooling2d_12[0][0]            \n",
      "____________________________________________________________________________________________________\n",
      "dense_8 (Dense)                  (None, 4096)          2101248     flatten_4[0][0]                  \n",
      "____________________________________________________________________________________________________\n",
      "batchnormalization_13 (BatchNorm (None, 4096)          16384       dense_8[0][0]                    \n",
      "____________________________________________________________________________________________________\n",
      "dropout_5 (Dropout)              (None, 4096)          0           batchnormalization_13[0][0]      \n",
      "____________________________________________________________________________________________________\n",
      "dense_9 (Dense)                  (None, 4096)          16781312    dropout_5[0][0]                  \n",
      "____________________________________________________________________________________________________\n",
      "batchnormalization_14 (BatchNorm (None, 4096)          16384       dense_9[0][0]                    \n",
      "____________________________________________________________________________________________________\n",
      "dropout_6 (Dropout)              (None, 4096)          0           batchnormalization_14[0][0]      \n",
      "____________________________________________________________________________________________________\n",
      "dense_10 (Dense)                 (None, 10)            40970       dropout_6[0][0]                  \n",
      "====================================================================================================\n",
      "Total params: 26,590,410\n",
      "Trainable params: 26,574,026\n",
      "Non-trainable params: 16,384\n",
      "____________________________________________________________________________________________________\n"
     ]
    }
   ],
   "source": [
    "from keras import backend as K\n",
    "K.set_image_dim_ordering('th')\n",
    "\n",
    "model = get_model_bn_do()\n",
    "model.summary()"
   ]
  },
  {
   "cell_type": "code",
   "execution_count": 35,
   "metadata": {},
   "outputs": [
    {
     "name": "stdout",
     "output_type": "stream",
     "text": [
      "Number of layers :  33\n",
      "0 <class 'keras.layers.core.Lambda'> , trainable: True\n",
      "input: (None, 1, 28, 28) , output: (None, 1, 28, 28) \n",
      "\n",
      "1 <class 'keras.layers.convolutional.ZeroPadding2D'> , trainable: True\n",
      "input: (None, 1, 28, 28) , output: (None, 1, 30, 30) \n",
      "\n",
      "2 <class 'keras.layers.convolutional.Convolution2D'> , trainable: True\n",
      "input: (None, 1, 30, 30) , output: (None, 64, 28, 28) \n",
      "\n",
      "3 <class 'keras.layers.convolutional.ZeroPadding2D'> , trainable: True\n",
      "input: (None, 64, 28, 28) , output: (None, 64, 30, 30) \n",
      "\n",
      "4 <class 'keras.layers.convolutional.Convolution2D'> , trainable: True\n",
      "input: (None, 64, 30, 30) , output: (None, 64, 28, 28) \n",
      "\n",
      "5 <class 'keras.layers.pooling.MaxPooling2D'> , trainable: True\n",
      "input: (None, 64, 28, 28) , output: (None, 64, 14, 14) \n",
      "\n",
      "6 <class 'keras.layers.convolutional.ZeroPadding2D'> , trainable: True\n",
      "input: (None, 64, 14, 14) , output: (None, 64, 16, 16) \n",
      "\n",
      "7 <class 'keras.layers.convolutional.Convolution2D'> , trainable: True\n",
      "input: (None, 64, 16, 16) , output: (None, 128, 14, 14) \n",
      "\n",
      "8 <class 'keras.layers.convolutional.ZeroPadding2D'> , trainable: True\n",
      "input: (None, 128, 14, 14) , output: (None, 128, 16, 16) \n",
      "\n",
      "9 <class 'keras.layers.convolutional.Convolution2D'> , trainable: True\n",
      "input: (None, 128, 16, 16) , output: (None, 128, 14, 14) \n",
      "\n",
      "10 <class 'keras.layers.pooling.MaxPooling2D'> , trainable: True\n",
      "input: (None, 128, 14, 14) , output: (None, 128, 7, 7) \n",
      "\n",
      "11 <class 'keras.layers.convolutional.ZeroPadding2D'> , trainable: True\n",
      "input: (None, 128, 7, 7) , output: (None, 128, 9, 9) \n",
      "\n",
      "12 <class 'keras.layers.convolutional.Convolution2D'> , trainable: True\n",
      "input: (None, 128, 9, 9) , output: (None, 256, 7, 7) \n",
      "\n",
      "13 <class 'keras.layers.convolutional.ZeroPadding2D'> , trainable: True\n",
      "input: (None, 256, 7, 7) , output: (None, 256, 9, 9) \n",
      "\n",
      "14 <class 'keras.layers.convolutional.Convolution2D'> , trainable: True\n",
      "input: (None, 256, 9, 9) , output: (None, 256, 7, 7) \n",
      "\n",
      "15 <class 'keras.layers.convolutional.ZeroPadding2D'> , trainable: True\n",
      "input: (None, 256, 7, 7) , output: (None, 256, 9, 9) \n",
      "\n",
      "16 <class 'keras.layers.convolutional.Convolution2D'> , trainable: True\n",
      "input: (None, 256, 9, 9) , output: (None, 256, 7, 7) \n",
      "\n",
      "17 <class 'keras.layers.pooling.MaxPooling2D'> , trainable: True\n",
      "input: (None, 256, 7, 7) , output: (None, 256, 3, 3) \n",
      "\n",
      "18 <class 'keras.layers.convolutional.ZeroPadding2D'> , trainable: True\n",
      "input: (None, 256, 3, 3) , output: (None, 256, 5, 5) \n",
      "\n",
      "19 <class 'keras.layers.convolutional.Convolution2D'> , trainable: True\n",
      "input: (None, 256, 5, 5) , output: (None, 512, 3, 3) \n",
      "\n",
      "20 <class 'keras.layers.convolutional.ZeroPadding2D'> , trainable: True\n",
      "input: (None, 512, 3, 3) , output: (None, 512, 5, 5) \n",
      "\n",
      "21 <class 'keras.layers.convolutional.Convolution2D'> , trainable: True\n",
      "input: (None, 512, 5, 5) , output: (None, 512, 3, 3) \n",
      "\n",
      "22 <class 'keras.layers.convolutional.ZeroPadding2D'> , trainable: True\n",
      "input: (None, 512, 3, 3) , output: (None, 512, 5, 5) \n",
      "\n",
      "23 <class 'keras.layers.convolutional.Convolution2D'> , trainable: True\n",
      "input: (None, 512, 5, 5) , output: (None, 512, 3, 3) \n",
      "\n",
      "24 <class 'keras.layers.pooling.MaxPooling2D'> , trainable: True\n",
      "input: (None, 512, 3, 3) , output: (None, 512, 1, 1) \n",
      "\n",
      "25 <class 'keras.layers.core.Flatten'> , trainable: True\n",
      "input: (None, 512, 1, 1) , output: (None, 512) \n",
      "\n",
      "26 <class 'keras.layers.core.Dense'> , trainable: True\n",
      "input: (None, 512) , output: (None, 4096) \n",
      "\n",
      "27 <class 'keras.layers.normalization.BatchNormalization'> , trainable: True\n",
      "input: (None, 4096) , output: (None, 4096) \n",
      "\n",
      "28 <class 'keras.layers.core.Dropout'> , trainable: True\n",
      "input: (None, 4096) , output: (None, 4096) \n",
      "\n",
      "29 <class 'keras.layers.core.Dense'> , trainable: True\n",
      "input: (None, 4096) , output: (None, 4096) \n",
      "\n",
      "30 <class 'keras.layers.normalization.BatchNormalization'> , trainable: True\n",
      "input: (None, 4096) , output: (None, 4096) \n",
      "\n",
      "31 <class 'keras.layers.core.Dropout'> , trainable: True\n",
      "input: (None, 4096) , output: (None, 4096) \n",
      "\n",
      "32 <class 'keras.layers.core.Dense'> , trainable: True\n",
      "input: (None, 4096) , output: (None, 10) \n",
      "\n"
     ]
    }
   ],
   "source": [
    "showLayersInfo(model)"
   ]
  },
  {
   "cell_type": "code",
   "execution_count": null,
   "metadata": {},
   "outputs": [],
   "source": [
    "#Batchnormalisation : uses batches and test_batches created from image.ImageDataGenerator.flow(blah...)\n",
    "\n",
    "def get_model_bn_do_suspended():\n",
    "    model = Sequential([\n",
    "        Lambda(norm_input, input_shape=(1,28,28)),\n",
    "        Convolution2D(32,3,3, activation='relu'),\n",
    "        BatchNormalization(axis=1),\n",
    "        Convolution2D(32,3,3, activation='relu'),\n",
    "        MaxPooling2D(),\n",
    "        BatchNormalization(axis=1),\n",
    "        Convolution2D(64,3,3, activation='relu'),\n",
    "        BatchNormalization(axis=1),\n",
    "        Convolution2D(64,3,3, activation='relu'),\n",
    "        MaxPooling2D(),\n",
    "        Flatten(),\n",
    "        BatchNormalization(),\n",
    "        Dropout(0.5),#added dropout here since it appears overtraining & validation not converging.\n",
    "        Dense(512, activation='relu'),\n",
    "        BatchNormalization(),\n",
    "        Dropout(0.5),\n",
    "        Dense(10, activation='softmax')\n",
    "        ])\n",
    "    model.compile(Adam(), loss='categorical_crossentropy', metrics=['accuracy'])\n",
    "    return model"
   ]
  },
  {
   "cell_type": "code",
   "execution_count": 36,
   "metadata": {},
   "outputs": [],
   "source": [
    "def fit_model():\n",
    "    model = get_model_bn_do()\n",
    "    model.summary()\n",
    "    #print (\"model.optimizer.lr:\", model.optimizer.lr)\n",
    "    startTime= datetime.now()\n",
    "    print (\"startTime:\", startTime)\n",
    "    history1 = model.fit_generator(batches, batches.n, nb_epoch=2, verbose=1,\n",
    "                        validation_data=test_batches, nb_val_samples=test_batches.n)\n",
    "    timeElapsed=datetime.now()-startTime\n",
    "    print('Time elapsed (hh:mm:ss.ms) {}'.format(timeElapsed))\n",
    "    #was 1 epoch\n",
    "    #print(\"model.fit_generator(..) completed with model.optimizer.lr:\", model.optimizer.lr)\n",
    "    \n",
    "    model.optimizer.lr=0.1\n",
    "    startTime= datetime.now()\n",
    "    print (\"startTime:\", startTime)\n",
    "    history2 = model.fit_generator(batches, batches.n, nb_epoch=8, verbose=1,\n",
    "                        validation_data=test_batches, nb_val_samples=test_batches.n)#was 6 epoch\n",
    "    timeElapsed=datetime.now()-startTime\n",
    "    print('Time elapsed (hh:mm:ss.ms) {}'.format(timeElapsed))\n",
    "    print(\"model.fit_generator(..) completed with model.optimizer.lr:=0.1\", model.optimizer.lr)\n",
    "    plot_history([history1, history2])\n",
    "    \n",
    "    model.optimizer.lr=0.01\n",
    "    startTime= datetime.now()\n",
    "    print (\"startTime:\", startTime)\n",
    "    history3 = model.fit_generator(batches, batches.n, nb_epoch=16, verbose=1,\n",
    "                        validation_data=test_batches, nb_val_samples=test_batches.n)#was 12 epoch\n",
    "    timeElapsed=datetime.now()-startTime\n",
    "    print('Time elapsed (hh:mm:ss.ms) {}'.format(timeElapsed))\n",
    "    print(\"model.fit_generator(..) completed with model.optimizer.lr:0.01\", model.optimizer.lr)\n",
    "    #plot_history([history1, history2, history3])\n",
    "    plot_history([history2, history3])#omitting the first history since the optimisation is finer from histroy2 on.\n",
    "    \n",
    "    model.optimizer.lr=0.001\n",
    "    startTime= datetime.now()\n",
    "    print (\"startTime:\", startTime)\n",
    "    history4 = model.fit_generator(batches, batches.n, nb_epoch=24, verbose=1,\n",
    "                        validation_data=test_batches, nb_val_samples=test_batches.n)#was 18 epoch\n",
    "    timeElapsed=datetime.now()-startTime\n",
    "    print('Time elapsed (hh:mm:ss.ms) {}'.format(timeElapsed))\n",
    "    print(\"model.fit_generator(..) completed with model.optimizer.lr:0.001\", model.optimizer.lr)\n",
    "    #plot_history([history1, history2, history3, history4])\n",
    "    plot_history([history2, history3, history4])\n",
    "\n",
    "    model.optimizer.lr=0.0001\n",
    "    startTime= datetime.now()\n",
    "    print (\"startTime:\", startTime)\n",
    "    history5 = model.fit_generator(batches, batches.n, nb_epoch=32, verbose=1,\n",
    "                        validation_data=test_batches, nb_val_samples=test_batches.n)#was 27 epoch\n",
    "    timeElapsed=datetime.now()-startTime\n",
    "    print('Time elapsed (hh:mm:ss.ms) {}'.format(timeElapsed))\n",
    "    print(\"model.fit_generator(..) completed with model.optimizer.lr:0.0001\", model.optimizer.lr)\n",
    "    #plot_history([history1, history2, history3, history4, history5])\n",
    "    plot_history([history3, history4, history5])\n",
    "\n",
    "    model.save_weights(model_path+'cnn-mnist23-'+datetime.now().strftime('%Y-%m-%d-%H-%M-%S')+'.h5')\n",
    "    return model\n",
    "#todo: fix output 'model.optimizer.lr' printing object type not printing value\n",
    "#https://github.com/shaoanlu/dogs-vs-cats-redux/blob/master/opt_experiment.ipynb\n",
    "#change verbosity from 0 to 1 ?? want to see output during run otherwise flying blind for too many hours."
   ]
  },
  {
   "cell_type": "markdown",
   "metadata": {},
   "source": [
    "#example code for using callbacks - check if applicable for fit_generator\n",
    "hist_sgdmones = model_sgdmones.fit(X_train, y_train, batch_size=batch_size*2, \n",
    "              nb_epoch=300, validation_data=(X_valid,y_valid), verbose=0, callbacks=[reduce_lr])"
   ]
  },
  {
   "cell_type": "code",
   "execution_count": 40,
   "metadata": {},
   "outputs": [],
   "source": [
    "model_path = DATAPATH + 'models/'"
   ]
  },
  {
   "cell_type": "code",
   "execution_count": null,
   "metadata": {},
   "outputs": [
    {
     "name": "stderr",
     "output_type": "stream",
     "text": [
      "/usr/local/lib/python2.7/dist-packages/keras/layers/core.py:622: UserWarning: `output_shape` argument not specified for layer lambda_7 and cannot be automatically inferred with the Theano backend. Defaulting to output shape `(None, 1, 28, 28)` (same as input shape). If the expected output shape is different, specify it via the `output_shape` argument.\n",
      "  .format(self.name, input_shape))\n"
     ]
    },
    {
     "name": "stdout",
     "output_type": "stream",
     "text": [
      "____________________________________________________________________________________________________\n",
      "Layer (type)                     Output Shape          Param #     Connected to                     \n",
      "====================================================================================================\n",
      "lambda_7 (Lambda)                (None, 1, 28, 28)     0           lambda_input_7[0][0]             \n",
      "____________________________________________________________________________________________________\n",
      "zeropadding2d_43 (ZeroPadding2D) (None, 1, 30, 30)     0           lambda_7[0][0]                   \n",
      "____________________________________________________________________________________________________\n",
      "convolution2d_49 (Convolution2D) (None, 64, 28, 28)    640         zeropadding2d_43[0][0]           \n",
      "____________________________________________________________________________________________________\n",
      "zeropadding2d_44 (ZeroPadding2D) (None, 64, 30, 30)    0           convolution2d_49[0][0]           \n",
      "____________________________________________________________________________________________________\n",
      "convolution2d_50 (Convolution2D) (None, 64, 28, 28)    36928       zeropadding2d_44[0][0]           \n",
      "____________________________________________________________________________________________________\n",
      "maxpooling2d_21 (MaxPooling2D)   (None, 64, 14, 14)    0           convolution2d_50[0][0]           \n",
      "____________________________________________________________________________________________________\n",
      "zeropadding2d_45 (ZeroPadding2D) (None, 64, 16, 16)    0           maxpooling2d_21[0][0]            \n",
      "____________________________________________________________________________________________________\n",
      "convolution2d_51 (Convolution2D) (None, 128, 14, 14)   73856       zeropadding2d_45[0][0]           \n",
      "____________________________________________________________________________________________________\n",
      "zeropadding2d_46 (ZeroPadding2D) (None, 128, 16, 16)   0           convolution2d_51[0][0]           \n",
      "____________________________________________________________________________________________________\n",
      "convolution2d_52 (Convolution2D) (None, 128, 14, 14)   147584      zeropadding2d_46[0][0]           \n",
      "____________________________________________________________________________________________________\n",
      "maxpooling2d_22 (MaxPooling2D)   (None, 128, 7, 7)     0           convolution2d_52[0][0]           \n",
      "____________________________________________________________________________________________________\n",
      "zeropadding2d_47 (ZeroPadding2D) (None, 128, 9, 9)     0           maxpooling2d_22[0][0]            \n",
      "____________________________________________________________________________________________________\n",
      "convolution2d_53 (Convolution2D) (None, 256, 7, 7)     295168      zeropadding2d_47[0][0]           \n",
      "____________________________________________________________________________________________________\n",
      "zeropadding2d_48 (ZeroPadding2D) (None, 256, 9, 9)     0           convolution2d_53[0][0]           \n",
      "____________________________________________________________________________________________________\n",
      "convolution2d_54 (Convolution2D) (None, 256, 7, 7)     590080      zeropadding2d_48[0][0]           \n",
      "____________________________________________________________________________________________________\n",
      "zeropadding2d_49 (ZeroPadding2D) (None, 256, 9, 9)     0           convolution2d_54[0][0]           \n",
      "____________________________________________________________________________________________________\n",
      "convolution2d_55 (Convolution2D) (None, 256, 7, 7)     590080      zeropadding2d_49[0][0]           \n",
      "____________________________________________________________________________________________________\n",
      "maxpooling2d_23 (MaxPooling2D)   (None, 256, 3, 3)     0           convolution2d_55[0][0]           \n",
      "____________________________________________________________________________________________________\n",
      "zeropadding2d_50 (ZeroPadding2D) (None, 256, 5, 5)     0           maxpooling2d_23[0][0]            \n",
      "____________________________________________________________________________________________________\n",
      "convolution2d_56 (Convolution2D) (None, 512, 3, 3)     1180160     zeropadding2d_50[0][0]           \n",
      "____________________________________________________________________________________________________\n",
      "zeropadding2d_51 (ZeroPadding2D) (None, 512, 5, 5)     0           convolution2d_56[0][0]           \n",
      "____________________________________________________________________________________________________\n",
      "convolution2d_57 (Convolution2D) (None, 512, 3, 3)     2359808     zeropadding2d_51[0][0]           \n",
      "____________________________________________________________________________________________________\n",
      "zeropadding2d_52 (ZeroPadding2D) (None, 512, 5, 5)     0           convolution2d_57[0][0]           \n",
      "____________________________________________________________________________________________________\n",
      "convolution2d_58 (Convolution2D) (None, 512, 3, 3)     2359808     zeropadding2d_52[0][0]           \n",
      "____________________________________________________________________________________________________\n",
      "maxpooling2d_24 (MaxPooling2D)   (None, 512, 1, 1)     0           convolution2d_58[0][0]           \n",
      "____________________________________________________________________________________________________\n",
      "flatten_7 (Flatten)              (None, 512)           0           maxpooling2d_24[0][0]            \n",
      "____________________________________________________________________________________________________\n",
      "dense_17 (Dense)                 (None, 4096)          2101248     flatten_7[0][0]                  \n",
      "____________________________________________________________________________________________________\n",
      "batchnormalization_19 (BatchNorm (None, 4096)          16384       dense_17[0][0]                   \n",
      "____________________________________________________________________________________________________\n",
      "dropout_11 (Dropout)             (None, 4096)          0           batchnormalization_19[0][0]      \n",
      "____________________________________________________________________________________________________\n",
      "dense_18 (Dense)                 (None, 4096)          16781312    dropout_11[0][0]                 \n",
      "____________________________________________________________________________________________________\n",
      "batchnormalization_20 (BatchNorm (None, 4096)          16384       dense_18[0][0]                   \n",
      "____________________________________________________________________________________________________\n",
      "dropout_12 (Dropout)             (None, 4096)          0           batchnormalization_20[0][0]      \n",
      "____________________________________________________________________________________________________\n",
      "dense_19 (Dense)                 (None, 10)            40970       dropout_12[0][0]                 \n",
      "====================================================================================================\n",
      "Total params: 26,590,410\n",
      "Trainable params: 26,574,026\n",
      "Non-trainable params: 16,384\n",
      "____________________________________________________________________________________________________\n",
      "startTime: 2017-12-27 14:32:03.097289\n",
      "startTime: 2017-12-27 14:36:54.066807\n",
      "Time elapsed (hh:mm:ss.ms) 0:18:20.396577\n",
      "model.fit_generator(..) completed with model.optimizer.lr:=0.1 0.1\n",
      "len(histories): 2\n",
      "['acc', 'loss', 'val_acc', 'val_loss'] 10\n",
      "acc : 0.9881478346\n",
      "loss : 0.0559549052299\n",
      "val_acc : 0.980952380839\n",
      "val_loss : 0.117258182431\n"
     ]
    },
    {
     "data": {
      "image/png": "[encoded data removed]",
      "text/plain": [
       "<matplotlib.figure.Figure at 0x7fac278107d0>"
      ]
     },
     "metadata": {},
     "output_type": "display_data"
    },
    {
     "data": {
      "image/png": "[encoded data removed]",
      "text/plain": [
       "<matplotlib.figure.Figure at 0x7fac293cd5d0>"
      ]
     },
     "metadata": {},
     "output_type": "display_data"
    },
    {
     "name": "stdout",
     "output_type": "stream",
     "text": [
      "startTime: 2017-12-27 14:55:14.791060\n",
      "Time elapsed (hh:mm:ss.ms) 0:36:52.416382\n",
      "model.fit_generator(..) completed with model.optimizer.lr:0.01 0.01\n",
      "len(histories): 3\n",
      "['acc', 'loss', 'val_acc', 'val_loss'] 26\n",
      "acc : 0.99632265404\n",
      "loss : 0.0191233662585\n",
      "val_acc : 0.987619047619\n",
      "val_loss : 0.102378420138\n"
     ]
    },
    {
     "data": {
      "image/png": "[encoded data removed]",
      "text/plain": [
       "<matplotlib.figure.Figure at 0x7fabea46c0d0>"
      ]
     },
     "metadata": {},
     "output_type": "display_data"
    },
    {
     "data": {
      "image/png": "[encoded data removed]",
      "text/plain": [
       "<matplotlib.figure.Figure at 0x7fabea46cd10>"
      ]
     },
     "metadata": {},
     "output_type": "display_data"
    },
    {
     "name": "stdout",
     "output_type": "stream",
     "text": [
      "startTime: 2017-12-27 15:32:07.546541\n",
      "Time elapsed (hh:mm:ss.ms) 0:55:21.648494\n",
      "model.fit_generator(..) completed with model.optimizer.lr:0.001 0.001\n",
      "len(histories): 4\n",
      "['acc', 'loss', 'val_acc', 'val_loss'] 50\n",
      "acc : 0.998386200693\n",
      "loss : 0.0122089980256\n",
      "val_acc : 0.991904761905\n",
      "val_loss : 0.0848043268307\n"
     ]
    },
    {
     "data": {
      "image/png": "[encoded data removed]",
      "text/plain": [
       "<matplotlib.figure.Figure at 0x7fabea463b90>"
      ]
     },
     "metadata": {},
     "output_type": "display_data"
    },
    {
     "data": {
      "image/png": "[encoded data removed]",
      "text/plain": [
       "<matplotlib.figure.Figure at 0x7fabea4165d0>"
      ]
     },
     "metadata": {},
     "output_type": "display_data"
    },
    {
     "name": "stdout",
     "output_type": "stream",
     "text": [
      "startTime: 2017-12-27 16:27:29.528282\n"
     ]
    }
   ],
   "source": [
    "models = [fit_model() for i in range(11)]#was range(6) 5 iterations, now 10 iterations."
   ]
  },
  {
   "cell_type": "code",
   "execution_count": null,
   "metadata": {},
   "outputs": [],
   "source": [
    "print (\"models:\", type(models), len(models))"
   ]
  },
  {
   "cell_type": "code",
   "execution_count": null,
   "metadata": {},
   "outputs": [],
   "source": [
    "#move saving models to inside method, avoid losing long runtime data.\n",
    "#for i,m in enumerate(models):\n",
    "#    m.save_weights(model_path+'cnn-mnist23-'+str(i)+'_MNIST_keras_CNN99_simulation.h5')#nb: why .pkl instead of .h5? .pkl usually for pickle."
   ]
  },
  {
   "cell_type": "code",
   "execution_count": null,
   "metadata": {},
   "outputs": [],
   "source": [
    "evals = np.array([m.evaluate(X_test, y_test, batch_size=256) for m in models])"
   ]
  },
  {
   "cell_type": "code",
   "execution_count": null,
   "metadata": {},
   "outputs": [],
   "source": [
    "evals_mean = evals.mean(axis=0)"
   ]
  },
  {
   "cell_type": "code",
   "execution_count": null,
   "metadata": {},
   "outputs": [],
   "source": [
    "print (\"evals_mean:\", evals_mean.shape)"
   ]
  },
  {
   "cell_type": "code",
   "execution_count": null,
   "metadata": {},
   "outputs": [],
   "source": [
    "print (evals_mean)"
   ]
  },
  {
   "cell_type": "code",
   "execution_count": null,
   "metadata": {},
   "outputs": [],
   "source": [
    "all_preds = np.stack([m.predict(X_test, batch_size=256) for m in models])"
   ]
  },
  {
   "cell_type": "code",
   "execution_count": null,
   "metadata": {},
   "outputs": [],
   "source": [
    "all_preds.shape"
   ]
  },
  {
   "cell_type": "code",
   "execution_count": null,
   "metadata": {},
   "outputs": [],
   "source": [
    "avg_preds = all_preds.mean(axis=0)"
   ]
  },
  {
   "cell_type": "code",
   "execution_count": null,
   "metadata": {},
   "outputs": [],
   "source": [
    "avg_preds.shape"
   ]
  },
  {
   "cell_type": "code",
   "execution_count": null,
   "metadata": {},
   "outputs": [],
   "source": [
    "avg_preds[0:5, :]"
   ]
  },
  {
   "cell_type": "code",
   "execution_count": null,
   "metadata": {},
   "outputs": [],
   "source": [
    "all_preds[0:5, 0, :]"
   ]
  },
  {
   "cell_type": "code",
   "execution_count": null,
   "metadata": {},
   "outputs": [],
   "source": [
    "keras.metrics.categorical_accuracy(y_test, avg_preds).eval()"
   ]
  },
  {
   "cell_type": "code",
   "execution_count": null,
   "metadata": {},
   "outputs": [],
   "source": [
    "#start loading test data\n",
    "#Each pixel column in the training set has a name like pixelx, where x is an integer between 0 and 783, inclusive.\n",
    "colNames = []\n",
    "colDtypes = {}\n",
    "\n",
    "for i in range(784):\n",
    "    colNames.append(\"pixel\"+str(i))\n",
    "    colDtypes[\"pixel\"+str(i)] = np.int64\n",
    "print (colNames[0:2] + colNames[-2:])\n",
    "colNames = colNames\n",
    "print (colNames[0:2] + colNames[-2:])\n"
   ]
  },
  {
   "cell_type": "code",
   "execution_count": null,
   "metadata": {},
   "outputs": [],
   "source": [
    "df_test = pd.read_csv(DATAPATH+'test.csv', names=colNames, dtype=colDtypes, header=0)"
   ]
  },
  {
   "cell_type": "code",
   "execution_count": null,
   "metadata": {},
   "outputs": [],
   "source": [
    "df_test.shape"
   ]
  },
  {
   "cell_type": "code",
   "execution_count": null,
   "metadata": {},
   "outputs": [],
   "source": [
    "test_pixelData = df_test.as_matrix()\n",
    "print (\"test_pixelData.shape:\", test_pixelData.shape, test_pixelData.shape[0])\n"
   ]
  },
  {
   "cell_type": "code",
   "execution_count": null,
   "metadata": {},
   "outputs": [],
   "source": [
    "X_test = test_pixelData.reshape((test_pixelData.shape[0], 28, 28))\n",
    "print (\"X_test.shape:\", X_test.shape)"
   ]
  },
  {
   "cell_type": "code",
   "execution_count": null,
   "metadata": {},
   "outputs": [],
   "source": [
    "if len(X_test.shape)==3:\n",
    "    print(\"expand shape\")\n",
    "    X_test = np.expand_dims(X_test,1)\n",
    "else:\n",
    "        print(\"expand shape already done, don't do again.\")\n",
    "\n",
    "print (\"type(X_test):\", type(X_test), X_test.shape)\n"
   ]
  },
  {
   "cell_type": "code",
   "execution_count": null,
   "metadata": {},
   "outputs": [],
   "source": [
    "all_preds = np.stack([m.predict(X_test, batch_size=256) for m in models])"
   ]
  },
  {
   "cell_type": "code",
   "execution_count": null,
   "metadata": {},
   "outputs": [],
   "source": [
    "all_preds.shape"
   ]
  },
  {
   "cell_type": "code",
   "execution_count": null,
   "metadata": {},
   "outputs": [],
   "source": [
    "avg_preds = all_preds.mean(axis=0)"
   ]
  },
  {
   "cell_type": "code",
   "execution_count": null,
   "metadata": {},
   "outputs": [],
   "source": [
    "avg_preds.shape"
   ]
  },
  {
   "cell_type": "code",
   "execution_count": null,
   "metadata": {},
   "outputs": [],
   "source": [
    "print(avg_preds[0])\n",
    "print(type(avg_preds[0]))\n",
    "print(type(list(avg_preds[0])))\n"
   ]
  },
  {
   "cell_type": "code",
   "execution_count": null,
   "metadata": {},
   "outputs": [],
   "source": [
    "category = []\n",
    "for i in range(avg_preds.shape[0]):\n",
    "    category.append(np.argmax(avg_preds[i]))\n",
    "    #print(i, category, avg_preds[i])\n",
    "    #break\n",
    "type(category), len(category), category[0:10]"
   ]
  },
  {
   "cell_type": "code",
   "execution_count": null,
   "metadata": {},
   "outputs": [],
   "source": [
    "imageids = list(range(1, avg_preds.shape[0]+1))\n",
    "print (type(imageids), len(imageids), imageids[0:5], imageids[-5:])"
   ]
  },
  {
   "cell_type": "code",
   "execution_count": null,
   "metadata": {},
   "outputs": [],
   "source": [
    "#create dataframe, write to csv\n",
    "#dataframe labels = ImageId,Label\n",
    "#df = pd.read_csv(DATAPATH+'train.csv', names=colNames, dtype=colDtypes, header=1)\n",
    "\n",
    "\n",
    "df = pd.DataFrame({'ImageId': imageids, 'Label': category})\n",
    "print (df.shape)\n",
    "print (df.head())\n",
    "print (df.tail())"
   ]
  },
  {
   "cell_type": "code",
   "execution_count": null,
   "metadata": {},
   "outputs": [],
   "source": [
    "df.to_csv(DATAPATH+'submit_MNIST_keras_CNN99.csv', index=False)"
   ]
  },
  {
   "cell_type": "code",
   "execution_count": null,
   "metadata": {},
   "outputs": [],
   "source": []
  },
  {
   "cell_type": "code",
   "execution_count": null,
   "metadata": {},
   "outputs": [],
   "source": [
    "print (all_preds.shape)\n",
    "print (all_preds.shape[0])\n",
    "print (all_preds.shape[1])\n",
    "print (all_preds.shape[2])"
   ]
  },
  {
   "cell_type": "code",
   "execution_count": null,
   "metadata": {},
   "outputs": [],
   "source": [
    "from collections import Counter\n",
    "\n",
    "def Most_Common(lst):\n",
    "    data = Counter(lst)\n",
    "    return data.most_common(1)[0][0]"
   ]
  },
  {
   "cell_type": "code",
   "execution_count": null,
   "metadata": {},
   "outputs": [],
   "source": [
    "predCategories = []\n",
    "count=0\n",
    "for i in range(all_preds.shape[1]):\n",
    "    rowCateg = []\n",
    "    for j in range(all_preds.shape[0]):\n",
    "        #loop through each row, then loop through each iteration of results.\n",
    "        #pick the most popular category result. (cf finding mean.)\n",
    "        #print (all_preds[j,i,:], all_preds[j,i,:].shape, type(all_preds[j,i,:]), np.argmax(all_preds[j,i,:]))\n",
    "        rowCateg.append(np.argmax(all_preds[j,i,:]))\n",
    "    mostPopCateg = Most_Common(rowCateg)\n",
    "    if len(set(rowCateg))>1:\n",
    "        print (\"rowCateg:\", rowCateg, mostPopCateg)\n",
    "        count += 1\n",
    "    predCategories.append(mostPopCateg)\n",
    "print (\"count:\", count)"
   ]
  },
  {
   "cell_type": "code",
   "execution_count": null,
   "metadata": {},
   "outputs": [],
   "source": [
    "predCategories"
   ]
  },
  {
   "cell_type": "code",
   "execution_count": null,
   "metadata": {},
   "outputs": [],
   "source": [
    "bb = [1,2,3,4,1,2,3,4]\n",
    "len(bb), set(bb), len(set(bb))"
   ]
  },
  {
   "cell_type": "code",
   "execution_count": null,
   "metadata": {},
   "outputs": [],
   "source": [
    "df = pd.DataFrame({'ImageId': imageids, 'Label': predCategories})\n",
    "print (df.shape)\n",
    "print (df.head())\n",
    "print (df.tail())"
   ]
  },
  {
   "cell_type": "code",
   "execution_count": null,
   "metadata": {},
   "outputs": [],
   "source": [
    "df.to_csv(DATAPATH+'submit_most_popular_category.csv', index=False)\n",
    "#same result 0.995"
   ]
  },
  {
   "cell_type": "code",
   "execution_count": null,
   "metadata": {},
   "outputs": [],
   "source": []
  }
 ],
 "metadata": {
  "kernelspec": {
   "display_name": "Python 2",
   "language": "python",
   "name": "python2"
  },
  "language_info": {
   "codemirror_mode": {
    "name": "ipython",
    "version": 2
   },
   "file_extension": ".py",
   "mimetype": "text/x-python",
   "name": "python",
   "nbconvert_exporter": "python",
   "pygments_lexer": "ipython2",
   "version": "2.7.12"
  }
 },
 "nbformat": 4,
 "nbformat_minor": 2
}
