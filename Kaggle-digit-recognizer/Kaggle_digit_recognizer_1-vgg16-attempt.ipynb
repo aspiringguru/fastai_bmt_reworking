{
 "cells": [
  {
   "cell_type": "code",
   "execution_count": 1,
   "metadata": {},
   "outputs": [
    {
     "name": "stdout",
     "output_type": "stream",
     "text": [
      "('HOMEPATH:', '/home/ubuntu/fastai/')\n",
      "('DATAPATH:', '/home/ubuntu/fastai/data/Kaggle_digit_recognizer/')\n"
     ]
    }
   ],
   "source": [
    "HOMEPATH = \"/home/ubuntu/fastai/\"\n",
    "DATAPATH = HOMEPATH + \"data/Kaggle_digit_recognizer/\"\n",
    "print(\"HOMEPATH:\", HOMEPATH)\n",
    "print(\"DATAPATH:\", DATAPATH)\n",
    "import os"
   ]
  },
  {
   "cell_type": "code",
   "execution_count": 2,
   "metadata": {},
   "outputs": [
    {
     "name": "stdout",
     "output_type": "stream",
     "text": [
      "('os.getcwd:', '/home/ubuntu/fastai')\n"
     ]
    },
    {
     "name": "stderr",
     "output_type": "stream",
     "text": [
      "WARNING (theano.sandbox.cuda): The cuda backend is deprecated and will be removed in the next release (v0.10).  Please switch to the gpuarray backend. You can get more information about how to switch at this URL:\n",
      " https://github.com/Theano/Theano/wiki/Converting-to-the-new-gpu-back-end%28gpuarray%29\n",
      "\n",
      "Using gpu device 0: Tesla K80 (CNMeM is disabled, cuDNN 5110)\n",
      "Using Theano backend.\n"
     ]
    }
   ],
   "source": [
    "os.chdir(HOMEPATH)\n",
    "print (\"os.getcwd:\", os.getcwd())\n",
    "import utils; reload(utils)\n",
    "from utils import *\n",
    "\n",
    "%matplotlib inline\n",
    "\n",
    "import pandas as pd\n",
    "import numpy as np\n",
    "from sklearn.model_selection import train_test_split\n",
    "from __future__ import division, print_function\n",
    "\n",
    "from keras.utils.np_utils import to_categorical"
   ]
  },
  {
   "cell_type": "code",
   "execution_count": 3,
   "metadata": {},
   "outputs": [
    {
     "name": "stdout",
     "output_type": "stream",
     "text": [
      "['pixel0', 'pixel1', 'pixel782', 'pixel783']\n",
      "['label', 'pixel0', 'pixel782', 'pixel783']\n"
     ]
    }
   ],
   "source": [
    "#Each pixel column in the training set has a name like pixelx, where x is an integer between 0 and 783, inclusive.\n",
    "colNames = []\n",
    "colDtypes = {}\n",
    "colDtypes[\"label\"] = np.int64\n",
    "\n",
    "for i in range(784):\n",
    "    colNames.append(\"pixel\"+str(i))\n",
    "    colDtypes[\"pixel\"+str(i)] = np.int64\n",
    "print (colNames[0:2] + colNames[-2:])\n",
    "colNames = ['label'] + colNames\n",
    "print (colNames[0:2] + colNames[-2:])\n"
   ]
  },
  {
   "cell_type": "code",
   "execution_count": 4,
   "metadata": {},
   "outputs": [],
   "source": [
    "df = pd.read_csv(DATAPATH+'train.csv', names=colNames, dtype=colDtypes, header=1)"
   ]
  },
  {
   "cell_type": "code",
   "execution_count": 5,
   "metadata": {},
   "outputs": [
    {
     "data": {
      "text/plain": [
       "(pandas.core.frame.DataFrame, (41999, 785))"
      ]
     },
     "execution_count": 5,
     "metadata": {},
     "output_type": "execute_result"
    }
   ],
   "source": [
    "type(df), df.shape\n",
    "#785 columns = 1 + 28*28\n",
    "#reshape into numy array with shape (4199, 1, 28,28)"
   ]
  },
  {
   "cell_type": "code",
   "execution_count": 6,
   "metadata": {},
   "outputs": [
    {
     "data": {
      "text/html": [
       "<div>\n",
       "<style>\n",
       "    .dataframe thead tr:only-child th {\n",
       "        text-align: right;\n",
       "    }\n",
       "\n",
       "    .dataframe thead th {\n",
       "        text-align: left;\n",
       "    }\n",
       "\n",
       "    .dataframe tbody tr th {\n",
       "        vertical-align: top;\n",
       "    }\n",
       "</style>\n",
       "<table border=\"1\" class=\"dataframe\">\n",
       "  <thead>\n",
       "    <tr style=\"text-align: right;\">\n",
       "      <th></th>\n",
       "      <th>label</th>\n",
       "      <th>pixel0</th>\n",
       "      <th>pixel1</th>\n",
       "      <th>pixel2</th>\n",
       "      <th>pixel3</th>\n",
       "      <th>pixel4</th>\n",
       "      <th>pixel5</th>\n",
       "      <th>pixel6</th>\n",
       "      <th>pixel7</th>\n",
       "      <th>pixel8</th>\n",
       "      <th>...</th>\n",
       "      <th>pixel774</th>\n",
       "      <th>pixel775</th>\n",
       "      <th>pixel776</th>\n",
       "      <th>pixel777</th>\n",
       "      <th>pixel778</th>\n",
       "      <th>pixel779</th>\n",
       "      <th>pixel780</th>\n",
       "      <th>pixel781</th>\n",
       "      <th>pixel782</th>\n",
       "      <th>pixel783</th>\n",
       "    </tr>\n",
       "  </thead>\n",
       "  <tbody>\n",
       "    <tr>\n",
       "      <th>0</th>\n",
       "      <td>0</td>\n",
       "      <td>0</td>\n",
       "      <td>0</td>\n",
       "      <td>0</td>\n",
       "      <td>0</td>\n",
       "      <td>0</td>\n",
       "      <td>0</td>\n",
       "      <td>0</td>\n",
       "      <td>0</td>\n",
       "      <td>0</td>\n",
       "      <td>...</td>\n",
       "      <td>0</td>\n",
       "      <td>0</td>\n",
       "      <td>0</td>\n",
       "      <td>0</td>\n",
       "      <td>0</td>\n",
       "      <td>0</td>\n",
       "      <td>0</td>\n",
       "      <td>0</td>\n",
       "      <td>0</td>\n",
       "      <td>0</td>\n",
       "    </tr>\n",
       "    <tr>\n",
       "      <th>1</th>\n",
       "      <td>1</td>\n",
       "      <td>0</td>\n",
       "      <td>0</td>\n",
       "      <td>0</td>\n",
       "      <td>0</td>\n",
       "      <td>0</td>\n",
       "      <td>0</td>\n",
       "      <td>0</td>\n",
       "      <td>0</td>\n",
       "      <td>0</td>\n",
       "      <td>...</td>\n",
       "      <td>0</td>\n",
       "      <td>0</td>\n",
       "      <td>0</td>\n",
       "      <td>0</td>\n",
       "      <td>0</td>\n",
       "      <td>0</td>\n",
       "      <td>0</td>\n",
       "      <td>0</td>\n",
       "      <td>0</td>\n",
       "      <td>0</td>\n",
       "    </tr>\n",
       "  </tbody>\n",
       "</table>\n",
       "<p>2 rows × 785 columns</p>\n",
       "</div>"
      ],
      "text/plain": [
       "   label  pixel0  pixel1  pixel2  pixel3  pixel4  pixel5  pixel6  pixel7  \\\n",
       "0      0       0       0       0       0       0       0       0       0   \n",
       "1      1       0       0       0       0       0       0       0       0   \n",
       "\n",
       "   pixel8    ...     pixel774  pixel775  pixel776  pixel777  pixel778  \\\n",
       "0       0    ...            0         0         0         0         0   \n",
       "1       0    ...            0         0         0         0         0   \n",
       "\n",
       "   pixel779  pixel780  pixel781  pixel782  pixel783  \n",
       "0         0         0         0         0         0  \n",
       "1         0         0         0         0         0  \n",
       "\n",
       "[2 rows x 785 columns]"
      ]
     },
     "execution_count": 6,
     "metadata": {},
     "output_type": "execute_result"
    }
   ],
   "source": [
    "df.head(2)\n"
   ]
  },
  {
   "cell_type": "code",
   "execution_count": 7,
   "metadata": {},
   "outputs": [
    {
     "data": {
      "text/plain": [
       "[0, 1, 2, 3, 4, 5, 6, 7, 8, 9]"
      ]
     },
     "execution_count": 7,
     "metadata": {},
     "output_type": "execute_result"
    }
   ],
   "source": [
    "uniques = list(df.label.unique())\n",
    "uniques.sort()\n",
    "uniques"
   ]
  },
  {
   "cell_type": "code",
   "execution_count": 8,
   "metadata": {},
   "outputs": [
    {
     "name": "stdout",
     "output_type": "stream",
     "text": [
      "pixelData.shape: (41999, 784)\n",
      "labelData.shape: (41999,) [0 1 4 0 0 7 3 5 3 8]\n"
     ]
    }
   ],
   "source": [
    "pixelData = df.as_matrix()[:,1:]\n",
    "print (\"pixelData.shape:\", pixelData.shape)\n",
    "labelData = df.as_matrix()[:,0]\n",
    "print (\"labelData.shape:\", labelData.shape, labelData[0:10])\n"
   ]
  },
  {
   "cell_type": "code",
   "execution_count": 9,
   "metadata": {},
   "outputs": [
    {
     "name": "stdout",
     "output_type": "stream",
     "text": [
      "pixelData.shape: (41999, 28, 28)\n"
     ]
    }
   ],
   "source": [
    "pixelData = pixelData.reshape((41999, 28, 28))\n",
    "print (\"pixelData.shape:\", pixelData.shape)"
   ]
  },
  {
   "cell_type": "code",
   "execution_count": 10,
   "metadata": {},
   "outputs": [],
   "source": [
    "X_train, X_test, y_train, y_test = train_test_split(pixelData, labelData, test_size=0.1, random_state=42)#split was 0.33"
   ]
  },
  {
   "cell_type": "code",
   "execution_count": 11,
   "metadata": {},
   "outputs": [
    {
     "name": "stdout",
     "output_type": "stream",
     "text": [
      "X_train: (37799, 28, 28)\n",
      "X_test: (4200, 28, 28)\n",
      "y_train: (37799,)\n",
      "y_test: (4200,)\n"
     ]
    }
   ],
   "source": [
    "print (\"X_train:\", X_train.shape)\n",
    "print (\"X_test:\", X_test.shape)\n",
    "print (\"y_train:\", y_train.shape)\n",
    "print (\"y_test:\", y_test.shape)"
   ]
  },
  {
   "cell_type": "code",
   "execution_count": 12,
   "metadata": {},
   "outputs": [
    {
     "name": "stdout",
     "output_type": "stream",
     "text": [
      "expand shape\n",
      "type(X_test): <type 'numpy.ndarray'> (4200, 1, 28, 28)\n",
      "type(X_train): <type 'numpy.ndarray'> (37799, 1, 28, 28)\n"
     ]
    }
   ],
   "source": [
    "if len(X_test.shape)==3:\n",
    "    print(\"expand shape\")\n",
    "    X_test = np.expand_dims(X_test,1)\n",
    "    X_train = np.expand_dims(X_train,1)\n",
    "else:\n",
    "        print(\"expand shape already done, don't do again.\")\n",
    "\n",
    "print (\"type(X_test):\", type(X_test), X_test.shape)\n",
    "print (\"type(X_train):\", type(X_train), X_train.shape)"
   ]
  },
  {
   "cell_type": "code",
   "execution_count": 13,
   "metadata": {},
   "outputs": [
    {
     "name": "stdout",
     "output_type": "stream",
     "text": [
      "X_train: (37799, 1, 28, 28)\n",
      "X_test: (4200, 1, 28, 28)\n"
     ]
    }
   ],
   "source": [
    "print (\"X_train:\", X_train.shape)\n",
    "print (\"X_test:\", X_test.shape)\n"
   ]
  },
  {
   "cell_type": "code",
   "execution_count": 14,
   "metadata": {},
   "outputs": [
    {
     "name": "stdout",
     "output_type": "stream",
     "text": [
      "type(y_train): <type 'numpy.ndarray'> (37799,) 1\n",
      "type(y_test): <type 'numpy.ndarray'> (4200,) 1\n"
     ]
    }
   ],
   "source": [
    "print (\"type(y_train):\", type(y_train), y_train.shape, len(y_train.shape))\n",
    "print (\"type(y_test):\", type(y_test), y_test.shape, len(y_test.shape))"
   ]
  },
  {
   "cell_type": "code",
   "execution_count": 15,
   "metadata": {},
   "outputs": [
    {
     "name": "stdout",
     "output_type": "stream",
     "text": [
      "type(y_train): <type 'numpy.ndarray'> (37799, 10)\n",
      "type(y_test): <type 'numpy.ndarray'> (4200, 10)\n"
     ]
    }
   ],
   "source": [
    "if len(y_test.shape)==1:\n",
    "    y_train = to_categorical(y_train)\n",
    "else:\n",
    "    print (\"y_train already onehot'd, dont try again.\")\n",
    "\n",
    "if len(y_test.shape)==1:\n",
    "    y_test = to_categorical(y_test)\n",
    "else:\n",
    "    print (\"y_train already onehot'd, dont try again.\")\n",
    "\n",
    "print (\"type(y_train):\", type(y_train), y_train.shape)\n",
    "print (\"type(y_test):\", type(y_test), y_test.shape)"
   ]
  },
  {
   "cell_type": "code",
   "execution_count": 16,
   "metadata": {},
   "outputs": [
    {
     "name": "stdout",
     "output_type": "stream",
     "text": [
      "y_train\n",
      " [[ 0.  0.  0.  0.  0.  0.  0.  0.  0.  1.]\n",
      " [ 0.  0.  0.  0.  0.  0.  0.  1.  0.  0.]\n",
      " [ 0.  1.  0.  0.  0.  0.  0.  0.  0.  0.]\n",
      " [ 0.  0.  0.  0.  0.  0.  0.  0.  1.  0.]\n",
      " [ 0.  0.  0.  1.  0.  0.  0.  0.  0.  0.]]\n",
      "y_test\n",
      " [[ 0.  0.  0.  0.  0.  0.  1.  0.  0.  0.]\n",
      " [ 0.  1.  0.  0.  0.  0.  0.  0.  0.  0.]\n",
      " [ 0.  0.  0.  0.  0.  1.  0.  0.  0.  0.]\n",
      " [ 0.  0.  0.  1.  0.  0.  0.  0.  0.  0.]\n",
      " [ 0.  1.  0.  0.  0.  0.  0.  0.  0.  0.]]\n"
     ]
    }
   ],
   "source": [
    "print (\"y_train\\n\", y_train[0:5, :])\n",
    "print (\"y_test\\n\", y_test[0:5, :])"
   ]
  },
  {
   "cell_type": "code",
   "execution_count": 17,
   "metadata": {},
   "outputs": [],
   "source": [
    "mean_px = X_train.mean().astype(np.float32)\n",
    "std_px = X_train.std().astype(np.float32)"
   ]
  },
  {
   "cell_type": "code",
   "execution_count": null,
   "metadata": {},
   "outputs": [],
   "source": []
  },
  {
   "cell_type": "code",
   "execution_count": null,
   "metadata": {},
   "outputs": [],
   "source": []
  },
  {
   "cell_type": "code",
   "execution_count": 18,
   "metadata": {},
   "outputs": [],
   "source": [
    "def plot_history(histories):\n",
    "    #histories : list of history objects. nb: history.history dictionary structure\n",
    "    print (\"len(histories):\", len(histories))\n",
    "    if len(histories)==1: \n",
    "        history = histories\n",
    "    else:\n",
    "        #create empty history to copy into\n",
    "        history = {}\n",
    "        for i in histories[0].history.keys():\n",
    "            history[i] = []\n",
    "        #now combine all history[key] lists into one history[key] list.\n",
    "        for hist in histories:\n",
    "            for key in history.keys():\n",
    "                history[key] += hist.history[key]\n",
    "                #print (key, len(hist.history[key]), len(history[key]))\n",
    "\n",
    "    # list all data in history\n",
    "    print(history.keys(), len(history[history.keys()[0]]))\n",
    "    for key in history.keys():\n",
    "        print (key, \":\", history[key][-1])\n",
    "\n",
    "    # summarize history for accuracy\n",
    "    plt.plot(history['acc'])\n",
    "    plt.plot(history['val_acc'])\n",
    "    plt.title('model accuracy')\n",
    "    plt.ylabel('accuracy')\n",
    "    plt.xlabel('epoch')\n",
    "    plt.legend(['train', 'validate'], loc='upper left')\n",
    "    plt.show()\n",
    "    # summarize history for loss\n",
    "    plt.plot(history['loss'])\n",
    "    plt.plot(history['val_loss'])\n",
    "    plt.title('model loss')\n",
    "    plt.ylabel('loss')\n",
    "    plt.xlabel('epoch')\n",
    "    plt.legend(['train', 'validate'], loc='upper left')\n",
    "    plt.show()"
   ]
  },
  {
   "cell_type": "code",
   "execution_count": 19,
   "metadata": {},
   "outputs": [],
   "source": [
    "gen = image.ImageDataGenerator()\n",
    "#recall: (X_train, y_train), (X_test, y_test) = mnist.load_data()\n",
    "batches = gen.flow(X_train, y_train, batch_size=64)\n",
    "test_batches = gen.flow(X_test, y_test, batch_size=64)"
   ]
  },
  {
   "cell_type": "code",
   "execution_count": 20,
   "metadata": {},
   "outputs": [],
   "source": [
    "def norm_input(x): return (x-mean_px)/std_px"
   ]
  },
  {
   "cell_type": "code",
   "execution_count": 21,
   "metadata": {},
   "outputs": [
    {
     "name": "stdout",
     "output_type": "stream",
     "text": [
      "os.getcwd: /home/ubuntu/fastai\n"
     ]
    }
   ],
   "source": [
    "os.chdir(HOMEPATH)\n",
    "print (\"os.getcwd:\", os.getcwd())\n",
    "import vgg16bn"
   ]
  },
  {
   "cell_type": "code",
   "execution_count": 50,
   "metadata": {},
   "outputs": [],
   "source": [
    "def get_model_bn_do():\n",
    "    model = Sequential([\n",
    "        Lambda(norm_input, input_shape=(1,28,28)),\n",
    "\n",
    "        #ConvBlock(2, 64) = 2 sets of layers with Convolution2D.filters=64\n",
    "        ZeroPadding2D((1, 1)),\n",
    "        Convolution2D(64, 3, 3, activation='relu'),\n",
    "        ZeroPadding2D((1, 1)),\n",
    "        Convolution2D(64, 3, 3, activation='relu'),\n",
    "        MaxPooling2D((2, 2), strides=(2, 2)),\n",
    "\n",
    "        #ConvBlock(2, 128) = 2 sets of layers with Convolution2D.filters=64\n",
    "        ZeroPadding2D((1, 1)),\n",
    "        Convolution2D(128, 3, 3, activation='relu'),\n",
    "        ZeroPadding2D((1, 1)),\n",
    "        Convolution2D(128, 3, 3, activation='relu'),\n",
    "        MaxPooling2D((2, 2), strides=(2, 2)),\n",
    "\n",
    "        #ConvBlock(3, 256) = 3 sets of layers with Convolution2D.filters=256\n",
    "        ZeroPadding2D((1, 1)),\n",
    "        Convolution2D(256, 3, 3, activation='relu'),\n",
    "        ZeroPadding2D((1, 1)),\n",
    "        Convolution2D(256, 3, 3, activation='relu'),\n",
    "        ZeroPadding2D((1, 1)),\n",
    "        Convolution2D(256, 3, 3, activation='relu'),\n",
    "        MaxPooling2D((2, 2), strides=(2, 2)),\n",
    "\n",
    "        #ConvBlock(3, 512) = 3 sets of layers with Convolution2D.filters=512\n",
    "        ZeroPadding2D((1, 1)),\n",
    "        Convolution2D(512, 3, 3, activation='relu'),\n",
    "        ZeroPadding2D((1, 1)),\n",
    "        Convolution2D(512, 3, 3, activation='relu'),\n",
    "        ZeroPadding2D((1, 1)),\n",
    "        Convolution2D(512, 3, 3, activation='relu'),\n",
    "        MaxPooling2D((2, 2), strides=(2, 2)),\n",
    "\n",
    "        #NB: for some weird reason, if a second block of ConvBlock(3, 512) is attempted, errors result.\n",
    "        Flatten(),\n",
    "        \n",
    "        #FCBlock\n",
    "        Dense(4096, activation='relu'),\n",
    "        BatchNormalization(),\n",
    "        Dropout(0.5),\n",
    "\n",
    "        #FCBlock\n",
    "        Dense(4096, activation='relu'),\n",
    "        BatchNormalization(),\n",
    "        Dropout(0.5),\n",
    "        \n",
    "        Dense(10, activation='softmax')#last dense layer - 10 categories for 10 digits.\n",
    "\n",
    "        ])\n",
    "    model.compile(Adam(), loss='categorical_crossentropy', metrics=['accuracy'])\n",
    "    return model"
   ]
  },
  {
   "cell_type": "code",
   "execution_count": 51,
   "metadata": {},
   "outputs": [
    {
     "name": "stderr",
     "output_type": "stream",
     "text": [
      "/usr/local/lib/python2.7/dist-packages/keras/layers/core.py:622: UserWarning: `output_shape` argument not specified for layer lambda_15 and cannot be automatically inferred with the Theano backend. Defaulting to output shape `(None, 1, 28, 28)` (same as input shape). If the expected output shape is different, specify it via the `output_shape` argument.\n",
      "  .format(self.name, input_shape))\n"
     ]
    },
    {
     "name": "stdout",
     "output_type": "stream",
     "text": [
      "____________________________________________________________________________________________________\n",
      "Layer (type)                     Output Shape          Param #     Connected to                     \n",
      "====================================================================================================\n",
      "lambda_15 (Lambda)               (None, 1, 28, 28)     0           lambda_input_15[0][0]            \n",
      "____________________________________________________________________________________________________\n",
      "zeropadding2d_112 (ZeroPadding2D (None, 1, 30, 30)     0           lambda_15[0][0]                  \n",
      "____________________________________________________________________________________________________\n",
      "convolution2d_116 (Convolution2D (None, 64, 28, 28)    640         zeropadding2d_112[0][0]          \n",
      "____________________________________________________________________________________________________\n",
      "zeropadding2d_113 (ZeroPadding2D (None, 64, 30, 30)    0           convolution2d_116[0][0]          \n",
      "____________________________________________________________________________________________________\n",
      "convolution2d_117 (Convolution2D (None, 64, 28, 28)    36928       zeropadding2d_113[0][0]          \n",
      "____________________________________________________________________________________________________\n",
      "maxpooling2d_48 (MaxPooling2D)   (None, 64, 14, 14)    0           convolution2d_117[0][0]          \n",
      "____________________________________________________________________________________________________\n",
      "zeropadding2d_114 (ZeroPadding2D (None, 64, 16, 16)    0           maxpooling2d_48[0][0]            \n",
      "____________________________________________________________________________________________________\n",
      "convolution2d_118 (Convolution2D (None, 128, 14, 14)   73856       zeropadding2d_114[0][0]          \n",
      "____________________________________________________________________________________________________\n",
      "zeropadding2d_115 (ZeroPadding2D (None, 128, 16, 16)   0           convolution2d_118[0][0]          \n",
      "____________________________________________________________________________________________________\n",
      "convolution2d_119 (Convolution2D (None, 128, 14, 14)   147584      zeropadding2d_115[0][0]          \n",
      "____________________________________________________________________________________________________\n",
      "maxpooling2d_49 (MaxPooling2D)   (None, 128, 7, 7)     0           convolution2d_119[0][0]          \n",
      "____________________________________________________________________________________________________\n",
      "zeropadding2d_116 (ZeroPadding2D (None, 128, 9, 9)     0           maxpooling2d_49[0][0]            \n",
      "____________________________________________________________________________________________________\n",
      "convolution2d_120 (Convolution2D (None, 256, 7, 7)     295168      zeropadding2d_116[0][0]          \n",
      "____________________________________________________________________________________________________\n",
      "zeropadding2d_117 (ZeroPadding2D (None, 256, 9, 9)     0           convolution2d_120[0][0]          \n",
      "____________________________________________________________________________________________________\n",
      "convolution2d_121 (Convolution2D (None, 256, 7, 7)     590080      zeropadding2d_117[0][0]          \n",
      "____________________________________________________________________________________________________\n",
      "zeropadding2d_118 (ZeroPadding2D (None, 256, 9, 9)     0           convolution2d_121[0][0]          \n",
      "____________________________________________________________________________________________________\n",
      "convolution2d_122 (Convolution2D (None, 256, 7, 7)     590080      zeropadding2d_118[0][0]          \n",
      "____________________________________________________________________________________________________\n",
      "maxpooling2d_50 (MaxPooling2D)   (None, 256, 3, 3)     0           convolution2d_122[0][0]          \n",
      "____________________________________________________________________________________________________\n",
      "zeropadding2d_119 (ZeroPadding2D (None, 256, 5, 5)     0           maxpooling2d_50[0][0]            \n",
      "____________________________________________________________________________________________________\n",
      "convolution2d_123 (Convolution2D (None, 512, 3, 3)     1180160     zeropadding2d_119[0][0]          \n",
      "____________________________________________________________________________________________________\n",
      "zeropadding2d_120 (ZeroPadding2D (None, 512, 5, 5)     0           convolution2d_123[0][0]          \n",
      "____________________________________________________________________________________________________\n",
      "convolution2d_124 (Convolution2D (None, 512, 3, 3)     2359808     zeropadding2d_120[0][0]          \n",
      "____________________________________________________________________________________________________\n",
      "zeropadding2d_121 (ZeroPadding2D (None, 512, 5, 5)     0           convolution2d_124[0][0]          \n",
      "____________________________________________________________________________________________________\n",
      "convolution2d_125 (Convolution2D (None, 512, 3, 3)     2359808     zeropadding2d_121[0][0]          \n",
      "____________________________________________________________________________________________________\n",
      "maxpooling2d_51 (MaxPooling2D)   (None, 512, 1, 1)     0           convolution2d_125[0][0]          \n",
      "____________________________________________________________________________________________________\n",
      "flatten_15 (Flatten)             (None, 512)           0           maxpooling2d_51[0][0]            \n",
      "____________________________________________________________________________________________________\n",
      "dense_6 (Dense)                  (None, 4096)          2101248     flatten_15[0][0]                 \n",
      "____________________________________________________________________________________________________\n",
      "batchnormalization_8 (BatchNorma (None, 4096)          16384       dense_6[0][0]                    \n",
      "____________________________________________________________________________________________________\n",
      "dropout_5 (Dropout)              (None, 4096)          0           batchnormalization_8[0][0]       \n",
      "____________________________________________________________________________________________________\n",
      "dense_7 (Dense)                  (None, 4096)          16781312    dropout_5[0][0]                  \n",
      "____________________________________________________________________________________________________\n",
      "batchnormalization_9 (BatchNorma (None, 4096)          16384       dense_7[0][0]                    \n",
      "____________________________________________________________________________________________________\n",
      "dropout_6 (Dropout)              (None, 4096)          0           batchnormalization_9[0][0]       \n",
      "____________________________________________________________________________________________________\n",
      "dense_8 (Dense)                  (None, 10)            40970       dropout_6[0][0]                  \n",
      "====================================================================================================\n",
      "Total params: 26,590,410\n",
      "Trainable params: 26,574,026\n",
      "Non-trainable params: 16,384\n",
      "____________________________________________________________________________________________________\n"
     ]
    }
   ],
   "source": [
    "from keras import backend as K\n",
    "K.set_image_dim_ordering('th')\n",
    "\n",
    "get_model_bn_do().summary()"
   ]
  },
  {
   "cell_type": "code",
   "execution_count": null,
   "metadata": {},
   "outputs": [],
   "source": [
    "#Batchnormalisation : uses batches and test_batches created from image.ImageDataGenerator.flow(blah...)\n",
    "\n",
    "def get_model_bn_do_suspended():\n",
    "    model = Sequential([\n",
    "        Lambda(norm_input, input_shape=(1,28,28)),\n",
    "        Convolution2D(32,3,3, activation='relu'),\n",
    "        BatchNormalization(axis=1),\n",
    "        Convolution2D(32,3,3, activation='relu'),\n",
    "        MaxPooling2D(),\n",
    "        BatchNormalization(axis=1),\n",
    "        Convolution2D(64,3,3, activation='relu'),\n",
    "        BatchNormalization(axis=1),\n",
    "        Convolution2D(64,3,3, activation='relu'),\n",
    "        MaxPooling2D(),\n",
    "        Flatten(),\n",
    "        BatchNormalization(),\n",
    "        Dropout(0.5),#added dropout here since it appears overtraining & validation not converging.\n",
    "        Dense(512, activation='relu'),\n",
    "        BatchNormalization(),\n",
    "        Dropout(0.5),\n",
    "        Dense(10, activation='softmax')\n",
    "        ])\n",
    "    model.compile(Adam(), loss='categorical_crossentropy', metrics=['accuracy'])\n",
    "    return model"
   ]
  },
  {
   "cell_type": "code",
   "execution_count": 52,
   "metadata": {},
   "outputs": [],
   "source": [
    "def fit_model():\n",
    "    model = get_model_bn_do()\n",
    "    model.summary()\n",
    "    print (\"model.optimizer.lr:\", model.optimizer.lr)\n",
    "    history1 = model.fit_generator(batches, batches.n, nb_epoch=1, verbose=0,\n",
    "                        validation_data=test_batches, nb_val_samples=test_batches.n)\n",
    "    print(\"model.fit_generator(..) completed with model.optimizer.lr:\", model.optimizer.lr)\n",
    "    model.optimizer.lr=0.1\n",
    "    history2 = model.fit_generator(batches, batches.n, nb_epoch=4, verbose=0,\n",
    "                        validation_data=test_batches, nb_val_samples=test_batches.n)\n",
    "    print(\"model.fit_generator(..) completed with model.optimizer.lr:=0.1\", model.optimizer.lr)\n",
    "    plot_history([history1, history2])\n",
    "    model.optimizer.lr=0.01\n",
    "    history3 = model.fit_generator(batches, batches.n, nb_epoch=12, verbose=0,\n",
    "                        validation_data=test_batches, nb_val_samples=test_batches.n)\n",
    "    print(\"model.fit_generator(..) completed with model.optimizer.lr:0.01\", model.optimizer.lr)\n",
    "    plot_history([history1, history2, history3])\n",
    "    model.optimizer.lr=0.001\n",
    "    history4 = model.fit_generator(batches, batches.n, nb_epoch=18, verbose=0,\n",
    "                        validation_data=test_batches, nb_val_samples=test_batches.n)\n",
    "    print(\"model.fit_generator(..) completed with model.optimizer.lr:0.001\", model.optimizer.lr)\n",
    "    plot_history([history1, history2, history3, history4])\n",
    "    model.optimizer.lr=0.0001\n",
    "    history5 = model.fit_generator(batches, batches.n, nb_epoch=27, verbose=0,\n",
    "                        validation_data=test_batches, nb_val_samples=test_batches.n)\n",
    "    print(\"model.fit_generator(..) completed with model.optimizer.lr:0.0001\", model.optimizer.lr)\n",
    "    plot_history([history1, history2, history3, history4, history5])\n",
    "    return model\n",
    "#todo: fix output 'model.optimizer.lr' printing object type not printing value"
   ]
  },
  {
   "cell_type": "code",
   "execution_count": null,
   "metadata": {},
   "outputs": [
    {
     "name": "stderr",
     "output_type": "stream",
     "text": [
      "/usr/local/lib/python2.7/dist-packages/keras/layers/core.py:622: UserWarning: `output_shape` argument not specified for layer lambda_16 and cannot be automatically inferred with the Theano backend. Defaulting to output shape `(None, 1, 28, 28)` (same as input shape). If the expected output shape is different, specify it via the `output_shape` argument.\n",
      "  .format(self.name, input_shape))\n"
     ]
    },
    {
     "name": "stdout",
     "output_type": "stream",
     "text": [
      "____________________________________________________________________________________________________\n",
      "Layer (type)                     Output Shape          Param #     Connected to                     \n",
      "====================================================================================================\n",
      "lambda_16 (Lambda)               (None, 1, 28, 28)     0           lambda_input_16[0][0]            \n",
      "____________________________________________________________________________________________________\n",
      "zeropadding2d_122 (ZeroPadding2D (None, 1, 30, 30)     0           lambda_16[0][0]                  \n",
      "____________________________________________________________________________________________________\n",
      "convolution2d_126 (Convolution2D (None, 64, 28, 28)    640         zeropadding2d_122[0][0]          \n",
      "____________________________________________________________________________________________________\n",
      "zeropadding2d_123 (ZeroPadding2D (None, 64, 30, 30)    0           convolution2d_126[0][0]          \n",
      "____________________________________________________________________________________________________\n",
      "convolution2d_127 (Convolution2D (None, 64, 28, 28)    36928       zeropadding2d_123[0][0]          \n",
      "____________________________________________________________________________________________________\n",
      "maxpooling2d_52 (MaxPooling2D)   (None, 64, 14, 14)    0           convolution2d_127[0][0]          \n",
      "____________________________________________________________________________________________________\n",
      "zeropadding2d_124 (ZeroPadding2D (None, 64, 16, 16)    0           maxpooling2d_52[0][0]            \n",
      "____________________________________________________________________________________________________\n",
      "convolution2d_128 (Convolution2D (None, 128, 14, 14)   73856       zeropadding2d_124[0][0]          \n",
      "____________________________________________________________________________________________________\n",
      "zeropadding2d_125 (ZeroPadding2D (None, 128, 16, 16)   0           convolution2d_128[0][0]          \n",
      "____________________________________________________________________________________________________\n",
      "convolution2d_129 (Convolution2D (None, 128, 14, 14)   147584      zeropadding2d_125[0][0]          \n",
      "____________________________________________________________________________________________________\n",
      "maxpooling2d_53 (MaxPooling2D)   (None, 128, 7, 7)     0           convolution2d_129[0][0]          \n",
      "____________________________________________________________________________________________________\n",
      "zeropadding2d_126 (ZeroPadding2D (None, 128, 9, 9)     0           maxpooling2d_53[0][0]            \n",
      "____________________________________________________________________________________________________\n",
      "convolution2d_130 (Convolution2D (None, 256, 7, 7)     295168      zeropadding2d_126[0][0]          \n",
      "____________________________________________________________________________________________________\n",
      "zeropadding2d_127 (ZeroPadding2D (None, 256, 9, 9)     0           convolution2d_130[0][0]          \n",
      "____________________________________________________________________________________________________\n",
      "convolution2d_131 (Convolution2D (None, 256, 7, 7)     590080      zeropadding2d_127[0][0]          \n",
      "____________________________________________________________________________________________________\n",
      "zeropadding2d_128 (ZeroPadding2D (None, 256, 9, 9)     0           convolution2d_131[0][0]          \n",
      "____________________________________________________________________________________________________\n",
      "convolution2d_132 (Convolution2D (None, 256, 7, 7)     590080      zeropadding2d_128[0][0]          \n",
      "____________________________________________________________________________________________________\n",
      "maxpooling2d_54 (MaxPooling2D)   (None, 256, 3, 3)     0           convolution2d_132[0][0]          \n",
      "____________________________________________________________________________________________________\n",
      "zeropadding2d_129 (ZeroPadding2D (None, 256, 5, 5)     0           maxpooling2d_54[0][0]            \n",
      "____________________________________________________________________________________________________\n",
      "convolution2d_133 (Convolution2D (None, 512, 3, 3)     1180160     zeropadding2d_129[0][0]          \n",
      "____________________________________________________________________________________________________\n",
      "zeropadding2d_130 (ZeroPadding2D (None, 512, 5, 5)     0           convolution2d_133[0][0]          \n",
      "____________________________________________________________________________________________________\n",
      "convolution2d_134 (Convolution2D (None, 512, 3, 3)     2359808     zeropadding2d_130[0][0]          \n",
      "____________________________________________________________________________________________________\n",
      "zeropadding2d_131 (ZeroPadding2D (None, 512, 5, 5)     0           convolution2d_134[0][0]          \n",
      "____________________________________________________________________________________________________\n",
      "convolution2d_135 (Convolution2D (None, 512, 3, 3)     2359808     zeropadding2d_131[0][0]          \n",
      "____________________________________________________________________________________________________\n",
      "maxpooling2d_55 (MaxPooling2D)   (None, 512, 1, 1)     0           convolution2d_135[0][0]          \n",
      "____________________________________________________________________________________________________\n",
      "flatten_16 (Flatten)             (None, 512)           0           maxpooling2d_55[0][0]            \n",
      "____________________________________________________________________________________________________\n",
      "dense_9 (Dense)                  (None, 4096)          2101248     flatten_16[0][0]                 \n",
      "____________________________________________________________________________________________________\n",
      "batchnormalization_10 (BatchNorm (None, 4096)          16384       dense_9[0][0]                    \n",
      "____________________________________________________________________________________________________\n",
      "dropout_7 (Dropout)              (None, 4096)          0           batchnormalization_10[0][0]      \n",
      "____________________________________________________________________________________________________\n",
      "dense_10 (Dense)                 (None, 4096)          16781312    dropout_7[0][0]                  \n",
      "____________________________________________________________________________________________________\n",
      "batchnormalization_11 (BatchNorm (None, 4096)          16384       dense_10[0][0]                   \n",
      "____________________________________________________________________________________________________\n",
      "dropout_8 (Dropout)              (None, 4096)          0           batchnormalization_11[0][0]      \n",
      "____________________________________________________________________________________________________\n",
      "dense_11 (Dense)                 (None, 10)            40970       dropout_8[0][0]                  \n",
      "====================================================================================================\n",
      "Total params: 26,590,410\n",
      "Trainable params: 26,574,026\n",
      "Non-trainable params: 16,384\n",
      "____________________________________________________________________________________________________\n",
      "model.optimizer.lr: <CudaNdarrayType(float32, scalar)>\n",
      "model.fit_generator(..) completed with model.optimizer.lr: <CudaNdarrayType(float32, scalar)>\n",
      "model.fit_generator(..) completed with model.optimizer.lr: 0.1\n",
      "len(histories): 2\n",
      "['acc', 'loss', 'val_acc', 'val_loss'] 5\n",
      "acc : 0.978253392947\n",
      "loss : 0.0980586559836\n",
      "val_acc : 0.957619047846\n",
      "val_loss : 0.239568942987\n"
     ]
    },
    {
     "data": {
      "image/png": "[encoded data removed]",
      "text/plain": [
       "<matplotlib.figure.Figure at 0x7f171bbf1650>"
      ]
     },
     "metadata": {},
     "output_type": "display_data"
    },
    {
     "data": {
      "image/png": "[encoded data removed]",
      "text/plain": [
       "<matplotlib.figure.Figure at 0x7f16dcce6790>"
      ]
     },
     "metadata": {},
     "output_type": "display_data"
    },
    {
     "name": "stdout",
     "output_type": "stream",
     "text": [
      "model.fit_generator(..) completed with model.optimizer.lr: 0.01\n",
      "len(histories): 3\n",
      "['acc', 'loss', 'val_acc', 'val_loss'] 17\n",
      "acc : 0.993677081406\n",
      "loss : 0.0305930827976\n",
      "val_acc : 0.982857142971\n",
      "val_loss : 0.127194448885\n"
     ]
    },
    {
     "data": {
      "image/png": "[encoded data removed]",
      "text/plain": [
       "<matplotlib.figure.Figure at 0x7f16dc3f3510>"
      ]
     },
     "metadata": {},
     "output_type": "display_data"
    },
    {
     "data": {
      "image/png": "[encoded data removed]",
      "text/plain": [
       "<matplotlib.figure.Figure at 0x7f16dc393590>"
      ]
     },
     "metadata": {},
     "output_type": "display_data"
    },
    {
     "name": "stdout",
     "output_type": "stream",
     "text": [
      "model.fit_generator(..) completed with model.optimizer.lr: 0.001\n",
      "len(histories): 4\n",
      "['acc', 'loss', 'val_acc', 'val_loss'] 35\n",
      "acc : 0.997936453345\n",
      "loss : 0.0105594580241\n",
      "val_acc : 0.988333333333\n",
      "val_loss : 0.106461185165\n"
     ]
    },
    {
     "data": {
      "image/png": "[encoded data removed]",
      "text/plain": [
       "<matplotlib.figure.Figure at 0x7f16dc393a50>"
      ]
     },
     "metadata": {},
     "output_type": "display_data"
    },
    {
     "data": {
      "image/png": "[encoded data removed]",
      "text/plain": [
       "<matplotlib.figure.Figure at 0x7f16e0b6fd10>"
      ]
     },
     "metadata": {},
     "output_type": "display_data"
    },
    {
     "name": "stdout",
     "output_type": "stream",
     "text": [
      "model.fit_generator(..) completed with model.optimizer.lr: 0.0001\n",
      "len(histories): 5\n",
      "['acc', 'loss', 'val_acc', 'val_loss'] 62\n",
      "acc : 0.997962909072\n",
      "loss : 0.0123515946644\n",
      "val_acc : 0.992142857143\n",
      "val_loss : 0.0795871829959\n"
     ]
    },
    {
     "data": {
      "image/png": "[encoded data removed]",
      "text/plain": [
       "<matplotlib.figure.Figure at 0x7f16de86ea50>"
      ]
     },
     "metadata": {},
     "output_type": "display_data"
    },
    {
     "data": {
      "image/png": "[encoded data removed]",
      "text/plain": [
       "<matplotlib.figure.Figure at 0x7f16e069d210>"
      ]
     },
     "metadata": {},
     "output_type": "display_data"
    },
    {
     "name": "stderr",
     "output_type": "stream",
     "text": [
      "/usr/local/lib/python2.7/dist-packages/keras/layers/core.py:622: UserWarning: `output_shape` argument not specified for layer lambda_17 and cannot be automatically inferred with the Theano backend. Defaulting to output shape `(None, 1, 28, 28)` (same as input shape). If the expected output shape is different, specify it via the `output_shape` argument.\n",
      "  .format(self.name, input_shape))\n"
     ]
    },
    {
     "name": "stdout",
     "output_type": "stream",
     "text": [
      "____________________________________________________________________________________________________\n",
      "Layer (type)                     Output Shape          Param #     Connected to                     \n",
      "====================================================================================================\n",
      "lambda_17 (Lambda)               (None, 1, 28, 28)     0           lambda_input_17[0][0]            \n",
      "____________________________________________________________________________________________________\n",
      "zeropadding2d_132 (ZeroPadding2D (None, 1, 30, 30)     0           lambda_17[0][0]                  \n",
      "____________________________________________________________________________________________________\n",
      "convolution2d_136 (Convolution2D (None, 64, 28, 28)    640         zeropadding2d_132[0][0]          \n",
      "____________________________________________________________________________________________________\n",
      "zeropadding2d_133 (ZeroPadding2D (None, 64, 30, 30)    0           convolution2d_136[0][0]          \n",
      "____________________________________________________________________________________________________\n",
      "convolution2d_137 (Convolution2D (None, 64, 28, 28)    36928       zeropadding2d_133[0][0]          \n",
      "____________________________________________________________________________________________________\n",
      "maxpooling2d_56 (MaxPooling2D)   (None, 64, 14, 14)    0           convolution2d_137[0][0]          \n",
      "____________________________________________________________________________________________________\n",
      "zeropadding2d_134 (ZeroPadding2D (None, 64, 16, 16)    0           maxpooling2d_56[0][0]            \n",
      "____________________________________________________________________________________________________\n",
      "convolution2d_138 (Convolution2D (None, 128, 14, 14)   73856       zeropadding2d_134[0][0]          \n",
      "____________________________________________________________________________________________________\n",
      "zeropadding2d_135 (ZeroPadding2D (None, 128, 16, 16)   0           convolution2d_138[0][0]          \n",
      "____________________________________________________________________________________________________\n",
      "convolution2d_139 (Convolution2D (None, 128, 14, 14)   147584      zeropadding2d_135[0][0]          \n",
      "____________________________________________________________________________________________________\n",
      "maxpooling2d_57 (MaxPooling2D)   (None, 128, 7, 7)     0           convolution2d_139[0][0]          \n",
      "____________________________________________________________________________________________________\n",
      "zeropadding2d_136 (ZeroPadding2D (None, 128, 9, 9)     0           maxpooling2d_57[0][0]            \n",
      "____________________________________________________________________________________________________\n",
      "convolution2d_140 (Convolution2D (None, 256, 7, 7)     295168      zeropadding2d_136[0][0]          \n",
      "____________________________________________________________________________________________________\n",
      "zeropadding2d_137 (ZeroPadding2D (None, 256, 9, 9)     0           convolution2d_140[0][0]          \n",
      "____________________________________________________________________________________________________\n",
      "convolution2d_141 (Convolution2D (None, 256, 7, 7)     590080      zeropadding2d_137[0][0]          \n",
      "____________________________________________________________________________________________________\n",
      "zeropadding2d_138 (ZeroPadding2D (None, 256, 9, 9)     0           convolution2d_141[0][0]          \n",
      "____________________________________________________________________________________________________\n",
      "convolution2d_142 (Convolution2D (None, 256, 7, 7)     590080      zeropadding2d_138[0][0]          \n",
      "____________________________________________________________________________________________________\n",
      "maxpooling2d_58 (MaxPooling2D)   (None, 256, 3, 3)     0           convolution2d_142[0][0]          \n",
      "____________________________________________________________________________________________________\n",
      "zeropadding2d_139 (ZeroPadding2D (None, 256, 5, 5)     0           maxpooling2d_58[0][0]            \n",
      "____________________________________________________________________________________________________\n",
      "convolution2d_143 (Convolution2D (None, 512, 3, 3)     1180160     zeropadding2d_139[0][0]          \n",
      "____________________________________________________________________________________________________\n",
      "zeropadding2d_140 (ZeroPadding2D (None, 512, 5, 5)     0           convolution2d_143[0][0]          \n",
      "____________________________________________________________________________________________________\n",
      "convolution2d_144 (Convolution2D (None, 512, 3, 3)     2359808     zeropadding2d_140[0][0]          \n",
      "____________________________________________________________________________________________________\n",
      "zeropadding2d_141 (ZeroPadding2D (None, 512, 5, 5)     0           convolution2d_144[0][0]          \n",
      "____________________________________________________________________________________________________\n",
      "convolution2d_145 (Convolution2D (None, 512, 3, 3)     2359808     zeropadding2d_141[0][0]          \n",
      "____________________________________________________________________________________________________\n",
      "maxpooling2d_59 (MaxPooling2D)   (None, 512, 1, 1)     0           convolution2d_145[0][0]          \n",
      "____________________________________________________________________________________________________\n",
      "flatten_17 (Flatten)             (None, 512)           0           maxpooling2d_59[0][0]            \n",
      "____________________________________________________________________________________________________\n",
      "dense_12 (Dense)                 (None, 4096)          2101248     flatten_17[0][0]                 \n",
      "____________________________________________________________________________________________________\n",
      "batchnormalization_12 (BatchNorm (None, 4096)          16384       dense_12[0][0]                   \n",
      "____________________________________________________________________________________________________\n",
      "dropout_9 (Dropout)              (None, 4096)          0           batchnormalization_12[0][0]      \n",
      "____________________________________________________________________________________________________\n",
      "dense_13 (Dense)                 (None, 4096)          16781312    dropout_9[0][0]                  \n",
      "____________________________________________________________________________________________________\n",
      "batchnormalization_13 (BatchNorm (None, 4096)          16384       dense_13[0][0]                   \n",
      "____________________________________________________________________________________________________\n",
      "dropout_10 (Dropout)             (None, 4096)          0           batchnormalization_13[0][0]      \n",
      "____________________________________________________________________________________________________\n",
      "dense_14 (Dense)                 (None, 10)            40970       dropout_10[0][0]                 \n",
      "====================================================================================================\n",
      "Total params: 26,590,410\n",
      "Trainable params: 26,574,026\n",
      "Non-trainable params: 16,384\n",
      "____________________________________________________________________________________________________\n",
      "model.optimizer.lr: <CudaNdarrayType(float32, scalar)>\n",
      "model.fit_generator(..) completed with model.optimizer.lr: <CudaNdarrayType(float32, scalar)>\n",
      "model.fit_generator(..) completed with model.optimizer.lr: 0.1\n",
      "len(histories): 2\n",
      "['acc', 'loss', 'val_acc', 'val_loss'] 5\n",
      "acc : 0.980078838066\n",
      "loss : 0.0903328044577\n",
      "val_acc : 0.972619047506\n",
      "val_loss : 0.126745894755\n"
     ]
    },
    {
     "data": {
      "image/png": "[encoded data removed]",
      "text/plain": [
       "<matplotlib.figure.Figure at 0x7f16dc1d0450>"
      ]
     },
     "metadata": {},
     "output_type": "display_data"
    },
    {
     "data": {
      "image/png": "[encoded data removed]",
      "text/plain": [
       "<matplotlib.figure.Figure at 0x7f16cbe42490>"
      ]
     },
     "metadata": {},
     "output_type": "display_data"
    },
    {
     "name": "stdout",
     "output_type": "stream",
     "text": [
      "model.fit_generator(..) completed with model.optimizer.lr: 0.01\n",
      "len(histories): 3\n",
      "['acc', 'loss', 'val_acc', 'val_loss'] 17\n",
      "acc : 0.993941638669\n",
      "loss : 0.0300066995141\n",
      "val_acc : 0.988809524037\n",
      "val_loss : 0.106686315198\n"
     ]
    },
    {
     "data": {
      "image/png": "[encoded data removed]",
      "text/plain": [
       "<matplotlib.figure.Figure at 0x7f16cbe18810>"
      ]
     },
     "metadata": {},
     "output_type": "display_data"
    },
    {
     "data": {
      "image/png": "[encoded data removed]",
      "text/plain": [
       "<matplotlib.figure.Figure at 0x7f16cbcc48d0>"
      ]
     },
     "metadata": {},
     "output_type": "display_data"
    }
   ],
   "source": [
    "models = [fit_model() for i in range(6)]"
   ]
  },
  {
   "cell_type": "code",
   "execution_count": null,
   "metadata": {},
   "outputs": [],
   "source": [
    "model_path = DATAPATH + 'models/'"
   ]
  },
  {
   "cell_type": "code",
   "execution_count": null,
   "metadata": {},
   "outputs": [],
   "source": [
    "print (\"models:\", type(models), len(models))"
   ]
  },
  {
   "cell_type": "code",
   "execution_count": null,
   "metadata": {},
   "outputs": [],
   "source": [
    "for i,m in enumerate(models):\n",
    "    m.save_weights(model_path+'cnn-mnist23-'+str(i)+'_vgg16bn_simulation.h5')#nb: why .pkl instead of .h5? .pkl usually for pickle."
   ]
  },
  {
   "cell_type": "code",
   "execution_count": null,
   "metadata": {},
   "outputs": [],
   "source": [
    "evals = np.array([m.evaluate(X_test, y_test, batch_size=256) for m in models])"
   ]
  },
  {
   "cell_type": "code",
   "execution_count": null,
   "metadata": {},
   "outputs": [],
   "source": [
    "evals_mean = evals.mean(axis=0)"
   ]
  },
  {
   "cell_type": "code",
   "execution_count": null,
   "metadata": {},
   "outputs": [],
   "source": [
    "print (\"evals_mean:\", evals_mean.shape)"
   ]
  },
  {
   "cell_type": "code",
   "execution_count": null,
   "metadata": {},
   "outputs": [],
   "source": [
    "print (evals_mean)"
   ]
  },
  {
   "cell_type": "code",
   "execution_count": null,
   "metadata": {},
   "outputs": [],
   "source": [
    "all_preds = np.stack([m.predict(X_test, batch_size=256) for m in models])"
   ]
  },
  {
   "cell_type": "code",
   "execution_count": null,
   "metadata": {},
   "outputs": [],
   "source": [
    "all_preds.shape"
   ]
  },
  {
   "cell_type": "code",
   "execution_count": null,
   "metadata": {},
   "outputs": [],
   "source": [
    "avg_preds = all_preds.mean(axis=0)"
   ]
  },
  {
   "cell_type": "code",
   "execution_count": null,
   "metadata": {},
   "outputs": [],
   "source": [
    "avg_preds.shape"
   ]
  },
  {
   "cell_type": "code",
   "execution_count": null,
   "metadata": {},
   "outputs": [],
   "source": [
    "keras.metrics.categorical_accuracy(y_test, avg_preds).eval()"
   ]
  },
  {
   "cell_type": "code",
   "execution_count": null,
   "metadata": {},
   "outputs": [],
   "source": [
    "#start loading test data\n",
    "#Each pixel column in the training set has a name like pixelx, where x is an integer between 0 and 783, inclusive.\n",
    "colNames = []\n",
    "colDtypes = {}\n",
    "\n",
    "for i in range(784):\n",
    "    colNames.append(\"pixel\"+str(i))\n",
    "    colDtypes[\"pixel\"+str(i)] = np.int64\n",
    "print (colNames[0:2] + colNames[-2:])\n",
    "colNames = colNames\n",
    "print (colNames[0:2] + colNames[-2:])\n"
   ]
  },
  {
   "cell_type": "code",
   "execution_count": null,
   "metadata": {},
   "outputs": [],
   "source": [
    "df_test = pd.read_csv(DATAPATH+'test.csv', names=colNames, dtype=colDtypes, header=0)"
   ]
  },
  {
   "cell_type": "code",
   "execution_count": null,
   "metadata": {},
   "outputs": [],
   "source": [
    "df_test.shape"
   ]
  },
  {
   "cell_type": "code",
   "execution_count": null,
   "metadata": {},
   "outputs": [],
   "source": [
    "test_pixelData = df_test.as_matrix()\n",
    "print (\"test_pixelData.shape:\", test_pixelData.shape, test_pixelData.shape[0])\n"
   ]
  },
  {
   "cell_type": "code",
   "execution_count": null,
   "metadata": {},
   "outputs": [],
   "source": [
    "X_test = test_pixelData.reshape((test_pixelData.shape[0], 28, 28))\n",
    "print (\"X_test.shape:\", X_test.shape)"
   ]
  },
  {
   "cell_type": "code",
   "execution_count": null,
   "metadata": {},
   "outputs": [],
   "source": [
    "if len(X_test.shape)==3:\n",
    "    print(\"expand shape\")\n",
    "    X_test = np.expand_dims(X_test,1)\n",
    "else:\n",
    "        print(\"expand shape already done, don't do again.\")\n",
    "\n",
    "print (\"type(X_test):\", type(X_test), X_test.shape)\n"
   ]
  },
  {
   "cell_type": "code",
   "execution_count": null,
   "metadata": {},
   "outputs": [],
   "source": [
    "all_preds = np.stack([m.predict(X_test, batch_size=256) for m in models])"
   ]
  },
  {
   "cell_type": "code",
   "execution_count": null,
   "metadata": {},
   "outputs": [],
   "source": [
    "all_preds.shape"
   ]
  },
  {
   "cell_type": "code",
   "execution_count": null,
   "metadata": {},
   "outputs": [],
   "source": [
    "avg_preds = all_preds.mean(axis=0)"
   ]
  },
  {
   "cell_type": "code",
   "execution_count": null,
   "metadata": {},
   "outputs": [],
   "source": [
    "avg_preds.shape"
   ]
  },
  {
   "cell_type": "code",
   "execution_count": null,
   "metadata": {},
   "outputs": [],
   "source": [
    "print(avg_preds[0])\n",
    "print(type(avg_preds[0]))\n",
    "print(type(list(avg_preds[0])))\n"
   ]
  },
  {
   "cell_type": "code",
   "execution_count": null,
   "metadata": {},
   "outputs": [],
   "source": [
    "category = []\n",
    "for i in range(avg_preds.shape[0]):\n",
    "    category.append(np.argmax(avg_preds[i]))\n",
    "    #print(i, category, avg_preds[i])\n",
    "    #break\n",
    "type(category), len(category), category[0:10]"
   ]
  },
  {
   "cell_type": "code",
   "execution_count": null,
   "metadata": {},
   "outputs": [],
   "source": [
    "imageids = list(range(1, avg_preds.shape[0]+1))\n",
    "print (type(imageids), len(imageids), imageids[0:5], imageids[-5:])"
   ]
  },
  {
   "cell_type": "code",
   "execution_count": null,
   "metadata": {},
   "outputs": [],
   "source": [
    "#create dataframe, write to csv\n",
    "#dataframe labels = ImageId,Label\n",
    "#df = pd.read_csv(DATAPATH+'train.csv', names=colNames, dtype=colDtypes, header=1)\n",
    "\n",
    "\n",
    "df = pd.DataFrame({'ImageId': imageids, 'Label': category})#, index=index, columns=['ImageId','Label'])\n",
    "print (df.shape)\n",
    "print (df.head())\n",
    "print (df.tail())"
   ]
  },
  {
   "cell_type": "code",
   "execution_count": null,
   "metadata": {},
   "outputs": [],
   "source": [
    "df.to_csv(DATAPATH+'submit_2.csv', index=False)"
   ]
  },
  {
   "cell_type": "code",
   "execution_count": null,
   "metadata": {},
   "outputs": [],
   "source": []
  },
  {
   "cell_type": "code",
   "execution_count": null,
   "metadata": {},
   "outputs": [],
   "source": []
  }
 ],
 "metadata": {
  "kernelspec": {
   "display_name": "Python 2",
   "language": "python",
   "name": "python2"
  },
  "language_info": {
   "codemirror_mode": {
    "name": "ipython",
    "version": 2
   },
   "file_extension": ".py",
   "mimetype": "text/x-python",
   "name": "python",
   "nbconvert_exporter": "python",
   "pygments_lexer": "ipython2",
   "version": "2.7.12"
  }
 },
 "nbformat": 4,
 "nbformat_minor": 2
}
