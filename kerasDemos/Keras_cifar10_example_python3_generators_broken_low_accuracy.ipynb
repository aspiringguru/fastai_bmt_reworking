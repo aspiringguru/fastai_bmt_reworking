{
 "cells": [
  {
   "cell_type": "code",
   "execution_count": 1,
   "metadata": {},
   "outputs": [],
   "source": [
    "#https://keras.io/preprocessing/image/\n",
    "#"
   ]
  },
  {
   "cell_type": "code",
   "execution_count": 2,
   "metadata": {},
   "outputs": [],
   "source": [
    "HOMEPATH = \"/home/ubuntu/fastai/\"\n",
    "epochs = 5\n",
    "batch_size = 64"
   ]
  },
  {
   "cell_type": "code",
   "execution_count": 3,
   "metadata": {},
   "outputs": [
    {
     "name": "stderr",
     "output_type": "stream",
     "text": [
      "Using Theano backend.\n",
      "WARNING (theano.sandbox.cuda): The cuda backend is deprecated and will be removed in the next release (v0.10).  Please switch to the gpuarray backend. You can get more information about how to switch at this URL:\n",
      " https://github.com/Theano/Theano/wiki/Converting-to-the-new-gpu-back-end%28gpuarray%29\n",
      "\n",
      "Using gpu device 0: Tesla K80 (CNMeM is disabled, cuDNN 5110)\n"
     ]
    },
    {
     "name": "stdout",
     "output_type": "stream",
     "text": [
      "current working directory: /home/ubuntu/fastai\n"
     ]
    }
   ],
   "source": [
    "import keras\n",
    "from keras import backend as K\n",
    "from keras.datasets import cifar10\n",
    "import numpy as np\n",
    "from keras import utils as np_utils\n",
    "from keras.preprocessing.image import ImageDataGenerator\n",
    "from keras.optimizers import RMSprop\n",
    "from keras.models import Sequential\n",
    "from keras.layers import Dense, Dropout, Activation, Flatten\n",
    "from keras.layers import Conv2D, MaxPooling2D\n",
    "\n",
    "from sklearn.preprocessing import OneHotEncoder\n",
    "\n",
    "import matplotlib.pyplot as plt\n",
    "\n",
    "import os\n",
    "os.chdir(HOMEPATH)\n",
    "print (\"current working directory:\", os.getcwd())\n",
    "#set cwd to load utilities\n",
    "from vgg16 import Vgg16\n",
    "\n",
    "#Instantiate plotting tool\n",
    "#In Jupyter notebooks, you will need to run this command before doing any plotting\n",
    "%matplotlib inline"
   ]
  },
  {
   "cell_type": "code",
   "execution_count": 4,
   "metadata": {},
   "outputs": [
    {
     "name": "stdout",
     "output_type": "stream",
     "text": [
      "2.0.8\n"
     ]
    }
   ],
   "source": [
    "print (keras.__version__)"
   ]
  },
  {
   "cell_type": "code",
   "execution_count": 5,
   "metadata": {},
   "outputs": [],
   "source": [
    "(x_train, y_train), (x_test, y_test) = cifar10.load_data()"
   ]
  },
  {
   "cell_type": "code",
   "execution_count": 6,
   "metadata": {},
   "outputs": [
    {
     "name": "stdout",
     "output_type": "stream",
     "text": [
      "x_train: <class 'numpy.ndarray'> (50000, 3, 32, 32)\n",
      "y_train: <class 'numpy.ndarray'> (50000, 1) [0 1 2 3 4 5 6 7 8 9]\n",
      "x_test: <class 'numpy.ndarray'> (10000, 3, 32, 32)\n",
      "y_test: <class 'numpy.ndarray'> (10000, 1) [0 1 2 3 4 5 6 7 8 9]\n"
     ]
    }
   ],
   "source": [
    "print (\"x_train:\", type(x_train), x_train.shape)\n",
    "print (\"y_train:\", type(y_train), y_train.shape, np.unique(y_train))\n",
    "print (\"x_test:\", type(x_test), x_test.shape)\n",
    "print (\"y_test:\", type(y_test), y_test.shape, np.unique(y_test))"
   ]
  },
  {
   "cell_type": "code",
   "execution_count": 7,
   "metadata": {},
   "outputs": [
    {
     "name": "stdout",
     "output_type": "stream",
     "text": [
      "num_classes: 10\n"
     ]
    }
   ],
   "source": [
    "num_classes = len(np.unique(y_train))\n",
    "print (\"num_classes:\", num_classes)"
   ]
  },
  {
   "cell_type": "code",
   "execution_count": 8,
   "metadata": {
    "scrolled": true
   },
   "outputs": [
    {
     "name": "stdout",
     "output_type": "stream",
     "text": [
      "[  0   1   2   3   4   5   6   7   8   9  10  11  12  13  14  15  16  17\n",
      "  18  19  20  21  22  23  24  25  26  27  28  29  30  31  32  33  34  35\n",
      "  36  37  38  39  40  41  42  43  44  45  46  47  48  49  50  51  52  53\n",
      "  54  55  56  57  58  59  60  61  62  63  64  65  66  67  68  69  70  71\n",
      "  72  73  74  75  76  77  78  79  80  81  82  83  84  85  86  87  88  89\n",
      "  90  91  92  93  94  95  96  97  98  99 100 101 102 103 104 105 106 107\n",
      " 108 109 110 111 112 113 114 115 116 117 118 119 120 121 122 123 124 125\n",
      " 126 127 128 129 130 131 132 133 134 135 136 137 138 139 140 141 142 143\n",
      " 144 145 146 147 148 149 150 151 152 153 154 155 156 157 158 159 160 161\n",
      " 162 163 164 165 166 167 168 169 170 171 172 173 174 175 176 177 178 179\n",
      " 180 181 182 183 184 185 186 187 188 189 190 191 192 193 194 195 196 197\n",
      " 198 199 200 201 202 203 204 205 206 207 208 209 210 211 212 213 214 215\n",
      " 216 217 218 219 220 221 222 223 224 225 226 227 228 229 230 231 232 233\n",
      " 234 235 236 237 238 239 240 241 242 243 244 245 246 247 248 249 250 251\n",
      " 252 253 254 255]\n"
     ]
    }
   ],
   "source": [
    "print (np.unique(x_train))"
   ]
  },
  {
   "cell_type": "code",
   "execution_count": 9,
   "metadata": {},
   "outputs": [
    {
     "name": "stdout",
     "output_type": "stream",
     "text": [
      "x_test: len: 256 , max: 255 ,1st 10 unique values: [0 1 2 3 4 5 6 7 8 9]\n"
     ]
    }
   ],
   "source": [
    "print (\"x_test: len:\", len(np.unique(x_test)), \", max:\", max(np.unique(x_test)), \n",
    "       \",1st 10 unique values:\", np.unique(x_test)[0:10])"
   ]
  },
  {
   "cell_type": "code",
   "execution_count": 10,
   "metadata": {},
   "outputs": [],
   "source": [
    "#convert to float & divide by 255 to create range 0.0 to 1.0\n",
    "x_train = x_train.astype('float32')\n",
    "x_test = x_test.astype('float32')\n",
    "x_train /= 255\n",
    "x_test /= 255"
   ]
  },
  {
   "cell_type": "code",
   "execution_count": 11,
   "metadata": {},
   "outputs": [],
   "source": [
    "y_train = np_utils.to_categorical(y_train, num_classes)\n",
    "y_test = np_utils.to_categorical(y_test, num_classes)"
   ]
  },
  {
   "cell_type": "code",
   "execution_count": 12,
   "metadata": {},
   "outputs": [
    {
     "name": "stdout",
     "output_type": "stream",
     "text": [
      "<class 'numpy.ndarray'> (50000, 10)\n",
      "<class 'numpy.ndarray'> (10000, 10)\n",
      "[ 0.  0.  0.  1.  0.  0.  0.  0.  0.  0.]\n"
     ]
    }
   ],
   "source": [
    "print (type(y_train), y_train.shape)\n",
    "print (type(y_test), y_test.shape)\n",
    "print (y_test[0,:])"
   ]
  },
  {
   "cell_type": "code",
   "execution_count": 13,
   "metadata": {},
   "outputs": [],
   "source": [
    "datagen = ImageDataGenerator(\n",
    "    featurewise_center=True,\n",
    "    featurewise_std_normalization=True,\n",
    "    rotation_range=20,\n",
    "    width_shift_range=0.2,\n",
    "    height_shift_range=0.2,\n",
    "    horizontal_flip=True)\n"
   ]
  },
  {
   "cell_type": "code",
   "execution_count": 14,
   "metadata": {},
   "outputs": [],
   "source": [
    "# compute quantities required for featurewise normalization\n",
    "# (std, mean, and principal components if ZCA whitening is applied)\n",
    "datagen.fit(x_train)"
   ]
  },
  {
   "cell_type": "code",
   "execution_count": 15,
   "metadata": {},
   "outputs": [],
   "source": [
    "datagen_test = ImageDataGenerator()\n",
    "datagen_test.fit(x_test)"
   ]
  },
  {
   "cell_type": "code",
   "execution_count": 16,
   "metadata": {},
   "outputs": [],
   "source": [
    "model = Sequential()\n",
    "model.add(Conv2D(32, (3, 3), padding='same',\n",
    "                 input_shape=x_train.shape[1:]))\n",
    "model.add(Activation('relu'))\n",
    "model.add(Conv2D(32, (3, 3)))\n",
    "model.add(Activation('relu'))\n",
    "model.add(MaxPooling2D(pool_size=(2, 2)))\n",
    "model.add(Dropout(0.25))\n",
    "\n",
    "model.add(Conv2D(64, (3, 3), padding='same'))\n",
    "model.add(Activation('relu'))\n",
    "model.add(Conv2D(64, (3, 3)))\n",
    "model.add(Activation('relu'))\n",
    "model.add(MaxPooling2D(pool_size=(2, 2)))\n",
    "model.add(Dropout(0.25))\n",
    "\n",
    "model.add(Flatten())\n",
    "model.add(Dense(512))\n",
    "model.add(Activation('relu'))\n",
    "model.add(Dropout(0.5))\n",
    "model.add(Dense(num_classes))\n",
    "model.add(Activation('softmax'))\n",
    "\n"
   ]
  },
  {
   "cell_type": "code",
   "execution_count": 21,
   "metadata": {},
   "outputs": [],
   "source": [
    "# initiate RMSprop optimizer\n",
    "opt = keras.optimizers.rmsprop(lr=0.0001, decay=1e-6)\n",
    "\n",
    "#print (K.eval(model.optimizer.lr))\n",
    "#model.optimizer.lr = 0.001\n",
    "#print (model.optimizer.lr)\n",
    "#model.optimizer.lr = 0.01\n",
    "#print (model.optimizer.lr)\n"
   ]
  },
  {
   "cell_type": "code",
   "execution_count": 22,
   "metadata": {},
   "outputs": [],
   "source": [
    "model.compile(loss='categorical_crossentropy',\n",
    "              optimizer=opt,\n",
    "              metrics=['accuracy'])"
   ]
  },
  {
   "cell_type": "code",
   "execution_count": 23,
   "metadata": {
    "scrolled": true
   },
   "outputs": [
    {
     "name": "stdout",
     "output_type": "stream",
     "text": [
      "Epoch 1/5\n",
      "782/781 [==============================] - 43s - loss: 1.9534 - acc: 0.2771 - val_loss: 2.2621 - val_acc: 0.1513\n",
      "Epoch 2/5\n",
      "782/781 [==============================] - 43s - loss: 1.7223 - acc: 0.3673 - val_loss: 2.4211 - val_acc: 0.1229\n",
      "Epoch 3/5\n",
      "782/781 [==============================] - 43s - loss: 1.6209 - acc: 0.4041 - val_loss: 2.4097 - val_acc: 0.1691\n",
      "Epoch 4/5\n",
      "782/781 [==============================] - 43s - loss: 1.5486 - acc: 0.4367 - val_loss: 2.7314 - val_acc: 0.1480\n",
      "Epoch 5/5\n",
      "782/781 [==============================] - 43s - loss: 1.4923 - acc: 0.4622 - val_loss: 2.8254 - val_acc: 0.1404\n"
     ]
    }
   ],
   "source": [
    "# fits the model on batches with real-time data augmentation:\n",
    "history1 = model.fit_generator(datagen.flow(x_train, y_train, batch_size=batch_size),\n",
    "                              steps_per_epoch=len(x_train) / batch_size, \n",
    "                              validation_data=datagen_test.flow(x_test, y_test, batch_size=batch_size),\n",
    "                              validation_steps= len(x_train) / batch_size,\n",
    "                              epochs=epochs)"
   ]
  },
  {
   "cell_type": "code",
   "execution_count": 24,
   "metadata": {},
   "outputs": [
    {
     "name": "stdout",
     "output_type": "stream",
     "text": [
      "dict_keys(['val_acc', 'val_loss', 'loss', 'acc'])\n"
     ]
    }
   ],
   "source": [
    "# list all data in history\n",
    "print(history1.history.keys())\n"
   ]
  },
  {
   "cell_type": "code",
   "execution_count": 25,
   "metadata": {},
   "outputs": [
    {
     "name": "stdout",
     "output_type": "stream",
     "text": [
      "dict_keys(['val_acc', 'val_loss', 'loss', 'acc'])\n"
     ]
    },
    {
     "data": {
      "image/png": "[encoded data removed]",
      "text/plain": [
       "<matplotlib.figure.Figure at 0x7fbf4b9726d8>"
      ]
     },
     "metadata": {},
     "output_type": "display_data"
    },
    {
     "data": {
      "image/png": "[encoded data removed]",
      "text/plain": [
       "<matplotlib.figure.Figure at 0x7fbf4acc0da0>"
      ]
     },
     "metadata": {},
     "output_type": "display_data"
    }
   ],
   "source": [
    "# list all data in history\n",
    "print(history1.history.keys())\n",
    "# summarize history for accuracy\n",
    "plt.plot(history1.history['acc'])\n",
    "plt.plot(history1.history['val_acc'])\n",
    "plt.title('model accuracy')\n",
    "plt.ylabel('accuracy')\n",
    "plt.xlabel('epoch')\n",
    "plt.legend(['train'], loc='upper left')\n",
    "plt.show()\n",
    "# summarize history for loss\n",
    "plt.plot(history1.history['loss'])\n",
    "plt.plot(history1.history['val_loss'])\n",
    "plt.title('model loss')\n",
    "plt.ylabel('loss')\n",
    "plt.xlabel('epoch')\n",
    "plt.legend(['train'], loc='upper left')\n",
    "plt.show()"
   ]
  },
  {
   "cell_type": "code",
   "execution_count": 26,
   "metadata": {},
   "outputs": [
    {
     "name": "stdout",
     "output_type": "stream",
     "text": [
      "Epoch 1/5\n",
      "782/781 [==============================] - 44s - loss: 1.4463 - acc: 0.4779 - val_loss: 2.8194 - val_acc: 0.1841\n",
      "Epoch 2/5\n",
      "782/781 [==============================] - 44s - loss: 1.3984 - acc: 0.4931 - val_loss: 2.9305 - val_acc: 0.1761\n",
      "Epoch 3/5\n",
      "782/781 [==============================] - 44s - loss: 1.3630 - acc: 0.5091 - val_loss: 2.9011 - val_acc: 0.1767\n",
      "Epoch 4/5\n",
      "782/781 [==============================] - 43s - loss: 1.3334 - acc: 0.5218 - val_loss: 2.9461 - val_acc: 0.1815\n",
      "Epoch 5/5\n",
      "782/781 [==============================] - 43s - loss: 1.3084 - acc: 0.5303 - val_loss: 2.9402 - val_acc: 0.1933\n"
     ]
    }
   ],
   "source": [
    "# fits the model on batches with real-time data augmentation:\n",
    "history2 = model.fit_generator(datagen.flow(x_train, y_train, batch_size=batch_size),\n",
    "                              steps_per_epoch=len(x_train) / batch_size, \n",
    "                              validation_data=datagen_test.flow(x_test, y_test, batch_size=batch_size),\n",
    "                              validation_steps= len(x_train) / batch_size,\n",
    "                              epochs=epochs)"
   ]
  },
  {
   "cell_type": "code",
   "execution_count": 27,
   "metadata": {},
   "outputs": [
    {
     "data": {
      "image/png": "[encoded data removed]",
      "text/plain": [
       "<matplotlib.figure.Figure at 0x7fbf4acc5fd0>"
      ]
     },
     "metadata": {},
     "output_type": "display_data"
    },
    {
     "data": {
      "image/png": "[encoded data removed]",
      "text/plain": [
       "<matplotlib.figure.Figure at 0x7fbf4b98ad30>"
      ]
     },
     "metadata": {},
     "output_type": "display_data"
    }
   ],
   "source": [
    "# summarize history for accuracy\n",
    "plt.plot(history2.history['acc'])\n",
    "plt.plot(history2.history['val_acc'])\n",
    "plt.title('model accuracy')\n",
    "plt.ylabel('accuracy')\n",
    "plt.xlabel('epoch')\n",
    "plt.legend(['train'], loc='upper left')\n",
    "plt.show()\n",
    "# summarize history for loss\n",
    "plt.plot(history2.history['loss'])\n",
    "plt.plot(history2.history['val_loss'])\n",
    "plt.title('model loss')\n",
    "plt.ylabel('loss')\n",
    "plt.xlabel('epoch')\n",
    "plt.legend(['train'], loc='upper left')\n",
    "plt.show()"
   ]
  },
  {
   "cell_type": "code",
   "execution_count": 28,
   "metadata": {},
   "outputs": [],
   "source": [
    "epochs = 20"
   ]
  },
  {
   "cell_type": "code",
   "execution_count": 29,
   "metadata": {},
   "outputs": [
    {
     "name": "stdout",
     "output_type": "stream",
     "text": [
      "Epoch 1/20\n",
      "782/781 [==============================] - 44s - loss: 1.2799 - acc: 0.5414 - val_loss: 2.8860 - val_acc: 0.1991\n",
      "Epoch 2/20\n",
      "782/781 [==============================] - 44s - loss: 1.2558 - acc: 0.5506 - val_loss: 2.9798 - val_acc: 0.2123\n",
      "Epoch 3/20\n",
      "782/781 [==============================] - 42s - loss: 1.2385 - acc: 0.5573 - val_loss: 2.7807 - val_acc: 0.2171\n",
      "Epoch 4/20\n",
      "782/781 [==============================] - 43s - loss: 1.2159 - acc: 0.5629 - val_loss: 2.7706 - val_acc: 0.2155\n",
      "Epoch 5/20\n",
      "782/781 [==============================] - 43s - loss: 1.2022 - acc: 0.5721 - val_loss: 2.9667 - val_acc: 0.1931\n",
      "Epoch 6/20\n",
      "782/781 [==============================] - 43s - loss: 1.1859 - acc: 0.5780 - val_loss: 2.8900 - val_acc: 0.2153\n",
      "Epoch 7/20\n",
      "782/781 [==============================] - 44s - loss: 1.1695 - acc: 0.5819 - val_loss: 2.8448 - val_acc: 0.2276\n",
      "Epoch 8/20\n",
      "782/781 [==============================] - 43s - loss: 1.1564 - acc: 0.5877 - val_loss: 2.8767 - val_acc: 0.2367\n",
      "Epoch 9/20\n",
      "782/781 [==============================] - 44s - loss: 1.1425 - acc: 0.5929 - val_loss: 2.7458 - val_acc: 0.2751\n",
      "Epoch 10/20\n",
      "782/781 [==============================] - 43s - loss: 1.1349 - acc: 0.5970 - val_loss: 2.8830 - val_acc: 0.2056\n",
      "Epoch 11/20\n",
      "782/781 [==============================] - 44s - loss: 1.1210 - acc: 0.6021 - val_loss: 2.8016 - val_acc: 0.2463\n",
      "Epoch 12/20\n",
      "782/781 [==============================] - 43s - loss: 1.1111 - acc: 0.6051 - val_loss: 2.7991 - val_acc: 0.2411\n",
      "Epoch 13/20\n",
      "782/781 [==============================] - 43s - loss: 1.0974 - acc: 0.6138 - val_loss: 2.7516 - val_acc: 0.2529\n",
      "Epoch 14/20\n",
      "782/781 [==============================] - 43s - loss: 1.0916 - acc: 0.6132 - val_loss: 2.7748 - val_acc: 0.2728\n",
      "Epoch 15/20\n",
      "782/781 [==============================] - 43s - loss: 1.0880 - acc: 0.6154 - val_loss: 2.8083 - val_acc: 0.2502\n",
      "Epoch 16/20\n",
      "782/781 [==============================] - 41s - loss: 1.0773 - acc: 0.6172 - val_loss: 2.7664 - val_acc: 0.2429\n",
      "Epoch 17/20\n",
      "782/781 [==============================] - 43s - loss: 1.0651 - acc: 0.6225 - val_loss: 2.8945 - val_acc: 0.2673\n",
      "Epoch 18/20\n",
      "782/781 [==============================] - 44s - loss: 1.0597 - acc: 0.6263 - val_loss: 2.8210 - val_acc: 0.2600\n",
      "Epoch 19/20\n",
      "782/781 [==============================] - 44s - loss: 1.0523 - acc: 0.6314 - val_loss: 2.8097 - val_acc: 0.2659\n",
      "Epoch 20/20\n",
      "782/781 [==============================] - 43s - loss: 1.0457 - acc: 0.6316 - val_loss: 2.8207 - val_acc: 0.2743\n"
     ]
    }
   ],
   "source": [
    "# fits the model on batches with real-time data augmentation:\n",
    "history3 = model.fit_generator(datagen.flow(x_train, y_train, batch_size=batch_size),\n",
    "                              steps_per_epoch=len(x_train) / batch_size, \n",
    "                              validation_data=datagen_test.flow(x_test, y_test, batch_size=batch_size),\n",
    "                              validation_steps= len(x_train) / batch_size,\n",
    "                              epochs=epochs)\n",
    "#prev : loss: 1.0740 - acc: 0.6201 - val_loss: 9.1439 - val_acc: 0.4091"
   ]
  },
  {
   "cell_type": "code",
   "execution_count": 30,
   "metadata": {},
   "outputs": [
    {
     "name": "stdout",
     "output_type": "stream",
     "text": [
      "Epoch 1/40\n",
      "782/781 [==============================] - 42s - loss: 1.0469 - acc: 0.6320 - val_loss: 2.8514 - val_acc: 0.2412\n",
      "Epoch 2/40\n",
      "782/781 [==============================] - 44s - loss: 1.0318 - acc: 0.6348 - val_loss: 2.8265 - val_acc: 0.2850\n",
      "Epoch 3/40\n",
      "782/781 [==============================] - 43s - loss: 1.0288 - acc: 0.6383 - val_loss: 2.7309 - val_acc: 0.2759\n",
      "Epoch 4/40\n",
      "782/781 [==============================] - 44s - loss: 1.0260 - acc: 0.6400 - val_loss: 2.6762 - val_acc: 0.2658\n",
      "Epoch 5/40\n",
      "782/781 [==============================] - 43s - loss: 1.0241 - acc: 0.6400 - val_loss: 2.6164 - val_acc: 0.2674\n",
      "Epoch 6/40\n",
      "782/781 [==============================] - 42s - loss: 1.0180 - acc: 0.6432 - val_loss: 2.8197 - val_acc: 0.2730\n",
      "Epoch 7/40\n",
      "782/781 [==============================] - 44s - loss: 1.0116 - acc: 0.6465 - val_loss: 3.0047 - val_acc: 0.2281\n",
      "Epoch 8/40\n",
      "782/781 [==============================] - 44s - loss: 1.0162 - acc: 0.6441 - val_loss: 2.7131 - val_acc: 0.2818\n",
      "Epoch 9/40\n",
      "782/781 [==============================] - 44s - loss: 1.0016 - acc: 0.6506 - val_loss: 2.8032 - val_acc: 0.2782\n",
      "Epoch 10/40\n",
      "782/781 [==============================] - 44s - loss: 1.0027 - acc: 0.6504 - val_loss: 2.8077 - val_acc: 0.2689\n",
      "Epoch 11/40\n",
      "782/781 [==============================] - 45s - loss: 0.9999 - acc: 0.6504 - val_loss: 2.8921 - val_acc: 0.2644\n",
      "Epoch 12/40\n",
      "782/781 [==============================] - 43s - loss: 0.9979 - acc: 0.6524 - val_loss: 3.0103 - val_acc: 0.2434\n",
      "Epoch 13/40\n",
      "782/781 [==============================] - 44s - loss: 0.9896 - acc: 0.6533 - val_loss: 2.7510 - val_acc: 0.2590\n",
      "Epoch 14/40\n",
      "782/781 [==============================] - 44s - loss: 0.9858 - acc: 0.6569 - val_loss: 2.6485 - val_acc: 0.2751\n",
      "Epoch 15/40\n",
      "782/781 [==============================] - 43s - loss: 0.9823 - acc: 0.6575 - val_loss: 2.6922 - val_acc: 0.2915\n",
      "Epoch 16/40\n",
      "782/781 [==============================] - 44s - loss: 0.9775 - acc: 0.6607 - val_loss: 2.6259 - val_acc: 0.2795\n",
      "Epoch 17/40\n",
      "782/781 [==============================] - 42s - loss: 0.9811 - acc: 0.6583 - val_loss: 2.9562 - val_acc: 0.2653\n",
      "Epoch 18/40\n",
      "782/781 [==============================] - 42s - loss: 0.9760 - acc: 0.6630 - val_loss: 2.8107 - val_acc: 0.2671\n",
      "Epoch 19/40\n",
      "782/781 [==============================] - 42s - loss: 0.9700 - acc: 0.6630 - val_loss: 2.7558 - val_acc: 0.2846\n",
      "Epoch 20/40\n",
      "782/781 [==============================] - 43s - loss: 0.9688 - acc: 0.6633 - val_loss: 2.9207 - val_acc: 0.2570\n",
      "Epoch 21/40\n",
      "782/781 [==============================] - 45s - loss: 0.9619 - acc: 0.6652 - val_loss: 2.7272 - val_acc: 0.2752\n",
      "Epoch 22/40\n",
      "782/781 [==============================] - 44s - loss: 0.9634 - acc: 0.6664 - val_loss: 2.6854 - val_acc: 0.2785\n",
      "Epoch 23/40\n",
      "782/781 [==============================] - 44s - loss: 0.9564 - acc: 0.6687 - val_loss: 2.8559 - val_acc: 0.2559\n",
      "Epoch 24/40\n",
      "782/781 [==============================] - 43s - loss: 0.9588 - acc: 0.6679 - val_loss: 2.7798 - val_acc: 0.2755\n",
      "Epoch 25/40\n",
      "782/781 [==============================] - 44s - loss: 0.9575 - acc: 0.6674 - val_loss: 2.5137 - val_acc: 0.2804\n",
      "Epoch 26/40\n",
      "782/781 [==============================] - 44s - loss: 0.9540 - acc: 0.6701 - val_loss: 2.8876 - val_acc: 0.2267\n",
      "Epoch 27/40\n",
      "782/781 [==============================] - 45s - loss: 0.9473 - acc: 0.6703 - val_loss: 2.5631 - val_acc: 0.2451\n",
      "Epoch 28/40\n",
      "782/781 [==============================] - 43s - loss: 0.9464 - acc: 0.6719 - val_loss: 2.6457 - val_acc: 0.2678\n",
      "Epoch 29/40\n",
      "782/781 [==============================] - 43s - loss: 0.9525 - acc: 0.6690 - val_loss: 2.7299 - val_acc: 0.2410\n",
      "Epoch 30/40\n",
      "782/781 [==============================] - 43s - loss: 0.9413 - acc: 0.6733 - val_loss: 2.7043 - val_acc: 0.2871\n",
      "Epoch 31/40\n",
      "782/781 [==============================] - 42s - loss: 0.9426 - acc: 0.6755 - val_loss: 2.6191 - val_acc: 0.2369\n",
      "Epoch 32/40\n",
      "782/781 [==============================] - 43s - loss: 0.9355 - acc: 0.6752 - val_loss: 2.7734 - val_acc: 0.2621\n",
      "Epoch 33/40\n",
      "782/781 [==============================] - 44s - loss: 0.9376 - acc: 0.6758 - val_loss: 2.6507 - val_acc: 0.2795\n",
      "Epoch 34/40\n",
      "782/781 [==============================] - 45s - loss: 0.9328 - acc: 0.6765 - val_loss: 2.5746 - val_acc: 0.2773\n",
      "Epoch 35/40\n",
      "782/781 [==============================] - 44s - loss: 0.9273 - acc: 0.6800 - val_loss: 2.6079 - val_acc: 0.2726\n",
      "Epoch 36/40\n",
      "782/781 [==============================] - 43s - loss: 0.9262 - acc: 0.6802 - val_loss: 2.5371 - val_acc: 0.2822\n",
      "Epoch 37/40\n",
      "782/781 [==============================] - 44s - loss: 0.9349 - acc: 0.6785 - val_loss: 2.5379 - val_acc: 0.2786\n",
      "Epoch 38/40\n",
      "782/781 [==============================] - 44s - loss: 0.9285 - acc: 0.6783 - val_loss: 2.8363 - val_acc: 0.2456\n",
      "Epoch 39/40\n",
      "782/781 [==============================] - 44s - loss: 0.9259 - acc: 0.6807 - val_loss: 2.5681 - val_acc: 0.2517\n",
      "Epoch 40/40\n",
      "782/781 [==============================] - 44s - loss: 0.9279 - acc: 0.6795 - val_loss: 2.7306 - val_acc: 0.2546\n"
     ]
    }
   ],
   "source": [
    "# fits the model on batches with real-time data augmentation:\n",
    "history4 = model.fit_generator(datagen.flow(x_train, y_train, batch_size=batch_size),\n",
    "                              steps_per_epoch=len(x_train) / batch_size, \n",
    "                              validation_data=datagen_test.flow(x_test, y_test, batch_size=batch_size),\n",
    "                              validation_steps= len(x_train) / batch_size,\n",
    "                              epochs=epochs*2)"
   ]
  },
  {
   "cell_type": "code",
   "execution_count": 32,
   "metadata": {},
   "outputs": [
    {
     "data": {
      "image/png": "[encoded data removed]",
      "text/plain": [
       "<matplotlib.figure.Figure at 0x7fbf4b9722e8>"
      ]
     },
     "metadata": {},
     "output_type": "display_data"
    },
    {
     "data": {
      "image/png": "[encoded data removed]",
      "text/plain": [
       "<matplotlib.figure.Figure at 0x7fbf483ada90>"
      ]
     },
     "metadata": {},
     "output_type": "display_data"
    }
   ],
   "source": [
    "# summarize history for accuracy\n",
    "plt.plot(history.history['acc'])\n",
    "plt.plot(history.history['val_acc'])\n",
    "plt.title('model accuracy')\n",
    "plt.ylabel('accuracy')\n",
    "plt.xlabel('epoch')\n",
    "plt.legend(['train'], loc='upper left')\n",
    "plt.show()\n",
    "# summarize history for loss\n",
    "plt.plot(history.history['loss'])\n",
    "plt.plot(history.history['val_loss'])\n",
    "plt.title('model loss')\n",
    "plt.ylabel('loss')\n",
    "plt.xlabel('epoch')\n",
    "plt.legend(['train'], loc='upper left')\n",
    "plt.show()"
   ]
  },
  {
   "cell_type": "code",
   "execution_count": 33,
   "metadata": {},
   "outputs": [
    {
     "name": "stdout",
     "output_type": "stream",
     "text": [
      "10000/10000 [==============================] - 2s     \n",
      "Test loss: 2.72961225777\n",
      "Test accuracy: 0.2546\n"
     ]
    }
   ],
   "source": [
    "# Score trained model.\n",
    "scores = model.evaluate(x_test, y_test, verbose=1)\n",
    "print('Test loss:', scores[0])\n",
    "print('Test accuracy:', scores[1])"
   ]
  },
  {
   "cell_type": "code",
   "execution_count": null,
   "metadata": {},
   "outputs": [],
   "source": []
  }
 ],
 "metadata": {
  "kernelspec": {
   "display_name": "Python 3",
   "language": "python",
   "name": "python3"
  },
  "language_info": {
   "codemirror_mode": {
    "name": "ipython",
    "version": 3
   },
   "file_extension": ".py",
   "mimetype": "text/x-python",
   "name": "python",
   "nbconvert_exporter": "python",
   "pygments_lexer": "ipython3",
   "version": "3.5.2"
  }
 },
 "nbformat": 4,
 "nbformat_minor": 2
}
