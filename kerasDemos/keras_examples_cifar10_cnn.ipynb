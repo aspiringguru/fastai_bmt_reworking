{
 "cells": [
  {
   "cell_type": "code",
   "execution_count": 1,
   "metadata": {},
   "outputs": [],
   "source": [
    "#keras/blob/master/examples/cifar10_cnn"
   ]
  },
  {
   "cell_type": "code",
   "execution_count": 2,
   "metadata": {},
   "outputs": [
    {
     "name": "stderr",
     "output_type": "stream",
     "text": [
      "Using Theano backend.\n",
      "WARNING (theano.sandbox.cuda): The cuda backend is deprecated and will be removed in the next release (v0.10).  Please switch to the gpuarray backend. You can get more information about how to switch at this URL:\n",
      " https://github.com/Theano/Theano/wiki/Converting-to-the-new-gpu-back-end%28gpuarray%29\n",
      "\n",
      "Using gpu device 0: Tesla K80 (CNMeM is disabled, cuDNN 5110)\n"
     ]
    }
   ],
   "source": [
    "from __future__ import print_function\n",
    "import keras\n",
    "from keras.datasets import cifar10\n",
    "from keras.preprocessing.image import ImageDataGenerator\n",
    "from keras.models import Sequential\n",
    "from keras.layers import Dense, Dropout, Activation, Flatten\n",
    "from keras.layers import Conv2D, MaxPooling2D\n",
    "import os\n",
    "import numpy as np"
   ]
  },
  {
   "cell_type": "code",
   "execution_count": 3,
   "metadata": {},
   "outputs": [],
   "source": [
    "batch_size = 32       #can increase this until memory error. also watch nvidia-smi to check memory use.\n",
    "num_classes = 10      #can check this from data once loaded.\n",
    "epochs = 100\n",
    "data_augmentation = True\n",
    "num_predictions = 20\n",
    "#save_dir = os.path.join(os.getcwd(), 'saved_models')\n",
    "#model_name = 'keras_cifar10_trained_model.h5'"
   ]
  },
  {
   "cell_type": "code",
   "execution_count": 4,
   "metadata": {},
   "outputs": [
    {
     "name": "stdout",
     "output_type": "stream",
     "text": [
      "x_train shape: (50000, 32, 32, 3)\n",
      "50000 train samples\n",
      "10000 test samples\n",
      "y_train: (50000, 1) [[6]\n",
      " [9]\n",
      " [9]\n",
      " [4]\n",
      " [1]\n",
      " [1]\n",
      " [2]\n",
      " [7]\n",
      " [8]\n",
      " [3]]\n",
      "y_test: (10000, 1)\n"
     ]
    }
   ],
   "source": [
    "# The data, shuffled and split between train and test sets:\n",
    "(x_train, y_train), (x_test, y_test) = cifar10.load_data()\n",
    "print('x_train shape:', x_train.shape)\n",
    "print(x_train.shape[0], 'train samples')\n",
    "print(x_test.shape[0], 'test samples')\n",
    "print (\"y_train:\", y_train.shape, y_train[0:10])\n",
    "print (\"y_test:\", y_test.shape)"
   ]
  },
  {
   "cell_type": "code",
   "execution_count": 5,
   "metadata": {
    "scrolled": true
   },
   "outputs": [
    {
     "name": "stdout",
     "output_type": "stream",
     "text": [
      "y_train: (50000, 10)\n",
      "y_test: (10000, 10)\n"
     ]
    }
   ],
   "source": [
    "# Convert class vectors to binary class matrices.\n",
    "y_train = keras.utils.to_categorical(y_train, num_classes)\n",
    "y_test = keras.utils.to_categorical(y_test, num_classes)\n",
    "print (\"y_train:\", y_train.shape)\n",
    "print (\"y_test:\", y_test.shape)"
   ]
  },
  {
   "cell_type": "code",
   "execution_count": 14,
   "metadata": {},
   "outputs": [
    {
     "data": {
      "text/plain": [
       "(32, 32, 3)"
      ]
     },
     "execution_count": 14,
     "metadata": {},
     "output_type": "execute_result"
    }
   ],
   "source": [
    "x_train.shape[1:]"
   ]
  },
  {
   "cell_type": "code",
   "execution_count": 6,
   "metadata": {},
   "outputs": [],
   "source": [
    "model = Sequential()\n",
    "model.add(Conv2D(32, (3, 3), padding='same',\n",
    "                 input_shape=x_train.shape[1:]))\n",
    "model.add(Activation('relu'))\n",
    "model.add(Conv2D(32, (3, 3)))\n",
    "model.add(Activation('relu'))\n",
    "model.add(MaxPooling2D(pool_size=(2, 2)))\n",
    "model.add(Dropout(0.25))\n",
    "\n",
    "model.add(Conv2D(64, (3, 3), padding='same'))\n",
    "model.add(Activation('relu'))\n",
    "model.add(Conv2D(64, (3, 3)))\n",
    "model.add(Activation('relu'))\n",
    "model.add(MaxPooling2D(pool_size=(2, 2)))\n",
    "model.add(Dropout(0.25))\n",
    "\n",
    "model.add(Flatten())\n",
    "model.add(Dense(512))\n",
    "model.add(Activation('relu'))\n",
    "model.add(Dropout(0.5))\n",
    "model.add(Dense(num_classes))\n",
    "model.add(Activation('softmax'))"
   ]
  },
  {
   "cell_type": "code",
   "execution_count": 7,
   "metadata": {},
   "outputs": [],
   "source": [
    "# initiate RMSprop optimizer\n",
    "opt = keras.optimizers.rmsprop(lr=0.0001, decay=1e-6)\n",
    "\n",
    "# Let's train the model using RMSprop\n",
    "model.compile(loss='categorical_crossentropy',\n",
    "              optimizer=opt,\n",
    "              metrics=['accuracy'])"
   ]
  },
  {
   "cell_type": "code",
   "execution_count": 8,
   "metadata": {},
   "outputs": [
    {
     "name": "stdout",
     "output_type": "stream",
     "text": [
      "# of uniques in x_train: 256\n"
     ]
    }
   ],
   "source": [
    "print (\"# of uniques in x_train:\", len(np.unique(x_train)))"
   ]
  },
  {
   "cell_type": "code",
   "execution_count": 9,
   "metadata": {},
   "outputs": [],
   "source": [
    "x_train = x_train.astype('float32')\n",
    "x_test = x_test.astype('float32')\n",
    "x_train /= 255\n",
    "x_test /= 255"
   ]
  },
  {
   "cell_type": "code",
   "execution_count": 10,
   "metadata": {},
   "outputs": [
    {
     "name": "stdout",
     "output_type": "stream",
     "text": [
      "Using real-time data augmentation.\n"
     ]
    }
   ],
   "source": [
    "print('Using real-time data augmentation.')\n",
    "# This will do preprocessing and realtime data augmentation:\n",
    "datagen = ImageDataGenerator(\n",
    "    featurewise_center=False,  # set input mean to 0 over the dataset\n",
    "    samplewise_center=False,  # set each sample mean to 0\n",
    "    featurewise_std_normalization=False,  # divide inputs by std of the dataset\n",
    "    samplewise_std_normalization=False,  # divide each input by its std\n",
    "    zca_whitening=False,  # apply ZCA whitening\n",
    "    rotation_range=0,  # randomly rotate images in the range (degrees, 0 to 180)\n",
    "    width_shift_range=0.1,  # randomly shift images horizontally (fraction of total width)\n",
    "    height_shift_range=0.1,  # randomly shift images vertically (fraction of total height)\n",
    "    horizontal_flip=True,  # randomly flip images\n",
    "    vertical_flip=False)  # randomly flip images"
   ]
  },
  {
   "cell_type": "code",
   "execution_count": 11,
   "metadata": {},
   "outputs": [],
   "source": [
    "# Compute quantities required for feature-wise normalization\n",
    "# (std, mean, and principal components if ZCA whitening is applied).\n",
    "datagen.fit(x_train)"
   ]
  },
  {
   "cell_type": "code",
   "execution_count": 12,
   "metadata": {},
   "outputs": [
    {
     "name": "stdout",
     "output_type": "stream",
     "text": [
      "Epoch 1/100\n",
      "1563/1562 [==============================] - 79s - loss: 1.8591 - acc: 0.3133 - val_loss: 1.6156 - val_acc: 0.4136\n",
      "Epoch 2/100\n",
      "1563/1562 [==============================] - 78s - loss: 1.5800 - acc: 0.4188 - val_loss: 1.4487 - val_acc: 0.4742\n",
      "Epoch 3/100\n",
      "1563/1562 [==============================] - 78s - loss: 1.4617 - acc: 0.4685 - val_loss: 1.3119 - val_acc: 0.5424\n",
      "Epoch 4/100\n",
      "1563/1562 [==============================] - 80s - loss: 1.3699 - acc: 0.5071 - val_loss: 1.2286 - val_acc: 0.5683\n",
      "Epoch 5/100\n",
      "1563/1562 [==============================] - 80s - loss: 1.2973 - acc: 0.5340 - val_loss: 1.1943 - val_acc: 0.5796\n",
      "Epoch 6/100\n",
      "1563/1562 [==============================] - 79s - loss: 1.2326 - acc: 0.5602 - val_loss: 1.0675 - val_acc: 0.6244\n",
      "Epoch 7/100\n",
      "1563/1562 [==============================] - 78s - loss: 1.1808 - acc: 0.5807 - val_loss: 1.0207 - val_acc: 0.6383\n",
      "Epoch 8/100\n",
      "1563/1562 [==============================] - 78s - loss: 1.1388 - acc: 0.5988 - val_loss: 1.0084 - val_acc: 0.6458\n",
      "Epoch 9/100\n",
      "1563/1562 [==============================] - 79s - loss: 1.1018 - acc: 0.6098 - val_loss: 0.9506 - val_acc: 0.6680\n",
      "Epoch 10/100\n",
      "1563/1562 [==============================] - 77s - loss: 1.0703 - acc: 0.6206 - val_loss: 0.9491 - val_acc: 0.6714\n",
      "Epoch 11/100\n",
      "1563/1562 [==============================] - 78s - loss: 1.0447 - acc: 0.6319 - val_loss: 0.9739 - val_acc: 0.6515\n",
      "Epoch 12/100\n",
      "1563/1562 [==============================] - 79s - loss: 1.0216 - acc: 0.6422 - val_loss: 0.8650 - val_acc: 0.6984\n",
      "Epoch 13/100\n",
      "1563/1562 [==============================] - 77s - loss: 0.9949 - acc: 0.6479 - val_loss: 0.8869 - val_acc: 0.6883\n",
      "Epoch 14/100\n",
      "1563/1562 [==============================] - 78s - loss: 0.9774 - acc: 0.6559 - val_loss: 0.8452 - val_acc: 0.7004\n",
      "Epoch 15/100\n",
      "1563/1562 [==============================] - 78s - loss: 0.9582 - acc: 0.6632 - val_loss: 0.8375 - val_acc: 0.7074\n",
      "Epoch 16/100\n",
      "1563/1562 [==============================] - 78s - loss: 0.9394 - acc: 0.6678 - val_loss: 0.8240 - val_acc: 0.7086\n",
      "Epoch 17/100\n",
      "1563/1562 [==============================] - 77s - loss: 0.9254 - acc: 0.6745 - val_loss: 0.8159 - val_acc: 0.7148\n",
      "Epoch 18/100\n",
      "1563/1562 [==============================] - 77s - loss: 0.9101 - acc: 0.6809 - val_loss: 0.7791 - val_acc: 0.7322\n",
      "Epoch 19/100\n",
      "1563/1562 [==============================] - 78s - loss: 0.8943 - acc: 0.6849 - val_loss: 0.8028 - val_acc: 0.7287\n",
      "Epoch 20/100\n",
      "1563/1562 [==============================] - 77s - loss: 0.8855 - acc: 0.6900 - val_loss: 0.7626 - val_acc: 0.7302\n",
      "Epoch 21/100\n",
      "1563/1562 [==============================] - 78s - loss: 0.8717 - acc: 0.6966 - val_loss: 0.8040 - val_acc: 0.7196\n",
      "Epoch 22/100\n",
      "1563/1562 [==============================] - 78s - loss: 0.8619 - acc: 0.6982 - val_loss: 0.7497 - val_acc: 0.7387\n",
      "Epoch 23/100\n",
      "1563/1562 [==============================] - 77s - loss: 0.8556 - acc: 0.7032 - val_loss: 0.7340 - val_acc: 0.7520\n",
      "Epoch 24/100\n",
      "1563/1562 [==============================] - 78s - loss: 0.8475 - acc: 0.7064 - val_loss: 0.7081 - val_acc: 0.7555\n",
      "Epoch 25/100\n",
      "1563/1562 [==============================] - 77s - loss: 0.8404 - acc: 0.7094 - val_loss: 0.7510 - val_acc: 0.7427\n",
      "Epoch 26/100\n",
      "1563/1562 [==============================] - 77s - loss: 0.8301 - acc: 0.7140 - val_loss: 0.7216 - val_acc: 0.7530\n",
      "Epoch 27/100\n",
      "1563/1562 [==============================] - 78s - loss: 0.8295 - acc: 0.7134 - val_loss: 0.7152 - val_acc: 0.7536\n",
      "Epoch 28/100\n",
      "1563/1562 [==============================] - 78s - loss: 0.8210 - acc: 0.7144 - val_loss: 0.7113 - val_acc: 0.7589\n",
      "Epoch 29/100\n",
      "1563/1562 [==============================] - 77s - loss: 0.8148 - acc: 0.7174 - val_loss: 0.6996 - val_acc: 0.7551\n",
      "Epoch 30/100\n",
      "1563/1562 [==============================] - 79s - loss: 0.8169 - acc: 0.7192 - val_loss: 0.6826 - val_acc: 0.7664\n",
      "Epoch 31/100\n",
      "1563/1562 [==============================] - 78s - loss: 0.8061 - acc: 0.7238 - val_loss: 0.6781 - val_acc: 0.7716\n",
      "Epoch 32/100\n",
      "1563/1562 [==============================] - 77s - loss: 0.8019 - acc: 0.7253 - val_loss: 0.6902 - val_acc: 0.7752\n",
      "Epoch 33/100\n",
      "1563/1562 [==============================] - 79s - loss: 0.7941 - acc: 0.7260 - val_loss: 0.6818 - val_acc: 0.7649\n",
      "Epoch 34/100\n",
      "1563/1562 [==============================] - 78s - loss: 0.7975 - acc: 0.7243 - val_loss: 0.6732 - val_acc: 0.7712\n",
      "Epoch 35/100\n",
      "1563/1562 [==============================] - 77s - loss: 0.7965 - acc: 0.7277 - val_loss: 0.6852 - val_acc: 0.7647\n",
      "Epoch 36/100\n",
      "1563/1562 [==============================] - 78s - loss: 0.7898 - acc: 0.7310 - val_loss: 0.7020 - val_acc: 0.7669\n",
      "Epoch 37/100\n",
      "1563/1562 [==============================] - 78s - loss: 0.7919 - acc: 0.7307 - val_loss: 0.6964 - val_acc: 0.7719\n",
      "Epoch 38/100\n",
      "1563/1562 [==============================] - 77s - loss: 0.7841 - acc: 0.7348 - val_loss: 0.6691 - val_acc: 0.7757\n",
      "Epoch 39/100\n",
      "1563/1562 [==============================] - 78s - loss: 0.7811 - acc: 0.7368 - val_loss: 0.6594 - val_acc: 0.7788\n",
      "Epoch 40/100\n",
      "1563/1562 [==============================] - 78s - loss: 0.7773 - acc: 0.7363 - val_loss: 0.6672 - val_acc: 0.7760\n",
      "Epoch 41/100\n",
      "1563/1562 [==============================] - 78s - loss: 0.7750 - acc: 0.7386 - val_loss: 0.6612 - val_acc: 0.7770\n",
      "Epoch 42/100\n",
      "1563/1562 [==============================] - 77s - loss: 0.7763 - acc: 0.7365 - val_loss: 0.6803 - val_acc: 0.7758\n",
      "Epoch 43/100\n",
      "1563/1562 [==============================] - 78s - loss: 0.7730 - acc: 0.7384 - val_loss: 0.6851 - val_acc: 0.7853\n",
      "Epoch 44/100\n",
      "1563/1562 [==============================] - 78s - loss: 0.7704 - acc: 0.7393 - val_loss: 0.6759 - val_acc: 0.7865\n",
      "Epoch 45/100\n",
      "1563/1562 [==============================] - 77s - loss: 0.7728 - acc: 0.7370 - val_loss: 0.6769 - val_acc: 0.7847\n",
      "Epoch 46/100\n",
      "1563/1562 [==============================] - 78s - loss: 0.7675 - acc: 0.7417 - val_loss: 0.7283 - val_acc: 0.7511\n",
      "Epoch 47/100\n",
      "1563/1562 [==============================] - 77s - loss: 0.7686 - acc: 0.7418 - val_loss: 0.6669 - val_acc: 0.7792\n",
      "Epoch 48/100\n",
      "1563/1562 [==============================] - 77s - loss: 0.7700 - acc: 0.7404 - val_loss: 0.6450 - val_acc: 0.7856\n",
      "Epoch 49/100\n",
      "1563/1562 [==============================] - 79s - loss: 0.7641 - acc: 0.7416 - val_loss: 0.6408 - val_acc: 0.7864\n",
      "Epoch 50/100\n",
      "1563/1562 [==============================] - 78s - loss: 0.7662 - acc: 0.7428 - val_loss: 0.6399 - val_acc: 0.7894\n",
      "Epoch 51/100\n",
      "1563/1562 [==============================] - 77s - loss: 0.7645 - acc: 0.7421 - val_loss: 0.6616 - val_acc: 0.7875\n",
      "Epoch 52/100\n",
      "1563/1562 [==============================] - 77s - loss: 0.7618 - acc: 0.7447 - val_loss: 0.6898 - val_acc: 0.7856\n",
      "Epoch 53/100\n",
      "1563/1562 [==============================] - 78s - loss: 0.7664 - acc: 0.7426 - val_loss: 0.6458 - val_acc: 0.7901\n",
      "Epoch 54/100\n",
      "1563/1562 [==============================] - 77s - loss: 0.7679 - acc: 0.7416 - val_loss: 0.6314 - val_acc: 0.7948\n",
      "Epoch 55/100\n",
      "1563/1562 [==============================] - 78s - loss: 0.7592 - acc: 0.7452 - val_loss: 0.6749 - val_acc: 0.7751\n",
      "Epoch 56/100\n",
      "1563/1562 [==============================] - 78s - loss: 0.7620 - acc: 0.7422 - val_loss: 0.7182 - val_acc: 0.7817\n",
      "Epoch 57/100\n",
      "1563/1562 [==============================] - 77s - loss: 0.7619 - acc: 0.7466 - val_loss: 0.6396 - val_acc: 0.7917\n",
      "Epoch 58/100\n",
      "1563/1562 [==============================] - 77s - loss: 0.7616 - acc: 0.7447 - val_loss: 0.6464 - val_acc: 0.7881\n",
      "Epoch 59/100\n",
      "1563/1562 [==============================] - 78s - loss: 0.7622 - acc: 0.7445 - val_loss: 0.6310 - val_acc: 0.7973\n",
      "Epoch 60/100\n",
      "1563/1562 [==============================] - 77s - loss: 0.7602 - acc: 0.7456 - val_loss: 0.6587 - val_acc: 0.7827\n",
      "Epoch 61/100\n",
      "1563/1562 [==============================] - 78s - loss: 0.7619 - acc: 0.7453 - val_loss: 0.6605 - val_acc: 0.7811\n",
      "Epoch 62/100\n",
      "1563/1562 [==============================] - 78s - loss: 0.7652 - acc: 0.7449 - val_loss: 0.6880 - val_acc: 0.7850\n",
      "Epoch 63/100\n",
      "1563/1562 [==============================] - 77s - loss: 0.7604 - acc: 0.7455 - val_loss: 0.6723 - val_acc: 0.7845\n",
      "Epoch 64/100\n",
      "1563/1562 [==============================] - 77s - loss: 0.7635 - acc: 0.7466 - val_loss: 0.6390 - val_acc: 0.7905\n",
      "Epoch 65/100\n"
     ]
    },
    {
     "name": "stdout",
     "output_type": "stream",
     "text": [
      "1563/1562 [==============================] - 78s - loss: 0.7674 - acc: 0.7442 - val_loss: 0.6505 - val_acc: 0.7864\n",
      "Epoch 66/100\n",
      "1563/1562 [==============================] - 77s - loss: 0.7624 - acc: 0.7461 - val_loss: 0.6280 - val_acc: 0.7933\n",
      "Epoch 67/100\n",
      "1563/1562 [==============================] - 78s - loss: 0.7625 - acc: 0.7453 - val_loss: 0.6577 - val_acc: 0.7935\n",
      "Epoch 68/100\n",
      "1563/1562 [==============================] - 79s - loss: 0.7651 - acc: 0.7467 - val_loss: 0.6649 - val_acc: 0.7808\n",
      "Epoch 69/100\n",
      "1563/1562 [==============================] - 77s - loss: 0.7653 - acc: 0.7467 - val_loss: 0.6560 - val_acc: 0.7862\n",
      "Epoch 70/100\n",
      "1563/1562 [==============================] - 76s - loss: 0.7610 - acc: 0.7465 - val_loss: 0.6829 - val_acc: 0.7895\n",
      "Epoch 71/100\n",
      "1563/1562 [==============================] - 79s - loss: 0.7666 - acc: 0.7459 - val_loss: 0.6542 - val_acc: 0.7841\n",
      "Epoch 72/100\n",
      "1563/1562 [==============================] - 79s - loss: 0.7640 - acc: 0.7439 - val_loss: 0.7667 - val_acc: 0.7837\n",
      "Epoch 73/100\n",
      "1563/1562 [==============================] - 79s - loss: 0.7702 - acc: 0.7450 - val_loss: 0.7580 - val_acc: 0.7747\n",
      "Epoch 74/100\n",
      "1563/1562 [==============================] - 77s - loss: 0.7674 - acc: 0.7458 - val_loss: 0.6249 - val_acc: 0.7984\n",
      "Epoch 75/100\n",
      "1563/1562 [==============================] - 79s - loss: 0.7615 - acc: 0.7473 - val_loss: 0.6675 - val_acc: 0.7829\n",
      "Epoch 76/100\n",
      "1563/1562 [==============================] - 79s - loss: 0.7641 - acc: 0.7462 - val_loss: 0.7406 - val_acc: 0.7545\n",
      "Epoch 77/100\n",
      "1563/1562 [==============================] - 77s - loss: 0.7702 - acc: 0.7434 - val_loss: 0.6387 - val_acc: 0.8030\n",
      "Epoch 78/100\n",
      "1563/1562 [==============================] - 78s - loss: 0.7653 - acc: 0.7461 - val_loss: 0.6520 - val_acc: 0.7918\n",
      "Epoch 79/100\n",
      "1563/1562 [==============================] - 79s - loss: 0.7741 - acc: 0.7426 - val_loss: 0.6702 - val_acc: 0.7846\n",
      "Epoch 80/100\n",
      "1563/1562 [==============================] - 77s - loss: 0.7741 - acc: 0.7415 - val_loss: 0.6899 - val_acc: 0.7721\n",
      "Epoch 81/100\n",
      "1563/1562 [==============================] - 78s - loss: 0.7718 - acc: 0.7465 - val_loss: 0.6562 - val_acc: 0.7916\n",
      "Epoch 82/100\n",
      "1563/1562 [==============================] - 77s - loss: 0.7748 - acc: 0.7430 - val_loss: 0.7196 - val_acc: 0.7613\n",
      "Epoch 83/100\n",
      "1563/1562 [==============================] - 76s - loss: 0.7743 - acc: 0.7456 - val_loss: 0.7442 - val_acc: 0.7656\n",
      "Epoch 84/100\n",
      "1563/1562 [==============================] - 75s - loss: 0.7786 - acc: 0.7443 - val_loss: 0.6855 - val_acc: 0.7848\n",
      "Epoch 85/100\n",
      "1563/1562 [==============================] - 76s - loss: 0.7769 - acc: 0.7441 - val_loss: 0.6232 - val_acc: 0.7955\n",
      "Epoch 86/100\n",
      "1563/1562 [==============================] - 76s - loss: 0.7772 - acc: 0.7438 - val_loss: 0.6159 - val_acc: 0.7978\n",
      "Epoch 87/100\n",
      "1563/1562 [==============================] - 76s - loss: 0.7762 - acc: 0.7433 - val_loss: 0.6782 - val_acc: 0.7792\n",
      "Epoch 88/100\n",
      "1563/1562 [==============================] - 75s - loss: 0.7781 - acc: 0.7443 - val_loss: 0.6654 - val_acc: 0.7844\n",
      "Epoch 89/100\n",
      "1563/1562 [==============================] - 76s - loss: 0.7832 - acc: 0.7402 - val_loss: 0.6837 - val_acc: 0.7771\n",
      "Epoch 90/100\n",
      "1563/1562 [==============================] - 76s - loss: 0.7867 - acc: 0.7403 - val_loss: 0.7281 - val_acc: 0.7776\n",
      "Epoch 91/100\n",
      "1563/1562 [==============================] - 75s - loss: 0.7900 - acc: 0.7405 - val_loss: 0.6944 - val_acc: 0.7694\n",
      "Epoch 92/100\n",
      "1563/1562 [==============================] - 76s - loss: 0.7886 - acc: 0.7412 - val_loss: 0.7553 - val_acc: 0.7517\n",
      "Epoch 93/100\n",
      "1563/1562 [==============================] - 76s - loss: 0.7941 - acc: 0.7397 - val_loss: 0.6757 - val_acc: 0.7830\n",
      "Epoch 94/100\n",
      "1563/1562 [==============================] - 75s - loss: 0.7951 - acc: 0.7380 - val_loss: 0.6497 - val_acc: 0.7889\n",
      "Epoch 95/100\n",
      "1563/1562 [==============================] - 76s - loss: 0.7935 - acc: 0.7396 - val_loss: 0.7459 - val_acc: 0.7737\n",
      "Epoch 96/100\n",
      "1563/1562 [==============================] - 76s - loss: 0.7951 - acc: 0.7378 - val_loss: 0.6557 - val_acc: 0.7886\n",
      "Epoch 97/100\n",
      "1563/1562 [==============================] - 75s - loss: 0.8007 - acc: 0.7373 - val_loss: 0.7098 - val_acc: 0.7810\n",
      "Epoch 98/100\n",
      "1563/1562 [==============================] - 76s - loss: 0.7944 - acc: 0.7392 - val_loss: 0.6630 - val_acc: 0.7826\n",
      "Epoch 99/100\n",
      "1563/1562 [==============================] - 76s - loss: 0.8018 - acc: 0.7378 - val_loss: 0.6530 - val_acc: 0.7842\n",
      "Epoch 100/100\n",
      "1563/1562 [==============================] - 75s - loss: 0.8035 - acc: 0.7371 - val_loss: 0.6483 - val_acc: 0.7868\n"
     ]
    },
    {
     "data": {
      "text/plain": [
       "<keras.callbacks.History at 0x7f863c8d6e10>"
      ]
     },
     "execution_count": 12,
     "metadata": {},
     "output_type": "execute_result"
    }
   ],
   "source": [
    "# Fit the model on the batches generated by datagen.flow().\n",
    "history1 = model.fit_generator(datagen.flow(x_train, y_train, batch_size=batch_size),\n",
    "                    epochs=epochs,\n",
    "                    steps_per_epoch=len(x_train) / batch_size,\n",
    "                    validation_data=(x_test, y_test),\n",
    "                    workers=4)"
   ]
  },
  {
   "cell_type": "code",
   "execution_count": null,
   "metadata": {},
   "outputs": [],
   "source": [
    "# list all data in history\n",
    "print(history1.history.keys())\n",
    "# summarize history for accuracy\n",
    "plt.plot(history1.history['acc'])\n",
    "plt.plot(history1.history['val_acc'])\n",
    "plt.title('model accuracy')\n",
    "plt.ylabel('accuracy')\n",
    "plt.xlabel('epoch')\n",
    "plt.legend(['train', 'validate'], loc='upper left')\n",
    "plt.show()\n",
    "# summarize history for loss\n",
    "plt.plot(history1.history['loss'])\n",
    "plt.plot(history1.history['val_loss'])\n",
    "plt.title('model loss')\n",
    "plt.ylabel('loss')\n",
    "plt.xlabel('epoch')\n",
    "plt.legend(['train', 'validate'], loc='upper left')\n",
    "plt.show()"
   ]
  },
  {
   "cell_type": "code",
   "execution_count": 13,
   "metadata": {
    "scrolled": false
   },
   "outputs": [
    {
     "name": "stdout",
     "output_type": "stream",
     "text": [
      "10000/10000 [==============================] - 2s     \n",
      "Test loss: 0.648336306047\n",
      "Test accuracy: 0.7868\n"
     ]
    }
   ],
   "source": [
    "# Score trained model.\n",
    "scores = model.evaluate(x_test, y_test, verbose=1)\n",
    "print('Test loss:', scores[0])\n",
    "print('Test accuracy:', scores[1])"
   ]
  },
  {
   "cell_type": "code",
   "execution_count": 19,
   "metadata": {},
   "outputs": [
    {
     "name": "stdout",
     "output_type": "stream",
     "text": [
      "(10000, 32, 32, 3)\n",
      "(32, 32, 3)\n",
      "(5, 32, 32, 3)\n"
     ]
    }
   ],
   "source": [
    "print(x_test.shape)\n",
    "print(x_test[0].shape)\n",
    "temp = x_test[0:5, :, :, :]\n",
    "print(temp.shape)\n"
   ]
  },
  {
   "cell_type": "code",
   "execution_count": 21,
   "metadata": {},
   "outputs": [
    {
     "name": "stdout",
     "output_type": "stream",
     "text": [
      "5/5 [==============================] - 0s\n"
     ]
    },
    {
     "data": {
      "text/plain": [
       "array([3, 8, 8, 8, 6])"
      ]
     },
     "execution_count": 21,
     "metadata": {},
     "output_type": "execute_result"
    }
   ],
   "source": [
    "model.predict_classes(temp)"
   ]
  },
  {
   "cell_type": "code",
   "execution_count": null,
   "metadata": {},
   "outputs": [],
   "source": []
  }
 ],
 "metadata": {
  "kernelspec": {
   "display_name": "Python 3",
   "language": "python",
   "name": "python3"
  },
  "language_info": {
   "codemirror_mode": {
    "name": "ipython",
    "version": 3
   },
   "file_extension": ".py",
   "mimetype": "text/x-python",
   "name": "python",
   "nbconvert_exporter": "python",
   "pygments_lexer": "ipython3",
   "version": "3.5.2"
  }
 },
 "nbformat": 4,
 "nbformat_minor": 2
}
