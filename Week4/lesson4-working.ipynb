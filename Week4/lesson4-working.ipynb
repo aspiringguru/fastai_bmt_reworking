{
 "cells": [
  {
   "cell_type": "code",
   "execution_count": 1,
   "metadata": {
    "scrolled": true
   },
   "outputs": [
    {
     "name": "stderr",
     "output_type": "stream",
     "text": [
      "WARNING (theano.sandbox.cuda): The cuda backend is deprecated and will be removed in the next release (v0.10).  Please switch to the gpuarray backend. You can get more information about how to switch at this URL:\n",
      " https://github.com/Theano/Theano/wiki/Converting-to-the-new-gpu-back-end%28gpuarray%29\n",
      "\n",
      "Using gpu device 0: Tesla K80 (CNMeM is disabled, cuDNN 5110)\n"
     ]
    }
   ],
   "source": [
    "from theano.sandbox import cuda"
   ]
  },
  {
   "cell_type": "code",
   "execution_count": 2,
   "metadata": {
    "scrolled": true
   },
   "outputs": [],
   "source": [
    "#set FIXED variables\n",
    "HOMEPATH = \"/home/ubuntu/fastai/\"\n",
    "\n",
    "import os, errno\n",
    "from datetime import datetime\n",
    "import unidecode"
   ]
  },
  {
   "cell_type": "markdown",
   "metadata": {},
   "source": [
    "nb: need to install packages as below for standard aws ubuntu deep learning community AMI   \n",
    "sudo -H pip install unidecode\n",
    "sudo -H pip install bcolz  \n",
    "sudo -H pip install toolz  \n",
    "\n",
    "nb: original utils.py from https://github.com/fastai/courses.git needs fix.\n",
    "update to utils.py as per https://github.com/fastai/courses/issues/146 required."
   ]
  },
  {
   "cell_type": "code",
   "execution_count": 3,
   "metadata": {},
   "outputs": [],
   "source": [
    "GIT_REPO_PATH = \"/home/ubuntu/courses/deeplearning1/nbs\""
   ]
  },
  {
   "cell_type": "code",
   "execution_count": 4,
   "metadata": {},
   "outputs": [
    {
     "name": "stdout",
     "output_type": "stream",
     "text": [
      "('current working directory:', '/home/ubuntu/courses/deeplearning1/nbs')\n"
     ]
    },
    {
     "name": "stderr",
     "output_type": "stream",
     "text": [
      "Using TensorFlow backend.\n"
     ]
    }
   ],
   "source": [
    "os.chdir(GIT_REPO_PATH)\n",
    "print (\"current working directory:\", os.getcwd())\n",
    "\n",
    "%matplotlib inline\n",
    "import utils; reload(utils)\n",
    "from utils import *\n",
    "from __future__ import division, print_function"
   ]
  },
  {
   "cell_type": "markdown",
   "metadata": {},
   "source": [
    "wget http://files.grouplens.org/datasets/movielens/ml-latest-small.zip  \n",
    "wget http://files.grouplens.org/datasets/movielens/ml-20m.zip"
   ]
  },
  {
   "cell_type": "code",
   "execution_count": 7,
   "metadata": {},
   "outputs": [],
   "source": [
    "path = \"/home/ubuntu/fastai/data/ml-latest-small/\"\n",
    "model_path = path + 'models/'\n",
    "if not os.path.exists(model_path): os.mkdir(model_path)\n",
    "batch_size=64"
   ]
  },
  {
   "cell_type": "markdown",
   "metadata": {
    "heading_collapsed": true
   },
   "source": [
    "## Set up data"
   ]
  },
  {
   "cell_type": "markdown",
   "metadata": {
    "hidden": true
   },
   "source": [
    "We're working with the movielens data, which contains one rating per row, like this:"
   ]
  },
  {
   "cell_type": "markdown",
   "metadata": {},
   "source": [
    "userId,movieId,rating,timestamp  \n",
    "1,31,2.5,1260759144  \n",
    "1,1029,3.0,1260759179  \n",
    "1,1061,3.0,1260759182  \n",
    "1,1129,2.0,1260759185  \n"
   ]
  },
  {
   "cell_type": "code",
   "execution_count": 8,
   "metadata": {
    "hidden": true,
    "scrolled": true
   },
   "outputs": [
    {
     "data": {
      "text/html": [
       "<div>\n",
       "<style>\n",
       "    .dataframe thead tr:only-child th {\n",
       "        text-align: right;\n",
       "    }\n",
       "\n",
       "    .dataframe thead th {\n",
       "        text-align: left;\n",
       "    }\n",
       "\n",
       "    .dataframe tbody tr th {\n",
       "        vertical-align: top;\n",
       "    }\n",
       "</style>\n",
       "<table border=\"1\" class=\"dataframe\">\n",
       "  <thead>\n",
       "    <tr style=\"text-align: right;\">\n",
       "      <th></th>\n",
       "      <th>userId</th>\n",
       "      <th>movieId</th>\n",
       "      <th>rating</th>\n",
       "      <th>timestamp</th>\n",
       "    </tr>\n",
       "  </thead>\n",
       "  <tbody>\n",
       "    <tr>\n",
       "      <th>0</th>\n",
       "      <td>1</td>\n",
       "      <td>31</td>\n",
       "      <td>2.5</td>\n",
       "      <td>1260759144</td>\n",
       "    </tr>\n",
       "    <tr>\n",
       "      <th>1</th>\n",
       "      <td>1</td>\n",
       "      <td>1029</td>\n",
       "      <td>3.0</td>\n",
       "      <td>1260759179</td>\n",
       "    </tr>\n",
       "    <tr>\n",
       "      <th>2</th>\n",
       "      <td>1</td>\n",
       "      <td>1061</td>\n",
       "      <td>3.0</td>\n",
       "      <td>1260759182</td>\n",
       "    </tr>\n",
       "    <tr>\n",
       "      <th>3</th>\n",
       "      <td>1</td>\n",
       "      <td>1129</td>\n",
       "      <td>2.0</td>\n",
       "      <td>1260759185</td>\n",
       "    </tr>\n",
       "    <tr>\n",
       "      <th>4</th>\n",
       "      <td>1</td>\n",
       "      <td>1172</td>\n",
       "      <td>4.0</td>\n",
       "      <td>1260759205</td>\n",
       "    </tr>\n",
       "  </tbody>\n",
       "</table>\n",
       "</div>"
      ],
      "text/plain": [
       "   userId  movieId  rating   timestamp\n",
       "0       1       31     2.5  1260759144\n",
       "1       1     1029     3.0  1260759179\n",
       "2       1     1061     3.0  1260759182\n",
       "3       1     1129     2.0  1260759185\n",
       "4       1     1172     4.0  1260759205"
      ]
     },
     "execution_count": 8,
     "metadata": {},
     "output_type": "execute_result"
    }
   ],
   "source": [
    "ratings = pd.read_csv(path+'ratings.csv')\n",
    "ratings.head()\n",
    "#refer lesson 6 @ 6'57\""
   ]
  },
  {
   "cell_type": "code",
   "execution_count": 9,
   "metadata": {
    "hidden": true
   },
   "outputs": [
    {
     "data": {
      "text/plain": [
       "100004"
      ]
     },
     "execution_count": 9,
     "metadata": {},
     "output_type": "execute_result"
    }
   ],
   "source": [
    "len(ratings)"
   ]
  },
  {
   "cell_type": "markdown",
   "metadata": {
    "hidden": true
   },
   "source": [
    "Just for display purposes, let's read in the movie names too."
   ]
  },
  {
   "cell_type": "markdown",
   "metadata": {},
   "source": [
    "movieId,title,genres  \n",
    "1,Toy Story (1995),Adventure|Animation|Children|Comedy|Fantasy  \n",
    "2,Jumanji (1995),Adventure|Children|Fantasy  \n",
    "3,Grumpier Old Men (1995),Comedy|Romance  \n",
    "4,Waiting to Exhale (1995),Comedy|Drama|Romance  \n"
   ]
  },
  {
   "cell_type": "code",
   "execution_count": 10,
   "metadata": {
    "hidden": true
   },
   "outputs": [],
   "source": [
    "movie_names = pd.read_csv(path+'movies.csv', encoding = 'utf8').set_index('movieId')['title']#.to_dict()"
   ]
  },
  {
   "cell_type": "code",
   "execution_count": 12,
   "metadata": {},
   "outputs": [
    {
     "name": "stdout",
     "output_type": "stream",
     "text": [
      "9123\n",
      "title\n",
      "\"Great Performances\" Cats (1998)           1\n",
      "$9.99 (2008)                               1\n",
      "'Hellboy': The Seeds of Creation (2004)    1\n",
      "'Neath the Arizona Skies (1934)            1\n",
      "'Round Midnight (1986)                     1\n",
      "Name: genres, dtype: int64\n"
     ]
    }
   ],
   "source": [
    "tempdf = pd.DataFrame.from_csv(path+'movies.csv')\n",
    "type(tempdf), tempdf.shape, list(tempdf)\n",
    "temp = tempdf.groupby('title')['genres'].nunique()\n",
    "print (len(temp))\n",
    "print (temp[0:5])"
   ]
  },
  {
   "cell_type": "code",
   "execution_count": 13,
   "metadata": {},
   "outputs": [
    {
     "name": "stdout",
     "output_type": "stream",
     "text": [
      "<class 'pandas.core.series.Series'> (9125,)\n",
      "movieId\n",
      "1                      Toy Story (1995)\n",
      "2                        Jumanji (1995)\n",
      "3               Grumpier Old Men (1995)\n",
      "4              Waiting to Exhale (1995)\n",
      "5    Father of the Bride Part II (1995)\n",
      "Name: title, dtype: object\n"
     ]
    }
   ],
   "source": [
    "print (type(movie_names), movie_names.shape)  \n",
    "print (movie_names.head(5))"
   ]
  },
  {
   "cell_type": "code",
   "execution_count": 14,
   "metadata": {
    "hidden": true
   },
   "outputs": [],
   "source": [
    "users = ratings.userId.unique()\n",
    "movies = ratings.movieId.unique()"
   ]
  },
  {
   "cell_type": "code",
   "execution_count": 15,
   "metadata": {},
   "outputs": [
    {
     "name": "stdout",
     "output_type": "stream",
     "text": [
      "users: <type 'numpy.ndarray'> (671,)\n",
      "movies: <type 'numpy.ndarray'> (9066,)\n"
     ]
    }
   ],
   "source": [
    "print (\"users:\", type(users), users.shape)\n",
    "print (\"movies:\", type(movies), movies.shape)"
   ]
  },
  {
   "cell_type": "code",
   "execution_count": 16,
   "metadata": {},
   "outputs": [
    {
     "name": "stdout",
     "output_type": "stream",
     "text": [
      "users: [1 2 3 4 5]\n",
      "movies: [  31 1029 1061 1129 1172]\n"
     ]
    }
   ],
   "source": [
    "print (\"users:\", users[0:5])\n",
    "print (\"movies:\", movies[0:5])"
   ]
  },
  {
   "cell_type": "code",
   "execution_count": 17,
   "metadata": {},
   "outputs": [
    {
     "name": "stdout",
     "output_type": "stream",
     "text": [
      "<type 'dict'> 671\n",
      "<type 'dict'> 9066\n"
     ]
    }
   ],
   "source": [
    "userid2idx = {o:i for i,o in enumerate(users)}\n",
    "movieid2idx = {o:i for i,o in enumerate(movies)}\n",
    "print(type(userid2idx), len(userid2idx))\n",
    "print(type(movieid2idx), len(movieid2idx))\n"
   ]
  },
  {
   "cell_type": "code",
   "execution_count": 18,
   "metadata": {
    "hidden": true
   },
   "outputs": [
    {
     "name": "stdout",
     "output_type": "stream",
     "text": [
      "1\n",
      "1\n",
      "userid2idx.keys()[0:5] (ratings.csv).userId.unique(): [1, 2, 3, 4, 5] <type 'numpy.int64'>\n",
      "movieid2idx.keys()[0:5] (ratings.csv).movieId.unique(): [1, 2, 3, 4, 5] <type 'numpy.int64'>\n",
      "1 1\n",
      "movieid2idx[2]: 650 1\n",
      "movieid2idx[3]: 319 1\n"
     ]
    }
   ],
   "source": [
    "print (next(iter(userid2idx)))\n",
    "print (next(iter(userid2idx)))\n",
    "\n",
    "print (\"userid2idx.keys()[0:5] (ratings.csv).userId.unique():\", userid2idx.keys()[0:5], type(userid2idx.keys()[0]))\n",
    "print (\"movieid2idx.keys()[0:5] (ratings.csv).movieId.unique():\", movieid2idx.keys()[0:5], type(movieid2idx.keys()[0]))\n",
    "print (userid2idx[2], list(users.flatten()).count(2))\n",
    "print (\"movieid2idx[2]:\", movieid2idx[2], list(movies.flatten()).count(2))\n",
    "print (\"movieid2idx[3]:\", movieid2idx[3], list(movies.flatten()).count(3))"
   ]
  },
  {
   "cell_type": "markdown",
   "metadata": {
    "hidden": true
   },
   "source": [
    "We update the movie and user ids so that they are contiguous integers, which we want when using embeddings."
   ]
  },
  {
   "cell_type": "code",
   "execution_count": 19,
   "metadata": {},
   "outputs": [
    {
     "name": "stdout",
     "output_type": "stream",
     "text": [
      "<class 'pandas.core.series.Series'>\n",
      "417\n"
     ]
    }
   ],
   "source": [
    "print (type(ratings.movieId))\n",
    "print (movieid2idx[1])"
   ]
  },
  {
   "cell_type": "code",
   "execution_count": 20,
   "metadata": {
    "hidden": true
   },
   "outputs": [],
   "source": [
    "ratings.movieId = ratings.movieId.apply(lambda x: movieid2idx[x])\n",
    "ratings.userId = ratings.userId.apply(lambda x: userid2idx[x])"
   ]
  },
  {
   "cell_type": "code",
   "execution_count": 21,
   "metadata": {},
   "outputs": [
    {
     "data": {
      "text/plain": [
       "pandas.core.frame.DataFrame"
      ]
     },
     "execution_count": 21,
     "metadata": {},
     "output_type": "execute_result"
    }
   ],
   "source": [
    "type(ratings)"
   ]
  },
  {
   "cell_type": "code",
   "execution_count": 22,
   "metadata": {
    "hidden": true
   },
   "outputs": [
    {
     "name": "stdout",
     "output_type": "stream",
     "text": [
      "0 670 0 9065\n"
     ]
    }
   ],
   "source": [
    "user_min, user_max, movie_min, movie_max = (ratings.userId.min(), \n",
    "    ratings.userId.max(), ratings.movieId.min(), ratings.movieId.max())\n",
    "print (user_min, user_max, movie_min, movie_max)"
   ]
  },
  {
   "cell_type": "code",
   "execution_count": 23,
   "metadata": {
    "hidden": true
   },
   "outputs": [
    {
     "name": "stdout",
     "output_type": "stream",
     "text": [
      "<class 'pandas.core.series.Series'>\n",
      "<class 'pandas.core.series.Series'>\n"
     ]
    },
    {
     "data": {
      "text/plain": [
       "(671, 9066)"
      ]
     },
     "execution_count": 23,
     "metadata": {},
     "output_type": "execute_result"
    }
   ],
   "source": [
    "n_users = ratings.userId.nunique()\n",
    "n_movies = ratings.movieId.nunique()\n",
    "\n",
    "#https://pandas.pydata.org/pandas-docs/stable/generated/pandas.Series.nunique.html\n",
    "#Return number of unique elements in the object.\n",
    "\n",
    "print (type(ratings.userId))\n",
    "print (type(ratings.movieId))\n",
    "n_users, n_movies"
   ]
  },
  {
   "cell_type": "markdown",
   "metadata": {
    "hidden": true
   },
   "source": [
    "This is the number of latent factors in each embedding."
   ]
  },
  {
   "cell_type": "code",
   "execution_count": 24,
   "metadata": {
    "hidden": true
   },
   "outputs": [],
   "source": [
    "n_factors = 50"
   ]
  },
  {
   "cell_type": "code",
   "execution_count": 25,
   "metadata": {
    "hidden": true
   },
   "outputs": [],
   "source": [
    "np.random.seed = 42"
   ]
  },
  {
   "cell_type": "markdown",
   "metadata": {
    "hidden": true
   },
   "source": [
    "Randomly split into training and validation."
   ]
  },
  {
   "cell_type": "code",
   "execution_count": 26,
   "metadata": {
    "hidden": true
   },
   "outputs": [
    {
     "name": "stdout",
     "output_type": "stream",
     "text": [
      "len(ratings): 100004\n",
      "msk: <type 'numpy.ndarray'> (100004,)\n",
      "<type 'numpy.ndarray'> False\n"
     ]
    }
   ],
   "source": [
    "print (\"len(ratings):\", len(ratings))\n",
    "msk = np.random.rand(len(ratings)) < 0.8\n",
    "print (\"msk:\", type(msk), msk.shape)\n",
    "#creates numpy array of True or False values with probably 80% true\n",
    "print (type(msk), msk[0])\n",
    "trn = ratings[msk]\n",
    "val = ratings[~msk]"
   ]
  },
  {
   "cell_type": "markdown",
   "metadata": {
    "heading_collapsed": true
   },
   "source": [
    "## Create subset for Excel"
   ]
  },
  {
   "cell_type": "markdown",
   "metadata": {
    "hidden": true
   },
   "source": [
    "We create a crosstab of the most popular movies and most movie-addicted users which we'll copy into Excel for creating a simple example. This isn't necessary for any of the modeling below however."
   ]
  },
  {
   "cell_type": "code",
   "execution_count": 27,
   "metadata": {
    "hidden": true
   },
   "outputs": [
    {
     "name": "stdout",
     "output_type": "stream",
     "text": [
      "(100004, 4)\n",
      "   userId  movieId  rating   timestamp\n",
      "0       0        0     2.5  1260759144\n",
      "1       0        1     3.0  1260759179\n",
      "2       0        2     3.0  1260759182\n",
      "3       0        3     2.0  1260759185\n",
      "<class 'pandas.core.series.Series'> (671,)\n",
      "userId\n",
      "0     20\n",
      "1     76\n",
      "2     51\n",
      "3    204\n",
      "Name: rating, dtype: int64\n",
      "userId\n",
      "546    2391\n",
      "563    1868\n",
      "623    1735\n",
      "14     1700\n",
      "72     1610\n",
      "Name: rating, dtype: int64\n"
     ]
    }
   ],
   "source": [
    "print (ratings.shape)\n",
    "print (ratings[0:4])\n",
    "\n",
    "g=ratings.groupby('userId')['rating'].count()\n",
    "#group by 'userId', 'rating', count rows\n",
    "\n",
    "print (type(g), g.shape)\n",
    "print (g[0:4])\n",
    "print (g.sort_values(ascending=False)[0:5])\n",
    "topUsers=g.sort_values(ascending=False)[:15]\n",
    "#select top 15 users."
   ]
  },
  {
   "cell_type": "code",
   "execution_count": 28,
   "metadata": {
    "hidden": true
   },
   "outputs": [],
   "source": [
    "g=ratings.groupby('movieId')['rating'].count()\n",
    "topMovies=g.sort_values(ascending=False)[:15]"
   ]
  },
  {
   "cell_type": "code",
   "execution_count": 29,
   "metadata": {
    "hidden": true
   },
   "outputs": [],
   "source": [
    "top_r = ratings.join(topUsers, rsuffix='_r', how='inner', on='userId')"
   ]
  },
  {
   "cell_type": "code",
   "execution_count": 30,
   "metadata": {
    "hidden": true
   },
   "outputs": [],
   "source": [
    "top_r = top_r.join(topMovies, rsuffix='_r', how='inner', on='movieId')"
   ]
  },
  {
   "cell_type": "code",
   "execution_count": 31,
   "metadata": {
    "hidden": true,
    "scrolled": true
   },
   "outputs": [
    {
     "data": {
      "text/html": [
       "<div>\n",
       "<style>\n",
       "    .dataframe thead tr:only-child th {\n",
       "        text-align: right;\n",
       "    }\n",
       "\n",
       "    .dataframe thead th {\n",
       "        text-align: left;\n",
       "    }\n",
       "\n",
       "    .dataframe tbody tr th {\n",
       "        vertical-align: top;\n",
       "    }\n",
       "</style>\n",
       "<table border=\"1\" class=\"dataframe\">\n",
       "  <thead>\n",
       "    <tr style=\"text-align: right;\">\n",
       "      <th>movieId</th>\n",
       "      <th>27</th>\n",
       "      <th>49</th>\n",
       "      <th>57</th>\n",
       "      <th>72</th>\n",
       "      <th>79</th>\n",
       "      <th>89</th>\n",
       "      <th>92</th>\n",
       "      <th>99</th>\n",
       "      <th>143</th>\n",
       "      <th>179</th>\n",
       "      <th>180</th>\n",
       "      <th>197</th>\n",
       "      <th>402</th>\n",
       "      <th>417</th>\n",
       "      <th>505</th>\n",
       "    </tr>\n",
       "    <tr>\n",
       "      <th>userId</th>\n",
       "      <th></th>\n",
       "      <th></th>\n",
       "      <th></th>\n",
       "      <th></th>\n",
       "      <th></th>\n",
       "      <th></th>\n",
       "      <th></th>\n",
       "      <th></th>\n",
       "      <th></th>\n",
       "      <th></th>\n",
       "      <th></th>\n",
       "      <th></th>\n",
       "      <th></th>\n",
       "      <th></th>\n",
       "      <th></th>\n",
       "    </tr>\n",
       "  </thead>\n",
       "  <tbody>\n",
       "    <tr>\n",
       "      <th>14</th>\n",
       "      <td>3.0</td>\n",
       "      <td>5.0</td>\n",
       "      <td>1.0</td>\n",
       "      <td>3.0</td>\n",
       "      <td>4.0</td>\n",
       "      <td>4.0</td>\n",
       "      <td>5.0</td>\n",
       "      <td>2.0</td>\n",
       "      <td>5.0</td>\n",
       "      <td>5.0</td>\n",
       "      <td>4.0</td>\n",
       "      <td>5.0</td>\n",
       "      <td>5.0</td>\n",
       "      <td>2.0</td>\n",
       "      <td>5.0</td>\n",
       "    </tr>\n",
       "    <tr>\n",
       "      <th>29</th>\n",
       "      <td>5.0</td>\n",
       "      <td>5.0</td>\n",
       "      <td>5.0</td>\n",
       "      <td>4.0</td>\n",
       "      <td>5.0</td>\n",
       "      <td>4.0</td>\n",
       "      <td>4.0</td>\n",
       "      <td>5.0</td>\n",
       "      <td>4.0</td>\n",
       "      <td>4.0</td>\n",
       "      <td>5.0</td>\n",
       "      <td>5.0</td>\n",
       "      <td>3.0</td>\n",
       "      <td>4.0</td>\n",
       "      <td>5.0</td>\n",
       "    </tr>\n",
       "    <tr>\n",
       "      <th>72</th>\n",
       "      <td>4.0</td>\n",
       "      <td>5.0</td>\n",
       "      <td>5.0</td>\n",
       "      <td>4.0</td>\n",
       "      <td>5.0</td>\n",
       "      <td>3.0</td>\n",
       "      <td>4.5</td>\n",
       "      <td>5.0</td>\n",
       "      <td>4.5</td>\n",
       "      <td>5.0</td>\n",
       "      <td>5.0</td>\n",
       "      <td>5.0</td>\n",
       "      <td>4.5</td>\n",
       "      <td>5.0</td>\n",
       "      <td>4.0</td>\n",
       "    </tr>\n",
       "    <tr>\n",
       "      <th>211</th>\n",
       "      <td>5.0</td>\n",
       "      <td>4.0</td>\n",
       "      <td>4.0</td>\n",
       "      <td>3.0</td>\n",
       "      <td>5.0</td>\n",
       "      <td>3.0</td>\n",
       "      <td>4.0</td>\n",
       "      <td>4.5</td>\n",
       "      <td>4.0</td>\n",
       "      <td>NaN</td>\n",
       "      <td>3.0</td>\n",
       "      <td>3.0</td>\n",
       "      <td>5.0</td>\n",
       "      <td>3.0</td>\n",
       "      <td>NaN</td>\n",
       "    </tr>\n",
       "    <tr>\n",
       "      <th>212</th>\n",
       "      <td>2.5</td>\n",
       "      <td>NaN</td>\n",
       "      <td>2.0</td>\n",
       "      <td>5.0</td>\n",
       "      <td>NaN</td>\n",
       "      <td>4.0</td>\n",
       "      <td>2.5</td>\n",
       "      <td>NaN</td>\n",
       "      <td>5.0</td>\n",
       "      <td>5.0</td>\n",
       "      <td>3.0</td>\n",
       "      <td>3.0</td>\n",
       "      <td>4.0</td>\n",
       "      <td>3.0</td>\n",
       "      <td>2.0</td>\n",
       "    </tr>\n",
       "    <tr>\n",
       "      <th>293</th>\n",
       "      <td>3.0</td>\n",
       "      <td>NaN</td>\n",
       "      <td>4.0</td>\n",
       "      <td>4.0</td>\n",
       "      <td>4.0</td>\n",
       "      <td>3.0</td>\n",
       "      <td>NaN</td>\n",
       "      <td>3.0</td>\n",
       "      <td>4.0</td>\n",
       "      <td>4.0</td>\n",
       "      <td>4.5</td>\n",
       "      <td>4.0</td>\n",
       "      <td>4.5</td>\n",
       "      <td>4.0</td>\n",
       "      <td>NaN</td>\n",
       "    </tr>\n",
       "    <tr>\n",
       "      <th>310</th>\n",
       "      <td>3.0</td>\n",
       "      <td>3.0</td>\n",
       "      <td>5.0</td>\n",
       "      <td>4.5</td>\n",
       "      <td>5.0</td>\n",
       "      <td>4.5</td>\n",
       "      <td>2.0</td>\n",
       "      <td>4.5</td>\n",
       "      <td>4.0</td>\n",
       "      <td>3.0</td>\n",
       "      <td>4.5</td>\n",
       "      <td>4.5</td>\n",
       "      <td>4.0</td>\n",
       "      <td>3.0</td>\n",
       "      <td>4.0</td>\n",
       "    </tr>\n",
       "    <tr>\n",
       "      <th>379</th>\n",
       "      <td>5.0</td>\n",
       "      <td>5.0</td>\n",
       "      <td>5.0</td>\n",
       "      <td>4.0</td>\n",
       "      <td>NaN</td>\n",
       "      <td>4.0</td>\n",
       "      <td>5.0</td>\n",
       "      <td>4.0</td>\n",
       "      <td>4.0</td>\n",
       "      <td>4.0</td>\n",
       "      <td>NaN</td>\n",
       "      <td>3.0</td>\n",
       "      <td>5.0</td>\n",
       "      <td>4.0</td>\n",
       "      <td>4.0</td>\n",
       "    </tr>\n",
       "    <tr>\n",
       "      <th>451</th>\n",
       "      <td>4.0</td>\n",
       "      <td>5.0</td>\n",
       "      <td>4.0</td>\n",
       "      <td>5.0</td>\n",
       "      <td>4.0</td>\n",
       "      <td>4.0</td>\n",
       "      <td>5.0</td>\n",
       "      <td>5.0</td>\n",
       "      <td>4.0</td>\n",
       "      <td>4.0</td>\n",
       "      <td>4.0</td>\n",
       "      <td>4.0</td>\n",
       "      <td>2.0</td>\n",
       "      <td>3.5</td>\n",
       "      <td>5.0</td>\n",
       "    </tr>\n",
       "    <tr>\n",
       "      <th>467</th>\n",
       "      <td>3.0</td>\n",
       "      <td>3.5</td>\n",
       "      <td>3.0</td>\n",
       "      <td>2.5</td>\n",
       "      <td>NaN</td>\n",
       "      <td>NaN</td>\n",
       "      <td>3.0</td>\n",
       "      <td>3.5</td>\n",
       "      <td>3.5</td>\n",
       "      <td>3.0</td>\n",
       "      <td>3.5</td>\n",
       "      <td>3.0</td>\n",
       "      <td>3.0</td>\n",
       "      <td>4.0</td>\n",
       "      <td>4.0</td>\n",
       "    </tr>\n",
       "    <tr>\n",
       "      <th>508</th>\n",
       "      <td>5.0</td>\n",
       "      <td>5.0</td>\n",
       "      <td>4.0</td>\n",
       "      <td>3.0</td>\n",
       "      <td>5.0</td>\n",
       "      <td>2.0</td>\n",
       "      <td>4.0</td>\n",
       "      <td>4.0</td>\n",
       "      <td>5.0</td>\n",
       "      <td>5.0</td>\n",
       "      <td>5.0</td>\n",
       "      <td>3.0</td>\n",
       "      <td>4.5</td>\n",
       "      <td>3.0</td>\n",
       "      <td>4.5</td>\n",
       "    </tr>\n",
       "    <tr>\n",
       "      <th>546</th>\n",
       "      <td>NaN</td>\n",
       "      <td>5.0</td>\n",
       "      <td>2.0</td>\n",
       "      <td>3.0</td>\n",
       "      <td>5.0</td>\n",
       "      <td>NaN</td>\n",
       "      <td>5.0</td>\n",
       "      <td>5.0</td>\n",
       "      <td>NaN</td>\n",
       "      <td>2.5</td>\n",
       "      <td>2.0</td>\n",
       "      <td>3.5</td>\n",
       "      <td>3.5</td>\n",
       "      <td>3.5</td>\n",
       "      <td>5.0</td>\n",
       "    </tr>\n",
       "    <tr>\n",
       "      <th>563</th>\n",
       "      <td>1.0</td>\n",
       "      <td>5.0</td>\n",
       "      <td>3.0</td>\n",
       "      <td>5.0</td>\n",
       "      <td>4.0</td>\n",
       "      <td>5.0</td>\n",
       "      <td>5.0</td>\n",
       "      <td>NaN</td>\n",
       "      <td>2.0</td>\n",
       "      <td>5.0</td>\n",
       "      <td>5.0</td>\n",
       "      <td>3.0</td>\n",
       "      <td>3.0</td>\n",
       "      <td>4.0</td>\n",
       "      <td>5.0</td>\n",
       "    </tr>\n",
       "    <tr>\n",
       "      <th>579</th>\n",
       "      <td>4.5</td>\n",
       "      <td>4.5</td>\n",
       "      <td>3.5</td>\n",
       "      <td>3.0</td>\n",
       "      <td>4.0</td>\n",
       "      <td>4.5</td>\n",
       "      <td>4.0</td>\n",
       "      <td>4.0</td>\n",
       "      <td>4.0</td>\n",
       "      <td>4.0</td>\n",
       "      <td>3.5</td>\n",
       "      <td>3.0</td>\n",
       "      <td>4.5</td>\n",
       "      <td>4.0</td>\n",
       "      <td>4.5</td>\n",
       "    </tr>\n",
       "    <tr>\n",
       "      <th>623</th>\n",
       "      <td>NaN</td>\n",
       "      <td>5.0</td>\n",
       "      <td>3.0</td>\n",
       "      <td>3.0</td>\n",
       "      <td>NaN</td>\n",
       "      <td>3.0</td>\n",
       "      <td>5.0</td>\n",
       "      <td>NaN</td>\n",
       "      <td>5.0</td>\n",
       "      <td>5.0</td>\n",
       "      <td>5.0</td>\n",
       "      <td>5.0</td>\n",
       "      <td>2.0</td>\n",
       "      <td>5.0</td>\n",
       "      <td>4.0</td>\n",
       "    </tr>\n",
       "  </tbody>\n",
       "</table>\n",
       "</div>"
      ],
      "text/plain": [
       "movieId  27   49   57   72   79   89   92   99   143  179  180  197  402  417  \\\n",
       "userId                                                                          \n",
       "14       3.0  5.0  1.0  3.0  4.0  4.0  5.0  2.0  5.0  5.0  4.0  5.0  5.0  2.0   \n",
       "29       5.0  5.0  5.0  4.0  5.0  4.0  4.0  5.0  4.0  4.0  5.0  5.0  3.0  4.0   \n",
       "72       4.0  5.0  5.0  4.0  5.0  3.0  4.5  5.0  4.5  5.0  5.0  5.0  4.5  5.0   \n",
       "211      5.0  4.0  4.0  3.0  5.0  3.0  4.0  4.5  4.0  NaN  3.0  3.0  5.0  3.0   \n",
       "212      2.5  NaN  2.0  5.0  NaN  4.0  2.5  NaN  5.0  5.0  3.0  3.0  4.0  3.0   \n",
       "293      3.0  NaN  4.0  4.0  4.0  3.0  NaN  3.0  4.0  4.0  4.5  4.0  4.5  4.0   \n",
       "310      3.0  3.0  5.0  4.5  5.0  4.5  2.0  4.5  4.0  3.0  4.5  4.5  4.0  3.0   \n",
       "379      5.0  5.0  5.0  4.0  NaN  4.0  5.0  4.0  4.0  4.0  NaN  3.0  5.0  4.0   \n",
       "451      4.0  5.0  4.0  5.0  4.0  4.0  5.0  5.0  4.0  4.0  4.0  4.0  2.0  3.5   \n",
       "467      3.0  3.5  3.0  2.5  NaN  NaN  3.0  3.5  3.5  3.0  3.5  3.0  3.0  4.0   \n",
       "508      5.0  5.0  4.0  3.0  5.0  2.0  4.0  4.0  5.0  5.0  5.0  3.0  4.5  3.0   \n",
       "546      NaN  5.0  2.0  3.0  5.0  NaN  5.0  5.0  NaN  2.5  2.0  3.5  3.5  3.5   \n",
       "563      1.0  5.0  3.0  5.0  4.0  5.0  5.0  NaN  2.0  5.0  5.0  3.0  3.0  4.0   \n",
       "579      4.5  4.5  3.5  3.0  4.0  4.5  4.0  4.0  4.0  4.0  3.5  3.0  4.5  4.0   \n",
       "623      NaN  5.0  3.0  3.0  NaN  3.0  5.0  NaN  5.0  5.0  5.0  5.0  2.0  5.0   \n",
       "\n",
       "movieId  505  \n",
       "userId        \n",
       "14       5.0  \n",
       "29       5.0  \n",
       "72       4.0  \n",
       "211      NaN  \n",
       "212      2.0  \n",
       "293      NaN  \n",
       "310      4.0  \n",
       "379      4.0  \n",
       "451      5.0  \n",
       "467      4.0  \n",
       "508      4.5  \n",
       "546      5.0  \n",
       "563      5.0  \n",
       "579      4.5  \n",
       "623      4.0  "
      ]
     },
     "execution_count": 31,
     "metadata": {},
     "output_type": "execute_result"
    }
   ],
   "source": [
    "pd.crosstab(top_r.userId, top_r.movieId, top_r.rating, aggfunc=np.sum)"
   ]
  },
  {
   "cell_type": "markdown",
   "metadata": {
    "collapsed": true,
    "heading_collapsed": true
   },
   "source": [
    "## Dot product"
   ]
  },
  {
   "cell_type": "markdown",
   "metadata": {
    "hidden": true
   },
   "source": [
    "The most basic model is a dot product of a movie embedding and a user embedding. Let's see how well that works:"
   ]
  },
  {
   "cell_type": "code",
   "execution_count": 79,
   "metadata": {},
   "outputs": [
    {
     "data": {
      "text/plain": [
       "(671, 50)"
      ]
     },
     "execution_count": 79,
     "metadata": {},
     "output_type": "execute_result"
    }
   ],
   "source": [
    "n_users, n_factors"
   ]
  },
  {
   "cell_type": "code",
   "execution_count": 32,
   "metadata": {
    "hidden": true,
    "scrolled": true
   },
   "outputs": [
    {
     "name": "stderr",
     "output_type": "stream",
     "text": [
      "/usr/local/lib/python2.7/dist-packages/ipykernel_launcher.py:2: UserWarning: Update your `Embedding` call to the Keras 2 API: `Embedding(671, 50, embeddings_regularizer=<keras.reg..., input_length=1)`\n",
      "  \n",
      "/usr/local/lib/python2.7/dist-packages/ipykernel_launcher.py:4: UserWarning: Update your `Embedding` call to the Keras 2 API: `Embedding(9066, 50, embeddings_regularizer=<keras.reg..., input_length=1)`\n",
      "  after removing the cwd from sys.path.\n"
     ]
    }
   ],
   "source": [
    "user_in = Input(shape=(1,), dtype='int64', name='user_in')\n",
    "u = Embedding(n_users, n_factors, input_length=1, W_regularizer=l2(1e-4))(user_in)\n",
    "movie_in = Input(shape=(1,), dtype='int64', name='movie_in')\n",
    "m = Embedding(n_movies, n_factors, input_length=1, W_regularizer=l2(1e-4))(movie_in)"
   ]
  },
  {
   "cell_type": "code",
   "execution_count": 78,
   "metadata": {},
   "outputs": [
    {
     "data": {
      "text/plain": [
       "(tensorflow.python.framework.ops.Tensor,\n",
       " tensorflow.python.framework.ops.Tensor,\n",
       " tensorflow.python.framework.ops.Tensor,\n",
       " tensorflow.python.framework.ops.Tensor)"
      ]
     },
     "execution_count": 78,
     "metadata": {},
     "output_type": "execute_result"
    }
   ],
   "source": [
    "type(user_in), type(u), type(movie_in), type(m)"
   ]
  },
  {
   "cell_type": "code",
   "execution_count": 75,
   "metadata": {
    "hidden": true
   },
   "outputs": [
    {
     "name": "stdout",
     "output_type": "stream",
     "text": [
      "<class 'keras.engine.training.Model'>\n"
     ]
    },
    {
     "name": "stderr",
     "output_type": "stream",
     "text": [
      "/usr/local/lib/python2.7/dist-packages/ipykernel_launcher.py:1: UserWarning: The `merge` function is deprecated and will be removed after 08/2017. Use instead layers from `keras.layers.merge`, e.g. `add`, `concatenate`, etc.\n",
      "  \"\"\"Entry point for launching an IPython kernel.\n"
     ]
    }
   ],
   "source": [
    "x = merge([u, m], mode='dot')\n",
    "#https://keras.io/layers/merge/#dot_1\n",
    "#possibly this change.\n",
    "#needs axes: Integer or tuple of integers, axis or axes along which to take the dot product.\n",
    "#x = keras.layers.dot([u, m])\n",
    "x = Flatten()(x)\n",
    "model = Model([user_in, movie_in], x)\n",
    "#https://keras.io/models/model/\n",
    "\n",
    "model.compile(Adam(0.001), loss='mse')\n",
    "print (type(model))"
   ]
  },
  {
   "cell_type": "code",
   "execution_count": 34,
   "metadata": {
    "hidden": true
   },
   "outputs": [
    {
     "name": "stderr",
     "output_type": "stream",
     "text": [
      "/usr/local/lib/python2.7/dist-packages/ipykernel_launcher.py:2: UserWarning: The `nb_epoch` argument in `fit` has been renamed `epochs`.\n",
      "  \n"
     ]
    },
    {
     "name": "stdout",
     "output_type": "stream",
     "text": [
      "Train on 79978 samples, validate on 20026 samples\n",
      "Epoch 1/1\n",
      "79978/79978 [==============================] - 6s - loss: 9.9079 - val_loss: 4.2210\n"
     ]
    },
    {
     "data": {
      "text/plain": [
       "<keras.callbacks.History at 0x7f7c503d8790>"
      ]
     },
     "execution_count": 34,
     "metadata": {},
     "output_type": "execute_result"
    }
   ],
   "source": [
    "model.fit([trn.userId, trn.movieId], trn.rating, batch_size=64, epochs=1, \n",
    "          validation_data=([val.userId, val.movieId], val.rating))\n",
    "#github gets loss: 9.8328 - val_loss: 3.7591 cf loss: 9.9450 - val_loss: 4.3126"
   ]
  },
  {
   "cell_type": "code",
   "execution_count": null,
   "metadata": {
    "hidden": true
   },
   "outputs": [],
   "source": [
    "model.optimizer.lr=0.01"
   ]
  },
  {
   "cell_type": "code",
   "execution_count": 35,
   "metadata": {
    "hidden": true
   },
   "outputs": [
    {
     "name": "stdout",
     "output_type": "stream",
     "text": [
      "start\n",
      "Train on 79978 samples, validate on 20026 samples\n",
      "Epoch 1/3\n",
      " 2752/79978 [>.............................] - ETA: 4s - loss: 3.8929"
     ]
    },
    {
     "name": "stderr",
     "output_type": "stream",
     "text": [
      "/usr/local/lib/python2.7/dist-packages/ipykernel_launcher.py:4: UserWarning: The `nb_epoch` argument in `fit` has been renamed `epochs`.\n",
      "  after removing the cwd from sys.path.\n"
     ]
    },
    {
     "name": "stdout",
     "output_type": "stream",
     "text": [
      "79978/79978 [==============================] - 5s - loss: 3.1413 - val_loss: 2.7649\n",
      "Epoch 2/3\n",
      "79978/79978 [==============================] - 5s - loss: 2.4212 - val_loss: 2.5649\n",
      "Epoch 3/3\n",
      "79978/79978 [==============================] - 5s - loss: 2.2544 - val_loss: 2.5243\n",
      "Time elapsed (hh:mm:ss.ms) 0:00:15.217588\n"
     ]
    }
   ],
   "source": [
    "print (\"start\")\n",
    "startTime= datetime.now()\n",
    "history = model.fit([trn.userId, trn.movieId], trn.rating, batch_size=64, nb_epoch=3, \n",
    "          validation_data=([val.userId, val.movieId], val.rating))\n",
    "timeElapsed=datetime.now()-startTime\n",
    "print('Time elapsed (hh:mm:ss.ms) {}'.format(timeElapsed))\n"
   ]
  },
  {
   "cell_type": "code",
   "execution_count": 36,
   "metadata": {
    "hidden": true
   },
   "outputs": [],
   "source": [
    "model.optimizer.lr=0.001"
   ]
  },
  {
   "cell_type": "code",
   "execution_count": 37,
   "metadata": {
    "hidden": true
   },
   "outputs": [
    {
     "name": "stdout",
     "output_type": "stream",
     "text": [
      "start\n",
      "Train on 79978 samples, validate on 20026 samples\n",
      "Epoch 1/6\n",
      " 2752/79978 [>.............................] - ETA: 4s - loss: 2.1025"
     ]
    },
    {
     "name": "stderr",
     "output_type": "stream",
     "text": [
      "/usr/local/lib/python2.7/dist-packages/ipykernel_launcher.py:4: UserWarning: The `nb_epoch` argument in `fit` has been renamed `epochs`.\n",
      "  after removing the cwd from sys.path.\n"
     ]
    },
    {
     "name": "stdout",
     "output_type": "stream",
     "text": [
      "79978/79978 [==============================] - 5s - loss: 2.1901 - val_loss: 2.5124\n",
      "Epoch 2/6\n",
      "79978/79978 [==============================] - 5s - loss: 2.1552 - val_loss: 2.5106\n",
      "Epoch 3/6\n",
      "79978/79978 [==============================] - 5s - loss: 2.1296 - val_loss: 2.5139\n",
      "Epoch 4/6\n",
      "79978/79978 [==============================] - 5s - loss: 2.1071 - val_loss: 2.5173\n",
      "Epoch 5/6\n",
      "79978/79978 [==============================] - 5s - loss: 2.0843 - val_loss: 2.5252\n",
      "Epoch 6/6\n",
      "79978/79978 [==============================] - 5s - loss: 2.0630 - val_loss: 2.5273\n",
      "Time elapsed (hh:mm:ss.ms) 0:00:30.465694\n"
     ]
    }
   ],
   "source": [
    "print (\"start\")\n",
    "startTime= datetime.now()\n",
    "history2 = model.fit([trn.userId, trn.movieId], trn.rating, batch_size=64, nb_epoch=6, \n",
    "          validation_data=([val.userId, val.movieId], val.rating))\n",
    "timeElapsed=datetime.now()-startTime\n",
    "print('Time elapsed (hh:mm:ss.ms) {}'.format(timeElapsed))\n",
    "#github = loss: 2.0673 - val_loss: 1.4457 vs loss: 2.0542 - val_loss: 2.5753\n",
    "#nb: loss is reducing, val_loss is not. loss is much less than val_loss overtraining?"
   ]
  },
  {
   "cell_type": "markdown",
   "metadata": {
    "hidden": true
   },
   "source": [
    "The [best benchmarks](http://www.librec.net/example.html) are a bit over 0.9, so this model doesn't seem to be working that well..."
   ]
  },
  {
   "cell_type": "markdown",
   "metadata": {
    "heading_collapsed": true
   },
   "source": [
    "##  Bias"
   ]
  },
  {
   "cell_type": "markdown",
   "metadata": {
    "hidden": true
   },
   "source": [
    "The problem is likely to be that we don't have bias terms - that is, a single bias for each user and each movie representing how positive or negative each user is, and how good each movie is. We can add that easily by simply creating an embedding with one output for each movie and each user, and adding it to our output."
   ]
  },
  {
   "cell_type": "code",
   "execution_count": 38,
   "metadata": {
    "hidden": true
   },
   "outputs": [],
   "source": [
    "def embedding_input(name, n_in, n_out, reg):\n",
    "    inp = Input(shape=(1,), dtype='int64', name=name)\n",
    "    return inp, Embedding(n_in, n_out, input_length=1, W_regularizer=l2(reg))(inp)\n",
    "#refer lesson 5 video @ 14'40\"\n",
    "#also lesson 6 video @ 31'14\" ?"
   ]
  },
  {
   "cell_type": "code",
   "execution_count": 82,
   "metadata": {},
   "outputs": [
    {
     "name": "stdout",
     "output_type": "stream",
     "text": [
      "n_users: 671 , n_factors: 50\n",
      "n_movies: 9066 , n_factors: 50\n"
     ]
    }
   ],
   "source": [
    "print (\"n_users:\", n_users, \", n_factors:\", n_factors)\n",
    "print (\"n_movies:\", n_movies, \", n_factors:\", n_factors)"
   ]
  },
  {
   "cell_type": "code",
   "execution_count": 83,
   "metadata": {
    "hidden": true,
    "scrolled": false
   },
   "outputs": [
    {
     "name": "stderr",
     "output_type": "stream",
     "text": [
      "/usr/local/lib/python2.7/dist-packages/ipykernel_launcher.py:3: UserWarning: Update your `Embedding` call to the Keras 2 API: `Embedding(671, 50, embeddings_regularizer=<keras.reg..., input_length=1)`\n",
      "  This is separate from the ipykernel package so we can avoid doing imports until\n",
      "/usr/local/lib/python2.7/dist-packages/ipykernel_launcher.py:3: UserWarning: Update your `Embedding` call to the Keras 2 API: `Embedding(9066, 50, embeddings_regularizer=<keras.reg..., input_length=1)`\n",
      "  This is separate from the ipykernel package so we can avoid doing imports until\n"
     ]
    }
   ],
   "source": [
    "user_in, u = embedding_input('user_in', n_users, n_factors, 1e-4)\n",
    "movie_in, m = embedding_input('movie_in', n_movies, n_factors, 1e-4)"
   ]
  },
  {
   "cell_type": "code",
   "execution_count": 87,
   "metadata": {},
   "outputs": [
    {
     "name": "stdout",
     "output_type": "stream",
     "text": [
      "type(user_in):\t <class 'tensorflow.python.framework.ops.Tensor'>\n",
      "type(u):\t <class 'tensorflow.python.framework.ops.Tensor'>\n",
      "type(movie_in):\t <class 'tensorflow.python.framework.ops.Tensor'>\n",
      "type(m):\t <class 'tensorflow.python.framework.ops.Tensor'>\n"
     ]
    }
   ],
   "source": [
    "print (\"type(user_in):\\t\", type(user_in))\n",
    "print (\"type(u):\\t\", type(u))\n",
    "print (\"type(movie_in):\\t\", type(movie_in))\n",
    "print (\"type(m):\\t\", type(m))"
   ]
  },
  {
   "cell_type": "code",
   "execution_count": 88,
   "metadata": {
    "hidden": true
   },
   "outputs": [],
   "source": [
    "def create_bias(inp, n_in):\n",
    "    x = Embedding(n_in, 1, input_length=1)(inp)\n",
    "    return Flatten()(x)"
   ]
  },
  {
   "cell_type": "code",
   "execution_count": 89,
   "metadata": {
    "hidden": true
   },
   "outputs": [],
   "source": [
    "ub = create_bias(user_in, n_users)\n",
    "mb = create_bias(movie_in, n_movies)"
   ]
  },
  {
   "cell_type": "markdown",
   "metadata": {},
   "source": [
    "refer video lesson 5 @ 27\"08'\""
   ]
  },
  {
   "cell_type": "code",
   "execution_count": 42,
   "metadata": {
    "hidden": true
   },
   "outputs": [
    {
     "name": "stderr",
     "output_type": "stream",
     "text": [
      "/usr/local/lib/python2.7/dist-packages/ipykernel_launcher.py:1: UserWarning: The `merge` function is deprecated and will be removed after 08/2017. Use instead layers from `keras.layers.merge`, e.g. `add`, `concatenate`, etc.\n",
      "  \"\"\"Entry point for launching an IPython kernel.\n",
      "/usr/local/lib/python2.7/dist-packages/ipykernel_launcher.py:3: UserWarning: The `merge` function is deprecated and will be removed after 08/2017. Use instead layers from `keras.layers.merge`, e.g. `add`, `concatenate`, etc.\n",
      "  This is separate from the ipykernel package so we can avoid doing imports until\n",
      "/usr/local/lib/python2.7/dist-packages/ipykernel_launcher.py:4: UserWarning: The `merge` function is deprecated and will be removed after 08/2017. Use instead layers from `keras.layers.merge`, e.g. `add`, `concatenate`, etc.\n",
      "  after removing the cwd from sys.path.\n"
     ]
    }
   ],
   "source": [
    "x = merge([u, m], mode='dot')\n",
    "x = Flatten()(x)\n",
    "x = merge([x, ub], mode='sum')\n",
    "x = merge([x, mb], mode='sum')\n",
    "model = Model([user_in, movie_in], x)\n",
    "model.compile(Adam(0.001), loss='mse')"
   ]
  },
  {
   "cell_type": "code",
   "execution_count": 43,
   "metadata": {
    "hidden": true
   },
   "outputs": [
    {
     "name": "stderr",
     "output_type": "stream",
     "text": [
      "/usr/local/lib/python2.7/dist-packages/ipykernel_launcher.py:2: UserWarning: The `nb_epoch` argument in `fit` has been renamed `epochs`.\n",
      "  \n"
     ]
    },
    {
     "name": "stdout",
     "output_type": "stream",
     "text": [
      "Train on 79978 samples, validate on 20026 samples\n",
      "Epoch 1/1\n",
      "79978/79978 [==============================] - 6s - loss: 8.7117 - val_loss: 3.4316\n"
     ]
    },
    {
     "data": {
      "text/plain": [
       "<keras.callbacks.History at 0x7f7c4c06fcd0>"
      ]
     },
     "execution_count": 43,
     "metadata": {},
     "output_type": "execute_result"
    }
   ],
   "source": [
    "model.fit([trn.userId, trn.movieId], trn.rating, batch_size=64, nb_epoch=1, \n",
    "          validation_data=([val.userId, val.movieId], val.rating))"
   ]
  },
  {
   "cell_type": "code",
   "execution_count": null,
   "metadata": {
    "hidden": true
   },
   "outputs": [],
   "source": [
    "model.optimizer.lr=0.01"
   ]
  },
  {
   "cell_type": "code",
   "execution_count": 44,
   "metadata": {
    "hidden": true
   },
   "outputs": [
    {
     "name": "stdout",
     "output_type": "stream",
     "text": [
      "Train on 79978 samples, validate on 20026 samples\n",
      "Epoch 1/20\n",
      " 2176/79978 [..............................] - ETA: 5s - loss: 3.3345"
     ]
    },
    {
     "name": "stderr",
     "output_type": "stream",
     "text": [
      "/usr/local/lib/python2.7/dist-packages/ipykernel_launcher.py:2: UserWarning: The `nb_epoch` argument in `fit` has been renamed `epochs`.\n",
      "  \n"
     ]
    },
    {
     "name": "stdout",
     "output_type": "stream",
     "text": [
      "79978/79978 [==============================] - 6s - loss: 2.5843 - val_loss: 2.2702\n",
      "Epoch 2/20\n",
      "79978/79978 [==============================] - 6s - loss: 2.0076 - val_loss: 2.0865\n",
      "Epoch 3/20\n",
      "79978/79978 [==============================] - 6s - loss: 1.8488 - val_loss: 1.9950\n",
      "Epoch 4/20\n",
      "79978/79978 [==============================] - 6s - loss: 1.7532 - val_loss: 1.9193\n",
      "Epoch 5/20\n",
      "79978/79978 [==============================] - 6s - loss: 1.6740 - val_loss: 1.8505\n",
      "Epoch 6/20\n",
      "79978/79978 [==============================] - 6s - loss: 1.5993 - val_loss: 1.7858\n",
      "Epoch 7/20\n",
      "79978/79978 [==============================] - 6s - loss: 1.5280 - val_loss: 1.7234\n",
      "Epoch 8/20\n",
      "79978/79978 [==============================] - 6s - loss: 1.4570 - val_loss: 1.6637\n",
      "Epoch 9/20\n",
      "79978/79978 [==============================] - 6s - loss: 1.3879 - val_loss: 1.6043\n",
      "Epoch 10/20\n",
      "79978/79978 [==============================] - 6s - loss: 1.3192 - val_loss: 1.5537\n",
      "Epoch 11/20\n",
      "79978/79978 [==============================] - 6s - loss: 1.2533 - val_loss: 1.5023\n",
      "Epoch 12/20\n",
      "79978/79978 [==============================] - 6s - loss: 1.1920 - val_loss: 1.4510\n",
      "Epoch 13/20\n",
      "79978/79978 [==============================] - 6s - loss: 1.1327 - val_loss: 1.4065\n",
      "Epoch 14/20\n",
      "79978/79978 [==============================] - 6s - loss: 1.0773 - val_loss: 1.3637\n",
      "Epoch 15/20\n",
      "79978/79978 [==============================] - 6s - loss: 1.0247 - val_loss: 1.3213\n",
      "Epoch 16/20\n",
      "79978/79978 [==============================] - 6s - loss: 0.9744 - val_loss: 1.2870\n",
      "Epoch 17/20\n",
      "79978/79978 [==============================] - 6s - loss: 0.9276 - val_loss: 1.2529\n",
      "Epoch 18/20\n",
      "79978/79978 [==============================] - 6s - loss: 0.8838 - val_loss: 1.2199\n",
      "Epoch 19/20\n",
      "79978/79978 [==============================] - 6s - loss: 0.8432 - val_loss: 1.1910\n",
      "Epoch 20/20\n",
      "79978/79978 [==============================] - 6s - loss: 0.8060 - val_loss: 1.1654\n"
     ]
    }
   ],
   "source": [
    "history3 = model.fit([trn.userId, trn.movieId], trn.rating, batch_size=64, nb_epoch=20, \n",
    "          validation_data=([val.userId, val.movieId], val.rating))\n",
    "#github result = loss: 0.5747 - val_loss: 0.7979 vs my result after 6 epochs loss: 1.5886 - val_loss: 1.7878\n",
    "#very bad result by comparison.\n",
    "#after 20 epochs,  loss: 0.6405 - val_loss: 1.0564 both losses are consistently reducing. \n",
    "#loss is << val_loss so overfitting"
   ]
  },
  {
   "cell_type": "code",
   "execution_count": null,
   "metadata": {
    "hidden": true
   },
   "outputs": [],
   "source": [
    "model.optimizer.lr=0.001"
   ]
  },
  {
   "cell_type": "code",
   "execution_count": 45,
   "metadata": {
    "hidden": true
   },
   "outputs": [
    {
     "name": "stdout",
     "output_type": "stream",
     "text": [
      "startTime: 2018-01-14 23:09:26.964117\n",
      "Train on 79978 samples, validate on 20026 samples\n",
      "Epoch 1/20\n",
      "79978/79978 [==============================] - 6s - loss: 0.7711 - val_loss: 1.1401\n",
      "Epoch 2/20\n",
      "79978/79978 [==============================] - 6s - loss: 0.7399 - val_loss: 1.1184\n",
      "Epoch 3/20\n",
      "79978/79978 [==============================] - 6s - loss: 0.7117 - val_loss: 1.0992\n",
      "Epoch 4/20\n",
      "79978/79978 [==============================] - 6s - loss: 0.6859 - val_loss: 1.0815\n",
      "Epoch 5/20\n",
      "79978/79978 [==============================] - 6s - loss: 0.6634 - val_loss: 1.0669\n",
      "Epoch 6/20\n",
      "79978/79978 [==============================] - 6s - loss: 0.6434 - val_loss: 1.0538\n",
      "Epoch 7/20\n",
      "79978/79978 [==============================] - 6s - loss: 0.6258 - val_loss: 1.0433\n",
      "Epoch 8/20\n",
      "79978/79978 [==============================] - 6s - loss: 0.6105 - val_loss: 1.0345\n",
      "Epoch 9/20\n",
      "79978/79978 [==============================] - 6s - loss: 0.5974 - val_loss: 1.0272\n",
      "Epoch 10/20\n",
      "79978/79978 [==============================] - 6s - loss: 0.5868 - val_loss: 1.0220\n",
      "Epoch 11/20\n",
      "79978/79978 [==============================] - 6s - loss: 0.5775 - val_loss: 1.0165\n",
      "Epoch 12/20\n",
      "79978/79978 [==============================] - 6s - loss: 0.5699 - val_loss: 1.0138\n",
      "Epoch 13/20\n",
      "79978/79978 [==============================] - 6s - loss: 0.5639 - val_loss: 1.0117\n",
      "Epoch 14/20\n",
      "79978/79978 [==============================] - 6s - loss: 0.5585 - val_loss: 1.0103\n",
      "Epoch 15/20\n",
      "79978/79978 [==============================] - 6s - loss: 0.5542 - val_loss: 1.0096\n",
      "Epoch 16/20\n",
      "79978/79978 [==============================] - 6s - loss: 0.5506 - val_loss: 1.0093\n",
      "Epoch 17/20\n",
      "79978/79978 [==============================] - 6s - loss: 0.5475 - val_loss: 1.0093\n",
      "Epoch 18/20\n",
      "79978/79978 [==============================] - 6s - loss: 0.5448 - val_loss: 1.0097\n",
      "Epoch 19/20\n",
      "79978/79978 [==============================] - 6s - loss: 0.5426 - val_loss: 1.0096\n",
      "Epoch 20/20\n",
      "79978/79978 [==============================] - 6s - loss: 0.5409 - val_loss: 1.0106\n",
      "Time elapsed (hh:mm:ss.ms) 0:02:00.640902\n"
     ]
    }
   ],
   "source": [
    "startTime= datetime.now()\n",
    "print (\"startTime:\", startTime)\n",
    "history4 = model.fit([trn.userId, trn.movieId], trn.rating, batch_size=64, epochs=20, \n",
    "          validation_data=([val.userId, val.movieId], val.rating))\n",
    "timeElapsed=datetime.now()-startTime\n",
    "print('Time elapsed (hh:mm:ss.ms) {}'.format(timeElapsed))\n",
    "#ran with 10 epochs then again with 20 epochs"
   ]
  },
  {
   "cell_type": "code",
   "execution_count": 46,
   "metadata": {
    "hidden": true
   },
   "outputs": [
    {
     "name": "stdout",
     "output_type": "stream",
     "text": [
      "startTime: 2018-01-14 23:11:27.615962\n",
      "Train on 79978 samples, validate on 20026 samples\n",
      "Epoch 1/20\n",
      "79978/79978 [==============================] - 6s - loss: 0.5389 - val_loss: 1.0110\n",
      "Epoch 2/20\n",
      "79978/79978 [==============================] - 6s - loss: 0.5376 - val_loss: 1.0119\n",
      "Epoch 3/20\n",
      "79978/79978 [==============================] - 6s - loss: 0.5360 - val_loss: 1.0126\n",
      "Epoch 4/20\n",
      "79978/79978 [==============================] - 6s - loss: 0.5350 - val_loss: 1.0133\n",
      "Epoch 5/20\n",
      "79978/79978 [==============================] - 6s - loss: 0.5338 - val_loss: 1.0137\n",
      "Epoch 6/20\n",
      "79978/79978 [==============================] - 6s - loss: 0.5328 - val_loss: 1.0147\n",
      "Epoch 7/20\n",
      "79978/79978 [==============================] - 6s - loss: 0.5317 - val_loss: 1.0152\n",
      "Epoch 8/20\n",
      "79978/79978 [==============================] - 6s - loss: 0.5311 - val_loss: 1.0158\n",
      "Epoch 9/20\n",
      "79978/79978 [==============================] - 6s - loss: 0.5302 - val_loss: 1.0176\n",
      "Epoch 10/20\n",
      "79978/79978 [==============================] - 6s - loss: 0.5293 - val_loss: 1.0174\n",
      "Epoch 11/20\n",
      "79978/79978 [==============================] - 6s - loss: 0.5290 - val_loss: 1.0180\n",
      "Epoch 12/20\n",
      "79978/79978 [==============================] - 6s - loss: 0.5280 - val_loss: 1.0194\n",
      "Epoch 13/20\n",
      "79978/79978 [==============================] - 6s - loss: 0.5276 - val_loss: 1.0197\n",
      "Epoch 14/20\n",
      "79978/79978 [==============================] - 6s - loss: 0.5270 - val_loss: 1.0203\n",
      "Epoch 15/20\n",
      "79978/79978 [==============================] - 6s - loss: 0.5264 - val_loss: 1.0203\n",
      "Epoch 16/20\n",
      "79978/79978 [==============================] - 6s - loss: 0.5262 - val_loss: 1.0211\n",
      "Epoch 17/20\n",
      "79978/79978 [==============================] - 6s - loss: 0.5257 - val_loss: 1.0215\n",
      "Epoch 18/20\n",
      "79978/79978 [==============================] - 6s - loss: 0.5253 - val_loss: 1.0224\n",
      "Epoch 19/20\n",
      "79978/79978 [==============================] - 6s - loss: 0.5246 - val_loss: 1.0226\n",
      "Epoch 20/20\n",
      "79978/79978 [==============================] - 6s - loss: 0.5246 - val_loss: 1.0233\n",
      "Time elapsed (hh:mm:ss.ms) 0:02:00.805124\n"
     ]
    }
   ],
   "source": [
    "startTime= datetime.now()\n",
    "print (\"startTime:\", startTime)\n",
    "history5 = model.fit([trn.userId, trn.movieId], trn.rating, batch_size=64, epochs=20, \n",
    "          validation_data=([val.userId, val.movieId], val.rating))\n",
    "timeElapsed=datetime.now()-startTime\n",
    "print('Time elapsed (hh:mm:ss.ms) {}'.format(timeElapsed))\n",
    "\n",
    "#NB: video lecture val_loss is down to 0.7979 = refer lesson 5 @ 15\"07'\n",
    "#github results : loss: 0.5747 - val_loss: 0.7979\n",
    "#ran w 5 epochs, loss is stabilising around 0.523 val_loss stabilising around 1.03\n",
    "#quite different margins to the examples in github and video."
   ]
  },
  {
   "cell_type": "markdown",
   "metadata": {
    "hidden": true
   },
   "source": [
    "This result is quite a bit better than the best benchmarks that we could find with a quick google search - so looks like a great approach!"
   ]
  },
  {
   "cell_type": "code",
   "execution_count": null,
   "metadata": {
    "hidden": true
   },
   "outputs": [],
   "source": [
    "#model.save_weights(model_path+'bias.h5')"
   ]
  },
  {
   "cell_type": "code",
   "execution_count": null,
   "metadata": {
    "hidden": true
   },
   "outputs": [],
   "source": [
    "#model.load_weights(model_path+'bias.h5')"
   ]
  },
  {
   "cell_type": "markdown",
   "metadata": {
    "hidden": true
   },
   "source": [
    "We can use the model to generate predictions by passing a pair of ints - a user id and a movie id. For instance, this predicts that user #3 would really enjoy movie #6."
   ]
  },
  {
   "cell_type": "code",
   "execution_count": 47,
   "metadata": {
    "hidden": true
   },
   "outputs": [
    {
     "data": {
      "text/plain": [
       "array([[ 4.9757]], dtype=float32)"
      ]
     },
     "execution_count": 47,
     "metadata": {},
     "output_type": "execute_result"
    }
   ],
   "source": [
    "model.predict([np.array([3]), np.array([6])])"
   ]
  },
  {
   "cell_type": "markdown",
   "metadata": {
    "heading_collapsed": true
   },
   "source": [
    "## Analyze results"
   ]
  },
  {
   "cell_type": "markdown",
   "metadata": {
    "hidden": true
   },
   "source": [
    "To make the analysis of the factors more interesting, we'll restrict it to the top 2000 most popular movies."
   ]
  },
  {
   "cell_type": "code",
   "execution_count": 48,
   "metadata": {
    "hidden": true
   },
   "outputs": [],
   "source": [
    "g=ratings.groupby('movieId')['rating'].count()\n",
    "topMovies=g.sort_values(ascending=False)[:2000]\n",
    "topMovies = np.array(topMovies.index)"
   ]
  },
  {
   "cell_type": "markdown",
   "metadata": {
    "hidden": true
   },
   "source": [
    "First, we'll look at the movie bias term. We create a 'model' - which in keras is simply a way of associating one or more inputs with one more more outputs, using the functional API. Here, our input is the movie id (a single id), and the output is the movie bias (a single float)."
   ]
  },
  {
   "cell_type": "code",
   "execution_count": 49,
   "metadata": {},
   "outputs": [
    {
     "name": "stdout",
     "output_type": "stream",
     "text": [
      "<class 'tensorflow.python.framework.ops.Tensor'>\n",
      "<class 'tensorflow.python.framework.ops.Tensor'>\n",
      "<type 'numpy.ndarray'> (2000,)\n"
     ]
    }
   ],
   "source": [
    "print (type(movie_in))\n",
    "print (type(mb))\n",
    "print (type(topMovies), topMovies.shape)"
   ]
  },
  {
   "cell_type": "code",
   "execution_count": 50,
   "metadata": {
    "hidden": true
   },
   "outputs": [],
   "source": [
    "get_movie_bias = Model(movie_in, mb)\n",
    "#does a lookup in the movie bias table\n",
    "#keras.models.Model\n",
    "movie_bias = get_movie_bias.predict(topMovies)\n",
    "movie_ratings = [(b[0], movie_names[movies[i]]) for i,b in zip(topMovies,movie_bias)]"
   ]
  },
  {
   "cell_type": "markdown",
   "metadata": {
    "hidden": true
   },
   "source": [
    "Now we can look at the top and bottom rated movies. These ratings are corrected for different levels of reviewer sentiment, as well as different types of movies that different reviewers watch."
   ]
  },
  {
   "cell_type": "code",
   "execution_count": 51,
   "metadata": {
    "hidden": true
   },
   "outputs": [
    {
     "data": {
      "text/plain": [
       "[(-1.2772199, u'Police Academy 6: City Under Siege (1989)'),\n",
       " (-1.1417201, u'Battlefield Earth (2000)'),\n",
       " (-1.0027685, u'Jaws 3-D (1983)'),\n",
       " (-0.86897182, u'Speed 2: Cruise Control (1997)'),\n",
       " (-0.84511393, u'Super Mario Bros. (1993)'),\n",
       " (-0.76097083, u'Police Academy 5: Assignment: Miami Beach (1988)'),\n",
       " (-0.74831927, u'Spice World (1997)'),\n",
       " (-0.71563792, u'Police Academy 3: Back in Training (1986)'),\n",
       " (-0.66238481, u'Police Academy 4: Citizens on Patrol (1987)'),\n",
       " (-0.63593763, u'Mighty Morphin Power Rangers: The Movie (1995)'),\n",
       " (-0.61538118, u'Nutty Professor II: The Klumps (2000)'),\n",
       " (-0.61155975, u'Bio-Dome (1996)'),\n",
       " (-0.60907519, u'Honey, I Blew Up the Kid (1992)'),\n",
       " (-0.60264713, u'Blade: Trinity (2004)'),\n",
       " (-0.57534081, u'House on Haunted Hill (1999)')]"
      ]
     },
     "execution_count": 51,
     "metadata": {},
     "output_type": "execute_result"
    }
   ],
   "source": [
    "sorted(movie_ratings, key=itemgetter(0))[:15]"
   ]
  },
  {
   "cell_type": "code",
   "execution_count": 52,
   "metadata": {
    "hidden": true
   },
   "outputs": [
    {
     "data": {
      "text/plain": [
       "[(2.0757475, u'Killer, The (Die xue shuang xiong) (1989)'),\n",
       " (1.9769176, u'Tom Jones (1963)'),\n",
       " (1.9536529, u'Capturing the Friedmans (2003)'),\n",
       " (1.9302889, u'It Happened One Night (1934)'),\n",
       " (1.9213145, u'Wings of Desire (Himmel \\xfcber Berlin, Der) (1987)'),\n",
       " (1.8705131, u'Inherit the Wind (1960)'),\n",
       " (1.8425505, u'Big Night (1996)'),\n",
       " (1.8329078, u'Happiness (1998)'),\n",
       " (1.8275378, u'Lifeboat (1944)'),\n",
       " (1.8264905, u'Shawshank Redemption, The (1994)'),\n",
       " (1.8240407, u'Seventh Seal, The (Sjunde inseglet, Det) (1957)'),\n",
       " (1.807508, u'Cool Hand Luke (1967)'),\n",
       " (1.8051718, u'Ran (1985)'),\n",
       " (1.7984338, u'Paths of Glory (1957)'),\n",
       " (1.7913942, u'Godfather, The (1972)')]"
      ]
     },
     "execution_count": 52,
     "metadata": {},
     "output_type": "execute_result"
    }
   ],
   "source": [
    "sorted(movie_ratings, key=itemgetter(0), reverse=True)[:15]"
   ]
  },
  {
   "cell_type": "markdown",
   "metadata": {
    "hidden": true
   },
   "source": [
    "We can now do the same thing for the embeddings."
   ]
  },
  {
   "cell_type": "code",
   "execution_count": 53,
   "metadata": {
    "hidden": true
   },
   "outputs": [
    {
     "data": {
      "text/plain": [
       "(2000, 50)"
      ]
     },
     "execution_count": 53,
     "metadata": {},
     "output_type": "execute_result"
    }
   ],
   "source": [
    "get_movie_emb = Model(movie_in, m)\n",
    "movie_emb = np.squeeze(get_movie_emb.predict([topMovies]))\n",
    "movie_emb.shape"
   ]
  },
  {
   "cell_type": "markdown",
   "metadata": {
    "hidden": true
   },
   "source": [
    "Because it's hard to interpret 50 embeddings, we use [PCA](https://plot.ly/ipython-notebooks/principal-component-analysis/) to simplify them down to just 3 vectors. "
   ]
  },
  {
   "cell_type": "code",
   "execution_count": 54,
   "metadata": {
    "hidden": true
   },
   "outputs": [],
   "source": [
    "from sklearn.decomposition import PCA\n",
    "pca = PCA(n_components=3)\n",
    "movie_pca = pca.fit(movie_emb.T).components_"
   ]
  },
  {
   "cell_type": "code",
   "execution_count": 55,
   "metadata": {
    "hidden": true
   },
   "outputs": [],
   "source": [
    "fac0 = movie_pca[0]"
   ]
  },
  {
   "cell_type": "code",
   "execution_count": 56,
   "metadata": {
    "hidden": true
   },
   "outputs": [],
   "source": [
    "movie_comp = [(f, movie_names[movies[i]]) for f,i in zip(fac0, topMovies)]"
   ]
  },
  {
   "cell_type": "markdown",
   "metadata": {
    "hidden": true
   },
   "source": [
    "Here's the 1st component. It seems to be 'critically acclaimed' or 'classic'."
   ]
  },
  {
   "cell_type": "code",
   "execution_count": 57,
   "metadata": {
    "hidden": true
   },
   "outputs": [
    {
     "data": {
      "text/plain": [
       "[(0.10491909, u'Independence Day (a.k.a. ID4) (1996)'),\n",
       " (0.094077691, u'Armageddon (1998)'),\n",
       " (0.070668347, u'Titanic (1997)'),\n",
       " (0.069992647, u'Mission: Impossible II (2000)'),\n",
       " (0.068872124, u'Stargate (1994)'),\n",
       " (0.067476608, u'Pearl Harbor (2001)'),\n",
       " (0.067302592, u'X-Men (2000)'),\n",
       " (0.067247391, u'Shrek 2 (2004)'),\n",
       " (0.066668242, u'Batman Forever (1995)'),\n",
       " (0.065124035, u\"Pirates of the Caribbean: Dead Man's Chest (2006)\")]"
      ]
     },
     "execution_count": 57,
     "metadata": {},
     "output_type": "execute_result"
    }
   ],
   "source": [
    "sorted(movie_comp, key=itemgetter(0), reverse=True)[:10]"
   ]
  },
  {
   "cell_type": "code",
   "execution_count": 58,
   "metadata": {
    "hidden": true
   },
   "outputs": [
    {
     "data": {
      "text/plain": [
       "[(-0.11833423, u'Fargo (1996)'),\n",
       " (-0.11555812, u'2001: A Space Odyssey (1968)'),\n",
       " (-0.10885016, u'Pulp Fiction (1994)'),\n",
       " (-0.10580757, u'Taxi Driver (1976)'),\n",
       " (-0.083414704, u'Clockwork Orange, A (1971)'),\n",
       " (-0.082261533, u\"Amelie (Fabuleux destin d'Am\\xe9lie Poulain, Le) (2001)\"),\n",
       " (-0.080584325,\n",
       "  u'Dr. Strangelove or: How I Learned to Stop Worrying and Love the Bomb (1964)'),\n",
       " (-0.07677453, u'American Beauty (1999)'),\n",
       " (-0.075071856, u'Trainspotting (1996)'),\n",
       " (-0.071397908, u'Reservoir Dogs (1992)')]"
      ]
     },
     "execution_count": 58,
     "metadata": {},
     "output_type": "execute_result"
    }
   ],
   "source": [
    "sorted(movie_comp, key=itemgetter(0))[:10]"
   ]
  },
  {
   "cell_type": "code",
   "execution_count": 59,
   "metadata": {
    "hidden": true
   },
   "outputs": [],
   "source": [
    "fac1 = movie_pca[1]"
   ]
  },
  {
   "cell_type": "code",
   "execution_count": 60,
   "metadata": {
    "hidden": true
   },
   "outputs": [],
   "source": [
    "movie_comp = [(f, movie_names[movies[i]]) for f,i in zip(fac1, topMovies)]"
   ]
  },
  {
   "cell_type": "markdown",
   "metadata": {
    "hidden": true
   },
   "source": [
    "The 2nd is 'hollywood blockbuster'."
   ]
  },
  {
   "cell_type": "code",
   "execution_count": 61,
   "metadata": {
    "hidden": true
   },
   "outputs": [
    {
     "data": {
      "text/plain": [
       "[(0.18642278, u'Lord of the Rings: The Two Towers, The (2002)'),\n",
       " (0.15225933, u'Lord of the Rings: The Fellowship of the Ring, The (2001)'),\n",
       " (0.14310992, u'Lord of the Rings: The Return of the King, The (2003)'),\n",
       " (0.10836317, u'Matrix, The (1999)'),\n",
       " (0.10798652, u'Star Wars: Episode IV - A New Hope (1977)'),\n",
       " (0.10704716, u'Gladiator (2000)'),\n",
       " (0.10668633,\n",
       "  u'Raiders of the Lost Ark (Indiana Jones and the Raiders of the Lost Ark) (1981)'),\n",
       " (0.10336302, u'Silence of the Lambs, The (1991)'),\n",
       " (0.10309129, u'Back to the Future (1985)'),\n",
       " (0.10271803, u'Star Wars: Episode VI - Return of the Jedi (1983)')]"
      ]
     },
     "execution_count": 61,
     "metadata": {},
     "output_type": "execute_result"
    }
   ],
   "source": [
    "sorted(movie_comp, key=itemgetter(0), reverse=True)[:10]"
   ]
  },
  {
   "cell_type": "code",
   "execution_count": 62,
   "metadata": {
    "hidden": true,
    "scrolled": true
   },
   "outputs": [
    {
     "data": {
      "text/plain": [
       "[(-0.084039964, u'Life Is Beautiful (La Vita \\xe8 bella) (1997)'),\n",
       " (-0.062574811, u'Slumdog Millionaire (2008)'),\n",
       " (-0.059497856, u'Room with a View, A (1986)'),\n",
       " (-0.059186153, u'Hoop Dreams (1994)'),\n",
       " (-0.058974694, u'Postman, The (Postino, Il) (1994)'),\n",
       " (-0.057143301, u'Sabrina (1995)'),\n",
       " (-0.055993121, u'Charlie and the Chocolate Factory (2005)'),\n",
       " (-0.054115392, u'Christmas Story, A (1983)'),\n",
       " (-0.051421054, u'Bringing Up Baby (1938)'),\n",
       " (-0.050097223, u'Ransom (1996)')]"
      ]
     },
     "execution_count": 62,
     "metadata": {},
     "output_type": "execute_result"
    }
   ],
   "source": [
    "sorted(movie_comp, key=itemgetter(0))[:10]"
   ]
  },
  {
   "cell_type": "code",
   "execution_count": 63,
   "metadata": {
    "hidden": true
   },
   "outputs": [],
   "source": [
    "fac2 = movie_pca[2]"
   ]
  },
  {
   "cell_type": "code",
   "execution_count": 64,
   "metadata": {
    "hidden": true
   },
   "outputs": [],
   "source": [
    "movie_comp = [(f, movie_names[movies[i]]) for f,i in zip(fac2, topMovies)]"
   ]
  },
  {
   "cell_type": "markdown",
   "metadata": {
    "hidden": true
   },
   "source": [
    "The 3rd is 'violent vs happy'."
   ]
  },
  {
   "cell_type": "code",
   "execution_count": 65,
   "metadata": {
    "hidden": true
   },
   "outputs": [
    {
     "data": {
      "text/plain": [
       "[(0.1401501, u'Beauty and the Beast (1991)'),\n",
       " (0.12655284, u\"Schindler's List (1993)\"),\n",
       " (0.12467088, u'Babe (1995)'),\n",
       " (0.11423202, u'Aladdin (1992)'),\n",
       " (0.10233188, u'Shrek (2001)'),\n",
       " (0.090903409,\n",
       "  u'Pirates of the Caribbean: The Curse of the Black Pearl (2003)'),\n",
       " (0.090695955, u'Apollo 13 (1995)'),\n",
       " (0.084689245, u'Wallace & Gromit: The Wrong Trousers (1993)'),\n",
       " (0.08445058, u'Toy Story 2 (1999)'),\n",
       " (0.081783719, u'Grease (1978)')]"
      ]
     },
     "execution_count": 65,
     "metadata": {},
     "output_type": "execute_result"
    }
   ],
   "source": [
    "sorted(movie_comp, key=itemgetter(0), reverse=True)[:10]"
   ]
  },
  {
   "cell_type": "code",
   "execution_count": 66,
   "metadata": {
    "hidden": true
   },
   "outputs": [
    {
     "data": {
      "text/plain": [
       "[(-0.096844494, u'American Psycho (2000)'),\n",
       " (-0.093116529, u'Demolition Man (1993)'),\n",
       " (-0.089347281, u'Natural Born Killers (1994)'),\n",
       " (-0.088586688, u'Eyes Wide Shut (1999)'),\n",
       " (-0.085062712, u'Stargate (1994)'),\n",
       " (-0.08111202, u'Game, The (1997)'),\n",
       " (-0.073350981, u'Happy Gilmore (1996)'),\n",
       " (-0.069650687, u'Seven (a.k.a. Se7en) (1995)'),\n",
       " (-0.068812303, u'Lost in Translation (2003)'),\n",
       " (-0.065308847, u'Heathers (1989)')]"
      ]
     },
     "execution_count": 66,
     "metadata": {},
     "output_type": "execute_result"
    }
   ],
   "source": [
    "sorted(movie_comp, key=itemgetter(0))[:10]"
   ]
  },
  {
   "cell_type": "markdown",
   "metadata": {
    "hidden": true
   },
   "source": [
    "We can draw a picture to see how various movies appear on the map of these components. This picture shows the 1st and 3rd components."
   ]
  },
  {
   "cell_type": "code",
   "execution_count": 67,
   "metadata": {
    "hidden": true
   },
   "outputs": [],
   "source": [
    "import sys\n",
    "stdout, stderr = sys.stdout, sys.stderr # save notebook stdout and stderr\n",
    "reload(sys)\n",
    "sys.setdefaultencoding('utf-8')\n",
    "sys.stdout, sys.stderr = stdout, stderr # restore notebook stdout and stderr\n"
   ]
  },
  {
   "cell_type": "code",
   "execution_count": 68,
   "metadata": {},
   "outputs": [
    {
     "name": "stdout",
     "output_type": "stream",
     "text": [
      "<type 'numpy.ndarray'> (50,)\n",
      "<type 'numpy.ndarray'> (50,)\n",
      "<type 'numpy.ndarray'> (2000,)\n"
     ]
    }
   ],
   "source": [
    "start=50; end=100\n",
    "X = fac0[start:end]\n",
    "Y = fac2[start:end]\n",
    "print (type(X), X.shape)\n",
    "print (type(Y), Y.shape)\n",
    "\n",
    "print (type(topMovies), topMovies.shape)"
   ]
  },
  {
   "cell_type": "code",
   "execution_count": 69,
   "metadata": {
    "hidden": true
   },
   "outputs": [
    {
     "data": {
      "image/png": "[encoded data removed]",
      "text/plain": [
       "<matplotlib.figure.Figure at 0x7f7c4710ac90>"
      ]
     },
     "metadata": {},
     "output_type": "display_data"
    }
   ],
   "source": [
    "plt.figure(figsize=(15,15))\n",
    "plt.scatter(X, Y)\n",
    "for i, x, y in zip(topMovies[start:end], X, Y):\n",
    "    plt.text(x,y,movie_names[movies[i]], color=np.random.rand(3)*0.7, fontsize=14)\n",
    "    #print (x,y,movies[i], movie_names[movies[i]])\n",
    "    #plt.text(x,y,movie_names[movies[i]], color='red', fontsize=14)\n",
    "plt.show()"
   ]
  },
  {
   "cell_type": "markdown",
   "metadata": {},
   "source": [
    "##  Neural net"
   ]
  },
  {
   "cell_type": "markdown",
   "metadata": {},
   "source": [
    "Rather than creating a special purpose architecture (like our dot-product with bias earlier), it's often both easier and more accurate to use a standard neural network. Let's try it! Here, we simply concatenate the user and movie embeddings into a single vector, which we feed into the neural net."
   ]
  },
  {
   "cell_type": "code",
   "execution_count": 70,
   "metadata": {},
   "outputs": [
    {
     "name": "stdout",
     "output_type": "stream",
     "text": [
      "user_in: <class 'tensorflow.python.framework.ops.Tensor'>\n",
      "movie_in: <class 'tensorflow.python.framework.ops.Tensor'>\n",
      "u: <class 'tensorflow.python.framework.ops.Tensor'>\n",
      "m: <class 'tensorflow.python.framework.ops.Tensor'>\n"
     ]
    },
    {
     "name": "stderr",
     "output_type": "stream",
     "text": [
      "/usr/local/lib/python2.7/dist-packages/ipykernel_launcher.py:3: UserWarning: Update your `Embedding` call to the Keras 2 API: `Embedding(671, 50, embeddings_regularizer=<keras.reg..., input_length=1)`\n",
      "  This is separate from the ipykernel package so we can avoid doing imports until\n",
      "/usr/local/lib/python2.7/dist-packages/ipykernel_launcher.py:3: UserWarning: Update your `Embedding` call to the Keras 2 API: `Embedding(9066, 50, embeddings_regularizer=<keras.reg..., input_length=1)`\n",
      "  This is separate from the ipykernel package so we can avoid doing imports until\n"
     ]
    }
   ],
   "source": [
    "user_in, u = embedding_input('user_in', n_users, n_factors, 1e-4)\n",
    "movie_in, m = embedding_input('movie_in', n_movies, n_factors, 1e-4)\n",
    "print (\"user_in:\", type(user_in))\n",
    "print (\"movie_in:\", type(movie_in))\n",
    "print (\"u:\", type(u))\n",
    "print (\"m:\", type(m))"
   ]
  },
  {
   "cell_type": "code",
   "execution_count": 71,
   "metadata": {},
   "outputs": [
    {
     "name": "stdout",
     "output_type": "stream",
     "text": [
      "x: <class 'tensorflow.python.framework.ops.Tensor'>\n",
      "nn: <class 'keras.engine.training.Model'> <type 'list'>\n",
      "type(nn.layers[0]: <class 'keras.engine.topology.InputLayer'>\n",
      "____________________________________________________________________________________________________\n",
      "Layer (type)                     Output Shape          Param #     Connected to                     \n",
      "====================================================================================================\n",
      "user_in (InputLayer)             (None, 1)             0                                            \n",
      "____________________________________________________________________________________________________\n",
      "movie_in (InputLayer)            (None, 1)             0                                            \n",
      "____________________________________________________________________________________________________\n",
      "embedding_7 (Embedding)          (None, 1, 50)         33550       user_in[0][0]                    \n",
      "____________________________________________________________________________________________________\n",
      "embedding_8 (Embedding)          (None, 1, 50)         453300      movie_in[0][0]                   \n",
      "____________________________________________________________________________________________________\n",
      "merge_5 (Merge)                  (None, 1, 100)        0           embedding_7[0][0]                \n",
      "                                                                   embedding_8[0][0]                \n",
      "____________________________________________________________________________________________________\n",
      "flatten_5 (Flatten)              (None, 100)           0           merge_5[0][0]                    \n",
      "____________________________________________________________________________________________________\n",
      "dropout_1 (Dropout)              (None, 100)           0           flatten_5[0][0]                  \n",
      "____________________________________________________________________________________________________\n",
      "dense_1 (Dense)                  (None, 70)            7070        dropout_1[0][0]                  \n",
      "____________________________________________________________________________________________________\n",
      "dropout_2 (Dropout)              (None, 70)            0           dense_1[0][0]                    \n",
      "____________________________________________________________________________________________________\n",
      "dense_2 (Dense)                  (None, 1)             71          dropout_2[0][0]                  \n",
      "====================================================================================================\n",
      "Total params: 493,991\n",
      "Trainable params: 493,991\n",
      "Non-trainable params: 0\n",
      "____________________________________________________________________________________________________\n",
      "None\n"
     ]
    },
    {
     "name": "stderr",
     "output_type": "stream",
     "text": [
      "/usr/local/lib/python2.7/dist-packages/ipykernel_launcher.py:1: UserWarning: The `merge` function is deprecated and will be removed after 08/2017. Use instead layers from `keras.layers.merge`, e.g. `add`, `concatenate`, etc.\n",
      "  \"\"\"Entry point for launching an IPython kernel.\n"
     ]
    }
   ],
   "source": [
    "x = merge([u, m], mode='concat')\n",
    "print (\"x:\", type(x))\n",
    "x = Flatten()(x)\n",
    "x = Dropout(0.3)(x)\n",
    "x = Dense(70, activation='relu')(x)\n",
    "x = Dropout(0.75)(x)\n",
    "x = Dense(1)(x)\n",
    "nn = Model([user_in, movie_in], x)\n",
    "print (\"nn:\", type(nn), type(nn.layers))\n",
    "print (\"type(nn.layers[0]:\", type(nn.layers[0]))\n",
    "print (nn.summary())\n",
    "nn.compile(Adam(0.001), loss='mse')"
   ]
  },
  {
   "cell_type": "code",
   "execution_count": 73,
   "metadata": {},
   "outputs": [
    {
     "name": "stdout",
     "output_type": "stream",
     "text": [
      "Train on 79978 samples, validate on 20026 samples\n",
      "Epoch 1/40\n",
      " 2048/79978 [..............................] - ETA: 6s - loss: 1.2661"
     ]
    },
    {
     "name": "stderr",
     "output_type": "stream",
     "text": [
      "/usr/local/lib/python2.7/dist-packages/ipykernel_launcher.py:2: UserWarning: The `nb_epoch` argument in `fit` has been renamed `epochs`.\n",
      "  \n"
     ]
    },
    {
     "name": "stdout",
     "output_type": "stream",
     "text": [
      "79978/79978 [==============================] - 6s - loss: 1.2504 - val_loss: 0.8686\n",
      "Epoch 2/40\n",
      "79978/79978 [==============================] - 6s - loss: 1.0617 - val_loss: 0.8489\n",
      "Epoch 3/40\n",
      "79978/79978 [==============================] - 6s - loss: 0.9382 - val_loss: 0.8391\n",
      "Epoch 4/40\n",
      "79978/79978 [==============================] - 6s - loss: 0.8611 - val_loss: 0.8264\n",
      "Epoch 5/40\n",
      "79978/79978 [==============================] - 6s - loss: 0.8251 - val_loss: 0.8238\n",
      "Epoch 6/40\n",
      "79978/79978 [==============================] - 6s - loss: 0.8167 - val_loss: 0.8246\n",
      "Epoch 7/40\n",
      "79978/79978 [==============================] - 6s - loss: 0.8070 - val_loss: 0.8274\n",
      "Epoch 8/40\n",
      "79978/79978 [==============================] - 6s - loss: 0.8019 - val_loss: 0.8212\n",
      "Epoch 9/40\n",
      "79978/79978 [==============================] - 6s - loss: 0.8002 - val_loss: 0.8224\n",
      "Epoch 10/40\n",
      "79978/79978 [==============================] - 6s - loss: 0.7985 - val_loss: 0.8253\n",
      "Epoch 11/40\n",
      "79978/79978 [==============================] - 6s - loss: 0.7990 - val_loss: 0.8253\n",
      "Epoch 12/40\n",
      "79978/79978 [==============================] - 6s - loss: 0.7965 - val_loss: 0.8246\n",
      "Epoch 13/40\n",
      "79978/79978 [==============================] - 6s - loss: 0.7941 - val_loss: 0.8237\n",
      "Epoch 14/40\n",
      "79978/79978 [==============================] - 6s - loss: 0.7925 - val_loss: 0.8256\n",
      "Epoch 15/40\n",
      "79978/79978 [==============================] - 6s - loss: 0.7968 - val_loss: 0.8263\n",
      "Epoch 16/40\n",
      "79978/79978 [==============================] - 6s - loss: 0.7911 - val_loss: 0.8265\n",
      "Epoch 17/40\n",
      "79978/79978 [==============================] - 6s - loss: 0.7896 - val_loss: 0.8279\n",
      "Epoch 18/40\n",
      "79978/79978 [==============================] - 6s - loss: 0.7910 - val_loss: 0.8236\n",
      "Epoch 19/40\n",
      "79978/79978 [==============================] - 6s - loss: 0.7886 - val_loss: 0.8258\n",
      "Epoch 20/40\n",
      "79978/79978 [==============================] - 6s - loss: 0.7887 - val_loss: 0.8259\n",
      "Epoch 21/40\n",
      "79978/79978 [==============================] - 6s - loss: 0.7886 - val_loss: 0.8264\n",
      "Epoch 22/40\n",
      "79978/79978 [==============================] - 6s - loss: 0.7868 - val_loss: 0.8210\n",
      "Epoch 23/40\n",
      "79978/79978 [==============================] - 6s - loss: 0.7862 - val_loss: 0.8241\n",
      "Epoch 24/40\n",
      "79978/79978 [==============================] - 6s - loss: 0.7875 - val_loss: 0.8221\n",
      "Epoch 25/40\n",
      "79978/79978 [==============================] - 6s - loss: 0.7896 - val_loss: 0.8241\n",
      "Epoch 26/40\n",
      "79978/79978 [==============================] - 6s - loss: 0.7900 - val_loss: 0.8224\n",
      "Epoch 27/40\n",
      "79978/79978 [==============================] - 6s - loss: 0.7867 - val_loss: 0.8275\n",
      "Epoch 28/40\n",
      "79978/79978 [==============================] - 6s - loss: 0.7876 - val_loss: 0.8245\n",
      "Epoch 29/40\n",
      "79978/79978 [==============================] - 6s - loss: 0.7831 - val_loss: 0.8245\n",
      "Epoch 30/40\n",
      "79978/79978 [==============================] - 6s - loss: 0.7843 - val_loss: 0.8254\n",
      "Epoch 31/40\n",
      "79978/79978 [==============================] - 6s - loss: 0.7866 - val_loss: 0.8265\n",
      "Epoch 32/40\n",
      "79978/79978 [==============================] - 6s - loss: 0.7878 - val_loss: 0.8231\n",
      "Epoch 33/40\n",
      "79978/79978 [==============================] - 6s - loss: 0.7852 - val_loss: 0.8238\n",
      "Epoch 34/40\n",
      "79978/79978 [==============================] - 6s - loss: 0.7857 - val_loss: 0.8222\n",
      "Epoch 35/40\n",
      "79978/79978 [==============================] - 6s - loss: 0.7852 - val_loss: 0.8254\n",
      "Epoch 36/40\n",
      "79978/79978 [==============================] - 6s - loss: 0.7827 - val_loss: 0.8225\n",
      "Epoch 37/40\n",
      "79978/79978 [==============================] - 6s - loss: 0.7841 - val_loss: 0.8240\n",
      "Epoch 38/40\n",
      "79978/79978 [==============================] - 6s - loss: 0.7859 - val_loss: 0.8217\n",
      "Epoch 39/40\n",
      "79978/79978 [==============================] - 6s - loss: 0.7836 - val_loss: 0.8219\n",
      "Epoch 40/40\n",
      "79978/79978 [==============================] - 6s - loss: 0.7855 - val_loss: 0.8226\n"
     ]
    }
   ],
   "source": [
    "history6 = nn.fit([trn.userId, trn.movieId], trn.rating, batch_size=64, epochs=40, \n",
    "          validation_data=([val.userId, val.movieId], val.rating))\n",
    "\n",
    "#lesson 5 video @ 15\"15' returned val_loss 0.7943"
   ]
  },
  {
   "cell_type": "markdown",
   "metadata": {},
   "source": [
    "This improves on our already impressive accuracy even further!\n",
    "\n",
    "Epoch 8/8\n",
    "79907/79907 [==============================] - 13s - loss: 0.8087 - val_loss: 0.8274\n",
    "\n",
    "after 8 epochs : loss: 0.8078 - val_loss: 0.8307\n",
    "running again w 2- epochs : "
   ]
  }
 ],
 "metadata": {
  "kernelspec": {
   "display_name": "Python 2",
   "language": "python",
   "name": "python2"
  },
  "language_info": {
   "codemirror_mode": {
    "name": "ipython",
    "version": 2
   },
   "file_extension": ".py",
   "mimetype": "text/x-python",
   "name": "python",
   "nbconvert_exporter": "python",
   "pygments_lexer": "ipython2",
   "version": "2.7.12"
  }
 },
 "nbformat": 4,
 "nbformat_minor": 1
}
