{
 "cells": [
  {
   "cell_type": "code",
   "execution_count": 1,
   "metadata": {},
   "outputs": [],
   "source": [
    "#based on\n",
    "#https://machinelearningmastery.com/time-series-forecasting-long-short-term-memory-network-python/\n",
    "#https://datamarket.com/data/set/22r0/sales-of-shampoo-over-a-three-year-period#!ds=22r0&display=line\n",
    "\n",
    "#Transform Time Series to Scale"
   ]
  },
  {
   "cell_type": "code",
   "execution_count": 2,
   "metadata": {},
   "outputs": [],
   "source": [
    "DATA_DIR = \"/home/ubuntu/fastai/data/\""
   ]
  },
  {
   "cell_type": "code",
   "execution_count": 7,
   "metadata": {},
   "outputs": [],
   "source": [
    "# load and plot dataset\n",
    "from pandas import read_csv\n",
    "from pandas import datetime\n",
    "from pandas import DataFrame\n",
    "from pandas import concat\n",
    "from matplotlib import pyplot\n",
    "from pandas import Series\n",
    "\n",
    "from math import sqrt\n",
    "\n",
    "from sklearn.metrics import mean_squared_error\n",
    "from sklearn.preprocessing import MinMaxScaler"
   ]
  },
  {
   "cell_type": "code",
   "execution_count": 4,
   "metadata": {},
   "outputs": [],
   "source": [
    "# load dataset\n",
    "def parser(x):\n",
    "    return datetime.strptime('190'+x, '%Y-%m')\n"
   ]
  },
  {
   "cell_type": "code",
   "execution_count": 5,
   "metadata": {
    "scrolled": false
   },
   "outputs": [
    {
     "name": "stdout",
     "output_type": "stream",
     "text": [
      "Month\n",
      "1901-01-01    266.0\n",
      "1901-02-01    145.9\n",
      "1901-03-01    183.1\n",
      "1901-04-01    119.3\n",
      "1901-05-01    180.3\n",
      "Name: Sales, dtype: float64\n",
      "(36,)\n"
     ]
    }
   ],
   "source": [
    "series = read_csv(DATA_DIR+'shampoo_sales.csv', header=0, parse_dates=[0], index_col=0, squeeze=True, date_parser=parser)\n",
    "# summarize first few rows\n",
    "print(series.head())\n",
    "print (series.shape)"
   ]
  },
  {
   "cell_type": "code",
   "execution_count": 14,
   "metadata": {},
   "outputs": [
    {
     "name": "stdout",
     "output_type": "stream",
     "text": [
      "type(X): <class 'numpy.ndarray'> (36,)\n",
      "type(X): <class 'numpy.ndarray'> (36, 1)\n",
      "scaler: <class 'sklearn.preprocessing.data.MinMaxScaler'>\n",
      "scaled_X: <class 'numpy.ndarray'> (36, 1)\n",
      "scaled_series: <class 'pandas.core.series.Series'> (36,)\n",
      "0   -0.478585\n",
      "1   -0.905456\n",
      "2   -0.773236\n",
      "3   -1.000000\n",
      "4   -0.783188\n",
      "dtype: float64\n"
     ]
    }
   ],
   "source": [
    "# transform scale\n",
    "X = series.values\n",
    "print (\"type(X):\", type(X), X.shape)\n",
    "X = X.reshape(len(X), 1)\n",
    "print (\"type(X):\", type(X), X.shape)\n",
    "\n",
    "scaler = MinMaxScaler(feature_range=(-1, 1))\n",
    "#http://scikit-learn.org/stable/modules/generated/sklearn.preprocessing.MinMaxScaler.html\n",
    "#http://scikit-learn.org/stable/modules/preprocessing.html#preprocessing-scaler\n",
    "\n",
    "#MinMaxScaler(feature_range=(0, 1), copy=True)\n",
    "#Transforms features by scaling each feature to a given range.\n",
    "\n",
    "scaler = scaler.fit(X)\n",
    "print (\"scaler:\", type(scaler))\n",
    "scaled_X = scaler.transform(X)\n",
    "print (\"scaled_X:\", type(scaled_X), scaled_X.shape)\n",
    "scaled_series = Series(scaled_X[:, 0])\n",
    "print (\"scaled_series:\", type(scaled_series), scaled_series.shape)\n",
    "print(scaled_series.head())"
   ]
  },
  {
   "cell_type": "code",
   "execution_count": 17,
   "metadata": {},
   "outputs": [
    {
     "name": "stdout",
     "output_type": "stream",
     "text": [
      "inverted_X: <class 'numpy.ndarray'> (36, 1)\n",
      "0    266.0\n",
      "1    145.9\n",
      "2    183.1\n",
      "3    119.3\n",
      "4    180.3\n",
      "dtype: float64\n"
     ]
    }
   ],
   "source": [
    "# invert transform\n",
    "inverted_X = scaler.inverse_transform(scaled_X)\n",
    "#scaler.inverse_transform : reverses the effects of scaler.transform. \n",
    "#nb: scaler = scaler.fit(X) and scaler = MinMaxScaler(feature_range=(-1, 1))\n",
    "print (\"inverted_X:\", type(inverted_X), inverted_X.shape)\n",
    "inverted_series = Series(inverted_X[:, 0])\n",
    "print(inverted_series.head())"
   ]
  },
  {
   "cell_type": "code",
   "execution_count": null,
   "metadata": {},
   "outputs": [],
   "source": [
    "#original data returned."
   ]
  }
 ],
 "metadata": {
  "kernelspec": {
   "display_name": "Python 3",
   "language": "python",
   "name": "python3"
  },
  "language_info": {
   "codemirror_mode": {
    "name": "ipython",
    "version": 3
   },
   "file_extension": ".py",
   "mimetype": "text/x-python",
   "name": "python",
   "nbconvert_exporter": "python",
   "pygments_lexer": "ipython3",
   "version": "3.5.2"
  }
 },
 "nbformat": 4,
 "nbformat_minor": 2
}
