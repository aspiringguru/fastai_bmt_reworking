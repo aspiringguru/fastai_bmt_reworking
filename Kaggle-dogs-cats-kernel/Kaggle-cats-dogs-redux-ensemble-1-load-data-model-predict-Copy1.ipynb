{
 "cells": [
  {
   "cell_type": "code",
   "execution_count": 1,
   "metadata": {},
   "outputs": [],
   "source": [
    "#NB: refer start of video 4 and start of video 5"
   ]
  },
  {
   "cell_type": "code",
   "execution_count": 2,
   "metadata": {},
   "outputs": [],
   "source": [
    "sample_or_prod = False #True = sample, False = production\n",
    "\n",
    "batch_size = 64 #ajust to suit memory capacity of hardware."
   ]
  },
  {
   "cell_type": "code",
   "execution_count": 3,
   "metadata": {},
   "outputs": [
    {
     "name": "stderr",
     "output_type": "stream",
     "text": [
      "WARNING (theano.sandbox.cuda): The cuda backend is deprecated and will be removed in the next release (v0.10).  Please switch to the gpuarray backend. You can get more information about how to switch at this URL:\n",
      " https://github.com/Theano/Theano/wiki/Converting-to-the-new-gpu-back-end%28gpuarray%29\n",
      "\n",
      "Using gpu device 0: Tesla K80 (CNMeM is disabled, cuDNN 5110)\n",
      "WARNING (theano.sandbox.cuda): The cuda backend is deprecated and will be removed in the next release (v0.10).  Please switch to the gpuarray backend. You can get more information about how to switch at this URL:\n",
      " https://github.com/Theano/Theano/wiki/Converting-to-the-new-gpu-back-end%28gpuarray%29\n",
      "\n"
     ]
    }
   ],
   "source": [
    "from theano.sandbox import cuda\n",
    "cuda.use('gpu0')"
   ]
  },
  {
   "cell_type": "code",
   "execution_count": 4,
   "metadata": {},
   "outputs": [
    {
     "name": "stdout",
     "output_type": "stream",
     "text": [
      "WORKING_DATA: /home/ubuntu/fastai/data/Kaggle_dogs-vs-cats-redux-kernels-edition/\n",
      "WORKING_TEST: /home/ubuntu/fastai/data/Kaggle_dogs-vs-cats-redux-kernels-edition/test/\n",
      "WORKING_TRAIN: /home/ubuntu/fastai/data/Kaggle_dogs-vs-cats-redux-kernels-edition/train/\n",
      "WORKING_VALID: /home/ubuntu/fastai/data/Kaggle_dogs-vs-cats-redux-kernels-edition/valid/\n",
      "s_or_p: _prod_\n"
     ]
    }
   ],
   "source": [
    "HOMEPATH = \"/home/ubuntu/fastai/\"\n",
    "\n",
    "DATA_PATH = HOMEPATH+\"data/Kaggle_dogs-vs-cats-redux-kernels-edition/\"\n",
    "\n",
    "MODEL_PATH = DATA_PATH+\"models/\"\n",
    "RESULTS_PATH = DATA_PATH+\"results/\"\n",
    "\n",
    "\n",
    "SAMPLE_DATA_PATH = DATA_PATH + \"sample/\"#choose this for testing or above for production\n",
    "SAMPLE_TEST_PATH = SAMPLE_DATA_PATH+\"test/\"\n",
    "SAMPLE_TRAIN_PATH = SAMPLE_DATA_PATH + \"train/\"\n",
    "SAMPLE_VALID_PATH = SAMPLE_DATA_PATH + \"valid/\"\n",
    "\n",
    "\n",
    "TEST_PATH = DATA_PATH+\"test/\"\n",
    "TRAIN_PATH = DATA_PATH + \"train/\"\n",
    "VALID_PATH = DATA_PATH + \"valid/\"\n",
    "\n",
    "\n",
    "if sample_or_prod:\n",
    "    WORKING_DATA  = SAMPLE_DATA_PATH\n",
    "    WORKING_TEST  = SAMPLE_TEST_PATH\n",
    "    WORKING_TRAIN = SAMPLE_TRAIN_PATH\n",
    "    WORKING_VALID = SAMPLE_VALID_PATH\n",
    "    s_or_p = \"_sample_\"\n",
    "else:\n",
    "    WORKING_DATA  = DATA_PATH\n",
    "    WORKING_TEST  = TEST_PATH\n",
    "    WORKING_TRAIN = TRAIN_PATH\n",
    "    WORKING_VALID = VALID_PATH\n",
    "    s_or_p = \"_prod_\"\n",
    "\n",
    "    \n",
    "print \"WORKING_DATA:\", WORKING_DATA\n",
    "print \"WORKING_TEST:\", WORKING_TEST\n",
    "print \"WORKING_TRAIN:\", WORKING_TRAIN\n",
    "print \"WORKING_VALID:\", WORKING_VALID\n",
    "print \"s_or_p:\", s_or_p\n"
   ]
  },
  {
   "cell_type": "code",
   "execution_count": 5,
   "metadata": {},
   "outputs": [],
   "source": [
    "import os\n",
    "from datetime import datetime\n",
    "from glob import glob\n",
    "from random import shuffle\n",
    "from shutil import copyfile\n",
    "import inspect  #this is used to introspect attributes of an object. Using because keras documentation is poor."
   ]
  },
  {
   "cell_type": "code",
   "execution_count": 6,
   "metadata": {},
   "outputs": [
    {
     "name": "stdout",
     "output_type": "stream",
     "text": [
      "('os.getcwd:', '/home/ubuntu/fastai')\n"
     ]
    },
    {
     "name": "stderr",
     "output_type": "stream",
     "text": [
      "Using Theano backend.\n"
     ]
    }
   ],
   "source": [
    "os.chdir(HOMEPATH)\n",
    "print (\"os.getcwd:\", os.getcwd())\n",
    "# Rather than importing everything manually, we'll make things easy\n",
    "#   and load them all in utils.py, and just import them from there.\n",
    "%matplotlib inline\n",
    "import utils; reload(utils)\n",
    "from utils import *\n",
    "from __future__ import division, print_function"
   ]
  },
  {
   "cell_type": "code",
   "execution_count": 7,
   "metadata": {},
   "outputs": [
    {
     "name": "stdout",
     "output_type": "stream",
     "text": [
      "/home/ubuntu/fastai/data/Kaggle_dogs-vs-cats-redux-kernels-edition\n",
      "\u001b[01;34m.\u001b[00m\n",
      "├── \u001b[01;34mmodels\u001b[00m\n",
      "│   ├── \u001b[01;34mtest_data.bc\u001b[00m\n",
      "│   │   ├── \u001b[01;34mdata\u001b[00m\n",
      "│   │   └── \u001b[01;34mmeta\u001b[00m\n",
      "│   ├── \u001b[01;34mtrain_convlayer_features_prod_.bc\u001b[00m\n",
      "│   │   ├── \u001b[01;34mdata\u001b[00m\n",
      "│   │   └── \u001b[01;34mmeta\u001b[00m\n",
      "│   ├── \u001b[01;34mtrain_convlayer_features_sample_.bc\u001b[00m\n",
      "│   │   ├── \u001b[01;34mdata\u001b[00m\n",
      "│   │   └── \u001b[01;34mmeta\u001b[00m\n",
      "│   ├── \u001b[01;34mtrain_data_prod_.bc\u001b[00m\n",
      "│   │   ├── \u001b[01;34mdata\u001b[00m\n",
      "│   │   └── \u001b[01;34mmeta\u001b[00m\n",
      "│   ├── \u001b[01;34mtrain_data_sample_.bc\u001b[00m\n",
      "│   │   ├── \u001b[01;34mdata\u001b[00m\n",
      "│   │   └── \u001b[01;34mmeta\u001b[00m\n",
      "│   ├── \u001b[01;34mtrain_ll_feat.bc\u001b[00m\n",
      "│   │   ├── \u001b[01;34mdata\u001b[00m\n",
      "│   │   └── \u001b[01;34mmeta\u001b[00m\n",
      "│   ├── \u001b[01;34mvalid_convlayer_features_prod_.bc\u001b[00m\n",
      "│   │   ├── \u001b[01;34mdata\u001b[00m\n",
      "│   │   └── \u001b[01;34mmeta\u001b[00m\n",
      "│   ├── \u001b[01;34mvalid_convlayer_features_sample_.bc\u001b[00m\n",
      "│   │   ├── \u001b[01;34mdata\u001b[00m\n",
      "│   │   └── \u001b[01;34mmeta\u001b[00m\n",
      "│   ├── \u001b[01;34mvalid_data_prod_.bc\u001b[00m\n",
      "│   │   ├── \u001b[01;34mdata\u001b[00m\n",
      "│   │   └── \u001b[01;34mmeta\u001b[00m\n",
      "│   ├── \u001b[01;34mvalid_data_sample_.bc\u001b[00m\n",
      "│   │   ├── \u001b[01;34mdata\u001b[00m\n",
      "│   │   └── \u001b[01;34mmeta\u001b[00m\n",
      "│   └── \u001b[01;34mvalid_ll_feat.bc\u001b[00m\n",
      "│       ├── \u001b[01;34mdata\u001b[00m\n",
      "│       └── \u001b[01;34mmeta\u001b[00m\n",
      "├── \u001b[01;34mresults\u001b[00m\n",
      "├── \u001b[01;34msample\u001b[00m\n",
      "│   ├── \u001b[01;34mtest\u001b[00m\n",
      "│   │   └── \u001b[01;34munknown\u001b[00m\n",
      "│   ├── \u001b[01;34mtrain\u001b[00m\n",
      "│   │   ├── \u001b[01;34mcat\u001b[00m\n",
      "│   │   └── \u001b[01;34mdog\u001b[00m\n",
      "│   └── \u001b[01;34mvalid\u001b[00m\n",
      "│       ├── \u001b[01;34mcat\u001b[00m\n",
      "│       └── \u001b[01;34mdog\u001b[00m\n",
      "├── \u001b[01;34mtest\u001b[00m\n",
      "│   └── \u001b[01;34munknown\u001b[00m\n",
      "├── \u001b[01;34mtrain\u001b[00m\n",
      "│   ├── \u001b[01;34mcat\u001b[00m\n",
      "│   └── \u001b[01;34mdog\u001b[00m\n",
      "└── \u001b[01;34mvalid\u001b[00m\n",
      "    ├── \u001b[01;34mcat\u001b[00m\n",
      "    └── \u001b[01;34mdog\u001b[00m\n",
      "\n",
      "52 directories\n"
     ]
    }
   ],
   "source": [
    "os.chdir(DATA_PATH)\n",
    "print (os.getcwd())\n",
    "!tree -d"
   ]
  },
  {
   "cell_type": "code",
   "execution_count": 8,
   "metadata": {},
   "outputs": [],
   "source": [
    "CATEGORIES = ['cat/', 'dog/']#nb: do not change order or trailing slash\n",
    "UNKNOWN = 'unknown/'\n"
   ]
  },
  {
   "cell_type": "code",
   "execution_count": 9,
   "metadata": {},
   "outputs": [],
   "source": [
    "DATA_DIR_LIST = [DATA_PATH, SAMPLE_DATA_PATH, SAMPLE_TEST_PATH, SAMPLE_TEST_PATH+UNKNOWN, SAMPLE_TRAIN_PATH, \n",
    "                 SAMPLE_VALID_PATH, TEST_PATH, TEST_PATH+UNKNOWN, TRAIN_PATH, VALID_PATH, MODEL_PATH, RESULTS_PATH]\n",
    "\n",
    "\n",
    "\n",
    "for category in CATEGORIES:\n",
    "    DATA_DIR_LIST.append(TRAIN_PATH+category)\n",
    "    DATA_DIR_LIST.append(VALID_PATH+category)\n",
    "    DATA_DIR_LIST.append(SAMPLE_TRAIN_PATH+category)\n",
    "    DATA_DIR_LIST.append(SAMPLE_VALID_PATH+category)\n",
    "\n",
    "\n",
    "#delete the variables we don't need to prevent accidental use.\n",
    "del SAMPLE_DATA_PATH\n",
    "del SAMPLE_TEST_PATH\n",
    "del SAMPLE_TRAIN_PATH\n",
    "del SAMPLE_VALID_PATH\n",
    "del TEST_PATH\n",
    "del TRAIN_PATH\n",
    "del VALID_PATH\n"
   ]
  },
  {
   "cell_type": "code",
   "execution_count": 10,
   "metadata": {},
   "outputs": [],
   "source": [
    "def dirFileList(dir_path):\n",
    "    return [name for name in os.listdir(dir_path) if os.path.isfile(os.path.join(dir_path, name))]"
   ]
  },
  {
   "cell_type": "code",
   "execution_count": 11,
   "metadata": {},
   "outputs": [],
   "source": [
    "def listDirsFileCount(DATA_DIR_LIST):\n",
    "    DATA_DIR_LIST = sorted(DATA_DIR_LIST)\n",
    "    for dir_ in DATA_DIR_LIST:\n",
    "        print (dir_, len(dirFileList(dir_)))\n"
   ]
  },
  {
   "cell_type": "code",
   "execution_count": 12,
   "metadata": {},
   "outputs": [],
   "source": [
    "def showLayersInfo(model):\n",
    "    print (\"Number of layers : \", len(model.layers))\n",
    "    count = 0\n",
    "    for layer in model.layers:\n",
    "        print (count, type(layer), \", trainable:\", layer.trainable)\n",
    "        print (\"input:\", layer.input_shape, \", output:\",layer.output_shape, \", len(weights)\", len(layer.get_weights()), \"\\n\")\n",
    "        count +=1"
   ]
  },
  {
   "cell_type": "code",
   "execution_count": 13,
   "metadata": {},
   "outputs": [],
   "source": [
    "import bcolz\n",
    "def save_array(fname, arr): c=bcolz.carray(arr, rootdir=fname, mode='w'); c.flush()\n",
    "def load_array(fname): return bcolz.open(fname)[:]"
   ]
  },
  {
   "cell_type": "code",
   "execution_count": 14,
   "metadata": {},
   "outputs": [],
   "source": [
    "def plot_history(history):\n",
    "    # list all data in history\n",
    "    print(history.history.keys())\n",
    "    # summarize history for accuracy\n",
    "    plt.plot(history.history['acc'])\n",
    "    plt.plot(history.history['val_acc'])\n",
    "    plt.title('model accuracy')\n",
    "    plt.ylabel('accuracy')\n",
    "    plt.xlabel('epoch')\n",
    "    plt.legend(['train', 'validate'], loc='upper left')\n",
    "    plt.show()\n",
    "    # summarize history for loss\n",
    "    plt.plot(history.history['loss'])\n",
    "    plt.plot(history.history['val_loss'])\n",
    "    plt.title('model loss')\n",
    "    plt.ylabel('loss')\n",
    "    plt.xlabel('epoch')\n",
    "    plt.legend(['train', 'validate'], loc='upper left')\n",
    "    plt.show()"
   ]
  },
  {
   "cell_type": "code",
   "execution_count": 15,
   "metadata": {},
   "outputs": [
    {
     "name": "stdout",
     "output_type": "stream",
     "text": [
      "/home/ubuntu/fastai/data/Kaggle_dogs-vs-cats-redux-kernels-edition/ 3\n",
      "/home/ubuntu/fastai/data/Kaggle_dogs-vs-cats-redux-kernels-edition/models/ 60\n",
      "/home/ubuntu/fastai/data/Kaggle_dogs-vs-cats-redux-kernels-edition/results/ 3\n",
      "/home/ubuntu/fastai/data/Kaggle_dogs-vs-cats-redux-kernels-edition/sample/ 0\n",
      "/home/ubuntu/fastai/data/Kaggle_dogs-vs-cats-redux-kernels-edition/sample/test/ 0\n",
      "/home/ubuntu/fastai/data/Kaggle_dogs-vs-cats-redux-kernels-edition/sample/test/unknown/ 2500\n",
      "/home/ubuntu/fastai/data/Kaggle_dogs-vs-cats-redux-kernels-edition/sample/train/ 0\n",
      "/home/ubuntu/fastai/data/Kaggle_dogs-vs-cats-redux-kernels-edition/sample/train/cat/ 1750\n",
      "/home/ubuntu/fastai/data/Kaggle_dogs-vs-cats-redux-kernels-edition/sample/train/dog/ 1750\n",
      "/home/ubuntu/fastai/data/Kaggle_dogs-vs-cats-redux-kernels-edition/sample/valid/ 0\n",
      "/home/ubuntu/fastai/data/Kaggle_dogs-vs-cats-redux-kernels-edition/sample/valid/cat/ 750\n",
      "/home/ubuntu/fastai/data/Kaggle_dogs-vs-cats-redux-kernels-edition/sample/valid/dog/ 750\n",
      "/home/ubuntu/fastai/data/Kaggle_dogs-vs-cats-redux-kernels-edition/test/ 0\n",
      "/home/ubuntu/fastai/data/Kaggle_dogs-vs-cats-redux-kernels-edition/test/unknown/ 12500\n",
      "/home/ubuntu/fastai/data/Kaggle_dogs-vs-cats-redux-kernels-edition/train/ 0\n",
      "/home/ubuntu/fastai/data/Kaggle_dogs-vs-cats-redux-kernels-edition/train/cat/ 8750\n",
      "/home/ubuntu/fastai/data/Kaggle_dogs-vs-cats-redux-kernels-edition/train/dog/ 8750\n",
      "/home/ubuntu/fastai/data/Kaggle_dogs-vs-cats-redux-kernels-edition/valid/ 0\n",
      "/home/ubuntu/fastai/data/Kaggle_dogs-vs-cats-redux-kernels-edition/valid/cat/ 3750\n",
      "/home/ubuntu/fastai/data/Kaggle_dogs-vs-cats-redux-kernels-edition/valid/dog/ 3750\n"
     ]
    }
   ],
   "source": [
    "listDirsFileCount(DATA_DIR_LIST)"
   ]
  },
  {
   "cell_type": "code",
   "execution_count": 16,
   "metadata": {},
   "outputs": [
    {
     "name": "stdout",
     "output_type": "stream",
     "text": [
      "Found 17500 images belonging to 2 classes.\n",
      "Found 7500 images belonging to 2 classes.\n"
     ]
    }
   ],
   "source": [
    "trn_batches = get_batches(WORKING_TRAIN, shuffle=False, batch_size=batch_size)\n",
    "val_batches = get_batches(WORKING_VALID, shuffle=False, batch_size=batch_size)"
   ]
  },
  {
   "cell_type": "code",
   "execution_count": 17,
   "metadata": {},
   "outputs": [
    {
     "name": "stdout",
     "output_type": "stream",
     "text": [
      "trn_batches: <class 'keras.preprocessing.image.DirectoryIterator'>\n",
      "val_batches: <class 'keras.preprocessing.image.DirectoryIterator'>\n"
     ]
    }
   ],
   "source": [
    "print (\"trn_batches:\", type(trn_batches))\n",
    "print (\"val_batches:\", type(val_batches))"
   ]
  },
  {
   "cell_type": "code",
   "execution_count": 18,
   "metadata": {},
   "outputs": [
    {
     "name": "stdout",
     "output_type": "stream",
     "text": [
      "('batch_index', 0)\n",
      "('batch_size', 64)\n",
      "('class_indices', {'dog': 1, 'cat': 0})\n",
      "('class_mode', 'categorical')\n",
      "('classes', array([0, 0, 0, ..., 1, 1, 1], dtype=int32))\n",
      "('color_mode', 'rgb')\n",
      "('dim_ordering', 'th')\n",
      "('directory', '/home/ubuntu/fastai/data/Kaggle_dogs-vs-cats-redux-kernels-edition/valid/')\n",
      "('filenames', ['cat/cat.10295.jpg', 'cat/cat.12038.jpg', 'cat/cat.6181.jpg', 'cat/cat.10573.jpg', 'cat/cat.2417.jpg', 'cat/cat.8398.jpg', 'cat/cat.9733.jpg', 'cat/cat.12009.jpg', 'cat/cat.2498.jpg', 'cat/cat.6320.jpg', 'cat/cat.6800.jpg', 'cat/cat.8503.jpg', 'cat/cat.7448.jpg', 'cat/cat.5693.jpg', 'cat/cat.10466.jpg', 'cat/cat.1983.jpg', 'cat/cat.8054.jpg', 'cat/cat.7394.jpg', 'cat/cat.6448.jpg', 'cat/cat.12451.jpg', 'cat/cat.10464.jpg', 'cat/cat.4735.jpg', 'cat/cat.3504.jpg', 'cat/cat.9121.jpg', 'cat/cat.4781.jpg', 'cat/cat.5385.jpg', 'cat/cat.5399.jpg', 'cat/cat.12073.jpg', 'cat/cat.7417.jpg', 'cat/cat.6533.jpg', 'cat/cat.8431.jpg', 'cat/cat.1248.jpg', 'cat/cat.1353.jpg', 'cat/cat.6301.jpg', 'cat/cat.2621.jpg', 'cat/cat.4029.jpg', 'cat/cat.2631.jpg', 'cat/cat.2283.jpg', 'cat/cat.7250.jpg', 'cat/cat.7648.jpg', 'cat/cat.3697.jpg', 'cat/cat.5361.jpg', 'cat/cat.6779.jpg', 'cat/cat.3189.jpg', 'cat/cat.8892.jpg', 'cat/cat.3663.jpg', 'cat/cat.2329.jpg', 'cat/cat.3438.jpg', 'cat/cat.3412.jpg', 'cat/cat.7855.jpg', 'cat/cat.11573.jpg', 'cat/cat.571.jpg', 'cat/cat.8194.jpg', 'cat/cat.7365.jpg', 'cat/cat.7242.jpg', 'cat/cat.1612.jpg', 'cat/cat.7297.jpg', 'cat/cat.7031.jpg', 'cat/cat.2703.jpg', 'cat/cat.1966.jpg', 'cat/cat.12275.jpg', 'cat/cat.1273.jpg', 'cat/cat.6068.jpg', 'cat/cat.5717.jpg', 'cat/cat.9781.jpg', 'cat/cat.6016.jpg', 'cat/cat.7340.jpg', 'cat/cat.6554.jpg', 'cat/cat.7051.jpg', 'cat/cat.78.jpg', 'cat/cat.4538.jpg', 'cat/cat.578.jpg', 'cat/cat.1630.jpg', 'cat/cat.11566.jpg', 'cat/cat.3901.jpg', 'cat/cat.175.jpg', 'cat/cat.10557.jpg', 'cat/cat.4461.jpg', 'cat/cat.7808.jpg', 'cat/cat.10403.jpg', 'cat/cat.4198.jpg', 'cat/cat.4379.jpg', 'cat/cat.4311.jpg', 'cat/cat.8076.jpg', 'cat/cat.3477.jpg', 'cat/cat.8445.jpg', 'cat/cat.2292.jpg', 'cat/cat.1309.jpg', 'cat/cat.10104.jpg', 'cat/cat.2951.jpg', 'cat/cat.11529.jpg', 'cat/cat.11328.jpg', 'cat/cat.664.jpg', 'cat/cat.9412.jpg', 'cat/cat.3923.jpg', 'cat/cat.9223.jpg', 'cat/cat.9792.jpg', 'cat/cat.1729.jpg', 'cat/cat.5379.jpg', 'cat/cat.5718.jpg', 'cat/cat.10706.jpg', 'cat/cat.3580.jpg', 'cat/cat.2585.jpg', 'cat/cat.1443.jpg', 'cat/cat.11512.jpg', 'cat/cat.10961.jpg', 'cat/cat.2591.jpg', 'cat/cat.1735.jpg', 'cat/cat.2827.jpg', 'cat/cat.7289.jpg', 'cat/cat.5779.jpg', 'cat/cat.5387.jpg', 'cat/cat.5493.jpg', 'cat/cat.3992.jpg', 'cat/cat.4939.jpg', 'cat/cat.1009.jpg', 'cat/cat.1771.jpg', 'cat/cat.2044.jpg', 'cat/cat.4873.jpg', 'cat/cat.1801.jpg', 'cat/cat.10050.jpg', 'cat/cat.9748.jpg', 'cat/cat.1580.jpg', 'cat/cat.8521.jpg', 'cat/cat.4648.jpg', 'cat/cat.4978.jpg', 'cat/cat.8627.jpg', 'cat/cat.2273.jpg', 'cat/cat.9697.jpg', 'cat/cat.8227.jpg', 'cat/cat.10774.jpg', 'cat/cat.2680.jpg', 'cat/cat.6149.jpg', 'cat/cat.8375.jpg', 'cat/cat.41.jpg', 'cat/cat.6706.jpg', 'cat/cat.12034.jpg', 'cat/cat.11458.jpg', 'cat/cat.9532.jpg', 'cat/cat.2577.jpg', 'cat/cat.8876.jpg', 'cat/cat.8344.jpg', 'cat/cat.6069.jpg', 'cat/cat.8640.jpg', 'cat/cat.6466.jpg', 'cat/cat.5309.jpg', 'cat/cat.11620.jpg', 'cat/cat.1480.jpg', 'cat/cat.9322.jpg', 'cat/cat.5678.jpg', 'cat/cat.240.jpg', 'cat/cat.9541.jpg', 'cat/cat.2546.jpg', 'cat/cat.7820.jpg', 'cat/cat.11942.jpg', 'cat/cat.7015.jpg', 'cat/cat.1276.jpg', 'cat/cat.8951.jpg', 'cat/cat.4796.jpg', 'cat/cat.8882.jpg', 'cat/cat.6046.jpg', 'cat/cat.2209.jpg', 'cat/cat.8625.jpg', 'cat/cat.12145.jpg', 'cat/cat.4950.jpg', 'cat/cat.8286.jpg', 'cat/cat.12499.jpg', 'cat/cat.2207.jpg', 'cat/cat.12444.jpg', 'cat/cat.7602.jpg', 'cat/cat.4625.jpg', 'cat/cat.7747.jpg', 'cat/cat.6364.jpg', 'cat/cat.11656.jpg', 'cat/cat.8761.jpg', 'cat/cat.7165.jpg', 'cat/cat.2172.jpg', 'cat/cat.3281.jpg', 'cat/cat.6223.jpg', 'cat/cat.5566.jpg', 'cat/cat.2075.jpg', 'cat/cat.7567.jpg', 'cat/cat.7208.jpg', 'cat/cat.11525.jpg', 'cat/cat.10033.jpg', 'cat/cat.1903.jpg', 'cat/cat.12149.jpg', 'cat/cat.10280.jpg', 'cat/cat.5011.jpg', 'cat/cat.11546.jpg', 'cat/cat.7.jpg', 'cat/cat.9386.jpg', 'cat/cat.954.jpg', 'cat/cat.8035.jpg', 'cat/cat.11388.jpg', 'cat/cat.9485.jpg', 'cat/cat.10324.jpg', 'cat/cat.3149.jpg', 'cat/cat.9436.jpg', 'cat/cat.10989.jpg', 'cat/cat.2893.jpg', 'cat/cat.9384.jpg', 'cat/cat.5404.jpg', 'cat/cat.11680.jpg', 'cat/cat.1757.jpg', 'cat/cat.1166.jpg', 'cat/cat.11010.jpg', 'cat/cat.2535.jpg', 'cat/cat.5605.jpg', 'cat/cat.3609.jpg', 'cat/cat.8990.jpg', 'cat/cat.3367.jpg', 'cat/cat.2122.jpg', 'cat/cat.1135.jpg', 'cat/cat.1616.jpg', 'cat/cat.9475.jpg', 'cat/cat.7047.jpg', 'cat/cat.11670.jpg', 'cat/cat.7280.jpg', 'cat/cat.5071.jpg', 'cat/cat.1706.jpg', 'cat/cat.819.jpg', 'cat/cat.9870.jpg', 'cat/cat.2284.jpg', 'cat/cat.10274.jpg', 'cat/cat.12354.jpg', 'cat/cat.6332.jpg', 'cat/cat.1507.jpg', 'cat/cat.7475.jpg', 'cat/cat.12362.jpg', 'cat/cat.8827.jpg', 'cat/cat.292.jpg', 'cat/cat.12044.jpg', 'cat/cat.7606.jpg', 'cat/cat.4117.jpg', 'cat/cat.11894.jpg', 'cat/cat.5099.jpg', 'cat/cat.7071.jpg', 'cat/cat.12193.jpg', 'cat/cat.5189.jpg', 'cat/cat.4616.jpg', 'cat/cat.2973.jpg', 'cat/cat.4554.jpg', 'cat/cat.6506.jpg', 'cat/cat.8936.jpg', 'cat/cat.11923.jpg', 'cat/cat.10239.jpg', 'cat/cat.7821.jpg', 'cat/cat.3152.jpg', 'cat/cat.6042.jpg', 'cat/cat.4507.jpg', 'cat/cat.7928.jpg', 'cat/cat.4325.jpg', 'cat/cat.12150.jpg', 'cat/cat.8532.jpg', 'cat/cat.2957.jpg', 'cat/cat.3581.jpg', 'cat/cat.2741.jpg', 'cat/cat.5760.jpg', 'cat/cat.9773.jpg', 'cat/cat.3755.jpg', 'cat/cat.5029.jpg', 'cat/cat.5767.jpg', 'cat/cat.10052.jpg', 'cat/cat.585.jpg', 'cat/cat.7743.jpg', 'cat/cat.3486.jpg', 'cat/cat.4297.jpg', 'cat/cat.2508.jpg', 'cat/cat.4876.jpg', 'cat/cat.3885.jpg', 'cat/cat.8316.jpg', 'cat/cat.9908.jpg', 'cat/cat.5068.jpg', 'cat/cat.10420.jpg', 'cat/cat.3167.jpg', 'cat/cat.2828.jpg', 'cat/cat.591.jpg', 'cat/cat.6758.jpg', 'cat/cat.2004.jpg', 'cat/cat.10085.jpg', 'cat/cat.3921.jpg', 'cat/cat.721.jpg', 'cat/cat.10433.jpg', 'cat/cat.9244.jpg', 'cat/cat.6514.jpg', 'cat/cat.2105.jpg', 'cat/cat.5415.jpg', 'cat/cat.832.jpg', 'cat/cat.7338.jpg', 'cat/cat.1838.jpg', 'cat/cat.4985.jpg', 'cat/cat.3983.jpg', 'cat/cat.10618.jpg', 'cat/cat.6517.jpg', 'cat/cat.3765.jpg', 'cat/cat.10549.jpg', 'cat/cat.11248.jpg', 'cat/cat.8409.jpg', 'cat/cat.6394.jpg', 'cat/cat.2226.jpg', 'cat/cat.8599.jpg', 'cat/cat.4459.jpg', 'cat/cat.1877.jpg', 'cat/cat.4395.jpg', 'cat/cat.1206.jpg', 'cat/cat.842.jpg', 'cat/cat.8748.jpg', 'cat/cat.6512.jpg', 'cat/cat.6838.jpg', 'cat/cat.5254.jpg', 'cat/cat.1928.jpg', 'cat/cat.5221.jpg', 'cat/cat.5314.jpg', 'cat/cat.3847.jpg', 'cat/cat.1395.jpg', 'cat/cat.845.jpg', 'cat/cat.12464.jpg', 'cat/cat.3355.jpg', 'cat/cat.695.jpg', 'cat/cat.6376.jpg', 'cat/cat.12011.jpg', 'cat/cat.9176.jpg', 'cat/cat.9380.jpg', 'cat/cat.6253.jpg', 'cat/cat.4498.jpg', 'cat/cat.11079.jpg', 'cat/cat.734.jpg', 'cat/cat.6035.jpg', 'cat/cat.3081.jpg', 'cat/cat.1759.jpg', 'cat/cat.5360.jpg', 'cat/cat.2064.jpg', 'cat/cat.1159.jpg', 'cat/cat.11281.jpg', 'cat/cat.8727.jpg', 'cat/cat.7174.jpg', 'cat/cat.11989.jpg', 'cat/cat.10631.jpg', 'cat/cat.5101.jpg', 'cat/cat.6999.jpg', 'cat/cat.10653.jpg', 'cat/cat.11545.jpg', 'cat/cat.9000.jpg', 'cat/cat.10343.jpg', 'cat/cat.6326.jpg', 'cat/cat.1089.jpg', 'cat/cat.489.jpg', 'cat/cat.4144.jpg', 'cat/cat.10540.jpg', 'cat/cat.7063.jpg', 'cat/cat.10197.jpg', 'cat/cat.2239.jpg', 'cat/cat.10362.jpg', 'cat/cat.6382.jpg', 'cat/cat.10106.jpg', 'cat/cat.4110.jpg', 'cat/cat.6131.jpg', 'cat/cat.7817.jpg', 'cat/cat.545.jpg', 'cat/cat.5896.jpg', 'cat/cat.9158.jpg', 'cat/cat.12342.jpg', 'cat/cat.2386.jpg', 'cat/cat.9451.jpg', 'cat/cat.5791.jpg', 'cat/cat.9662.jpg', 'cat/cat.1222.jpg', 'cat/cat.6082.jpg', 'cat/cat.8943.jpg', 'cat/cat.2402.jpg', 'cat/cat.213.jpg', 'cat/cat.10293.jpg', 'cat/cat.9890.jpg', 'cat/cat.1943.jpg', 'cat/cat.3403.jpg', 'cat/cat.2968.jpg', 'cat/cat.430.jpg', 'cat/cat.5035.jpg', 'cat/cat.10259.jpg', 'cat/cat.5109.jpg', 'cat/cat.8629.jpg', 'cat/cat.6770.jpg', 'cat/cat.7971.jpg', 'cat/cat.2013.jpg', 'cat/cat.2054.jpg', 'cat/cat.2510.jpg', 'cat/cat.6328.jpg', 'cat/cat.1497.jpg', 'cat/cat.12033.jpg', 'cat/cat.299.jpg', 'cat/cat.7441.jpg', 'cat/cat.3290.jpg', 'cat/cat.7113.jpg', 'cat/cat.7546.jpg', 'cat/cat.3972.jpg', 'cat/cat.869.jpg', 'cat/cat.3107.jpg', 'cat/cat.1867.jpg', 'cat/cat.9909.jpg', 'cat/cat.5199.jpg', 'cat/cat.4971.jpg', 'cat/cat.7355.jpg', 'cat/cat.10743.jpg', 'cat/cat.60.jpg', 'cat/cat.9003.jpg', 'cat/cat.6294.jpg', 'cat/cat.10559.jpg', 'cat/cat.5156.jpg', 'cat/cat.10963.jpg', 'cat/cat.9469.jpg', 'cat/cat.8891.jpg', 'cat/cat.4238.jpg', 'cat/cat.205.jpg', 'cat/cat.9399.jpg', 'cat/cat.11084.jpg', 'cat/cat.10267.jpg', 'cat/cat.2058.jpg', 'cat/cat.7375.jpg', 'cat/cat.4736.jpg', 'cat/cat.3484.jpg', 'cat/cat.4987.jpg', 'cat/cat.2938.jpg', 'cat/cat.3610.jpg', 'cat/cat.8511.jpg', 'cat/cat.3362.jpg', 'cat/cat.804.jpg', 'cat/cat.10335.jpg', 'cat/cat.9766.jpg', 'cat/cat.9111.jpg', 'cat/cat.3667.jpg', 'cat/cat.8576.jpg', 'cat/cat.687.jpg', 'cat/cat.10090.jpg', 'cat/cat.6063.jpg', 'cat/cat.9289.jpg', 'cat/cat.8518.jpg', 'cat/cat.5775.jpg', 'cat/cat.9820.jpg', 'cat/cat.2751.jpg', 'cat/cat.12122.jpg', 'cat/cat.6316.jpg', 'cat/cat.4653.jpg', 'cat/cat.3659.jpg', 'cat/cat.8691.jpg', 'cat/cat.2128.jpg', 'cat/cat.287.jpg', 'cat/cat.3864.jpg', 'cat/cat.1651.jpg', 'cat/cat.12107.jpg', 'cat/cat.3940.jpg', 'cat/cat.495.jpg', 'cat/cat.2802.jpg', 'cat/cat.2655.jpg', 'cat/cat.4364.jpg', 'cat/cat.7457.jpg', 'cat/cat.11539.jpg', 'cat/cat.5736.jpg', 'cat/cat.9482.jpg', 'cat/cat.2280.jpg', 'cat/cat.3836.jpg', 'cat/cat.10422.jpg', 'cat/cat.8226.jpg', 'cat/cat.5850.jpg', 'cat/cat.10357.jpg', 'cat/cat.10225.jpg', 'cat/cat.4225.jpg', 'cat/cat.8416.jpg', 'cat/cat.3994.jpg', 'cat/cat.7912.jpg', 'cat/cat.10970.jpg', 'cat/cat.8078.jpg', 'cat/cat.5960.jpg', 'cat/cat.1072.jpg', 'cat/cat.5446.jpg', 'cat/cat.8113.jpg', 'cat/cat.10830.jpg', 'cat/cat.10378.jpg', 'cat/cat.8235.jpg', 'cat/cat.4177.jpg', 'cat/cat.12389.jpg', 'cat/cat.11160.jpg', 'cat/cat.10955.jpg', 'cat/cat.8877.jpg', 'cat/cat.3558.jpg', 'cat/cat.10409.jpg', 'cat/cat.9961.jpg', 'cat/cat.11906.jpg', 'cat/cat.8441.jpg', 'cat/cat.12421.jpg', 'cat/cat.1772.jpg', 'cat/cat.6019.jpg', 'cat/cat.4280.jpg', 'cat/cat.8632.jpg', 'cat/cat.6370.jpg', 'cat/cat.4020.jpg', 'cat/cat.1536.jpg', 'cat/cat.10428.jpg', 'cat/cat.10889.jpg', 'cat/cat.4456.jpg', 'cat/cat.7679.jpg', 'cat/cat.141.jpg', 'cat/cat.11992.jpg', 'cat/cat.12316.jpg', 'cat/cat.4079.jpg', 'cat/cat.21.jpg', 'cat/cat.12014.jpg', 'cat/cat.11593.jpg', 'cat/cat.4981.jpg', 'cat/cat.10217.jpg', 'cat/cat.10633.jpg', 'cat/cat.5363.jpg', 'cat/cat.11802.jpg', 'cat/cat.4108.jpg', 'cat/cat.2483.jpg', 'cat/cat.6784.jpg', 'cat/cat.5878.jpg', 'cat/cat.9872.jpg', 'cat/cat.11564.jpg', 'cat/cat.5178.jpg', 'cat/cat.588.jpg', 'cat/cat.4721.jpg', 'cat/cat.4328.jpg', 'cat/cat.4952.jpg', 'cat/cat.3827.jpg', 'cat/cat.8403.jpg', 'cat/cat.2795.jpg', 'cat/cat.8944.jpg', 'cat/cat.1241.jpg', 'cat/cat.2094.jpg', 'cat/cat.6291.jpg', 'cat/cat.3626.jpg', 'cat/cat.9106.jpg', 'cat/cat.5295.jpg', 'cat/cat.4899.jpg', 'cat/cat.3063.jpg', 'cat/cat.3358.jpg', 'cat/cat.8641.jpg', 'cat/cat.8281.jpg', 'cat/cat.9460.jpg', 'cat/cat.4415.jpg', 'cat/cat.4376.jpg', 'cat/cat.12497.jpg', 'cat/cat.6393.jpg', 'cat/cat.7798.jpg', 'cat/cat.9256.jpg', 'cat/cat.1988.jpg', 'cat/cat.10853.jpg', 'cat/cat.628.jpg', 'cat/cat.2974.jpg', 'cat/cat.7473.jpg', 'cat/cat.12229.jpg', 'cat/cat.3322.jpg', 'cat/cat.1752.jpg', 'cat/cat.4853.jpg', 'cat/cat.5647.jpg', 'cat/cat.12097.jpg', 'cat/cat.5851.jpg', 'cat/cat.6001.jpg', 'cat/cat.2662.jpg', 'cat/cat.12027.jpg', 'cat/cat.5175.jpg', 'cat/cat.5918.jpg', 'cat/cat.11662.jpg', 'cat/cat.2089.jpg', 'cat/cat.9279.jpg', 'cat/cat.2838.jpg', 'cat/cat.2869.jpg', 'cat/cat.4485.jpg', 'cat/cat.9353.jpg', 'cat/cat.1242.jpg', 'cat/cat.1325.jpg', 'cat/cat.8832.jpg', 'cat/cat.4949.jpg', 'cat/cat.8283.jpg', 'cat/cat.8498.jpg', 'cat/cat.5617.jpg', 'cat/cat.5961.jpg', 'cat/cat.5675.jpg', 'cat/cat.212.jpg', 'cat/cat.4172.jpg', 'cat/cat.4081.jpg', 'cat/cat.7201.jpg', 'cat/cat.5179.jpg', 'cat/cat.7168.jpg', 'cat/cat.11568.jpg', 'cat/cat.568.jpg', 'cat/cat.9778.jpg', 'cat/cat.11994.jpg', 'cat/cat.9694.jpg', 'cat/cat.8804.jpg', 'cat/cat.9187.jpg', 'cat/cat.7066.jpg', 'cat/cat.12183.jpg', 'cat/cat.9885.jpg', 'cat/cat.5660.jpg', 'cat/cat.940.jpg', 'cat/cat.3171.jpg', 'cat/cat.11063.jpg', 'cat/cat.9038.jpg', 'cat/cat.8915.jpg', 'cat/cat.5708.jpg', 'cat/cat.9346.jpg', 'cat/cat.10642.jpg', 'cat/cat.5203.jpg', 'cat/cat.10777.jpg', 'cat/cat.1909.jpg', 'cat/cat.5690.jpg', 'cat/cat.2161.jpg', 'cat/cat.4156.jpg', 'cat/cat.12426.jpg', 'cat/cat.7324.jpg', 'cat/cat.7335.jpg', 'cat/cat.11745.jpg', 'cat/cat.2782.jpg', 'cat/cat.341.jpg', 'cat/cat.1510.jpg', 'cat/cat.9530.jpg', 'cat/cat.2656.jpg', 'cat/cat.9907.jpg', 'cat/cat.9498.jpg', 'cat/cat.5301.jpg', 'cat/cat.6247.jpg', 'cat/cat.5135.jpg', 'cat/cat.1076.jpg', 'cat/cat.5988.jpg', 'cat/cat.6144.jpg', 'cat/cat.4071.jpg', 'cat/cat.7049.jpg', 'cat/cat.9861.jpg', 'cat/cat.7586.jpg', 'cat/cat.11290.jpg', 'cat/cat.8360.jpg', 'cat/cat.5351.jpg', 'cat/cat.2438.jpg', 'cat/cat.759.jpg', 'cat/cat.2136.jpg', 'cat/cat.5431.jpg', 'cat/cat.11730.jpg', 'cat/cat.10011.jpg', 'cat/cat.4749.jpg', 'cat/cat.8689.jpg', 'cat/cat.8661.jpg', 'cat/cat.7453.jpg', 'cat/cat.4902.jpg', 'cat/cat.11473.jpg', 'cat/cat.868.jpg', 'cat/cat.10399.jpg', 'cat/cat.3548.jpg', 'cat/cat.8762.jpg', 'cat/cat.749.jpg', 'cat/cat.2078.jpg', 'cat/cat.7450.jpg', 'cat/cat.5942.jpg', 'cat/cat.11218.jpg', 'cat/cat.631.jpg', 'cat/cat.11252.jpg', 'cat/cat.1055.jpg', 'cat/cat.9209.jpg', 'cat/cat.10842.jpg', 'cat/cat.1419.jpg', 'cat/cat.8816.jpg', 'cat/cat.6790.jpg', 'cat/cat.5319.jpg', 'cat/cat.5122.jpg', 'cat/cat.5222.jpg', 'cat/cat.4204.jpg', 'cat/cat.4430.jpg', 'cat/cat.3565.jpg', 'cat/cat.1687.jpg', 'cat/cat.8079.jpg', 'cat/cat.8651.jpg', 'cat/cat.12169.jpg', 'cat/cat.9204.jpg', 'cat/cat.86.jpg', 'cat/cat.6968.jpg', 'cat/cat.3772.jpg', 'cat/cat.5908.jpg', 'cat/cat.6936.jpg', 'cat/cat.10515.jpg', 'cat/cat.5669.jpg', 'cat/cat.9315.jpg', 'cat/cat.8268.jpg', 'cat/cat.5657.jpg', 'cat/cat.7183.jpg', 'cat/cat.1980.jpg', 'cat/cat.4067.jpg', 'cat/cat.8186.jpg', 'cat/cat.2232.jpg', 'cat/cat.10083.jpg', 'cat/cat.12412.jpg', 'cat/cat.834.jpg', 'cat/cat.5159.jpg', 'cat/cat.3797.jpg', 'cat/cat.4822.jpg', 'cat/cat.11066.jpg', 'cat/cat.11540.jpg', 'cat/cat.7058.jpg', 'cat/cat.803.jpg', 'cat/cat.4152.jpg', 'cat/cat.772.jpg', 'cat/cat.5031.jpg', 'cat/cat.3497.jpg', 'cat/cat.7068.jpg', 'cat/cat.11893.jpg', 'cat/cat.7369.jpg', 'cat/cat.4420.jpg', 'cat/cat.9756.jpg', 'cat/cat.333.jpg', 'cat/cat.481.jpg', 'cat/cat.5910.jpg', 'cat/cat.8724.jpg', 'cat/cat.5535.jpg', 'cat/cat.2143.jpg', 'cat/cat.9776.jpg', 'cat/cat.6173.jpg', 'cat/cat.880.jpg', 'cat/cat.5725.jpg', 'cat/cat.7795.jpg', 'cat/cat.4702.jpg', 'cat/cat.10992.jpg', 'cat/cat.3104.jpg', 'cat/cat.554.jpg', 'cat/cat.2963.jpg', 'cat/cat.11938.jpg', 'cat/cat.5798.jpg', 'cat/cat.1929.jpg', 'cat/cat.12377.jpg', 'cat/cat.2702.jpg', 'cat/cat.6428.jpg', 'cat/cat.6711.jpg', 'cat/cat.9142.jpg', 'cat/cat.8833.jpg', 'cat/cat.11867.jpg', 'cat/cat.1499.jpg', 'cat/cat.7056.jpg', 'cat/cat.5432.jpg', 'cat/cat.3998.jpg', 'cat/cat.661.jpg', 'cat/cat.7354.jpg', 'cat/cat.285.jpg', 'cat/cat.6076.jpg', 'cat/cat.10095.jpg', 'cat/cat.7269.jpg', 'cat/cat.1959.jpg', 'cat/cat.10341.jpg', 'cat/cat.1367.jpg', 'cat/cat.12076.jpg', 'cat/cat.7216.jpg', 'cat/cat.2364.jpg', 'cat/cat.8458.jpg', 'cat/cat.9667.jpg', 'cat/cat.10635.jpg', 'cat/cat.4288.jpg', 'cat/cat.1153.jpg', 'cat/cat.973.jpg', 'cat/cat.5368.jpg', 'cat/cat.6714.jpg', 'cat/cat.3109.jpg', 'cat/cat.6942.jpg', 'cat/cat.3205.jpg', 'cat/cat.11722.jpg', 'cat/cat.124.jpg', 'cat/cat.4467.jpg', 'cat/cat.8240.jpg', 'cat/cat.1940.jpg', 'cat/cat.9352.jpg', 'cat/cat.9641.jpg', 'cat/cat.10388.jpg', 'cat/cat.9101.jpg', 'cat/cat.5689.jpg', 'cat/cat.8238.jpg', 'cat/cat.5151.jpg', 'cat/cat.6959.jpg', 'cat/cat.7558.jpg', 'cat/cat.3683.jpg', 'cat/cat.5413.jpg', 'cat/cat.5422.jpg', 'cat/cat.752.jpg', 'cat/cat.3153.jpg', 'cat/cat.5719.jpg', 'cat/cat.11423.jpg', 'cat/cat.1053.jpg', 'cat/cat.7166.jpg', 'cat/cat.4384.jpg', 'cat/cat.7899.jpg', 'cat/cat.7140.jpg', 'cat/cat.4406.jpg', 'cat/cat.4448.jpg', 'cat/cat.7299.jpg', 'cat/cat.3266.jpg', 'cat/cat.7559.jpg', 'cat/cat.1113.jpg', 'cat/cat.5055.jpg', 'cat/cat.2200.jpg', 'cat/cat.6288.jpg', 'cat/cat.5317.jpg', 'cat/cat.6700.jpg', 'cat/cat.6465.jpg', 'cat/cat.892.jpg', 'cat/cat.1614.jpg', 'cat/cat.10978.jpg', 'cat/cat.7184.jpg', 'cat/cat.3684.jpg', 'cat/cat.204.jpg', 'cat/cat.11941.jpg', 'cat/cat.5692.jpg', 'cat/cat.9798.jpg', 'cat/cat.2469.jpg', 'cat/cat.7362.jpg', 'cat/cat.12333.jpg', 'cat/cat.10062.jpg', 'cat/cat.2754.jpg', 'cat/cat.5287.jpg', 'cat/cat.4206.jpg', 'cat/cat.7844.jpg', 'cat/cat.8008.jpg', 'cat/cat.9678.jpg', 'cat/cat.2992.jpg', 'cat/cat.1834.jpg', 'cat/cat.8562.jpg', 'cat/cat.11583.jpg', 'cat/cat.5054.jpg', 'cat/cat.10661.jpg', 'cat/cat.4335.jpg', 'cat/cat.7195.jpg', 'cat/cat.87.jpg', 'cat/cat.2862.jpg', 'cat/cat.12413.jpg', 'cat/cat.1265.jpg', 'cat/cat.8610.jpg', 'cat/cat.5242.jpg', 'cat/cat.692.jpg', 'cat/cat.10890.jpg', 'cat/cat.501.jpg', 'cat/cat.4070.jpg', 'cat/cat.39.jpg', 'cat/cat.1498.jpg', 'cat/cat.6210.jpg', 'cat/cat.9645.jpg', 'cat/cat.4391.jpg', 'cat/cat.11956.jpg', 'cat/cat.243.jpg', 'cat/cat.339.jpg', 'cat/cat.10930.jpg', 'cat/cat.11987.jpg', 'cat/cat.1056.jpg', 'cat/cat.10600.jpg', 'cat/cat.2671.jpg', 'cat/cat.7160.jpg', 'cat/cat.8066.jpg', 'cat/cat.5949.jpg', 'cat/cat.9595.jpg', 'cat/cat.6381.jpg', 'cat/cat.2370.jpg', 'cat/cat.8188.jpg', 'cat/cat.7471.jpg', 'cat/cat.11934.jpg', 'cat/cat.3240.jpg', 'cat/cat.1194.jpg', 'cat/cat.6562.jpg', 'cat/cat.9666.jpg', 'cat/cat.10487.jpg', 'cat/cat.3962.jpg', 'cat/cat.10572.jpg', 'cat/cat.9017.jpg', 'cat/cat.2542.jpg', 'cat/cat.3315.jpg', 'cat/cat.1598.jpg', 'cat/cat.10431.jpg', 'cat/cat.4184.jpg', 'cat/cat.9951.jpg', 'cat/cat.5144.jpg', 'cat/cat.6216.jpg', 'cat/cat.10354.jpg', 'cat/cat.6947.jpg', 'cat/cat.232.jpg', 'cat/cat.4918.jpg', 'cat/cat.2945.jpg', 'cat/cat.4784.jpg', 'cat/cat.3473.jpg', 'cat/cat.11559.jpg', 'cat/cat.6558.jpg', 'cat/cat.796.jpg', 'cat/cat.502.jpg', 'cat/cat.5515.jpg', 'cat/cat.5382.jpg', 'cat/cat.9741.jpg', 'cat/cat.4787.jpg', 'cat/cat.8421.jpg', 'cat/cat.5788.jpg', 'cat/cat.11633.jpg', 'cat/cat.11975.jpg', 'cat/cat.1713.jpg', 'cat/cat.995.jpg', 'cat/cat.4299.jpg', 'cat/cat.7316.jpg', 'cat/cat.405.jpg', 'cat/cat.4757.jpg', 'cat/cat.5514.jpg', 'cat/cat.5698.jpg', 'cat/cat.697.jpg', 'cat/cat.12367.jpg', 'cat/cat.5633.jpg', 'cat/cat.1767.jpg', 'cat/cat.11553.jpg', 'cat/cat.908.jpg', 'cat/cat.4815.jpg', 'cat/cat.614.jpg', 'cat/cat.5163.jpg', 'cat/cat.2810.jpg', 'cat/cat.3431.jpg', 'cat/cat.7227.jpg', 'cat/cat.2532.jpg', 'cat/cat.10404.jpg', 'cat/cat.6048.jpg', 'cat/cat.6889.jpg', 'cat/cat.4100.jpg', 'cat/cat.10690.jpg', 'cat/cat.149.jpg', 'cat/cat.2986.jpg', 'cat/cat.10874.jpg', 'cat/cat.3133.jpg', 'cat/cat.73.jpg', 'cat/cat.8038.jpg', 'cat/cat.9083.jpg', 'cat/cat.1450.jpg', 'cat/cat.8744.jpg', 'cat/cat.11835.jpg', 'cat/cat.11574.jpg', 'cat/cat.2065.jpg', 'cat/cat.4062.jpg', 'cat/cat.6752.jpg', 'cat/cat.3802.jpg', 'cat/cat.11383.jpg', 'cat/cat.12252.jpg', 'cat/cat.3981.jpg', 'cat/cat.3914.jpg', 'cat/cat.3880.jpg', 'cat/cat.5926.jpg', 'cat/cat.29.jpg', 'cat/cat.10035.jpg', 'cat/cat.4449.jpg', 'cat/cat.9840.jpg', 'cat/cat.8963.jpg', 'cat/cat.11984.jpg', 'cat/cat.8592.jpg', 'cat/cat.5128.jpg', 'cat/cat.10844.jpg', 'cat/cat.2030.jpg', 'cat/cat.5529.jpg', 'cat/cat.9061.jpg', 'cat/cat.10290.jpg', 'cat/cat.11784.jpg', 'cat/cat.8701.jpg', 'cat/cat.6632.jpg', 'cat/cat.1545.jpg', 'cat/cat.1406.jpg', 'cat/cat.12001.jpg', 'cat/cat.5911.jpg', 'cat/cat.9616.jpg', 'cat/cat.3799.jpg', 'cat/cat.1110.jpg', 'cat/cat.10897.jpg', 'cat/cat.10511.jpg', 'cat/cat.11821.jpg', 'cat/cat.1086.jpg', 'cat/cat.6308.jpg', 'cat/cat.4319.jpg', 'cat/cat.11452.jpg', 'cat/cat.11203.jpg', 'cat/cat.9834.jpg', 'cat/cat.10077.jpg', 'cat/cat.6023.jpg', 'cat/cat.247.jpg', 'cat/cat.3569.jpg', 'cat/cat.2462.jpg', 'cat/cat.5137.jpg', 'cat/cat.9648.jpg', 'cat/cat.12082.jpg', 'cat/cat.4520.jpg', 'cat/cat.8737.jpg', 'cat/cat.130.jpg', 'cat/cat.7643.jpg', 'cat/cat.12013.jpg', 'cat/cat.10000.jpg', 'cat/cat.85.jpg', 'cat/cat.4137.jpg', 'cat/cat.4911.jpg', 'cat/cat.7614.jpg', 'cat/cat.10187.jpg', 'cat/cat.768.jpg', 'cat/cat.5006.jpg', 'cat/cat.11449.jpg', 'cat/cat.10695.jpg', 'cat/cat.2733.jpg', 'cat/cat.8738.jpg', 'cat/cat.264.jpg', 'cat/cat.7612.jpg', 'cat/cat.6981.jpg', 'cat/cat.2441.jpg', 'cat/cat.8593.jpg', 'cat/cat.6022.jpg', 'cat/cat.2716.jpg', 'cat/cat.10276.jpg', 'cat/cat.800.jpg', 'cat/cat.2956.jpg', 'cat/cat.2669.jpg', 'cat/cat.3373.jpg', 'cat/cat.3183.jpg', 'cat/cat.9309.jpg', 'cat/cat.9423.jpg', 'cat/cat.7890.jpg', 'cat/cat.11166.jpg', 'cat/cat.10796.jpg', 'cat/cat.9772.jpg', 'cat/cat.2909.jpg', 'cat/cat.11456.jpg', 'cat/cat.1993.jpg', 'cat/cat.1783.jpg', 'cat/cat.1937.jpg', 'cat/cat.2536.jpg', 'cat/cat.8105.jpg', 'cat/cat.881.jpg', 'cat/cat.6910.jpg', 'cat/cat.2046.jpg', 'cat/cat.11492.jpg', 'cat/cat.3713.jpg', 'cat/cat.7680.jpg', 'cat/cat.11685.jpg', 'cat/cat.12368.jpg', 'cat/cat.7095.jpg', 'cat/cat.6639.jpg', 'cat/cat.5078.jpg', 'cat/cat.7037.jpg', 'cat/cat.420.jpg', 'cat/cat.3677.jpg', 'cat/cat.1137.jpg', 'cat/cat.921.jpg', 'cat/cat.791.jpg', 'cat/cat.675.jpg', 'cat/cat.10327.jpg', 'cat/cat.8714.jpg', 'cat/cat.2564.jpg', 'cat/cat.2047.jpg', 'cat/cat.7161.jpg', 'cat/cat.3678.jpg', 'cat/cat.7573.jpg', 'cat/cat.7305.jpg', 'cat/cat.10069.jpg', 'cat/cat.7781.jpg', 'cat/cat.8796.jpg', 'cat/cat.1815.jpg', 'cat/cat.10625.jpg', 'cat/cat.4979.jpg', 'cat/cat.8149.jpg', 'cat/cat.5886.jpg', 'cat/cat.6254.jpg', 'cat/cat.3942.jpg', 'cat/cat.9047.jpg', 'cat/cat.4440.jpg', 'cat/cat.12277.jpg', 'cat/cat.9377.jpg', 'cat/cat.9716.jpg', 'cat/cat.9990.jpg', 'cat/cat.10182.jpg', 'cat/cat.12472.jpg', 'cat/cat.9794.jpg', 'cat/cat.7720.jpg', 'cat/cat.1155.jpg', 'cat/cat.4387.jpg', 'cat/cat.2937.jpg', 'cat/cat.10798.jpg', 'cat/cat.6033.jpg', 'cat/cat.3058.jpg', 'cat/cat.12184.jpg', 'cat/cat.1092.jpg', 'cat/cat.3130.jpg', 'cat/cat.4771.jpg', 'cat/cat.1668.jpg', 'cat/cat.6898.jpg', 'cat/cat.10236.jpg', 'cat/cat.3567.jpg', 'cat/cat.2322.jpg', 'cat/cat.374.jpg', 'cat/cat.10499.jpg', 'cat/cat.5383.jpg', 'cat/cat.7158.jpg', 'cat/cat.5161.jpg', 'cat/cat.2002.jpg', 'cat/cat.11654.jpg', 'cat/cat.193.jpg', 'cat/cat.2053.jpg', 'cat/cat.1963.jpg', 'cat/cat.1621.jpg', 'cat/cat.156.jpg', 'cat/cat.2831.jpg', 'cat/cat.9948.jpg', 'cat/cat.6849.jpg', 'cat/cat.3997.jpg', 'cat/cat.9899.jpg', 'cat/cat.6715.jpg', 'cat/cat.8397.jpg', 'cat/cat.6845.jpg', 'cat/cat.6761.jpg', 'cat/cat.1964.jpg', 'cat/cat.5742.jpg', 'cat/cat.4826.jpg', 'cat/cat.6359.jpg', 'cat/cat.4868.jpg', 'cat/cat.8732.jpg', 'cat/cat.5846.jpg', 'cat/cat.6345.jpg', 'cat/cat.9767.jpg', 'cat/cat.7655.jpg', 'cat/cat.4681.jpg', 'cat/cat.3451.jpg', 'cat/cat.3524.jpg', 'cat/cat.2032.jpg', 'cat/cat.7731.jpg', 'cat/cat.4151.jpg', 'cat/cat.12347.jpg', 'cat/cat.2861.jpg', 'cat/cat.547.jpg', 'cat/cat.10109.jpg', 'cat/cat.9842.jpg', 'cat/cat.10667.jpg', 'cat/cat.9341.jpg', 'cat/cat.6077.jpg', 'cat/cat.2248.jpg', 'cat/cat.1209.jpg', 'cat/cat.5524.jpg', 'cat/cat.6736.jpg', 'cat/cat.10220.jpg', 'cat/cat.276.jpg', 'cat/cat.7265.jpg', 'cat/cat.9394.jpg', 'cat/cat.10617.jpg', 'cat/cat.12348.jpg', 'cat/cat.5636.jpg', 'cat/cat.12049.jpg', 'cat/cat.10938.jpg', 'cat/cat.5479.jpg', 'cat/cat.11783.jpg', 'cat/cat.2998.jpg', 'cat/cat.10178.jpg', 'cat/cat.8048.jpg', 'cat/cat.6523.jpg', 'cat/cat.3919.jpg', 'cat/cat.5425.jpg', 'cat/cat.1645.jpg', 'cat/cat.4351.jpg', 'cat/cat.9395.jpg', 'cat/cat.4086.jpg', 'cat/cat.10715.jpg', 'cat/cat.958.jpg', 'cat/cat.9588.jpg', 'cat/cat.8639.jpg', 'cat/cat.5632.jpg', 'cat/cat.3395.jpg', 'cat/cat.10013.jpg', 'cat/cat.3333.jpg', 'cat/cat.6911.jpg', 'cat/cat.3650.jpg', 'cat/cat.11398.jpg', 'cat/cat.6057.jpg', 'cat/cat.4442.jpg', 'cat/cat.1158.jpg', 'cat/cat.8856.jpg', 'cat/cat.2886.jpg', 'cat/cat.8517.jpg', 'cat/cat.11439.jpg', 'cat/cat.7096.jpg', 'cat/cat.3255.jpg', 'cat/cat.6322.jpg', 'cat/cat.2429.jpg', 'cat/cat.6483.jpg', 'cat/cat.3562.jpg', 'cat/cat.293.jpg', 'cat/cat.9435.jpg', 'cat/cat.7520.jpg', 'cat/cat.7988.jpg', 'cat/cat.3712.jpg', 'cat/cat.9429.jpg', 'cat/cat.11586.jpg', 'cat/cat.2769.jpg', 'cat/cat.9600.jpg', 'cat/cat.8650.jpg', 'cat/cat.3903.jpg', 'cat/cat.3748.jpg', 'cat/cat.3690.jpg', 'cat/cat.2336.jpg', 'cat/cat.249.jpg', 'cat/cat.3917.jpg', 'cat/cat.9612.jpg', 'cat/cat.2906.jpg', 'cat/cat.6511.jpg', 'cat/cat.7336.jpg', 'cat/cat.59.jpg', 'cat/cat.11828.jpg', 'cat/cat.4862.jpg', 'cat/cat.3527.jpg', 'cat/cat.12387.jpg', 'cat/cat.6204.jpg', 'cat/cat.10022.jpg', 'cat/cat.9876.jpg', 'cat/cat.9245.jpg', 'cat/cat.7170.jpg', 'cat/cat.9428.jpg', 'cat/cat.5174.jpg', 'cat/cat.1872.jpg', 'cat/cat.5753.jpg', 'cat/cat.1719.jpg', 'cat/cat.10694.jpg', 'cat/cat.3371.jpg', 'cat/cat.909.jpg', 'cat/cat.2061.jpg', 'cat/cat.7506.jpg', 'cat/cat.11154.jpg', 'cat/cat.11109.jpg', 'cat/cat.2372.jpg', 'cat/cat.7840.jpg', 'cat/cat.2146.jpg', 'cat/cat.10462.jpg', 'cat/cat.6496.jpg', 'cat/cat.7156.jpg', 'cat/cat.9665.jpg', 'cat/cat.1312.jpg', 'cat/cat.163.jpg', 'cat/cat.945.jpg', 'cat/cat.2730.jpg', 'cat/cat.8006.jpg', 'cat/cat.9734.jpg', 'cat/cat.1820.jpg', 'cat/cat.11105.jpg', 'cat/cat.9032.jpg', 'cat/cat.4912.jpg', 'cat/cat.8139.jpg', 'cat/cat.5157.jpg', 'cat/cat.5503.jpg', 'cat/cat.2197.jpg', 'cat/cat.7514.jpg', 'cat/cat.3400.jpg', 'cat/cat.11399.jpg', 'cat/cat.373.jpg', 'cat/cat.5296.jpg', 'cat/cat.8792.jpg', 'cat/cat.10093.jpg', 'cat/cat.103.jpg', 'cat/cat.3933.jpg', 'cat/cat.6897.jpg', 'cat/cat.11403.jpg', 'cat/cat.12346.jpg', 'cat/cat.565.jpg', 'cat/cat.9138.jpg', 'cat/cat.6513.jpg', 'cat/cat.1763.jpg', 'cat/cat.2679.jpg', 'cat/cat.5145.jpg', 'cat/cat.6304.jpg', 'cat/cat.4700.jpg', 'cat/cat.5223.jpg', 'cat/cat.4360.jpg', 'cat/cat.9457.jpg', 'cat/cat.7474.jpg', 'cat/cat.6578.jpg', 'cat/cat.12031.jpg', 'cat/cat.12005.jpg', 'cat/cat.8415.jpg', 'cat/cat.10664.jpg', 'cat/cat.6762.jpg', 'cat/cat.2157.jpg', 'cat/cat.4741.jpg', 'cat/cat.4567.jpg', 'cat/cat.6055.jpg', 'cat/cat.7917.jpg', 'cat/cat.6454.jpg', 'cat/cat.7629.jpg', 'cat/cat.7594.jpg', 'cat/cat.4326.jpg', 'cat/cat.9228.jpg', 'cat/cat.1797.jpg', 'cat/cat.2259.jpg', 'cat/cat.2613.jpg', 'cat/cat.8488.jpg', 'cat/cat.386.jpg', 'cat/cat.11560.jpg', 'cat/cat.10145.jpg', 'cat/cat.11653.jpg', 'cat/cat.1294.jpg', 'cat/cat.515.jpg', 'cat/cat.1701.jpg', 'cat/cat.6406.jpg', 'cat/cat.6331.jpg', 'cat/cat.925.jpg', 'cat/cat.9100.jpg', 'cat/cat.1438.jpg', 'cat/cat.5164.jpg', 'cat/cat.4258.jpg', 'cat/cat.9801.jpg', 'cat/cat.58.jpg', 'cat/cat.4470.jpg', 'cat/cat.2616.jpg', 'cat/cat.2212.jpg', 'cat/cat.6348.jpg', 'cat/cat.8781.jpg', 'cat/cat.10099.jpg', 'cat/cat.6596.jpg', 'cat/cat.9378.jpg', 'cat/cat.11832.jpg', 'cat/cat.6544.jpg', 'cat/cat.5096.jpg', 'cat/cat.12305.jpg', 'cat/cat.9331.jpg', 'cat/cat.6372.jpg', 'cat/cat.349.jpg', 'cat/cat.3742.jpg', 'cat/cat.11025.jpg', 'cat/cat.9373.jpg', 'cat/cat.8250.jpg', 'cat/cat.4818.jpg', 'cat/cat.5729.jpg', 'cat/cat.9708.jpg', 'cat/cat.906.jpg', 'cat/cat.1057.jpg', 'cat/cat.5284.jpg', 'cat/cat.3711.jpg', 'cat/cat.1587.jpg', 'cat/cat.9793.jpg', 'cat/cat.380.jpg', 'cat/cat.4713.jpg', 'cat/cat.10269.jpg', 'cat/cat.9255.jpg', 'cat/cat.7922.jpg', 'cat/cat.8155.jpg', 'cat/cat.10372.jpg', 'cat/cat.6161.jpg', 'cat/cat.5407.jpg', 'cat/cat.2113.jpg', 'cat/cat.5702.jpg', 'cat/cat.3017.jpg', 'cat/cat.8181.jpg', 'cat/cat.3013.jpg', 'cat/cat.5118.jpg', 'cat/cat.2315.jpg', 'cat/cat.1632.jpg', 'cat/cat.10713.jpg', 'cat/cat.6923.jpg', 'cat/cat.5553.jpg', 'cat/cat.3927.jpg', 'cat/cat.11610.jpg', 'cat/cat.2725.jpg', 'cat/cat.7243.jpg', 'cat/cat.3022.jpg', 'cat/cat.4483.jpg', 'cat/cat.8102.jpg', 'cat/cat.9676.jpg', 'cat/cat.3762.jpg', 'cat/cat.2618.jpg', 'cat/cat.9254.jpg', 'cat/cat.7621.jpg', 'cat/cat.2296.jpg', 'cat/cat.7697.jpg', 'cat/cat.4932.jpg', 'cat/cat.4216.jpg', 'cat/cat.2301.jpg', 'cat/cat.7914.jpg', 'cat/cat.11724.jpg', 'cat/cat.7310.jpg', 'cat/cat.3725.jpg', 'cat/cat.9926.jpg', 'cat/cat.6939.jpg', 'cat/cat.11846.jpg', 'cat/cat.2147.jpg', 'cat/cat.3930.jpg', 'cat/cat.6469.jpg', 'cat/cat.8750.jpg', 'cat/cat.2129.jpg', 'cat/cat.4427.jpg', 'cat/cat.1944.jpg', 'cat/cat.5510.jpg', 'cat/cat.1971.jpg', 'cat/cat.9625.jpg', 'cat/cat.656.jpg', 'cat/cat.10446.jpg', 'cat/cat.11611.jpg', 'cat/cat.5160.jpg', 'cat/cat.4552.jpg', 'cat/cat.725.jpg', 'cat/cat.3162.jpg', 'cat/cat.5622.jpg', 'cat/cat.8702.jpg', 'cat/cat.8405.jpg', 'cat/cat.4205.jpg', 'cat/cat.8417.jpg', 'cat/cat.2082.jpg', 'cat/cat.9841.jpg', 'cat/cat.9196.jpg', 'cat/cat.10042.jpg', 'cat/cat.4471.jpg', 'cat/cat.722.jpg', 'cat/cat.1006.jpg', 'cat/cat.7740.jpg', 'cat/cat.9227.jpg', 'cat/cat.3674.jpg', 'cat/cat.3188.jpg', 'cat/cat.4249.jpg', 'cat/cat.994.jpg', 'cat/cat.4049.jpg', 'cat/cat.5985.jpg', 'cat/cat.435.jpg', 'cat/cat.4530.jpg', 'cat/cat.9572.jpg', 'cat/cat.5202.jpg', 'cat/cat.4710.jpg', 'cat/cat.12286.jpg', 'cat/cat.4845.jpg', 'cat/cat.6515.jpg', 'cat/cat.541.jpg', 'cat/cat.6821.jpg', 'cat/cat.7882.jpg', 'cat/cat.10340.jpg', 'cat/cat.6429.jpg', 'cat/cat.7423.jpg', 'cat/cat.10155.jpg', 'cat/cat.10186.jpg', 'cat/cat.5713.jpg', 'cat/cat.620.jpg', 'cat/cat.4535.jpg', 'cat/cat.9046.jpg', 'cat/cat.6621.jpg', 'cat/cat.4282.jpg', 'cat/cat.10500.jpg', 'cat/cat.4221.jpg', 'cat/cat.5763.jpg', 'cat/cat.447.jpg', 'cat/cat.11427.jpg', 'cat/cat.3338.jpg', 'cat/cat.1737.jpg', 'cat/cat.10641.jpg', 'cat/cat.2015.jpg', 'cat/cat.8030.jpg', 'cat/cat.11855.jpg', 'cat/cat.3970.jpg', 'cat/cat.9848.jpg', 'cat/cat.3687.jpg', 'cat/cat.4793.jpg', 'cat/cat.8111.jpg', 'cat/cat.5395.jpg', 'cat/cat.5180.jpg', 'cat/cat.4961.jpg', 'cat/cat.1951.jpg', 'cat/cat.1886.jpg', 'cat/cat.8728.jpg', 'cat/cat.1816.jpg', 'cat/cat.7585.jpg', 'cat/cat.5294.jpg', 'cat/cat.2899.jpg', 'cat/cat.1014.jpg', 'cat/cat.6888.jpg', 'cat/cat.6187.jpg', 'cat/cat.983.jpg', 'cat/cat.4303.jpg', 'cat/cat.8050.jpg', 'cat/cat.3516.jpg', 'cat/cat.7921.jpg', 'cat/cat.8854.jpg', 'cat/cat.8686.jpg', 'cat/cat.12139.jpg', 'cat/cat.1711.jpg', 'cat/cat.6272.jpg', 'cat/cat.8400.jpg', 'cat/cat.9339.jpg', 'cat/cat.4955.jpg', 'cat/cat.3161.jpg', 'cat/cat.943.jpg', 'cat/cat.9537.jpg', 'cat/cat.4607.jpg', 'cat/cat.3011.jpg', 'cat/cat.12439.jpg', 'cat/cat.6415.jpg', 'cat/cat.10406.jpg', 'cat/cat.11209.jpg', 'cat/cat.9411.jpg', 'cat/cat.6796.jpg', 'cat/cat.493.jpg', 'cat/cat.11387.jpg', 'cat/cat.4582.jpg', 'cat/cat.9736.jpg', 'cat/cat.10512.jpg', 'cat/cat.3596.jpg', 'cat/cat.11774.jpg', 'cat/cat.4403.jpg', 'cat/cat.10032.jpg', 'cat/cat.4752.jpg', 'cat/cat.2204.jpg', 'cat/cat.3856.jpg', 'cat/cat.4226.jpg', 'cat/cat.9674.jpg', 'cat/cat.2475.jpg', 'cat/cat.2001.jpg', 'cat/cat.5876.jpg', 'cat/cat.483.jpg', 'cat/cat.8373.jpg', 'cat/cat.7984.jpg', 'cat/cat.12164.jpg', 'cat/cat.8699.jpg', 'cat/cat.11929.jpg', 'cat/cat.651.jpg', 'cat/cat.6773.jpg', 'cat/cat.2238.jpg', 'cat/cat.4783.jpg', 'cat/cat.6140.jpg', 'cat/cat.6610.jpg', 'cat/cat.300.jpg', 'cat/cat.12382.jpg', 'cat/cat.8971.jpg', 'cat/cat.2325.jpg', 'cat/cat.6155.jpg', 'cat/cat.7862.jpg', 'cat/cat.11089.jpg', 'cat/cat.326.jpg', 'cat/cat.2750.jpg', 'cat/cat.11133.jpg', 'cat/cat.7120.jpg', 'cat/cat.10435.jpg', 'cat/cat.5549.jpg', 'cat/cat.5866.jpg', 'cat/cat.5042.jpg', 'cat/cat.2501.jpg', 'cat/cat.587.jpg', 'cat/cat.11125.jpg', 'cat/cat.12366.jpg', 'cat/cat.8217.jpg', 'cat/cat.9719.jpg', 'cat/cat.2427.jpg', 'cat/cat.1734.jpg', 'cat/cat.10194.jpg', 'cat/cat.7900.jpg', 'cat/cat.8151.jpg', 'cat/cat.5805.jpg', 'cat/cat.5219.jpg', 'cat/cat.1585.jpg', 'cat/cat.520.jpg', 'cat/cat.7662.jpg', 'cat/cat.4372.jpg', 'cat/cat.5711.jpg', 'cat/cat.4874.jpg', 'cat/cat.1543.jpg', 'cat/cat.10872.jpg', 'cat/cat.1447.jpg', 'cat/cat.3102.jpg', 'cat/cat.8808.jpg', 'cat/cat.4175.jpg', 'cat/cat.5376.jpg', 'cat/cat.7748.jpg', 'cat/cat.9031.jpg', 'cat/cat.3898.jpg', 'cat/cat.11201.jpg', 'cat/cat.2897.jpg', 'cat/cat.5074.jpg', 'cat/cat.11128.jpg', 'cat/cat.5959.jpg', 'cat/cat.7127.jpg', 'cat/cat.6553.jpg', 'cat/cat.6955.jpg', 'cat/cat.5000.jpg', 'cat/cat.3306.jpg', 'cat/cat.4957.jpg', 'cat/cat.8602.jpg', 'cat/cat.10136.jpg', 'cat/cat.4660.jpg', 'cat/cat.2507.jpg', 'cat/cat.6163.jpg', 'cat/cat.3008.jpg', 'cat/cat.1453.jpg', 'cat/cat.3454.jpg', 'cat/cat.1644.jpg', 'cat/cat.12457.jpg', 'cat/cat.10682.jpg', 'cat/cat.7180.jpg', 'cat/cat.5829.jpg', 'cat/cat.702.jpg', 'cat/cat.12247.jpg', 'cat/cat.9865.jpg', 'cat/cat.2504.jpg', 'cat/cat.10569.jpg', 'cat/cat.4488.jpg', 'cat/cat.11475.jpg', 'cat/cat.560.jpg', 'cat/cat.6965.jpg', 'cat/cat.10950.jpg', 'cat/cat.5745.jpg', 'cat/cat.5761.jpg', 'cat/cat.1530.jpg', 'cat/cat.10394.jpg', 'cat/cat.5342.jpg', 'cat/cat.7792.jpg', 'cat/cat.7943.jpg', 'cat/cat.11604.jpg', 'cat/cat.1712.jpg', 'cat/cat.10784.jpg', 'cat/cat.4114.jpg', 'cat/cat.12058.jpg', 'cat/cat.9680.jpg', 'cat/cat.6525.jpg', 'cat/cat.10271.jpg', 'cat/cat.7392.jpg', 'cat/cat.334.jpg', 'cat/cat.4347.jpg', 'cat/cat.1982.jpg', 'cat/cat.12449.jpg', 'cat/cat.9614.jpg', 'cat/cat.4294.jpg', 'cat/cat.11794.jpg', 'cat/cat.3159.jpg', 'cat/cat.4953.jpg', 'cat/cat.6816.jpg', 'cat/cat.9401.jpg', 'cat/cat.5809.jpg', 'cat/cat.4673.jpg', 'cat/cat.7139.jpg', 'cat/cat.8275.jpg', 'cat/cat.9226.jpg', 'cat/cat.1760.jpg', 'cat/cat.9173.jpg', 'cat/cat.3666.jpg', 'cat/cat.8883.jpg', 'cat/cat.476.jpg', 'cat/cat.3119.jpg', 'cat/cat.4265.jpg', 'cat/cat.11412.jpg', 'cat/cat.371.jpg', 'cat/cat.8881.jpg', 'cat/cat.5173.jpg', 'cat/cat.9601.jpg', 'cat/cat.9806.jpg', 'cat/cat.10871.jpg', 'cat/cat.5728.jpg', 'cat/cat.12491.jpg', 'cat/cat.297.jpg', 'cat/cat.1817.jpg', 'cat/cat.6652.jpg', 'cat/cat.9361.jpg', 'cat/cat.9671.jpg', 'cat/cat.632.jpg', 'cat/cat.8370.jpg', 'cat/cat.1794.jpg', 'cat/cat.3116.jpg', 'cat/cat.10881.jpg', 'cat/cat.12217.jpg', 'cat/cat.10493.jpg', 'cat/cat.4595.jpg', 'cat/cat.10602.jpg', 'cat/cat.7186.jpg', 'cat/cat.5013.jpg', 'cat/cat.12264.jpg', 'cat/cat.8433.jpg', 'cat/cat.3652.jpg', 'cat/cat.9308.jpg', 'cat/cat.12249.jpg', 'cat/cat.2347.jpg', 'cat/cat.6278.jpg', 'cat/cat.11953.jpg', 'cat/cat.4891.jpg', 'cat/cat.338.jpg', 'cat/cat.4594.jpg', 'cat/cat.4889.jpg', 'cat/cat.6240.jpg', 'cat/cat.11235.jpg', 'cat/cat.11852.jpg', 'cat/cat.6112.jpg', 'cat/cat.12232.jpg', 'cat/cat.2448.jpg', 'cat/cat.7356.jpg', 'cat/cat.5362.jpg', 'cat/cat.6434.jpg', 'cat/cat.3341.jpg', 'cat/cat.11306.jpg', 'cat/cat.11535.jpg', 'cat/cat.9618.jpg', 'cat/cat.5165.jpg', 'cat/cat.1322.jpg', 'cat/cat.1640.jpg', 'cat/cat.649.jpg', 'cat/cat.1977.jpg', 'cat/cat.9013.jpg', 'cat/cat.8208.jpg', 'cat/cat.3260.jpg', 'cat/cat.11661.jpg', 'cat/cat.11316.jpg', 'cat/cat.2304.jpg', 'cat/cat.4190.jpg', 'cat/cat.7815.jpg', 'cat/cat.2433.jpg', 'cat/cat.8660.jpg', 'cat/cat.3111.jpg', 'cat/cat.470.jpg', 'cat/cat.9180.jpg', 'cat/cat.6039.jpg', 'cat/cat.6988.jpg', 'cat/cat.6443.jpg', 'cat/cat.1774.jpg', 'cat/cat.946.jpg', 'cat/cat.7653.jpg', 'cat/cat.835.jpg', 'cat/cat.11511.jpg', 'cat/cat.797.jpg', 'cat/cat.10122.jpg', 'cat/cat.1230.jpg', 'cat/cat.4524.jpg', 'cat/cat.1226.jpg', 'cat/cat.677.jpg', 'cat/cat.9969.jpg', 'cat/cat.812.jpg', 'cat/cat.7257.jpg', 'cat/cat.5245.jpg', 'cat/cat.3072.jpg', 'cat/cat.5345.jpg', 'cat/cat.7807.jpg', 'cat/cat.10016.jpg', 'cat/cat.8851.jpg', 'cat/cat.1303.jpg', 'cat/cat.7198.jpg', 'cat/cat.6009.jpg', 'cat/cat.2481.jpg', 'cat/cat.3899.jpg', 'cat/cat.7041.jpg', 'cat/cat.4506.jpg', 'cat/cat.3724.jpg', 'cat/cat.3003.jpg', 'cat/cat.4048.jpg', 'cat/cat.5852.jpg', 'cat/cat.7638.jpg', 'cat/cat.4366.jpg', 'cat/cat.2880.jpg', 'cat/cat.5036.jpg', 'cat/cat.8820.jpg', 'cat/cat.2755.jpg', 'cat/cat.9250.jpg', 'cat/cat.8045.jpg', 'cat/cat.6528.jpg', 'cat/cat.12298.jpg', 'cat/cat.3733.jpg', 'cat/cat.10951.jpg', 'cat/cat.3166.jpg', 'cat/cat.6006.jpg', 'cat/cat.7793.jpg', 'cat/cat.2117.jpg', 'cat/cat.4298.jpg', 'cat/cat.8044.jpg', 'cat/cat.9186.jpg', 'cat/cat.3009.jpg', 'cat/cat.6437.jpg', 'cat/cat.2895.jpg', 'cat/cat.12225.jpg', 'cat/cat.208.jpg', 'cat/cat.3640.jpg', 'cat/cat.1578.jpg', 'cat/cat.5009.jpg', 'cat/cat.3446.jpg', 'cat/cat.6556.jpg', 'cat/cat.8558.jpg', 'cat/cat.8019.jpg', 'cat/cat.9102.jpg', 'cat/cat.6539.jpg', 'cat/cat.109.jpg', 'cat/cat.7217.jpg', 'cat/cat.7122.jpg', 'cat/cat.7646.jpg', 'cat/cat.11735.jpg', 'cat/cat.8784.jpg', 'cat/cat.4852.jpg', 'cat/cat.7137.jpg', 'cat/cat.7710.jpg', 'cat/cat.2735.jpg', 'cat/cat.9635.jpg', 'cat/cat.6958.jpg', 'cat/cat.10827.jpg', 'cat/cat.9521.jpg', 'cat/cat.5456.jpg', 'cat/cat.1726.jpg', 'cat/cat.11911.jpg', 'cat/cat.3722.jpg', 'cat/cat.6793.jpg', 'cat/cat.382.jpg', 'cat/cat.665.jpg', 'cat/cat.3069.jpg', 'cat/cat.309.jpg', 'cat/cat.4375.jpg', 'cat/cat.10716.jpg', 'cat/cat.10198.jpg', 'cat/cat.8852.jpg', 'cat/cat.7447.jpg', 'cat/cat.2911.jpg', 'cat/cat.6157.jpg', 'cat/cat.9363.jpg', 'cat/cat.1619.jpg', 'cat/cat.10986.jpg', 'cat/cat.12410.jpg', 'cat/cat.5614.jpg', 'cat/cat.9181.jpg', 'cat/cat.5962.jpg', 'cat/cat.3369.jpg', 'cat/cat.6007.jpg', 'cat/cat.10744.jpg', 'cat/cat.2625.jpg', 'cat/cat.3979.jpg', 'cat/cat.6075.jpg', 'cat/cat.5943.jpg', 'cat/cat.3214.jpg', 'cat/cat.11361.jpg', 'cat/cat.8649.jpg', 'cat/cat.4723.jpg', 'cat/cat.10133.jpg', 'cat/cat.1898.jpg', 'cat/cat.9757.jpg', 'cat/cat.10322.jpg', 'cat/cat.5969.jpg', 'cat/cat.1096.jpg', 'cat/cat.7881.jpg', 'cat/cat.579.jpg', 'cat/cat.11669.jpg', 'cat/cat.10891.jpg', 'cat/cat.6856.jpg', 'cat/cat.4474.jpg', 'cat/cat.678.jpg', 'cat/cat.3318.jpg', 'cat/cat.7234.jpg', 'cat/cat.9804.jpg', 'cat/cat.8254.jpg', 'cat/cat.11524.jpg', 'cat/cat.5537.jpg', 'cat/cat.11050.jpg', 'cat/cat.2908.jpg', 'cat/cat.3303.jpg', 'cat/cat.254.jpg', 'cat/cat.2565.jpg', 'cat/cat.1818.jpg', 'cat/cat.11590.jpg', 'cat/cat.10915.jpg', 'cat/cat.3421.jpg', 'cat/cat.8279.jpg', 'cat/cat.6851.jpg', 'cat/cat.4997.jpg', 'cat/cat.11106.jpg', 'cat/cat.9963.jpg', 'cat/cat.8198.jpg', 'cat/cat.9615.jpg', 'cat/cat.7675.jpg', 'cat/cat.2763.jpg', 'cat/cat.9843.jpg', 'cat/cat.7571.jpg', 'cat/cat.190.jpg', 'cat/cat.12053.jpg', 'cat/cat.1460.jpg', 'cat/cat.10308.jpg', 'cat/cat.11479.jpg', 'cat/cat.10248.jpg', 'cat/cat.6386.jpg', 'cat/cat.5974.jpg', 'cat/cat.3929.jpg', 'cat/cat.6257.jpg', 'cat/cat.6214.jpg', 'cat/cat.4023.jpg', 'cat/cat.655.jpg', 'cat/cat.8259.jpg', 'cat/cat.12241.jpg', 'cat/cat.5426.jpg', 'cat/cat.1702.jpg', 'cat/cat.4609.jpg', 'cat/cat.3448.jpg', 'cat/cat.5264.jpg', 'cat/cat.11838.jpg', 'cat/cat.4008.jpg', 'cat/cat.2456.jpg', 'cat/cat.11245.jpg', 'cat/cat.7295.jpg', 'cat/cat.8391.jpg', 'cat/cat.4991.jpg', 'cat/cat.5328.jpg', 'cat/cat.5149.jpg', 'cat/cat.2898.jpg', 'cat/cat.7934.jpg', 'cat/cat.9294.jpg', 'cat/cat.6521.jpg', 'cat/cat.8356.jpg', 'cat/cat.11628.jpg', 'cat/cat.4629.jpg', 'cat/cat.1216.jpg', 'cat/cat.475.jpg', 'cat/cat.529.jpg', 'cat/cat.11646.jpg', 'cat/cat.9536.jpg', 'cat/cat.2844.jpg', 'cat/cat.11665.jpg', 'cat/cat.6614.jpg', 'cat/cat.11045.jpg', 'cat/cat.9534.jpg', 'cat/cat.3778.jpg', 'cat/cat.1740.jpg', 'cat/cat.3823.jpg', 'cat/cat.5590.jpg', 'cat/cat.5269.jpg', 'cat/cat.8681.jpg', 'cat/cat.10932.jpg', 'cat/cat.10791.jpg', 'cat/cat.7489.jpg', 'cat/cat.3552.jpg', 'cat/cat.4354.jpg', 'cat/cat.3657.jpg', 'cat/cat.10907.jpg', 'cat/cat.3534.jpg', 'cat/cat.9343.jpg', 'cat/cat.9369.jpg', 'cat/cat.116.jpg', 'cat/cat.8984.jpg', 'cat/cat.10945.jpg', 'cat/cat.12276.jpg', 'cat/cat.10383.jpg', 'cat/cat.10696.jpg', 'cat/cat.166.jpg', 'cat/cat.5849.jpg', 'cat/cat.4545.jpg', 'cat/cat.26.jpg', 'cat/cat.464.jpg', 'cat/cat.5541.jpg', 'cat/cat.1125.jpg', 'cat/cat.4267.jpg', 'cat/cat.1745.jpg', 'cat/cat.12340.jpg', 'cat/cat.10669.jpg', 'cat/cat.9691.jpg', 'cat/cat.7554.jpg', 'cat/cat.5595.jpg', 'cat/cat.10480.jpg', 'cat/cat.11342.jpg', 'cat/cat.4106.jpg', 'cat/cat.6548.jpg', 'cat/cat.11032.jpg', 'cat/cat.6917.jpg', 'cat/cat.6811.jpg', 'cat/cat.11355.jpg', 'cat/cat.3038.jpg', 'cat/cat.8376.jpg', 'cat/cat.1386.jpg', 'cat/cat.3267.jpg', 'cat/cat.10705.jpg', 'cat/cat.1435.jpg', 'cat/cat.4650.jpg', 'cat/cat.11565.jpg', 'cat/cat.10834.jpg', 'cat/cat.1955.jpg', 'cat/cat.11210.jpg', 'cat/cat.3597.jpg', 'cat/cat.6638.jpg', 'cat/cat.7580.jpg', 'cat/cat.862.jpg', 'cat/cat.3850.jpg', 'cat/cat.7579.jpg', 'cat/cat.2946.jpg', 'cat/cat.5152.jpg', 'cat/cat.11443.jpg', 'cat/cat.4302.jpg', 'cat/cat.11727.jpg', 'cat/cat.438.jpg', 'cat/cat.4628.jpg', 'cat/cat.2704.jpg', 'cat/cat.10329.jpg', 'cat/cat.3368.jpg', 'cat/cat.6142.jpg', 'cat/cat.5810.jpg', 'cat/cat.5491.jpg', 'cat/cat.2287.jpg', 'cat/cat.793.jpg', 'cat/cat.9506.jpg', 'cat/cat.5756.jpg', 'cat/cat.8872.jpg', 'cat/cat.1857.jpg', 'cat/cat.10458.jpg', 'cat/cat.4727.jpg', 'cat/cat.6826.jpg', 'cat/cat.959.jpg', 'cat/cat.1829.jpg', 'cat/cat.12456.jpg', 'cat/cat.6054.jpg', 'cat/cat.7940.jpg', 'cat/cat.7939.jpg', 'cat/cat.7548.jpg', 'cat/cat.9146.jpg', 'cat/cat.1989.jpg', 'cat/cat.12282.jpg', 'cat/cat.11823.jpg', 'cat/cat.10873.jpg', 'cat/cat.1833.jpg', 'cat/cat.6107.jpg', 'cat/cat.5857.jpg', 'cat/cat.9218.jpg', 'cat/cat.1018.jpg', 'cat/cat.9524.jpg', 'cat/cat.1028.jpg', 'cat/cat.11840.jpg', 'cat/cat.9162.jpg', 'cat/cat.624.jpg', 'cat/cat.1391.jpg', 'cat/cat.2310.jpg', 'cat/cat.3327.jpg', 'cat/cat.2786.jpg', 'cat/cat.6259.jpg', 'cat/cat.5026.jpg', 'cat/cat.8658.jpg', 'cat/cat.5801.jpg', 'cat/cat.2011.jpg', 'cat/cat.6349.jpg', 'cat/cat.7635.jpg', 'cat/cat.360.jpg', 'cat/cat.4510.jpg', 'cat/cat.12199.jpg', 'cat/cat.12371.jpg', 'cat/cat.9247.jpg', 'cat/cat.11062.jpg', 'cat/cat.3891.jpg', 'cat/cat.3637.jpg', 'cat/cat.2833.jpg', 'cat/cat.5177.jpg', 'cat/cat.7291.jpg', 'cat/cat.4909.jpg', 'cat/cat.8213.jpg', 'cat/cat.12002.jpg', 'cat/cat.5056.jpg', 'cat/cat.7366.jpg', 'cat/cat.5463.jpg', 'cat/cat.5825.jpg', 'cat/cat.7990.jpg', 'cat/cat.9914.jpg', 'cat/cat.1690.jpg', 'cat/cat.9503.jpg', 'cat/cat.152.jpg', 'cat/cat.11908.jpg', 'cat/cat.10535.jpg', 'cat/cat.2431.jpg', 'cat/cat.6410.jpg', 'cat/cat.10473.jpg', 'cat/cat.6423.jpg', 'cat/cat.4.jpg', 'cat/cat.4531.jpg', 'cat/cat.6766.jpg', 'cat/cat.5204.jpg', 'cat/cat.340.jpg', 'cat/cat.3344.jpg', 'cat/cat.10364.jpg', 'cat/cat.3096.jpg', 'cat/cat.2873.jpg', 'cat/cat.6599.jpg', 'cat/cat.9465.jpg', 'cat/cat.11826.jpg', 'cat/cat.8454.jpg', 'cat/cat.5116.jpg', 'cat/cat.96.jpg', 'cat/cat.2615.jpg', 'cat/cat.10731.jpg', 'cat/cat.955.jpg', 'cat/cat.10887.jpg', 'cat/cat.4411.jpg', 'cat/cat.7294.jpg', 'cat/cat.1266.jpg', 'cat/cat.2327.jpg', 'cat/cat.6213.jpg', 'cat/cat.11111.jpg', 'cat/cat.9440.jpg', 'cat/cat.1195.jpg', 'cat/cat.3326.jpg', 'cat/cat.11932.jpg', 'cat/cat.2423.jpg', 'cat/cat.6450.jpg', 'cat/cat.8343.jpg', 'cat/cat.1224.jpg', 'cat/cat.1738.jpg', 'cat/cat.11801.jpg', 'cat/cat.840.jpg', 'cat/cat.8773.jpg', 'cat/cat.8788.jpg', 'cat/cat.7035.jpg', 'cat/cat.7416.jpg', 'cat/cat.7464.jpg', 'cat/cat.10472.jpg', 'cat/cat.4704.jpg', 'cat/cat.1478.jpg', 'cat/cat.10215.jpg', 'cat/cat.9642.jpg', 'cat/cat.2334.jpg', 'cat/cat.1960.jpg', 'cat/cat.8031.jpg', 'cat/cat.12113.jpg', 'cat/cat.4546.jpg', 'cat/cat.6625.jpg', 'cat/cat.6970.jpg', 'cat/cat.1081.jpg', 'cat/cat.6121.jpg', 'cat/cat.11588.jpg', 'cat/cat.9567.jpg', 'cat/cat.3786.jpg', 'cat/cat.4035.jpg', 'cat/cat.9009.jpg', 'cat/cat.5018.jpg', 'cat/cat.5213.jpg', 'cat/cat.1154.jpg', 'cat/cat.876.jpg', 'cat/cat.6473.jpg', 'cat/cat.10192.jpg', 'cat/cat.2264.jpg', 'cat/cat.4931.jpg', 'cat/cat.10838.jpg', 'cat/cat.2548.jpg', 'cat/cat.3876.jpg', 'cat/cat.8022.jpg', 'cat/cat.1075.jpg', 'cat/cat.4867.jpg', 'cat/cat.10880.jpg', 'cat/cat.7938.jpg', 'cat/cat.8931.jpg', 'cat/cat.7112.jpg', 'cat/cat.10491.jpg', 'cat/cat.3564.jpg', 'cat/cat.4813.jpg', 'cat/cat.4446.jpg', 'cat/cat.11349.jpg', 'cat/cat.8377.jpg', 'cat/cat.3299.jpg', 'cat/cat.1990.jpg', 'cat/cat.8264.jpg', 'cat/cat.9109.jpg', 'cat/cat.6739.jpg', 'cat/cat.11087.jpg', 'cat/cat.6587.jpg', 'cat/cat.11844.jpg', 'cat/cat.1117.jpg', 'cat/cat.5724.jpg', 'cat/cat.7497.jpg', 'cat/cat.11623.jpg', 'cat/cat.5010.jpg', 'cat/cat.2356.jpg', 'cat/cat.2358.jpg', 'cat/cat.2531.jpg', 'cat/cat.1039.jpg', 'cat/cat.11386.jpg', 'cat/cat.900.jpg', 'cat/cat.9338.jpg', 'cat/cat.9479.jpg', 'cat/cat.1634.jpg', 'cat/cat.4421.jpg', 'cat/cat.1860.jpg', 'cat/cat.11705.jpg', 'cat/cat.12144.jpg', 'cat/cat.8466.jpg', 'cat/cat.11333.jpg', 'cat/cat.4142.jpg', 'cat/cat.449.jpg', 'cat/cat.1902.jpg', 'cat/cat.8899.jpg', 'cat/cat.2517.jpg', 'cat/cat.192.jpg', 'cat/cat.9726.jpg', 'cat/cat.11442.jpg', 'cat/cat.5916.jpg', 'cat/cat.4555.jpg', 'cat/cat.7699.jpg', 'cat/cat.3018.jpg', 'cat/cat.10542.jpg', 'cat/cat.9980.jpg', 'cat/cat.7226.jpg', 'cat/cat.4855.jpg', 'cat/cat.10615.jpg', 'cat/cat.11170.jpg', 'cat/cat.7511.jpg', 'cat/cat.2835.jpg', 'cat/cat.9542.jpg', 'cat/cat.5733.jpg', 'cat/cat.9705.jpg', 'cat/cat.9586.jpg', 'cat/cat.9012.jpg', 'cat/cat.169.jpg', 'cat/cat.10144.jpg', 'cat/cat.1263.jpg', 'cat/cat.2872.jpg', 'cat/cat.3012.jpg', 'cat/cat.2587.jpg', 'cat/cat.8116.jpg', 'cat/cat.7833.jpg', 'cat/cat.5339.jpg', 'cat/cat.2166.jpg', 'cat/cat.1456.jpg', 'cat/cat.10942.jpg', 'cat/cat.853.jpg', 'cat/cat.417.jpg', 'cat/cat.3227.jpg', 'cat/cat.1064.jpg', 'cat/cat.2856.jpg', 'cat/cat.8705.jpg', 'cat/cat.10023.jpg', 'cat/cat.7070.jpg', 'cat/cat.9350.jpg', 'cat/cat.3037.jpg', 'cat/cat.10755.jpg', 'cat/cat.855.jpg', 'cat/cat.7462.jpg', 'cat/cat.12388.jpg', 'cat/cat.5672.jpg', 'cat/cat.8974.jpg', 'cat/cat.2406.jpg', 'cat/cat.4425.jpg', 'cat/cat.1554.jpg', 'cat/cat.6138.jpg', 'cat/cat.3682.jpg', 'cat/cat.9631.jpg', 'cat/cat.6658.jpg', 'cat/cat.3417.jpg', 'cat/cat.1883.jpg', 'cat/cat.196.jpg', 'cat/cat.5796.jpg', 'cat/cat.9912.jpg', 'cat/cat.2478.jpg', 'cat/cat.10854.jpg', 'cat/cat.1907.jpg', 'cat/cat.750.jpg', 'cat/cat.7372.jpg', 'cat/cat.5384.jpg', 'cat/cat.1278.jpg', 'cat/cat.3361.jpg', 'cat/cat.10568.jpg', 'cat/cat.10681.jpg', 'cat/cat.6243.jpg', 'cat/cat.10606.jpg', 'cat/cat.9326.jpg', 'cat/cat.9390.jpg', 'cat/cat.716.jpg', 'cat/cat.107.jpg', 'cat/cat.8093.jpg', 'cat/cat.8815.jpg', 'cat/cat.6045.jpg', 'cat/cat.4025.jpg', 'cat/cat.72.jpg', 'cat/cat.8519.jpg', 'cat/cat.9264.jpg', 'cat/cat.5375.jpg', 'cat/cat.12372.jpg', 'cat/cat.4808.jpg', 'cat/cat.12190.jpg', 'cat/cat.5854.jpg', 'cat/cat.5410.jpg', 'cat/cat.11236.jpg', 'cat/cat.10687.jpg', 'cat/cat.6617.jpg', 'cat/cat.5134.jpg', 'cat/cat.8345.jpg', 'cat/cat.9150.jpg', 'cat/cat.5423.jpg', 'cat/cat.601.jpg', 'cat/cat.120.jpg', 'cat/cat.1165.jpg', 'cat/cat.10598.jpg', 'cat/cat.314.jpg', 'cat/cat.7711.jpg', 'cat/cat.5373.jpg', 'cat/cat.1995.jpg', 'cat/cat.4988.jpg', 'cat/cat.11917.jpg', 'cat/cat.1546.jpg', 'cat/cat.7065.jpg', 'cat/cat.4455.jpg', 'cat/cat.4275.jpg', 'cat/cat.3604.jpg', 'cat/cat.4643.jpg', 'cat/cat.12176.jpg', 'cat/cat.505.jpg', 'cat/cat.3613.jpg', 'cat/cat.11976.jpg', 'cat/cat.3860.jpg', 'cat/cat.10860.jpg', 'cat/cat.11615.jpg', 'cat/cat.5485.jpg', 'cat/cat.2792.jpg', 'cat/cat.2265.jpg', 'cat/cat.6565.jpg', 'cat/cat.7312.jpg', 'cat/cat.5765.jpg', 'cat/cat.9474.jpg', 'cat/cat.5585.jpg', 'cat/cat.9236.jpg', 'cat/cat.9977.jpg', 'cat/cat.8025.jpg', 'cat/cat.7332.jpg', 'cat/cat.7806.jpg', 'cat/cat.3600.jpg', 'cat/cat.3852.jpg', 'cat/cat.1821.jpg', 'cat/cat.961.jpg', 'cat/cat.7319.jpg', 'cat/cat.5568.jpg', 'cat/cat.6453.jpg', 'cat/cat.2285.jpg', 'cat/cat.8608.jpg', 'cat/cat.4393.jpg', 'cat/cat.8505.jpg', 'cat/cat.9259.jpg', 'cat/cat.5419.jpg', 'cat/cat.11371.jpg', 'cat/cat.1945.jpg', 'cat/cat.5802.jpg', 'cat/cat.7103.jpg', 'cat/cat.5656.jpg', 'cat/cat.10590.jpg', 'cat/cat.2934.jpg', 'cat/cat.3182.jpg', 'cat/cat.9897.jpg', 'cat/cat.847.jpg', 'cat/cat.2678.jpg', 'cat/cat.11614.jpg', 'cat/cat.467.jpg', 'cat/cat.8159.jpg', 'cat/cat.8107.jpg', 'cat/cat.3877.jpg', 'cat/cat.4974.jpg', 'cat/cat.2537.jpg', 'cat/cat.8101.jpg', 'cat/cat.3505.jpg', 'cat/cat.2790.jpg', 'cat/cat.11817.jpg', 'cat/cat.5208.jpg', 'cat/cat.2775.jpg', 'cat/cat.8473.jpg', 'cat/cat.1297.jpg', 'cat/cat.9811.jpg', 'cat/cat.12272.jpg', 'cat/cat.2700.jpg', 'cat/cat.11671.jpg', 'cat/cat.5100.jpg', 'cat/cat.11751.jpg', 'cat/cat.9871.jpg', 'cat/cat.6374.jpg', 'cat/cat.5337.jpg', 'cat/cat.7390.jpg', 'cat/cat.5634.jpg', 'cat/cat.9658.jpg', 'cat/cat.9500.jpg', 'cat/cat.1884.jpg', 'cat/cat.704.jpg', 'cat/cat.6125.jpg', 'cat/cat.3131.jpg', 'cat/cat.10851.jpg', 'cat/cat.11460.jpg', 'cat/cat.11230.jpg', 'cat/cat.4842.jpg', 'cat/cat.4381.jpg', 'cat/cat.8196.jpg', 'cat/cat.5687.jpg', 'cat/cat.618.jpg', 'cat/cat.4313.jpg', 'cat/cat.5313.jpg', 'cat/cat.9273.jpg', 'cat/cat.9340.jpg', 'cat/cat.239.jpg', 'cat/cat.7404.jpg', 'cat/cat.3210.jpg', 'cat/cat.2588.jpg', 'cat/cat.6191.jpg', 'cat/cat.3278.jpg', 'cat/cat.4018.jpg', 'cat/cat.6330.jpg', 'cat/cat.1746.jpg', 'cat/cat.9470.jpg', 'cat/cat.10749.jpg', 'cat/cat.563.jpg', 'cat/cat.5398.jpg', 'cat/cat.5517.jpg', 'cat/cat.9207.jpg', 'cat/cat.8742.jpg', 'cat/cat.7402.jpg', 'cat/cat.6949.jpg', 'cat/cat.7963.jpg', 'cat/cat.1957.jpg', 'cat/cat.11417.jpg', 'cat/cat.3868.jpg', 'cat/cat.6519.jpg', 'cat/cat.115.jpg', 'cat/cat.7175.jpg', 'cat/cat.5681.jpg', 'cat/cat.5723.jpg', 'cat/cat.12383.jpg', 'cat/cat.8333.jpg', 'cat/cat.12160.jpg', 'cat/cat.7083.jpg', 'cat/cat.8603.jpg', 'cat/cat.3671.jpg', 'cat/cat.7885.jpg', 'cat/cat.993.jpg', 'cat/cat.350.jpg', 'cat/cat.6460.jpg', 'cat/cat.8018.jpg', 'cat/cat.12262.jpg', 'cat/cat.789.jpg', 'cat/cat.8646.jpg', 'cat/cat.5358.jpg', 'cat/cat.4355.jpg', 'cat/cat.10171.jpg', 'cat/cat.12294.jpg', 'cat/cat.3964.jpg', 'cat/cat.9968.jpg', 'cat/cat.9085.jpg', 'cat/cat.8919.jpg', 'cat/cat.2468.jpg', 'cat/cat.267.jpg', 'cat/cat.4589.jpg', 'cat/cat.6120.jpg', 'cat/cat.12484.jpg', 'cat/cat.11418.jpg', 'cat/cat.327.jpg', 'cat/cat.7218.jpg', 'cat/cat.2694.jpg', 'cat/cat.5350.jpg', 'cat/cat.6667.jpg', 'cat/cat.2261.jpg', 'cat/cat.8001.jpg', 'cat/cat.3775.jpg', 'cat/cat.11030.jpg', 'cat/cat.2555.jpg', 'cat/cat.7761.jpg', 'cat/cat.7647.jpg', 'cat/cat.5592.jpg', 'cat/cat.6446.jpg', 'cat/cat.11356.jpg', 'cat/cat.5781.jpg', 'cat/cat.1274.jpg', 'cat/cat.10049.jpg', 'cat/cat.11370.jpg', 'cat/cat.1521.jpg', 'cat/cat.1099.jpg', 'cat/cat.2889.jpg', 'cat/cat.4913.jpg', 'cat/cat.7723.jpg', 'cat/cat.5837.jpg', 'cat/cat.8759.jpg', 'cat/cat.2589.jpg', 'cat/cat.11008.jpg', 'cat/cat.3100.jpg', 'cat/cat.11684.jpg', 'cat/cat.581.jpg', 'cat/cat.10316.jpg', 'cat/cat.9192.jpg', 'cat/cat.6566.jpg', 'cat/cat.38.jpg', 'cat/cat.3853.jpg', 'cat/cat.12119.jpg', 'cat/cat.3307.jpg', 'cat/cat.9720.jpg', 'cat/cat.3122.jpg', 'cat/cat.6265.jpg', 'cat/cat.7915.jpg', 'cat/cat.10567.jpg', 'cat/cat.4450.jpg', 'cat/cat.9241.jpg', 'cat/cat.4318.jpg', 'cat/cat.3662.jpg', 'cat/cat.9775.jpg', 'cat/cat.1952.jpg', 'cat/cat.3441.jpg', 'cat/cat.4133.jpg', 'cat/cat.10012.jpg', 'cat/cat.2234.jpg', 'cat/cat.4938.jpg', 'cat/cat.2027.jpg', 'cat/cat.6373.jpg', 'cat/cat.1345.jpg', 'cat/cat.6038.jpg', 'cat/cat.6886.jpg', 'cat/cat.6789.jpg', 'cat/cat.6002.jpg', 'cat/cat.2255.jpg', 'cat/cat.9774.jpg', 'cat/cat.713.jpg', 'cat/cat.1661.jpg', 'cat/cat.6497.jpg', 'cat/cat.197.jpg', 'cat/cat.7986.jpg', 'cat/cat.6771.jpg', 'cat/cat.11861.jpg', 'cat/cat.3360.jpg', 'cat/cat.6425.jpg', 'cat/cat.11464.jpg', 'cat/cat.5024.jpg', 'cat/cat.2332.jpg', 'cat/cat.11450.jpg', 'cat/cat.10250.jpg', 'cat/cat.773.jpg', 'cat/cat.11777.jpg', 'cat/cat.9722.jpg', 'cat/cat.11035.jpg', 'cat/cat.6645.jpg', 'cat/cat.4336.jpg', 'cat/cat.428.jpg', 'cat/cat.1036.jpg', 'cat/cat.10616.jpg', 'cat/cat.4686.jpg', 'cat/cat.8611.jpg', 'cat/cat.3280.jpg', 'cat/cat.3533.jpg', 'cat/cat.8829.jpg', 'cat/cat.11358.jpg', 'cat/cat.4655.jpg', 'cat/cat.4496.jpg', 'cat/cat.3071.jpg', 'cat/cat.9670.jpg', 'cat/cat.6078.jpg', 'cat/cat.3909.jpg', 'cat/cat.11552.jpg', 'cat/cat.5043.jpg', 'cat/cat.6636.jpg', 'cat/cat.2910.jpg', 'cat/cat.1516.jpg', 'cat/cat.10684.jpg', 'cat/cat.9918.jpg', 'cat/cat.6170.jpg', 'cat/cat.9471.jpg', 'cat/cat.7801.jpg', 'cat/cat.1906.jpg', 'cat/cat.8662.jpg', 'cat/cat.7229.jpg', 'cat/cat.4924.jpg', 'cat/cat.6020.jpg', 'cat/cat.11372.jpg', 'cat/cat.8189.jpg', 'cat/cat.5881.jpg', 'cat/cat.10794.jpg', 'cat/cat.4683.jpg', 'cat/cat.6687.jpg', 'cat/cat.4656.jpg', 'cat/cat.10866.jpg', 'cat/cat.1042.jpg', 'cat/cat.4943.jpg', 'cat/cat.2645.jpg', 'cat/cat.10983.jpg', 'cat/cat.2387.jpg', 'cat/cat.7021.jpg', 'cat/cat.5094.jpg', 'cat/cat.1699.jpg', 'cat/cat.11150.jpg', 'cat/cat.11842.jpg', 'cat/cat.4111.jpg', 'cat/cat.3817.jpg', 'cat/cat.6557.jpg', 'cat/cat.455.jpg', 'cat/cat.10360.jpg', 'cat/cat.7487.jpg', 'cat/cat.2969.jpg', 'cat/cat.2155.jpg', 'cat/cat.3619.jpg', 'cat/cat.4835.jpg', 'cat/cat.1996.jpg', 'cat/cat.4630.jpg', 'cat/cat.676.jpg', 'cat/cat.4125.jpg', 'cat/cat.9995.jpg', 'cat/cat.1813.jpg', 'cat/cat.9417.jpg', 'cat/cat.582.jpg', 'cat/cat.35.jpg', 'cat/cat.12369.jpg', 'cat/cat.6985.jpg', 'cat/cat.8927.jpg', 'cat/cat.4695.jpg', 'cat/cat.5654.jpg', 'cat/cat.10588.jpg', 'cat/cat.622.jpg', 'cat/cat.654.jpg', 'cat/cat.1667.jpg', 'cat/cat.5502.jpg', 'cat/cat.10875.jpg', 'cat/cat.6676.jpg', 'cat/cat.6679.jpg', 'cat/cat.10054.jpg', 'cat/cat.11504.jpg', 'cat/cat.5140.jpg', 'cat/cat.9490.jpg', 'cat/cat.5227.jpg', 'cat/cat.126.jpg', 'cat/cat.1642.jpg', 'cat/cat.5405.jpg', 'cat/cat.458.jpg', 'cat/cat.4580.jpg', 'cat/cat.10411.jpg', 'cat/cat.5904.jpg', 'cat/cat.11731.jpg', 'cat/cat.6786.jpg', 'cat/cat.4843.jpg', 'cat/cat.5267.jpg', 'cat/cat.5970.jpg', 'cat/cat.8327.jpg', 'cat/cat.10758.jpg', 'cat/cat.9153.jpg', 'cat/cat.12059.jpg', 'cat/cat.9189.jpg', 'cat/cat.3752.jpg', 'cat/cat.8987.jpg', 'cat/cat.22.jpg', 'cat/cat.5212.jpg', 'cat/cat.9661.jpg', 'cat/cat.3727.jpg', 'cat/cat.9550.jpg', 'cat/cat.6071.jpg', 'cat/cat.10302.jpg', 'cat/cat.448.jpg', 'cat/cat.8146.jpg', 'cat/cat.7135.jpg', 'cat/cat.11472.jpg', 'cat/cat.9965.jpg', 'cat/cat.441.jpg', 'cat/cat.1782.jpg', 'cat/cat.11594.jpg', 'cat/cat.4289.jpg', 'cat/cat.8269.jpg', 'cat/cat.989.jpg', 'cat/cat.3867.jpg', 'cat/cat.5454.jpg', 'cat/cat.6880.jpg', 'cat/cat.10437.jpg', 'cat/cat.972.jpg', 'cat/cat.5311.jpg', 'cat/cat.1672.jpg', 'cat/cat.4234.jpg', 'cat/cat.6003.jpg', 'cat/cat.4794.jpg', 'cat/cat.7854.jpg', 'cat/cat.2734.jpg', 'cat/cat.3583.jpg', 'cat/cat.4976.jpg', 'cat/cat.9935.jpg', 'cat/cat.8530.jpg', 'cat/cat.4229.jpg', 'cat/cat.5421.jpg', 'cat/cat.4662.jpg', 'cat/cat.7167.jpg', 'cat/cat.8664.jpg', 'cat/cat.755.jpg', 'cat/cat.600.jpg', 'cat/cat.9356.jpg', 'cat/cat.8622.jpg', 'cat/cat.1919.jpg', 'cat/cat.816.jpg', 'cat/cat.8906.jpg', 'cat/cat.11483.jpg', 'cat/cat.1991.jpg', 'cat/cat.4132.jpg', 'cat/cat.11862.jpg', 'cat/cat.6915.jpg', 'cat/cat.9374.jpg', 'cat/cat.2877.jpg', 'cat/cat.10421.jpg', 'cat/cat.4170.jpg', 'cat/cat.8552.jpg', 'cat/cat.5182.jpg', 'cat/cat.8453.jpg', 'cat/cat.11874.jpg', 'cat/cat.11673.jpg', 'cat/cat.11980.jpg', 'cat/cat.12123.jpg', 'cat/cat.10655.jpg', 'cat/cat.2039.jpg', 'cat/cat.2350.jpg', 'cat/cat.5285.jpg', 'cat/cat.9183.jpg', 'cat/cat.8055.jpg', 'cat/cat.12447.jpg', 'cat/cat.1214.jpg', 'cat/cat.8475.jpg', 'cat/cat.6220.jpg', 'cat/cat.9731.jpg', 'cat/cat.3366.jpg', 'cat/cat.5386.jpg', 'cat/cat.939.jpg', 'cat/cat.2124.jpg', 'cat/cat.11299.jpg', 'cat/cat.8855.jpg', 'cat/cat.4109.jpg', 'cat/cat.9985.jpg', 'cat/cat.12434.jpg', 'cat/cat.5564.jpg', 'cat/cat.11716.jpg', 'cat/cat.11928.jpg', 'cat/cat.9911.jpg', 'cat/cat.10379.jpg', 'cat/cat.6249.jpg', 'cat/cat.5532.jpg', 'cat/cat.7605.jpg', 'cat/cat.11736.jpg', 'cat/cat.4929.jpg', 'cat/cat.8545.jpg', 'cat/cat.10514.jpg', 'cat/cat.10689.jpg', 'cat/cat.7360.jpg', 'cat/cat.10268.jpg', 'cat/cat.7732.jpg', 'cat/cat.4032.jpg', 'cat/cat.2189.jpg', 'cat/cat.11537.jpg', 'cat/cat.6995.jpg', 'cat/cat.6867.jpg', 'cat/cat.10114.jpg', 'cat/cat.4444.jpg', 'cat/cat.7395.jpg', 'cat/cat.6887.jpg', 'cat/cat.6268.jpg', 'cat/cat.8026.jpg', 'cat/cat.460.jpg', 'cat/cat.4116.jpg', 'cat/cat.10087.jpg', 'cat/cat.8229.jpg', 'cat/cat.10118.jpg', 'cat/cat.8939.jpg', 'cat/cat.11310.jpg', 'cat/cat.6732.jpg', 'cat/cat.2773.jpg', 'cat/cat.3230.jpg', 'cat/cat.61.jpg', 'cat/cat.9.jpg', 'cat/cat.1373.jpg', 'cat/cat.9812.jpg', 'cat/cat.11738.jpg', 'cat/cat.2855.jpg', 'cat/cat.4940.jpg', 'cat/cat.11667.jpg', 'cat/cat.10438.jpg', 'cat/cat.11549.jpg', 'cat/cat.4147.jpg', 'cat/cat.3293.jpg', 'cat/cat.206.jpg', 'cat/cat.3186.jpg', 'cat/cat.4832.jpg', 'cat/cat.8713.jpg', 'cat/cat.8455.jpg', 'cat/cat.10551.jpg', 'cat/cat.1436.jpg', 'cat/cat.1517.jpg', 'cat/cat.1219.jpg', 'cat/cat.5063.jpg', 'cat/cat.1003.jpg', 'cat/cat.5766.jpg', 'cat/cat.4242.jpg', 'cat/cat.11283.jpg', 'cat/cat.1681.jpg', 'cat/cat.6871.jpg', 'cat/cat.3216.jpg', 'cat/cat.11981.jpg', 'cat/cat.4036.jpg', 'cat/cat.7503.jpg', 'cat/cat.10651.jpg', 'cat/cat.5937.jpg', 'cat/cat.2180.jpg', 'cat/cat.2163.jpg', 'cat/cat.7543.jpg', 'cat/cat.3498.jpg', 'cat/cat.1601.jpg', 'cat/cat.10728.jpg', 'cat/cat.9747.jpg', 'cat/cat.8174.jpg', 'cat/cat.12079.jpg', 'cat/cat.3708.jpg', 'cat/cat.11672.jpg', 'cat/cat.8371.jpg', 'cat/cat.5608.jpg', 'cat/cat.12037.jpg', 'cat/cat.5354.jpg', 'cat/cat.7136.jpg', 'cat/cat.8063.jpg', 'cat/cat.1098.jpg', 'cat/cat.12455.jpg', 'cat/cat.1814.jpg', 'cat/cat.9387.jpg', 'cat/cat.4069.jpg', 'cat/cat.4188.jpg', 'cat/cat.10150.jpg', 'cat/cat.6286.jpg', 'cat/cat.4171.jpg', 'cat/cat.680.jpg', 'cat/cat.8898.jpg', 'cat/cat.1658.jpg', 'cat/cat.11242.jpg', 'cat/cat.1254.jpg', 'cat/cat.6346.jpg', 'cat/cat.11073.jpg', 'cat/cat.6250.jpg', 'cat/cat.8367.jpg', 'cat/cat.5823.jpg', 'cat/cat.7024.jpg', 'cat/cat.3378.jpg', 'cat/cat.6780.jpg', 'cat/cat.1160.jpg', 'cat/cat.10202.jpg', 'cat/cat.807.jpg', 'cat/cat.11416.jpg', 'cat/cat.9991.jpg', 'cat/cat.4590.jpg', 'cat/cat.836.jpg', 'cat/cat.6363.jpg', 'cat/cat.7248.jpg', 'cat/cat.11674.jpg', 'cat/cat.8806.jpg', 'cat/cat.2975.jpg', 'cat/cat.4847.jpg', 'cat/cat.10879.jpg', 'cat/cat.6807.jpg', 'cat/cat.12448.jpg', 'cat/cat.2487.jpg', 'cat/cat.10079.jpg', 'cat/cat.4266.jpg', 'cat/cat.7947.jpg', 'cat/cat.9970.jpg', 'cat/cat.11792.jpg', 'cat/cat.4677.jpg', 'cat/cat.9979.jpg', 'cat/cat.10209.jpg', 'cat/cat.861.jpg', 'cat/cat.11542.jpg', 'cat/cat.8092.jpg', 'cat/cat.3277.jpg', 'cat/cat.9707.jpg', 'cat/cat.8659.jpg', 'cat/cat.8542.jpg', 'cat/cat.3428.jpg', 'cat/cat.6620.jpg', 'cat/cat.2852.jpg', 'cat/cat.6105.jpg', 'cat/cat.12170.jpg', 'cat/cat.5327.jpg', 'cat/cat.6115.jpg', 'cat/cat.11711.jpg', 'cat/cat.6938.jpg', 'cat/cat.6750.jpg', 'cat/cat.9068.jpg', 'cat/cat.9549.jpg', 'cat/cat.7480.jpg', 'cat/cat.10787.jpg', 'cat/cat.1015.jpg', 'cat/cat.986.jpg', 'cat/cat.3520.jpg', 'cat/cat.2452.jpg', 'cat/cat.10665.jpg', 'cat/cat.7853.jpg', 'cat/cat.709.jpg', 'cat/cat.10772.jpg', 'cat/cat.4088.jpg', 'cat/cat.1338.jpg', 'cat/cat.7276.jpg', 'cat/cat.6641.jpg', 'cat/cat.1703.jpg', 'cat/cat.8462.jpg', 'cat/cat.9024.jpg', 'cat/cat.7050.jpg', 'cat/cat.4090.jpg', 'cat/cat.3518.jpg', 'cat/cat.9855.jpg', 'cat/cat.1969.jpg', 'cat/cat.10058.jpg', 'cat/cat.10764.jpg', 'cat/cat.1609.jpg', 'cat/cat.4920.jpg', 'cat/cat.11411.jpg', 'cat/cat.12477.jpg', 'cat/cat.3342.jpg', 'cat/cat.1808.jpg', 'cat/cat.3541.jpg', 'cat/cat.6627.jpg', 'cat/cat.6251.jpg', 'cat/cat.5367.jpg', 'cat/cat.11655.jpg', 'cat/cat.3364.jpg', 'cat/cat.8983.jpg', 'cat/cat.6110.jpg', 'cat/cat.12468.jpg', 'cat/cat.11491.jpg', 'cat/cat.1620.jpg', 'cat/cat.2806.jpg', 'cat/cat.11515.jpg', 'cat/cat.964.jpg', 'cat/cat.870.jpg', 'cat/cat.12028.jpg', 'cat/cat.5451.jpg', 'cat/cat.1087.jpg', 'cat/cat.987.jpg', 'cat/cat.11536.jpg', 'cat/cat.3190.jpg', 'cat/cat.5312.jpg', 'cat/cat.11572.jpg', 'cat/cat.6744.jpg', 'cat/cat.4830.jpg', 'cat/cat.6812.jpg', 'cat/cat.5110.jpg', 'cat/cat.7982.jpg', 'cat/cat.8308.jpg', 'cat/cat.24.jpg', 'cat/cat.9859.jpg', 'cat/cat.7950.jpg', 'cat/cat.440.jpg', 'cat/cat.7856.jpg', 'cat/cat.2140.jpg', 'cat/cat.1858.jpg', 'cat/cat.8620.jpg', 'cat/cat.3688.jpg', 'cat/cat.7245.jpg', 'cat/cat.6297.jpg', 'cat/cat.4413.jpg', 'cat/cat.8148.jpg', 'cat/cat.3044.jpg', 'cat/cat.7933.jpg', 'cat/cat.11825.jpg', 'cat/cat.2000.jpg', 'cat/cat.910.jpg', 'cat/cat.9821.jpg', 'cat/cat.5973.jpg', 'cat/cat.5187.jpg', 'cat/cat.9216.jpg', 'cat/cat.8722.jpg', 'cat/cat.7374.jpg', 'cat/cat.8121.jpg', 'cat/cat.2721.jpg', 'cat/cat.4603.jpg', 'cat/cat.1010.jpg', 'cat/cat.3335.jpg', 'cat/cat.5715.jpg', 'cat/cat.5828.jpg', 'cat/cat.979.jpg', 'cat/cat.491.jpg', 'cat/cat.9724.jpg', 'cat/cat.8723.jpg', 'cat/cat.2313.jpg', 'cat/cat.1934.jpg', 'cat/cat.3474.jpg', 'cat/cat.10723.jpg', 'cat/cat.7576.jpg', 'cat/cat.5748.jpg', 'cat/cat.7252.jpg', 'cat/cat.11945.jpg', 'cat/cat.8849.jpg', 'cat/cat.2830.jpg', 'cat/cat.4495.jpg', 'cat/cat.11161.jpg', 'cat/cat.11308.jpg', 'cat/cat.5704.jpg', 'cat/cat.8389.jpg', 'cat/cat.1648.jpg', 'cat/cat.10579.jpg', 'cat/cat.7745.jpg', 'cat/cat.4099.jpg', 'cat/cat.2603.jpg', 'cat/cat.2095.jpg', 'cat/cat.6124.jpg', 'cat/cat.11884.jpg', 'cat/cat.6238.jpg', 'cat/cat.7424.jpg', 'cat/cat.2999.jpg', 'cat/cat.10231.jpg', 'cat/cat.6193.jpg', 'cat/cat.7223.jpg', 'cat/cat.4166.jpg', 'cat/cat.7691.jpg', 'cat/cat.11295.jpg', 'cat/cat.11960.jpg', 'cat/cat.9455.jpg', 'cat/cat.9172.jpg', 'cat/cat.9996.jpg', 'cat/cat.11687.jpg', 'cat/cat.2553.jpg', 'cat/cat.1850.jpg', 'cat/cat.11052.jpg', 'cat/cat.2791.jpg', 'cat/cat.7649.jpg', 'cat/cat.2759.jpg', 'cat/cat.11829.jpg', 'cat/cat.10100.jpg', 'cat/cat.7009.jpg', 'cat/cat.5188.jpg', 'cat/cat.8290.jpg', 'cat/cat.5021.jpg', 'cat/cat.11969.jpg', 'cat/cat.1376.jpg', 'cat/cat.3592.jpg', 'cat/cat.12017.jpg', 'cat/cat.9314.jpg', 'cat/cat.5393.jpg', 'cat/cat.1215.jpg', 'cat/cat.11152.jpg', 'cat/cat.3033.jpg', 'cat/cat.4819.jpg', 'cat/cat.6701.jpg', 'cat/cat.4477.jpg', 'cat/cat.1269.jpg', 'cat/cat.1717.jpg', 'cat/cat.4923.jpg', 'cat/cat.8285.jpg', 'cat/cat.7779.jpg', 'cat/cat.1279.jpg', 'cat/cat.8282.jpg', 'cat/cat.8258.jpg', 'cat/cat.2918.jpg', 'cat/cat.970.jpg', 'cat/cat.7851.jpg', 'cat/cat.11643.jpg', 'cat/cat.5237.jpg', 'cat/cat.10361.jpg', 'cat/cat.10825.jpg', 'cat/cat.8783.jpg', 'cat/cat.10640.jpg', 'cat/cat.7741.jpg', 'cat/cat.1930.jpg', 'cat/cat.3846.jpg', 'cat/cat.1864.jpg', 'cat/cat.8091.jpg', 'cat/cat.9220.jpg', 'cat/cat.700.jpg', 'cat/cat.8150.jpg', 'cat/cat.6801.jpg', 'cat/cat.4013.jpg', 'cat/cat.2171.jpg', 'cat/cat.4426.jpg', 'cat/cat.5356.jpg', 'cat/cat.4154.jpg', 'cat/cat.2748.jpg', 'cat/cat.5947.jpg', 'cat/cat.4310.jpg', 'cat/cat.8894.jpg', 'cat/cat.2779.jpg', 'cat/cat.5615.jpg', 'cat/cat.7099.jpg', 'cat/cat.11848.jpg', 'cat/cat.4438.jpg', 'cat/cat.4724.jpg', 'cat/cat.4664.jpg', 'cat/cat.7019.jpg', 'cat/cat.5558.jpg', 'cat/cat.135.jpg', 'cat/cat.188.jpg', 'cat/cat.6775.jpg', 'cat/cat.598.jpg', 'cat/cat.3658.jpg', 'cat/cat.12425.jpg', 'cat/cat.184.jpg', 'cat/cat.6351.jpg', 'cat/cat.7896.jpg', 'cat/cat.7331.jpg', 'cat/cat.8499.jpg', 'cat/cat.7093.jpg', 'cat/cat.4948.jpg', 'cat/cat.11890.jpg', 'cat/cat.8873.jpg', 'cat/cat.3643.jpg', 'cat/cat.1789.jpg', 'cat/cat.5496.jpg', 'cat/cat.7458.jpg', 'cat/cat.3465.jpg', 'cat/cat.4182.jpg', 'cat/cat.10338.jpg', 'cat/cat.9901.jpg', 'cat/cat.2056.jpg', 'cat/cat.2131.jpg', 'cat/cat.924.jpg', 'cat/cat.3957.jpg', 'cat/cat.9839.jpg', 'cat/cat.8670.jpg', 'cat/cat.11595.jpg', 'cat/cat.6503.jpg', 'cat/cat.12343.jpg', 'cat/cat.1548.jpg', 'cat/cat.9698.jpg', 'cat/cat.11216.jpg', 'cat/cat.7975.jpg', 'cat/cat.11919.jpg', 'cat/cat.3739.jpg', 'cat/cat.6895.jpg', 'cat/cat.9787.jpg', 'cat/cat.1144.jpg', 'cat/cat.8401.jpg', 'cat/cat.2210.jpg', 'cat/cat.5731.jpg', 'cat/cat.2142.jpg', 'cat/cat.10864.jpg', 'cat/cat.11300.jpg', 'cat/cat.8112.jpg', 'cat/cat.11517.jpg', 'cat/cat.9607.jpg', 'cat/cat.10416.jpg', 'cat/cat.7902.jpg', 'cat/cat.357.jpg', 'cat/cat.5883.jpg', 'cat/cat.8790.jpg', 'cat/cat.11379.jpg', 'cat/cat.3602.jpg', 'cat/cat.11763.jpg', 'cat/cat.6950.jpg', 'cat/cat.3784.jpg', 'cat/cat.12328.jpg', 'cat/cat.9453.jpg', 'cat/cat.216.jpg', 'cat/cat.10301.jpg', 'cat/cat.9633.jpg', 'cat/cat.2216.jpg', 'cat/cat.8287.jpg', 'cat/cat.8163.jpg', 'cat/cat.1145.jpg', 'cat/cat.2252.jpg', 'cat/cat.850.jpg', 'cat/cat.11186.jpg', 'cat/cat.11470.jpg', 'cat/cat.2436.jpg', 'cat/cat.4231.jpg', 'cat/cat.5956.jpg', 'cat/cat.2816.jpg', 'cat/cat.3270.jpg', 'cat/cat.9668.jpg', 'cat/cat.9266.jpg', 'cat/cat.1617.jpg', 'cat/cat.11239.jpg', 'cat/cat.6090.jpg', 'cat/cat.7727.jpg', 'cat/cat.11234.jpg', 'cat/cat.2224.jpg', 'cat/cat.9937.jpg', 'cat/cat.2586.jpg', 'cat/cat.6802.jpg', 'cat/cat.9888.jpg', 'cat/cat.12404.jpg', 'cat/cat.7953.jpg', 'cat/cat.626.jpg', 'cat/cat.6769.jpg', 'cat/cat.11444.jpg', 'cat/cat.9997.jpg', 'cat/cat.4330.jpg', 'cat/cat.2686.jpg', 'cat/cat.11172.jpg', 'cat/cat.1488.jpg', 'cat/cat.4951.jpg', 'cat/cat.7098.jpg', 'cat/cat.5982.jpg', 'cat/cat.10585.jpg', 'cat/cat.5898.jpg', 'cat/cat.2130.jpg', 'cat/cat.9089.jpg', 'cat/cat.7438.jpg', 'cat/cat.3006.jpg', 'cat/cat.1893.jpg', 'cat/cat.6430.jpg', 'cat/cat.10924.jpg', 'cat/cat.5321.jpg', 'cat/cat.6274.jpg', 'cat/cat.8009.jpg', 'cat/cat.2.jpg', 'cat/cat.6707.jpg', 'cat/cat.3295.jpg', 'cat/cat.5574.jpg', 'cat/cat.8267.jpg', 'cat/cat.6605.jpg', 'cat/cat.2761.jpg', 'cat/cat.10533.jpg', 'cat/cat.9854.jpg', 'cat/cat.2258.jpg', 'cat/cat.5457.jpg', 'cat/cat.11289.jpg', 'cat/cat.4173.jpg', 'cat/cat.2836.jpg', 'cat/cat.1870.jpg', 'cat/cat.6139.jpg', 'cat/cat.10273.jpg', 'cat/cat.1766.jpg', 'cat/cat.551.jpg', 'cat/cat.10613.jpg', 'cat/cat.7717.jpg', 'cat/cat.8947.jpg', 'cat/cat.7414.jpg', 'cat/cat.11053.jpg', 'cat/cat.666.jpg', 'cat/cat.9072.jpg', 'cat/cat.8683.jpg', 'cat/cat.9168.jpg', 'cat/cat.11107.jpg', 'cat/cat.6648.jpg', 'cat/cat.8448.jpg', 'cat/cat.3907.jpg', 'cat/cat.2691.jpg', 'cat/cat.2098.jpg', 'cat/cat.2707.jpg', 'cat/cat.1329.jpg', 'cat/cat.2237.jpg', 'cat/cat.4836.jpg', 'cat/cat.2186.jpg', 'cat/cat.9160.jpg', 'cat/cat.3623.jpg', 'cat/cat.8273.jpg', 'cat/cat.7771.jpg', 'cat/cat.3968.jpg', 'cat/cat.9655.jpg', 'cat/cat.12268.jpg', 'cat/cat.2298.jpg', 'cat/cat.6872.jpg', 'cat/cat.10161.jpg', 'cat/cat.12052.jpg', 'cat/cat.10987.jpg', 'cat/cat.1570.jpg', 'cat/cat.1418.jpg', 'cat/cat.4532.jpg', 'cat/cat.2175.jpg', 'cat/cat.9237.jpg', 'cat/cat.10488.jpg', 'cat/cat.1107.jpg', 'cat/cat.6024.jpg', 'cat/cat.2896.jpg', 'cat/cat.9023.jpg', 'cat/cat.4703.jpg', 'cat/cat.5806.jpg', 'cat/cat.5332.jpg', 'cat/cat.1348.jpg', 'cat/cat.4224.jpg', 'cat/cat.5618.jpg', 'cat/cat.5380.jpg', 'cat/cat.8771.jpg', 'cat/cat.10649.jpg', 'cat/cat.8508.jpg', 'cat/cat.12074.jpg', 'cat/cat.10425.jpg', 'cat/cat.4840.jpg', 'cat/cat.3268.jpg', 'cat/cat.8152.jpg', 'cat/cat.8985.jpg', 'cat/cat.8862.jpg', 'cat/cat.10028.jpg', 'cat/cat.7082.jpg', 'cat/cat.10622.jpg', 'cat/cat.9441.jpg', 'cat/cat.4040.jpg', 'cat/cat.2366.jpg', 'cat/cat.5536.jpg', 'cat/cat.9421.jpg', 'cat/cat.10347.jpg', 'cat/cat.1423.jpg', 'cat/cat.2601.jpg', 'cat/cat.8921.jpg', 'cat/cat.4211.jpg', 'cat/cat.12195.jpg', 'cat/cat.9105.jpg', 'cat/cat.8310.jpg', 'cat/cat.11445.jpg', 'cat/cat.7308.jpg', 'cat/cat.7436.jpg', 'cat/cat.3470.jpg', 'cat/cat.10571.jpg', 'cat/cat.8237.jpg', 'cat/cat.4944.jpg', 'cat/cat.10815.jpg', 'cat/cat.12287.jpg', 'cat/cat.9388.jpg', 'cat/cat.7341.jpg', 'cat/cat.2202.jpg', 'cat/cat.4649.jpg', 'cat/cat.5879.jpg', 'cat/cat.9823.jpg', 'cat/cat.2357.jpg', 'cat/cat.11054.jpg', 'cat/cat.10841.jpg', 'cat/cat.9099.jpg', 'cat/cat.8138.jpg', 'cat/cat.7413.jpg', 'cat/cat.9958.jpg', 'cat/cat.1657.jpg', 'cat/cat.11947.jpg', 'cat/cat.8663.jpg', 'cat/cat.2602.jpg', 'cat/cat.9212.jpg', 'cat/cat.764.jpg', 'cat/cat.6664.jpg', 'cat/cat.7523.jpg', 'cat/cat.3419.jpg', 'cat/cat.5557.jpg', 'cat/cat.5224.jpg', 'cat/cat.11119.jpg', 'cat/cat.138.jpg', 'cat/cat.9728.jpg', 'cat/cat.10708.jpg', 'cat/cat.6205.jpg', 'cat/cat.10418.jpg', 'cat/cat.6103.jpg', 'cat/cat.3039.jpg', 'cat/cat.3343.jpg', 'cat/cat.4300.jpg', 'cat/cat.5261.jpg', 'cat/cat.3110.jpg', 'cat/cat.10154.jpg', 'cat/cat.12432.jpg', 'cat/cat.6414.jpg', 'cat/cat.9942.jpg', 'cat/cat.5061.jpg', 'cat/cat.4716.jpg', 'cat/cat.178.jpg', 'cat/cat.4475.jpg', 'cat/cat.1170.jpg', 'cat/cat.5277.jpg', 'cat/cat.6036.jpg', 'cat/cat.10506.jpg', 'cat/cat.5645.jpg', 'cat/cat.1549.jpg', 'cat/cat.3349.jpg', 'cat/cat.10972.jpg', 'cat/cat.1863.jpg', 'cat/cat.8072.jpg', 'cat/cat.3005.jpg', 'cat/cat.1016.jpg', 'cat/cat.8324.jpg', 'cat/cat.8869.jpg', 'cat/cat.9822.jpg', 'cat/cat.3325.jpg', 'cat/cat.10419.jpg', 'cat/cat.5505.jpg', 'cat/cat.11550.jpg', 'cat/cat.6839.jpg', 'cat/cat.1462.jpg', 'cat/cat.3953.jpg', 'cat/cat.1670.jpg', 'cat/cat.9143.jpg', 'cat/cat.6695.jpg', 'cat/cat.3751.jpg', 'cat/cat.3093.jpg', 'cat/cat.8561.jpg', 'cat/cat.255.jpg', 'cat/cat.3715.jpg', 'cat/cat.10819.jpg', 'cat/cat.4240.jpg', 'cat/cat.10009.jpg', 'cat/cat.9527.jpg', 'cat/cat.8753.jpg', 'cat/cat.780.jpg', 'cat/cat.3391.jpg', 'cat/cat.384.jpg', 'cat/cat.1755.jpg', 'cat/cat.9041.jpg', 'cat/cat.7114.jpg', 'cat/cat.5676.jpg', 'cat/cat.11720.jpg', 'cat/cat.7948.jpg', 'cat/cat.106.jpg', 'cat/cat.2389.jpg', 'cat/cat.11241.jpg', 'cat/cat.8013.jpg', 'cat/cat.5664.jpg', 'cat/cat.3331.jpg', 'cat/cat.3185.jpg', 'cat/cat.5953.jpg', 'cat/cat.10124.jpg', 'cat/cat.7073.jpg', 'cat/cat.6252.jpg', 'cat/cat.366.jpg', 'cat/cat.207.jpg', 'cat/cat.453.jpg', 'cat/cat.4017.jpg', 'cat/cat.9930.jpg', 'cat/cat.9437.jpg', 'cat/cat.11837.jpg', 'cat/cat.4761.jpg', 'cat/cat.12191.jpg', 'cat/cat.4390.jpg', 'cat/cat.6608.jpg', 'cat/cat.1526.jpg', 'cat/cat.12006.jpg', 'cat/cat.9424.jpg', 'cat/cat.8297.jpg', 'cat/cat.154.jpg', 'cat/cat.10455.jpg', 'cat/cat.5944.jpg', 'cat/cat.10702.jpg', 'cat/cat.7189.jpg', 'cat/cat.6148.jpg', 'cat/cat.1949.jpg', 'cat/cat.1129.jpg', 'cat/cat.9528.jpg', 'cat/cat.6235.jpg', 'cat/cat.5323.jpg', 'cat/cat.10082.jpg', 'cat/cat.638.jpg', 'cat/cat.1709.jpg', 'cat/cat.8942.jpg', 'cat/cat.11219.jpg', 'cat/cat.6074.jpg', 'cat/cat.10330.jpg', 'cat/cat.2162.jpg', 'cat/cat.6864.jpg', 'cat/cat.10010.jpg', 'cat/cat.2455.jpg', 'cat/cat.10659.jpg', 'cat/cat.2026.jpg', 'cat/cat.12095.jpg', 'cat/cat.5899.jpg', 'cat/cat.8117.jpg', 'cat/cat.8654.jpg', 'cat/cat.8190.jpg', 'cat/cat.6507.jpg', 'cat/cat.8478.jpg', 'cat/cat.393.jpg', 'cat/cat.11080.jpg', 'cat/cat.9780.jpg', 'cat/cat.11833.jpg', 'cat/cat.8989.jpg', 'cat/cat.6258.jpg', 'cat/cat.5818.jpg', 'cat/cat.8380.jpg', 'cat/cat.403.jpg', 'cat/cat.569.jpg', 'cat/cat.10218.jpg', 'cat/cat.94.jpg', 'cat/cat.4365.jpg', 'cat/cat.11766.jpg', 'cat/cat.11771.jpg', 'cat/cat.7185.jpg', 'cat/cat.8372.jpg', 'cat/cat.8407.jpg', 'cat/cat.8487.jpg', 'cat/cat.967.jpg', 'cat/cat.9999.jpg', 'cat/cat.3249.jpg', 'cat/cat.10374.jpg', 'cat/cat.9045.jpg', 'cat/cat.1065.jpg', 'cat/cat.1425.jpg', 'cat/cat.11326.jpg', 'cat/cat.1622.jpg', 'cat/cat.2550.jpg', 'cat/cat.1140.jpg', 'cat/cat.12012.jpg', 'cat/cat.3225.jpg', 'cat/cat.5392.jpg', 'cat/cat.8614.jpg', 'cat/cat.11378.jpg', 'cat/cat.7111.jpg', 'cat/cat.7973.jpg', 'cat/cat.10451.jpg', 'cat/cat.5374.jpg', 'cat/cat.2282.jpg', 'cat/cat.1310.jpg', 'cat/cat.8232.jpg', 'cat/cat.317.jpg', 'cat/cat.8173.jpg', 'cat/cat.5610.jpg', 'cat/cat.3336.jpg', 'cat/cat.5477.jpg', 'cat/cat.10782.jpg', 'cat/cat.1761.jpg', 'cat/cat.6575.jpg', 'cat/cat.10934.jpg', 'cat/cat.3611.jpg', 'cat/cat.10019.jpg', 'cat/cat.8524.jpg', 'cat/cat.7376.jpg', 'cat/cat.4790.jpg', 'cat/cat.7739.jpg', 'cat/cat.10390.jpg', 'cat/cat.530.jpg', 'cat/cat.4962.jpg', 'cat/cat.5744.jpg', 'cat/cat.714.jpg', 'cat/cat.4011.jpg', 'cat/cat.2849.jpg', 'cat/cat.6576.jpg', 'cat/cat.7535.jpg', 'cat/cat.11392.jpg', 'cat/cat.8958.jpg', 'cat/cat.7264.jpg', 'cat/cat.9281.jpg', 'cat/cat.2263.jpg', 'cat/cat.5604.jpg', 'cat/cat.7259.jpg', 'cat/cat.5445.jpg', 'cat/cat.237.jpg', 'cat/cat.10607.jpg', 'cat/cat.2500.jpg', 'cat/cat.11755.jpg', 'cat/cat.11831.jpg', 'cat/cat.2159.jpg', 'cat/cat.5241.jpg', 'cat/cat.5211.jpg', 'cat/cat.2035.jpg', 'cat/cat.7598.jpg', 'cat/cat.1678.jpg', 'cat/cat.10809.jpg', 'cat/cat.9759.jpg', 'cat/cat.11139.jpg', 'cat/cat.185.jpg', 'cat/cat.9179.jpg', 'cat/cat.9433.jpg', 'cat/cat.9594.jpg', 'cat/cat.8065.jpg', 'cat/cat.9418.jpg', 'cat/cat.12254.jpg', 'cat/cat.391.jpg', 'cat/cat.6725.jpg', 'cat/cat.1139.jpg', 'cat/cat.3113.jpg', 'cat/cat.9312.jpg', 'cat/cat.6494.jpg', 'cat/cat.1412.jpg', 'cat/cat.9392.jpg', 'cat/cat.4000.jpg', 'cat/cat.10563.jpg', 'cat/cat.9738.jpg', 'cat/cat.143.jpg', 'cat/cat.7744.jpg', 'cat/cat.10936.jpg', 'cat/cat.11176.jpg', 'cat/cat.500.jpg', 'cat/cat.6964.jpg', 'cat/cat.10286.jpg', 'cat/cat.8.jpg', 'cat/cat.9619.jpg', 'cat/cat.9883.jpg', 'cat/cat.11375.jpg', 'cat/cat.3145.jpg', 'cat/cat.3234.jpg', 'cat/cat.11000.jpg', 'cat/cat.10070.jpg', 'cat/cat.10747.jpg', 'cat/cat.5310.jpg', 'cat/cat.1277.jpg', 'cat/cat.12329.jpg', 'cat/cat.6688.jpg', 'cat/cat.6089.jpg', 'cat/cat.187.jpg', 'cat/cat.6536.jpg', 'cat/cat.7509.jpg', 'cat/cat.5635.jpg', 'cat/cat.4522.jpg', 'cat/cat.6831.jpg', 'cat/cat.10371.jpg', 'cat/cat.4560.jpg', 'cat/cat.6266.jpg', 'cat/cat.2964.jpg', 'cat/cat.914.jpg', 'cat/cat.3444.jpg', 'cat/cat.4925.jpg', 'cat/cat.849.jpg', 'cat/cat.1377.jpg', 'cat/cat.4657.jpg', 'cat/cat.5737.jpg', 'cat/cat.11044.jpg', 'cat/cat.12042.jpg', 'cat/cat.2250.jpg', 'cat/cat.12391.jpg', 'cat/cat.5235.jpg', 'cat/cat.8089.jpg', 'cat/cat.11827.jpg', 'cat/cat.4996.jpg', 'cat/cat.7012.jpg', 'cat/cat.7349.jpg', 'cat/cat.8015.jpg', 'cat/cat.3956.jpg', 'cat/cat.6954.jpg', 'cat/cat.6708.jpg', 'cat/cat.2551.jpg', 'cat/cat.3411.jpg', 'cat/cat.1594.jpg', 'cat/cat.1187.jpg', 'cat/cat.4115.jpg', 'cat/cat.3620.jpg', 'cat/cat.3163.jpg', 'cat/cat.10828.jpg', 'cat/cat.3242.jpg', 'cat/cat.4768.jpg', 'cat/cat.7575.jpg', 'cat/cat.12352.jpg', 'cat/cat.9456.jpg', 'cat/cat.3606.jpg', 'cat/cat.8860.jpg', 'cat/cat.7010.jpg', 'cat/cat.8669.jpg', 'cat/cat.12106.jpg', 'cat/cat.9071.jpg', 'cat/cat.6787.jpg', 'cat/cat.3959.jpg', 'cat/cat.2309.jpg', 'cat/cat.7494.jpg', 'cat/cat.2901.jpg', 'cat/cat.6255.jpg', 'cat/cat.6622.jpg', 'cat/cat.7742.jpg', 'cat/cat.7557.jpg', 'cat/cat.11322.jpg', 'cat/cat.5735.jpg', 'cat/cat.2894.jpg', 'cat/cat.1873.jpg', 'cat/cat.616.jpg', 'cat/cat.6629.jpg', 'cat/cat.9357.jpg', 'cat/cat.6820.jpg', 'cat/cat.3863.jpg', 'cat/cat.7219.jpg', 'cat/cat.10523.jpg', 'cat/cat.7040.jpg', 'cat/cat.11193.jpg', 'cat/cat.7244.jpg', 'cat/cat.3947.jpg', 'cat/cat.1501.jpg', 'cat/cat.12202.jpg', 'cat/cat.3594.jpg', 'cat/cat.6573.jpg', 'cat/cat.9342.jpg', 'cat/cat.4230.jpg', 'cat/cat.2887.jpg', 'cat/cat.5513.jpg', 'cat/cat.7008.jpg', 'cat/cat.219.jpg', 'cat/cat.8179.jpg', 'cat/cat.667.jpg', 'cat/cat.7412.jpg', 'cat/cat.6719.jpg', 'cat/cat.4661.jpg', 'cat/cat.8000.jpg', 'cat/cat.4679.jpg', 'cat/cat.12376.jpg', 'cat/cat.10720.jpg', 'cat/cat.1047.jpg', 'cat/cat.9284.jpg', 'cat/cat.4898.jpg', 'cat/cat.7534.jpg', 'cat/cat.11051.jpg', 'cat/cat.7849.jpg', 'cat/cat.8858.jpg', 'cat/cat.6211.jpg', 'cat/cat.9413.jpg', 'cat/cat.2952.jpg', 'cat/cat.5280.jpg', 'cat/cat.10130.jpg', 'cat/cat.6726.jpg', 'cat/cat.10243.jpg', 'cat/cat.11556.jpg', 'cat/cat.865.jpg', 'cat/cat.6219.jpg', 'cat/cat.7692.jpg', 'cat/cat.9159.jpg', 'cat/cat.4482.jpg', 'cat/cat.6665.jpg', 'cat/cat.8135.jpg', 'cat/cat.9304.jpg', 'cat/cat.6186.jpg', 'cat/cat.3798.jpg', 'cat/cat.9210.jpg', 'cat/cat.2022.jpg', 'cat/cat.10043.jpg', 'cat/cat.7845.jpg', 'cat/cat.11912.jpg', 'cat/cat.11.jpg', 'cat/cat.9784.jpg', 'cat/cat.3685.jpg', 'cat/cat.11659.jpg', 'cat/cat.8835.jpg', 'cat/cat.9786.jpg', 'cat/cat.5971.jpg', 'cat/cat.6066.jpg', 'cat/cat.9791.jpg', 'cat/cat.8865.jpg', 'cat/cat.9502.jpg', 'cat/cat.4192.jpg', 'cat/cat.854.jpg', 'cat/cat.4934.jpg', 'cat/cat.2342.jpg', 'cat/cat.83.jpg', 'cat/cat.10896.jpg', 'cat/cat.6877.jpg', 'cat/cat.11344.jpg', 'cat/cat.10204.jpg', 'cat/cat.1138.jpg', 'cat/cat.6682.jpg', 'cat/cat.5907.jpg', 'cat/cat.5627.jpg', 'cat/cat.10112.jpg', 'cat/cat.7345.jpg', 'cat/cat.9514.jpg', 'cat/cat.8945.jpg', 'cat/cat.9654.jpg', 'cat/cat.5542.jpg', 'cat/cat.5001.jpg', 'cat/cat.4922.jpg', 'cat/cat.2228.jpg', 'cat/cat.7712.jpg', 'cat/cat.2118.jpg', 'cat/cat.1383.jpg', 'cat/cat.12360.jpg', 'cat/cat.10510.jpg', 'cat/cat.4680.jpg', 'cat/cat.8187.jpg', 'cat/cat.11027.jpg', 'cat/cat.10310.jpg', 'cat/cat.4057.jpg', 'cat/cat.9800.jpg', 'cat/cat.4113.jpg', 'cat/cat.8313.jpg', 'cat/cat.6524.jpg', 'cat/cat.2858.jpg', 'cat/cat.9610.jpg', 'cat/cat.8496.jpg', 'cat/cat.1787.jpg', 'cat/cat.8756.jpg', 'cat/cat.11864.jpg', 'cat/cat.6979.jpg', 'cat/cat.10543.jpg', 'cat/cat.965.jpg', 'cat/cat.162.jpg', 'cat/cat.2987.jpg', 'cat/cat.4584.jpg', 'cat/cat.3615.jpg', 'cat/cat.8903.jpg', 'cat/cat.7007.jpg', 'cat/cat.8340.jpg', 'cat/cat.12181.jpg', 'cat/cat.100.jpg', 'cat/cat.2422.jpg', 'cat/cat.2993.jpg', 'cat/cat.3043.jpg', 'cat/cat.5004.jpg', 'cat/cat.7461.jpg', 'cat/cat.1806.jpg', 'cat/cat.3788.jpg', 'cat/cat.3828.jpg', 'cat/cat.4615.jpg', 'cat/cat.12284.jpg', 'cat/cat.9020.jpg', 'cat/cat.1748.jpg', 'cat/cat.827.jpg', 'cat/cat.1733.jpg', 'cat/cat.9147.jpg', 'cat/cat.252.jpg', 'cat/cat.10804.jpg', 'cat/cat.1736.jpg', 'cat/cat.6378.jpg', 'cat/cat.6570.jpg', 'cat/cat.291.jpg', 'cat/cat.883.jpg', 'cat/cat.7688.jpg', 'cat/cat.5506.jpg', 'cat/cat.11115.jpg', 'cat/cat.10401.jpg', 'cat/cat.4745.jpg', 'cat/cat.174.jpg', 'cat/cat.9740.jpg', 'cat/cat.4098.jpg', 'cat/cat.8889.jpg', 'cat/cat.245.jpg', 'cat/cat.270.jpg', 'cat/cat.7199.jpg', 'dog/dog.456.jpg', 'dog/dog.9379.jpg', 'dog/dog.8537.jpg', 'dog/dog.10643.jpg', 'dog/dog.10098.jpg', 'dog/dog.10631.jpg', 'dog/dog.7344.jpg', 'dog/dog.3355.jpg', 'dog/dog.9938.jpg', 'dog/dog.11910.jpg', 'dog/dog.7866.jpg', 'dog/dog.9217.jpg', 'dog/dog.8742.jpg', 'dog/dog.8980.jpg', 'dog/dog.8992.jpg', 'dog/dog.4942.jpg', 'dog/dog.6737.jpg', 'dog/dog.10328.jpg', 'dog/dog.7584.jpg', 'dog/dog.15.jpg', 'dog/dog.891.jpg', 'dog/dog.7529.jpg', 'dog/dog.11470.jpg', 'dog/dog.6744.jpg', 'dog/dog.4926.jpg', 'dog/dog.4428.jpg', 'dog/dog.7752.jpg', 'dog/dog.7310.jpg', 'dog/dog.6248.jpg', 'dog/dog.2881.jpg', 'dog/dog.2669.jpg', 'dog/dog.2646.jpg', 'dog/dog.6150.jpg', 'dog/dog.9823.jpg', 'dog/dog.11449.jpg', 'dog/dog.4742.jpg', 'dog/dog.6379.jpg', 'dog/dog.8554.jpg', 'dog/dog.4807.jpg', 'dog/dog.5911.jpg', 'dog/dog.11475.jpg', 'dog/dog.3324.jpg', 'dog/dog.9268.jpg', 'dog/dog.10087.jpg', 'dog/dog.5361.jpg', 'dog/dog.10814.jpg', 'dog/dog.6371.jpg', 'dog/dog.10577.jpg', 'dog/dog.869.jpg', 'dog/dog.7278.jpg', 'dog/dog.32.jpg', 'dog/dog.7182.jpg', 'dog/dog.7004.jpg', 'dog/dog.9666.jpg', 'dog/dog.12009.jpg', 'dog/dog.4658.jpg', 'dog/dog.4443.jpg', 'dog/dog.1121.jpg', 'dog/dog.10374.jpg', 'dog/dog.1686.jpg', 'dog/dog.296.jpg', 'dog/dog.7938.jpg', 'dog/dog.3611.jpg', 'dog/dog.5286.jpg', 'dog/dog.9922.jpg', 'dog/dog.5026.jpg', 'dog/dog.8283.jpg', 'dog/dog.9777.jpg', 'dog/dog.2973.jpg', 'dog/dog.1427.jpg', 'dog/dog.3532.jpg', 'dog/dog.7073.jpg', 'dog/dog.9406.jpg', 'dog/dog.12230.jpg', 'dog/dog.1783.jpg', 'dog/dog.9700.jpg', 'dog/dog.9592.jpg', 'dog/dog.5802.jpg', 'dog/dog.3112.jpg', 'dog/dog.8192.jpg', 'dog/dog.6930.jpg', 'dog/dog.782.jpg', 'dog/dog.3417.jpg', 'dog/dog.4779.jpg', 'dog/dog.3276.jpg', 'dog/dog.4680.jpg', 'dog/dog.3047.jpg', 'dog/dog.6399.jpg', 'dog/dog.5383.jpg', 'dog/dog.10654.jpg', 'dog/dog.2429.jpg', 'dog/dog.7125.jpg', 'dog/dog.7946.jpg', 'dog/dog.464.jpg', 'dog/dog.10394.jpg', 'dog/dog.8633.jpg', 'dog/dog.9703.jpg', 'dog/dog.4269.jpg', 'dog/dog.4762.jpg', 'dog/dog.8568.jpg', 'dog/dog.1651.jpg', 'dog/dog.4231.jpg', 'dog/dog.6056.jpg', 'dog/dog.7061.jpg', 'dog/dog.8790.jpg', 'dog/dog.4128.jpg', 'dog/dog.8878.jpg', 'dog/dog.3601.jpg', 'dog/dog.5781.jpg', 'dog/dog.10397.jpg', 'dog/dog.4406.jpg', 'dog/dog.1669.jpg', 'dog/dog.9981.jpg', 'dog/dog.8257.jpg', 'dog/dog.829.jpg', 'dog/dog.3299.jpg', 'dog/dog.11946.jpg', 'dog/dog.10317.jpg', 'dog/dog.10583.jpg', 'dog/dog.8734.jpg', 'dog/dog.10951.jpg', 'dog/dog.9148.jpg', 'dog/dog.6279.jpg', 'dog/dog.1124.jpg', 'dog/dog.7250.jpg', 'dog/dog.3867.jpg', 'dog/dog.620.jpg', 'dog/dog.4586.jpg', 'dog/dog.1273.jpg', 'dog/dog.7175.jpg', 'dog/dog.10718.jpg', 'dog/dog.8031.jpg', 'dog/dog.7513.jpg', 'dog/dog.8043.jpg', 'dog/dog.8659.jpg', 'dog/dog.10480.jpg', 'dog/dog.10356.jpg', 'dog/dog.626.jpg', 'dog/dog.11752.jpg', 'dog/dog.1824.jpg', 'dog/dog.7238.jpg', 'dog/dog.10386.jpg', 'dog/dog.3694.jpg', 'dog/dog.8766.jpg', 'dog/dog.12278.jpg', 'dog/dog.2004.jpg', 'dog/dog.7017.jpg', 'dog/dog.5493.jpg', 'dog/dog.7245.jpg', 'dog/dog.4118.jpg', 'dog/dog.10056.jpg', 'dog/dog.12368.jpg', 'dog/dog.5744.jpg', 'dog/dog.9038.jpg', 'dog/dog.3961.jpg', 'dog/dog.12435.jpg', 'dog/dog.5505.jpg', 'dog/dog.2840.jpg', 'dog/dog.3296.jpg', 'dog/dog.5507.jpg', 'dog/dog.1005.jpg', 'dog/dog.6156.jpg', 'dog/dog.7049.jpg', 'dog/dog.4844.jpg', 'dog/dog.4536.jpg', 'dog/dog.8184.jpg', 'dog/dog.4346.jpg', 'dog/dog.160.jpg', 'dog/dog.9257.jpg', 'dog/dog.3866.jpg', 'dog/dog.6190.jpg', 'dog/dog.118.jpg', 'dog/dog.3585.jpg', 'dog/dog.11931.jpg', 'dog/dog.6540.jpg', 'dog/dog.10597.jpg', 'dog/dog.6620.jpg', 'dog/dog.706.jpg', 'dog/dog.4996.jpg', 'dog/dog.11818.jpg', 'dog/dog.7728.jpg', 'dog/dog.10953.jpg', 'dog/dog.2639.jpg', 'dog/dog.7486.jpg', 'dog/dog.7932.jpg', 'dog/dog.11462.jpg', 'dog/dog.5896.jpg', 'dog/dog.3411.jpg', 'dog/dog.8041.jpg', 'dog/dog.5568.jpg', 'dog/dog.497.jpg', 'dog/dog.5071.jpg', 'dog/dog.9024.jpg', 'dog/dog.7111.jpg', 'dog/dog.9042.jpg', 'dog/dog.10214.jpg', 'dog/dog.1887.jpg', 'dog/dog.11045.jpg', 'dog/dog.8481.jpg', 'dog/dog.6751.jpg', 'dog/dog.11541.jpg', 'dog/dog.10236.jpg', 'dog/dog.2147.jpg', 'dog/dog.10912.jpg', 'dog/dog.8036.jpg', 'dog/dog.938.jpg', 'dog/dog.11899.jpg', 'dog/dog.6408.jpg', 'dog/dog.2619.jpg', 'dog/dog.9813.jpg', 'dog/dog.3539.jpg', 'dog/dog.5106.jpg', 'dog/dog.5423.jpg', 'dog/dog.749.jpg', 'dog/dog.3239.jpg', 'dog/dog.6697.jpg', 'dog/dog.2746.jpg', 'dog/dog.1873.jpg', 'dog/dog.3240.jpg', 'dog/dog.1423.jpg', 'dog/dog.8946.jpg', 'dog/dog.9494.jpg', 'dog/dog.4797.jpg', 'dog/dog.3183.jpg', 'dog/dog.4608.jpg', 'dog/dog.4087.jpg', 'dog/dog.1294.jpg', 'dog/dog.1975.jpg', 'dog/dog.11350.jpg', 'dog/dog.3400.jpg', 'dog/dog.8101.jpg', 'dog/dog.1849.jpg', 'dog/dog.6590.jpg', 'dog/dog.2491.jpg', 'dog/dog.5010.jpg', 'dog/dog.8974.jpg', 'dog/dog.10388.jpg', 'dog/dog.4783.jpg', 'dog/dog.5445.jpg', 'dog/dog.8814.jpg', 'dog/dog.10103.jpg', 'dog/dog.10125.jpg', 'dog/dog.3736.jpg', 'dog/dog.7567.jpg', 'dog/dog.7539.jpg', 'dog/dog.4022.jpg', 'dog/dog.7161.jpg', 'dog/dog.10501.jpg', 'dog/dog.6790.jpg', 'dog/dog.8492.jpg', 'dog/dog.3445.jpg', 'dog/dog.7208.jpg', 'dog/dog.5919.jpg', 'dog/dog.5422.jpg', 'dog/dog.3247.jpg', 'dog/dog.7608.jpg', 'dog/dog.11382.jpg', 'dog/dog.7637.jpg', 'dog/dog.484.jpg', 'dog/dog.1263.jpg', 'dog/dog.4628.jpg', 'dog/dog.3026.jpg', 'dog/dog.8717.jpg', 'dog/dog.3839.jpg', 'dog/dog.3149.jpg', 'dog/dog.5572.jpg', 'dog/dog.8954.jpg', 'dog/dog.5309.jpg', 'dog/dog.8857.jpg', 'dog/dog.5359.jpg', 'dog/dog.11378.jpg', 'dog/dog.11884.jpg', 'dog/dog.7194.jpg', 'dog/dog.2783.jpg', 'dog/dog.5084.jpg', 'dog/dog.2984.jpg', 'dog/dog.11046.jpg', 'dog/dog.7996.jpg', 'dog/dog.5047.jpg', 'dog/dog.4830.jpg', 'dog/dog.3260.jpg', 'dog/dog.9087.jpg', 'dog/dog.3219.jpg', 'dog/dog.10640.jpg', 'dog/dog.10986.jpg', 'dog/dog.9641.jpg', 'dog/dog.8744.jpg', 'dog/dog.12162.jpg', 'dog/dog.11374.jpg', 'dog/dog.1049.jpg', 'dog/dog.4598.jpg', 'dog/dog.7316.jpg', 'dog/dog.7540.jpg', 'dog/dog.6266.jpg', 'dog/dog.6014.jpg', 'dog/dog.4604.jpg', 'dog/dog.4848.jpg', 'dog/dog.1107.jpg', 'dog/dog.10574.jpg', 'dog/dog.4823.jpg', 'dog/dog.1757.jpg', 'dog/dog.7412.jpg', 'dog/dog.10731.jpg', 'dog/dog.6991.jpg', 'dog/dog.8786.jpg', 'dog/dog.5081.jpg', 'dog/dog.4434.jpg', 'dog/dog.11994.jpg', 'dog/dog.10876.jpg', 'dog/dog.7320.jpg', 'dog/dog.1309.jpg', 'dog/dog.12351.jpg', 'dog/dog.6901.jpg', 'dog/dog.2641.jpg', 'dog/dog.1641.jpg', 'dog/dog.636.jpg', 'dog/dog.4420.jpg', 'dog/dog.5202.jpg', 'dog/dog.8408.jpg', 'dog/dog.7769.jpg', 'dog/dog.11211.jpg', 'dog/dog.904.jpg', 'dog/dog.5275.jpg', 'dog/dog.10484.jpg', 'dog/dog.11543.jpg', 'dog/dog.2992.jpg', 'dog/dog.856.jpg', 'dog/dog.4452.jpg', 'dog/dog.7201.jpg', 'dog/dog.10773.jpg', 'dog/dog.124.jpg', 'dog/dog.9429.jpg', 'dog/dog.6094.jpg', 'dog/dog.2644.jpg', 'dog/dog.6546.jpg', 'dog/dog.3558.jpg', 'dog/dog.1961.jpg', 'dog/dog.4787.jpg', 'dog/dog.9744.jpg', 'dog/dog.588.jpg', 'dog/dog.10850.jpg', 'dog/dog.1958.jpg', 'dog/dog.10605.jpg', 'dog/dog.9920.jpg', 'dog/dog.1967.jpg', 'dog/dog.4998.jpg', 'dog/dog.7293.jpg', 'dog/dog.7109.jpg', 'dog/dog.804.jpg', 'dog/dog.3366.jpg', 'dog/dog.3775.jpg', 'dog/dog.9582.jpg', 'dog/dog.8627.jpg', 'dog/dog.8662.jpg', 'dog/dog.4057.jpg', 'dog/dog.3295.jpg', 'dog/dog.9094.jpg', 'dog/dog.2848.jpg', 'dog/dog.1761.jpg', 'dog/dog.3725.jpg', 'dog/dog.8791.jpg', 'dog/dog.3909.jpg', 'dog/dog.2956.jpg', 'dog/dog.4157.jpg', 'dog/dog.9986.jpg', 'dog/dog.9318.jpg', 'dog/dog.9000.jpg', 'dog/dog.2961.jpg', 'dog/dog.6139.jpg', 'dog/dog.6401.jpg', 'dog/dog.9748.jpg', 'dog/dog.3304.jpg', 'dog/dog.3968.jpg', 'dog/dog.10331.jpg', 'dog/dog.3793.jpg', 'dog/dog.7120.jpg', 'dog/dog.7014.jpg', 'dog/dog.8870.jpg', 'dog/dog.7362.jpg', 'dog/dog.1490.jpg', 'dog/dog.2300.jpg', 'dog/dog.4984.jpg', 'dog/dog.7953.jpg', 'dog/dog.12452.jpg', 'dog/dog.4923.jpg', 'dog/dog.2697.jpg', 'dog/dog.2827.jpg', 'dog/dog.11033.jpg', 'dog/dog.4552.jpg', 'dog/dog.6255.jpg', 'dog/dog.6462.jpg', 'dog/dog.10109.jpg', 'dog/dog.4038.jpg', 'dog/dog.4029.jpg', 'dog/dog.2745.jpg', 'dog/dog.2382.jpg', 'dog/dog.10904.jpg', 'dog/dog.10205.jpg', 'dog/dog.5200.jpg', 'dog/dog.2428.jpg', 'dog/dog.3665.jpg', 'dog/dog.5027.jpg', 'dog/dog.1896.jpg', 'dog/dog.11639.jpg', 'dog/dog.215.jpg', 'dog/dog.235.jpg', 'dog/dog.11874.jpg', 'dog/dog.4060.jpg', 'dog/dog.193.jpg', 'dog/dog.3190.jpg', 'dog/dog.371.jpg', 'dog/dog.10234.jpg', 'dog/dog.6815.jpg', 'dog/dog.8679.jpg', 'dog/dog.10726.jpg', 'dog/dog.10409.jpg', 'dog/dog.10338.jpg', 'dog/dog.2529.jpg', 'dog/dog.10775.jpg', 'dog/dog.5720.jpg', 'dog/dog.10334.jpg', 'dog/dog.10316.jpg', 'dog/dog.3343.jpg', 'dog/dog.6240.jpg', 'dog/dog.2688.jpg', 'dog/dog.529.jpg', 'dog/dog.11785.jpg', 'dog/dog.7223.jpg', 'dog/dog.362.jpg', 'dog/dog.11591.jpg', 'dog/dog.11684.jpg', 'dog/dog.3696.jpg', 'dog/dog.7315.jpg', 'dog/dog.2441.jpg', 'dog/dog.9315.jpg', 'dog/dog.3096.jpg', 'dog/dog.6397.jpg', 'dog/dog.11073.jpg', 'dog/dog.7159.jpg', 'dog/dog.12421.jpg', 'dog/dog.6787.jpg', 'dog/dog.8915.jpg', 'dog/dog.10385.jpg', 'dog/dog.10383.jpg', 'dog/dog.2152.jpg', 'dog/dog.10582.jpg', 'dog/dog.3729.jpg', 'dog/dog.9721.jpg', 'dog/dog.2951.jpg', 'dog/dog.2029.jpg', 'dog/dog.2873.jpg', 'dog/dog.9482.jpg', 'dog/dog.1617.jpg', 'dog/dog.1047.jpg', 'dog/dog.3621.jpg', 'dog/dog.10785.jpg', 'dog/dog.1527.jpg', 'dog/dog.951.jpg', 'dog/dog.10118.jpg', 'dog/dog.348.jpg', 'dog/dog.8815.jpg', 'dog/dog.11757.jpg', 'dog/dog.6698.jpg', 'dog/dog.5165.jpg', 'dog/dog.474.jpg', 'dog/dog.8700.jpg', 'dog/dog.11807.jpg', 'dog/dog.5746.jpg', 'dog/dog.543.jpg', 'dog/dog.3660.jpg', 'dog/dog.8872.jpg', 'dog/dog.11331.jpg', 'dog/dog.6716.jpg', 'dog/dog.8027.jpg', 'dog/dog.9591.jpg', 'dog/dog.7851.jpg', 'dog/dog.10946.jpg', 'dog/dog.8981.jpg', 'dog/dog.9994.jpg', 'dog/dog.10120.jpg', 'dog/dog.5271.jpg', 'dog/dog.2849.jpg', 'dog/dog.1652.jpg', 'dog/dog.4182.jpg', 'dog/dog.2265.jpg', 'dog/dog.4933.jpg', 'dog/dog.53.jpg', 'dog/dog.3453.jpg', 'dog/dog.12029.jpg', 'dog/dog.7784.jpg', 'dog/dog.4207.jpg', 'dog/dog.1607.jpg', 'dog/dog.410.jpg', 'dog/dog.9130.jpg', 'dog/dog.6560.jpg', 'dog/dog.8798.jpg', 'dog/dog.1021.jpg', 'dog/dog.11587.jpg', 'dog/dog.2291.jpg', 'dog/dog.413.jpg', 'dog/dog.4212.jpg', 'dog/dog.4997.jpg', 'dog/dog.12343.jpg', 'dog/dog.5898.jpg', 'dog/dog.2962.jpg', 'dog/dog.5877.jpg', 'dog/dog.5683.jpg', 'dog/dog.7905.jpg', 'dog/dog.990.jpg', 'dog/dog.3222.jpg', 'dog/dog.6348.jpg', 'dog/dog.10355.jpg', 'dog/dog.11094.jpg', 'dog/dog.973.jpg', 'dog/dog.4526.jpg', 'dog/dog.10150.jpg', 'dog/dog.3741.jpg', 'dog/dog.9321.jpg', 'dog/dog.3224.jpg', 'dog/dog.9529.jpg', 'dog/dog.12324.jpg', 'dog/dog.650.jpg', 'dog/dog.3543.jpg', 'dog/dog.8325.jpg', 'dog/dog.887.jpg', 'dog/dog.3829.jpg', 'dog/dog.759.jpg', 'dog/dog.11027.jpg', 'dog/dog.11549.jpg', 'dog/dog.1286.jpg', 'dog/dog.12348.jpg', 'dog/dog.11632.jpg', 'dog/dog.899.jpg', 'dog/dog.8326.jpg', 'dog/dog.6811.jpg', 'dog/dog.1215.jpg', 'dog/dog.3959.jpg', 'dog/dog.212.jpg', 'dog/dog.3393.jpg', 'dog/dog.10749.jpg', 'dog/dog.6271.jpg', 'dog/dog.5895.jpg', 'dog/dog.2327.jpg', 'dog/dog.7857.jpg', 'dog/dog.7901.jpg', 'dog/dog.2160.jpg', 'dog/dog.528.jpg', 'dog/dog.10954.jpg', 'dog/dog.6168.jpg', 'dog/dog.11813.jpg', 'dog/dog.751.jpg', 'dog/dog.7011.jpg', 'dog/dog.5409.jpg', 'dog/dog.2371.jpg', 'dog/dog.3921.jpg', 'dog/dog.11798.jpg', 'dog/dog.6900.jpg', 'dog/dog.1538.jpg', 'dog/dog.5658.jpg', 'dog/dog.11659.jpg', 'dog/dog.3813.jpg', 'dog/dog.6034.jpg', 'dog/dog.1211.jpg', 'dog/dog.4453.jpg', 'dog/dog.5578.jpg', 'dog/dog.11172.jpg', 'dog/dog.5116.jpg', 'dog/dog.12221.jpg', 'dog/dog.5187.jpg', 'dog/dog.9081.jpg', 'dog/dog.7677.jpg', 'dog/dog.7020.jpg', 'dog/dog.4283.jpg', 'dog/dog.9073.jpg', 'dog/dog.8811.jpg', 'dog/dog.9459.jpg', 'dog/dog.5213.jpg', 'dog/dog.5826.jpg', 'dog/dog.5241.jpg', 'dog/dog.7754.jpg', 'dog/dog.11171.jpg', 'dog/dog.6378.jpg', 'dog/dog.941.jpg', 'dog/dog.11862.jpg', 'dog/dog.7094.jpg', 'dog/dog.3202.jpg', 'dog/dog.6614.jpg', 'dog/dog.7552.jpg', 'dog/dog.5564.jpg', 'dog/dog.9316.jpg', 'dog/dog.9122.jpg', 'dog/dog.11062.jpg', 'dog/dog.2764.jpg', 'dog/dog.8839.jpg', 'dog/dog.6695.jpg', 'dog/dog.1939.jpg', 'dog/dog.11725.jpg', 'dog/dog.1326.jpg', 'dog/dog.3102.jpg', 'dog/dog.2808.jpg', 'dog/dog.5705.jpg', 'dog/dog.8736.jpg', 'dog/dog.8575.jpg', 'dog/dog.7656.jpg', 'dog/dog.1610.jpg', 'dog/dog.4275.jpg', 'dog/dog.5344.jpg', 'dog/dog.5992.jpg', 'dog/dog.8925.jpg', 'dog/dog.11239.jpg', 'dog/dog.2350.jpg', 'dog/dog.7826.jpg', 'dog/dog.11416.jpg', 'dog/dog.10146.jpg', 'dog/dog.6172.jpg', 'dog/dog.5866.jpg', 'dog/dog.8654.jpg', 'dog/dog.4375.jpg', 'dog/dog.7676.jpg', 'dog/dog.9231.jpg', 'dog/dog.2022.jpg', 'dog/dog.11533.jpg', 'dog/dog.11717.jpg', 'dog/dog.10104.jpg', 'dog/dog.483.jpg', 'dog/dog.3545.jpg', 'dog/dog.1496.jpg', 'dog/dog.699.jpg', 'dog/dog.2186.jpg', 'dog/dog.12385.jpg', 'dog/dog.9103.jpg', 'dog/dog.12155.jpg', 'dog/dog.5975.jpg', 'dog/dog.2523.jpg', 'dog/dog.1734.jpg', 'dog/dog.7378.jpg', 'dog/dog.10155.jpg', 'dog/dog.1879.jpg', 'dog/dog.9784.jpg', 'dog/dog.7619.jpg', 'dog/dog.5153.jpg', 'dog/dog.3862.jpg', 'dog/dog.12048.jpg', 'dog/dog.3371.jpg', 'dog/dog.11004.jpg', 'dog/dog.5511.jpg', 'dog/dog.7688.jpg', 'dog/dog.9399.jpg', 'dog/dog.1356.jpg', 'dog/dog.2337.jpg', 'dog/dog.5775.jpg', 'dog/dog.1832.jpg', 'dog/dog.9463.jpg', 'dog/dog.682.jpg', 'dog/dog.4394.jpg', 'dog/dog.2064.jpg', 'dog/dog.433.jpg', 'dog/dog.9161.jpg', 'dog/dog.8868.jpg', 'dog/dog.2026.jpg', 'dog/dog.3049.jpg', 'dog/dog.3310.jpg', 'dog/dog.7239.jpg', 'dog/dog.11149.jpg', 'dog/dog.6657.jpg', 'dog/dog.12052.jpg', 'dog/dog.11124.jpg', 'dog/dog.1656.jpg', 'dog/dog.5768.jpg', 'dog/dog.2365.jpg', 'dog/dog.11055.jpg', 'dog/dog.7384.jpg', 'dog/dog.1930.jpg', 'dog/dog.4613.jpg', 'dog/dog.6607.jpg', 'dog/dog.7042.jpg', 'dog/dog.3082.jpg', 'dog/dog.6841.jpg', 'dog/dog.11305.jpg', 'dog/dog.2935.jpg', 'dog/dog.12265.jpg', 'dog/dog.5524.jpg', 'dog/dog.6288.jpg', 'dog/dog.5792.jpg', 'dog/dog.512.jpg', 'dog/dog.7425.jpg', 'dog/dog.8769.jpg', 'dog/dog.3749.jpg', 'dog/dog.4738.jpg', 'dog/dog.154.jpg', 'dog/dog.7002.jpg', 'dog/dog.2205.jpg', 'dog/dog.10121.jpg', 'dog/dog.12128.jpg', 'dog/dog.11313.jpg', 'dog/dog.120.jpg', 'dog/dog.9491.jpg', 'dog/dog.5314.jpg', 'dog/dog.6839.jpg', 'dog/dog.1013.jpg', 'dog/dog.3996.jpg', 'dog/dog.435.jpg', 'dog/dog.9405.jpg', 'dog/dog.12092.jpg', 'dog/dog.11545.jpg', 'dog/dog.3337.jpg', 'dog/dog.9598.jpg', 'dog/dog.4413.jpg', 'dog/dog.2530.jpg', 'dog/dog.11447.jpg', 'dog/dog.9829.jpg', 'dog/dog.8231.jpg', 'dog/dog.6582.jpg', 'dog/dog.4895.jpg', 'dog/dog.8153.jpg', 'dog/dog.9590.jpg', 'dog/dog.9854.jpg', 'dog/dog.11767.jpg', 'dog/dog.2443.jpg', 'dog/dog.9895.jpg', 'dog/dog.11275.jpg', 'dog/dog.11272.jpg', 'dog/dog.5483.jpg', 'dog/dog.1878.jpg', 'dog/dog.961.jpg', 'dog/dog.8902.jpg', 'dog/dog.843.jpg', 'dog/dog.5864.jpg', 'dog/dog.2001.jpg', 'dog/dog.8000.jpg', 'dog/dog.291.jpg', 'dog/dog.104.jpg', 'dog/dog.5058.jpg', 'dog/dog.6562.jpg', 'dog/dog.1876.jpg', 'dog/dog.12160.jpg', 'dog/dog.11810.jpg', 'dog/dog.8201.jpg', 'dog/dog.2329.jpg', 'dog/dog.4354.jpg', 'dog/dog.9311.jpg', 'dog/dog.11705.jpg', 'dog/dog.9646.jpg', 'dog/dog.6912.jpg', 'dog/dog.11498.jpg', 'dog/dog.11777.jpg', 'dog/dog.11514.jpg', 'dog/dog.4267.jpg', 'dog/dog.6127.jpg', 'dog/dog.10147.jpg', 'dog/dog.5708.jpg', 'dog/dog.5715.jpg', 'dog/dog.9991.jpg', 'dog/dog.1183.jpg', 'dog/dog.7176.jpg', 'dog/dog.1023.jpg', 'dog/dog.10784.jpg', 'dog/dog.9887.jpg', 'dog/dog.5592.jpg', 'dog/dog.2581.jpg', 'dog/dog.9356.jpg', 'dog/dog.3582.jpg', 'dog/dog.7627.jpg', 'dog/dog.694.jpg', 'dog/dog.4446.jpg', 'dog/dog.3685.jpg', 'dog/dog.1805.jpg', 'dog/dog.10545.jpg', 'dog/dog.7521.jpg', 'dog/dog.8649.jpg', 'dog/dog.3647.jpg', 'dog/dog.8849.jpg', 'dog/dog.10254.jpg', 'dog/dog.7534.jpg', 'dog/dog.4795.jpg', 'dog/dog.6507.jpg', 'dog/dog.253.jpg', 'dog/dog.10751.jpg', 'dog/dog.10853.jpg', 'dog/dog.6179.jpg', 'dog/dog.8741.jpg', 'dog/dog.3384.jpg', 'dog/dog.6961.jpg', 'dog/dog.8006.jpg', 'dog/dog.5307.jpg', 'dog/dog.1212.jpg', 'dog/dog.828.jpg', 'dog/dog.9928.jpg', 'dog/dog.4145.jpg', 'dog/dog.5393.jpg', 'dog/dog.7240.jpg', 'dog/dog.11745.jpg', 'dog/dog.5801.jpg', 'dog/dog.5065.jpg', 'dog/dog.6960.jpg', 'dog/dog.11885.jpg', 'dog/dog.3734.jpg', 'dog/dog.12266.jpg', 'dog/dog.10029.jpg', 'dog/dog.1810.jpg', 'dog/dog.11793.jpg', 'dog/dog.2272.jpg', 'dog/dog.12105.jpg', 'dog/dog.8855.jpg', 'dog/dog.523.jpg', 'dog/dog.6216.jpg', 'dog/dog.7040.jpg', 'dog/dog.4520.jpg', 'dog/dog.10826.jpg', 'dog/dog.8667.jpg', 'dog/dog.11218.jpg', 'dog/dog.6597.jpg', 'dog/dog.6950.jpg', 'dog/dog.6596.jpg', 'dog/dog.677.jpg', 'dog/dog.3835.jpg', 'dog/dog.7600.jpg', 'dog/dog.3976.jpg', 'dog/dog.11596.jpg', 'dog/dog.6979.jpg', 'dog/dog.2320.jpg', 'dog/dog.1268.jpg', 'dog/dog.2281.jpg', 'dog/dog.11122.jpg', 'dog/dog.3949.jpg', 'dog/dog.304.jpg', 'dog/dog.6755.jpg', 'dog/dog.11643.jpg', 'dog/dog.6935.jpg', 'dog/dog.4149.jpg', 'dog/dog.12358.jpg', 'dog/dog.7909.jpg', 'dog/dog.684.jpg', 'dog/dog.752.jpg', 'dog/dog.5412.jpg', 'dog/dog.3438.jpg', 'dog/dog.8208.jpg', 'dog/dog.6202.jpg', 'dog/dog.6928.jpg', 'dog/dog.8520.jpg', 'dog/dog.3847.jpg', 'dog/dog.12018.jpg', 'dog/dog.12025.jpg', 'dog/dog.8010.jpg', 'dog/dog.7641.jpg', 'dog/dog.246.jpg', 'dog/dog.11625.jpg', 'dog/dog.1020.jpg', 'dog/dog.654.jpg', 'dog/dog.11453.jpg', 'dog/dog.12357.jpg', 'dog/dog.7935.jpg', 'dog/dog.2452.jpg', 'dog/dog.10644.jpg', 'dog/dog.7092.jpg', 'dog/dog.1837.jpg', 'dog/dog.8103.jpg', 'dog/dog.9285.jpg', 'dog/dog.5370.jpg', 'dog/dog.1535.jpg', 'dog/dog.3872.jpg', 'dog/dog.725.jpg', 'dog/dog.11706.jpg', 'dog/dog.11746.jpg', 'dog/dog.7349.jpg', 'dog/dog.1660.jpg', 'dog/dog.839.jpg', 'dog/dog.10933.jpg', 'dog/dog.6103.jpg', 'dog/dog.2405.jpg', 'dog/dog.3501.jpg', 'dog/dog.10271.jpg', 'dog/dog.3058.jpg', 'dog/dog.9626.jpg', 'dog/dog.2894.jpg', 'dog/dog.11731.jpg', 'dog/dog.4731.jpg', 'dog/dog.459.jpg', 'dog/dog.10303.jpg', 'dog/dog.5605.jpg', 'dog/dog.12399.jpg', 'dog/dog.1389.jpg', 'dog/dog.742.jpg', 'dog/dog.4272.jpg', 'dog/dog.6032.jpg', 'dog/dog.10451.jpg', 'dog/dog.4421.jpg', 'dog/dog.4812.jpg', 'dog/dog.7551.jpg', 'dog/dog.2862.jpg', 'dog/dog.4515.jpg', 'dog/dog.2211.jpg', 'dog/dog.9899.jpg', 'dog/dog.11960.jpg', 'dog/dog.7733.jpg', 'dog/dog.8222.jpg', 'dog/dog.6121.jpg', 'dog/dog.5745.jpg', 'dog/dog.4243.jpg', 'dog/dog.7185.jpg', 'dog/dog.6941.jpg', 'dog/dog.2886.jpg', 'dog/dog.1253.jpg', 'dog/dog.5129.jpg', 'dog/dog.7000.jpg', 'dog/dog.9092.jpg', 'dog/dog.5691.jpg', 'dog/dog.6225.jpg', 'dog/dog.4927.jpg', 'dog/dog.7484.jpg', 'dog/dog.3361.jpg', 'dog/dog.5006.jpg', 'dog/dog.11617.jpg', 'dog/dog.645.jpg', 'dog/dog.3451.jpg', 'dog/dog.6630.jpg', 'dog/dog.3860.jpg', 'dog/dog.1388.jpg', 'dog/dog.126.jpg', 'dog/dog.3747.jpg', 'dog/dog.1240.jpg', 'dog/dog.3391.jpg', 'dog/dog.698.jpg', 'dog/dog.1817.jpg', 'dog/dog.9992.jpg', 'dog/dog.245.jpg', 'dog/dog.6322.jpg', 'dog/dog.7145.jpg', 'dog/dog.8858.jpg', 'dog/dog.10405.jpg', 'dog/dog.10432.jpg', 'dog/dog.955.jpg', 'dog/dog.12470.jpg', 'dog/dog.12120.jpg', 'dog/dog.1940.jpg', 'dog/dog.3094.jpg', 'dog/dog.11394.jpg', 'dog/dog.2925.jpg', 'dog/dog.3249.jpg', 'dog/dog.11215.jpg', 'dog/dog.7615.jpg', 'dog/dog.9185.jpg', 'dog/dog.11021.jpg', 'dog/dog.9322.jpg', 'dog/dog.12205.jpg', 'dog/dog.7543.jpg', 'dog/dog.9016.jpg', 'dog/dog.8805.jpg', 'dog/dog.5607.jpg', 'dog/dog.445.jpg', 'dog/dog.2557.jpg', 'dog/dog.8012.jpg', 'dog/dog.1708.jpg', 'dog/dog.2311.jpg', 'dog/dog.7795.jpg', 'dog/dog.11377.jpg', 'dog/dog.4803.jpg', 'dog/dog.2294.jpg', 'dog/dog.231.jpg', 'dog/dog.2127.jpg', 'dog/dog.9880.jpg', 'dog/dog.6160.jpg', 'dog/dog.6451.jpg', 'dog/dog.4178.jpg', 'dog/dog.6194.jpg', 'dog/dog.5538.jpg', 'dog/dog.1630.jpg', 'dog/dog.10488.jpg', 'dog/dog.2166.jpg', 'dog/dog.1420.jpg', 'dog/dog.5139.jpg', 'dog/dog.5569.jpg', 'dog/dog.2323.jpg', 'dog/dog.10706.jpg', 'dog/dog.3823.jpg', 'dog/dog.8427.jpg', 'dog/dog.372.jpg', 'dog/dog.8054.jpg', 'dog/dog.8947.jpg', 'dog/dog.5368.jpg', 'dog/dog.7272.jpg', 'dog/dog.3020.jpg', 'dog/dog.3705.jpg', 'dog/dog.6196.jpg', 'dog/dog.2719.jpg', 'dog/dog.886.jpg', 'dog/dog.10443.jpg', 'dog/dog.3210.jpg', 'dog/dog.7350.jpg', 'dog/dog.2704.jpg', 'dog/dog.8671.jpg', 'dog/dog.6845.jpg', 'dog/dog.9017.jpg', 'dog/dog.1342.jpg', 'dog/dog.11529.jpg', 'dog/dog.8419.jpg', 'dog/dog.12380.jpg', 'dog/dog.7311.jpg', 'dog/dog.10049.jpg', 'dog/dog.1693.jpg', 'dog/dog.4336.jpg', 'dog/dog.5245.jpg', 'dog/dog.217.jpg', 'dog/dog.10315.jpg', 'dog/dog.6035.jpg', 'dog/dog.6069.jpg', 'dog/dog.11630.jpg', 'dog/dog.812.jpg', 'dog/dog.551.jpg', 'dog/dog.2790.jpg', 'dog/dog.12275.jpg', 'dog/dog.857.jpg', 'dog/dog.581.jpg', 'dog/dog.6581.jpg', 'dog/dog.766.jpg', 'dog/dog.7465.jpg', 'dog/dog.7757.jpg', 'dog/dog.381.jpg', 'dog/dog.2275.jpg', 'dog/dog.7493.jpg', 'dog/dog.4755.jpg', 'dog/dog.3466.jpg', 'dog/dog.11165.jpg', 'dog/dog.5452.jpg', 'dog/dog.9833.jpg', 'dog/dog.8982.jpg', 'dog/dog.1466.jpg', 'dog/dog.3250.jpg', 'dog/dog.12408.jpg', 'dog/dog.1133.jpg', 'dog/dog.7212.jpg', 'dog/dog.3218.jpg', 'dog/dog.6544.jpg', 'dog/dog.4975.jpg', 'dog/dog.2721.jpg', 'dog/dog.5981.jpg', 'dog/dog.369.jpg', 'dog/dog.8301.jpg', 'dog/dog.10312.jpg', 'dog/dog.11782.jpg', 'dog/dog.1258.jpg', 'dog/dog.6137.jpg', 'dog/dog.3185.jpg', 'dog/dog.2858.jpg', 'dog/dog.1864.jpg', 'dog/dog.12289.jpg', 'dog/dog.4874.jpg', 'dog/dog.2679.jpg', 'dog/dog.2044.jpg', 'dog/dog.378.jpg', 'dog/dog.11373.jpg', 'dog/dog.7345.jpg', 'dog/dog.4890.jpg', 'dog/dog.3479.jpg', 'dog/dog.11651.jpg', 'dog/dog.6678.jpg', 'dog/dog.11445.jpg', 'dog/dog.10322.jpg', 'dog/dog.2089.jpg', 'dog/dog.7174.jpg', 'dog/dog.1274.jpg', 'dog/dog.6406.jpg', 'dog/dog.7377.jpg', 'dog/dog.9067.jpg', 'dog/dog.5349.jpg', 'dog/dog.4325.jpg', 'dog/dog.1530.jpg', 'dog/dog.11208.jpg', 'dog/dog.9742.jpg', 'dog/dog.5630.jpg', 'dog/dog.2328.jpg', 'dog/dog.3859.jpg', 'dog/dog.5124.jpg', 'dog/dog.9367.jpg', 'dog/dog.4410.jpg', 'dog/dog.2316.jpg', 'dog/dog.4401.jpg', 'dog/dog.3043.jpg', 'dog/dog.4097.jpg', 'dog/dog.88.jpg', 'dog/dog.11072.jpg', 'dog/dog.9052.jpg', 'dog/dog.388.jpg', 'dog/dog.6705.jpg', 'dog/dog.7193.jpg', 'dog/dog.11588.jpg', 'dog/dog.11748.jpg', 'dog/dog.3464.jpg', 'dog/dog.3785.jpg', 'dog/dog.567.jpg', 'dog/dog.2480.jpg', 'dog/dog.1779.jpg', 'dog/dog.4386.jpg', 'dog/dog.11962.jpg', 'dog/dog.5142.jpg', 'dog/dog.9126.jpg', 'dog/dog.6591.jpg', 'dog/dog.10887.jpg', 'dog/dog.12495.jpg', 'dog/dog.2700.jpg', 'dog/dog.9750.jpg', 'dog/dog.9220.jpg', 'dog/dog.5797.jpg', 'dog/dog.12090.jpg', 'dog/dog.5503.jpg', 'dog/dog.5837.jpg', 'dog/dog.6515.jpg', 'dog/dog.5984.jpg', 'dog/dog.2067.jpg', 'dog/dog.9208.jpg', 'dog/dog.9894.jpg', 'dog/dog.9421.jpg', 'dog/dog.5629.jpg', 'dog/dog.3586.jpg', 'dog/dog.6392.jpg', 'dog/dog.3291.jpg', 'dog/dog.5549.jpg', 'dog/dog.4675.jpg', 'dog/dog.6720.jpg', 'dog/dog.4183.jpg', 'dog/dog.9439.jpg', 'dog/dog.12273.jpg', 'dog/dog.7547.jpg', 'dog/dog.4595.jpg', 'dog/dog.11693.jpg', 'dog/dog.8911.jpg', 'dog/dog.2758.jpg', 'dog/dog.4687.jpg', 'dog/dog.3048.jpg', 'dog/dog.877.jpg', 'dog/dog.1436.jpg', 'dog/dog.10336.jpg', 'dog/dog.9207.jpg', 'dog/dog.7705.jpg', 'dog/dog.7959.jpg', 'dog/dog.11711.jpg', 'dog/dog.3646.jpg', 'dog/dog.2914.jpg', 'dog/dog.6145.jpg', 'dog/dog.2811.jpg', 'dog/dog.10495.jpg', 'dog/dog.1804.jpg', 'dog/dog.322.jpg', 'dog/dog.3007.jpg', 'dog/dog.3257.jpg', 'dog/dog.5976.jpg', 'dog/dog.6105.jpg', 'dog/dog.10832.jpg', 'dog/dog.1073.jpg', 'dog/dog.8797.jpg', 'dog/dog.4944.jpg', 'dog/dog.12449.jpg', 'dog/dog.4769.jpg', 'dog/dog.9090.jpg', 'dog/dog.7144.jpg', 'dog/dog.2037.jpg', 'dog/dog.2304.jpg', 'dog/dog.3220.jpg', 'dog/dog.12189.jpg', 'dog/dog.5255.jpg', 'dog/dog.3615.jpg', 'dog/dog.6833.jpg', 'dog/dog.3346.jpg', 'dog/dog.1890.jpg', 'dog/dog.11690.jpg', 'dog/dog.8960.jpg', 'dog/dog.6814.jpg', 'dog/dog.11840.jpg', 'dog/dog.330.jpg', 'dog/dog.8990.jpg', 'dog/dog.7652.jpg', 'dog/dog.7409.jpg', 'dog/dog.3039.jpg', 'dog/dog.8559.jpg', 'dog/dog.6938.jpg', 'dog/dog.9530.jpg', 'dog/dog.7535.jpg', 'dog/dog.3802.jpg', 'dog/dog.1312.jpg', 'dog/dog.7721.jpg', 'dog/dog.7302.jpg', 'dog/dog.3362.jpg', 'dog/dog.6999.jpg', 'dog/dog.294.jpg', 'dog/dog.10838.jpg', 'dog/dog.12143.jpg', 'dog/dog.1034.jpg', 'dog/dog.2799.jpg', 'dog/dog.8308.jpg', 'dog/dog.6423.jpg', 'dog/dog.10012.jpg', 'dog/dog.2444.jpg', 'dog/dog.7158.jpg', 'dog/dog.6361.jpg', 'dog/dog.11834.jpg', 'dog/dog.4983.jpg', 'dog/dog.11069.jpg', 'dog/dog.656.jpg', 'dog/dog.11892.jpg', 'dog/dog.8631.jpg', 'dog/dog.7702.jpg', 'dog/dog.8603.jpg', 'dog/dog.8307.jpg', 'dog/dog.3861.jpg', 'dog/dog.954.jpg', 'dog/dog.5169.jpg', 'dog/dog.9088.jpg', 'dog/dog.11605.jpg', 'dog/dog.267.jpg', 'dog/dog.3797.jpg', 'dog/dog.4014.jpg', 'dog/dog.6639.jpg', 'dog/dog.3669.jpg', 'dog/dog.10100.jpg', 'dog/dog.4767.jpg', 'dog/dog.6902.jpg', 'dog/dog.11099.jpg', 'dog/dog.5700.jpg', 'dog/dog.8754.jpg', 'dog/dog.6850.jpg', 'dog/dog.2439.jpg', 'dog/dog.5567.jpg', 'dog/dog.9112.jpg', 'dog/dog.1070.jpg', 'dog/dog.12259.jpg', 'dog/dog.11005.jpg', 'dog/dog.1277.jpg', 'dog/dog.5788.jpg', 'dog/dog.11093.jpg', 'dog/dog.1318.jpg', 'dog/dog.9248.jpg', 'dog/dog.2347.jpg', 'dog/dog.10489.jpg', 'dog/dog.5886.jpg', 'dog/dog.10308.jpg', 'dog/dog.5043.jpg', 'dog/dog.5756.jpg', 'dog/dog.1006.jpg', 'dog/dog.11267.jpg', 'dog/dog.11176.jpg', 'dog/dog.11016.jpg', 'dog/dog.9919.jpg', 'dog/dog.10719.jpg', 'dog/dog.11636.jpg', 'dog/dog.4550.jpg', 'dog/dog.5845.jpg', 'dog/dog.324.jpg', 'dog/dog.2890.jpg', 'dog/dog.7915.jpg', 'dog/dog.5986.jpg', 'dog/dog.11340.jpg', 'dog/dog.2286.jpg', 'dog/dog.8139.jpg', 'dog/dog.11428.jpg', 'dog/dog.11243.jpg', 'dog/dog.6067.jpg', 'dog/dog.9862.jpg', 'dog/dog.1493.jpg', 'dog/dog.7.jpg', 'dog/dog.3101.jpg', 'dog/dog.2061.jpg', 'dog/dog.5698.jpg', 'dog/dog.4371.jpg', 'dog/dog.8758.jpg', 'dog/dog.9238.jpg', 'dog/dog.3935.jpg', 'dog/dog.1918.jpg', 'dog/dog.6493.jpg', 'dog/dog.5410.jpg', 'dog/dog.4822.jpg', 'dog/dog.8756.jpg', 'dog/dog.525.jpg', 'dog/dog.8261.jpg', 'dog/dog.10810.jpg', 'dog/dog.2295.jpg', 'dog/dog.10054.jpg', 'dog/dog.10427.jpg', 'dog/dog.4190.jpg', 'dog/dog.735.jpg', 'dog/dog.11638.jpg', 'dog/dog.9634.jpg', 'dog/dog.8729.jpg', 'dog/dog.8361.jpg', 'dog/dog.10656.jpg', 'dog/dog.10396.jpg', 'dog/dog.5421.jpg', 'dog/dog.2196.jpg', 'dog/dog.2761.jpg', 'dog/dog.9465.jpg', 'dog/dog.2234.jpg', 'dog/dog.1623.jpg', 'dog/dog.1276.jpg', 'dog/dog.1697.jpg', 'dog/dog.10194.jpg', 'dog/dog.5063.jpg', 'dog/dog.12455.jpg', 'dog/dog.3920.jpg', 'dog/dog.29.jpg', 'dog/dog.2024.jpg', 'dog/dog.1796.jpg', 'dog/dog.9797.jpg', 'dog/dog.6050.jpg', 'dog/dog.10330.jpg', 'dog/dog.7342.jpg', 'dog/dog.8112.jpg', 'dog/dog.4522.jpg', 'dog/dog.6788.jpg', 'dog/dog.11007.jpg', 'dog/dog.8896.jpg', 'dog/dog.11850.jpg', 'dog/dog.11463.jpg', 'dog/dog.4137.jpg', 'dog/dog.6281.jpg', 'dog/dog.6953.jpg', 'dog/dog.8252.jpg', 'dog/dog.566.jpg', 'dog/dog.4053.jpg', 'dog/dog.10835.jpg', 'dog/dog.5620.jpg', 'dog/dog.7786.jpg', 'dog/dog.9536.jpg', 'dog/dog.4266.jpg', 'dog/dog.1455.jpg', 'dog/dog.910.jpg', 'dog/dog.11517.jpg', 'dog/dog.2010.jpg', 'dog/dog.5260.jpg', 'dog/dog.1243.jpg', 'dog/dog.7834.jpg', 'dog/dog.11365.jpg', 'dog/dog.8175.jpg', 'dog/dog.5563.jpg', 'dog/dog.447.jpg', 'dog/dog.3614.jpg', 'dog/dog.1408.jpg', 'dog/dog.3169.jpg', 'dog/dog.6994.jpg', 'dog/dog.4475.jpg', 'dog/dog.8644.jpg', 'dog/dog.10822.jpg', 'dog/dog.7127.jpg', 'dog/dog.11894.jpg', 'dog/dog.3499.jpg', 'dog/dog.206.jpg', 'dog/dog.4592.jpg', 'dog/dog.11293.jpg', 'dog/dog.10752.jpg', 'dog/dog.2685.jpg', 'dog/dog.8764.jpg', 'dog/dog.10897.jpg', 'dog/dog.10017.jpg', 'dog/dog.5779.jpg', 'dog/dog.7115.jpg', 'dog/dog.1723.jpg', 'dog/dog.2915.jpg', 'dog/dog.10341.jpg', 'dog/dog.1902.jpg', 'dog/dog.5385.jpg', 'dog/dog.5079.jpg', 'dog/dog.9018.jpg', 'dog/dog.8225.jpg', 'dog/dog.11574.jpg', 'dog/dog.7843.jpg', 'dog/dog.5475.jpg', 'dog/dog.5146.jpg', 'dog/dog.1041.jpg', 'dog/dog.12141.jpg', 'dog/dog.659.jpg', 'dog/dog.11808.jpg', 'dog/dog.4821.jpg', 'dog/dog.3915.jpg', 'dog/dog.12426.jpg', 'dog/dog.12451.jpg', 'dog/dog.10131.jpg', 'dog/dog.11315.jpg', 'dog/dog.11114.jpg', 'dog/dog.9778.jpg', 'dog/dog.10018.jpg', 'dog/dog.9603.jpg', 'dog/dog.7326.jpg', 'dog/dog.3573.jpg', 'dog/dog.4768.jpg', 'dog/dog.213.jpg', 'dog/dog.491.jpg', 'dog/dog.11028.jpg', 'dog/dog.1198.jpg', 'dog/dog.6036.jpg', 'dog/dog.10941.jpg', 'dog/dog.3368.jpg', 'dog/dog.10290.jpg', 'dog/dog.3564.jpg', 'dog/dog.1570.jpg', 'dog/dog.6817.jpg', 'dog/dog.10033.jpg', 'dog/dog.7890.jpg', 'dog/dog.2609.jpg', 'dog/dog.12326.jpg', 'dog/dog.10967.jpg', 'dog/dog.6608.jpg', 'dog/dog.2358.jpg', 'dog/dog.10889.jpg', 'dog/dog.8193.jpg', 'dog/dog.10854.jpg', 'dog/dog.10540.jpg', 'dog/dog.11649.jpg', 'dog/dog.12026.jpg', 'dog/dog.9306.jpg', 'dog/dog.1696.jpg', 'dog/dog.1575.jpg', 'dog/dog.9506.jpg', 'dog/dog.10306.jpg', 'dog/dog.8247.jpg', 'dog/dog.2510.jpg', 'dog/dog.12214.jpg', 'dog/dog.12086.jpg', 'dog/dog.4580.jpg', 'dog/dog.3888.jpg', 'dog/dog.10834.jpg', 'dog/dog.12384.jpg', 'dog/dog.6184.jpg', 'dog/dog.6400.jpg', 'dog/dog.6637.jpg', 'dog/dog.7104.jpg', 'dog/dog.6892.jpg', 'dog/dog.1915.jpg', 'dog/dog.7961.jpg', 'dog/dog.11682.jpg', 'dog/dog.469.jpg', 'dog/dog.7016.jpg', 'dog/dog.3327.jpg', 'dog/dog.1085.jpg', 'dog/dog.991.jpg', 'dog/dog.7178.jpg', 'dog/dog.8941.jpg', 'dog/dog.3196.jpg', 'dog/dog.10981.jpg', 'dog/dog.4167.jpg', 'dog/dog.1305.jpg', 'dog/dog.1542.jpg', 'dog/dog.10289.jpg', 'dog/dog.3930.jpg', 'dog/dog.79.jpg', 'dog/dog.3256.jpg', 'dog/dog.1852.jpg', 'dog/dog.2277.jpg', 'dog/dog.1982.jpg', 'dog/dog.205.jpg', 'dog/dog.9169.jpg', 'dog/dog.7750.jpg', 'dog/dog.3181.jpg', 'dog/dog.8156.jpg', 'dog/dog.11548.jpg', 'dog/dog.4403.jpg', 'dog/dog.8643.jpg', 'dog/dog.4965.jpg', 'dog/dog.2421.jpg', 'dog/dog.11804.jpg', 'dog/dog.11491.jpg', 'dog/dog.8242.jpg', 'dog/dog.2348.jpg', 'dog/dog.364.jpg', 'dog/dog.8177.jpg', 'dog/dog.7811.jpg', 'dog/dog.10101.jpg', 'dog/dog.9528.jpg', 'dog/dog.7359.jpg', 'dog/dog.3405.jpg', 'dog/dog.9142.jpg', 'dog/dog.634.jpg', 'dog/dog.11466.jpg', 'dog/dog.5973.jpg', 'dog/dog.10977.jpg', 'dog/dog.10375.jpg', 'dog/dog.269.jpg', 'dog/dog.8692.jpg', 'dog/dog.4836.jpg', 'dog/dog.2598.jpg', 'dog/dog.12065.jpg', 'dog/dog.12024.jpg', 'dog/dog.1019.jpg', 'dog/dog.11376.jpg', 'dog/dog.10669.jpg', 'dog/dog.11500.jpg', 'dog/dog.4262.jpg', 'dog/dog.11678.jpg', 'dog/dog.1626.jpg', 'dog/dog.3147.jpg', 'dog/dog.1620.jpg', 'dog/dog.5499.jpg', 'dog/dog.8045.jpg', 'dog/dog.10802.jpg', 'dog/dog.374.jpg', 'dog/dog.10276.jpg', 'dog/dog.2600.jpg', 'dog/dog.9850.jpg', 'dog/dog.11648.jpg', 'dog/dog.9559.jpg', 'dog/dog.6958.jpg', 'dog/dog.3206.jpg', 'dog/dog.1866.jpg', 'dog/dog.5644.jpg', 'dog/dog.7853.jpg', 'dog/dog.5719.jpg', 'dog/dog.1332.jpg', 'dog/dog.11381.jpg', 'dog/dog.7489.jpg', 'dog/dog.6757.jpg', 'dog/dog.4255.jpg', 'dog/dog.67.jpg', 'dog/dog.7089.jpg', 'dog/dog.1574.jpg', 'dog/dog.1935.jpg', 'dog/dog.3653.jpg', 'dog/dog.8660.jpg', 'dog/dog.1502.jpg', 'dog/dog.12339.jpg', 'dog/dog.2032.jpg', 'dog/dog.2455.jpg', 'dog/dog.4605.jpg', 'dog/dog.12197.jpg', 'dog/dog.2285.jpg', 'dog/dog.4462.jpg', 'dog/dog.12061.jpg', 'dog/dog.1432.jpg', 'dog/dog.11223.jpg', 'dog/dog.4076.jpg', 'dog/dog.6124.jpg', 'dog/dog.6337.jpg', 'dog/dog.2562.jpg', 'dog/dog.12110.jpg', 'dog/dog.11448.jpg', 'dog/dog.10717.jpg', 'dog/dog.2313.jpg', 'dog/dog.2388.jpg', 'dog/dog.510.jpg', 'dog/dog.3939.jpg', 'dog/dog.9713.jpg', 'dog/dog.8984.jpg', 'dog/dog.9849.jpg', 'dog/dog.3900.jpg', 'dog/dog.9809.jpg', 'dog/dog.1545.jpg', 'dog/dog.8272.jpg', 'dog/dog.8126.jpg', 'dog/dog.5055.jpg', 'dog/dog.11230.jpg', 'dog/dog.5926.jpg', 'dog/dog.7881.jpg', 'dog/dog.8751.jpg', 'dog/dog.10111.jpg', 'dog/dog.5060.jpg', 'dog/dog.7010.jpg', 'dog/dog.11328.jpg', 'dog/dog.8066.jpg', 'dog/dog.4198.jpg', 'dog/dog.6903.jpg', 'dog/dog.1782.jpg', 'dog/dog.4878.jpg', 'dog/dog.9464.jpg', 'dog/dog.218.jpg', 'dog/dog.4407.jpg', 'dog/dog.11206.jpg', 'dog/dog.11014.jpg', 'dog/dog.1139.jpg', 'dog/dog.3215.jpg', 'dog/dog.10031.jpg', 'dog/dog.715.jpg', 'dog/dog.4793.jpg', 'dog/dog.7698.jpg', 'dog/dog.849.jpg', 'dog/dog.11049.jpg', 'dog/dog.7846.jpg', 'dog/dog.6671.jpg', 'dog/dog.1862.jpg', 'dog/dog.10211.jpg', 'dog/dog.6051.jpg', 'dog/dog.2706.jpg', 'dog/dog.11861.jpg', 'dog/dog.524.jpg', 'dog/dog.3483.jpg', 'dog/dog.10803.jpg', 'dog/dog.8935.jpg', 'dog/dog.6709.jpg', 'dog/dog.1470.jpg', 'dog/dog.12433.jpg', 'dog/dog.2237.jpg', 'dog/dog.1449.jpg', 'dog/dog.7041.jpg', 'dog/dog.3054.jpg', 'dog/dog.8832.jpg', 'dog/dog.9039.jpg', 'dog/dog.12028.jpg', 'dog/dog.81.jpg', 'dog/dog.10578.jpg', 'dog/dog.12166.jpg', 'dog/dog.8698.jpg', 'dog/dog.2882.jpg', 'dog/dog.8701.jpg', 'dog/dog.4507.jpg', 'dog/dog.3161.jpg', 'dog/dog.11926.jpg', 'dog/dog.3035.jpg', 'dog/dog.4775.jpg', 'dog/dog.3589.jpg', 'dog/dog.4353.jpg', 'dog/dog.10320.jpg', 'dog/dog.9446.jpg', 'dog/dog.1119.jpg', 'dog/dog.11650.jpg', 'dog/dog.10845.jpg', 'dog/dog.10075.jpg', 'dog/dog.6335.jpg', 'dog/dog.11796.jpg', 'dog/dog.7113.jpg', 'dog/dog.1769.jpg', 'dog/dog.1405.jpg', 'dog/dog.9296.jpg', 'dog/dog.637.jpg', 'dog/dog.1758.jpg', 'dog/dog.1904.jpg', 'dog/dog.10083.jpg', 'dog/dog.7107.jpg', 'dog/dog.6613.jpg', 'dog/dog.6356.jpg', 'dog/dog.1643.jpg', 'dog/dog.2972.jpg', 'dog/dog.11460.jpg', 'dog/dog.1640.jpg', 'dog/dog.5080.jpg', 'dog/dog.4609.jpg', 'dog/dog.7766.jpg', 'dog/dog.3162.jpg', 'dog/dog.6321.jpg', 'dog/dog.3554.jpg', 'dog/dog.6163.jpg', 'dog/dog.9291.jpg', 'dog/dog.5220.jpg', 'dog/dog.9857.jpg', 'dog/dog.753.jpg', 'dog/dog.4754.jpg', 'dog/dog.1392.jpg', 'dog/dog.1960.jpg', 'dog/dog.1143.jpg', 'dog/dog.7023.jpg', 'dog/dog.1906.jpg', 'dog/dog.9521.jpg', 'dog/dog.7391.jpg', 'dog/dog.11403.jpg', 'dog/dog.3826.jpg', 'dog/dog.170.jpg', 'dog/dog.11441.jpg', 'dog/dog.6358.jpg', 'dog/dog.10794.jpg', 'dog/dog.4497.jpg', 'dog/dog.6629.jpg', 'dog/dog.5015.jpg', 'dog/dog.2267.jpg', 'dog/dog.11661.jpg', 'dog/dog.2855.jpg', 'dog/dog.3157.jpg', 'dog/dog.10407.jpg', 'dog/dog.6532.jpg', 'dog/dog.9146.jpg', 'dog/dog.11908.jpg', 'dog/dog.11425.jpg', 'dog/dog.395.jpg', 'dog/dog.2059.jpg', 'dog/dog.2953.jpg', 'dog/dog.8117.jpg', 'dog/dog.11210.jpg', 'dog/dog.3926.jpg', 'dog/dog.1083.jpg', 'dog/dog.6926.jpg', 'dog/dog.9247.jpg', 'dog/dog.11397.jpg', 'dog/dog.394.jpg', 'dog/dog.3904.jpg', 'dog/dog.3666.jpg', 'dog/dog.8796.jpg', 'dog/dog.6364.jpg', 'dog/dog.7126.jpg', 'dog/dog.7725.jpg', 'dog/dog.1639.jpg', 'dog/dog.9453.jpg', 'dog/dog.11521.jpg', 'dog/dog.1289.jpg', 'dog/dog.12136.jpg', 'dog/dog.2567.jpg', 'dog/dog.4007.jpg', 'dog/dog.2837.jpg', 'dog/dog.12425.jpg', 'dog/dog.7229.jpg', 'dog/dog.967.jpg', 'dog/dog.4268.jpg', 'dog/dog.7585.jpg', 'dog/dog.8799.jpg', 'dog/dog.4003.jpg', 'dog/dog.11552.jpg', 'dog/dog.7616.jpg', 'dog/dog.10257.jpg', 'dog/dog.9893.jpg', 'dog/dog.8303.jpg', 'dog/dog.5247.jpg', 'dog/dog.5451.jpg', 'dog/dog.1480.jpg', 'dog/dog.6677.jpg', 'dog/dog.5069.jpg', 'dog/dog.2128.jpg', 'dog/dog.11322.jpg', 'dog/dog.12040.jpg', 'dog/dog.5917.jpg', 'dog/dog.1598.jpg', 'dog/dog.8292.jpg', 'dog/dog.8515.jpg', 'dog/dog.5087.jpg', 'dog/dog.11975.jpg', 'dog/dog.3289.jpg', 'dog/dog.11608.jpg', 'dog/dog.4717.jpg', 'dog/dog.2769.jpg', 'dog/dog.6502.jpg', 'dog/dog.3491.jpg', 'dog/dog.8171.jpg', 'dog/dog.5306.jpg', 'dog/dog.7461.jpg', 'dog/dog.12393.jpg', 'dog/dog.8699.jpg', 'dog/dog.7091.jpg', 'dog/dog.6204.jpg', 'dog/dog.9434.jpg', 'dog/dog.2747.jpg', 'dog/dog.2478.jpg', 'dog/dog.7478.jpg', 'dog/dog.10855.jpg', 'dog/dog.1492.jpg', 'dog/dog.612.jpg', 'dog/dog.2751.jpg', 'dog/dog.10209.jpg', 'dog/dog.7259.jpg', 'dog/dog.8847.jpg', 'dog/dog.4841.jpg', 'dog/dog.6326.jpg', 'dog/dog.5244.jpg', 'dog/dog.9709.jpg', 'dog/dog.7317.jpg', 'dog/dog.964.jpg', 'dog/dog.3607.jpg', 'dog/dog.3252.jpg', 'dog/dog.8880.jpg', 'dog/dog.3429.jpg', 'dog/dog.10359.jpg', 'dog/dog.5594.jpg', 'dog/dog.3395.jpg', 'dog/dog.8670.jpg', 'dog/dog.4749.jpg', 'dog/dog.1820.jpg', 'dog/dog.12496.jpg', 'dog/dog.7286.jpg', 'dog/dog.11578.jpg', 'dog/dog.5580.jpg', 'dog/dog.11132.jpg', 'dog/dog.4781.jpg', 'dog/dog.9962.jpg', 'dog/dog.6001.jpg', 'dog/dog.7813.jpg', 'dog/dog.6472.jpg', 'dog/dog.9940.jpg', 'dog/dog.7902.jpg', 'dog/dog.4705.jpg', 'dog/dog.5662.jpg', 'dog/dog.12151.jpg', 'dog/dog.10088.jpg', 'dog/dog.1700.jpg', 'dog/dog.1322.jpg', 'dog/dog.4744.jpg', 'dog/dog.8466.jpg', 'dog/dog.10206.jpg', 'dog/dog.11086.jpg', 'dog/dog.7265.jpg', 'dog/dog.9353.jpg', 'dog/dog.4829.jpg', 'dog/dog.3032.jpg', 'dog/dog.8146.jpg', 'dog/dog.2102.jpg', 'dog/dog.2723.jpg', 'dog/dog.1054.jpg', 'dog/dog.10599.jpg', 'dog/dog.8288.jpg', 'dog/dog.3225.jpg', 'dog/dog.11870.jpg', 'dog/dog.2175.jpg', 'dog/dog.11419.jpg', 'dog/dog.4423.jpg', 'dog/dog.6130.jpg', 'dog/dog.8806.jpg', 'dog/dog.230.jpg', 'dog/dog.2123.jpg', 'dog/dog.1401.jpg', 'dog/dog.3575.jpg', 'dog/dog.5908.jpg', 'dog/dog.12184.jpg', 'dog/dog.2709.jpg', 'dog/dog.10326.jpg', 'dog/dog.12234.jpg', 'dog/dog.6530.jpg', 'dog/dog.4880.jpg', 'dog/dog.48.jpg', 'dog/dog.8387.jpg', 'dog/dog.6320.jpg', 'dog/dog.8409.jpg', 'dog/dog.8209.jpg', 'dog/dog.3508.jpg', 'dog/dog.3698.jpg', 'dog/dog.6214.jpg', 'dog/dog.74.jpg', 'dog/dog.12410.jpg', 'dog/dog.12386.jpg', 'dog/dog.7214.jpg', 'dog/dog.718.jpg', 'dog/dog.5158.jpg', 'dog/dog.9645.jpg', 'dog/dog.5273.jpg', 'dog/dog.10971.jpg', 'dog/dog.535.jpg', 'dog/dog.8527.jpg', 'dog/dog.481.jpg', 'dog/dog.7689.jpg', 'dog/dog.993.jpg', 'dog/dog.10886.jpg', 'dog/dog.10113.jpg', 'dog/dog.12139.jpg', 'dog/dog.6286.jpg', 'dog/dog.8625.jpg', 'dog/dog.8090.jpg', 'dog/dog.5869.jpg', 'dog/dog.10454.jpg', 'dog/dog.11154.jpg', 'dog/dog.10310.jpg', 'dog/dog.10498.jpg', 'dog/dog.4227.jpg', 'dog/dog.5040.jpg', 'dog/dog.12073.jpg', 'dog/dog.9596.jpg', 'dog/dog.12308.jpg', 'dog/dog.11570.jpg', 'dog/dog.10910.jpg', 'dog/dog.4615.jpg', 'dog/dog.12044.jpg', 'dog/dog.10164.jpg', 'dog/dog.44.jpg', 'dog/dog.5940.jpg', 'dog/dog.5174.jpg', 'dog/dog.4730.jpg', 'dog/dog.10762.jpg', 'dog/dog.7968.jpg', 'dog/dog.5616.jpg', 'dog/dog.7912.jpg', 'dog/dog.7121.jpg', 'dog/dog.5527.jpg', 'dog/dog.8190.jpg', 'dog/dog.922.jpg', 'dog/dog.4364.jpg', 'dog/dog.2680.jpg', 'dog/dog.4089.jpg', 'dog/dog.7082.jpg', 'dog/dog.8506.jpg', 'dog/dog.4633.jpg', 'dog/dog.2586.jpg', 'dog/dog.9918.jpg', 'dog/dog.3561.jpg', 'dog/dog.9225.jpg', 'dog/dog.7645.jpg', 'dog/dog.10748.jpg', 'dog/dog.6074.jpg', 'dog/dog.6078.jpg', 'dog/dog.10345.jpg', 'dog/dog.3357.jpg', 'dog/dog.3567.jpg', 'dog/dog.8367.jpg', 'dog/dog.11990.jpg', 'dog/dog.2985.jpg', 'dog/dog.12127.jpg', 'dog/dog.3271.jpg', 'dog/dog.6876.jpg', 'dog/dog.239.jpg', 'dog/dog.1616.jpg', 'dog/dog.8389.jpg', 'dog/dog.8713.jpg', 'dog/dog.11369.jpg', 'dog/dog.4450.jpg', 'dog/dog.2263.jpg', 'dog/dog.3530.jpg', 'dog/dog.6762.jpg', 'dog/dog.2481.jpg', 'dog/dog.2934.jpg', 'dog/dog.5987.jpg', 'dog/dog.1751.jpg', 'dog/dog.11736.jpg', 'dog/dog.2009.jpg', 'dog/dog.6070.jpg', 'dog/dog.8488.jpg', 'dog/dog.4107.jpg', 'dog/dog.5905.jpg', 'dog/dog.2038.jpg', 'dog/dog.3590.jpg', 'dog/dog.5076.jpg', 'dog/dog.8993.jpg', 'dog/dog.1425.jpg', 'dog/dog.5539.jpg', 'dog/dog.9027.jpg', 'dog/dog.4417.jpg', 'dog/dog.972.jpg', 'dog/dog.9826.jpg', 'dog/dog.10000.jpg', 'dog/dog.9417.jpg', 'dog/dog.8278.jpg', 'dog/dog.2754.jpg', 'dog/dog.11700.jpg', 'dog/dog.1514.jpg', 'dog/dog.9478.jpg', 'dog/dog.11060.jpg', 'dog/dog.9927.jpg', 'dog/dog.1099.jpg', 'dog/dog.4791.jpg', 'dog/dog.3587.jpg', 'dog/dog.6095.jpg', 'dog/dog.2177.jpg', 'dog/dog.11701.jpg', 'dog/dog.2269.jpg', 'dog/dog.5289.jpg', 'dog/dog.9488.jpg', 'dog/dog.7072.jpg', 'dog/dog.3422.jpg', 'dog/dog.4934.jpg', 'dog/dog.12013.jpg', 'dog/dog.1231.jpg', 'dog/dog.1981.jpg', 'dog/dog.1690.jpg', 'dog/dog.6360.jpg', 'dog/dog.8991.jpg', 'dog/dog.10446.jpg', 'dog/dog.4545.jpg', 'dog/dog.3958.jpg', 'dog/dog.5266.jpg', 'dog/dog.6957.jpg', 'dog/dog.11696.jpg', 'dog/dog.3763.jpg', 'dog/dog.4380.jpg', 'dog/dog.12099.jpg', 'dog/dog.11786.jpg', 'dog/dog.3432.jpg', 'dog/dog.3679.jpg', 'dog/dog.10866.jpg', 'dog/dog.1029.jpg', 'dog/dog.10274.jpg', 'dog/dog.6403.jpg', 'dog/dog.10561.jpg', 'dog/dog.9262.jpg', 'dog/dog.5729.jpg', 'dog/dog.7735.jpg', 'dog/dog.4868.jpg', 'dog/dog.6323.jpg', 'dog/dog.4430.jpg', 'dog/dog.10535.jpg', 'dog/dog.8733.jpg', 'dog/dog.5534.jpg', 'dog/dog.748.jpg', 'dog/dog.3789.jpg', 'dog/dog.10176.jpg', 'dog/dog.10934.jpg', 'dog/dog.8921.jpg', 'dog/dog.8770.jpg', 'dog/dog.12167.jpg', 'dog/dog.5548.jpg', 'dog/dog.8794.jpg', 'dog/dog.10462.jpg', 'dog/dog.4319.jpg', 'dog/dog.3410.jpg', 'dog/dog.11709.jpg', 'dog/dog.7715.jpg', 'dog/dog.12413.jpg', 'dog/dog.2845.jpg', 'dog/dog.2150.jpg', 'dog/dog.12478.jpg', 'dog/dog.8646.jpg', 'dog/dog.7394.jpg', 'dog/dog.6997.jpg', 'dog/dog.1667.jpg', 'dog/dog.1979.jpg', 'dog/dog.7498.jpg', 'dog/dog.4187.jpg', 'dog/dog.11161.jpg', 'dog/dog.24.jpg', 'dog/dog.12196.jpg', 'dog/dog.4077.jpg', 'dog/dog.9532.jpg', 'dog/dog.6654.jpg', 'dog/dog.11084.jpg', 'dog/dog.468.jpg', 'dog/dog.11537.jpg', 'dog/dog.4535.jpg', 'dog/dog.9633.jpg', 'dog/dog.8028.jpg', 'dog/dog.1300.jpg', 'dog/dog.408.jpg', 'dog/dog.11918.jpg', 'dog/dog.9545.jpg', 'dog/dog.6223.jpg', 'dog/dog.8237.jpg', 'dog/dog.10533.jpg', 'dog/dog.9227.jpg', 'dog/dog.3746.jpg', 'dog/dog.5189.jpg', 'dog/dog.5299.jpg', 'dog/dog.9188.jpg', 'dog/dog.17.jpg', 'dog/dog.11279.jpg', 'dog/dog.9781.jpg', 'dog/dog.6745.jpg', 'dog/dog.2629.jpg', 'dog/dog.7770.jpg', 'dog/dog.11679.jpg', 'dog/dog.10095.jpg', 'dog/dog.440.jpg', 'dog/dog.8414.jpg', 'dog/dog.10091.jpg', 'dog/dog.4802.jpg', 'dog/dog.1672.jpg', 'dog/dog.1229.jpg', 'dog/dog.9967.jpg', 'dog/dog.2558.jpg', 'dog/dog.1203.jpg', 'dog/dog.8197.jpg', 'dog/dog.10627.jpg', 'dog/dog.1192.jpg', 'dog/dog.1151.jpg', 'dog/dog.11024.jpg', 'dog/dog.2306.jpg', 'dog/dog.5021.jpg', 'dog/dog.10038.jpg', 'dog/dog.1123.jpg', 'dog/dog.11183.jpg', 'dog/dog.10544.jpg', 'dog/dog.4460.jpg', 'dog/dog.2714.jpg', 'dog/dog.2677.jpg', 'dog/dog.7015.jpg', 'dog/dog.1116.jpg', 'dog/dog.2355.jpg', 'dog/dog.8926.jpg', 'dog/dog.2628.jpg', 'dog/dog.4919.jpg', 'dog/dog.3394.jpg', 'dog/dog.6368.jpg', 'dog/dog.6089.jpg', 'dog/dog.4652.jpg', 'dog/dog.3819.jpg', 'dog/dog.11297.jpg', 'dog/dog.7118.jpg', 'dog/dog.9084.jpg', 'dog/dog.4474.jpg', 'dog/dog.150.jpg', 'dog/dog.238.jpg', 'dog/dog.9344.jpg', 'dog/dog.4054.jpg', 'dog/dog.2551.jpg', 'dog/dog.5561.jpg', 'dog/dog.77.jpg', 'dog/dog.10250.jpg', 'dog/dog.1665.jpg', 'dog/dog.7481.jpg', 'dog/dog.7884.jpg', 'dog/dog.11644.jpg', 'dog/dog.2818.jpg', 'dog/dog.3674.jpg', 'dog/dog.6310.jpg', 'dog/dog.5282.jpg', 'dog/dog.10268.jpg', 'dog/dog.5690.jpg', 'dog/dog.2520.jpg', 'dog/dog.10973.jpg', 'dog/dog.12341.jpg', 'dog/dog.11749.jpg', 'dog/dog.9513.jpg', 'dog/dog.11281.jpg', 'dog/dog.4304.jpg', 'dog/dog.11768.jpg', 'dog/dog.953.jpg', 'dog/dog.5048.jpg', 'dog/dog.242.jpg', 'dog/dog.8358.jpg', 'dog/dog.7574.jpg', 'dog/dog.6987.jpg', 'dog/dog.8518.jpg', 'dog/dog.7954.jpg', 'dog/dog.5381.jpg', 'dog/dog.1547.jpg', 'dog/dog.7200.jpg', 'dog/dog.11614.jpg', 'dog/dog.2298.jpg', 'dog/dog.10524.jpg', 'dog/dog.2519.jpg', 'dog/dog.7592.jpg', 'dog/dog.538.jpg', 'dog/dog.1461.jpg', 'dog/dog.224.jpg', 'dog/dog.5832.jpg', 'dog/dog.2626.jpg', 'dog/dog.9402.jpg', 'dog/dog.1037.jpg', 'dog/dog.7998.jpg', 'dog/dog.8669.jpg', 'dog/dog.896.jpg', 'dog/dog.3704.jpg', 'dog/dog.4350.jpg', 'dog/dog.9427.jpg', 'dog/dog.7844.jpg', 'dog/dog.7009.jpg', 'dog/dog.738.jpg', 'dog/dog.9950.jpg', 'dog/dog.7035.jpg', 'dog/dog.2424.jpg', 'dog/dog.7321.jpg', 'dog/dog.9295.jpg', 'dog/dog.2070.jpg', 'dog/dog.11254.jpg', 'dog/dog.2509.jpg', 'dog/dog.6660.jpg', 'dog/dog.5504.jpg', 'dog/dog.1024.jpg', 'dog/dog.9883.jpg', 'dog/dog.12342.jpg', 'dog/dog.2243.jpg', 'dog/dog.4139.jpg', 'dog/dog.11607.jpg', 'dog/dog.424.jpg', 'dog/dog.10622.jpg', 'dog/dog.5660.jpg', 'dog/dog.11153.jpg', 'dog/dog.11490.jpg', 'dog/dog.11103.jpg', 'dog/dog.1571.jpg', 'dog/dog.10084.jpg', 'dog/dog.12404.jpg', 'dog/dog.6533.jpg', 'dog/dog.6870.jpg', 'dog/dog.8067.jpg', 'dog/dog.4079.jpg', 'dog/dog.8355.jpg', 'dog/dog.5519.jpg', 'dog/dog.4988.jpg', 'dog/dog.7416.jpg', 'dog/dog.4578.jpg', 'dog/dog.7507.jpg', 'dog/dog.7599.jpg', 'dog/dog.9048.jpg', 'dog/dog.7188.jpg', 'dog/dog.7347.jpg', 'dog/dog.5072.jpg', 'dog/dog.9650.jpg', 'dog/dog.8093.jpg', 'dog/dog.1745.jpg', 'dog/dog.11683.jpg', 'dog/dog.10244.jpg', 'dog/dog.8953.jpg', 'dog/dog.601.jpg', 'dog/dog.9151.jpg', 'dog/dog.4055.jpg', 'dog/dog.11760.jpg', 'dog/dog.4599.jpg', 'dog/dog.4588.jpg', 'dog/dog.5292.jpg', 'dog/dog.12227.jpg', 'dog/dog.6311.jpg', 'dog/dog.10034.jpg', 'dog/dog.4953.jpg', 'dog/dog.719.jpg', 'dog/dog.2252.jpg', 'dog/dog.3409.jpg', 'dog/dog.5812.jpg', 'dog/dog.9489.jpg', 'dog/dog.9576.jpg', 'dog/dog.5790.jpg', 'dog/dog.5194.jpg', 'dog/dog.7561.jpg', 'dog/dog.4121.jpg', 'dog/dog.5965.jpg', 'dog/dog.8664.jpg', 'dog/dog.2733.jpg', 'dog/dog.1325.jpg', 'dog/dog.5623.jpg', 'dog/dog.7373.jpg', 'dog/dog.10172.jpg', 'dog/dog.8817.jpg', 'dog/dog.7659.jpg', 'dog/dog.6789.jpg', 'dog/dog.135.jpg', 'dog/dog.845.jpg', 'dog/dog.11289.jpg', 'dog/dog.9342.jpg', 'dog/dog.2368.jpg', 'dog/dog.10538.jpg', 'dog/dog.5083.jpg', 'dog/dog.6303.jpg', 'dog/dog.8421.jpg', 'dog/dog.9696.jpg', 'dog/dog.4365.jpg', 'dog/dog.6200.jpg', 'dog/dog.7186.jpg', 'dog/dog.11190.jpg', 'dog/dog.12231.jpg', 'dog/dog.4849.jpg', 'dog/dog.583.jpg', 'dog/dog.5137.jpg', 'dog/dog.9698.jpg', 'dog/dog.2910.jpg', 'dog/dog.2554.jpg', 'dog/dog.4132.jpg', 'dog/dog.10893.jpg', 'dog/dog.1205.jpg', 'dog/dog.7683.jpg', 'dog/dog.7971.jpg', 'dog/dog.1991.jpg', 'dog/dog.6969.jpg', 'dog/dog.11051.jpg', 'dog/dog.4126.jpg', 'dog/dog.11244.jpg', 'dog/dog.6330.jpg', 'dog/dog.2517.jpg', 'dog/dog.3890.jpg', 'dog/dog.5469.jpg', 'dog/dog.92.jpg', 'dog/dog.11692.jpg', 'dog/dog.404.jpg', 'dog/dog.7260.jpg', 'dog/dog.6167.jpg', 'dog/dog.5177.jpg', 'dog/dog.2549.jpg', 'dog/dog.934.jpg', 'dog/dog.3506.jpg', 'dog/dog.4185.jpg', 'dog/dog.9138.jpg', 'dog/dog.2414.jpg', 'dog/dog.6761.jpg', 'dog/dog.5815.jpg', 'dog/dog.3493.jpg', 'dog/dog.1488.jpg', 'dog/dog.4949.jpg', 'dog/dog.9978.jpg', 'dog/dog.9527.jpg', 'dog/dog.11367.jpg', 'dog/dog.5045.jpg', 'dog/dog.492.jpg', 'dog/dog.1952.jpg', 'dog/dog.5205.jpg', 'dog/dog.805.jpg', 'dog/dog.8937.jpg', 'dog/dog.4663.jpg', 'dog/dog.2151.jpg', 'dog/dog.3203.jpg', 'dog/dog.7520.jpg', 'dog/dog.3347.jpg', 'dog/dog.8353.jpg', 'dog/dog.7329.jpg', 'dog/dog.3836.jpg', 'dog/dog.9845.jpg', 'dog/dog.6459.jpg', 'dog/dog.5689.jpg', 'dog/dog.2960.jpg', 'dog/dog.3688.jpg', 'dog/dog.10738.jpg', 'dog/dog.178.jpg', 'dog/dog.7294.jpg', 'dog/dog.4147.jpg', 'dog/dog.6253.jpg', 'dog/dog.2987.jpg', 'dog/dog.9397.jpg', 'dog/dog.2412.jpg', 'dog/dog.6568.jpg', 'dog/dog.10662.jpg', 'dog/dog.10265.jpg', 'dog/dog.11312.jpg', 'dog/dog.12417.jpg', 'dog/dog.9974.jpg', 'dog/dog.8787.jpg', 'dog/dog.9806.jpg', 'dog/dog.11009.jpg', 'dog/dog.6661.jpg', 'dog/dog.5112.jpg', 'dog/dog.5613.jpg', 'dog/dog.5242.jpg', 'dog/dog.1996.jpg', 'dog/dog.8590.jpg', 'dog/dog.9712.jpg', 'dog/dog.10191.jpg', 'dog/dog.4016.jpg', 'dog/dog.1756.jpg', 'dog/dog.4668.jpg', 'dog/dog.9966.jpg', 'dog/dog.2240.jpg', 'dog/dog.3040.jpg', 'dog/dog.8824.jpg', 'dog/dog.289.jpg', 'dog/dog.9200.jpg', 'dog/dog.3468.jpg', 'dog/dog.5467.jpg', 'dog/dog.2921.jpg', 'dog/dog.8852.jpg', 'dog/dog.5819.jpg', 'dog/dog.9672.jpg', 'dog/dog.5024.jpg', 'dog/dog.5740.jpg', 'dog/dog.3916.jpg', 'dog/dog.12250.jpg', 'dog/dog.7308.jpg', 'dog/dog.2980.jpg', 'dog/dog.6491.jpg', 'dog/dog.8809.jpg', 'dog/dog.7995.jpg', 'dog/dog.5387.jpg', 'dog/dog.5590.jpg', 'dog/dog.3914.jpg', 'dog/dog.8026.jpg', 'dog/dog.5910.jpg', 'dog/dog.9495.jpg', 'dog/dog.12251.jpg', 'dog/dog.7215.jpg', 'dog/dog.1399.jpg', 'dog/dog.5170.jpg', 'dog/dog.2028.jpg', 'dog/dog.4281.jpg', 'dog/dog.165.jpg', 'dog/dog.5248.jpg', 'dog/dog.9433.jpg', 'dog/dog.4226.jpg', 'dog/dog.1184.jpg', 'dog/dog.6882.jpg', 'dog/dog.9410.jpg', 'dog/dog.12390.jpg', 'dog/dog.5870.jpg', 'dog/dog.7718.jpg', 'dog/dog.7290.jpg', 'dog/dog.3597.jpg', 'dog/dog.867.jpg', 'dog/dog.10756.jpg', 'dog/dog.8977.jpg', 'dog/dog.4020.jpg', 'dog/dog.8040.jpg', 'dog/dog.211.jpg', 'dog/dog.9891.jpg', 'dog/dog.5916.jpg', 'dog/dog.3950.jpg', 'dog/dog.2364.jpg', 'dog/dog.5770.jpg', 'dog/dog.11335.jpg', 'dog/dog.6564.jpg', 'dog/dog.8120.jpg', 'dog/dog.1747.jpg', 'dog/dog.5923.jpg', 'dog/dog.8677.jpg', 'dog/dog.195.jpg', 'dog/dog.10076.jpg', 'dog/dog.3711.jpg', 'dog/dog.11735.jpg', 'dog/dog.6821.jpg', 'dog/dog.2571.jpg', 'dog/dog.5736.jpg', 'dog/dog.2658.jpg', 'dog/dog.8812.jpg', 'dog/dog.4395.jpg', 'dog/dog.7365.jpg', 'dog/dog.7136.jpg', 'dog/dog.5515.jpg', 'dog/dog.3354.jpg', 'dog/dog.7936.jpg', 'dog/dog.11880.jpg', 'dog/dog.7921.jpg', 'dog/dog.6084.jpg', 'dog/dog.3569.jpg', 'dog/dog.10905.jpg', 'dog/dog.8376.jpg', 'dog/dog.9440.jpg', 'dog/dog.8023.jpg', 'dog/dog.769.jpg', 'dog/dog.2212.jpg', 'dog/dog.6898.jpg', 'dog/dog.3885.jpg', 'dog/dog.3619.jpg', 'dog/dog.6539.jpg', 'dog/dog.8711.jpg', 'dog/dog.11306.jpg', 'dog/dog.6735.jpg', 'dog/dog.7147.jpg', 'dog/dog.4388.jpg', 'dog/dog.9595.jpg', 'dog/dog.3758.jpg', 'dog/dog.4530.jpg', 'dog/dog.9190.jpg', 'dog/dog.7704.jpg', 'dog/dog.1424.jpg', 'dog/dog.1650.jpg', 'dog/dog.1549.jpg', 'dog/dog.4960.jpg', 'dog/dog.8587.jpg', 'dog/dog.2189.jpg', 'dog/dog.930.jpg', 'dog/dog.5584.jpg', 'dog/dog.10220.jpg', 'dog/dog.11568.jpg', 'dog/dog.8942.jpg', 'dog/dog.5251.jpg', 'dog/dog.4166.jpg', 'dog/dog.5351.jpg', 'dog/dog.2776.jpg', 'dog/dog.4193.jpg', 'dog/dog.723.jpg', 'dog/dog.9863.jpg', 'dog/dog.366.jpg', 'dog/dog.3375.jpg', 'dog/dog.9541.jpg', 'dog/dog.7756.jpg', 'dog/dog.5636.jpg', 'dog/dog.6012.jpg', 'dog/dog.6742.jpg', 'dog/dog.7859.jpg', 'dog/dog.11413.jpg', 'dog/dog.1370.jpg', 'dog/dog.5363.jpg', 'dog/dog.7940.jpg', 'dog/dog.9621.jpg', 'dog/dog.4959.jpg', 'dog/dog.9287.jpg', 'dog/dog.1063.jpg', 'dog/dog.11789.jpg', 'dog/dog.7076.jpg', 'dog/dog.3971.jpg', 'dog/dog.9173.jpg', 'dog/dog.664.jpg', 'dog/dog.2054.jpg', 'dog/dog.12173.jpg', 'dog/dog.6162.jpg', 'dog/dog.10860.jpg', 'dog/dog.3433.jpg', 'dog/dog.6409.jpg', 'dog/dog.2601.jpg', 'dog/dog.11601.jpg', 'dog/dog.8767.jpg', 'dog/dog.2094.jpg', 'dog/dog.1422.jpg', 'dog/dog.6164.jpg', 'dog/dog.4864.jpg', 'dog/dog.2896.jpg', 'dog/dog.9936.jpg', 'dog/dog.2132.jpg', 'dog/dog.9451.jpg', 'dog/dog.3191.jpg', 'dog/dog.7612.jpg', 'dog/dog.6237.jpg', 'dog/dog.11938.jpg', 'dog/dog.9197.jpg', 'dog/dog.9557.jpg', 'dog/dog.10982.jpg', 'dog/dog.8100.jpg', 'dog/dog.3832.jpg', 'dog/dog.4404.jpg', 'dog/dog.5172.jpg', 'dog/dog.10960.jpg', 'dog/dog.4224.jpg', 'dog/dog.183.jpg', 'dog/dog.11440.jpg', 'dog/dog.11106.jpg', 'dog/dog.1808.jpg', 'dog/dog.10668.jpg', 'dog/dog.3119.jpg', 'dog/dog.10450.jpg', 'dog/dog.8895.jpg', 'dog/dog.5758.jpg', 'dog/dog.10526.jpg', 'dog/dog.12082.jpg', 'dog/dog.3363.jpg', 'dog/dog.4561.jpg', 'dog/dog.960.jpg', 'dog/dog.8875.jpg', 'dog/dog.8443.jpg', 'dog/dog.11610.jpg', 'dog/dog.4125.jpg', 'dog/dog.2738.jpg', 'dog/dog.3894.jpg', 'dog/dog.9261.jpg', 'dog/dog.1137.jpg', 'dog/dog.7337.jpg', 'dog/dog.6187.jpg', 'dog/dog.6425.jpg', 'dog/dog.851.jpg', 'dog/dog.518.jpg', 'dog/dog.12180.jpg', 'dog/dog.4736.jpg', 'dog/dog.7148.jpg', 'dog/dog.12257.jpg', 'dog/dog.11940.jpg', 'dog/dog.9445.jpg', 'dog/dog.10059.jpg', 'dog/dog.11231.jpg', 'dog/dog.1934.jpg', 'dog/dog.11371.jpg', 'dog/dog.8286.jpg', 'dog/dog.3142.jpg', 'dog/dog.8434.jpg', 'dog/dog.1814.jpg', 'dog/dog.3871.jpg', 'dog/dog.11136.jpg', 'dog/dog.11150.jpg', 'dog/dog.780.jpg', 'dog/dog.10453.jpg', 'dog/dog.8181.jpg', 'dog/dog.28.jpg', 'dog/dog.9837.jpg', 'dog/dog.10086.jpg', 'dog/dog.9450.jpg', 'dog/dog.5295.jpg', 'dog/dog.1973.jpg', 'dog/dog.7815.jpg', 'dog/dog.1001.jpg', 'dog/dog.2809.jpg', 'dog/dog.9341.jpg', 'dog/dog.2620.jpg', 'dog/dog.2137.jpg', 'dog/dog.4931.jpg', 'dog/dog.863.jpg', 'dog/dog.5553.jpg', 'dog/dog.1297.jpg', 'dog/dog.11497.jpg', 'dog/dog.8246.jpg', 'dog/dog.8410.jpg', 'dog/dog.11338.jpg', 'dog/dog.8683.jpg', 'dog/dog.2793.jpg', 'dog/dog.8127.jpg', 'dog/dog.9365.jpg', 'dog/dog.1239.jpg', 'dog/dog.10722.jpg', 'dog/dog.7227.jpg', 'dog/dog.1885.jpg', 'dog/dog.6722.jpg', 'dog/dog.4134.jpg', 'dog/dog.9578.jpg', 'dog/dog.6287.jpg', 'dog/dog.113.jpg', 'dog/dog.3200.jpg', 'dog/dog.258.jpg', 'dog/dog.12103.jpg', 'dog/dog.2149.jpg', 'dog/dog.1602.jpg', 'dog/dog.292.jpg', 'dog/dog.9149.jpg', 'dog/dog.2835.jpg', 'dog/dog.4887.jpg', 'dog/dog.8398.jpg', 'dog/dog.5533.jpg', 'dog/dog.1301.jpg', 'dog/dog.3505.jpg', 'dog/dog.6687.jpg', 'dog/dog.4184.jpg', 'dog/dog.2877.jpg', 'dog/dog.3471.jpg', 'dog/dog.7164.jpg', 'dog/dog.5574.jpg', 'dog/dog.739.jpg', 'dog/dog.1882.jpg', 'dog/dog.10927.jpg', 'dog/dog.8382.jpg', 'dog/dog.327.jpg', 'dog/dog.11626.jpg', 'dog/dog.7972.jpg', 'dog/dog.9706.jpg', 'dog/dog.4894.jpg', 'dog/dog.5730.jpg', 'dog/dog.4521.jpg', 'dog/dog.108.jpg', 'dog/dog.12194.jpg', 'dog/dog.11483.jpg', 'dog/dog.8620.jpg', 'dog/dog.2308.jpg', 'dog/dog.9170.jpg', 'dog/dog.5603.jpg', 'dog/dog.3999.jpg', 'dog/dog.5542.jpg', 'dog/dog.854.jpg', 'dog/dog.9671.jpg', 'dog/dog.11907.jpg', 'dog/dog.8379.jpg', 'dog/dog.10072.jpg', 'dog/dog.2860.jpg', 'dog/dog.8672.jpg', 'dog/dog.11303.jpg', 'dog/dog.9181.jpg', 'dog/dog.1223.jpg', 'dog/dog.485.jpg', 'dog/dog.7431.jpg', 'dog/dog.705.jpg', 'dog/dog.989.jpg', 'dog/dog.4809.jpg', 'dog/dog.11302.jpg', 'dog/dog.7875.jpg', 'dog/dog.8441.jpg', 'dog/dog.8943.jpg', 'dog/dog.4426.jpg', 'dog/dog.8453.jpg', 'dog/dog.11192.jpg', 'dog/dog.6575.jpg', 'dog/dog.3154.jpg', 'dog/dog.7078.jpg', 'dog/dog.5932.jpg', 'dog/dog.10401.jpg', 'dog/dog.11615.jpg', 'dog/dog.7808.jpg', 'dog/dog.2185.jpg', 'dog/dog.3378.jpg', 'dog/dog.5794.jpg', 'dog/dog.7523.jpg', 'dog/dog.3838.jpg', 'dog/dog.9009.jpg', 'dog/dog.1270.jpg', 'dog/dog.319.jpg', 'dog/dog.4593.jpg', 'dog/dog.831.jpg', 'dog/dog.4602.jpg', 'dog/dog.5456.jpg', 'dog/dog.9958.jpg', 'dog/dog.1087.jpg', 'dog/dog.9430.jpg', 'dog/dog.7070.jpg', 'dog/dog.8150.jpg', 'dog/dog.143.jpg', 'dog/dog.1612.jpg', 'dog/dog.563.jpg', 'dog/dog.10755.jpg', 'dog/dog.4045.jpg', 'dog/dog.2493.jpg', 'dog/dog.11310.jpg', 'dog/dog.5013.jpg', 'dog/dog.11688.jpg', 'dog/dog.8474.jpg', 'dog/dog.3473.jpg', 'dog/dog.8635.jpg', 'dog/dog.5126.jpg', 'dog/dog.4892.jpg', 'dog/dog.2942.jpg', 'dog/dog.282.jpg', 'dog/dog.9613.jpg', 'dog/dog.2872.jpg', 'dog/dog.2544.jpg', 'dog/dog.3462.jpg', 'dog/dog.3680.jpg', 'dog/dog.9695.jpg', 'dog/dog.3773.jpg', 'dog/dog.127.jpg', 'dog/dog.5263.jpg', 'dog/dog.4740.jpg', 'dog/dog.6998.jpg', 'dog/dog.3509.jpg', 'dog/dog.936.jpg', 'dog/dog.2448.jpg', 'dog/dog.12117.jpg', 'dog/dog.4218.jpg', 'dog/dog.5514.jpg', 'dog/dog.1994.jpg', 'dog/dog.45.jpg', 'dog/dog.2065.jpg', 'dog/dog.7456.jpg', 'dog/dog.10339.jpg', 'dog/dog.4102.jpg', 'dog/dog.1764.jpg', 'dog/dog.3910.jpg', 'dog/dog.984.jpg', 'dog/dog.1806.jpg', 'dog/dog.6183.jpg', 'dog/dog.2726.jpg', 'dog/dog.6389.jpg', 'dog/dog.12199.jpg', 'dog/dog.2297.jpg', 'dog/dog.10661.jpg', 'dog/dog.2422.jpg', 'dog/dog.9821.jpg', 'dog/dog.2865.jpg', 'dog/dog.9615.jpg', 'dog/dog.6471.jpg', 'dog/dog.6055.jpg', 'dog/dog.5223.jpg', 'dog/dog.3173.jpg', 'dog/dog.12158.jpg', 'dog/dog.5710.jpg', 'dog/dog.11921.jpg', 'dog/dog.12039.jpg', 'dog/dog.11209.jpg', 'dog/dog.6786.jpg', 'dog/dog.11868.jpg', 'dog/dog.758.jpg', 'dog/dog.916.jpg', 'dog/dog.6122.jpg', 'dog/dog.10588.jpg', 'dog/dog.9807.jpg', 'dog/dog.6785.jpg', 'dog/dog.8833.jpg', 'dog/dog.10641.jpg', 'dog/dog.1740.jpg', 'dog/dog.4993.jpg', 'dog/dog.6977.jpg', 'dog/dog.9517.jpg', 'dog/dog.1191.jpg', 'dog/dog.3449.jpg', 'dog/dog.10716.jpg', 'dog/dog.6166.jpg', 'dog/dog.6741.jpg', 'dog/dog.11485.jpg', 'dog/dog.1474.jpg', 'dog/dog.8653.jpg', 'dog/dog.5617.jpg', 'dog/dog.5666.jpg', 'dog/dog.1350.jpg', 'dog/dog.1146.jpg', 'dog/dog.2318.jpg', 'dog/dog.5132.jpg', 'dog/dog.757.jpg', 'dog/dog.201.jpg', 'dog/dog.9159.jpg', 'dog/dog.11957.jpg', 'dog/dog.10856.jpg', 'dog/dog.2926.jpg', 'dog/dog.11000.jpg', 'dog/dog.9246.jpg', 'dog/dog.12279.jpg', 'dog/dog.9680.jpg', 'dog/dog.6588.jpg', 'dog/dog.11670.jpg', 'dog/dog.3857.jpg', 'dog/dog.7346.jpg', 'dog/dog.11356.jpg', 'dog/dog.12256.jpg', 'dog/dog.12001.jpg', 'dog/dog.5003.jpg', 'dog/dog.95.jpg', 'dog/dog.10192.jpg', 'dog/dog.10138.jpg', 'dog/dog.2576.jpg', 'dog/dog.1102.jpg', 'dog/dog.8639.jpg', 'dog/dog.6729.jpg', 'dog/dog.2692.jpg', 'dog/dog.7247.jpg', 'dog/dog.2361.jpg', 'dog/dog.10926.jpg', 'dog/dog.4433.jpg', 'dog/dog.1140.jpg', 'dog/dog.2279.jpg', 'dog/dog.4373.jpg', 'dog/dog.2606.jpg', 'dog/dog.10793.jpg', 'dog/dog.1676.jpg', 'dog/dog.5032.jpg', 'dog/dog.3624.jpg', 'dog/dog.11137.jpg', 'dog/dog.9403.jpg', 'dog/dog.1655.jpg', 'dog/dog.8029.jpg', 'dog/dog.9014.jpg', 'dog/dog.12183.jpg', 'dog/dog.9716.jpg', 'dog/dog.12296.jpg', 'dog/dog.5425.jpg', 'dog/dog.7036.jpg', 'dog/dog.6967.jpg', 'dog/dog.10728.jpg', 'dog/dog.5288.jpg', 'dog/dog.2867.jpg', 'dog/dog.5999.jpg', 'dog/dog.8836.jpg', 'dog/dog.8475.jpg', 'dog/dog.1749.jpg', 'dog/dog.2497.jpg', 'dog/dog.5341.jpg', 'dog/dog.2999.jpg', 'dog/dog.2994.jpg', 'dog/dog.396.jpg', 'dog/dog.12079.jpg', 'dog/dog.9635.jpg', 'dog/dog.5378.jpg', 'dog/dog.1058.jpg', 'dog/dog.7151.jpg', 'dog/dog.8762.jpg', 'dog/dog.8874.jpg', 'dog/dog.6458.jpg', 'dog/dog.9457.jpg', 'dog/dog.8955.jpg', 'dog/dog.6836.jpg', 'dog/dog.2115.jpg', 'dog/dog.10660.jpg', 'dog/dog.3722.jpg', 'dog/dog.5509.jpg', 'dog/dog.12389.jpg', 'dog/dog.4854.jpg', 'dog/dog.9856.jpg', 'dog/dog.2655.jpg', 'dog/dog.1895.jpg', 'dog/dog.6057.jpg', 'dog/dog.9749.jpg', 'dog/dog.7768.jpg', 'dog/dog.12097.jpg', 'dog/dog.9209.jpg', 'dog/dog.4670.jpg', 'dog/dog.813.jpg', 'dog/dog.9852.jpg', 'dog/dog.8310.jpg', 'dog/dog.6294.jpg', 'dog/dog.648.jpg', 'dog/dog.511.jpg', 'dog/dog.3446.jpg', 'dog/dog.3550.jpg', 'dog/dog.6881.jpg', 'dog/dog.7557.jpg', 'dog/dog.443.jpg', 'dog/dog.8065.jpg', 'dog/dog.10823.jpg', 'dog/dog.6971.jpg', 'dog/dog.11008.jpg', 'dog/dog.5913.jpg', 'dog/dog.6754.jpg', 'dog/dog.4932.jpg', 'dog/dog.7622.jpg', 'dog/dog.3873.jpg', 'dog/dog.9314.jpg', 'dog/dog.4504.jpg', 'dog/dog.6805.jpg', 'dog/dog.10765.jpg', 'dog/dog.1314.jpg', 'dog/dog.8757.jpg', 'dog/dog.6773.jpg', 'dog/dog.4746.jpg', 'dog/dog.7723.jpg', 'dog/dog.7906.jpg', 'dog/dog.4689.jpg', 'dog/dog.12474.jpg', 'dog/dog.10514.jpg', 'dog/dog.11015.jpg', 'dog/dog.3991.jpg', 'dog/dog.10071.jpg', 'dog/dog.11950.jpg', 'dog/dog.3898.jpg', 'dog/dog.2665.jpg', 'dog/dog.12283.jpg', 'dog/dog.10809.jpg', 'dog/dog.8710.jpg', 'dog/dog.12093.jpg', 'dog/dog.1943.jpg', 'dog/dog.9221.jpg', 'dog/dog.426.jpg', 'dog/dog.2832.jpg', 'dog/dog.9392.jpg', 'dog/dog.2194.jpg', 'dog/dog.6771.jpg', 'dog/dog.2136.jpg', 'dog/dog.2662.jpg', 'dog/dog.2376.jpg', 'dog/dog.159.jpg', 'dog/dog.11487.jpg', 'dog/dog.720.jpg', 'dog/dog.5443.jpg', 'dog/dog.11333.jpg', 'dog/dog.11484.jpg', 'dog/dog.2036.jpg', 'dog/dog.3817.jpg', 'dog/dog.10520.jpg', 'dog/dog.11964.jpg', 'dog/dog.1922.jpg', 'dog/dog.11991.jpg', 'dog/dog.4047.jpg', 'dog/dog.9110.jpg', 'dog/dog.7213.jpg', 'dog/dog.6906.jpg', 'dog/dog.5447.jpg', 'dog/dog.9581.jpg', 'dog/dog.4957.jpg', 'dog/dog.10534.jpg', 'dog/dog.12402.jpg', 'dog/dog.2802.jpg', 'dog/dog.2258.jpg', 'dog/dog.9020.jpg', 'dog/dog.5755.jpg', 'dog/dog.12247.jpg', 'dog/dog.7729.jpg', 'dog/dog.1977.jpg', 'dog/dog.692.jpg', 'dog/dog.3285.jpg', 'dog/dog.9281.jpg', 'dog/dog.8354.jpg', 'dog/dog.11459.jpg', 'dog/dog.9858.jpg', 'dog/dog.1762.jpg', 'dog/dog.9585.jpg', 'dog/dog.1077.jpg', 'dog/dog.6510.jpg', 'dog/dog.2375.jpg', 'dog/dog.6919.jpg', 'dog/dog.10963.jpg', 'dog/dog.11792.jpg', 'dog/dog.10724.jpg', 'dog/dog.4789.jpg', 'dog/dog.10416.jpg', 'dog/dog.11653.jpg', 'dog/dog.9835.jpg', 'dog/dog.10770.jpg', 'dog/dog.6527.jpg', 'dog/dog.10518.jpg', 'dog/dog.8241.jpg', 'dog/dog.2190.jpg', 'dog/dog.8934.jpg', 'dog/dog.2742.jpg', 'dog/dog.2604.jpg', 'dog/dog.5822.jpg', 'dog/dog.12376.jpg', 'dog/dog.4436.jpg', 'dog/dog.11829.jpg', 'dog/dog.1505.jpg', 'dog/dog.7024.jpg', 'dog/dog.4899.jpg', 'dog/dog.2830.jpg', 'dog/dog.6351.jpg', 'dog/dog.1763.jpg', 'dog/dog.7609.jpg', 'dog/dog.7655.jpg', 'dog/dog.1825.jpg', 'dog/dog.4229.jpg', 'dog/dog.6566.jpg', 'dog/dog.10567.jpg', 'dog/dog.6868.jpg', 'dog/dog.5267.jpg', 'dog/dog.1285.jpg', 'dog/dog.4263.jpg', 'dog/dog.10215.jpg', 'dog/dog.4278.jpg', 'dog/dog.434.jpg', 'dog/dog.9031.jpg', 'dog/dog.3124.jpg', 'dog/dog.586.jpg', 'dog/dog.4473.jpg', 'dog/dog.10992.jpg', 'dog/dog.7661.jpg', 'dog/dog.2595.jpg', 'dog/dog.662.jpg', 'dog/dog.11579.jpg', 'dog/dog.12489.jpg', 'dog/dog.8987.jpg', 'dog/dog.8856.jpg', 'dog/dog.9100.jpg', 'dog/dog.5297.jpg', 'dog/dog.3795.jpg', 'dog/dog.12248.jpg', 'dog/dog.1180.jpg', 'dog/dog.10007.jpg', 'dog/dog.4131.jpg', 'dog/dog.3937.jpg', 'dog/dog.10247.jpg', 'dog/dog.7892.jpg', 'dog/dog.5516.jpg', 'dog/dog.9751.jpg', 'dog/dog.669.jpg', 'dog/dog.1334.jpg', 'dog/dog.5109.jpg', 'dog/dog.4815.jpg', 'dog/dog.11214.jpg', 'dog/dog.3177.jpg', 'dog/dog.8395.jpg', 'dog/dog.11196.jpg', 'dog/dog.8604.jpg', 'dog/dog.10441.jpg', 'dog/dog.12394.jpg', 'dog/dog.1926.jpg', 'dog/dog.8615.jpg', 'dog/dog.9301.jpg', 'dog/dog.11759.jpg', 'dog/dog.1235.jpg', 'dog/dog.8363.jpg', 'dog/dog.7206.jpg', 'dog/dog.6417.jpg', 'dog/dog.4205.jpg', 'dog/dog.672.jpg', 'dog/dog.7635.jpg', 'dog/dog.2283.jpg', 'dog/dog.8317.jpg', 'dog/dog.2854.jpg', 'dog/dog.8539.jpg', 'dog/dog.3199.jpg', 'dog/dog.12049.jpg', 'dog/dog.10041.jpg', 'dog/dog.979.jpg', 'dog/dog.11217.jpg', 'dog/dog.10348.jpg', 'dog/dog.4956.jpg', 'dog/dog.5097.jpg', 'dog/dog.10112.jpg', 'dog/dog.339.jpg', 'dog/dog.4001.jpg', 'dog/dog.10652.jpg', 'dog/dog.2284.jpg', 'dog/dog.5104.jpg', 'dog/dog.6593.jpg', 'dog/dog.11747.jpg', 'dog/dog.1298.jpg', 'dog/dog.5725.jpg', 'dog/dog.2425.jpg', 'dog/dog.2995.jpg', 'dog/dog.3766.jpg', 'dog/dog.7330.jpg', 'dog/dog.5095.jpg', 'dog/dog.11867.jpg', 'dog/dog.10827.jpg', 'dog/dog.7537.jpg', 'dog/dog.10467.jpg', 'dog/dog.1167.jpg', 'dog/dog.4331.jpg', 'dog/dog.9485.jpg', 'dog/dog.2645.jpg', 'dog/dog.11513.jpg', 'dog/dog.9251.jpg', 'dog/dog.1360.jpg', 'dog/dog.6750.jpg', 'dog/dog.8284.jpg', 'dog/dog.7889.jpg', 'dog/dog.2592.jpg', 'dog/dog.8044.jpg', 'dog/dog.11389.jpg', 'dog/dog.587.jpg', 'dog/dog.1343.jpg', 'dog/dog.8676.jpg', 'dog/dog.210.jpg', 'dog/dog.7249.jpg', 'dog/dog.1172.jpg', 'dog/dog.4805.jpg', 'dog/dog.6129.jpg', 'dog/dog.9308.jpg', 'dog/dog.11079.jpg', 'dog/dog.12302.jpg', 'dog/dog.10127.jpg', 'dog/dog.2178.jpg', 'dog/dog.4790.jpg', 'dog/dog.4777.jpg', 'dog/dog.4661.jpg', 'dog/dog.2923.jpg', 'dog/dog.11307.jpg', 'dog/dog.3964.jpg', 'dog/dog.7354.jpg', 'dog/dog.6353.jpg', 'dog/dog.3559.jpg', 'dog/dog.1339.jpg', 'dog/dog.7291.jpg', 'dog/dog.5246.jpg', 'dog/dog.4108.jpg', 'dog/dog.6278.jpg', 'dog/dog.8433.jpg', 'dog/dog.998.jpg', 'dog/dog.10768.jpg', 'dog/dog.9278.jpg', 'dog/dog.3635.jpg', 'dog/dog.12458.jpg', 'dog/dog.5442.jpg', 'dog/dog.8862.jpg', 'dog/dog.2042.jpg', 'dog/dog.12142.jpg', 'dog/dog.12195.jpg', 'dog/dog.589.jpg', 'dog/dog.12260.jpg', 'dog/dog.13.jpg', 'dog/dog.5692.jpg', 'dog/dog.7234.jpg', 'dog/dog.9068.jpg', 'dog/dog.6993.jpg', 'dog/dog.6873.jpg', 'dog/dog.2844.jpg', 'dog/dog.11480.jpg', 'dog/dog.6846.jpg', 'dog/dog.4556.jpg', 'dog/dog.8541.jpg', 'dog/dog.1304.jpg', 'dog/dog.7979.jpg', 'dog/dog.5141.jpg', 'dog/dog.1597.jpg', 'dog/dog.8314.jpg', 'dog/dog.1525.jpg', 'dog/dog.7420.jpg', 'dog/dog.7709.jpg', 'dog/dog.4349.jpg', 'dog/dog.1730.jpg', 'dog/dog.7018.jpg', 'dog/dog.7988.jpg', 'dog/dog.6252.jpg', 'dog/dog.11839.jpg', 'dog/dog.4641.jpg', 'dog/dog.9996.jpg', 'dog/dog.1413.jpg', 'dog/dog.756.jpg', 'dog/dog.2936.jpg', 'dog/dog.10126.jpg', 'dog/dog.3520.jpg', 'dog/dog.9375.jpg', 'dog/dog.6576.jpg', 'dog/dog.4372.jpg', 'dog/dog.10458.jpg', 'dog/dog.4072.jpg', 'dog/dog.3003.jpg', 'dog/dog.7372.jpg', 'dog/dog.8478.jpg', 'dog/dog.8844.jpg', 'dog/dog.8432.jpg', 'dog/dog.1353.jpg', 'dog/dog.7382.jpg', 'dog/dog.8837.jpg', 'dog/dog.2319.jpg', 'dog/dog.2804.jpg', 'dog/dog.11771.jpg', 'dog/dog.7451.jpg', 'dog/dog.11573.jpg', 'dog/dog.5400.jpg', 'dog/dog.11059.jpg', 'dog/dog.6964.jpg', 'dog/dog.2524.jpg', 'dog/dog.10852.jpg', 'dog/dog.12134.jpg', 'dog/dog.1152.jpg', 'dog/dog.6324.jpg', 'dog/dog.4804.jpg', 'dog/dog.2974.jpg', 'dog/dog.244.jpg', 'dog/dog.8950.jpg', 'dog/dog.5188.jpg', 'dog/dog.3594.jpg', 'dog/dog.9216.jpg', 'dog/dog.2649.jpg', 'dog/dog.2911.jpg', 'dog/dog.355.jpg', 'dog/dog.2242.jpg', 'dog/dog.1196.jpg', 'dog/dog.8645.jpg', 'dog/dog.6135.jpg', 'dog/dog.3092.jpg', 'dog/dog.7555.jpg', 'dog/dog.3171.jpg', 'dog/dog.7952.jpg', 'dog/dog.9931.jpg', 'dog/dog.12122.jpg', 'dog/dog.71.jpg', 'dog/dog.5856.jpg', 'dog/dog.8650.jpg', 'dog/dog.8449.jpg', 'dog/dog.6209.jpg', 'dog/dog.10781.jpg', 'dog/dog.4911.jpg', 'dog/dog.4772.jpg', 'dog/dog.1014.jpg', 'dog/dog.3021.jpg', 'dog/dog.4203.jpg', 'dog/dog.8096.jpg', 'dog/dog.1520.jpg', 'dog/dog.9028.jpg', 'dog/dog.12163.jpg', 'dog/dog.10463.jpg', 'dog/dog.11420.jpg', 'dog/dog.9885.jpg', 'dog/dog.9876.jpg', 'dog/dog.9692.jpg', 'dog/dog.3531.jpg', 'dog/dog.1768.jpg', 'dog/dog.6986.jpg', 'dog/dog.5928.jpg', 'dog/dog.4105.jpg', 'dog/dog.9702.jpg', 'dog/dog.11337.jpg', 'dog/dog.6605.jpg', 'dog/dog.5264.jpg', 'dog/dog.7549.jpg', 'dog/dog.2419.jpg', 'dog/dog.9015.jpg', 'dog/dog.9542.jpg', 'dog/dog.6059.jpg', 'dog/dog.6962.jpg', 'dog/dog.12.jpg', 'dog/dog.5265.jpg', 'dog/dog.3088.jpg', 'dog/dog.5938.jpg', 'dog/dog.10304.jpg', 'dog/dog.3511.jpg', 'dog/dog.1026.jpg', 'dog/dog.717.jpg', 'dog/dog.11488.jpg', 'dog/dog.121.jpg', 'dog/dog.2722.jpg', 'dog/dog.4017.jpg', 'dog/dog.6782.jpg', 'dog/dog.534.jpg', 'dog/dog.9133.jpg', 'dog/dog.923.jpg', 'dog/dog.6044.jpg', 'dog/dog.11118.jpg', 'dog/dog.2682.jpg', 'dog/dog.1134.jpg', 'dog/dog.3744.jpg', 'dog/dog.2052.jpg', 'dog/dog.1337.jpg', 'dog/dog.3008.jpg', 'dog/dog.8918.jpg', 'dog/dog.8124.jpg', 'dog/dog.11346.jpg', 'dog/dog.6242.jpg', 'dog/dog.11.jpg', 'dog/dog.2030.jpg', 'dog/dog.5230.jpg', 'dog/dog.10913.jpg', 'dog/dog.1400.jpg', 'dog/dog.5750.jpg', 'dog/dog.3969.jpg', 'dog/dog.2271.jpg', 'dog/dog.4811.jpg', 'dog/dog.6804.jpg', 'dog/dog.11722.jpg', 'dog/dog.2681.jpg', 'dog/dog.1654.jpg', 'dog/dog.10152.jpg', 'dog/dog.5614.jpg', 'dog/dog.4411.jpg', 'dog/dog.866.jpg', 'dog/dog.4773.jpg', 'dog/dog.6291.jpg', 'dog/dog.11713.jpg', 'dog/dog.8172.jpg', 'dog/dog.12480.jpg', 'dog/dog.987.jpg', 'dog/dog.5650.jpg', 'dog/dog.7869.jpg', 'dog/dog.10333.jpg', 'dog/dog.1790.jpg', 'dog/dog.6066.jpg', 'dog/dog.3641.jpg', 'dog/dog.12484.jpg', 'dog/dog.2943.jpg', 'dog/dog.3475.jpg', 'dog/dog.8455.jpg', 'dog/dog.9252.jpg', 'dog/dog.5119.jpg', 'dog/dog.3083.jpg', 'dog/dog.4081.jpg', 'dog/dog.3717.jpg', 'dog/dog.11532.jpg', 'dog/dog.222.jpg', 'dog/dog.5634.jpg', 'dog/dog.5461.jpg', 'dog/dog.9522.jpg', 'dog/dog.8948.jpg', 'dog/dog.814.jpg', 'dog/dog.11855.jpg', 'dog/dog.9396.jpg', 'dog/dog.9212.jpg', 'dog/dog.1315.jpg', 'dog/dog.8629.jpg', 'dog/dog.7143.jpg', 'dog/dog.9907.jpg', 'dog/dog.9111.jpg', 'dog/dog.3350.jpg', 'dog/dog.8053.jpg', 'dog/dog.56.jpg', 'dog/dog.514.jpg', 'dog/dog.432.jpg', 'dog/dog.10413.jpg', 'dog/dog.12313.jpg', 'dog/dog.10332.jpg', 'dog/dog.12467.jpg', 'dog/dog.6208.jpg', 'dog/dog.8930.jpg', 'dog/dog.2048.jpg', 'dog/dog.7306.jpg', 'dog/dog.3765.jpg', 'dog/dog.166.jpg', 'dog/dog.12361.jpg', 'dog/dog.8989.jpg', 'dog/dog.6369.jpg', 'dog/dog.7496.jpg', 'dog/dog.10509.jpg', 'dog/dog.2908.jpg', 'dog/dog.2122.jpg', 'dog/dog.6365.jpg', 'dog/dog.4920.jpg', 'dog/dog.2596.jpg', 'dog/dog.8499.jpg', 'dog/dog.2547.jpg', 'dog/dog.390.jpg', 'dog/dog.7031.jpg', 'dog/dog.1625.jpg', 'dog/dog.6992.jpg', 'dog/dog.352.jpg', 'dog/dog.6438.jpg', 'dog/dog.2461.jpg', 'dog/dog.5052.jpg', 'dog/dog.423.jpg', 'dog/dog.8290.jpg', 'dog/dog.11399.jpg', 'dog/dog.11237.jpg', 'dog/dog.7162.jpg', 'dog/dog.7045.jpg', 'dog/dog.4774.jpg', 'dog/dog.9571.jpg', 'dog/dog.3329.jpg', 'dog/dog.6733.jpg', 'dog/dog.4042.jpg', 'dog/dog.4133.jpg', 'dog/dog.1636.jpg', 'dog/dog.9579.jpg', 'dog/dog.8901.jpg', 'dog/dog.9448.jpg', 'dog/dog.765.jpg', 'dog/dog.2440.jpg', 'dog/dog.1673.jpg', 'dog/dog.7919.jpg', 'dog/dog.6241.jpg', 'dog/dog.4577.jpg', 'dog/dog.10873.jpg', 'dog/dog.1605.jpg', 'dog/dog.6809.jpg', 'dog/dog.10243.jpg', 'dog/dog.4947.jpg', 'dog/dog.5669.jpg', 'dog/dog.10862.jpg', 'dog/dog.10430.jpg', 'dog/dog.7252.jpg', 'dog/dog.10424.jpg', 'dog/dog.1653.jpg', 'dog/dog.708.jpg', 'dog/dog.10769.jpg', 'dog/dog.1544.jpg', 'dog/dog.11920.jpg', 'dog/dog.8576.jpg', 'dog/dog.11637.jpg', 'dog/dog.9769.jpg', 'dog/dog.7262.jpg', 'dog/dog.10704.jpg', 'dog/dog.6230.jpg', 'dog/dog.11641.jpg', 'dog/dog.3978.jpg', 'dog/dog.9471.jpg', 'dog/dog.11392.jpg', 'dog/dog.7801.jpg', 'dog/dog.12080.jpg', 'dog/dog.800.jpg', 'dog/dog.8793.jpg', 'dog/dog.8638.jpg', 'dog/dog.12246.jpg', 'dog/dog.8108.jpg', 'dog/dog.8274.jpg', 'dog/dog.11138.jpg', 'dog/dog.9701.jpg', 'dog/dog.4850.jpg', 'dog/dog.8430.jpg', 'dog/dog.2274.jpg', 'dog/dog.6079.jpg', 'dog/dog.4866.jpg', 'dog/dog.6071.jpg', 'dog/dog.5348.jpg', 'dog/dog.6883.jpg', 'dog/dog.1433.jpg', 'dog/dog.3365.jpg', 'dog/dog.1510.jpg', 'dog/dog.7895.jpg', 'dog/dog.1018.jpg', 'dog/dog.761.jpg', 'dog/dog.3570.jpg', 'dog/dog.5197.jpg', 'dog/dog.3757.jpg', 'dog/dog.425.jpg', 'dog/dog.6857.jpg', 'dog/dog.2018.jpg', 'dog/dog.1635.jpg', 'dog/dog.9824.jpg', 'dog/dog.6946.jpg', 'dog/dog.11704.jpg', 'dog/dog.3599.jpg', 'dog/dog.4851.jpg', 'dog/dog.11268.jpg', 'dog/dog.1090.jpg', 'dog/dog.1518.jpg', 'dog/dog.11435.jpg', 'dog/dog.2220.jpg', 'dog/dog.6464.jpg', 'dog/dog.8386.jpg', 'dog/dog.3283.jpg', 'dog/dog.11159.jpg', 'dog/dog.2828.jpg', 'dog/dog.11380.jpg', 'dog/dog.7732.jpg', 'dog/dog.798.jpg', 'dog/dog.1431.jpg', 'dog/dog.12243.jpg', 'dog/dog.5161.jpg', 'dog/dog.10292.jpg', 'dog/dog.7634.jpg', 'dog/dog.9736.jpg', 'dog/dog.10449.jpg', 'dog/dog.4309.jpg', 'dog/dog.10635.jpg', 'dog/dog.3018.jpg', 'dog/dog.11129.jpg', 'dog/dog.676.jpg', 'dog/dog.3084.jpg', 'dog/dog.8169.jpg', 'dog/dog.7626.jpg', 'dog/dog.2971.jpg', 'dog/dog.8483.jpg', 'dog/dog.11886.jpg', 'dog/dog.11924.jpg', 'dog/dog.7885.jpg', 'dog/dog.12471.jpg', 'dog/dog.2591.jpg', 'dog/dog.10051.jpg', 'dog/dog.4759.jpg', 'dog/dog.11052.jpg', 'dog/dog.4568.jpg', 'dog/dog.8881.jpg', 'dog/dog.795.jpg', 'dog/dog.5873.jpg', 'dog/dog.3799.jpg', 'dog/dog.6500.jpg', 'dog/dog.248.jpg', 'dog/dog.70.jpg', 'dog/dog.7797.jpg', 'dog/dog.6499.jpg', 'dog/dog.4221.jpg', 'dog/dog.158.jpg', 'dog/dog.3268.jpg', 'dog/dog.9589.jpg', 'dog/dog.3377.jpg', 'dog/dog.3500.jpg', 'dog/dog.544.jpg', 'dog/dog.1726.jpg', 'dog/dog.11936.jpg', 'dog/dog.737.jpg', 'dog/dog.3675.jpg', 'dog/dog.3392.jpg', 'dog/dog.10366.jpg', 'dog/dog.8174.jpg', 'dog/dog.7449.jpg', 'dog/dog.11387.jpg', 'dog/dog.4936.jpg', 'dog/dog.2913.jpg', 'dog/dog.3584.jpg', 'dog/dog.11917.jpg', 'dog/dog.421.jpg', 'dog/dog.6653.jpg', 'dog/dog.2901.jpg', 'dog/dog.2345.jpg', 'dog/dog.997.jpg', 'dog/dog.7285.jpg', 'dog/dog.12177.jpg', 'dog/dog.313.jpg', 'dog/dog.8722.jpg', 'dog/dog.2446.jpg', 'dog/dog.3244.jpg', 'dog/dog.5278.jpg', 'dog/dog.11948.jpg', 'dog/dog.9079.jpg', 'dog/dog.2724.jpg', 'dog/dog.6610.jpg', 'dog/dog.1619.jpg', 'dog/dog.10167.jpg', 'dog/dog.6.jpg', 'dog/dog.11477.jpg', 'dog/dog.148.jpg', 'dog/dog.3344.jpg', 'dog/dog.3195.jpg', 'dog/dog.11675.jpg', 'dog/dog.4847.jpg', 'dog/dog.3320.jpg', 'dog/dog.8570.jpg', 'dog/dog.9951.jpg', 'dog/dog.7177.jpg', 'dog/dog.9023.jpg', 'dog/dog.9704.jpg', 'dog/dog.1736.jpg', 'dog/dog.2184.jpg', 'dog/dog.10952.jpg', 'dog/dog.7105.jpg', 'dog/dog.4719.jpg', 'dog/dog.4581.jpg', 'dog/dog.5640.jpg', 'dog/dog.9730.jpg', 'dog/dog.9174.jpg', 'dog/dog.8803.jpg', 'dog/dog.1079.jpg', 'dog/dog.9043.jpg', 'dog/dog.5061.jpg', 'dog/dog.4786.jpg', 'dog/dog.4391.jpg', 'dog/dog.3408.jpg', 'dog/dog.12292.jpg', 'dog/dog.7207.jpg', 'dog/dog.602.jpg', 'dog/dog.5576.jpg', 'dog/dog.12461.jpg', 'dog/dog.10885.jpg', 'dog/dog.8562.jpg', 'dog/dog.5972.jpg', 'dog/dog.7782.jpg', 'dog/dog.12069.jpg', 'dog/dog.7299.jpg', 'dog/dog.4362.jpg', 'dog/dog.295.jpg', 'dog/dog.1233.jpg', 'dog/dog.9004.jpg', 'dog/dog.10990.jpg', 'dog/dog.11078.jpg', 'dog/dog.1737.jpg', 'dog/dog.8637.jpg', 'dog/dog.9860.jpg', 'dog/dog.2305.jpg', 'dog/dog.4677.jpg', 'dog/dog.9334.jpg', 'dog/dog.9413.jpg', 'dog/dog.5771.jpg', 'dog/dog.12137.jpg', 'dog/dog.9443.jpg', 'dog/dog.2826.jpg', 'dog/dog.824.jpg', 'dog/dog.4843.jpg', 'dog/dog.4518.jpg', 'dog/dog.11525.jpg', 'dog/dog.6478.jpg', 'dog/dog.3628.jpg', 'dog/dog.6215.jpg', 'dog/dog.5274.jpg', 'dog/dog.7219.jpg', 'dog/dog.4156.jpg', 'dog/dog.6561.jpg', 'dog/dog.995.jpg', 'dog/dog.1869.jpg', 'dog/dog.3642.jpg', 'dog/dog.1944.jpg', 'dog/dog.4528.jpg', 'dog/dog.2583.jpg', 'dog/dog.5872.jpg', 'dog/dog.11249.jpg', 'dog/dog.12330.jpg', 'dog/dog.3460.jpg', 'dog/dog.66.jpg', 'dog/dog.4649.jpg', 'dog/dog.7379.jpg', 'dog/dog.6176.jpg', 'dog/dog.10617.jpg', 'dog/dog.9275.jpg', 'dog/dog.1441.jpg', 'dog/dog.9659.jpg', 'dog/dog.4665.jpg', 'dog/dog.12366.jpg', 'dog/dog.5034.jpg', 'dog/dog.12272.jpg', 'dog/dog.3424.jpg', 'dog/dog.2952.jpg', 'dog/dog.8428.jpg', 'dog/dog.10444.jpg', 'dog/dog.6580.jpg', 'dog/dog.465.jpg', 'dog/dog.5316.jpg', 'dog/dog.907.jpg', 'dog/dog.7590.jpg', 'dog/dog.10218.jpg', 'dog/dog.11511.jpg', 'dog/dog.4766.jpg', 'dog/dog.389.jpg', 'dog/dog.1469.jpg', 'dog/dog.10678.jpg', 'dog/dog.1439.jpg', 'dog/dog.2781.jpg', 'dog/dog.2101.jpg', 'dog/dog.7596.jpg', 'dog/dog.3771.jpg', 'dog/dog.8165.jpg', 'dog/dog.9976.jpg', 'dog/dog.3073.jpg', 'dog/dog.10840.jpg', 'dog/dog.7670.jpg', 'dog/dog.4238.jpg', 'dog/dog.6545.jpg', 'dog/dog.10592.jpg', 'dog/dog.2494.jpg', 'dog/dog.4241.jpg', 'dog/dog.6053.jpg', 'dog/dog.4378.jpg', 'dog/dog.502.jpg', 'dog/dog.9312.jpg', 'dog/dog.5028.jpg', 'dog/dog.7063.jpg', 'dog/dog.163.jpg', 'dog/dog.12181.jpg', 'dog/dog.2163.jpg', 'dog/dog.3943.jpg', 'dog/dog.6355.jpg', 'dog/dog.10417.jpg', 'dog/dog.7848.jpg', 'dog/dog.522.jpg', 'dog/dog.11128.jpg', 'dog/dog.7736.jpg', 'dog/dog.12198.jpg', 'dog/dog.6854.jpg', 'dog/dog.392.jpg', 'dog/dog.4917.jpg', 'dog/dog.4757.jpg', 'dog/dog.796.jpg', 'dog/dog.2012.jpg', 'dog/dog.980.jpg', 'dog/dog.7727.jpg', 'dog/dog.1126.jpg', 'dog/dog.11544.jpg', 'dog/dog.12365.jpg', 'dog/dog.10694.jpg', 'dog/dog.818.jpg', 'dog/dog.3330.jpg', 'dog/dog.6989.jpg', 'dog/dog.11406.jpg', 'dog/dog.703.jpg', 'dog/dog.1600.jpg', 'dog/dog.652.jpg', 'dog/dog.3489.jpg', 'dog/dog.12037.jpg', 'dog/dog.9484.jpg', 'dog/dog.3805.jpg', 'dog/dog.9533.jpg', 'dog/dog.8125.jpg', 'dog/dog.1587.jpg', 'dog/dog.4002.jpg', 'dog/dog.5054.jpg', 'dog/dog.4810.jpg', 'dog/dog.8761.jpg', 'dog/dog.8.jpg', 'dog/dog.7025.jpg', 'dog/dog.10513.jpg', 'dog/dog.11809.jpg', 'dog/dog.9864.jpg', 'dog/dog.9284.jpg', 'dog/dog.10419.jpg', 'dog/dog.5994.jpg', 'dog/dog.3228.jpg', 'dog/dog.4235.jpg', 'dog/dog.10296.jpg', 'dog/dog.8336.jpg', 'dog/dog.1390.jpg', 'dog/dog.4155.jpg', 'dog/dog.233.jpg', 'dog/dog.3106.jpg', 'dog/dog.10679.jpg', 'dog/dog.11048.jpg', 'dog/dog.5413.jpg', 'dog/dog.1833.jpg', 'dog/dog.815.jpg', 'dog/dog.3657.jpg', 'dog/dog.8239.jpg', 'dog/dog.3292.jpg', 'dog/dog.3413.jpg', 'dog/dog.9483.jpg', 'dog/dog.4483.jpg', 'dog/dog.5637.jpg', 'dog/dog.6538.jpg', 'dog/dog.214.jpg', 'dog/dog.9565.jpg', 'dog/dog.3878.jpg', 'dog/dog.12477.jpg', 'dog/dog.10019.jpg', 'dog/dog.9255.jpg', 'dog/dog.11932.jpg', 'dog/dog.7976.jpg', 'dog/dog.1452.jpg', 'dog/dog.8002.jpg', 'dog/dog.4879.jpg', 'dog/dog.6888.jpg', 'dog/dog.2192.jpg', 'dog/dog.6937.jpg', 'dog/dog.11216.jpg', 'dog/dog.11193.jpg', 'dog/dog.10469.jpg', 'dog/dog.3811.jpg', 'dog/dog.10811.jpg', 'dog/dog.8655.jpg', 'dog/dog.10182.jpg', 'dog/dog.5182.jpg', 'dog/dog.3167.jpg', 'dog/dog.1067.jpg', 'dog/dog.7220.jpg', 'dog/dog.6373.jpg', 'dog/dog.8900.jpg', 'dog/dog.2534.jpg', 'dog/dog.10645.jpg', 'dog/dog.1324.jpg', 'dog/dog.11863.jpg', 'dog/dog.4571.jpg', 'dog/dog.8199.jpg', 'dog/dog.10278.jpg', 'dog/dog.11515.jpg', 'dog/dog.9085.jpg', 'dog/dog.2112.jpg', 'dog/dog.2187.jpg', 'dog/dog.2627.jpg', 'dog/dog.7516.jpg', 'dog/dog.4612.jpg', 'dog/dog.5525.jpg', 'dog/dog.12314.jpg', 'dog/dog.1319.jpg', 'dog/dog.11800.jpg', 'dog/dog.4660.jpg', 'dog/dog.10648.jpg', 'dog/dog.8345.jpg', 'dog/dog.6503.jpg', 'dog/dog.7783.jpg', 'dog/dog.11859.jpg', 'dog/dog.5560.jpg', 'dog/dog.11229.jpg', 'dog/dog.1786.jpg', 'dog/dog.5233.jpg', 'dog/dog.4041.jpg', 'dog/dog.41.jpg', 'dog/dog.913.jpg', 'dog/dog.1246.jpg', 'dog/dog.10764.jpg', 'dog/dog.5996.jpg', 'dog/dog.11686.jpg', 'dog/dog.6513.jpg', 'dog/dog.9264.jpg', 'dog/dog.7292.jpg', 'dog/dog.3762.jpg', 'dog/dog.5426.jpg', 'dog/dog.8275.jpg', 'dog/dog.9814.jpg', 'dog/dog.8073.jpg', 'dog/dog.7403.jpg', 'dog/dog.8593.jpg', 'dog/dog.8135.jpg', 'dog/dog.7993.jpg', 'dog/dog.4361.jpg', 'dog/dog.9543.jpg', 'dog/dog.5632.jpg', 'dog/dog.5435.jpg', 'dog/dog.12081.jpg', 'dog/dog.3613.jpg', 'dog/dog.1916.jpg', 'dog/dog.5497.jpg', 'dog/dog.10370.jpg', 'dog/dog.679.jpg', 'dog/dog.6647.jpg'])\n",
      "('image_data_generator', <keras.preprocessing.image.ImageDataGenerator object at 0x7f58935865d0>)\n",
      "('image_shape', (3, 224, 224))\n",
      "('index_generator', <generator object _flow_index at 0x7f5885a793c0>)\n",
      "('lock', <thread.lock object at 0x7f5890205bf0>)\n",
      "('n', 7500)\n",
      "('nb_class', 2)\n",
      "('nb_sample', 7500)\n",
      "('save_format', 'jpeg')\n",
      "('save_prefix', '')\n",
      "('save_to_dir', None)\n",
      "('shuffle', False)\n",
      "('target_size', (224, 224))\n",
      "('total_batches_seen', 0)\n"
     ]
    }
   ],
   "source": [
    "for i in inspect.getmembers(val_batches):\n",
    "    # Ignores anything starting with underscore \n",
    "    # (that is, private and protected attributes)\n",
    "    if not i[0].startswith('_'):\n",
    "        # Ignores methods\n",
    "        if not inspect.ismethod(i[1]):\n",
    "            print(i)"
   ]
  },
  {
   "cell_type": "code",
   "execution_count": 20,
   "metadata": {},
   "outputs": [
    {
     "data": {
      "text/plain": [
       "(list, 7500)"
      ]
     },
     "execution_count": 20,
     "metadata": {},
     "output_type": "execute_result"
    }
   ],
   "source": [
    "type(val_batches.filenames), len(val_batches.filenames)"
   ]
  },
  {
   "cell_type": "code",
   "execution_count": 21,
   "metadata": {},
   "outputs": [
    {
     "name": "stdout",
     "output_type": "stream",
     "text": [
      "WORKING_DATA: /home/ubuntu/fastai/data/Kaggle_dogs-vs-cats-redux-kernels-edition/\n",
      "Found 17500 images belonging to 2 classes.\n",
      "Found 7500 images belonging to 2 classes.\n",
      "Found 12500 images belonging to 1 classes.\n",
      "val_classes: <type 'numpy.ndarray'> (7500,) [0 0 0 0 0]\n",
      "trn_classes: <type 'numpy.ndarray'> (17500,) [0 0 0 0 0]\n",
      "val_labels: <type 'numpy.ndarray'> (7500, 2) \n",
      " [[ 1.  0.]\n",
      " [ 1.  0.]\n",
      " [ 1.  0.]\n",
      " [ 1.  0.]\n",
      " [ 1.  0.]]\n",
      "trn_labels: <type 'numpy.ndarray'> (17500, 2) \n",
      " [[ 1.  0.]\n",
      " [ 1.  0.]\n",
      " [ 1.  0.]\n",
      " [ 1.  0.]\n",
      " [ 1.  0.]]\n",
      "val_filenames: <type 'list'> 7500\n",
      "filenames: <type 'list'> 17500\n",
      "test_filenames: <type 'list'> 12500\n"
     ]
    }
   ],
   "source": [
    "print (\"WORKING_DATA:\", WORKING_DATA)\n",
    "(val_classes, trn_classes, val_labels, trn_labels, val_filenames, filenames, test_filenames) = get_classes(WORKING_DATA)\n",
    "#utils.get_classes\n",
    "#return (val_batches.classes, batches.classes, onehot(val_batches.classes), onehot(batches.classes),\n",
    "#        val_batches.filenames, batches.filenames, test_batches.filenames)\n",
    "#NB: get_classes expects data in subdirectories 'train', 'valid', 'test'\n",
    "print (\"val_classes:\", type(val_classes), val_classes.shape, val_classes[0:5])\n",
    "print (\"trn_classes:\", type(trn_classes), trn_classes.shape, trn_classes[0:5])\n",
    "print (\"val_labels:\", type(val_labels), val_labels.shape, \"\\n\", val_labels[0:5])\n",
    "print (\"trn_labels:\", type(trn_labels), trn_labels.shape, \"\\n\",trn_labels[0:5])\n",
    "print (\"val_filenames:\", type(val_filenames), len(val_filenames))\n",
    "print (\"filenames:\", type(filenames), len(filenames))\n",
    "print (\"test_filenames:\", type(test_filenames), len(test_filenames))\n",
    "\n",
    "#NBB: val_labels = onehot(val_classes) & trn_labels = onehot(trn_classes). onehot 'converts' from 1 to [0,1]"
   ]
  },
  {
   "cell_type": "code",
   "execution_count": 22,
   "metadata": {},
   "outputs": [],
   "source": [
    "model = Vgg16().model\n",
    "#model is stock vgg16 model, all layers trainable, input [3,224,224], output 1,000 classes. \n",
    "#needs to be modified to predict 2 classes.\n",
    "#model.summary()"
   ]
  },
  {
   "cell_type": "code",
   "execution_count": 23,
   "metadata": {},
   "outputs": [],
   "source": [
    "#showLayersInfo(model)"
   ]
  },
  {
   "cell_type": "code",
   "execution_count": 24,
   "metadata": {},
   "outputs": [],
   "source": [
    "conv_layers,fc_layers = split_at(model, Convolution2D)\n",
    "#utils.split_at(model, layer_type) \n",
    "#splits model at last occurrance of layer_type. (in this case Convolution2D)\n"
   ]
  },
  {
   "cell_type": "code",
   "execution_count": 25,
   "metadata": {},
   "outputs": [
    {
     "name": "stdout",
     "output_type": "stream",
     "text": [
      "model        # of layers: 38\n",
      "conv_layers  # of layers: 31\n",
      "fc_layers    # of layers: 7\n"
     ]
    }
   ],
   "source": [
    "print (\"model        # of layers:\",  len(model.layers))\n",
    "print (\"conv_layers  # of layers:\",  len(conv_layers))\n",
    "print (\"fc_layers    # of layers:\", len(fc_layers))"
   ]
  },
  {
   "cell_type": "code",
   "execution_count": 26,
   "metadata": {},
   "outputs": [],
   "source": [
    "conv_model = Sequential(conv_layers)\n",
    "#31 layers, all trainable, last layer = Convolution2D\n",
    "#showLayersInfo(conv_model)"
   ]
  },
  {
   "cell_type": "code",
   "execution_count": null,
   "metadata": {},
   "outputs": [],
   "source": [
    "#showLayersInfo(Sequential(fc_layers))\n",
    "#7 layers, all trainable, last layer = Dence, 1000 classes output."
   ]
  },
  {
   "cell_type": "code",
   "execution_count": null,
   "metadata": {},
   "outputs": [],
   "source": [
    "startTime= datetime.now()\n",
    "print (\"startTime:\", startTime)\n",
    "\n",
    "#val_batches: <class 'keras.preprocessing.image.DirectoryIterator'>\n",
    "#https://www.tensorflow.org/api_docs/python/tf/keras/preprocessing/image/DirectoryIterator\n",
    "#\n",
    "\n",
    "val_features = conv_model.predict_generator(val_batches, val_batches.nb_sample)\n",
    "print (\"val_features:\", val_features.shape)\n",
    "trn_features = conv_model.predict_generator(trn_batches, trn_batches.nb_sample)\n",
    "print (\"trn_features:\", trn_features.shape)\n",
    "\n",
    "timeElapsed=datetime.now()-startTime\n",
    "print ('Time elapsed (hh:mm:ss.ms) {}'.format(timeElapsed))\n",
    "\n",
    "#https://keras.io/models/sequential/\n",
    "#predict_generator(self, generator, steps=None, max_queue_size=10, workers=1, use_multiprocessing=False, verbose=0)\n",
    "#Returns: A Numpy array of predictions.\n",
    "#sample mode: takes approx 2 minutes to run/"
   ]
  },
  {
   "cell_type": "code",
   "execution_count": null,
   "metadata": {},
   "outputs": [],
   "source": [
    "#save_array(MODEL_PATH + 'train_convlayer_features.bc', trn_features)\n",
    "#save_array(MODEL_PATH + 'valid_convlayer_features.bc', val_features)"
   ]
  },
  {
   "cell_type": "code",
   "execution_count": null,
   "metadata": {},
   "outputs": [],
   "source": [
    "#trn_features = load_array(MODEL_PATH+'train_convlayer_features.bc')\n",
    "#val_features = load_array(MODEL_PATH+'valid_convlayer_features.bc')"
   ]
  },
  {
   "cell_type": "code",
   "execution_count": 30,
   "metadata": {},
   "outputs": [
    {
     "name": "stdout",
     "output_type": "stream",
     "text": [
      "startTime: 2018-01-02 10:24:01.028514\n",
      "Found 17500 images belonging to 2 classes.\n",
      "trn: (17500, 3, 224, 224)\n",
      "Found 7500 images belonging to 2 classes.\n",
      "val: (7500, 3, 224, 224)\n",
      "Time elapsed (hh:mm:ss.ms) 0:04:37.242575\n"
     ]
    }
   ],
   "source": [
    "startTime= datetime.now()\n",
    "print (\"startTime:\", startTime)\n",
    "\n",
    "trn = get_data(WORKING_TRAIN)\n",
    "print (\"trn:\", trn.shape)\n",
    "val = get_data(WORKING_VALID)\n",
    "print (\"val:\", val.shape)\n",
    "\n",
    "timeElapsed=datetime.now()-startTime\n",
    "print ('Time elapsed (hh:mm:ss.ms) {}'.format(timeElapsed))\n",
    "#sample mode: tales approx 50s to run"
   ]
  },
  {
   "cell_type": "code",
   "execution_count": 31,
   "metadata": {},
   "outputs": [
    {
     "name": "stdout",
     "output_type": "stream",
     "text": [
      "trn: <type 'numpy.ndarray'> (17500, 3, 224, 224)\n",
      "val: <type 'numpy.ndarray'> (7500, 3, 224, 224)\n"
     ]
    }
   ],
   "source": [
    "print (\"trn:\", type(trn), trn.shape)\n",
    "print (\"val:\", type(val), val.shape)"
   ]
  },
  {
   "cell_type": "code",
   "execution_count": null,
   "metadata": {},
   "outputs": [],
   "source": [
    "#save_array(MODEL_PATH+'train_data.bc', trn)\n",
    "#save_array(MODEL_PATH+'valid_data.bc', val)"
   ]
  },
  {
   "cell_type": "code",
   "execution_count": null,
   "metadata": {},
   "outputs": [],
   "source": [
    "#trn = load_array(MODEL_PATH+'train_data.bc')\n",
    "#val = load_array(MODEL_PATH+'valid_data.bc')"
   ]
  },
  {
   "cell_type": "code",
   "execution_count": null,
   "metadata": {},
   "outputs": [],
   "source": [
    "showLayersInfo(model)"
   ]
  },
  {
   "cell_type": "code",
   "execution_count": null,
   "metadata": {},
   "outputs": [],
   "source": [
    "print (\"@start# of layers:\", len(model.layers))#should be 38 layers before popping\n",
    "model.pop()\n",
    "model.pop()\n",
    "print (\"@end# of layers:\", len(model.layers))#should be 36 layers after popping\n",
    "#showLayersInfo(model)"
   ]
  },
  {
   "cell_type": "code",
   "execution_count": null,
   "metadata": {},
   "outputs": [],
   "source": [
    "model.summary()"
   ]
  },
  {
   "cell_type": "code",
   "execution_count": null,
   "metadata": {},
   "outputs": [],
   "source": [
    "showLayersInfo(model)"
   ]
  },
  {
   "cell_type": "code",
   "execution_count": null,
   "metadata": {},
   "outputs": [],
   "source": [
    "print (\"trn_batches:\", type(trn_batches), \"trn_batches.nb_sample:\", trn_batches.nb_sample)\n",
    "print (\"val_batches:\", type(val_batches), \"val_batches.nb_sample:\", val_batches.nb_sample)"
   ]
  },
  {
   "cell_type": "code",
   "execution_count": null,
   "metadata": {},
   "outputs": [
    {
     "name": "stdout",
     "output_type": "stream",
     "text": [
      "startTime: 2018-01-02 10:34:40.561357\n",
      "ll_val_feat: (7500, 1000)\n"
     ]
    }
   ],
   "source": [
    "startTime= datetime.now()\n",
    "print (\"startTime:\", startTime)\n",
    "\n",
    "ll_val_feat = model.predict_generator(val_batches, val_batches.nb_sample)\n",
    "print (\"ll_val_feat:\", ll_val_feat.shape)\n",
    "ll_feat = model.predict_generator(trn_batches, trn_batches.nb_sample)\n",
    "print (\"ll_feat:\", ll_feat.shape)\n",
    "\n",
    "timeElapsed=datetime.now()-startTime\n",
    "print ('Time elapsed (hh:mm:ss.ms) {}'.format(timeElapsed))\n",
    "\n",
    "#NB: 64^2 = 4096\n",
    "#sample mode: takes approx 2'11\""
   ]
  },
  {
   "cell_type": "code",
   "execution_count": null,
   "metadata": {},
   "outputs": [],
   "source": [
    "#save_array(MODEL_PATH + 'train_ll_feat.bc', ll_feat)\n",
    "#save_array(MODEL_PATH + 'valid_ll_feat.bc', ll_val_feat)"
   ]
  },
  {
   "cell_type": "code",
   "execution_count": null,
   "metadata": {},
   "outputs": [],
   "source": [
    "#ll_feat = load_array(MODEL_PATH+ 'train_ll_feat.bc')\n",
    "#ll_val_feat = load_array(MODEL_PATH + 'valid_ll_feat.bc')"
   ]
  },
  {
   "cell_type": "code",
   "execution_count": null,
   "metadata": {},
   "outputs": [],
   "source": [
    "startTime= datetime.now()\n",
    "print (\"startTime:\", startTime)\n",
    "\n",
    "test = get_data(WORKING_TEST)\n",
    "#recall: utils: def get_data(path, target_size=(224,224)):\n",
    "print (type(test), test.shape)\n",
    "\n",
    "timeElapsed=datetime.now()-startTime\n",
    "print('Time elapsed (hh:mm:ss.ms) {}'.format(timeElapsed))\n",
    "\n",
    "#sample mode: takes approx "
   ]
  },
  {
   "cell_type": "code",
   "execution_count": null,
   "metadata": {},
   "outputs": [],
   "source": [
    "save_array(MODEL_PATH+'test_data.bc', test)"
   ]
  },
  {
   "cell_type": "code",
   "execution_count": null,
   "metadata": {},
   "outputs": [],
   "source": [
    "#test = load_array(MODEL_PATH+'test_data.bc')"
   ]
  },
  {
   "cell_type": "code",
   "execution_count": 40,
   "metadata": {},
   "outputs": [],
   "source": [
    "def get_ll_layers():\n",
    "    #get_ll_layers:create 3 layers, BatchNormalization + Dropout + Dense\n",
    "    return [ \n",
    "        BatchNormalization(input_shape=(4096,)),\n",
    "        Dropout(0.5),\n",
    "        Dense(2, activation='softmax') \n",
    "        ]"
   ]
  },
  {
   "cell_type": "code",
   "execution_count": 34,
   "metadata": {},
   "outputs": [],
   "source": [
    "def train_last_layer(i):\n",
    "    #nb: i is used in the filename to save weights.\n",
    "    #get_ll_layers:create 3 layers, BatchNormalization + Dropout + Dense\n",
    "    #set learning rate, train model, set learning rate again, train model.\n",
    "    #pop last three layers from vgg16 model, make all layers non trainable.\n",
    "    #add 3 layers created in get_ll_layers to end of model.\n",
    "    #copy weights from 3 layers just trained to last three layers in vgg16 model.\n",
    "    ll_layers = get_ll_layers()\n",
    "    ll_model = Sequential(ll_layers)\n",
    "    ll_model.compile(optimizer=Adam(), loss='categorical_crossentropy', metrics=['accuracy'])\n",
    "    ll_model.optimizer.lr=1e-5\n",
    "    history = ll_model.fit(ll_feat, trn_labels, validation_data=(ll_val_feat, val_labels), nb_epoch=12)\n",
    "    print (\"train_last_layer:i:\", i, \", ll_model.optimizer.lr:\", ll_model.optimizer.lr )\n",
    "    plot_history(history)\n",
    "    \n",
    "    ll_model.optimizer.lr=1e-7\n",
    "    ll_model.fit(ll_feat, trn_labels, validation_data=(ll_val_feat, val_labels), nb_epoch=1)\n",
    "    #nb: cannot show history with only one epoch.\n",
    "    print (\"ll_model.optimizer.lr:\", ll_model.optimizer.lr)\n",
    "    ll_model.save_weights(MODEL_PATH+'ll_bn' + s_or_p + i + '.h5')\n",
    "\n",
    "    #create new vgg16 model & pop last 3 layers.\n",
    "    vgg = Vgg16()\n",
    "    model = vgg.model\n",
    "    print(\"train_last_layer, model just created from Vgg16(), # layers = \", len(model.layers))\n",
    "    model.pop(); model.pop(); model.pop()\n",
    "    #\n",
    "    for layer in model.layers: layer.trainable=False\n",
    "    #set all layers to non trainable\n",
    "    model.compile(optimizer=Adam(), loss='categorical_crossentropy', metrics=['accuracy'])\n",
    "\n",
    "    #create three layers ()\n",
    "    ll_layers = get_ll_layers()\n",
    "    #get_ll_layers:create 3 layers, BatchNormalization + Dropout + Dense, add these layers to model.\n",
    "    for layer in ll_layers: model.add(layer)\n",
    "    #copy the weights from the above trained ll_model to the just added  last 3 layers in model.\n",
    "    for l1,l2 in zip(ll_model.layers, model.layers[-3:]):\n",
    "        l2.set_weights(l1.get_weights())\n",
    "    \n",
    "    #compile model so it is ready for use.\n",
    "    model.compile(optimizer=Adam(), loss='categorical_crossentropy', metrics=['accuracy'])\n",
    "    model.save_weights(MODEL_PATH+'bn' + s_or_p + i + '.h5')\n",
    "    print (\"@ end of train_last_layer, # layers = \", len(model.layers))\n",
    "    showLayersInfo(model)\n",
    "    return model"
   ]
  },
  {
   "cell_type": "code",
   "execution_count": 35,
   "metadata": {},
   "outputs": [],
   "source": [
    "def get_conv_model(model):\n",
    "    #split model into 2 sets of layers. \n",
    "    #conv_layers = start up to & including the last Convolution2D\n",
    "    #fc_layers   = rest of the model\n",
    "    #returns model, list of layers, int position of last Convolution2D layer. \n",
    "    \n",
    "    layers = model.layers\n",
    "    \n",
    "    #last_conv_idx = index of last Convolution2D layer\n",
    "    last_conv_idx = [index for index,layer in enumerate(layers) \n",
    "                         if type(layer) is Convolution2D][-1]\n",
    "\n",
    "    conv_layers = layers[:last_conv_idx+1]\n",
    "    conv_model = Sequential(conv_layers)\n",
    "    fc_layers = layers[last_conv_idx+1:]\n",
    "    return conv_model, fc_layers, last_conv_idx"
   ]
  },
  {
   "cell_type": "code",
   "execution_count": 36,
   "metadata": {},
   "outputs": [],
   "source": [
    "def get_fc_layers(p, in_shape):\n",
    "    #get_fc_layers creates 9 layers, with nominated input shape, nominated dropout rate\n",
    "    #MaxPooling2D, Flatten, Dense, BatchNormalization, Dropout, Dense, BatchNormalization, Dropout, Dense\n",
    "    return [\n",
    "        MaxPooling2D(input_shape=in_shape),\n",
    "        Flatten(),\n",
    "        Dense(4096, activation='relu'),\n",
    "        #BatchNormalization(),\n",
    "        Dropout(p),\n",
    "        #Dense(4096, activation='relu'),\n",
    "        BatchNormalization(),\n",
    "        Dropout(p),\n",
    "        Dense(2, activation='softmax')\n",
    "        ]"
   ]
  },
  {
   "cell_type": "markdown",
   "metadata": {},
   "source": [
    "\"\"\"  \n",
    "train_dense_layers: showLayersInfo(Sequential(fc_layers)):-----------START-----------  \n",
    "Number of layers :  7  \n",
    "0 <class 'keras.layers.pooling.MaxPooling2D'> , trainable: False,input: (None, 512, 14, 14) , output: (None, 512, 7, 7)   \n",
    "1 <class 'keras.layers.core.Flatten'> , trainable: False, input: (None, 512, 7, 7) , output: (None, 25088)   \n",
    "2 <class 'keras.layers.core.Dense'> , trainable: False, input: (None, 25088) , output: (None, 4096)   \n",
    "3 <class 'keras.layers.core.Dropout'> , trainable: False, input: (None, 4096) , output: (None, 4096)   \n",
    "4 <class 'keras.layers.normalization.BatchNormalization'> , trainable: True, input: (None, 4096) , output: (None, 4096)   \n",
    "5 <class 'keras.layers.core.Dropout'> , trainable: True, input: (None, 4096) , output: (None, 4096)   \n",
    "6 <class 'keras.layers.core.Dense'> , trainable: True, input: (None, 4096) , output: (None, 2)   \n",
    "\"\"\"  "
   ]
  },
  {
   "cell_type": "code",
   "execution_count": 37,
   "metadata": {},
   "outputs": [],
   "source": [
    "def train_dense_layers(i, model):\n",
    "    #nb: i is used in the filename to save weights.\n",
    "    \n",
    "    print (\"start: train_dense_layers: i:\", i)\n",
    "    print (\"len(model.layers):\", len(model.layers))\n",
    "    #split model about last Convolutional2D layer\n",
    "    conv_model, fc_layers, last_conv_idx = get_conv_model(model)\n",
    "    #conv_model = Sqeuential(conv_layers) = list of layers, from start up to & including the last Convolution2D layer.\n",
    "    #fc_layers   = rest of the model       \n",
    "    \n",
    "    #shape of last Convolution2D layer output.\n",
    "    conv_shape = conv_model.output_shape[1:]\n",
    "    \n",
    "    ##get_fc_layers creates 9 layers, with nominated input shape, nominated dropout rate\n",
    "    #conv_shape ensures input shape from conv_model can be accepted.\n",
    "    fc_model = Sequential(get_fc_layers(0.5, conv_shape))\n",
    "    #MaxPooling2D, Flatten, Dense, BatchNormalization, Dropout, Dense, BatchNormalization, Dropout, Dense\n",
    "\n",
    "    print (\"train_dense_layers: showLayersInfo(fc_model):-----------START------------------------\")\n",
    "    showLayersInfo(fc_model)\n",
    "    print (\"train_dense_layers: showLayersInfo(Sequential(fc_layers)):-----------START-----------\")\n",
    "    showLayersInfo(Sequential(fc_layers))\n",
    "    print (\"-----------------------END-----------------------------------------------------------\")\n",
    "    print (\"len(fc_model.layers):\", len(fc_model.layers))#9 layers - as from def get_fc_layers\n",
    "    print (\"len(fc_layers):\", len(fc_layers))            #7 layers - layers split from vgg16 after last Convolutional2D layer\n",
    "    #copy weights from layers in fc_layers to the newly created fc_model. \n",
    "    count = 0\n",
    "    for l1,l2 in zip(fc_model.layers, fc_layers): \n",
    "        print (\"count:\", count)\n",
    "        print(\"l1:\", l1)\n",
    "        print(\"l2:\", l2)\n",
    "        weights = l2.get_weights()\n",
    "        print (\"l1.get_weights():\", len(l1.get_weights()))\n",
    "        print (\"l2.get_weights():\", len(l2.get_weights()))\n",
    "        l1.set_weights(weights)\n",
    "        count += 1\n",
    "    \n",
    "    print (\"marker AA\")\n",
    "    fc_model.compile(optimizer=Adam(1e-5), loss='categorical_crossentropy', metrics=['accuracy'])\n",
    "\n",
    "    fc_model.fit(trn_features, trn_labels, nb_epoch=2, \n",
    "         batch_size=batch_size, validation_data=(val_features, val_labels))\n",
    "    print (\"marker BB\")\n",
    "\n",
    "    #setup data augmentation.\n",
    "    gen = image.ImageDataGenerator(rotation_range=10, \n",
    "                                   width_shift_range=0.05, \n",
    "                                   #width_zoom_range=0.05, #error - why????\n",
    "                                   zoom_range=0.05, \n",
    "                                   channel_shift_range=10, \n",
    "                                   height_shift_range=0.05, \n",
    "                                   shear_range=0.05, \n",
    "                                   horizontal_flip=True)\n",
    "    print (\"marker CC\")\n",
    "\n",
    "    batches = gen.flow(trn, trn_labels, batch_size=batch_size)\n",
    "    \n",
    "    print (\"marker DD\")\n",
    "\n",
    "    val_batches = image.ImageDataGenerator().flow(val, \n",
    "                                                  val_labels, \n",
    "                                                  shuffle=False, \n",
    "                                                  batch_size=batch_size)\n",
    "    \n",
    "    print (\"type(val_batches):\", type(val_batches), \"val_batches.n:\", val_batches.n)\n",
    "\n",
    "    print (\"len(conv_model.layers):\", len(conv_model.layers))\n",
    "    \n",
    "    #set all layers in conv_model set to non trainable\n",
    "    for layer in conv_model.layers: \n",
    "        layer.trainable = False\n",
    "\n",
    "    print (\"marker EE-all layers in conv_model set to non trainable\")\n",
    "    ##get_fc_layers creates 9 layers, with nominated input shape, nominated dropout rate\n",
    "    #MaxPooling2D, Flatten, Dense, BatchNormalization, Dropout, Dense, BatchNormalization, Dropout, Dense\n",
    "    #conv_shape ensures input shape from conv_model can be accepted.\n",
    "    #add all layers to end of conv_model\n",
    "    for layer in get_fc_layers(0.5, conv_shape): \n",
    "        conv_model.add(layer)\n",
    "    print (\"showLayersInfo(conv_model): after 1. setting layers to non trainable & 2. adding get_fc_layers to conv_model\")\n",
    "    showLayersInfo(conv_model)\n",
    "        \n",
    "    \n",
    "    #copy weights from fc_model.layers to the layers after last_conv_idx in conv_model.\n",
    "    #nb: weights in fc_model were trained \n",
    "    for l1,l2 in zip(conv_model.layers[last_conv_idx+1:], fc_model.layers): \n",
    "        l1.set_weights(l2.get_weights())\n",
    "    print (\"marker FF-copied weights from fc_model.layers to the layers after last_conv_idx in conv_model.\")\n",
    "    \n",
    "    conv_model.compile(optimizer=Adam(1e-5), loss='categorical_crossentropy', metrics=['accuracy'])\n",
    "    \n",
    "    conv_model.save_weights(MODEL_PATH+'no_dropout_bn' + s_or_p + i + '.h5')\n",
    "    \n",
    "    \n",
    "    conv_model.fit_generator(batches, \n",
    "                             samples_per_epoch=batches.n, \n",
    "                             nb_epoch=1, \n",
    "                             validation_data=val_batches, \n",
    "                             nb_val_samples=val_batches.n)\n",
    "    \n",
    "    #now make more of the models trainable.\n",
    "    for layer in conv_model.layers[16:]: layer.trainable = True\n",
    "\n",
    "    print (\"showLayersInfo(conv_model): after 1. copying weights to conv_model from fc_model.layers.\")\n",
    "    print (\"2. fitting, setting layers 16: to trainable.\")\n",
    "    \n",
    "    showLayersInfo(conv_model)\n",
    "\n",
    "\n",
    "    history = conv_model.fit_generator(batches, \n",
    "                             samples_per_epoch=batches.n, \n",
    "                             nb_epoch=8, \n",
    "                             validation_data=val_batches, \n",
    "                             nb_val_samples=val_batches.n)\n",
    "\n",
    "    print (\"history = conv_model.fit_generator(blah....), conv_model.optimizer.lr:\", conv_model.optimizer.lr)\n",
    "    plot_history(history)\n",
    "    \n",
    "    conv_model.optimizer.lr = 1e-7\n",
    "    history = conv_model.fit_generator(batches, \n",
    "                             samples_per_epoch=batches.n, \n",
    "                             nb_epoch=10, \n",
    "                             validation_data=val_batches, \n",
    "                             nb_val_samples=val_batches.n)\n",
    "\n",
    "    print (\"history = conv_model.fit_generator(blah....), conv_model.optimizer.lr:\", conv_model.optimizer.lr)\n",
    "    plot_history(history)\n",
    "    \n",
    "    conv_model.save_weights(MODEL_PATH + s_or_p + 'aug' + i + '.h5')"
   ]
  },
  {
   "cell_type": "code",
   "execution_count": null,
   "metadata": {},
   "outputs": [],
   "source": [
    "type(conv_model)"
   ]
  },
  {
   "cell_type": "code",
   "execution_count": null,
   "metadata": {},
   "outputs": [],
   "source": []
  },
  {
   "cell_type": "code",
   "execution_count": null,
   "metadata": {},
   "outputs": [],
   "source": []
  },
  {
   "cell_type": "code",
   "execution_count": null,
   "metadata": {},
   "outputs": [],
   "source": []
  },
  {
   "cell_type": "code",
   "execution_count": null,
   "metadata": {},
   "outputs": [],
   "source": [
    "#build the ensemble\n",
    "#multiple model builds, model trainings. takes long time.\n",
    "for i in range(5):\n",
    "    i = str(i)\n",
    "    print (\"i:\", i)\n",
    "    model = train_last_layer(i)\n",
    "    #a tthis point, model = vgg16 model, minus last three layers, plus layers BatchNormalization + Dropout + Dense\n",
    "    #get_ll_layers:create 3 layers, BatchNormalization + Dropout + Dense\n",
    "    #train_last_layer uses get_ll_layers to create 3 layer model, trains it, then pops last 3 layers from vgg16model\n",
    "    #at end of train_last_layer model has 38 layers with last three layers being BatchNormalization + Dropout + Dense\n",
    "\n",
    "    train_dense_layers(i, model)"
   ]
  },
  {
   "cell_type": "code",
   "execution_count": null,
   "metadata": {},
   "outputs": [],
   "source": []
  },
  {
   "cell_type": "code",
   "execution_count": null,
   "metadata": {},
   "outputs": [],
   "source": []
  },
  {
   "cell_type": "code",
   "execution_count": null,
   "metadata": {},
   "outputs": [],
   "source": []
  },
  {
   "cell_type": "code",
   "execution_count": null,
   "metadata": {},
   "outputs": [],
   "source": [
    "for i in range(5):\n",
    "    print (MODEL_PATH + s_or_p + 'aug' + str(i) + '.h5')"
   ]
  },
  {
   "cell_type": "code",
   "execution_count": 41,
   "metadata": {},
   "outputs": [
    {
     "ename": "NameError",
     "evalue": "global name 'll_feat' is not defined",
     "output_type": "error",
     "traceback": [
      "\u001b[0;31m---------------------------------------------------------------------------\u001b[0m",
      "\u001b[0;31mNameError\u001b[0m                                 Traceback (most recent call last)",
      "\u001b[0;32m<ipython-input-41-1f66e0da7a30>\u001b[0m in \u001b[0;36m<module>\u001b[0;34m()\u001b[0m\n\u001b[0;32m----> 1\u001b[0;31m \u001b[0mens_model2\u001b[0m \u001b[0;34m=\u001b[0m \u001b[0mtrain_last_layer\u001b[0m\u001b[0;34m(\u001b[0m\u001b[0mstr\u001b[0m\u001b[0;34m(\u001b[0m\u001b[0;36m11\u001b[0m\u001b[0;34m)\u001b[0m\u001b[0;34m)\u001b[0m\u001b[0;34m\u001b[0m\u001b[0m\n\u001b[0m",
      "\u001b[0;32m<ipython-input-34-302feb26db46>\u001b[0m in \u001b[0;36mtrain_last_layer\u001b[0;34m(i)\u001b[0m\n\u001b[1;32m     10\u001b[0m     \u001b[0mll_model\u001b[0m\u001b[0;34m.\u001b[0m\u001b[0mcompile\u001b[0m\u001b[0;34m(\u001b[0m\u001b[0moptimizer\u001b[0m\u001b[0;34m=\u001b[0m\u001b[0mAdam\u001b[0m\u001b[0;34m(\u001b[0m\u001b[0;34m)\u001b[0m\u001b[0;34m,\u001b[0m \u001b[0mloss\u001b[0m\u001b[0;34m=\u001b[0m\u001b[0;34m'categorical_crossentropy'\u001b[0m\u001b[0;34m,\u001b[0m \u001b[0mmetrics\u001b[0m\u001b[0;34m=\u001b[0m\u001b[0;34m[\u001b[0m\u001b[0;34m'accuracy'\u001b[0m\u001b[0;34m]\u001b[0m\u001b[0;34m)\u001b[0m\u001b[0;34m\u001b[0m\u001b[0m\n\u001b[1;32m     11\u001b[0m     \u001b[0mll_model\u001b[0m\u001b[0;34m.\u001b[0m\u001b[0moptimizer\u001b[0m\u001b[0;34m.\u001b[0m\u001b[0mlr\u001b[0m\u001b[0;34m=\u001b[0m\u001b[0;36m1e-5\u001b[0m\u001b[0;34m\u001b[0m\u001b[0m\n\u001b[0;32m---> 12\u001b[0;31m     \u001b[0mhistory\u001b[0m \u001b[0;34m=\u001b[0m \u001b[0mll_model\u001b[0m\u001b[0;34m.\u001b[0m\u001b[0mfit\u001b[0m\u001b[0;34m(\u001b[0m\u001b[0mll_feat\u001b[0m\u001b[0;34m,\u001b[0m \u001b[0mtrn_labels\u001b[0m\u001b[0;34m,\u001b[0m \u001b[0mvalidation_data\u001b[0m\u001b[0;34m=\u001b[0m\u001b[0;34m(\u001b[0m\u001b[0mll_val_feat\u001b[0m\u001b[0;34m,\u001b[0m \u001b[0mval_labels\u001b[0m\u001b[0;34m)\u001b[0m\u001b[0;34m,\u001b[0m \u001b[0mnb_epoch\u001b[0m\u001b[0;34m=\u001b[0m\u001b[0;36m12\u001b[0m\u001b[0;34m)\u001b[0m\u001b[0;34m\u001b[0m\u001b[0m\n\u001b[0m\u001b[1;32m     13\u001b[0m     \u001b[0;32mprint\u001b[0m \u001b[0;34m(\u001b[0m\u001b[0;34m\"train_last_layer:i:\"\u001b[0m\u001b[0;34m,\u001b[0m \u001b[0mi\u001b[0m\u001b[0;34m,\u001b[0m \u001b[0;34m\", ll_model.optimizer.lr:\"\u001b[0m\u001b[0;34m,\u001b[0m \u001b[0mll_model\u001b[0m\u001b[0;34m.\u001b[0m\u001b[0moptimizer\u001b[0m\u001b[0;34m.\u001b[0m\u001b[0mlr\u001b[0m \u001b[0;34m)\u001b[0m\u001b[0;34m\u001b[0m\u001b[0m\n\u001b[1;32m     14\u001b[0m     \u001b[0mplot_history\u001b[0m\u001b[0;34m(\u001b[0m\u001b[0mhistory\u001b[0m\u001b[0;34m)\u001b[0m\u001b[0;34m\u001b[0m\u001b[0m\n",
      "\u001b[0;31mNameError\u001b[0m: global name 'll_feat' is not defined"
     ]
    }
   ],
   "source": [
    "ens_model2 = train_last_layer(str(11))"
   ]
  },
  {
   "cell_type": "code",
   "execution_count": null,
   "metadata": {},
   "outputs": [],
   "source": [
    "for layer in ens_model2.layers: layer.trainable=True"
   ]
  },
  {
   "cell_type": "code",
   "execution_count": null,
   "metadata": {},
   "outputs": [],
   "source": [
    "#Combine ensemble and test\n",
    "#ens_model = vgg_ft(2)\n",
    "#vgg_ft(2) returns Vgg16().ft(2).Vgg16() ie: vgg16 model set for 2 output classifications.\n",
    "#for layer in ens_model.layers: layer.trainable=True"
   ]
  },
  {
   "cell_type": "code",
   "execution_count": null,
   "metadata": {},
   "outputs": [],
   "source": [
    "#showLayersInfo(ens_model)"
   ]
  },
  {
   "cell_type": "code",
   "execution_count": 27,
   "metadata": {},
   "outputs": [],
   "source": [
    "def get_ens_pred(arr, fname):\n",
    "    ens_pred = []\n",
    "    for i in range(5):\n",
    "        i = str(i)\n",
    "        print (\"loading weights file:\", i)\n",
    "        ens_model2.load_weights('{}{}{}.h5'.format(MODEL_PATH, fname, i))\n",
    "        print (\"predicting from weights file:\", i)\n",
    "        preds = ens_model2.predict(arr, batch_size=batch_size)\n",
    "        ens_pred.append(preds)\n",
    "        print (\"len(ens_pred):\", len(ens_pred), \", len(preds):\", len(preds))\n",
    "    return ens_pred"
   ]
  },
  {
   "cell_type": "code",
   "execution_count": 38,
   "metadata": {},
   "outputs": [
    {
     "name": "stdout",
     "output_type": "stream",
     "text": [
      "loading weights file: 0\n"
     ]
    },
    {
     "ename": "NameError",
     "evalue": "global name 'ens_model2' is not defined",
     "output_type": "error",
     "traceback": [
      "\u001b[0;31m---------------------------------------------------------------------------\u001b[0m",
      "\u001b[0;31mNameError\u001b[0m                                 Traceback (most recent call last)",
      "\u001b[0;32m<ipython-input-38-954a93ca1f58>\u001b[0m in \u001b[0;36m<module>\u001b[0;34m()\u001b[0m\n\u001b[1;32m      2\u001b[0m \u001b[0;31m#val: (1500, 3, 224, 224)\u001b[0m\u001b[0;34m\u001b[0m\u001b[0;34m\u001b[0m\u001b[0m\n\u001b[1;32m      3\u001b[0m \u001b[0;34m\u001b[0m\u001b[0m\n\u001b[0;32m----> 4\u001b[0;31m \u001b[0mval_pred2\u001b[0m \u001b[0;34m=\u001b[0m \u001b[0mget_ens_pred\u001b[0m\u001b[0;34m(\u001b[0m\u001b[0mval\u001b[0m\u001b[0;34m,\u001b[0m \u001b[0;34m'aug'\u001b[0m\u001b[0;34m)\u001b[0m\u001b[0;34m\u001b[0m\u001b[0m\n\u001b[0m\u001b[1;32m      5\u001b[0m \u001b[0;31m#nb: this loads weights from the files with 'aug' in filename. this is the final model build in method train_dense_layers\u001b[0m\u001b[0;34m\u001b[0m\u001b[0;34m\u001b[0m\u001b[0m\n",
      "\u001b[0;32m<ipython-input-27-1e863df6b77a>\u001b[0m in \u001b[0;36mget_ens_pred\u001b[0;34m(arr, fname)\u001b[0m\n\u001b[1;32m      4\u001b[0m         \u001b[0mi\u001b[0m \u001b[0;34m=\u001b[0m \u001b[0mstr\u001b[0m\u001b[0;34m(\u001b[0m\u001b[0mi\u001b[0m\u001b[0;34m)\u001b[0m\u001b[0;34m\u001b[0m\u001b[0m\n\u001b[1;32m      5\u001b[0m         \u001b[0;32mprint\u001b[0m \u001b[0;34m(\u001b[0m\u001b[0;34m\"loading weights file:\"\u001b[0m\u001b[0;34m,\u001b[0m \u001b[0mi\u001b[0m\u001b[0;34m)\u001b[0m\u001b[0;34m\u001b[0m\u001b[0m\n\u001b[0;32m----> 6\u001b[0;31m         \u001b[0mens_model2\u001b[0m\u001b[0;34m.\u001b[0m\u001b[0mload_weights\u001b[0m\u001b[0;34m(\u001b[0m\u001b[0;34m'{}{}{}.h5'\u001b[0m\u001b[0;34m.\u001b[0m\u001b[0mformat\u001b[0m\u001b[0;34m(\u001b[0m\u001b[0mMODEL_PATH\u001b[0m\u001b[0;34m,\u001b[0m \u001b[0mfname\u001b[0m\u001b[0;34m,\u001b[0m \u001b[0mi\u001b[0m\u001b[0;34m)\u001b[0m\u001b[0;34m)\u001b[0m\u001b[0;34m\u001b[0m\u001b[0m\n\u001b[0m\u001b[1;32m      7\u001b[0m         \u001b[0;32mprint\u001b[0m \u001b[0;34m(\u001b[0m\u001b[0;34m\"predicting from weights file:\"\u001b[0m\u001b[0;34m,\u001b[0m \u001b[0mi\u001b[0m\u001b[0;34m)\u001b[0m\u001b[0;34m\u001b[0m\u001b[0m\n\u001b[1;32m      8\u001b[0m         \u001b[0mpreds\u001b[0m \u001b[0;34m=\u001b[0m \u001b[0mens_model2\u001b[0m\u001b[0;34m.\u001b[0m\u001b[0mpredict\u001b[0m\u001b[0;34m(\u001b[0m\u001b[0marr\u001b[0m\u001b[0;34m,\u001b[0m \u001b[0mbatch_size\u001b[0m\u001b[0;34m=\u001b[0m\u001b[0mbatch_size\u001b[0m\u001b[0;34m)\u001b[0m\u001b[0;34m\u001b[0m\u001b[0m\n",
      "\u001b[0;31mNameError\u001b[0m: global name 'ens_model2' is not defined"
     ]
    }
   ],
   "source": [
    "#recall: val = get_data(WORKING_VALID)\n",
    "#val: (1500, 3, 224, 224)\n",
    "\n",
    "val_pred2 = get_ens_pred(val, 'aug')\n",
    "#nb: this loads weights from the files with 'aug' in filename. this is the final model build in method train_dense_layers"
   ]
  },
  {
   "cell_type": "code",
   "execution_count": null,
   "metadata": {},
   "outputs": [],
   "source": [
    "print (\"len(val_pred2):\", len(val_pred2))\n",
    "print(val_pred2[0].shape)\n",
    "print(val_pred2[0][0:10, :])"
   ]
  },
  {
   "cell_type": "code",
   "execution_count": null,
   "metadata": {},
   "outputs": [],
   "source": [
    "#calc categorical_accuracy for each prediction and for the average.\n",
    "cat_acc = []\n",
    "for i in range(5):\n",
    "    temp_val_preds = val_pred2[i]\n",
    "    print (\"i:\", i, type(temp_val_preds), temp_val_preds.shape)\n",
    "    cat_acc.append(float(categorical_accuracy(val_labels, temp_val_preds).eval()))\n",
    "    print (\"i:\", i, type(temp_val_preds), temp_val_preds.shape, \", categorical accuracy:\", cat_acc[i])\n",
    "print (\"cat_acc:\", type(cat_acc), cat_acc)\n"
   ]
  },
  {
   "cell_type": "code",
   "execution_count": null,
   "metadata": {},
   "outputs": [],
   "source": [
    "val_avg_preds2 = np.stack(val_pred2).mean(axis=0)\n",
    "#get the mean prediction across all \n",
    "print (\"type(val_avg_preds2):\", type(val_avg_preds2), val_avg_preds2.shape)\n",
    "print(val_avg_preds2[0:10, :])"
   ]
  },
  {
   "cell_type": "code",
   "execution_count": null,
   "metadata": {},
   "outputs": [],
   "source": [
    "print (\"categorical accuracy from mean      :\", float(categorical_accuracy(val_labels, val_avg_preds2).eval()))\n",
    "print (\"best individual categorical accuracy:\", np.max(cat_acc))\n",
    "#NB: mean accuracy is higher because it is choosing the best prediction row by row. then comparing with actual category."
   ]
  },
  {
   "cell_type": "code",
   "execution_count": null,
   "metadata": {},
   "outputs": [],
   "source": [
    "#recall: test = get_data(WORKING_TEST)\n",
    "#<type 'numpy.ndarray'> (2500, 3, 224, 224)\n",
    "startTime= datetime.now()\n",
    "print (\"startTime:\", startTime)\n",
    "test_pred2 = get_ens_pred(test, 'aug')\n",
    "timeElapsed=datetime.now()-startTime\n",
    "print('Time elapsed (hh:mm:ss.ms) {}'.format(timeElapsed))\n",
    "\n",
    "\n",
    "#print (\"test_pred2.shape:\", test_pred2.shape)\n",
    "#approx time to run : production version: "
   ]
  },
  {
   "cell_type": "code",
   "execution_count": null,
   "metadata": {},
   "outputs": [],
   "source": [
    "#depending on shape of test_pred2, modify code from Kaggle-cats-dogs-redux-4-reload_model_predict\n",
    "#to produce kaggle submit format \n"
   ]
  },
  {
   "cell_type": "code",
   "execution_count": null,
   "metadata": {},
   "outputs": [],
   "source": [
    "print (\"len(val_pred2):\", len(test_pred2))\n",
    "print(test_pred2[0].shape)\n",
    "print(test_pred2[0][0:10, :])"
   ]
  },
  {
   "cell_type": "code",
   "execution_count": null,
   "metadata": {},
   "outputs": [],
   "source": [
    "avg_test_pred2 = np.stack(test_pred2).mean(axis=0)\n",
    "#get the mean prediction across all \n",
    "print (\"type(avg_test_pred2):\", type(avg_test_pred2), avg_test_pred2.shape)\n",
    "print(avg_test_pred2[0:10, :])"
   ]
  },
  {
   "cell_type": "raw",
   "metadata": {},
   "source": [
    "avg_test_pred2 = avg_test_pred2[:,1]\n",
    "print (\"type(avg_test_pred2):\", type(avg_test_pred2), avg_test_pred2.shape)"
   ]
  },
  {
   "cell_type": "code",
   "execution_count": null,
   "metadata": {},
   "outputs": [],
   "source": []
  },
  {
   "cell_type": "code",
   "execution_count": null,
   "metadata": {},
   "outputs": [],
   "source": [
    "#isdog = avg_test_pred2.clip(min=0.05, max=0.95)\n",
    "#isdog = avg_test_pred2.clip(min=0.02, max=0.98)#try a different clip\n",
    "isdog = avg_test_pred2.clip(min=0.01, max=0.99)#try a different clip"
   ]
  },
  {
   "cell_type": "code",
   "execution_count": null,
   "metadata": {},
   "outputs": [],
   "source": [
    "print (type(isdog), isdog.shape)\n"
   ]
  },
  {
   "cell_type": "code",
   "execution_count": null,
   "metadata": {},
   "outputs": [],
   "source": [
    "print(isdog[0:10])"
   ]
  },
  {
   "cell_type": "code",
   "execution_count": null,
   "metadata": {},
   "outputs": [],
   "source": [
    "print (\"test_filenames:\", type(test_filenames), len(test_filenames))\n",
    "print (\"test_filenames[0:10]\\n\", test_filenames[0:10])\n",
    "ids = np.array([int(f[8:f.find('.')]) for f in test_filenames])\n",
    "print (\"ids[0:10]\\n\", ids[0:10])\n"
   ]
  },
  {
   "cell_type": "code",
   "execution_count": null,
   "metadata": {},
   "outputs": [],
   "source": [
    "subm = np.stack([ids,isdog], axis=1)\n",
    "subm[:10]"
   ]
  },
  {
   "cell_type": "code",
   "execution_count": null,
   "metadata": {},
   "outputs": [],
   "source": [
    "subm = subm[subm[:,0].argsort()]"
   ]
  },
  {
   "cell_type": "code",
   "execution_count": null,
   "metadata": {},
   "outputs": [],
   "source": [
    "subm[:10]"
   ]
  },
  {
   "cell_type": "code",
   "execution_count": null,
   "metadata": {},
   "outputs": [],
   "source": [
    "%cd $RESULTS_PATH\n",
    "submission_file_name = \"submission1_cats-dogs-redux-ensemble\"+ s_or_p +\"01-99.csv\"\n",
    "np.savetxt(submission_file_name, subm, fmt='%d,%.2f', header='id,label', comments='')"
   ]
  },
  {
   "cell_type": "code",
   "execution_count": null,
   "metadata": {},
   "outputs": [],
   "source": [
    "\n",
    "\n",
    "# Cross-entropy loss score\n",
    "#use this to calc log_loss score used by kaggle\n",
    "#score = log_loss(Y_valid, predictions_valid)"
   ]
  }
 ],
 "metadata": {
  "kernelspec": {
   "display_name": "Python 2",
   "language": "python",
   "name": "python2"
  },
  "language_info": {
   "codemirror_mode": {
    "name": "ipython",
    "version": 2
   },
   "file_extension": ".py",
   "mimetype": "text/x-python",
   "name": "python",
   "nbconvert_exporter": "python",
   "pygments_lexer": "ipython2",
   "version": "2.7.12"
  }
 },
 "nbformat": 4,
 "nbformat_minor": 2
}
