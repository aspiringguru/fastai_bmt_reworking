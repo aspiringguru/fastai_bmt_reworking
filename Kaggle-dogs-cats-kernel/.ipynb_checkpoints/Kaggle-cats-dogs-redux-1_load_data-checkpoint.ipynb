{
 "cells": [
  {
   "cell_type": "markdown",
   "metadata": {},
   "source": [
    "https://www.kaggle.com/c/dogs-vs-cats-redux-kernels-edition\n",
    "nb: cd to /home/ubuntu/fastai/data/Kaggle_dogs-vs-cats-redux-kernels-edition/\n",
    "kg download -u _user_name_ -p _password_ -c dogs-vs-cats-redux-kernels-edition\n",
    "@ to view zip file structure & destination directory.\n",
    "unzip -l test.zip\n",
    "unzip -l train.zip\n",
    "\n",
    "unzip test.zip\n",
    "unzip train.zip\n",
    "\n",
    "\n"
   ]
  },
  {
   "cell_type": "code",
   "execution_count": 36,
   "metadata": {},
   "outputs": [],
   "source": [
    "sample_or_prod = True #True = sample, False = production\n",
    "\n",
    "train_valid_fract = 0.3\n",
    "sample_fract = 0.2"
   ]
  },
  {
   "cell_type": "code",
   "execution_count": 28,
   "metadata": {},
   "outputs": [
    {
     "name": "stdout",
     "output_type": "stream",
     "text": [
      "DATA_DIR_LIST: ['/home/ubuntu/fastai/data/Kaggle_dogs-vs-cats-redux-kernels-edition/', '/home/ubuntu/fastai/data/Kaggle_dogs-vs-cats-redux-kernels-edition/sample/', '/home/ubuntu/fastai/data/Kaggle_dogs-vs-cats-redux-kernels-edition/sample/test/', '/home/ubuntu/fastai/data/Kaggle_dogs-vs-cats-redux-kernels-edition/sample/train/', '/home/ubuntu/fastai/data/Kaggle_dogs-vs-cats-redux-kernels-edition/sample/valid/', '/home/ubuntu/fastai/data/Kaggle_dogs-vs-cats-redux-kernels-edition/test/', '/home/ubuntu/fastai/data/Kaggle_dogs-vs-cats-redux-kernels-edition/train/', '/home/ubuntu/fastai/data/Kaggle_dogs-vs-cats-redux-kernels-edition/valid/']\n",
      "('WORKING_DATA:', '/home/ubuntu/fastai/data/Kaggle_dogs-vs-cats-redux-kernels-edition/sample/')\n",
      "('WORKING_TEST:', '/home/ubuntu/fastai/data/Kaggle_dogs-vs-cats-redux-kernels-edition/sample/test/')\n",
      "('WORKING_TRAIN:', '/home/ubuntu/fastai/data/Kaggle_dogs-vs-cats-redux-kernels-edition/sample/train/')\n",
      "('WORKING_VALID:', '/home/ubuntu/fastai/data/Kaggle_dogs-vs-cats-redux-kernels-edition/sample/valid/')\n",
      "('s_or_p:', '_sample_')\n"
     ]
    }
   ],
   "source": [
    "HOMEPATH = \"/home/ubuntu/fastai/\"\n",
    "\n",
    "DATA_PATH = HOMEPATH+\"data/Kaggle_dogs-vs-cats-redux-kernels-edition/\"\n",
    "\n",
    "MODEL_PATH = DATA_PATH+\"models/\"\n",
    "RESULTS_PATH = DATA_PATH+\"results/\"\n",
    "\n",
    "\n",
    "SAMPLE_DATA_PATH = DATA_PATH + \"sample/\"#choose this for testing or above for production\n",
    "SAMPLE_TEST_PATH = SAMPLE_DATA_PATH+\"test/\"\n",
    "SAMPLE_TRAIN_PATH = SAMPLE_DATA_PATH + \"train/\"\n",
    "SAMPLE_VALID_PATH = SAMPLE_DATA_PATH + \"valid/\"\n",
    "\n",
    "\n",
    "TEST_PATH = DATA_PATH+\"test/\"\n",
    "TRAIN_PATH = DATA_PATH + \"train/\"\n",
    "VALID_PATH = DATA_PATH + \"valid/\"\n",
    "\n",
    "\n",
    "print \"DATA_DIR_LIST:\", DATA_DIR_LIST\n",
    "\n",
    "if sample_or_prod:\n",
    "    WORKING_DATA  = SAMPLE_DATA_PATH\n",
    "    WORKING_TEST  = SAMPLE_TEST_PATH\n",
    "    WORKING_TRAIN = SAMPLE_TRAIN_PATH\n",
    "    WORKING_VALID = SAMPLE_VALID_PATH\n",
    "    s_or_p = \"_sample_\"\n",
    "else:\n",
    "    WORKING_DATA  = DATA_PATH\n",
    "    WORKING_TEST  = TEST_PATH\n",
    "    WORKING_TRAIN = TRAIN_PATH\n",
    "    WORKING_VALID = VALID_PATH\n",
    "    s_or_p = \"_prod_\"\n",
    "\n",
    "    \n",
    "print (\"WORKING_DATA:\", WORKING_DATA)\n",
    "print (\"WORKING_TEST:\", WORKING_TEST)\n",
    "print (\"WORKING_TRAIN:\", WORKING_TRAIN)\n",
    "print (\"WORKING_VALID:\", WORKING_VALID)\n",
    "print (\"s_or_p:\", s_or_p)"
   ]
  },
  {
   "cell_type": "code",
   "execution_count": 68,
   "metadata": {},
   "outputs": [],
   "source": [
    "import os\n",
    "from datetime import datetime\n",
    "from glob import glob\n",
    "from random import shuffle\n",
    "from shutil import copyfile\n"
   ]
  },
  {
   "cell_type": "code",
   "execution_count": 7,
   "metadata": {},
   "outputs": [
    {
     "name": "stdout",
     "output_type": "stream",
     "text": [
      "/home/ubuntu/fastai/data/Kaggle_dogs-vs-cats-redux-kernels-edition\n",
      "\u001b[01;34m.\u001b[00m\n",
      "├── \u001b[01;34mtest\u001b[00m\n",
      "└── \u001b[01;34mtrain\u001b[00m\n",
      "\n",
      "2 directories\n"
     ]
    }
   ],
   "source": [
    "os.chdir(DATA_PATH)\n",
    "print (os.getcwd())\n",
    "!tree -d"
   ]
  },
  {
   "cell_type": "code",
   "execution_count": 12,
   "metadata": {},
   "outputs": [],
   "source": [
    "def dirFileList(dir_path):\n",
    "    return [name for name in os.listdir(dir_path) if os.path.isfile(os.path.join(dir_path, name))]\n"
   ]
  },
  {
   "cell_type": "code",
   "execution_count": 8,
   "metadata": {},
   "outputs": [],
   "source": [
    "#check if dir exists, create if not already.\n",
    "def makeNewDir(newDirPath):\n",
    "    if not os.path.exists(newDirPath): \n",
    "        print(\"directory \", newDirPath, \" did not exist, creating:\")\n",
    "        os.mkdir(newDirPath)\n",
    "    else:\n",
    "        print(\"directory \", newDirPath, \"already existed. filecount = \", len(dirFileList(newDirPath)))\n"
   ]
  },
  {
   "cell_type": "code",
   "execution_count": 51,
   "metadata": {},
   "outputs": [
    {
     "name": "stdout",
     "output_type": "stream",
     "text": [
      "('directory ', '/home/ubuntu/fastai/data/Kaggle_dogs-vs-cats-redux-kernels-edition/sample/', 'already existed. filecount = ', 0)\n",
      "('directory ', '/home/ubuntu/fastai/data/Kaggle_dogs-vs-cats-redux-kernels-edition/sample/test/', 'already existed. filecount = ', 0)\n",
      "('directory ', '/home/ubuntu/fastai/data/Kaggle_dogs-vs-cats-redux-kernels-edition/sample/test/unknown/', 'already existed. filecount = ', 0)\n",
      "('directory ', '/home/ubuntu/fastai/data/Kaggle_dogs-vs-cats-redux-kernels-edition/sample/train/', 'already existed. filecount = ', 0)\n",
      "('directory ', '/home/ubuntu/fastai/data/Kaggle_dogs-vs-cats-redux-kernels-edition/sample/valid/', 'already existed. filecount = ', 0)\n",
      "('directory ', '/home/ubuntu/fastai/data/Kaggle_dogs-vs-cats-redux-kernels-edition/models/', 'already existed. filecount = ', 0)\n",
      "('directory ', '/home/ubuntu/fastai/data/Kaggle_dogs-vs-cats-redux-kernels-edition/results/', 'already existed. filecount = ', 0)\n",
      "('directory ', '/home/ubuntu/fastai/data/Kaggle_dogs-vs-cats-redux-kernels-edition/test/', 'already existed. filecount = ', 0)\n",
      "('directory ', '/home/ubuntu/fastai/data/Kaggle_dogs-vs-cats-redux-kernels-edition/train/', 'already existed. filecount = ', 0)\n",
      "('directory ', '/home/ubuntu/fastai/data/Kaggle_dogs-vs-cats-redux-kernels-edition/valid/', 'already existed. filecount = ', 0)\n",
      "('directory ', '/home/ubuntu/fastai/data/Kaggle_dogs-vs-cats-redux-kernels-edition/train/cat/', 'already existed. filecount = ', 8750)\n",
      "('directory ', '/home/ubuntu/fastai/data/Kaggle_dogs-vs-cats-redux-kernels-edition/valid/cat/', 'already existed. filecount = ', 3750)\n",
      "('directory ', '/home/ubuntu/fastai/data/Kaggle_dogs-vs-cats-redux-kernels-edition/sample/train/cat/', 'already existed. filecount = ', 0)\n",
      "('directory ', '/home/ubuntu/fastai/data/Kaggle_dogs-vs-cats-redux-kernels-edition/sample/valid/cat/', 'already existed. filecount = ', 0)\n",
      "('directory ', '/home/ubuntu/fastai/data/Kaggle_dogs-vs-cats-redux-kernels-edition/train/dog/', 'already existed. filecount = ', 8750)\n",
      "('directory ', '/home/ubuntu/fastai/data/Kaggle_dogs-vs-cats-redux-kernels-edition/valid/dog/', 'already existed. filecount = ', 3750)\n",
      "('directory ', '/home/ubuntu/fastai/data/Kaggle_dogs-vs-cats-redux-kernels-edition/sample/train/dog/', 'already existed. filecount = ', 0)\n",
      "('directory ', '/home/ubuntu/fastai/data/Kaggle_dogs-vs-cats-redux-kernels-edition/sample/valid/dog/', 'already existed. filecount = ', 0)\n"
     ]
    }
   ],
   "source": [
    "CATEGORIES = ['cat/', 'dog/']#nb: do not change order or trailing slash\n",
    "UNKNOWN = 'unknown/'\n",
    "\n",
    "#NB: train and test are created by unzipping the data.\n",
    "makeNewDir(SAMPLE_DATA_PATH)\n",
    "makeNewDir(SAMPLE_TEST_PATH)\n",
    "makeNewDir(SAMPLE_TEST_PATH+UNKNOWN)\n",
    "makeNewDir(SAMPLE_TRAIN_PATH)\n",
    "makeNewDir(SAMPLE_VALID_PATH)\n",
    "\n",
    "makeNewDir(MODEL_PATH)\n",
    "makeNewDir(RESULTS_PATH)\n",
    "\n",
    "makeNewDir(TEST_PATH)\n",
    "makeNewDir(TRAIN_PATH)\n",
    "makeNewDir(VALID_PATH)\n",
    "\n",
    "DATA_DIR_LIST = [DATA_PATH, SAMPLE_DATA_PATH, SAMPLE_TEST_PATH, SAMPLE_TEST_PATH+UNKNOWN, SAMPLE_TRAIN_PATH, \n",
    "                 SAMPLE_VALID_PATH, TEST_PATH, TEST_PATH+UNKNOWN, TRAIN_PATH, VALID_PATH, MODEL_PATH, RESULTS_PATH]\n",
    "\n",
    "\n",
    "\n",
    "for category in CATEGORIES:\n",
    "    makeNewDir(TRAIN_PATH+category)\n",
    "    makeNewDir(VALID_PATH+category)\n",
    "    makeNewDir(SAMPLE_TRAIN_PATH+category)\n",
    "    makeNewDir(SAMPLE_VALID_PATH+category)\n",
    "    #\n",
    "    DATA_DIR_LIST.append(TRAIN_PATH+category)\n",
    "    DATA_DIR_LIST.append(VALID_PATH+category)\n",
    "    DATA_DIR_LIST.append(SAMPLE_TRAIN_PATH+category)\n",
    "    DATA_DIR_LIST.append(SAMPLE_VALID_PATH+category)\n"
   ]
  },
  {
   "cell_type": "code",
   "execution_count": 66,
   "metadata": {},
   "outputs": [],
   "source": [
    "def listDirsFileCount(DATA_DIR_LIST):\n",
    "    DATA_DIR_LIST = sorted(DATA_DIR_LIST)\n",
    "    for dir_ in DATA_DIR_LIST:\n",
    "        print dir_, len(dirFileList(dir_))\n",
    "        \n",
    "#NB: could have used global DATA_DIR_LIST  to access global variable DATA_DIR_LIST \n",
    "# without having to pass DATA_DIR_LIST as an arg, but this gives more flexability."
   ]
  },
  {
   "cell_type": "code",
   "execution_count": 67,
   "metadata": {},
   "outputs": [
    {
     "name": "stdout",
     "output_type": "stream",
     "text": [
      "/home/ubuntu/fastai/data/Kaggle_dogs-vs-cats-redux-kernels-edition/ 3\n",
      "/home/ubuntu/fastai/data/Kaggle_dogs-vs-cats-redux-kernels-edition/models/ 0\n",
      "/home/ubuntu/fastai/data/Kaggle_dogs-vs-cats-redux-kernels-edition/results/ 0\n",
      "/home/ubuntu/fastai/data/Kaggle_dogs-vs-cats-redux-kernels-edition/sample/ 0\n",
      "/home/ubuntu/fastai/data/Kaggle_dogs-vs-cats-redux-kernels-edition/sample/test/ 0\n",
      "/home/ubuntu/fastai/data/Kaggle_dogs-vs-cats-redux-kernels-edition/sample/test/unknown/ 0\n",
      "/home/ubuntu/fastai/data/Kaggle_dogs-vs-cats-redux-kernels-edition/sample/train/ 0\n",
      "/home/ubuntu/fastai/data/Kaggle_dogs-vs-cats-redux-kernels-edition/sample/train/cat/ 0\n",
      "/home/ubuntu/fastai/data/Kaggle_dogs-vs-cats-redux-kernels-edition/sample/train/dog/ 0\n",
      "/home/ubuntu/fastai/data/Kaggle_dogs-vs-cats-redux-kernels-edition/sample/valid/ 0\n",
      "/home/ubuntu/fastai/data/Kaggle_dogs-vs-cats-redux-kernels-edition/sample/valid/cat/ 0\n",
      "/home/ubuntu/fastai/data/Kaggle_dogs-vs-cats-redux-kernels-edition/sample/valid/dog/ 0\n",
      "/home/ubuntu/fastai/data/Kaggle_dogs-vs-cats-redux-kernels-edition/test/ 0\n",
      "/home/ubuntu/fastai/data/Kaggle_dogs-vs-cats-redux-kernels-edition/test/unknown/ 12500\n",
      "/home/ubuntu/fastai/data/Kaggle_dogs-vs-cats-redux-kernels-edition/train/ 0\n",
      "/home/ubuntu/fastai/data/Kaggle_dogs-vs-cats-redux-kernels-edition/train/cat/ 8750\n",
      "/home/ubuntu/fastai/data/Kaggle_dogs-vs-cats-redux-kernels-edition/train/dog/ 8750\n",
      "/home/ubuntu/fastai/data/Kaggle_dogs-vs-cats-redux-kernels-edition/valid/ 0\n",
      "/home/ubuntu/fastai/data/Kaggle_dogs-vs-cats-redux-kernels-edition/valid/cat/ 3750\n",
      "/home/ubuntu/fastai/data/Kaggle_dogs-vs-cats-redux-kernels-edition/valid/dog/ 3750\n"
     ]
    }
   ],
   "source": [
    "listDirsFileCount(DATA_DIR_LIST)"
   ]
  },
  {
   "cell_type": "code",
   "execution_count": 17,
   "metadata": {},
   "outputs": [
    {
     "name": "stdout",
     "output_type": "stream",
     "text": [
      "/home/ubuntu/fastai/data/Kaggle_dogs-vs-cats-redux-kernels-edition\n",
      "\u001b[01;34m.\u001b[00m\r\n",
      "├── \u001b[01;34mmodels\u001b[00m\r\n",
      "├── \u001b[01;34mresults\u001b[00m\r\n",
      "├── \u001b[01;34msample\u001b[00m\r\n",
      "│   ├── \u001b[01;34mtest\u001b[00m\r\n",
      "│   │   └── \u001b[01;34munknown\u001b[00m\r\n",
      "│   ├── \u001b[01;34mtrain\u001b[00m\r\n",
      "│   │   ├── \u001b[01;34mcat\u001b[00m\r\n",
      "│   │   └── \u001b[01;34mdog\u001b[00m\r\n",
      "│   └── \u001b[01;34mvalid\u001b[00m\r\n",
      "│       ├── \u001b[01;34mcat\u001b[00m\r\n",
      "│       └── \u001b[01;34mdog\u001b[00m\r\n",
      "├── \u001b[01;34mtest\u001b[00m\r\n",
      "│   └── \u001b[01;34munknown\u001b[00m\r\n",
      "├── \u001b[01;34mtrain\u001b[00m\r\n",
      "│   ├── \u001b[01;34mcat\u001b[00m\r\n",
      "│   └── \u001b[01;34mdog\u001b[00m\r\n",
      "└── \u001b[01;34mvalid\u001b[00m\r\n",
      "    ├── \u001b[01;34mcat\u001b[00m\r\n",
      "    └── \u001b[01;34mdog\u001b[00m\r\n",
      "\r\n",
      "19 directories\r\n"
     ]
    }
   ],
   "source": [
    "os.chdir(DATA_PATH)\n",
    "print (os.getcwd())\n",
    "!tree -d"
   ]
  },
  {
   "cell_type": "code",
   "execution_count": 70,
   "metadata": {},
   "outputs": [],
   "source": [
    "def moveCopyFiles(fileList, orig, dest, moveCopy):\n",
    "    #if moveCopy=True then move files\n",
    "    #if moveCopy=False then copy files\n",
    "    success = 0\n",
    "    error = 0\n",
    "    count = 0\n",
    "    for f in fileList:\n",
    "        filename = orig+f\n",
    "        destFilename = dest+f\n",
    "        try:\n",
    "            #print \"moving from \", filename+\" to \", destFilename\n",
    "            if moveCopy:\n",
    "                os.rename(filename, destFilename)\n",
    "            else:\n",
    "                copyfile(filename, destFilename)\n",
    "            success += 1\n",
    "        except:\n",
    "            print(\"error moving :\", filename)\n",
    "            error += 1\n",
    "        count += 1\n",
    "        #break\n",
    "    print (\"success:\", success)\n",
    "    print (\"error:\", error)\n",
    "    print (\"count:\", count)\n"
   ]
  },
  {
   "cell_type": "code",
   "execution_count": 32,
   "metadata": {},
   "outputs": [
    {
     "name": "stdout",
     "output_type": "stream",
     "text": [
      "('os.getcwd:', '/home/ubuntu/fastai/data/Kaggle_dogs-vs-cats-redux-kernels-edition/test')\n",
      "('# of files in dir ', '/home/ubuntu/fastai/data/Kaggle_dogs-vs-cats-redux-kernels-edition/test/', ':', 0)\n",
      "('success:', 0)\n",
      "('error:', 0)\n",
      "('count:', 0)\n",
      "('# of files in dir ', '/home/ubuntu/fastai/data/Kaggle_dogs-vs-cats-redux-kernels-edition/test/unknown/', ':', 12500)\n"
     ]
    }
   ],
   "source": [
    "#move files from test to test/unknown\n",
    "os.chdir(TEST_PATH)\n",
    "print (\"os.getcwd:\", os.getcwd())\n",
    "files = glob('*.jpg')\n",
    "#print len(files)\n",
    "\n",
    "print (\"# of files in dir \", TEST_PATH, \":\", len(dirFileList(TEST_PATH)))\n",
    "moveCopyFiles(files, TEST_PATH, TEST_PATH+UNKNOWN, True)\n",
    "print (\"# of files in dir \", TEST_PATH+UNKNOWN, \":\", len(dirFileList(TEST_PATH+UNKNOWN)))"
   ]
  },
  {
   "cell_type": "code",
   "execution_count": 38,
   "metadata": {},
   "outputs": [
    {
     "name": "stdout",
     "output_type": "stream",
     "text": [
      "('os.getcwd:', '/home/ubuntu/fastai/data/Kaggle_dogs-vs-cats-redux-kernels-edition/train')\n",
      "dog: 0 []\n",
      "('success:', 0)\n",
      "('error:', 0)\n",
      "('count:', 0)\n",
      "('# of files in dir ', '/home/ubuntu/fastai/data/Kaggle_dogs-vs-cats-redux-kernels-edition/train/dog/', ':', 12500)\n",
      "cat: 0 []\n",
      "('success:', 0)\n",
      "('error:', 0)\n",
      "('count:', 0)\n",
      "('# of files in dir ', '/home/ubuntu/fastai/data/Kaggle_dogs-vs-cats-redux-kernels-edition/train/cat/', ':', 12500)\n"
     ]
    }
   ],
   "source": [
    "#in train directory, files are names cat.*.jpg or dog.*.jpg, where * = int\n",
    "os.chdir(TRAIN_PATH)\n",
    "print (\"os.getcwd:\", os.getcwd())\n",
    "\n",
    "#recall : CATEGORIES = ['cat/', 'dog/']\n",
    "#get list of files matching cat.*.jpg, move these to blah/cat\n",
    "files = glob('dog.*.jpg')\n",
    "print \"dog:\", len(files), files[0:5]\n",
    "moveCopyFiles(files, TRAIN_PATH, TRAIN_PATH+CATEGORIES[1], True)\n",
    "print (\"# of files in dir \", TRAIN_PATH+CATEGORIES[1], \":\", len(dirFileList(TRAIN_PATH+CATEGORIES[1])))\n",
    "\n",
    "#get list of files matching dog.*.jpg, move these to blah/dog\n",
    "files = glob('cat.*.jpg')\n",
    "print \"cat:\", len(files), files[0:5]\n",
    "moveCopyFiles(files, TRAIN_PATH, TRAIN_PATH+CATEGORIES[0], True)\n",
    "print (\"# of files in dir \", TRAIN_PATH+CATEGORIES[0], \":\", len(dirFileList(TRAIN_PATH+CATEGORIES[0])))\n"
   ]
  },
  {
   "cell_type": "code",
   "execution_count": 58,
   "metadata": {},
   "outputs": [],
   "source": [
    "def splitMoveCopyFiles(fraction, origDir, destDir, moveOrCopy):\n",
    "    #if moveCopy=True then move files\n",
    "    #if moveCopy=False then copy files\n",
    "    print categories[0]\n",
    "    fileList = dirFileList(origDir)\n",
    "    shuffle(fileList)\n",
    "    print \"Number of files in original directory :\", len(fileList)\n",
    "    num_files_to_move = int(len(fileList) * fraction)\n",
    "    print \"num_files_to_move:\", num_files_to_move\n",
    "    files = fileList[0:num_files_to_move]\n",
    "    moveCopyFiles(files, origDir, destDir, moveOrCopy)\n"
   ]
  },
  {
   "cell_type": "code",
   "execution_count": 71,
   "metadata": {},
   "outputs": [
    {
     "name": "stdout",
     "output_type": "stream",
     "text": [
      "(8750, 0.3, '/home/ubuntu/fastai/data/Kaggle_dogs-vs-cats-redux-kernels-edition/train/cat/', '/home/ubuntu/fastai/data/Kaggle_dogs-vs-cats-redux-kernels-edition/valid/cat/')\n",
      "files already in destination directory, do NOT move.\n",
      "cat/\n",
      "Number of files in original directory : 8750\n",
      "num_files_to_move: 1750\n",
      "('success:', 1750)\n",
      "('error:', 0)\n",
      "('count:', 1750)\n",
      "cat/\n",
      "Number of files in original directory : 3750\n",
      "num_files_to_move: 750\n",
      "('success:', 750)\n",
      "('error:', 0)\n",
      "('count:', 750)\n",
      "(8750, 0.3, '/home/ubuntu/fastai/data/Kaggle_dogs-vs-cats-redux-kernels-edition/train/dog/', '/home/ubuntu/fastai/data/Kaggle_dogs-vs-cats-redux-kernels-edition/valid/dog/')\n",
      "files already in destination directory, do NOT move.\n",
      "cat/\n",
      "Number of files in original directory : 8750\n",
      "num_files_to_move: 1750\n",
      "('success:', 1750)\n",
      "('error:', 0)\n",
      "('count:', 1750)\n",
      "cat/\n",
      "Number of files in original directory : 3750\n",
      "num_files_to_move: 750\n",
      "('success:', 750)\n",
      "('error:', 0)\n",
      "('count:', 750)\n"
     ]
    }
   ],
   "source": [
    "#get list of files, randomly subset from list, move to valid. repeat for each category in categories list.\n",
    "#NB: test if destination directory is empty first to avoid repeating moves.\n",
    "\n",
    "for category in CATEGORIES:\n",
    "    moveList = dirFileList(TRAIN_PATH+category)\n",
    "    print (len(moveList), train_valid_fract, TRAIN_PATH+category, VALID_PATH+category)\n",
    "    #check if destination directory is empty to avoid repeat moves.\n",
    "    destFileList = dirFileList(VALID_PATH+category)\n",
    "    if len(destFileList)==0:\n",
    "        splitMoveCopyFiles(train_valid_fract, TRAIN_PATH+category, VALID_PATH+category, True)\n",
    "        # now select and _copy_ random files from TRAIN_PATH+category to SAMPLE_TRAIN_PATH+category\n",
    "        splitMoveCopyFiles(sample_fract, TRAIN_PATH+category, SAMPLE_TRAIN_PATH+category, False)\n",
    "        # now select and _copy_ random files from VALID_PATH+category to SAMPLE_VALID_PATH+category\n",
    "        splitMoveCopyFiles(sample_fract, VALID_PATH+category, SAMPLE_VALID_PATH+category, False)\n",
    "    else:\n",
    "        print \"files already in destination directory, do NOT move.\"\n",
    "\n",
    "    # now select and _copy_ random files from TRAIN_PATH+category to SAMPLE_TRAIN_PATH+category\n",
    "    splitMoveCopyFiles(sample_fract, TRAIN_PATH+category, SAMPLE_TRAIN_PATH+category, False)\n",
    "    # now select and _copy_ random files from VALID_PATH+category to SAMPLE_VALID_PATH+category\n",
    "    splitMoveCopyFiles(sample_fract, VALID_PATH+category, SAMPLE_VALID_PATH+category, False)\n"
   ]
  },
  {
   "cell_type": "code",
   "execution_count": 73,
   "metadata": {},
   "outputs": [
    {
     "name": "stdout",
     "output_type": "stream",
     "text": [
      "cat/\n",
      "Number of files in original directory : 12500\n",
      "num_files_to_move: 2500\n",
      "('success:', 2500)\n",
      "('error:', 0)\n",
      "('count:', 2500)\n"
     ]
    }
   ],
   "source": [
    "splitMoveCopyFiles(sample_fract, TEST_PATH+UNKNOWN, SAMPLE_TEST_PATH+UNKNOWN, False)"
   ]
  },
  {
   "cell_type": "code",
   "execution_count": 74,
   "metadata": {},
   "outputs": [
    {
     "name": "stdout",
     "output_type": "stream",
     "text": [
      "/home/ubuntu/fastai/data/Kaggle_dogs-vs-cats-redux-kernels-edition/ 3\n",
      "/home/ubuntu/fastai/data/Kaggle_dogs-vs-cats-redux-kernels-edition/models/ 0\n",
      "/home/ubuntu/fastai/data/Kaggle_dogs-vs-cats-redux-kernels-edition/results/ 0\n",
      "/home/ubuntu/fastai/data/Kaggle_dogs-vs-cats-redux-kernels-edition/sample/ 0\n",
      "/home/ubuntu/fastai/data/Kaggle_dogs-vs-cats-redux-kernels-edition/sample/test/ 0\n",
      "/home/ubuntu/fastai/data/Kaggle_dogs-vs-cats-redux-kernels-edition/sample/test/unknown/ 2500\n",
      "/home/ubuntu/fastai/data/Kaggle_dogs-vs-cats-redux-kernels-edition/sample/train/ 0\n",
      "/home/ubuntu/fastai/data/Kaggle_dogs-vs-cats-redux-kernels-edition/sample/train/cat/ 1750\n",
      "/home/ubuntu/fastai/data/Kaggle_dogs-vs-cats-redux-kernels-edition/sample/train/dog/ 1750\n",
      "/home/ubuntu/fastai/data/Kaggle_dogs-vs-cats-redux-kernels-edition/sample/valid/ 0\n",
      "/home/ubuntu/fastai/data/Kaggle_dogs-vs-cats-redux-kernels-edition/sample/valid/cat/ 750\n",
      "/home/ubuntu/fastai/data/Kaggle_dogs-vs-cats-redux-kernels-edition/sample/valid/dog/ 750\n",
      "/home/ubuntu/fastai/data/Kaggle_dogs-vs-cats-redux-kernels-edition/test/ 0\n",
      "/home/ubuntu/fastai/data/Kaggle_dogs-vs-cats-redux-kernels-edition/test/unknown/ 12500\n",
      "/home/ubuntu/fastai/data/Kaggle_dogs-vs-cats-redux-kernels-edition/train/ 0\n",
      "/home/ubuntu/fastai/data/Kaggle_dogs-vs-cats-redux-kernels-edition/train/cat/ 8750\n",
      "/home/ubuntu/fastai/data/Kaggle_dogs-vs-cats-redux-kernels-edition/train/dog/ 8750\n",
      "/home/ubuntu/fastai/data/Kaggle_dogs-vs-cats-redux-kernels-edition/valid/ 0\n",
      "/home/ubuntu/fastai/data/Kaggle_dogs-vs-cats-redux-kernels-edition/valid/cat/ 3750\n",
      "/home/ubuntu/fastai/data/Kaggle_dogs-vs-cats-redux-kernels-edition/valid/dog/ 3750\n"
     ]
    }
   ],
   "source": [
    "listDirsFileCount(DATA_DIR_LIST)"
   ]
  },
  {
   "cell_type": "markdown",
   "metadata": {},
   "source": [
    "Should look like this when done.  \n",
    "\n",
    "/home/ubuntu/fastai/data/Kaggle_dogs-vs-cats-redux-kernels-edition/ 3  \n",
    "/home/ubuntu/fastai/data/Kaggle_dogs-vs-cats-redux-kernels-edition/models/ 0  \n",
    "/home/ubuntu/fastai/data/Kaggle_dogs-vs-cats-redux-kernels-edition/results/ 0  \n",
    "/home/ubuntu/fastai/data/Kaggle_dogs-vs-cats-redux-kernels-edition/sample/ 0  \n",
    "/home/ubuntu/fastai/data/Kaggle_dogs-vs-cats-redux-kernels-edition/sample/test/ 0  \n",
    "/home/ubuntu/fastai/data/Kaggle_dogs-vs-cats-redux-kernels-edition/sample/test/unknown/ 2500  \n",
    "/home/ubuntu/fastai/data/Kaggle_dogs-vs-cats-redux-kernels-edition/sample/train/ 0  \n",
    "/home/ubuntu/fastai/data/Kaggle_dogs-vs-cats-redux-kernels-edition/sample/train/cat/ 1750  \n",
    "/home/ubuntu/fastai/data/Kaggle_dogs-vs-cats-redux-kernels-edition/sample/train/dog/ 1750  \n",
    "/home/ubuntu/fastai/data/Kaggle_dogs-vs-cats-redux-kernels-edition/sample/valid/ 0  \n",
    "/home/ubuntu/fastai/data/Kaggle_dogs-vs-cats-redux-kernels-edition/sample/valid/cat/ 750  \n",
    "/home/ubuntu/fastai/data/Kaggle_dogs-vs-cats-redux-kernels-edition/sample/valid/dog/ 750  \n",
    "/home/ubuntu/fastai/data/Kaggle_dogs-vs-cats-redux-kernels-edition/test/ 0  \n",
    "/home/ubuntu/fastai/data/Kaggle_dogs-vs-cats-redux-kernels-edition/test/unknown/ 12500  \n",
    "/home/ubuntu/fastai/data/Kaggle_dogs-vs-cats-redux-kernels-edition/train/ 0  \n",
    "/home/ubuntu/fastai/data/Kaggle_dogs-vs-cats-redux-kernels-edition/train/cat/ 8750  \n",
    "/home/ubuntu/fastai/data/Kaggle_dogs-vs-cats-redux-kernels-edition/train/dog/ 8750  \n",
    "/home/ubuntu/fastai/data/Kaggle_dogs-vs-cats-redux-kernels-edition/valid/ 0  \n",
    "/home/ubuntu/fastai/data/Kaggle_dogs-vs-cats-redux-kernels-edition/valid/cat/ 3750  \n",
    "/home/ubuntu/fastai/data/Kaggle_dogs-vs-cats-redux-kernels-edition/valid/dog/ 3750  "
   ]
  },
  {
   "cell_type": "code",
   "execution_count": null,
   "metadata": {},
   "outputs": [],
   "source": []
  }
 ],
 "metadata": {
  "kernelspec": {
   "display_name": "Python 2",
   "language": "python",
   "name": "python2"
  },
  "language_info": {
   "codemirror_mode": {
    "name": "ipython",
    "version": 2
   },
   "file_extension": ".py",
   "mimetype": "text/x-python",
   "name": "python",
   "nbconvert_exporter": "python",
   "pygments_lexer": "ipython2",
   "version": "2.7.12"
  }
 },
 "nbformat": 4,
 "nbformat_minor": 2
}
