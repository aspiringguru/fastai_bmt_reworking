{
 "cells": [
  {
   "cell_type": "code",
   "execution_count": null,
   "metadata": {},
   "outputs": [],
   "source": []
  },
  {
   "cell_type": "code",
   "execution_count": null,
   "metadata": {},
   "outputs": [],
   "source": []
  },
  {
   "cell_type": "code",
   "execution_count": 1,
   "metadata": {},
   "outputs": [],
   "source": [
    "#based on \n",
    "#https://github.com/flyyufelix/cnn_finetune/blob/master/vgg16.py"
   ]
  },
  {
   "cell_type": "code",
   "execution_count": 47,
   "metadata": {
    "scrolled": true
   },
   "outputs": [],
   "source": [
    "from keras.models import Sequential\n",
    "from keras.optimizers import SGD\n",
    "from keras.layers import Input, Dense, Convolution2D, MaxPooling2D, AveragePooling2D, ZeroPadding2D, Dropout, Flatten, merge, Reshape, Activation\n",
    "\n",
    "from sklearn.metrics import log_loss\n",
    "\n",
    "import cv2\n",
    "import numpy as np\n",
    "\n",
    "from keras.datasets import cifar10\n",
    "from keras import backend as K\n",
    "from keras.utils import np_utils\n",
    "\n",
    "from matplotlib import pyplot as plt\n",
    "%matplotlib inline"
   ]
  },
  {
   "cell_type": "code",
   "execution_count": 3,
   "metadata": {},
   "outputs": [],
   "source": [
    "nb_train_samples = 3000 # 3000 training samples\n",
    "nb_valid_samples = 100 # 100 validation samples\n",
    "num_classes = 10\n"
   ]
  },
  {
   "cell_type": "code",
   "execution_count": 12,
   "metadata": {},
   "outputs": [],
   "source": [
    "K.set_image_dim_ordering('th')"
   ]
  },
  {
   "cell_type": "code",
   "execution_count": 13,
   "metadata": {},
   "outputs": [],
   "source": [
    "def load_cifar10_data(img_rows, img_cols):\n",
    "\n",
    "    # Load cifar10 training and validation sets\n",
    "    (X_train, Y_train), (X_valid, Y_valid) = cifar10.load_data()\n",
    "\n",
    "    print (\"K.image_dim_ordering():\", K.image_dim_ordering())\n",
    "    # Resize trainging images\n",
    "    if K.image_dim_ordering() == 'th':\n",
    "        print(\"K.image_dim_ordering() == 'th'\")\n",
    "        X_train = np.array([cv2.resize(img.transpose(1,2,0), (img_rows,img_cols)).transpose(2,0,1) for img in X_train[:nb_train_samples,:,:,:]])\n",
    "        \n",
    "        X_valid = np.array([cv2.resize(img.transpose(1,2,0), (img_rows,img_cols)).transpose(2,0,1) for img in X_valid[:nb_valid_samples,:,:,:]])\n",
    "        \n",
    "    else:\n",
    "        print(\"K.image_dim_ordering() != 'th'\")\n",
    "        X_train = np.array([cv2.resize(img, (img_rows,img_cols)) for img in X_train[:nb_train_samples,:,:,:]])\n",
    "        X_valid = np.array([cv2.resize(img, (img_rows,img_cols)) for img in X_valid[:nb_valid_samples,:,:,:]])\n",
    "\n",
    "    print (\"load_cifar10_data: before np_utils.to_categorical\")\n",
    "    #\n",
    "    print (\"Y_train:\", type(Y_train), Y_train.shape)\n",
    "    print (\"Y_valid:\", type(Y_valid), Y_valid.shape)\n",
    "    # Transform targets to keras compatible format\n",
    "    Y_train = np_utils.to_categorical(Y_train[:nb_train_samples], num_classes)\n",
    "    Y_valid = np_utils.to_categorical(Y_valid[:nb_valid_samples], num_classes)\n",
    "\n",
    "    return X_train, Y_train, X_valid, Y_valid\n"
   ]
  },
  {
   "cell_type": "code",
   "execution_count": 60,
   "metadata": {},
   "outputs": [],
   "source": [
    "def showLayersInfo(model):\n",
    "    print (\"Number of layers : \", len(model.layers))\n",
    "    count = 0\n",
    "    for layer in model.layers:\n",
    "        print (count, type(layer), \", trainable:\", layer.trainable)\n",
    "        print (\"input:\", layer.input_shape, \", output:\",layer.output_shape, \"\\n\")\n",
    "        count +=1"
   ]
  },
  {
   "cell_type": "code",
   "execution_count": 37,
   "metadata": {},
   "outputs": [],
   "source": [
    "def vgg16_model(img_rows, img_cols, channel=1, num_classes=None):\n",
    "    \"\"\"VGG 16 Model for Keras\n",
    "    Model Schema is based on \n",
    "    https://gist.github.com/baraldilorenzo/07d7802847aaad0a35d3\n",
    "    ImageNet Pretrained Weights \n",
    "    https://drive.google.com/file/d/0Bz7KyqmuGsilT0J5dmRCM0ROVHc/view?usp=sharing\n",
    "    Parameters:\n",
    "      img_rows, img_cols - resolution of inputs\n",
    "      channel - 1 for grayscale, 3 for color \n",
    "      num_classes - number of categories for our classification task\n",
    "    \"\"\"\n",
    "    model = Sequential()\n",
    "    model.add(ZeroPadding2D((1, 1), input_shape=(channel, img_rows, img_cols)))\n",
    "    model.add(Convolution2D(64, 3, 3, activation='relu'))\n",
    "    model.add(ZeroPadding2D((1, 1)))\n",
    "    model.add(Convolution2D(64, 3, 3, activation='relu'))\n",
    "    model.add(MaxPooling2D((2, 2), strides=(2, 2)))\n",
    "\n",
    "    model.add(ZeroPadding2D((1, 1)))\n",
    "    model.add(Convolution2D(128, 3, 3, activation='relu'))\n",
    "    model.add(ZeroPadding2D((1, 1)))\n",
    "    model.add(Convolution2D(128, 3, 3, activation='relu'))\n",
    "    model.add(MaxPooling2D((2, 2), strides=(2, 2)))\n",
    "\n",
    "    model.add(ZeroPadding2D((1, 1)))\n",
    "    model.add(Convolution2D(256, 3, 3, activation='relu'))\n",
    "    model.add(ZeroPadding2D((1, 1)))\n",
    "    model.add(Convolution2D(256, 3, 3, activation='relu'))\n",
    "    model.add(ZeroPadding2D((1, 1)))\n",
    "    model.add(Convolution2D(256, 3, 3, activation='relu'))\n",
    "    model.add(MaxPooling2D((2, 2), strides=(2, 2)))\n",
    "\n",
    "    model.add(ZeroPadding2D((1, 1)))\n",
    "    model.add(Convolution2D(512, 3, 3, activation='relu'))\n",
    "    model.add(ZeroPadding2D((1, 1)))\n",
    "    model.add(Convolution2D(512, 3, 3, activation='relu'))\n",
    "    model.add(ZeroPadding2D((1, 1)))\n",
    "    model.add(Convolution2D(512, 3, 3, activation='relu'))\n",
    "    model.add(MaxPooling2D((2, 2), strides=(2, 2)))\n",
    "\n",
    "    model.add(ZeroPadding2D((1, 1)))\n",
    "    model.add(Convolution2D(512, 3, 3, activation='relu'))\n",
    "    model.add(ZeroPadding2D((1, 1)))\n",
    "    model.add(Convolution2D(512, 3, 3, activation='relu'))\n",
    "    model.add(ZeroPadding2D((1, 1)))\n",
    "    model.add(Convolution2D(512, 3, 3, activation='relu'))\n",
    "    model.add(MaxPooling2D((2, 2), strides=(2, 2)))\n",
    "\n",
    "    # Add Fully Connected Layer\n",
    "    model.add(Flatten())\n",
    "    model.add(Dense(4096, activation='relu'))\n",
    "    model.add(Dropout(0.5))\n",
    "    model.add(Dense(4096, activation='relu'))\n",
    "    model.add(Dropout(0.5))\n",
    "    model.add(Dense(1000, activation='softmax'))\n",
    "\n",
    "    # Loads ImageNet pre-trained data\n",
    "    model.load_weights('/home/ubuntu/fastai/vgg16.h5')\n",
    "    #model.load_weights('/home/ubuntu/fastai/vgg16_weights.h5')\n",
    "\n",
    "    # Truncate and replace softmax layer for transfer learning\n",
    "    model.layers.pop()\n",
    "    model.outputs = [model.layers[-1].output]\n",
    "    model.layers[-1].outbound_nodes = []\n",
    "    model.add(Dense(num_classes, activation='softmax'))\n",
    "\n",
    "    # Uncomment below to set the first 10 layers to non-trainable (weights will not be updated)\n",
    "    for layer in model.layers[:10]:\n",
    "        layer.trainable = False\n",
    "\n",
    "    # Learning rate is changed to 0.001\n",
    "    sgd = SGD(lr=1e-3, decay=1e-6, momentum=0.9, nesterov=True)\n",
    "    model.compile(optimizer=sgd, loss='categorical_crossentropy', metrics=['accuracy'])\n",
    "\n",
    "    return model"
   ]
  },
  {
   "cell_type": "code",
   "execution_count": 22,
   "metadata": {},
   "outputs": [],
   "source": [
    "# Example to fine-tune on 3000 samples from Cifar10\n",
    "\n",
    "img_rows, img_cols = 224, 224 # Resolution of inputs\n",
    "channel = 3\n",
    "num_classes = 10 \n",
    "batch_size = 16 \n",
    "nb_epoch = 10"
   ]
  },
  {
   "cell_type": "code",
   "execution_count": 23,
   "metadata": {},
   "outputs": [
    {
     "name": "stdout",
     "output_type": "stream",
     "text": [
      "('K.image_dim_ordering():', 'th')\n",
      "K.image_dim_ordering() == 'th'\n",
      "load_cifar10_data: before np_utils.to_categorical\n",
      "('Y_train:', <type 'numpy.ndarray'>, (50000, 1))\n",
      "('Y_valid:', <type 'numpy.ndarray'>, (10000, 1))\n"
     ]
    }
   ],
   "source": [
    "# Load Cifar10 data. Please implement your own load_data() module for your own dataset\n",
    "#def load_cifar10_data(img_rows, img_cols)\n",
    "#loads internally defined number of training samples\n",
    "#loads internally defined number of validation samples.\n",
    "#resize images to img_rows, img_cols\n",
    "#\n",
    "\n",
    "X_train, Y_train, X_valid, Y_valid = load_cifar10_data(img_rows, img_cols)"
   ]
  },
  {
   "cell_type": "code",
   "execution_count": 24,
   "metadata": {},
   "outputs": [
    {
     "name": "stdout",
     "output_type": "stream",
     "text": [
      "('X_train:', <type 'numpy.ndarray'>, (3000, 3, 224, 224))\n",
      "('Y_train:', <type 'numpy.ndarray'>, (3000, 10))\n",
      "('X_valid:', <type 'numpy.ndarray'>, (100, 3, 224, 224))\n",
      "('Y_valid:', <type 'numpy.ndarray'>, (100, 10))\n"
     ]
    }
   ],
   "source": [
    "print (\"X_train:\", type(X_train), X_train.shape)\n",
    "print (\"Y_train:\", type(Y_train), Y_train.shape)\n",
    "print (\"X_valid:\", type(X_valid), X_valid.shape)\n",
    "print (\"Y_valid:\", type(Y_valid), Y_valid.shape)"
   ]
  },
  {
   "cell_type": "code",
   "execution_count": 25,
   "metadata": {},
   "outputs": [
    {
     "data": {
      "text/plain": [
       "array([ 0.,  0.,  0.,  0.,  0.,  0.,  1.,  0.,  0.,  0.])"
      ]
     },
     "execution_count": 25,
     "metadata": {},
     "output_type": "execute_result"
    }
   ],
   "source": [
    "Y_train[0]"
   ]
  },
  {
   "cell_type": "code",
   "execution_count": 26,
   "metadata": {},
   "outputs": [
    {
     "data": {
      "text/plain": [
       "array([ 0.,  0.,  0.,  1.,  0.,  0.,  0.,  0.,  0.,  0.])"
      ]
     },
     "execution_count": 26,
     "metadata": {},
     "output_type": "execute_result"
    }
   ],
   "source": [
    "Y_valid[0]"
   ]
  },
  {
   "cell_type": "code",
   "execution_count": 38,
   "metadata": {},
   "outputs": [],
   "source": [
    "# Load our model\n",
    "model = vgg16_model(img_rows, img_cols, channel, num_classes)"
   ]
  },
  {
   "cell_type": "code",
   "execution_count": 39,
   "metadata": {},
   "outputs": [
    {
     "name": "stdout",
     "output_type": "stream",
     "text": [
      "____________________________________________________________________________________________________\n",
      "Layer (type)                     Output Shape          Param #     Connected to                     \n",
      "====================================================================================================\n",
      "zeropadding2d_40 (ZeroPadding2D) (None, 3, 226, 226)   0           zeropadding2d_input_4[0][0]      \n",
      "____________________________________________________________________________________________________\n",
      "convolution2d_40 (Convolution2D) (None, 64, 224, 224)  1792        zeropadding2d_40[0][0]           \n",
      "____________________________________________________________________________________________________\n",
      "zeropadding2d_41 (ZeroPadding2D) (None, 64, 226, 226)  0           convolution2d_40[0][0]           \n",
      "____________________________________________________________________________________________________\n",
      "convolution2d_41 (Convolution2D) (None, 64, 224, 224)  36928       zeropadding2d_41[0][0]           \n",
      "____________________________________________________________________________________________________\n",
      "maxpooling2d_16 (MaxPooling2D)   (None, 64, 112, 112)  0           convolution2d_41[0][0]           \n",
      "____________________________________________________________________________________________________\n",
      "zeropadding2d_42 (ZeroPadding2D) (None, 64, 114, 114)  0           maxpooling2d_16[0][0]            \n",
      "____________________________________________________________________________________________________\n",
      "convolution2d_42 (Convolution2D) (None, 128, 112, 112) 73856       zeropadding2d_42[0][0]           \n",
      "____________________________________________________________________________________________________\n",
      "zeropadding2d_43 (ZeroPadding2D) (None, 128, 114, 114) 0           convolution2d_42[0][0]           \n",
      "____________________________________________________________________________________________________\n",
      "convolution2d_43 (Convolution2D) (None, 128, 112, 112) 147584      zeropadding2d_43[0][0]           \n",
      "____________________________________________________________________________________________________\n",
      "maxpooling2d_17 (MaxPooling2D)   (None, 128, 56, 56)   0           convolution2d_43[0][0]           \n",
      "____________________________________________________________________________________________________\n",
      "zeropadding2d_44 (ZeroPadding2D) (None, 128, 58, 58)   0           maxpooling2d_17[0][0]            \n",
      "____________________________________________________________________________________________________\n",
      "convolution2d_44 (Convolution2D) (None, 256, 56, 56)   295168      zeropadding2d_44[0][0]           \n",
      "____________________________________________________________________________________________________\n",
      "zeropadding2d_45 (ZeroPadding2D) (None, 256, 58, 58)   0           convolution2d_44[0][0]           \n",
      "____________________________________________________________________________________________________\n",
      "convolution2d_45 (Convolution2D) (None, 256, 56, 56)   590080      zeropadding2d_45[0][0]           \n",
      "____________________________________________________________________________________________________\n",
      "zeropadding2d_46 (ZeroPadding2D) (None, 256, 58, 58)   0           convolution2d_45[0][0]           \n",
      "____________________________________________________________________________________________________\n",
      "convolution2d_46 (Convolution2D) (None, 256, 56, 56)   590080      zeropadding2d_46[0][0]           \n",
      "____________________________________________________________________________________________________\n",
      "maxpooling2d_18 (MaxPooling2D)   (None, 256, 28, 28)   0           convolution2d_46[0][0]           \n",
      "____________________________________________________________________________________________________\n",
      "zeropadding2d_47 (ZeroPadding2D) (None, 256, 30, 30)   0           maxpooling2d_18[0][0]            \n",
      "____________________________________________________________________________________________________\n",
      "convolution2d_47 (Convolution2D) (None, 512, 28, 28)   1180160     zeropadding2d_47[0][0]           \n",
      "____________________________________________________________________________________________________\n",
      "zeropadding2d_48 (ZeroPadding2D) (None, 512, 30, 30)   0           convolution2d_47[0][0]           \n",
      "____________________________________________________________________________________________________\n",
      "convolution2d_48 (Convolution2D) (None, 512, 28, 28)   2359808     zeropadding2d_48[0][0]           \n",
      "____________________________________________________________________________________________________\n",
      "zeropadding2d_49 (ZeroPadding2D) (None, 512, 30, 30)   0           convolution2d_48[0][0]           \n",
      "____________________________________________________________________________________________________\n",
      "convolution2d_49 (Convolution2D) (None, 512, 28, 28)   2359808     zeropadding2d_49[0][0]           \n",
      "____________________________________________________________________________________________________\n",
      "maxpooling2d_19 (MaxPooling2D)   (None, 512, 14, 14)   0           convolution2d_49[0][0]           \n",
      "____________________________________________________________________________________________________\n",
      "zeropadding2d_50 (ZeroPadding2D) (None, 512, 16, 16)   0           maxpooling2d_19[0][0]            \n",
      "____________________________________________________________________________________________________\n",
      "convolution2d_50 (Convolution2D) (None, 512, 14, 14)   2359808     zeropadding2d_50[0][0]           \n",
      "____________________________________________________________________________________________________\n",
      "zeropadding2d_51 (ZeroPadding2D) (None, 512, 16, 16)   0           convolution2d_50[0][0]           \n",
      "____________________________________________________________________________________________________\n",
      "convolution2d_51 (Convolution2D) (None, 512, 14, 14)   2359808     zeropadding2d_51[0][0]           \n",
      "____________________________________________________________________________________________________\n",
      "zeropadding2d_52 (ZeroPadding2D) (None, 512, 16, 16)   0           convolution2d_51[0][0]           \n",
      "____________________________________________________________________________________________________\n",
      "convolution2d_52 (Convolution2D) (None, 512, 14, 14)   2359808     zeropadding2d_52[0][0]           \n",
      "____________________________________________________________________________________________________\n",
      "maxpooling2d_20 (MaxPooling2D)   (None, 512, 7, 7)     0           convolution2d_52[0][0]           \n",
      "____________________________________________________________________________________________________\n",
      "flatten_4 (Flatten)              (None, 25088)         0           maxpooling2d_20[0][0]            \n",
      "____________________________________________________________________________________________________\n",
      "dense_8 (Dense)                  (None, 4096)          102764544   flatten_4[0][0]                  \n",
      "____________________________________________________________________________________________________\n",
      "dropout_5 (Dropout)              (None, 4096)          0           dense_8[0][0]                    \n",
      "____________________________________________________________________________________________________\n",
      "dense_9 (Dense)                  (None, 4096)          16781312    dropout_5[0][0]                  \n",
      "____________________________________________________________________________________________________\n",
      "dropout_6 (Dropout)              (None, 4096)          0           dense_9[0][0]                    \n",
      "____________________________________________________________________________________________________\n",
      "dense_11 (Dense)                 (None, 10)            40970       dropout_6[0][0]                  \n",
      "====================================================================================================\n",
      "Total params: 134,301,514\n",
      "Trainable params: 134,041,354\n",
      "Non-trainable params: 260,160\n",
      "____________________________________________________________________________________________________\n"
     ]
    }
   ],
   "source": [
    "model.summary()"
   ]
  },
  {
   "cell_type": "code",
   "execution_count": 61,
   "metadata": {},
   "outputs": [
    {
     "name": "stdout",
     "output_type": "stream",
     "text": [
      "('Number of layers : ', 37)\n",
      "(0, <class 'keras.layers.convolutional.ZeroPadding2D'>, ', trainable:', False)\n",
      "('input:', (None, 3, 224, 224), ', output:', (None, 3, 226, 226), '\\n')\n",
      "(1, <class 'keras.layers.convolutional.Convolution2D'>, ', trainable:', False)\n",
      "('input:', (None, 3, 226, 226), ', output:', (None, 64, 224, 224), '\\n')\n",
      "(2, <class 'keras.layers.convolutional.ZeroPadding2D'>, ', trainable:', False)\n",
      "('input:', (None, 64, 224, 224), ', output:', (None, 64, 226, 226), '\\n')\n",
      "(3, <class 'keras.layers.convolutional.Convolution2D'>, ', trainable:', False)\n",
      "('input:', (None, 64, 226, 226), ', output:', (None, 64, 224, 224), '\\n')\n",
      "(4, <class 'keras.layers.pooling.MaxPooling2D'>, ', trainable:', False)\n",
      "('input:', (None, 64, 224, 224), ', output:', (None, 64, 112, 112), '\\n')\n",
      "(5, <class 'keras.layers.convolutional.ZeroPadding2D'>, ', trainable:', False)\n",
      "('input:', (None, 64, 112, 112), ', output:', (None, 64, 114, 114), '\\n')\n",
      "(6, <class 'keras.layers.convolutional.Convolution2D'>, ', trainable:', False)\n",
      "('input:', (None, 64, 114, 114), ', output:', (None, 128, 112, 112), '\\n')\n",
      "(7, <class 'keras.layers.convolutional.ZeroPadding2D'>, ', trainable:', False)\n",
      "('input:', (None, 128, 112, 112), ', output:', (None, 128, 114, 114), '\\n')\n",
      "(8, <class 'keras.layers.convolutional.Convolution2D'>, ', trainable:', False)\n",
      "('input:', (None, 128, 114, 114), ', output:', (None, 128, 112, 112), '\\n')\n",
      "(9, <class 'keras.layers.pooling.MaxPooling2D'>, ', trainable:', False)\n",
      "('input:', (None, 128, 112, 112), ', output:', (None, 128, 56, 56), '\\n')\n",
      "(10, <class 'keras.layers.convolutional.ZeroPadding2D'>, ', trainable:', True)\n",
      "('input:', (None, 128, 56, 56), ', output:', (None, 128, 58, 58), '\\n')\n",
      "(11, <class 'keras.layers.convolutional.Convolution2D'>, ', trainable:', True)\n",
      "('input:', (None, 128, 58, 58), ', output:', (None, 256, 56, 56), '\\n')\n",
      "(12, <class 'keras.layers.convolutional.ZeroPadding2D'>, ', trainable:', True)\n",
      "('input:', (None, 256, 56, 56), ', output:', (None, 256, 58, 58), '\\n')\n",
      "(13, <class 'keras.layers.convolutional.Convolution2D'>, ', trainable:', True)\n",
      "('input:', (None, 256, 58, 58), ', output:', (None, 256, 56, 56), '\\n')\n",
      "(14, <class 'keras.layers.convolutional.ZeroPadding2D'>, ', trainable:', True)\n",
      "('input:', (None, 256, 56, 56), ', output:', (None, 256, 58, 58), '\\n')\n",
      "(15, <class 'keras.layers.convolutional.Convolution2D'>, ', trainable:', True)\n",
      "('input:', (None, 256, 58, 58), ', output:', (None, 256, 56, 56), '\\n')\n",
      "(16, <class 'keras.layers.pooling.MaxPooling2D'>, ', trainable:', True)\n",
      "('input:', (None, 256, 56, 56), ', output:', (None, 256, 28, 28), '\\n')\n",
      "(17, <class 'keras.layers.convolutional.ZeroPadding2D'>, ', trainable:', True)\n",
      "('input:', (None, 256, 28, 28), ', output:', (None, 256, 30, 30), '\\n')\n",
      "(18, <class 'keras.layers.convolutional.Convolution2D'>, ', trainable:', True)\n",
      "('input:', (None, 256, 30, 30), ', output:', (None, 512, 28, 28), '\\n')\n",
      "(19, <class 'keras.layers.convolutional.ZeroPadding2D'>, ', trainable:', True)\n",
      "('input:', (None, 512, 28, 28), ', output:', (None, 512, 30, 30), '\\n')\n",
      "(20, <class 'keras.layers.convolutional.Convolution2D'>, ', trainable:', True)\n",
      "('input:', (None, 512, 30, 30), ', output:', (None, 512, 28, 28), '\\n')\n",
      "(21, <class 'keras.layers.convolutional.ZeroPadding2D'>, ', trainable:', True)\n",
      "('input:', (None, 512, 28, 28), ', output:', (None, 512, 30, 30), '\\n')\n",
      "(22, <class 'keras.layers.convolutional.Convolution2D'>, ', trainable:', True)\n",
      "('input:', (None, 512, 30, 30), ', output:', (None, 512, 28, 28), '\\n')\n",
      "(23, <class 'keras.layers.pooling.MaxPooling2D'>, ', trainable:', True)\n",
      "('input:', (None, 512, 28, 28), ', output:', (None, 512, 14, 14), '\\n')\n",
      "(24, <class 'keras.layers.convolutional.ZeroPadding2D'>, ', trainable:', True)\n",
      "('input:', (None, 512, 14, 14), ', output:', (None, 512, 16, 16), '\\n')\n",
      "(25, <class 'keras.layers.convolutional.Convolution2D'>, ', trainable:', True)\n",
      "('input:', (None, 512, 16, 16), ', output:', (None, 512, 14, 14), '\\n')\n",
      "(26, <class 'keras.layers.convolutional.ZeroPadding2D'>, ', trainable:', True)\n",
      "('input:', (None, 512, 14, 14), ', output:', (None, 512, 16, 16), '\\n')\n",
      "(27, <class 'keras.layers.convolutional.Convolution2D'>, ', trainable:', True)\n",
      "('input:', (None, 512, 16, 16), ', output:', (None, 512, 14, 14), '\\n')\n",
      "(28, <class 'keras.layers.convolutional.ZeroPadding2D'>, ', trainable:', True)\n",
      "('input:', (None, 512, 14, 14), ', output:', (None, 512, 16, 16), '\\n')\n",
      "(29, <class 'keras.layers.convolutional.Convolution2D'>, ', trainable:', True)\n",
      "('input:', (None, 512, 16, 16), ', output:', (None, 512, 14, 14), '\\n')\n",
      "(30, <class 'keras.layers.pooling.MaxPooling2D'>, ', trainable:', True)\n",
      "('input:', (None, 512, 14, 14), ', output:', (None, 512, 7, 7), '\\n')\n",
      "(31, <class 'keras.layers.core.Flatten'>, ', trainable:', True)\n",
      "('input:', (None, 512, 7, 7), ', output:', (None, 25088), '\\n')\n",
      "(32, <class 'keras.layers.core.Dense'>, ', trainable:', True)\n",
      "('input:', (None, 25088), ', output:', (None, 4096), '\\n')\n",
      "(33, <class 'keras.layers.core.Dropout'>, ', trainable:', True)\n",
      "('input:', (None, 4096), ', output:', (None, 4096), '\\n')\n",
      "(34, <class 'keras.layers.core.Dense'>, ', trainable:', True)\n",
      "('input:', (None, 4096), ', output:', (None, 4096), '\\n')\n",
      "(35, <class 'keras.layers.core.Dropout'>, ', trainable:', True)\n",
      "('input:', (None, 4096), ', output:', (None, 4096), '\\n')\n",
      "(36, <class 'keras.layers.core.Dense'>, ', trainable:', True)\n",
      "('input:', (None, 4096), ', output:', (None, 10), '\\n')\n"
     ]
    }
   ],
   "source": [
    "showLayersInfo(model)"
   ]
  },
  {
   "cell_type": "code",
   "execution_count": 49,
   "metadata": {},
   "outputs": [],
   "source": [
    "def plot_history(histories):\n",
    "    #histories : list of history objects. nb: history.history dictionary structure\n",
    "    print (\"len(histories):\", len(histories))\n",
    "    '''\n",
    "    if len(histories)==1: \n",
    "        history = histories\n",
    "        #needs fix\n",
    "    else:\n",
    "        #create empty history to copy into\n",
    "        history = {}\n",
    "        for i in histories[0].history.keys():\n",
    "            history[i] = []\n",
    "        #now combine all history[key] lists into one history[key] list.\n",
    "        for hist in histories:\n",
    "            for key in history.keys():\n",
    "                history[key] += hist.history[key]\n",
    "                #print (key, len(hist.history[key]), len(history[key]))\n",
    "    '''\n",
    "    #create empty history to copy into\n",
    "    history = {}\n",
    "    for i in histories[0].history.keys():\n",
    "        history[i] = []\n",
    "    #now combine all history[key] lists into one history[key] list.\n",
    "    for hist in histories:\n",
    "        for key in history.keys():\n",
    "            history[key] += hist.history[key]\n",
    "            #print (key, len(hist.history[key]), len(history[key]))\n",
    "\n",
    "    # list all data in history\n",
    "    print(history.keys(), len(history[history.keys()[0]]))\n",
    "    for key in history.keys():\n",
    "        print (key, \":\", history[key][-1])\n",
    "\n",
    "    # summarize history for accuracy\n",
    "    plt.plot(history['acc'])\n",
    "    plt.plot(history['val_acc'])\n",
    "    plt.title('model accuracy')\n",
    "    plt.ylabel('accuracy')\n",
    "    plt.xlabel('epoch')\n",
    "    plt.legend(['train', 'validate'], loc='upper left')\n",
    "    plt.show()\n",
    "    # summarize history for loss\n",
    "    plt.plot(history['loss'])\n",
    "    plt.plot(history['val_loss'])\n",
    "    plt.title('model loss')\n",
    "    plt.ylabel('loss')\n",
    "    plt.xlabel('epoch')\n",
    "    plt.legend(['train', 'validate'], loc='upper left')\n",
    "    plt.show()"
   ]
  },
  {
   "cell_type": "code",
   "execution_count": 43,
   "metadata": {},
   "outputs": [
    {
     "name": "stderr",
     "output_type": "stream",
     "text": [
      "INFO (theano.gof.compilelock): Refreshing lock /home/ubuntu/.theano/compiledir_Linux-4.4--aws-x86_64-with-Ubuntu-16.04-xenial-x86_64-2.7.12-64/lock_dir/lock\n"
     ]
    },
    {
     "name": "stdout",
     "output_type": "stream",
     "text": [
      "Train on 3000 samples, validate on 100 samples\n",
      "Epoch 1/10\n",
      "3000/3000 [==============================] - 176s - loss: 2.1332 - acc: 0.2707 - val_loss: 1.2079 - val_acc: 0.5200\n",
      "Epoch 2/10\n",
      "3000/3000 [==============================] - 178s - loss: 1.1012 - acc: 0.6113 - val_loss: 1.0968 - val_acc: 0.5800\n",
      "Epoch 3/10\n",
      "3000/3000 [==============================] - 178s - loss: 0.6678 - acc: 0.7643 - val_loss: 0.8331 - val_acc: 0.7500\n",
      "Epoch 4/10\n",
      "3000/3000 [==============================] - 178s - loss: 0.3976 - acc: 0.8683 - val_loss: 0.8138 - val_acc: 0.7000\n",
      "Epoch 5/10\n",
      "3000/3000 [==============================] - 178s - loss: 0.2162 - acc: 0.9303 - val_loss: 1.0817 - val_acc: 0.7000\n",
      "Epoch 6/10\n",
      "3000/3000 [==============================] - 178s - loss: 0.2247 - acc: 0.9223 - val_loss: 0.6467 - val_acc: 0.7800\n",
      "Epoch 7/10\n",
      "3000/3000 [==============================] - 178s - loss: 0.1236 - acc: 0.9607 - val_loss: 0.7323 - val_acc: 0.7500\n",
      "Epoch 8/10\n",
      "3000/3000 [==============================] - 176s - loss: 0.1378 - acc: 0.9523 - val_loss: 0.6325 - val_acc: 0.8200\n",
      "Epoch 9/10\n",
      "3000/3000 [==============================] - 175s - loss: 0.1051 - acc: 0.9683 - val_loss: 1.1965 - val_acc: 0.7200\n",
      "Epoch 10/10\n",
      "3000/3000 [==============================] - 175s - loss: 0.1076 - acc: 0.9653 - val_loss: 1.1035 - val_acc: 0.7400\n"
     ]
    }
   ],
   "source": [
    "# Start Fine-tuning (train pre-trained model using new input data and some layers set to non-trainable.)\n",
    "history1 = model.fit(X_train, Y_train,\n",
    "          batch_size=batch_size,\n",
    "          nb_epoch=nb_epoch,\n",
    "          shuffle=True,\n",
    "          verbose=1,\n",
    "          validation_data=(X_valid, Y_valid),\n",
    "          )"
   ]
  },
  {
   "cell_type": "code",
   "execution_count": 44,
   "metadata": {},
   "outputs": [
    {
     "name": "stdout",
     "output_type": "stream",
     "text": [
      "Train on 3000 samples, validate on 100 samples\n",
      "Epoch 1/1\n",
      "3000/3000 [==============================] - 173s - loss: 0.0797 - acc: 0.9740 - val_loss: 1.0697 - val_acc: 0.7700\n"
     ]
    }
   ],
   "source": [
    "history2 = model.fit(X_train, Y_train,\n",
    "          batch_size=batch_size,\n",
    "          nb_epoch=1,\n",
    "          shuffle=True,\n",
    "          verbose=1,\n",
    "          validation_data=(X_valid, Y_valid),\n",
    "          )"
   ]
  },
  {
   "cell_type": "code",
   "execution_count": 50,
   "metadata": {
    "scrolled": true
   },
   "outputs": [
    {
     "name": "stdout",
     "output_type": "stream",
     "text": [
      "('len(histories):', 2)\n",
      "(['acc', 'loss', 'val_acc', 'val_loss'], 11)\n",
      "('acc', ':', 0.97399999999999998)\n",
      "('loss', ':', 0.07971103084630643)\n",
      "('val_acc', ':', 0.77000000000000002)\n",
      "('val_loss', ':', 1.0697356128692628)\n"
     ]
    },
    {
     "data": {
      "image/png": "[encoded data removed]",
      "text/plain": [
       "<matplotlib.figure.Figure at 0x7f7695698290>"
      ]
     },
     "metadata": {},
     "output_type": "display_data"
    },
    {
     "data": {
      "image/png": "[encoded data removed]",
      "text/plain": [
       "<matplotlib.figure.Figure at 0x7f7689bda290>"
      ]
     },
     "metadata": {},
     "output_type": "display_data"
    }
   ],
   "source": [
    "plot_history([history1, history2])"
   ]
  },
  {
   "cell_type": "code",
   "execution_count": 62,
   "metadata": {},
   "outputs": [
    {
     "name": "stdout",
     "output_type": "stream",
     "text": [
      "Train on 3000 samples, validate on 100 samples\n",
      "Epoch 1/10\n",
      "3000/3000 [==============================] - 176s - loss: 0.0812 - acc: 0.9753 - val_loss: 0.8673 - val_acc: 0.8200\n",
      "Epoch 2/10\n",
      "3000/3000 [==============================] - 178s - loss: 0.0566 - acc: 0.9850 - val_loss: 0.9405 - val_acc: 0.7400\n",
      "Epoch 3/10\n",
      "3000/3000 [==============================] - 177s - loss: 0.0225 - acc: 0.9937 - val_loss: 0.8218 - val_acc: 0.8100\n",
      "Epoch 4/10\n",
      "3000/3000 [==============================] - 177s - loss: 0.0181 - acc: 0.9957 - val_loss: 0.9937 - val_acc: 0.8000\n",
      "Epoch 5/10\n",
      "3000/3000 [==============================] - 177s - loss: 0.0263 - acc: 0.9913 - val_loss: 0.8338 - val_acc: 0.7900\n",
      "Epoch 6/10\n",
      "3000/3000 [==============================] - 177s - loss: 0.0148 - acc: 0.9967 - val_loss: 0.9732 - val_acc: 0.7900\n",
      "Epoch 7/10\n",
      "3000/3000 [==============================] - 177s - loss: 0.0016 - acc: 0.9997 - val_loss: 0.7611 - val_acc: 0.8500\n",
      "Epoch 8/10\n",
      "3000/3000 [==============================] - 177s - loss: 3.8551e-04 - acc: 1.0000 - val_loss: 0.7847 - val_acc: 0.8500\n",
      "Epoch 9/10\n",
      "3000/3000 [==============================] - 176s - loss: 3.2066e-04 - acc: 1.0000 - val_loss: 0.7990 - val_acc: 0.8400\n",
      "Epoch 10/10\n",
      "3000/3000 [==============================] - 176s - loss: 2.0551e-04 - acc: 1.0000 - val_loss: 0.7863 - val_acc: 0.8500\n"
     ]
    }
   ],
   "source": [
    "# Start Fine-tuning (train pre-trained model using new input data and some layers set to non-trainable.)\n",
    "history3 = model.fit(X_train, Y_train,\n",
    "          batch_size=batch_size,\n",
    "          nb_epoch=nb_epoch,\n",
    "          shuffle=True,\n",
    "          verbose=1,\n",
    "          validation_data=(X_valid, Y_valid),\n",
    "          )"
   ]
  },
  {
   "cell_type": "code",
   "execution_count": 63,
   "metadata": {},
   "outputs": [
    {
     "name": "stdout",
     "output_type": "stream",
     "text": [
      "('len(histories):', 3)\n",
      "(['acc', 'loss', 'val_acc', 'val_loss'], 21)\n",
      "('acc', ':', 1.0)\n",
      "('loss', ':', 0.00020551136513374029)\n",
      "('val_acc', ':', 0.84999999999999998)\n",
      "('val_loss', ':', 0.78627155303955076)\n"
     ]
    },
    {
     "data": {
      "image/png": "[encoded data removed]",
      "text/plain": [
       "<matplotlib.figure.Figure at 0x7f76899795d0>"
      ]
     },
     "metadata": {},
     "output_type": "display_data"
    },
    {
     "data": {
      "image/png": "[encoded data removed]",
      "text/plain": [
       "<matplotlib.figure.Figure at 0x7f7689c10fd0>"
      ]
     },
     "metadata": {},
     "output_type": "display_data"
    }
   ],
   "source": [
    "plot_history([history1, history2, history3])"
   ]
  },
  {
   "cell_type": "code",
   "execution_count": 54,
   "metadata": {},
   "outputs": [
    {
     "name": "stdout",
     "output_type": "stream",
     "text": [
      "100/100 [==============================] - 2s     \n"
     ]
    }
   ],
   "source": [
    "# Make predictions\n",
    "predictions_valid = model.predict(X_valid, batch_size=batch_size, verbose=1)"
   ]
  },
  {
   "cell_type": "code",
   "execution_count": 55,
   "metadata": {},
   "outputs": [],
   "source": [
    "# Cross-entropy loss score\n",
    "score = log_loss(Y_valid, predictions_valid)\n"
   ]
  },
  {
   "cell_type": "code",
   "execution_count": 56,
   "metadata": {},
   "outputs": [
    {
     "data": {
      "text/plain": [
       "1.0739758813100466"
      ]
     },
     "execution_count": 56,
     "metadata": {},
     "output_type": "execute_result"
    }
   ],
   "source": [
    "score"
   ]
  },
  {
   "cell_type": "code",
   "execution_count": 57,
   "metadata": {},
   "outputs": [
    {
     "name": "stdout",
     "output_type": "stream",
     "text": [
      "100/100 [==============================] - 2s     \n"
     ]
    },
    {
     "data": {
      "text/plain": [
       "[1.0697356128692628, 0.77000000000000002]"
      ]
     },
     "execution_count": 57,
     "metadata": {},
     "output_type": "execute_result"
    }
   ],
   "source": [
    "model.evaluate(x=X_valid, y=Y_valid, batch_size=batch_size, verbose=1, sample_weight=None)"
   ]
  },
  {
   "cell_type": "code",
   "execution_count": 58,
   "metadata": {},
   "outputs": [
    {
     "data": {
      "text/plain": [
       "['loss', 'acc']"
      ]
     },
     "execution_count": 58,
     "metadata": {},
     "output_type": "execute_result"
    }
   ],
   "source": [
    "model.metrics_names"
   ]
  },
  {
   "cell_type": "code",
   "execution_count": null,
   "metadata": {},
   "outputs": [],
   "source": []
  }
 ],
 "metadata": {
  "kernelspec": {
   "display_name": "Python 2",
   "language": "python",
   "name": "python2"
  },
  "language_info": {
   "codemirror_mode": {
    "name": "ipython",
    "version": 2
   },
   "file_extension": ".py",
   "mimetype": "text/x-python",
   "name": "python",
   "nbconvert_exporter": "python",
   "pygments_lexer": "ipython2",
   "version": "2.7.12"
  }
 },
 "nbformat": 4,
 "nbformat_minor": 2
}
