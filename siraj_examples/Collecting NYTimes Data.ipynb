{
 "cells": [
  {
   "cell_type": "code",
   "execution_count": 1,
   "metadata": {},
   "outputs": [],
   "source": [
    "#originally from https://github.com/llSourcell/Stock_Market_Prediction/blob/master/Collecting%20NYTimes%20Data.py"
   ]
  },
  {
   "cell_type": "code",
   "execution_count": 69,
   "metadata": {},
   "outputs": [],
   "source": [
    "import requests\n",
    "apiKey = '781254031b6a47bda2f69db40cc1b4b8'"
   ]
  },
  {
   "cell_type": "code",
   "execution_count": 70,
   "metadata": {},
   "outputs": [],
   "source": [
    "url = ('https://newsapi.org/v2/top-headlines?sources=bbc-news&apiKey='+apiKey)\n",
    "#url = ('https://newsapi.org/v2/top-headlines?apiKey='+apiKey)\n"
   ]
  },
  {
   "cell_type": "code",
   "execution_count": 53,
   "metadata": {},
   "outputs": [],
   "source": [
    "response = requests.get(url)"
   ]
  },
  {
   "cell_type": "code",
   "execution_count": 54,
   "metadata": {},
   "outputs": [
    {
     "data": {
      "text/plain": [
       "requests.models.Response"
      ]
     },
     "execution_count": 54,
     "metadata": {},
     "output_type": "execute_result"
    }
   ],
   "source": [
    "type(response)"
   ]
  },
  {
   "cell_type": "code",
   "execution_count": 36,
   "metadata": {},
   "outputs": [
    {
     "data": {
      "text/plain": [
       "dict"
      ]
     },
     "execution_count": 36,
     "metadata": {},
     "output_type": "execute_result"
    }
   ],
   "source": [
    "type(response.json())"
   ]
  },
  {
   "cell_type": "code",
   "execution_count": 38,
   "metadata": {},
   "outputs": [
    {
     "data": {
      "text/plain": [
       "[u'status', u'articles', u'totalResults']"
      ]
     },
     "execution_count": 38,
     "metadata": {},
     "output_type": "execute_result"
    }
   ],
   "source": [
    "response.json().keys()\n",
    "#[u'status', u'articles', u'totalResults']\n",
    "#"
   ]
  },
  {
   "cell_type": "code",
   "execution_count": 39,
   "metadata": {},
   "outputs": [
    {
     "data": {
      "text/plain": [
       "list"
      ]
     },
     "execution_count": 39,
     "metadata": {},
     "output_type": "execute_result"
    }
   ],
   "source": [
    "type(response.json()['articles'])"
   ]
  },
  {
   "cell_type": "code",
   "execution_count": 40,
   "metadata": {},
   "outputs": [
    {
     "data": {
      "text/plain": [
       "{u'author': u'BBC News',\n",
       " u'description': u'A dinghy carrying people attempting to reach Europe sank off the coast of Libya.',\n",
       " u'publishedAt': u'2018-01-07T05:03:47Z',\n",
       " u'source': {u'id': u'bbc-news', u'name': u'BBC News'},\n",
       " u'title': u\"Migrants drown in year's 'first shipwreck'\",\n",
       " u'url': u'http://www.bbc.co.uk/news/world-africa-42594159',\n",
       " u'urlToImage': u'https://ichef.bbci.co.uk/news/1024/cpsprodpb/AC7F/production/_99495144_p05t253s.jpg'}"
      ]
     },
     "execution_count": 40,
     "metadata": {},
     "output_type": "execute_result"
    }
   ],
   "source": [
    "response.json()['articles'][0]"
   ]
  },
  {
   "cell_type": "code",
   "execution_count": 41,
   "metadata": {},
   "outputs": [
    {
     "data": {
      "text/plain": [
       "[u'description',\n",
       " u'title',\n",
       " u'url',\n",
       " u'author',\n",
       " u'publishedAt',\n",
       " u'source',\n",
       " u'urlToImage']"
      ]
     },
     "execution_count": 41,
     "metadata": {},
     "output_type": "execute_result"
    }
   ],
   "source": [
    "response.json()['articles'][0].keys()"
   ]
  },
  {
   "cell_type": "code",
   "execution_count": 43,
   "metadata": {},
   "outputs": [
    {
     "name": "stdout",
     "output_type": "stream",
     "text": [
      "A dinghy carrying people attempting to reach Europe sank off the coast of Libya.\n",
      "The divisive former Peruvian leader made some of his first comments since being pardoned.\n",
      "Jerry Van Dyke, who won four Emmy nominations for the US sitcom Coach, dies at home in Arkansas.\n",
      "The 75th Golden Globes is the first major ceremony since Hollywood was hit by sex scandals.\n",
      "The presidents of Russia and Egypt joined worshippers at Orthodox Christmas Mass.\n",
      "The attack took place in Casamance, a region that has seen a long-running armed conflict.\n",
      "He was the only person to have flown missions on the Gemini, Apollo and space shuttle programmes.\n",
      "Barcelona will sign Liverpool midfielder Philippe Coutinho in a £142m deal, one of the most expensive transfers of all time.\n",
      "The group were angered by the Saudi government's anti-austerity drive, local media report.\n",
      "The key meeting takes place as a row continues over a new tell-all book about Mr Trump's presidency.\n"
     ]
    }
   ],
   "source": [
    "for i in range(len(response.json()['articles'])):\n",
    "    print (response.json()['articles'][i]['description'])"
   ]
  },
  {
   "cell_type": "code",
   "execution_count": 17,
   "metadata": {
    "scrolled": true
   },
   "outputs": [
    {
     "name": "stdout",
     "output_type": "stream",
     "text": [
      "{u'status': u'ok', u'articles': [{u'description': u'The divisive former Peruvian leader made some of his first comments since being pardoned.', u'title': u'Ex-President Fujimori calls for unity', u'url': u'http://www.bbc.co.uk/news/world-latin-america-42594461', u'author': u'BBC News', u'publishedAt': u'2018-01-07T02:34:49Z', u'source': {u'id': u'bbc-news', u'name': u'BBC News'}, u'urlToImage': u'https://ichef.bbci.co.uk/news/1024/cpsprodpb/2B82/production/_99483111_hi043846994.jpg'}, {u'description': u'Jerry Van Dyke, who won four Emmy nominations for the US sitcom Coach, dies at home in Arkansas.', u'title': u'Coach actor Jerry Van Dyke dies at 86', u'url': u'http://www.bbc.co.uk/news/world-us-canada-42594242', u'author': u'BBC News', u'publishedAt': u'2018-01-07T00:33:26Z', u'source': {u'id': u'bbc-news', u'name': u'BBC News'}, u'urlToImage': u'https://ichef-1.bbci.co.uk/news/1024/cpsprodpb/8439/production/_99494833_vandyke.jpg'}, {u'description': u'The 75th Golden Globes is the first major ceremony since Hollywood was hit by sex scandals.', u'title': u'Hollywood awaits Golden Globe protests', u'url': u'http://www.bbc.co.uk/news/entertainment-arts-42569524', u'author': u'BBC News', u'publishedAt': u'2018-01-07T00:17:17Z', u'source': {u'id': u'bbc-news', u'name': u'BBC News'}, u'urlToImage': u'https://ichef-1.bbci.co.uk/news/1024/cpsprodpb/94AA/production/_99485083_reese-daniel-getty.jpg'}, {u'description': u'The presidents of Russia and Egypt joined worshippers at Orthodox Christmas Mass.', u'title': u'Orthodox Christmas celebrated', u'url': u'http://www.bbc.co.uk/news/world-42593128', u'author': u'BBC News', u'publishedAt': u'2018-01-06T23:26:01Z', u'source': {u'id': u'bbc-news', u'name': u'BBC News'}, u'urlToImage': u'https://ichef-1.bbci.co.uk/news/1024/cpsprodpb/10BC5/production/_99494586_p05t1ft9.jpg'}, {u'description': u'The attack took place in Casamance, a region that has seen a long-running armed conflict.', u'title': u'Thirteen dead in south Senegal attack', u'url': u'http://www.bbc.co.uk/news/world-africa-42592788', u'author': u'BBC News', u'publishedAt': u'2018-01-06T21:43:24Z', u'source': {u'id': u'bbc-news', u'name': u'BBC News'}, u'urlToImage': u'https://ichef-1.bbci.co.uk/news/1024/cpsprodpb/1A3F/production/_99491760_gettyimages-81126093.jpg'}, {u'description': u'He was the only person to have flown missions on the Gemini, Apollo and space shuttle programmes.', u'title': u'US astronaut John Young dies aged 87', u'url': u'http://www.bbc.co.uk/news/world-us-canada-42592057', u'author': u'BBC News', u'publishedAt': u'2018-01-06T19:51:01Z', u'source': {u'id': u'bbc-news', u'name': u'BBC News'}, u'urlToImage': u'https://ichef-1.bbci.co.uk/news/1024/cpsprodpb/12D5D/production/_99494177_043874012.jpg'}, {u'description': u'Barcelona will sign Liverpool midfielder Philippe Coutinho in a \\xa3142m deal, one of the most expensive transfers of all time.', u'title': u'Philippe Coutinho: Barcelona to sign Liverpool and Brazil midfielder in \\xa3142m deal', u'url': u'http://www.bbc.co.uk/sport/football/42580173', u'author': u'BBC Sport', u'publishedAt': u'2018-01-06T19:38:26Z', u'source': {u'id': u'bbc-news', u'name': u'BBC News'}, u'urlToImage': u'https://ichef.bbci.co.uk/onesport/composite-logo/148DB/production/_99478148_coutinho_rex123.jpg'}, {u'description': u'Speaking at a news conference from Camp David, the US president calls author Michael Wolff \"a fraud\".', u'title': u\"Trump: New book is 'a work of fiction'\", u'url': u'http://www.bbc.co.uk/news/world-us-canada-42593124', u'author': u'BBC News', u'publishedAt': u'2018-01-06T17:35:00Z', u'source': {u'id': u'bbc-news', u'name': u'BBC News'}, u'urlToImage': u'https://ichef-1.bbci.co.uk/news/1024/cpsprodpb/47A3/production/_99493381_p05t0xz0.jpg'}, {u'description': u\"The group were angered by the Saudi government's anti-austerity drive, local media report.\", u'title': u\"Saudi princes 'arrested over protest'\", u'url': u'http://www.bbc.co.uk/news/world-middle-east-42592784', u'author': u'BBC News', u'publishedAt': u'2018-01-06T17:32:52Z', u'source': {u'id': u'bbc-news', u'name': u'BBC News'}, u'urlToImage': u'https://ichef.bbci.co.uk/news/1024/cpsprodpb/B297/production/_99491754_gettyimages-165119032.jpg'}, {u'description': u\"The key meeting takes place as a row continues over a new tell-all book about Mr Trump's presidency.\", u'title': u'Trump and party thrash out 2018 agenda', u'url': u'http://www.bbc.co.uk/news/world-us-canada-42589860', u'author': u'BBC News', u'publishedAt': u'2018-01-06T11:52:24Z', u'source': {u'id': u'bbc-news', u'name': u'BBC News'}, u'urlToImage': u'https://ichef-1.bbci.co.uk/news/1024/cpsprodpb/11484/production/_99488707_mediaitem99488706.jpg'}], u'totalResults': 10}\n"
     ]
    }
   ],
   "source": [
    "print (response.json())"
   ]
  },
  {
   "cell_type": "code",
   "execution_count": 14,
   "metadata": {},
   "outputs": [],
   "source": [
    "categories = ['business', 'entertainment', 'gaming', 'general', 'health-and-medical', 'music', \n",
    "              'politics', 'science-and-nature', 'sport', 'technology']"
   ]
  },
  {
   "cell_type": "code",
   "execution_count": 61,
   "metadata": {},
   "outputs": [],
   "source": [
    "news_sources = ['australian-financial-review', 'abc-news-au', 'associated-press', 'the-guardian-uk', 'the-huffington-post']"
   ]
  },
  {
   "cell_type": "code",
   "execution_count": 62,
   "metadata": {},
   "outputs": [],
   "source": [
    "#my_tags = ['bitcoin', 'cryptocurrency', 'blockchain']\n",
    "my_tags = ['Trump', 'Turnbull']"
   ]
  },
  {
   "cell_type": "code",
   "execution_count": 71,
   "metadata": {},
   "outputs": [
    {
     "name": "stdout",
     "output_type": "stream",
     "text": [
      "('australian-financial-review', ':', u\"Like Australia, Norway's housing market has started to reverse in recent months, after a period of rapid growth in house prices and mortgage debt.\")\n",
      "('wordfreq:', [0, 0])\n",
      "('australian-financial-review', ':', u\"The Turnbull government won't support a tax on sugary drinks despite Australia's peak medical body insisting it needs to be a priority.\")\n",
      "('wordfreq:', [0, 1])\n",
      "('australian-financial-review', ':', u'Rising investor confidence in the outlook for the global economy continues to propel equities to multi-year and record highs.')\n",
      "('wordfreq:', [0, 0])\n",
      "('australian-financial-review', ':', u'Donald Trump has that he was perfectly sane and accused his critics of raising questions to score political points.')\n",
      "('wordfreq:', [1, 0])\n",
      "('australian-financial-review', ':', u'The story of 2017 was how markets shrugged off everything geopolitics could throw at them. Can the synchronised growth across regions last?')\n",
      "('wordfreq:', [0, 0])\n",
      "('australian-financial-review', ':', u'Infrastructure projects are a key factor driving up the value of houses. Here are some sweet spots for property gains.')\n",
      "('wordfreq:', [0, 0])\n",
      "('australian-financial-review', ':', u'The tastiest long and short investment ideas for the year suggest the longs have the edge in 2018.')\n",
      "('wordfreq:', [0, 0])\n",
      "('australian-financial-review', ':', u'An extraordinary end to the grain harvest is set to deliver a $3.5 billion boost to the export-focused industry in Western Australia.')\n",
      "('wordfreq:', [0, 0])\n",
      "('australian-financial-review', ':', u'House prices are slumping but across Australia property values near public transport and employment centres could defy the trend.')\n",
      "('wordfreq:', [0, 0])\n",
      "('australian-financial-review', ':', u'Bitcoin may be gaining currency in property deals overseas but there are potential capital gains tax implications in Australia.')\n",
      "('wordfreq:', [0, 0])\n",
      "('abc-news-au', ':', u'Sydney has hit a heat milestone, recording a 47.3C temperature in the far western suburb of Penrith.')\n",
      "('wordfreq:', [0, 0])\n",
      "('abc-news-au', ':', u'Barack Obama is set to make his first talk show appearance since leaving the White House.')\n",
      "('wordfreq:', [0, 0])\n",
      "('abc-news-au', ':', u'A training guide for the Gold Coast Commonwealth Games that advises volunteers to use gender neutral language is labelled as political correctness gone mad by the LNP.')\n",
      "('wordfreq:', [0, 0])\n",
      "('abc-news-au', ':', u'About 100 million people are facing a new challenge after the whopping east coast snowstorm in the United States: a gusty deep freeze.')\n",
      "('wordfreq:', [0, 0])\n",
      "('abc-news-au', ':', u'Two houses were lost in a bushfire which swept across 12,000 hectares of south-east South Australia.')\n",
      "('wordfreq:', [0, 0])\n",
      "('abc-news-au', ':', u'In winter, the town of Rjukan sits in permanent shadow - the sun blocked by mountains. But by using massive mirrors, the locals have found a way to catch some rays and even attract international visitors.')\n",
      "('wordfreq:', [0, 0])\n",
      "('abc-news-au', ':', u'Australia starts day four in a tremendous position, with a lead of 133 over England, but can they get far enough in front to score an innings victory at the SCG? Follow all the action in our Ashes Test live blog.')\n",
      "('wordfreq:', [0, 0])\n",
      "('abc-news-au', ':', u\"Natalie Switala's fantasies interrupt her work, her friendships and her daily life. She has a little-known disorder that causes her to have out-of-control daydreams.\")\n",
      "('wordfreq:', [0, 0])\n",
      "('abc-news-au', ':', u'The life and significance of a brilliant mathematician.')\n",
      "('wordfreq:', [0, 0])\n",
      "('abc-news-au', ':', u'Donald Trump describes himself as a very stable genius, following the publication of a highly critical book.')\n",
      "('wordfreq:', [1, 0])\n",
      "('associated-press', ':', u\"DES MOINES, Iowa (AP) \\u2014 The Latest on the large lottery jackpots (all times local): 12:07 a.m. One Powerball ticket sold in New Hampshire has matched all six numbers and will claim a $570 million grand prize. The winning numbers drawn Saturday night to claim the nation's seventh largest jackpot were 12-29-30-33-61 and Powerball 26. A Powerball winner may choose to receive the jackpot in 30 annual payments or a one-time, lump-sum cash payment. The winning ticket was drawn one day after a single Mega Millions ticket purchased in Florida matched all six numbers to claim $450 million, the nation's 10th largest jackpot. The odds of winning Powerball are one in 292.2 million. The odds of winning Mega Millions are one in 302.5 million.\")\n",
      "('wordfreq:', [0, 0])\n",
      "('associated-press', ':', u'NEW YORK (AP) \\u2014 The bitter cold that followed a massive East Coast snowstorm should begin to lessen as temperatures inch up and climb past freezing next week, weather forecasters said. Patrick Burke, a meteorologist with the National Weather Service\\'s Weather Prediction Center in College Park, Maryland, said temperatures Sunday morning could hit record lows from South Carolina to Maine. But he said the wind won\\'t be as punishing as it was on Friday and Saturday. \"With the wind dying down it will probably feel significantly better although many of these areas will still be below freezing,\" Burke said.')\n",
      "('wordfreq:', [0, 0])\n",
      "('associated-press', ':', u'DALLAS (AP) \\u2014 Deb Eberhart couldn\\'t sleep and was easily moved to tears as she worked to coordinate repairs to her Houston home in the months after flooding from Hurricane Harvey besieged it with 3 feet (0.91 meters) of water. She clenched her jaw so hard that it hurt. She couldn\\'t eat. \"I thought: \\'Well, I\\'m not handling things as well as I should be,\\'\" the 69-year-old retired teacher said. Eberhart realized she needed help that had nothing to do with construction crews and insurance adjustors. So she joined storm survivors seeking help from therapists in the wake of the destructive winds and heavy rains in August that caused more than 80 deaths and an estimated $150 billion in damage in Texas.')\n",
      "('wordfreq:', [0, 0])\n",
      "('associated-press', ':', u\"DES MOINES, Iowa (AP) \\u2014 The winning ticket in the latest Mega Millions drawing was sold in Florida. One ticket matched all six numbers in Friday night's drawing and will claim a $450 million grand prize. The Florida Lottery says the winning ticket was bought at a 7-Eleven convenience store in Port Richey. The retailer will receive a $100,000 bonus for selling the winning ticket. The winning numbers to claim the nation's 10th-largest jackpot were 28-30-39-59-70-10. Numbers were drawn Saturday night for another large lottery, the $570 million Powerball jackpot. The numbers are 12-29-30-33-61 and Powerball 26. It won't be known until later whether there was a winner.\")\n",
      "('wordfreq:', [0, 0])\n",
      "('associated-press', ':', u'WASHINGTON (AP) \\u2014 President Donald Trump felt compelled Saturday to let the world know he\\'s playing with all his marbles and is among the sharpest cookies around. In a series of tweets, Trump defended his mental fitness and boasted about his brains, saying he is \"like, really smart\" and \"a very stable genius.\" It was the latest pushback against a new book that portrays him as a leader who doesn\\'t understand the weight of his office and whose competence is questioned by aides.')\n",
      "('wordfreq:', [2, 0])\n",
      "('associated-press', ':', u'THURMONT, Md. (AP) \\u2014 President Donald Trump, shelving comparisons about the size of a \"nuclear button,\" said Saturday he is open to talking with the North Korean leader he\\'s called \"Little Rocket Man\" and hopes some progress results from upcoming talks between the Koreas. Trump, who last year lambasted his chief diplomat for talking about negotiations with the nuclear-armed North, told reporters at Camp David that some dialogue or direct conversation with Kim Jong Un was not beyond the realm of possibility.')\n",
      "('wordfreq:', [2, 0])\n",
      "('associated-press', ':', u\"SAN FRANCISCO (AP) \\u2014 This week's announcement that the U.S. Justice Department was ditching its hands-off approach to states that have legalized marijuana initially sent some in the industry into a tailspin, just days after California's $7 billion recreational weed market opened for business. But for long-term pot purveyors accustomed to changing regulatory winds, the decision was just another bump in a long and winding road to proving their business legitimacy.\")\n",
      "('wordfreq:', [0, 0])\n",
      "('associated-press', ':', u\"WASHINGTON (AP) \\u2014 It's been a week of bogus boasting by President Donald Trump and members of his administration as they took unearned credit for airline safety, pollution cleanup and major advances in care for veterans. The president ignored fatality-free years in aviation during the Obama administration when he declared 2017 the safest year on record and suggested that was because he's kept a sharp eye on airlines. He represented routine and ceremonial proclamations recognizing a day in remembrance of Pearl Harbor and a month in honor of military families as substantive achievements that improved care for veterans.\")\n",
      "('wordfreq:', [1, 0])\n",
      "('associated-press', ':', u'Legendary astronaut John Young, who walked on the moon and later commanded the first space shuttle flight, has died, NASA said Saturday. Young was 87. The space agency said Young died Friday night at home in Houston following complications from pneumonia. NASA called Young one of its pioneers - the only agency astronaut to go into space as part of the Gemini, Apollo and space shuttle programs, and the first to fly into space six times. He was the ninth man to walk on the moon.')\n",
      "('wordfreq:', [0, 0])\n",
      "('associated-press', ':', u'THURMONT, Md. (AP) \\u2014 President Donald Trump said Saturday that \"everything I\\'ve done is 100 percent proper\" regarding the special counsel\\'s investigation of Russian meddling in the 2016 U.S. election and he insisted that his campaign didn\\'t collude with Moscow or commit any crime. His team has been \"open\" with special counsel Robert Mueller and \"done nothing wrong,\" Trump told reporters at Camp David, where he was meeting with Republican congressional leaders and Cabinet members to discuss legislative strategy in the new year.')\n",
      "('wordfreq:', [2, 0])\n"
     ]
    },
    {
     "name": "stdout",
     "output_type": "stream",
     "text": [
      "('the-guardian-uk', ':', u'About 150 migrants were on board when dinghy was launched from Libya, according to authorities, with a search continuing to find survivors')\n",
      "('wordfreq:', [0, 0])\n",
      "('the-guardian-uk', ':', u'Easy access to medical help for many denied after 40% of services shut')\n",
      "('wordfreq:', [0, 0])\n",
      "('the-guardian-uk', ':', u'Ministers seen as possible casualties in rejig prompted by loss of Damian Green include Justine Greening and Andrea Leadsom')\n",
      "('wordfreq:', [0, 0])\n",
      "('the-guardian-uk', ':', u'One of the biggest consultations in Defra\\u2019s history shows overwhelming support for the ban')\n",
      "('wordfreq:', [0, 0])\n",
      "('the-guardian-uk', ':', u'Corbyn right to keep a \\u2018cautious\\u2019 silence while situation remains unclear, says Labour ally')\n",
      "('wordfreq:', [0, 0])\n",
      "('the-guardian-uk', ':', u'Princes awaiting trial after objecting to decision to stop state payments for their utility bills in attempt to reduce deficit')\n",
      "('wordfreq:', [0, 0])\n",
      "('the-guardian-uk', ':', u'German chancellor faces hard talks today with the centre-left to secure a fourth term, but rightwingers may cause trouble')\n",
      "('wordfreq:', [0, 0])\n",
      "('the-guardian-uk', ':', u'George HW Bush salutes \\u2018courage and commitment\\u2019 of \\u2018fearless patriot\\u2019 who was the first man to fly into space six times')\n",
      "('wordfreq:', [0, 0])\n",
      "('the-guardian-uk', ':', u'Immediate review comes as more victims of \\u2018black-cab\\u2019 serial sex attacker tell of their shock and panic at decision to free him')\n",
      "('wordfreq:', [0, 0])\n",
      "('the-guardian-uk', ':', u'President boasts of being \\u2018a very stable genius\\u2019 but Fire and Fury author says book will \\u2018finally end this presidency\\u2019')\n",
      "('wordfreq:', [0, 0])\n",
      "('the-huffington-post', ':', u'The actor earned four Emmy nominations for his role as Assistant Coach Luther Van Dam.')\n",
      "('wordfreq:', [0, 0])\n",
      "('the-huffington-post', ':', u'The president stepped away from a Camp David strategy session to bash the Russia investigation and address his mental health.')\n",
      "('wordfreq:', [0, 0])\n",
      "('the-huffington-post', ':', u'DOJ lawyers say Matt Dunlap is no longer entitled to the information because the commission has been disbanded.')\n",
      "('wordfreq:', [0, 0])\n",
      "('the-huffington-post', ':', u'\"My two greatest assets have been mental stability and being, like, really smart.\"')\n",
      "('wordfreq:', [0, 0])\n",
      "('the-huffington-post', ':', u'These races could shape the party\\u2019s prospects in the midterm elections.')\n",
      "('wordfreq:', [0, 0])\n",
      "('the-huffington-post', ':', u'Trump\\u2019s campaign chief and top White House aide has been left politically homeless.')\n",
      "('wordfreq:', [1, 0])\n",
      "('the-huffington-post', ':', u'We read the highly anticipated book, so you didn\\u2019t have to.')\n",
      "('wordfreq:', [0, 0])\n",
      "('the-huffington-post', ':', u'Sen. Tammy Baldwin is battling more outside spending by conservative groups than all of her Democratic colleagues. Combined.')\n",
      "('wordfreq:', [0, 0])\n",
      "('the-huffington-post', ':', u'This is a look inside the neo-Nazi Twitter account linked to a double-homicide in Virginia.')\n",
      "('wordfreq:', [0, 0])\n",
      "('the-huffington-post', ':', u\"The internet celebrity's post is gone. What's left in its place is just as disturbing.\")\n",
      "('wordfreq:', [0, 0])\n"
     ]
    }
   ],
   "source": [
    "for source in news_sources:\n",
    "    url = ('https://newsapi.org/v2/top-headlines?sources='+source+'&apiKey='+apiKey)\n",
    "    response = requests.get(url)\n",
    "    for i in range(len(response.json()['articles'])):\n",
    "        headline = response.json()['articles'][i]['description']\n",
    "        print (source, \":\", headline)\n",
    "        wordfreq = []\n",
    "        for w in my_tags:\n",
    "            wordfreq.append(headline.count(w))\n",
    "        print (\"wordfreq:\", wordfreq)\n"
   ]
  },
  {
   "cell_type": "code",
   "execution_count": 73,
   "metadata": {},
   "outputs": [
    {
     "name": "stdout",
     "output_type": "stream",
     "text": [
      "('source:', 'australian-financial-review', ':', [u'status', u'articles', u'totalResults'])\n",
      "('source:', 'australian-financial-review', ':', 1)\n",
      "('source:', 'abc-news-au', ':', [u'status', u'articles', u'totalResults'])\n",
      "('source:', 'abc-news-au', ':', 252)\n",
      "('source:', 'associated-press', ':', [u'status', u'articles', u'totalResults'])\n",
      "('source:', 'associated-press', ':', 9)\n",
      "('source:', 'the-guardian-uk', ':', [u'status', u'articles', u'totalResults'])\n",
      "('source:', 'the-guardian-uk', ':', 696)\n",
      "('source:', 'the-huffington-post', ':', [u'status', u'articles', u'totalResults'])\n",
      "('source:', 'the-huffington-post', ':', 263)\n"
     ]
    }
   ],
   "source": [
    "#https://newsapi.org/docs/endpoints/everything\n",
    "'''\n",
    "q\n",
    "sources\n",
    "domains\n",
    "from\n",
    "to\n",
    "language\n",
    "sortBy\n",
    "'''\n",
    "for source in news_sources:\n",
    "    url = ('https://newsapi.org/v2/everything?sources='+source+'&apiKey='+apiKey+'&language=en&from=2018-01-04')\n",
    "    response = requests.get(url)\n",
    "    print (\"source:\", source, \":\", response.json().keys())\n",
    "    print (\"source:\", source, \":\", response.json()['totalResults'])\n",
    "    '''\n",
    "    for i in range(len(response.json()['articles'])):\n",
    "        headline = response.json()['articles'][i]['description']\n",
    "        print (source, \":\", headline)\n",
    "        wordfreq = []\n",
    "        for w in my_tags:\n",
    "            wordfreq.append(headline.count(w))\n",
    "        print (\"wordfreq:\", wordfreq)\n",
    "    '''"
   ]
  },
  {
   "cell_type": "code",
   "execution_count": null,
   "metadata": {},
   "outputs": [],
   "source": []
  }
 ],
 "metadata": {
  "kernelspec": {
   "display_name": "Python 2",
   "language": "python",
   "name": "python2"
  },
  "language_info": {
   "codemirror_mode": {
    "name": "ipython",
    "version": 2
   },
   "file_extension": ".py",
   "mimetype": "text/x-python",
   "name": "python",
   "nbconvert_exporter": "python",
   "pygments_lexer": "ipython2",
   "version": "2.7.12"
  }
 },
 "nbformat": 4,
 "nbformat_minor": 2
}
