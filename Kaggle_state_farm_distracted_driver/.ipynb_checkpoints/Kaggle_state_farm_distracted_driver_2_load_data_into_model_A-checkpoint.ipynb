{
 "cells": [
  {
   "cell_type": "markdown",
   "metadata": {},
   "source": [
    "https://www.kaggle.com/c/state-farm-distracted-driver-detection"
   ]
  },
  {
   "cell_type": "code",
   "execution_count": 16,
   "metadata": {},
   "outputs": [],
   "source": [
    "sample_or_prod = True #True = sample, False = production\n",
    "batch_size=64"
   ]
  },
  {
   "cell_type": "markdown",
   "metadata": {},
   "source": [
    "c0: safe driving  \n",
    "c1: texting - right  \n",
    "c2: talking on the phone - right  \n",
    "c3: texting - left  \n",
    "c4: talking on the phone - left  \n",
    "c5: operating the radio  \n",
    "c6: drinking  \n",
    "c7: reaching behind  \n",
    "c8: hair and makeup  \n",
    "c9: talking to passenger  "
   ]
  },
  {
   "cell_type": "code",
   "execution_count": 2,
   "metadata": {},
   "outputs": [
    {
     "name": "stdout",
     "output_type": "stream",
     "text": [
      "('HOMEPATH:', '/home/ubuntu/fastai/')\n",
      "('DATA_PATH:', '/home/ubuntu/fastai/data/state/')\n"
     ]
    }
   ],
   "source": [
    "HOMEPATH = \"/home/ubuntu/fastai/\"\n",
    "DATA_PATH = HOMEPATH + \"data/state/\"\n",
    "print(\"HOMEPATH:\", HOMEPATH)\n",
    "print(\"DATA_PATH:\", DATA_PATH)\n",
    "import os\n",
    "from __future__ import division, print_function\n"
   ]
  },
  {
   "cell_type": "code",
   "execution_count": 29,
   "metadata": {},
   "outputs": [],
   "source": [
    "import os\n",
    "from datetime import datetime\n",
    "from glob import glob\n",
    "from random import shuffle\n",
    "from shutil import copyfile\n",
    "import pandas as pd\n",
    "import numpy as np\n",
    "import random\n",
    "import cv2"
   ]
  },
  {
   "cell_type": "code",
   "execution_count": 4,
   "metadata": {},
   "outputs": [
    {
     "name": "stdout",
     "output_type": "stream",
     "text": [
      "WORKING_DATA: /home/ubuntu/fastai/data/state/sample/\n",
      "WORKING_TEST: /home/ubuntu/fastai/data/state/sample/test/\n",
      "WORKING_TRAIN: /home/ubuntu/fastai/data/state/sample/train/\n",
      "WORKING_VALID: /home/ubuntu/fastai/data/state/sample/valid/\n",
      "s_or_p: _sample_\n"
     ]
    }
   ],
   "source": [
    "MODEL_PATH = DATA_PATH+\"models/\"\n",
    "RESULTS_PATH = DATA_PATH+\"results/\"\n",
    "\n",
    "\n",
    "SAMPLE_DATA_PATH = DATA_PATH + \"sample/\"#choose this for testing or above for production\n",
    "SAMPLE_TEST_PATH = SAMPLE_DATA_PATH+\"test/\"\n",
    "SAMPLE_TRAIN_PATH = SAMPLE_DATA_PATH + \"train/\"\n",
    "SAMPLE_VALID_PATH = SAMPLE_DATA_PATH + \"valid/\"\n",
    "\n",
    "\n",
    "TEST_PATH = DATA_PATH+\"test/\"\n",
    "TRAIN_PATH = DATA_PATH + \"train/\"\n",
    "VALID_PATH = DATA_PATH + \"valid/\"\n",
    "\n",
    "\n",
    "if sample_or_prod:\n",
    "    WORKING_DATA  = SAMPLE_DATA_PATH\n",
    "    WORKING_TEST  = SAMPLE_TEST_PATH\n",
    "    WORKING_TRAIN = SAMPLE_TRAIN_PATH\n",
    "    WORKING_VALID = SAMPLE_VALID_PATH\n",
    "    s_or_p = \"_sample_\"\n",
    "else:\n",
    "    WORKING_DATA  = DATA_PATH\n",
    "    WORKING_TEST  = TEST_PATH\n",
    "    WORKING_TRAIN = TRAIN_PATH\n",
    "    WORKING_VALID = VALID_PATH\n",
    "    s_or_p = \"_prod_\"\n",
    "\n",
    "    \n",
    "print (\"WORKING_DATA:\", WORKING_DATA)\n",
    "print (\"WORKING_TEST:\", WORKING_TEST)\n",
    "print (\"WORKING_TRAIN:\", WORKING_TRAIN)\n",
    "print (\"WORKING_VALID:\", WORKING_VALID)\n",
    "print (\"s_or_p:\", s_or_p)"
   ]
  },
  {
   "cell_type": "code",
   "execution_count": 5,
   "metadata": {},
   "outputs": [
    {
     "name": "stdout",
     "output_type": "stream",
     "text": [
      "/home/ubuntu/fastai/data/state\n",
      "\u001b[01;34m.\u001b[00m\n",
      "├── \u001b[01;34mmodels\u001b[00m\n",
      "├── \u001b[01;34mresults\u001b[00m\n",
      "├── \u001b[01;34msample\u001b[00m\n",
      "│   ├── \u001b[01;34mtest\u001b[00m\n",
      "│   │   └── \u001b[01;34munknown\u001b[00m\n",
      "│   ├── \u001b[01;34mtrain\u001b[00m\n",
      "│   │   ├── \u001b[01;34mc0\u001b[00m\n",
      "│   │   ├── \u001b[01;34mc1\u001b[00m\n",
      "│   │   ├── \u001b[01;34mc2\u001b[00m\n",
      "│   │   ├── \u001b[01;34mc3\u001b[00m\n",
      "│   │   ├── \u001b[01;34mc4\u001b[00m\n",
      "│   │   ├── \u001b[01;34mc5\u001b[00m\n",
      "│   │   ├── \u001b[01;34mc6\u001b[00m\n",
      "│   │   ├── \u001b[01;34mc7\u001b[00m\n",
      "│   │   ├── \u001b[01;34mc8\u001b[00m\n",
      "│   │   └── \u001b[01;34mc9\u001b[00m\n",
      "│   └── \u001b[01;34mvalid\u001b[00m\n",
      "│       ├── \u001b[01;34mc0\u001b[00m\n",
      "│       ├── \u001b[01;34mc1\u001b[00m\n",
      "│       ├── \u001b[01;34mc2\u001b[00m\n",
      "│       ├── \u001b[01;34mc3\u001b[00m\n",
      "│       ├── \u001b[01;34mc4\u001b[00m\n",
      "│       ├── \u001b[01;34mc5\u001b[00m\n",
      "│       ├── \u001b[01;34mc6\u001b[00m\n",
      "│       ├── \u001b[01;34mc7\u001b[00m\n",
      "│       ├── \u001b[01;34mc8\u001b[00m\n",
      "│       └── \u001b[01;34mc9\u001b[00m\n",
      "├── \u001b[01;34mtest\u001b[00m\n",
      "│   └── \u001b[01;34munknown\u001b[00m\n",
      "├── \u001b[01;34mtrain\u001b[00m\n",
      "│   ├── \u001b[01;34mc0\u001b[00m\n",
      "│   ├── \u001b[01;34mc1\u001b[00m\n",
      "│   ├── \u001b[01;34mc2\u001b[00m\n",
      "│   ├── \u001b[01;34mc3\u001b[00m\n",
      "│   ├── \u001b[01;34mc4\u001b[00m\n",
      "│   ├── \u001b[01;34mc5\u001b[00m\n",
      "│   ├── \u001b[01;34mc6\u001b[00m\n",
      "│   ├── \u001b[01;34mc7\u001b[00m\n",
      "│   ├── \u001b[01;34mc8\u001b[00m\n",
      "│   └── \u001b[01;34mc9\u001b[00m\n",
      "└── \u001b[01;34mvalid\u001b[00m\n",
      "    ├── \u001b[01;34mc0\u001b[00m\n",
      "    ├── \u001b[01;34mc1\u001b[00m\n",
      "    ├── \u001b[01;34mc2\u001b[00m\n",
      "    ├── \u001b[01;34mc3\u001b[00m\n",
      "    ├── \u001b[01;34mc4\u001b[00m\n",
      "    ├── \u001b[01;34mc5\u001b[00m\n",
      "    ├── \u001b[01;34mc6\u001b[00m\n",
      "    ├── \u001b[01;34mc7\u001b[00m\n",
      "    ├── \u001b[01;34mc8\u001b[00m\n",
      "    └── \u001b[01;34mc9\u001b[00m\n",
      "\n",
      "51 directories\n"
     ]
    }
   ],
   "source": [
    "os.chdir(DATA_PATH)\n",
    "print (os.getcwd())\n",
    "!tree -d"
   ]
  },
  {
   "cell_type": "code",
   "execution_count": 6,
   "metadata": {},
   "outputs": [],
   "source": [
    "def dirFileList(dir_path):\n",
    "    return [name for name in os.listdir(dir_path) if os.path.isfile(os.path.join(dir_path, name))]\n"
   ]
  },
  {
   "cell_type": "code",
   "execution_count": 8,
   "metadata": {},
   "outputs": [
    {
     "name": "stdout",
     "output_type": "stream",
     "text": [
      "CATEGORIES: ['c0/', 'c1/', 'c2/', 'c3/', 'c4/', 'c5/', 'c6/', 'c7/', 'c8/', 'c9/']\n"
     ]
    }
   ],
   "source": [
    "CATEGORIES = []\n",
    "\n",
    "\n",
    "for i in range(10):\n",
    "    CATEGORIES.append(\"c\"+str(i)+\"/\")\n",
    "print (\"CATEGORIES:\", CATEGORIES)"
   ]
  },
  {
   "cell_type": "code",
   "execution_count": 9,
   "metadata": {},
   "outputs": [],
   "source": [
    "UNKNOWN = 'unknown/'\n",
    "\n",
    "DATA_DIR_LIST = [DATA_PATH, SAMPLE_DATA_PATH, SAMPLE_TEST_PATH, SAMPLE_TEST_PATH+UNKNOWN, SAMPLE_TRAIN_PATH, \n",
    "                 SAMPLE_VALID_PATH, TEST_PATH, TEST_PATH+UNKNOWN, TRAIN_PATH, VALID_PATH, MODEL_PATH, RESULTS_PATH]\n",
    "\n",
    "\n",
    "\n",
    "for category in CATEGORIES:\n",
    "    DATA_DIR_LIST.append(TRAIN_PATH+category)\n",
    "    DATA_DIR_LIST.append(VALID_PATH+category)\n",
    "    DATA_DIR_LIST.append(SAMPLE_TRAIN_PATH+category)\n",
    "    DATA_DIR_LIST.append(SAMPLE_VALID_PATH+category)"
   ]
  },
  {
   "cell_type": "code",
   "execution_count": 47,
   "metadata": {},
   "outputs": [],
   "source": [
    "def showLayersInfo(model):\n",
    "    print (\"Number of layers : \", len(model.layers))\n",
    "    count = 0\n",
    "    for layer in model.layers:\n",
    "        print (count, type(layer), \", trainable:\", layer.trainable)\n",
    "        print (\"input:\", layer.input_shape, \", output:\",layer.output_shape, \", len(weights)\", len(layer.get_weights()), \"\\n\")\n",
    "        count +=1"
   ]
  },
  {
   "cell_type": "code",
   "execution_count": 43,
   "metadata": {},
   "outputs": [],
   "source": [
    "def plot_history(history):\n",
    "    # list all data in history\n",
    "    print(history.history.keys())\n",
    "    # summarize history for accuracy\n",
    "    plt.plot(history.history['acc'])\n",
    "    plt.plot(history.history['val_acc'])\n",
    "    plt.title('model accuracy')\n",
    "    plt.ylabel('accuracy')\n",
    "    plt.xlabel('epoch')\n",
    "    plt.legend(['train', 'validate'], loc='upper left')\n",
    "    plt.show()\n",
    "    # summarize history for loss\n",
    "    plt.plot(history.history['loss'])\n",
    "    plt.plot(history.history['val_loss'])\n",
    "    plt.title('model loss')\n",
    "    plt.ylabel('loss')\n",
    "    plt.xlabel('epoch')\n",
    "    plt.legend(['train', 'validate'], loc='upper left')\n",
    "    plt.show()"
   ]
  },
  {
   "cell_type": "code",
   "execution_count": 10,
   "metadata": {},
   "outputs": [],
   "source": [
    "def listDirsFileCount(DATA_DIR_LIST):\n",
    "    DATA_DIR_LIST = sorted(DATA_DIR_LIST)\n",
    "    for dir_ in DATA_DIR_LIST:\n",
    "        print (dir_, len(dirFileList(dir_)))\n",
    "        \n",
    "#NB: could have used global DATA_DIR_LIST  to access global variable DATA_DIR_LIST \n",
    "# without having to pass DATA_DIR_LIST as an arg, but this gives more flexability."
   ]
  },
  {
   "cell_type": "code",
   "execution_count": 11,
   "metadata": {},
   "outputs": [
    {
     "name": "stdout",
     "output_type": "stream",
     "text": [
      "/home/ubuntu/fastai/data/state/ 4\n",
      "/home/ubuntu/fastai/data/state/models/ 0\n",
      "/home/ubuntu/fastai/data/state/results/ 0\n",
      "/home/ubuntu/fastai/data/state/sample/ 0\n",
      "/home/ubuntu/fastai/data/state/sample/test/ 0\n",
      "/home/ubuntu/fastai/data/state/sample/test/unknown/ 0\n",
      "/home/ubuntu/fastai/data/state/sample/train/ 0\n",
      "/home/ubuntu/fastai/data/state/sample/train/c0/ 347\n",
      "/home/ubuntu/fastai/data/state/sample/train/c1/ 314\n",
      "/home/ubuntu/fastai/data/state/sample/train/c2/ 323\n",
      "/home/ubuntu/fastai/data/state/sample/train/c3/ 325\n",
      "/home/ubuntu/fastai/data/state/sample/train/c4/ 323\n",
      "/home/ubuntu/fastai/data/state/sample/train/c5/ 322\n",
      "/home/ubuntu/fastai/data/state/sample/train/c6/ 324\n",
      "/home/ubuntu/fastai/data/state/sample/train/c7/ 278\n",
      "/home/ubuntu/fastai/data/state/sample/train/c8/ 268\n",
      "/home/ubuntu/fastai/data/state/sample/train/c9/ 298\n",
      "/home/ubuntu/fastai/data/state/sample/valid/ 0\n",
      "/home/ubuntu/fastai/data/state/sample/valid/c0/ 153\n",
      "/home/ubuntu/fastai/data/state/sample/valid/c1/ 138\n",
      "/home/ubuntu/fastai/data/state/sample/valid/c2/ 140\n",
      "/home/ubuntu/fastai/data/state/sample/valid/c3/ 145\n",
      "/home/ubuntu/fastai/data/state/sample/valid/c4/ 141\n",
      "/home/ubuntu/fastai/data/state/sample/valid/c5/ 140\n",
      "/home/ubuntu/fastai/data/state/sample/valid/c6/ 143\n",
      "/home/ubuntu/fastai/data/state/sample/valid/c7/ 121\n",
      "/home/ubuntu/fastai/data/state/sample/valid/c8/ 117\n",
      "/home/ubuntu/fastai/data/state/sample/valid/c9/ 131\n",
      "/home/ubuntu/fastai/data/state/test/ 0\n",
      "/home/ubuntu/fastai/data/state/test/unknown/ 79726\n",
      "/home/ubuntu/fastai/data/state/train/ 0\n",
      "/home/ubuntu/fastai/data/state/train/c0/ 1740\n",
      "/home/ubuntu/fastai/data/state/train/c1/ 1585\n",
      "/home/ubuntu/fastai/data/state/train/c2/ 1623\n",
      "/home/ubuntu/fastai/data/state/train/c3/ 1641\n",
      "/home/ubuntu/fastai/data/state/train/c4/ 1625\n",
      "/home/ubuntu/fastai/data/state/train/c5/ 1618\n",
      "/home/ubuntu/fastai/data/state/train/c6/ 1625\n",
      "/home/ubuntu/fastai/data/state/train/c7/ 1402\n",
      "/home/ubuntu/fastai/data/state/train/c8/ 1336\n",
      "/home/ubuntu/fastai/data/state/train/c9/ 1489\n",
      "/home/ubuntu/fastai/data/state/valid/ 0\n",
      "/home/ubuntu/fastai/data/state/valid/c0/ 749\n",
      "/home/ubuntu/fastai/data/state/valid/c1/ 682\n",
      "/home/ubuntu/fastai/data/state/valid/c2/ 694\n",
      "/home/ubuntu/fastai/data/state/valid/c3/ 705\n",
      "/home/ubuntu/fastai/data/state/valid/c4/ 701\n",
      "/home/ubuntu/fastai/data/state/valid/c5/ 694\n",
      "/home/ubuntu/fastai/data/state/valid/c6/ 700\n",
      "/home/ubuntu/fastai/data/state/valid/c7/ 600\n",
      "/home/ubuntu/fastai/data/state/valid/c8/ 575\n",
      "/home/ubuntu/fastai/data/state/valid/c9/ 640\n"
     ]
    }
   ],
   "source": [
    "listDirsFileCount(DATA_DIR_LIST)"
   ]
  },
  {
   "cell_type": "code",
   "execution_count": 13,
   "metadata": {
    "scrolled": true
   },
   "outputs": [
    {
     "name": "stdout",
     "output_type": "stream",
     "text": [
      "current working directory: /home/ubuntu/fastai\n"
     ]
    },
    {
     "name": "stderr",
     "output_type": "stream",
     "text": [
      "WARNING (theano.sandbox.cuda): The cuda backend is deprecated and will be removed in the next release (v0.10).  Please switch to the gpuarray backend. You can get more information about how to switch at this URL:\n",
      " https://github.com/Theano/Theano/wiki/Converting-to-the-new-gpu-back-end%28gpuarray%29\n",
      "\n",
      "Using gpu device 0: Tesla K80 (CNMeM is disabled, cuDNN 5110)\n",
      "Using Theano backend.\n"
     ]
    }
   ],
   "source": [
    "os.chdir(HOMEPATH)\n",
    "print (\"current working directory:\", os.getcwd())\n",
    "\n",
    "%matplotlib inline\n",
    "from __future__ import print_function, division\n",
    "#path = \"data/state/\"\n",
    "path = \"data/state/sample/\"\n",
    "import utils; reload(utils)\n",
    "from utils import *\n",
    "from IPython.display import FileLink"
   ]
  },
  {
   "cell_type": "code",
   "execution_count": null,
   "metadata": {},
   "outputs": [],
   "source": [
    "#zzz"
   ]
  },
  {
   "cell_type": "code",
   "execution_count": 17,
   "metadata": {},
   "outputs": [
    {
     "name": "stdout",
     "output_type": "stream",
     "text": [
      "Found 3122 images belonging to 10 classes.\n",
      "Found 1369 images belonging to 10 classes.\n",
      "/home/ubuntu/fastai/data/state/sample/train/ <class 'keras.preprocessing.image.DirectoryIterator'>\n",
      "/home/ubuntu/fastai/data/state/sample/valid/ <class 'keras.preprocessing.image.DirectoryIterator'>\n"
     ]
    }
   ],
   "source": [
    "batches = get_batches(SAMPLE_TRAIN_PATH, batch_size=batch_size)\n",
    "val_batches = get_batches(SAMPLE_VALID_PATH, batch_size=batch_size*2, shuffle=False)\n",
    "print (SAMPLE_TRAIN_PATH, type(batches))\n",
    "print (SAMPLE_VALID_PATH, type(val_batches))\n",
    "\n",
    "#https://keras.io/preprocessing/image/\n",
    "#https://www.tensorflow.org/api_docs/python/tf/keras/preprocessing/image/DirectoryIterator\n",
    "#NB: utils.get_batches has default target_size=(224,224)"
   ]
  },
  {
   "cell_type": "code",
   "execution_count": 112,
   "metadata": {},
   "outputs": [
    {
     "name": "stdout",
     "output_type": "stream",
     "text": [
      "Found 3122 images belonging to 10 classes.\n",
      "Found 1369 images belonging to 10 classes.\n",
      "Found 15945 images belonging to 1 classes.\n",
      "val_classes <type 'numpy.ndarray'> (1369,)\n",
      "trn_classes <type 'numpy.ndarray'> (3122,)\n",
      "val_labels <type 'numpy.ndarray'> (1369, 10)\n",
      "trn_labels <type 'numpy.ndarray'> (3122, 10)\n",
      "val_filenames <type 'list'> 1369\n",
      "filenames <type 'list'> 3122\n",
      "test_filename <type 'list'> 15945\n"
     ]
    }
   ],
   "source": [
    "(val_classes, trn_classes, val_labels, trn_labels, val_filenames, filenames,\n",
    "    test_filename) = get_classes(SAMPLE_DATA_PATH)\n",
    "print (\"val_classes\", type(val_classes), val_classes.shape)\n",
    "print (\"trn_classes\", type(trn_classes), trn_classes.shape)\n",
    "print (\"val_labels\", type(val_labels), val_labels.shape)\n",
    "print (\"trn_labels\", type(trn_labels), trn_labels.shape)\n",
    "print (\"val_filenames\", type(val_filenames), len(val_filenames))\n",
    "print (\"filenames\", type(filenames), len(filenames))\n",
    "print (\"test_filename\", type(test_filename), len(test_filename))"
   ]
  },
  {
   "cell_type": "code",
   "execution_count": 113,
   "metadata": {},
   "outputs": [
    {
     "name": "stdout",
     "output_type": "stream",
     "text": [
      "test_filename[0] unknown/img_92913.jpg\n"
     ]
    }
   ],
   "source": [
    "print (\"test_filename[0]\", test_filename[0])"
   ]
  },
  {
   "cell_type": "code",
   "execution_count": 27,
   "metadata": {},
   "outputs": [
    {
     "name": "stdout",
     "output_type": "stream",
     "text": [
      "val_classes: <type 'numpy.int32'> 0 [0 1 2 3 4 5 6 7 8 9]\n",
      "trn_classes: <type 'numpy.int32'> 0 [0 1 2 3 4 5 6 7 8 9]\n",
      "val_labels: <type 'numpy.ndarray'> [ 1.  0.  0.  0.  0.  0.  0.  0.  0.  0.] [ 0.  1.]\n",
      "trn_labels: <type 'numpy.ndarray'> [ 1.  0.  0.  0.  0.  0.  0.  0.  0.  0.] [ 0.  1.]\n"
     ]
    }
   ],
   "source": [
    "print (\"val_classes:\", type(val_classes[0]), val_classes[0], np.unique(val_classes))\n",
    "print (\"trn_classes:\", type(trn_classes[0]), trn_classes[0], np.unique(trn_classes))\n",
    "print (\"val_labels:\", type(val_labels[0]), val_labels[0], np.unique(val_labels))\n",
    "print (\"trn_labels:\", type(trn_labels[0]), trn_labels[0], np.unique(trn_labels))"
   ]
  },
  {
   "cell_type": "code",
   "execution_count": 38,
   "metadata": {},
   "outputs": [
    {
     "name": "stdout",
     "output_type": "stream",
     "text": [
      "temp_path: /home/ubuntu/fastai/data/state/train/c0/\n",
      "image_sizes: set([(480, 640, 3)])\n",
      "No. of disctinct image sizes: 1\n"
     ]
    }
   ],
   "source": [
    "temp_path = TRAIN_PATH+CATEGORIES[0]\n",
    "print (\"temp_path:\", temp_path)\n",
    "files = dirFileList(temp_path)\n",
    "\n",
    "image_sizes = set([])\n",
    "for i in range(len(files)):\n",
    "    img_shape = cv2.imread(temp_path+files[i]).shape\n",
    "    #print (\"i:\", i, \":\", img_shape)\n",
    "    image_sizes.add(img_shape)\n",
    "print (\"image_sizes:\", image_sizes)\n",
    "print (\"No. of disctinct image sizes:\", len(image_sizes))"
   ]
  },
  {
   "cell_type": "code",
   "execution_count": 20,
   "metadata": {},
   "outputs": [],
   "source": [
    "model = Sequential([\n",
    "        BatchNormalization(axis=1, input_shape=(3,224,224)),\n",
    "        Flatten(),\n",
    "        Dense(10, activation='softmax')\n",
    "    ])"
   ]
  },
  {
   "cell_type": "code",
   "execution_count": 40,
   "metadata": {},
   "outputs": [
    {
     "name": "stdout",
     "output_type": "stream",
     "text": [
      "____________________________________________________________________________________________________\n",
      "Layer (type)                     Output Shape          Param #     Connected to                     \n",
      "====================================================================================================\n",
      "batchnormalization_1 (BatchNorma (None, 3, 224, 224)   12          batchnormalization_input_1[0][0] \n",
      "____________________________________________________________________________________________________\n",
      "flatten_1 (Flatten)              (None, 150528)        0           batchnormalization_1[0][0]       \n",
      "____________________________________________________________________________________________________\n",
      "dense_1 (Dense)                  (None, 10)            1505290     flatten_1[0][0]                  \n",
      "====================================================================================================\n",
      "Total params: 1,505,302\n",
      "Trainable params: 1,505,296\n",
      "Non-trainable params: 6\n",
      "____________________________________________________________________________________________________\n"
     ]
    }
   ],
   "source": [
    "model.summary()"
   ]
  },
  {
   "cell_type": "code",
   "execution_count": 48,
   "metadata": {},
   "outputs": [
    {
     "name": "stdout",
     "output_type": "stream",
     "text": [
      "Number of layers :  3\n",
      "0 <class 'keras.layers.normalization.BatchNormalization'> , trainable: True\n",
      "input: (None, 3, 224, 224) , output: (None, 3, 224, 224) , len(weights) 4 \n",
      "\n",
      "1 <class 'keras.layers.core.Flatten'> , trainable: True\n",
      "input: (None, 3, 224, 224) , output: (None, 150528) , len(weights) 0 \n",
      "\n",
      "2 <class 'keras.layers.core.Dense'> , trainable: True\n",
      "input: (None, 150528) , output: (None, 10) , len(weights) 2 \n",
      "\n"
     ]
    }
   ],
   "source": [
    "showLayersInfo(model)"
   ]
  },
  {
   "cell_type": "code",
   "execution_count": 42,
   "metadata": {},
   "outputs": [
    {
     "data": {
      "text/plain": [
       "keras.preprocessing.image.DirectoryIterator"
      ]
     },
     "execution_count": 42,
     "metadata": {},
     "output_type": "execute_result"
    }
   ],
   "source": [
    "type(batches), type(batches.nb_sample)"
   ]
  },
  {
   "cell_type": "code",
   "execution_count": 45,
   "metadata": {},
   "outputs": [
    {
     "name": "stdout",
     "output_type": "stream",
     "text": [
      "Epoch 1/2\n",
      "3122/3122 [==============================] - 53s - loss: 14.2447 - acc: 0.1156 - val_loss: 14.4933 - val_acc: 0.1008\n",
      "Epoch 2/2\n",
      "3122/3122 [==============================] - 46s - loss: 14.5125 - acc: 0.0996 - val_loss: 14.4933 - val_acc: 0.1008\n"
     ]
    }
   ],
   "source": [
    "model.compile(Adam(), loss='categorical_crossentropy', metrics=['accuracy'])\n",
    "history = model.fit_generator(batches, batches.nb_sample, nb_epoch=2, validation_data=val_batches, \n",
    "                 nb_val_samples=val_batches.nb_sample)"
   ]
  },
  {
   "cell_type": "code",
   "execution_count": 46,
   "metadata": {},
   "outputs": [
    {
     "name": "stdout",
     "output_type": "stream",
     "text": [
      "['acc', 'loss', 'val_acc', 'val_loss']\n"
     ]
    },
    {
     "data": {
      "image/png": "[encoded data removed]",
      "text/plain": [
       "<matplotlib.figure.Figure at 0x7fbb6405a2d0>"
      ]
     },
     "metadata": {},
     "output_type": "display_data"
    },
    {
     "data": {
      "image/png": "[encoded data removed]",
      "text/plain": [
       "<matplotlib.figure.Figure at 0x7fbb5ff34810>"
      ]
     },
     "metadata": {},
     "output_type": "display_data"
    }
   ],
   "source": [
    "plot_history(history)"
   ]
  },
  {
   "cell_type": "code",
   "execution_count": 50,
   "metadata": {},
   "outputs": [
    {
     "data": {
      "text/plain": [
       "3122"
      ]
     },
     "execution_count": 50,
     "metadata": {},
     "output_type": "execute_result"
    }
   ],
   "source": [
    "batches.n"
   ]
  },
  {
   "cell_type": "code",
   "execution_count": 51,
   "metadata": {},
   "outputs": [],
   "source": [
    "#type(batches) = keras.preprocessing.image.DirectoryIterator\n",
    "#recall : batches = get_batches(SAMPLE_TRAIN_PATH, batch_size=batch_size)\n",
    "#Found 3122 images belonging to 10 classes.\n",
    "predicted = model.predict_generator(batches, batches.n)"
   ]
  },
  {
   "cell_type": "code",
   "execution_count": 53,
   "metadata": {},
   "outputs": [
    {
     "data": {
      "text/plain": [
       "(numpy.ndarray, (3122, 10))"
      ]
     },
     "execution_count": 53,
     "metadata": {},
     "output_type": "execute_result"
    }
   ],
   "source": [
    "print (\"predicted:\", type(predicted), predicted.shape)\n"
   ]
  },
  {
   "cell_type": "code",
   "execution_count": 54,
   "metadata": {},
   "outputs": [
    {
     "data": {
      "text/plain": [
       "array([[ 0.,  1.,  0.,  0.,  0.,  0.,  0.,  0.,  0.,  0.],\n",
       "       [ 0.,  1.,  0.,  0.,  0.,  0.,  0.,  0.,  0.,  0.],\n",
       "       [ 0.,  1.,  0.,  0.,  0.,  0.,  0.,  0.,  0.,  0.],\n",
       "       [ 0.,  1.,  0.,  0.,  0.,  0.,  0.,  0.,  0.,  0.],\n",
       "       [ 0.,  1.,  0.,  0.,  0.,  0.,  0.,  0.,  0.,  0.],\n",
       "       [ 0.,  1.,  0.,  0.,  0.,  0.,  0.,  0.,  0.,  0.],\n",
       "       [ 0.,  1.,  0.,  0.,  0.,  0.,  0.,  0.,  0.,  0.],\n",
       "       [ 0.,  1.,  0.,  0.,  0.,  0.,  0.,  0.,  0.,  0.],\n",
       "       [ 0.,  1.,  0.,  0.,  0.,  0.,  0.,  0.,  0.,  0.],\n",
       "       [ 0.,  1.,  0.,  0.,  0.,  0.,  0.,  0.,  0.,  0.]], dtype=float32)"
      ]
     },
     "execution_count": 54,
     "metadata": {},
     "output_type": "execute_result"
    }
   ],
   "source": [
    "np.round(predicted[:10],2)"
   ]
  },
  {
   "cell_type": "code",
   "execution_count": 61,
   "metadata": {},
   "outputs": [
    {
     "name": "stdout",
     "output_type": "stream",
     "text": [
      "set([1])\n"
     ]
    }
   ],
   "source": [
    "pred = []\n",
    "for i in range(predicted.shape[0]):\n",
    "    #print (predicted[i], type(list(predicted[i])), np.argmax(predicted[i]))\n",
    "    pred.append(np.argmax(predicted[i]))\n",
    "print (set(pred))\n",
    "#results show only index position 1 was predicted. obviously model is inadequate."
   ]
  },
  {
   "cell_type": "code",
   "execution_count": 62,
   "metadata": {},
   "outputs": [
    {
     "name": "stdout",
     "output_type": "stream",
     "text": [
      "Epoch 1/4\n",
      "3122/3122 [==============================] - 53s - loss: 2.1502 - acc: 0.2710 - val_loss: 2.2662 - val_acc: 0.3024\n",
      "Epoch 2/4\n",
      "3122/3122 [==============================] - 46s - loss: 1.4057 - acc: 0.5743 - val_loss: 1.3767 - val_acc: 0.5069\n",
      "Epoch 3/4\n",
      "3122/3122 [==============================] - 46s - loss: 1.0308 - acc: 0.7297 - val_loss: 0.9581 - val_acc: 0.7188\n",
      "Epoch 4/4\n",
      "3122/3122 [==============================] - 46s - loss: 0.8077 - acc: 0.8155 - val_loss: 0.7818 - val_acc: 0.8013\n"
     ]
    }
   ],
   "source": [
    "model = Sequential([\n",
    "        BatchNormalization(axis=1, input_shape=(3,224,224)),\n",
    "        Flatten(),\n",
    "        Dense(10, activation='softmax')\n",
    "    ])\n",
    "model.compile(Adam(lr=1e-5), loss='categorical_crossentropy', metrics=['accuracy'])\n",
    "history = model.fit_generator(batches, batches.nb_sample, nb_epoch=4, validation_data=val_batches, \n",
    "                 nb_val_samples=val_batches.nb_sample)"
   ]
  },
  {
   "cell_type": "code",
   "execution_count": 63,
   "metadata": {},
   "outputs": [
    {
     "name": "stdout",
     "output_type": "stream",
     "text": [
      "['acc', 'loss', 'val_acc', 'val_loss']\n"
     ]
    },
    {
     "data": {
      "image/png": "[encoded data removed]",
      "text/plain": [
       "<matplotlib.figure.Figure at 0x7fbb6e85d450>"
      ]
     },
     "metadata": {},
     "output_type": "display_data"
    },
    {
     "data": {
      "image/png": "[encoded data removed]",
      "text/plain": [
       "<matplotlib.figure.Figure at 0x7fbb5f65cc10>"
      ]
     },
     "metadata": {},
     "output_type": "display_data"
    }
   ],
   "source": [
    "plot_history(history)"
   ]
  },
  {
   "cell_type": "code",
   "execution_count": 64,
   "metadata": {},
   "outputs": [
    {
     "name": "stdout",
     "output_type": "stream",
     "text": [
      "Epoch 1/6\n",
      "3122/3122 [==============================] - 53s - loss: 0.6327 - acc: 0.8873 - val_loss: 0.6804 - val_acc: 0.8305\n",
      "Epoch 2/6\n",
      "3122/3122 [==============================] - 46s - loss: 0.5470 - acc: 0.9013 - val_loss: 0.5756 - val_acc: 0.8780\n",
      "Epoch 3/6\n",
      "3122/3122 [==============================] - 45s - loss: 0.4306 - acc: 0.9446 - val_loss: 0.5488 - val_acc: 0.8809\n",
      "Epoch 4/6\n",
      "3122/3122 [==============================] - 46s - loss: 0.3779 - acc: 0.9520 - val_loss: 0.4712 - val_acc: 0.9102\n",
      "Epoch 5/6\n",
      "3122/3122 [==============================] - 46s - loss: 0.3309 - acc: 0.9635 - val_loss: 0.4336 - val_acc: 0.9167\n",
      "Epoch 6/6\n",
      "3122/3122 [==============================] - 46s - loss: 0.2727 - acc: 0.9776 - val_loss: 0.4027 - val_acc: 0.9211\n"
     ]
    }
   ],
   "source": [
    "model.optimizer.lr=0.001\n",
    "history = model.fit_generator(  batches, \n",
    "                                batches.nb_sample, \n",
    "                                nb_epoch=6, \n",
    "                                validation_data=val_batches, \n",
    "                                nb_val_samples=val_batches.nb_sample)"
   ]
  },
  {
   "cell_type": "code",
   "execution_count": 65,
   "metadata": {},
   "outputs": [
    {
     "name": "stdout",
     "output_type": "stream",
     "text": [
      "['acc', 'loss', 'val_acc', 'val_loss']\n"
     ]
    },
    {
     "data": {
      "image/png": "[encoded data removed]",
      "text/plain": [
       "<matplotlib.figure.Figure at 0x7fbb6e85d5d0>"
      ]
     },
     "metadata": {},
     "output_type": "display_data"
    },
    {
     "data": {
      "image/png": "[encoded data removed]",
      "text/plain": [
       "<matplotlib.figure.Figure at 0x7fbb6e7e3250>"
      ]
     },
     "metadata": {},
     "output_type": "display_data"
    }
   ],
   "source": [
    "plot_history(history)"
   ]
  },
  {
   "cell_type": "code",
   "execution_count": 66,
   "metadata": {},
   "outputs": [],
   "source": [
    "predicted = model.predict_generator(batches, batches.n)"
   ]
  },
  {
   "cell_type": "code",
   "execution_count": 67,
   "metadata": {},
   "outputs": [
    {
     "name": "stdout",
     "output_type": "stream",
     "text": [
      "No. of different classes predicted :  10\n"
     ]
    }
   ],
   "source": [
    "pred = []\n",
    "for i in range(predicted.shape[0]):\n",
    "    #print (predicted[i], type(list(predicted[i])), np.argmax(predicted[i]))\n",
    "    pred.append(np.argmax(predicted[i]))\n",
    "print (\"No. of different classes predicted : \", len(list(set(pred))))\n",
    "#10 different classes predicted. This is better."
   ]
  },
  {
   "cell_type": "code",
   "execution_count": 69,
   "metadata": {},
   "outputs": [
    {
     "name": "stdout",
     "output_type": "stream",
     "text": [
      "Found 1369 images belonging to 10 classes.\n"
     ]
    }
   ],
   "source": [
    "rnd_batches = get_batches(WORKING_VALID, batch_size=batch_size*2, shuffle=True)"
   ]
  },
  {
   "cell_type": "code",
   "execution_count": 70,
   "metadata": {
    "scrolled": true
   },
   "outputs": [
    {
     "data": {
      "text/plain": [
       "array([[ 0.4 ,  0.92],\n",
       "       [ 0.41,  0.92],\n",
       "       [ 0.4 ,  0.92],\n",
       "       [ 0.4 ,  0.92],\n",
       "       [ 0.4 ,  0.93],\n",
       "       [ 0.4 ,  0.92],\n",
       "       [ 0.42,  0.92],\n",
       "       [ 0.39,  0.93],\n",
       "       [ 0.41,  0.92],\n",
       "       [ 0.4 ,  0.92]])"
      ]
     },
     "execution_count": 70,
     "metadata": {},
     "output_type": "execute_result"
    }
   ],
   "source": [
    "val_res = [model.evaluate_generator(rnd_batches, rnd_batches.nb_sample) for i in range(10)]\n",
    "np.round(val_res, 2)"
   ]
  },
  {
   "cell_type": "code",
   "execution_count": 75,
   "metadata": {},
   "outputs": [
    {
     "data": {
      "text/plain": [
       "(list, list)"
      ]
     },
     "execution_count": 75,
     "metadata": {},
     "output_type": "execute_result"
    }
   ],
   "source": [
    "type(val_res), type(val_res[0])"
   ]
  },
  {
   "cell_type": "code",
   "execution_count": 83,
   "metadata": {},
   "outputs": [
    {
     "name": "stdout",
     "output_type": "stream",
     "text": [
      "max: 0.926953982053 , min: 0.916727540091\n"
     ]
    }
   ],
   "source": [
    "print (\"max:\", max(list(np.array(val_res)[:,1])), \", min:\", min(list(np.array(val_res)[:,1])))"
   ]
  },
  {
   "cell_type": "code",
   "execution_count": 84,
   "metadata": {},
   "outputs": [],
   "source": [
    "model = Sequential([\n",
    "        BatchNormalization(axis=1, input_shape=(3,224,224)),\n",
    "        Flatten(),\n",
    "        Dense(10, activation='softmax', W_regularizer=l2(0.01))\n",
    "    ])\n",
    "#https://keras.io/layers/core/#dense\n",
    "#https://keras.io/regularizers/\n",
    "#"
   ]
  },
  {
   "cell_type": "code",
   "execution_count": 85,
   "metadata": {},
   "outputs": [
    {
     "name": "stdout",
     "output_type": "stream",
     "text": [
      "____________________________________________________________________________________________________\n",
      "Layer (type)                     Output Shape          Param #     Connected to                     \n",
      "====================================================================================================\n",
      "batchnormalization_3 (BatchNorma (None, 3, 224, 224)   12          batchnormalization_input_3[0][0] \n",
      "____________________________________________________________________________________________________\n",
      "flatten_3 (Flatten)              (None, 150528)        0           batchnormalization_3[0][0]       \n",
      "____________________________________________________________________________________________________\n",
      "dense_3 (Dense)                  (None, 10)            1505290     flatten_3[0][0]                  \n",
      "====================================================================================================\n",
      "Total params: 1,505,302\n",
      "Trainable params: 1,505,296\n",
      "Non-trainable params: 6\n",
      "____________________________________________________________________________________________________\n"
     ]
    }
   ],
   "source": [
    "model.summary()\n",
    "\n",
    "#previous model without W_regularizer=l2(0.01)\n",
    "#Total params: 1,505,302\n",
    "#Trainable params: 1,505,296\n",
    "#Non-trainable params: 6\n",
    "#this model has exact same total params vs trainable params vs non-trainable params."
   ]
  },
  {
   "cell_type": "code",
   "execution_count": 87,
   "metadata": {},
   "outputs": [
    {
     "name": "stdout",
     "output_type": "stream",
     "text": [
      "Epoch 1/4\n",
      "3122/3122 [==============================] - 53s - loss: 4.3886 - acc: 0.3969 - val_loss: 3.6276 - val_acc: 0.4894\n",
      "Epoch 2/4\n",
      "3122/3122 [==============================] - 46s - loss: 2.0412 - acc: 0.7687 - val_loss: 2.1064 - val_acc: 0.7524\n",
      "Epoch 3/4\n",
      "3122/3122 [==============================] - 46s - loss: 1.7710 - acc: 0.8642 - val_loss: 1.8922 - val_acc: 0.8159\n",
      "Epoch 4/4\n",
      "3122/3122 [==============================] - 46s - loss: 1.6384 - acc: 0.8962 - val_loss: 1.8206 - val_acc: 0.8415\n"
     ]
    }
   ],
   "source": [
    "model.compile(Adam(lr=10e-5), loss='categorical_crossentropy', metrics=['accuracy'])\n",
    "history1 = model.fit_generator(batches, \n",
    "                              batches.nb_sample, \n",
    "                              nb_epoch=4, \n",
    "                              validation_data=val_batches, \n",
    "                              nb_val_samples=val_batches.nb_sample)"
   ]
  },
  {
   "cell_type": "code",
   "execution_count": 88,
   "metadata": {},
   "outputs": [
    {
     "name": "stdout",
     "output_type": "stream",
     "text": [
      "['acc', 'loss', 'val_acc', 'val_loss']\n"
     ]
    },
    {
     "data": {
      "image/png": "[encoded data removed]",
      "text/plain": [
       "<matplotlib.figure.Figure at 0x7fbb5ca22810>"
      ]
     },
     "metadata": {},
     "output_type": "display_data"
    },
    {
     "data": {
      "image/png": "[encoded data removed]",
      "text/plain": [
       "<matplotlib.figure.Figure at 0x7fbb6e8e3390>"
      ]
     },
     "metadata": {},
     "output_type": "display_data"
    }
   ],
   "source": [
    "plot_history(history1)"
   ]
  },
  {
   "cell_type": "code",
   "execution_count": 89,
   "metadata": {},
   "outputs": [
    {
     "name": "stdout",
     "output_type": "stream",
     "text": [
      "Epoch 1/4\n",
      "3122/3122 [==============================] - 53s - loss: 1.6323 - acc: 0.9039 - val_loss: 1.8230 - val_acc: 0.8481\n",
      "Epoch 2/4\n",
      "3122/3122 [==============================] - 46s - loss: 1.6442 - acc: 0.9049 - val_loss: 1.7644 - val_acc: 0.8583\n",
      "Epoch 3/4\n",
      "3122/3122 [==============================] - 46s - loss: 1.5683 - acc: 0.9151 - val_loss: 1.7272 - val_acc: 0.8751\n",
      "Epoch 4/4\n",
      "3122/3122 [==============================] - 46s - loss: 1.6175 - acc: 0.9126 - val_loss: 1.7182 - val_acc: 0.8751\n"
     ]
    }
   ],
   "source": [
    "model.optimizer.lr=0.001\n",
    "history2 = model.fit_generator(batches, \n",
    "                               batches.nb_sample, \n",
    "                               nb_epoch=4, \n",
    "                               validation_data=val_batches, \n",
    "                               nb_val_samples=val_batches.nb_sample)\n",
    "#https://keras.io/models/sequential/#sequential-model-methods\n",
    "#"
   ]
  },
  {
   "cell_type": "code",
   "execution_count": 90,
   "metadata": {},
   "outputs": [
    {
     "name": "stdout",
     "output_type": "stream",
     "text": [
      "['acc', 'loss', 'val_acc', 'val_loss']\n"
     ]
    },
    {
     "data": {
      "image/png": "[encoded data removed]",
      "text/plain": [
       "<matplotlib.figure.Figure at 0x7fbb5d98be90>"
      ]
     },
     "metadata": {},
     "output_type": "display_data"
    },
    {
     "data": {
      "image/png": "[encoded data removed]",
      "text/plain": [
       "<matplotlib.figure.Figure at 0x7fbb5c931fd0>"
      ]
     },
     "metadata": {},
     "output_type": "display_data"
    }
   ],
   "source": [
    "plot_history(history2)"
   ]
  },
  {
   "cell_type": "code",
   "execution_count": 91,
   "metadata": {},
   "outputs": [
    {
     "data": {
      "text/plain": [
       "array([[ 1.8 ,  0.87],\n",
       "       [ 1.72,  0.88],\n",
       "       [ 1.69,  0.87],\n",
       "       [ 1.79,  0.87],\n",
       "       [ 1.79,  0.87],\n",
       "       [ 1.77,  0.87],\n",
       "       [ 1.53,  0.89],\n",
       "       [ 1.64,  0.88],\n",
       "       [ 1.86,  0.87],\n",
       "       [ 1.73,  0.87]])"
      ]
     },
     "execution_count": 91,
     "metadata": {},
     "output_type": "execute_result"
    }
   ],
   "source": [
    "val_res = [model.evaluate_generator(rnd_batches, rnd_batches.nb_sample) for i in range(10)]\n",
    "np.round(val_res, 2)"
   ]
  },
  {
   "cell_type": "code",
   "execution_count": 92,
   "metadata": {},
   "outputs": [
    {
     "name": "stdout",
     "output_type": "stream",
     "text": [
      "max: 0.890430972557 , min: 0.869978084932\n"
     ]
    }
   ],
   "source": [
    "print (\"max:\", max(list(np.array(val_res)[:,1])), \", min:\", min(list(np.array(val_res)[:,1])))"
   ]
  },
  {
   "cell_type": "code",
   "execution_count": 100,
   "metadata": {},
   "outputs": [
    {
     "name": "stdout",
     "output_type": "stream",
     "text": [
      "Found 15945 images belonging to 1 classes.\n"
     ]
    }
   ],
   "source": [
    "test = get_data(WORKING_TEST)"
   ]
  },
  {
   "cell_type": "code",
   "execution_count": 101,
   "metadata": {},
   "outputs": [],
   "source": [
    "preds = model.predict(test, batch_size=batch_size)"
   ]
  },
  {
   "cell_type": "code",
   "execution_count": 102,
   "metadata": {},
   "outputs": [
    {
     "name": "stdout",
     "output_type": "stream",
     "text": [
      "<type 'numpy.ndarray'> (15945, 10)\n",
      "[[  3.5432e-03   7.0584e-07   1.1488e-05   9.9582e-01   4.0455e-04   2.6097e-07   1.8613e-07\n",
      "    2.4113e-07   2.1877e-04   7.1584e-14]\n",
      " [  2.8611e-02   3.1746e-04   2.1748e-01   2.4918e-05   8.7169e-03   5.5376e-02   5.1590e-03\n",
      "    6.8352e-04   6.8328e-01   3.4538e-04]\n",
      " [  6.8160e-02   3.9589e-02   3.1609e-02   4.2841e-02   1.9530e-03   1.7768e-04   5.0760e-01\n",
      "    1.2552e-01   1.8255e-01   2.6189e-09]\n",
      " [  1.0125e-01   5.6725e-03   9.8556e-06   6.8048e-06   8.5674e-01   5.6852e-06   4.0976e-03\n",
      "    1.1049e-05   3.2200e-02   2.9635e-12]\n",
      " [  2.7601e-03   1.0116e-01   2.3207e-01   1.2752e-01   9.5751e-04   4.8995e-02   3.4390e-02\n",
      "    3.6522e-01   8.6932e-02   4.7655e-15]]\n"
     ]
    }
   ],
   "source": [
    "print (type(preds), preds.shape)\n",
    "print (preds[0:5, ])"
   ]
  },
  {
   "cell_type": "code",
   "execution_count": 122,
   "metadata": {},
   "outputs": [
    {
     "data": {
      "text/plain": [
       "array([[ 0. ,  0. ,  0. ,  1. ,  0. ,  0. ,  0. ,  0. ,  0. ,  0. ],\n",
       "       [ 0. ,  0. ,  0.2,  0. ,  0. ,  0.1,  0. ,  0. ,  0.7,  0. ],\n",
       "       [ 0.1,  0. ,  0. ,  0. ,  0. ,  0. ,  0.5,  0.1,  0.2,  0. ],\n",
       "       [ 0.1,  0. ,  0. ,  0. ,  0.9,  0. ,  0. ,  0. ,  0. ,  0. ],\n",
       "       [ 0. ,  0.1,  0.2,  0.1,  0. ,  0. ,  0. ,  0.4,  0.1,  0. ]], dtype=float32)"
      ]
     },
     "execution_count": 122,
     "metadata": {},
     "output_type": "execute_result"
    }
   ],
   "source": [
    "preds = np.around(preds, decimals=1)\n",
    "preds[0:5,]"
   ]
  },
  {
   "cell_type": "code",
   "execution_count": 123,
   "metadata": {},
   "outputs": [
    {
     "data": {
      "text/plain": [
       "(['unknown/img_92913.jpg',\n",
       "  'unknown/img_82508.jpg',\n",
       "  'unknown/img_92721.jpg',\n",
       "  'unknown/img_20254.jpg',\n",
       "  'unknown/img_10482.jpg'],\n",
       " 15945)"
      ]
     },
     "execution_count": 123,
     "metadata": {},
     "output_type": "execute_result"
    }
   ],
   "source": [
    "test_filename[0:5], len(test_filename)"
   ]
  },
  {
   "cell_type": "code",
   "execution_count": 124,
   "metadata": {},
   "outputs": [
    {
     "name": "stdout",
     "output_type": "stream",
     "text": [
      "['img_92913.jpg', 'img_82508.jpg', 'img_92721.jpg', 'img_20254.jpg', 'img_10482.jpg']\n"
     ]
    }
   ],
   "source": [
    "#create list of filenames with the unknown/ dropped\n",
    "filenames = []\n",
    "for i in range(len(test_filename)):\n",
    "    filenames.append(test_filename[i][8:])\n",
    "    #print (filenames[i])\n",
    "print (filenames[0:5])"
   ]
  },
  {
   "cell_type": "code",
   "execution_count": 139,
   "metadata": {},
   "outputs": [],
   "source": [
    "results2 = pd.DataFrame(filenames,preds)"
   ]
  },
  {
   "cell_type": "code",
   "execution_count": 140,
   "metadata": {},
   "outputs": [
    {
     "data": {
      "text/plain": [
       "(15945, 1)"
      ]
     },
     "execution_count": 140,
     "metadata": {},
     "output_type": "execute_result"
    }
   ],
   "source": [
    "results2.shape"
   ]
  },
  {
   "cell_type": "code",
   "execution_count": null,
   "metadata": {},
   "outputs": [],
   "source": []
  },
  {
   "cell_type": "code",
   "execution_count": 125,
   "metadata": {
    "scrolled": true
   },
   "outputs": [
    {
     "data": {
      "text/plain": [
       "((15945, 11),\n",
       " array([['img_92913.jpg', '0.0', '0.0', '0.0', '1.0', '0.0', '0.0', '0.0', '0.0', '0.0', '0.0'],\n",
       "        ['img_82508.jpg', '0.0', '0.0', '0.20000000298', '0.0', '0.0', '0.10000000149', '0.0', '0.0',\n",
       "         '0.699999988079', '0.0'],\n",
       "        ['img_92721.jpg', '0.10000000149', '0.0', '0.0', '0.0', '0.0', '0.0', '0.5', '0.10000000149',\n",
       "         '0.20000000298', '0.0'],\n",
       "        ['img_20254.jpg', '0.10000000149', '0.0', '0.0', '0.0', '0.899999976158', '0.0', '0.0',\n",
       "         '0.0', '0.0', '0.0'],\n",
       "        ['img_10482.jpg', '0.0', '0.10000000149', '0.20000000298', '0.10000000149', '0.0', '0.0',\n",
       "         '0.0', '0.40000000596', '0.10000000149', '0.0']],\n",
       "       dtype='|S32'))"
      ]
     },
     "execution_count": 125,
     "metadata": {},
     "output_type": "execute_result"
    }
   ],
   "source": [
    "results = np.column_stack((np.array(filenames),preds))\n",
    "results.shape, results[0:5,]"
   ]
  },
  {
   "cell_type": "markdown",
   "metadata": {},
   "source": [
    "#submit.csv example format.\n",
    "\n",
    "img,c0,c1,c2,c3,c4,c5,c6,c7,c8,c9\n",
    "img_1.jpg,0.1,0.1,0.1,0.1,0.1,0.1,0.1,0.1,0.1,0.1\n",
    "img_10.jpg,0.1,0.1,0.1,0.1,0.1,0.1,0.1,0.1,0.1,0.1\n"
   ]
  },
  {
   "cell_type": "code",
   "execution_count": 129,
   "metadata": {},
   "outputs": [
    {
     "data": {
      "text/plain": [
       "['img', 'c0', 'c1', 'c2', 'c3', 'c4', 'c5', 'c6', 'c7', 'c8', 'c9']"
      ]
     },
     "execution_count": 129,
     "metadata": {},
     "output_type": "execute_result"
    }
   ],
   "source": [
    "csv_headers = ['img']\n",
    "for category in CATEGORIES:\n",
    "    #print (category[0:2])\n",
    "    csv_headers.append(category[0:2])\n",
    "csv_headers"
   ]
  },
  {
   "cell_type": "code",
   "execution_count": 130,
   "metadata": {},
   "outputs": [
    {
     "data": {
      "text/plain": [
       "'/home/ubuntu/fastai/data/state/results/'"
      ]
     },
     "execution_count": 130,
     "metadata": {},
     "output_type": "execute_result"
    }
   ],
   "source": [
    "RESULTS_PATH"
   ]
  },
  {
   "cell_type": "code",
   "execution_count": 137,
   "metadata": {},
   "outputs": [
    {
     "name": "stdout",
     "output_type": "stream",
     "text": [
      "/home/ubuntu/fastai/data/state/results\n"
     ]
    },
    {
     "ename": "TypeError",
     "evalue": "Mismatch between array dtype ('|S32') and format specifier ('%.18e,%.18e,%.18e,%.18e,%.18e,%.18e,%.18e,%.18e,%.18e,%.18e,%.18e')",
     "output_type": "error",
     "traceback": [
      "\u001b[0;31m---------------------------------------------------------------------------\u001b[0m",
      "\u001b[0;31mTypeError\u001b[0m                                 Traceback (most recent call last)",
      "\u001b[0;32m<ipython-input-137-f49f38f28449>\u001b[0m in \u001b[0;36m<module>\u001b[0;34m()\u001b[0m\n\u001b[1;32m      1\u001b[0m \u001b[0mget_ipython\u001b[0m\u001b[0;34m(\u001b[0m\u001b[0;34m)\u001b[0m\u001b[0;34m.\u001b[0m\u001b[0mmagic\u001b[0m\u001b[0;34m(\u001b[0m\u001b[0;34mu'cd $RESULTS_PATH'\u001b[0m\u001b[0;34m)\u001b[0m\u001b[0;34m\u001b[0m\u001b[0m\n\u001b[1;32m      2\u001b[0m \u001b[0msubmission_file_name\u001b[0m \u001b[0;34m=\u001b[0m \u001b[0;34m\"submit\"\u001b[0m\u001b[0;34m+\u001b[0m \u001b[0ms_or_p\u001b[0m \u001b[0;34m+\u001b[0m\u001b[0;34m\".csv\"\u001b[0m\u001b[0;34m\u001b[0m\u001b[0m\n\u001b[0;32m----> 3\u001b[0;31m \u001b[0mnp\u001b[0m\u001b[0;34m.\u001b[0m\u001b[0msavetxt\u001b[0m\u001b[0;34m(\u001b[0m\u001b[0msubmission_file_name\u001b[0m\u001b[0;34m,\u001b[0m \u001b[0mresults\u001b[0m\u001b[0;34m,\u001b[0m \u001b[0mdelimiter\u001b[0m\u001b[0;34m=\u001b[0m\u001b[0;34m','\u001b[0m\u001b[0;34m)\u001b[0m\u001b[0;34m\u001b[0m\u001b[0m\n\u001b[0m",
      "\u001b[0;32m/usr/local/lib/python2.7/dist-packages/numpy/lib/npyio.pyc\u001b[0m in \u001b[0;36msavetxt\u001b[0;34m(fname, X, fmt, delimiter, newline, header, footer, comments)\u001b[0m\n\u001b[1;32m   1256\u001b[0m                     raise TypeError(\"Mismatch between array dtype ('%s') and \"\n\u001b[1;32m   1257\u001b[0m                                     \u001b[0;34m\"format specifier ('%s')\"\u001b[0m\u001b[0;34m\u001b[0m\u001b[0m\n\u001b[0;32m-> 1258\u001b[0;31m                                     % (str(X.dtype), format))\n\u001b[0m\u001b[1;32m   1259\u001b[0m         \u001b[0;32mif\u001b[0m \u001b[0mlen\u001b[0m\u001b[0;34m(\u001b[0m\u001b[0mfooter\u001b[0m\u001b[0;34m)\u001b[0m \u001b[0;34m>\u001b[0m \u001b[0;36m0\u001b[0m\u001b[0;34m:\u001b[0m\u001b[0;34m\u001b[0m\u001b[0m\n\u001b[1;32m   1260\u001b[0m             \u001b[0mfooter\u001b[0m \u001b[0;34m=\u001b[0m \u001b[0mfooter\u001b[0m\u001b[0;34m.\u001b[0m\u001b[0mreplace\u001b[0m\u001b[0;34m(\u001b[0m\u001b[0;34m'\\n'\u001b[0m\u001b[0;34m,\u001b[0m \u001b[0;34m'\\n'\u001b[0m \u001b[0;34m+\u001b[0m \u001b[0mcomments\u001b[0m\u001b[0;34m)\u001b[0m\u001b[0;34m\u001b[0m\u001b[0m\n",
      "\u001b[0;31mTypeError\u001b[0m: Mismatch between array dtype ('|S32') and format specifier ('%.18e,%.18e,%.18e,%.18e,%.18e,%.18e,%.18e,%.18e,%.18e,%.18e,%.18e')"
     ]
    }
   ],
   "source": [
    "%cd $RESULTS_PATH\n",
    "submission_file_name = \"submit\"+ s_or_p +\".csv\"\n",
    "np.savetxt(submission_file_name, results, delimiter=',')"
   ]
  },
  {
   "cell_type": "code",
   "execution_count": null,
   "metadata": {},
   "outputs": [],
   "source": []
  }
 ],
 "metadata": {
  "kernelspec": {
   "display_name": "Python 2",
   "language": "python",
   "name": "python2"
  },
  "language_info": {
   "codemirror_mode": {
    "name": "ipython",
    "version": 2
   },
   "file_extension": ".py",
   "mimetype": "text/x-python",
   "name": "python",
   "nbconvert_exporter": "python",
   "pygments_lexer": "ipython2",
   "version": "2.7.12"
  }
 },
 "nbformat": 4,
 "nbformat_minor": 2
}
