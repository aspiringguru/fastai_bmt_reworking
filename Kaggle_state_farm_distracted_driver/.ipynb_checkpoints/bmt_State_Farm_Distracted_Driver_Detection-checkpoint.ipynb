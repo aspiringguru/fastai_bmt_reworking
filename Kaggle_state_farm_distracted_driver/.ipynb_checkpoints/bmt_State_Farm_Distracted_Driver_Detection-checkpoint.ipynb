{
 "cells": [
  {
   "cell_type": "markdown",
   "metadata": {},
   "source": [
    "# Using Convolutional Neural Networks"
   ]
  },
  {
   "cell_type": "markdown",
   "metadata": {},
   "source": [
    "Welcome to the first week of the first deep learning certificate! We're going to use convolutional neural networks (CNNs) to allow our computer to see - something that is only possible thanks to deep learning."
   ]
  },
  {
   "cell_type": "markdown",
   "metadata": {},
   "source": [
    "## Introduction to this week's task: 'State_Farm_Distracted_Driver_Detection'"
   ]
  },
  {
   "cell_type": "markdown",
   "metadata": {},
   "source": [
    "using data from https://www.kaggle.com/c/state-farm-distracted-driver-detection\n",
    "\n",
    "Reusing the methods from Lesson 1 'dogs and cats'."
   ]
  },
  {
   "cell_type": "markdown",
   "metadata": {},
   "source": [
    "## Basic setup"
   ]
  },
  {
   "cell_type": "code",
   "execution_count": 1,
   "metadata": {},
   "outputs": [
    {
     "name": "stdout",
     "output_type": "stream",
     "text": [
      "utility libraries loaded.\n"
     ]
    }
   ],
   "source": [
    "#adding utility libraries\n",
    "import os\n",
    "import sys\n",
    "import random\n",
    "import time\n",
    "import pip\n",
    "import shutil\n",
    "print (\"utility libraries loaded.\")"
   ]
  },
  {
   "cell_type": "code",
   "execution_count": 2,
   "metadata": {},
   "outputs": [
    {
     "name": "stdout",
     "output_type": "stream",
     "text": [
      "('sys.version_info:', sys.version_info(major=2, minor=7, micro=12, releaselevel='final', serial=0))\n"
     ]
    }
   ],
   "source": [
    "print (\"sys.version_info:\", sys.version_info)\n",
    "installed_packages = pip.get_installed_distributions()\n",
    "installed_packages_list = sorted([\"%s==%s\" % (i.key, i.version)\n",
    "     for i in installed_packages])\n",
    "#print(installed_packages_list)\n",
    "#for package in installed_packages_list:\n",
    "#    print (package)"
   ]
  },
  {
   "cell_type": "code",
   "execution_count": 3,
   "metadata": {},
   "outputs": [
    {
     "name": "stdout",
     "output_type": "stream",
     "text": [
      "loaded\n"
     ]
    }
   ],
   "source": [
    "%matplotlib inline\n",
    "print (\"loaded\")"
   ]
  },
  {
   "cell_type": "code",
   "execution_count": 4,
   "metadata": {},
   "outputs": [
    {
     "name": "stdout",
     "output_type": "stream",
     "text": [
      "('path:', '/home/ubuntu/fastai/data/state/')\n",
      "/home/ubuntu/fastai/data/state/train/c0/  #: 1668\n",
      "/home/ubuntu/fastai/data/state/train/c1/  #: 1519\n",
      "/home/ubuntu/fastai/data/state/train/c2/  #: 1553\n",
      "/home/ubuntu/fastai/data/state/train/c3/  #: 1572\n",
      "/home/ubuntu/fastai/data/state/train/c4/  #: 1559\n",
      "/home/ubuntu/fastai/data/state/train/c5/  #: 1550\n",
      "/home/ubuntu/fastai/data/state/train/c6/  #: 1558\n",
      "/home/ubuntu/fastai/data/state/train/c7/  #: 1342\n",
      "/home/ubuntu/fastai/data/state/train/c8/  #: 1281\n",
      "/home/ubuntu/fastai/data/state/train/c9/  #: 1427\n",
      "/home/ubuntu/fastai/data/state/test/  #: 79726\n"
     ]
    }
   ],
   "source": [
    "#NB: this model uses train / verify / test. we will be splitting data into these categories.\n",
    "#download img.zip from https://www.kaggle.com/c/state-farm-distracted-driver-detection/data\n",
    "#unzip to this directory.\n",
    "#path = \"/home/ubuntu/kaggle_data/\"\n",
    "path = \"/home/ubuntu/fastai/data/state/\"\n",
    "print (\"path:\", path)\n",
    "#count files in train/verify/test directories\n",
    "dirList = ['train/c0/', 'train/c1/', 'train/c2/', 'train/c3/', 'train/c4/', \n",
    "           'train/c5/', 'train/c6/', 'train/c7/', 'train/c8/', 'train/c9/', 'test/']\n",
    "#nb: test directory is not split into categories.\n",
    "for dir_ in dirList:\n",
    "    pathDir = path + dir_\n",
    "    #files = [f for f in os.listdir(pathDir) if os.path.isfile(f)]\n",
    "    #print(\"# of files in directory\",pathDir,\" = \", files)\n",
    "    numFiles = len([name for name in os.listdir(pathDir) if os.path.isfile(os.path.join(pathDir, name))])\n",
    "    print pathDir, \" #:\", numFiles\n",
    "#drop last element from list so we can reuse this list later.\n",
    "dirList = dirList[:-1]\n",
    "#need to split data into train/verify for use with code below."
   ]
  },
  {
   "cell_type": "code",
   "execution_count": null,
   "metadata": {},
   "outputs": [],
   "source": [
    "print (\"path:\", path)\n",
    "os.chdir(path)\n",
    "print (\"os.getcwd():\", os.getcwd())\n",
    "#create directories needed.\n",
    "verifyDirList = ['verify/', 'verify/c0/', 'verify/c1/', 'verify/c2/', 'verify/c3/', 'verify/c4/', \n",
    "                 'verify/c5/', 'verify/c6/', 'verify/c7/', 'verify/c8/', 'verify/c9/']\n",
    "\n",
    "for dir_ in verifyDirList:\n",
    "    print(dir_)\n",
    "    try:\n",
    "        os.stat(dir_)\n",
    "    except:\n",
    "        print(\"directory\",dir_,\"does not exist, creating.\")\n",
    "        os.mkdir(dir_)\n",
    "#drop first element of verifyDirList so we can re-use it below.\n",
    "verifyDirList = verifyDirList[1:]\n",
    "print(\"completed.\")"
   ]
  },
  {
   "cell_type": "code",
   "execution_count": null,
   "metadata": {},
   "outputs": [],
   "source": [
    "#loop through dirList directories\n",
    "#make list of files in directory\n",
    "# select a % of files and move to directories in verifyDirList\n",
    "\n",
    "#comment out since already run\n",
    "'''\n",
    "verifyFraction = 0.111   \n",
    "#training/validation/test typically 80/10/10%\n",
    "#we are splitting from train to verify. to achieve 80/10/10 want 1/9 split off. ie  0.111\n",
    "for i in range(0,len(verifyDirList)):\n",
    "    sourceDir = dirList[i]\n",
    "    fileList = [name for name in os.listdir(sourceDir) if os.path.isfile(os.path.join(sourceDir, name))]\n",
    "    destDir = verifyDirList[i]\n",
    "    print (\"moving \", int(verifyFraction*len(fileList)), \" files from \", sourceDir, \" to \", destDir)\n",
    "    \n",
    "    intToMove = random.sample(range(0, len(fileList)), int(verifyFraction * len(fileList)) )\n",
    "    print (\"index of files to move:\", intToMove)\n",
    "    for int_ in intToMove:\n",
    "        #print(\"int_:\", int_)\n",
    "        src = dirList[i]       +fileList[int_]\n",
    "        dst = verifyDirList[i] +fileList[int_]\n",
    "        #print (\"moving from \", src, \" to \", dst)\n",
    "        shutil.move(src, dst)\n",
    "print (\"completed\")        \n",
    "'''"
   ]
  },
  {
   "cell_type": "code",
   "execution_count": null,
   "metadata": {},
   "outputs": [],
   "source": [
    "totalCount=0\n",
    "for dir_ in verifyDirList:\n",
    "    pathDir = path + dir_\n",
    "    #files = [f for f in os.listdir(pathDir) if os.path.isfile(f)]\n",
    "    #print(\"# of files in directory\",pathDir,\" = \", files)\n",
    "    numFiles = len([name for name in os.listdir(pathDir) if os.path.isfile(os.path.join(pathDir, name))])\n",
    "    totalCount += numFiles\n",
    "    print (pathDir, \" #:\", numFiles)\n",
    "print (\"-----------------------totalCount:\", totalCount)\n",
    "totalCount=0\n",
    "\n",
    "for dir_ in dirList:\n",
    "    pathDir = path + dir_\n",
    "    #files = [f for f in os.listdir(pathDir) if os.path.isfile(f)]\n",
    "    #print(\"# of files in directory\",pathDir,\" = \", files)\n",
    "    numFiles = len([name for name in os.listdir(pathDir) if os.path.isfile(os.path.join(pathDir, name))])\n",
    "    totalCount += numFiles\n",
    "    print (pathDir, \" #:\", numFiles)\n",
    "print (\"-----------------------totalCount:\", totalCount)\n"
   ]
  },
  {
   "cell_type": "markdown",
   "metadata": {},
   "source": [
    "A few basic libraries that we'll need for the initial exercises:"
   ]
  },
  {
   "cell_type": "code",
   "execution_count": null,
   "metadata": {},
   "outputs": [],
   "source": [
    "from __future__ import division,print_function\n",
    "\n",
    "#import os, json\n",
    "import json\n",
    "from glob import glob\n",
    "import numpy as np\n",
    "np.set_printoptions(precision=4, linewidth=100)\n",
    "from matplotlib import pyplot as plt\n",
    "print (\"loaded\")"
   ]
  },
  {
   "cell_type": "markdown",
   "metadata": {},
   "source": [
    "We have created a file most imaginatively called 'utils.py' to store any little convenience functions we'll want to use. We will discuss these as we use them."
   ]
  },
  {
   "cell_type": "code",
   "execution_count": null,
   "metadata": {
    "scrolled": false
   },
   "outputs": [],
   "source": [
    "print (\"os.getcwd():\", os.getcwd())\n",
    "os.chdir(\"/home/ubuntu\")\n",
    "import utils; reload(utils)\n",
    "from utils import plots\n"
   ]
  },
  {
   "cell_type": "markdown",
   "metadata": {},
   "source": [
    "# Use a pretrained VGG model with our **Vgg16** class"
   ]
  },
  {
   "cell_type": "markdown",
   "metadata": {},
   "source": [
    "Our first step is simply to use a model that has been fully created for us, which can recognise a wide variety (1,000 categories) of images. We will use 'VGG', which won the 2014 Imagenet competition, and is a very simple model to create and understand. The VGG Imagenet team created both a larger, slower, slightly more accurate model (*VGG  19*) and a smaller, faster model (*VGG 16*). We will be using VGG 16 since the much slower performance of VGG19 is generally not worth the very minor improvement in accuracy.\n",
    "\n",
    "We have created a python class, *Vgg16*, which makes using the VGG 16 model very straightforward. "
   ]
  },
  {
   "cell_type": "markdown",
   "metadata": {},
   "source": [
    "## The punchline: state of the art custom model in 7 lines of code\n",
    "\n",
    "Here's everything you need to do to get >97% accuracy on the Dogs vs Cats dataset - we won't analyze how it works behind the scenes yet, since at this stage we're just going to focus on the minimum necessary to actually do useful work."
   ]
  },
  {
   "cell_type": "code",
   "execution_count": null,
   "metadata": {},
   "outputs": [],
   "source": [
    "# As large as you can, but no larger than 64 is recommended. \n",
    "# If you have an older or cheaper GPU, you'll run out of memory, so will have to decrease this.\n",
    "batch_size=64"
   ]
  },
  {
   "cell_type": "code",
   "execution_count": null,
   "metadata": {},
   "outputs": [],
   "source": [
    "# Import our class, and instantiate\n",
    "import vgg16; reload(vgg16)\n",
    "from vgg16 import Vgg16\n",
    "print (\"custom libraries loaded\")"
   ]
  },
  {
   "cell_type": "code",
   "execution_count": null,
   "metadata": {},
   "outputs": [],
   "source": [
    "os.chdir(path)\n",
    "print (\"after resetting working directory. os.getcwd():\", os.getcwd())\n",
    "print (\"starting\")\n",
    "start_time = time.time()\n",
    "vgg = Vgg16()\n",
    "# Grab a few images at a time for training and validation.\n",
    "# NB: They must be in subdirectories named based on their category\n",
    "print(\"getting training data\")\n",
    "#nb: refer above filecounts 11500+11500 = 23000\n",
    "batches = vgg.get_batches(path+'train', batch_size=batch_size)\n",
    "print(\"getting validation data\")\n",
    "#nb: refer above filecounts 1000+1000 = 2000\n",
    "val_batches = vgg.get_batches(path+'verify', batch_size=batch_size*2)\n",
    "print(\"vgg.finetune training data\")\n",
    "vgg.finetune(batches)\n",
    "print (\"fitting validation data\")\n",
    "vgg.fit(batches, val_batches, nb_epoch=1)#this takes ~ 10 minutes on aws p2 instance.\n",
    "print (\"end\")\n",
    "print(\"--- %s seconds to run this block ---\" % (time.time() - start_time))"
   ]
  },
  {
   "cell_type": "markdown",
   "metadata": {},
   "source": [
    "The code above will work for any image recognition task, with any number of categories! All you have to do is to put your images into one folder per category, and run the code above.\n",
    "\n",
    "Let's take a look at how this works, step by step..."
   ]
  },
  {
   "cell_type": "markdown",
   "metadata": {},
   "source": [
    "## Use Vgg16 for basic image recognition\n",
    "\n",
    "Let's start off by using the *Vgg16* class to recognise the main imagenet category for each image.\n",
    "\n",
    "We won't be able to enter the Cats vs Dogs competition with an Imagenet model alone, since 'cat' and 'dog' are not categories in Imagenet - instead each individual breed is a separate category. However, we can use it to see how well it can recognise the images, which is a good first step.\n",
    "\n",
    "First, create a Vgg16 object:"
   ]
  },
  {
   "cell_type": "code",
   "execution_count": null,
   "metadata": {},
   "outputs": [],
   "source": [
    "vgg = Vgg16()\n",
    "print (type(vgg))\n",
    "print (\"list of available methods :\", dir(vgg))\n"
   ]
  },
  {
   "cell_type": "markdown",
   "metadata": {},
   "source": [
    "Vgg16 is built on top of *Keras* (which we will be learning much more about shortly!), a flexible, easy to use deep learning library that sits on top of Theano or Tensorflow. Keras reads groups of images and labels in *batches*, using a fixed directory structure, where images from each category for training must be placed in a separate folder.\n",
    "\n",
    "Let's grab batches of data from our training folder:"
   ]
  },
  {
   "cell_type": "code",
   "execution_count": null,
   "metadata": {
    "scrolled": true
   },
   "outputs": [],
   "source": [
    "start_time = time.time()\n",
    "batches = vgg.get_batches(path+'train', batch_size=20)\n",
    "\n",
    "#from source code.\n",
    "#test_batches = self.get_batches(path, shuffle=False, batch_size=batch_size, class_mode=None)\n",
    "#        return test_batches, self.model.predict_generator(test_batches, test_batches.nb_sample)\n",
    "#NB: previously we had 2 categories 'cats' and 'dogs', now we have 10 categories so selecting 2x10=20.\n",
    "\n",
    "print(\"--- %s seconds to run this block ---\" % (time.time() - start_time))\n",
    "print (type(batches))"
   ]
  },
  {
   "cell_type": "markdown",
   "metadata": {},
   "source": [
    "(BTW, when Keras refers to 'classes', it doesn't mean python classes - but rather it refers to the categories of the labels, such as 'pug', or 'tabby'.)\n",
    "\n",
    "*Batches* is just a regular python iterator. Each iteration returns both the images themselves, as well as the labels."
   ]
  },
  {
   "cell_type": "code",
   "execution_count": null,
   "metadata": {},
   "outputs": [],
   "source": [
    "start_time = time.time()\n",
    "imgs,labels = next(batches)\n",
    "print(\"--- %s seconds to run this block ---\" % (time.time() - start_time))\n",
    "print (\"imgs\", type(imgs), imgs.shape)\n",
    "print (\"labels:\", type(labels), labels.shape)\n",
    "#nb: image files are 640 x 480 pixels.\n",
    "#imgs = numpy.ndarray 20 of 3 colour array RGB 224x224."
   ]
  },
  {
   "cell_type": "markdown",
   "metadata": {},
   "source": [
    "one hot encoding"
   ]
  },
  {
   "cell_type": "code",
   "execution_count": null,
   "metadata": {},
   "outputs": [],
   "source": [
    "#summarize data to make plotting more readable.\n",
    "category = []\n",
    "for i in range(0,labels.shape[0]):\n",
    "    #print(labels[i,:])\n",
    "    index=list(labels[i,:]).index(1)\n",
    "    #print(\"i:\", i, \", index:\", index)\n",
    "    category.append(index)\n",
    "#print (\"category:\", category)"
   ]
  },
  {
   "cell_type": "code",
   "execution_count": null,
   "metadata": {},
   "outputs": [],
   "source": [
    "print(\"category of each photo.\")\n",
    "start_time = time.time()\n",
    "plots(imgs[0:5],   titles=category[0:5])\n",
    "plots(imgs[5:10],  titles=category[5:10])\n",
    "plots(imgs[10:15], titles=category[10:15])\n",
    "plots(imgs[15:20], titles=category[15:20])\n",
    "#NB: utils.plots != matplotlib.plt \n",
    "print(\"--- %s seconds to run this block ---\" % (time.time() - start_time))\n",
    "#print labels to screen as titles output is messy. \n",
    "#print(labels)"
   ]
  },
  {
   "cell_type": "markdown",
   "metadata": {},
   "source": [
    "We can now pass the images to Vgg16's predict() function to get back probabilities, category indexes, and category names for each image's VGG prediction."
   ]
  },
  {
   "cell_type": "code",
   "execution_count": null,
   "metadata": {},
   "outputs": [],
   "source": [
    "start_time = time.time()\n",
    "vgg.predict(imgs, True)\n",
    "print(\"--- %s seconds to run this block ---\" % (time.time() - start_time))"
   ]
  },
  {
   "cell_type": "markdown",
   "metadata": {},
   "source": [
    "The category indexes are based on the ordering of categories used in the VGG model - e.g here are the first four:"
   ]
  },
  {
   "cell_type": "code",
   "execution_count": null,
   "metadata": {},
   "outputs": [],
   "source": [
    "print (type(vgg.classes))\n",
    "print (len(vgg.classes))"
   ]
  },
  {
   "cell_type": "code",
   "execution_count": null,
   "metadata": {},
   "outputs": [],
   "source": [
    "vgg.classes[:20]\n",
    "#this list is not useful"
   ]
  },
  {
   "cell_type": "markdown",
   "metadata": {},
   "source": [
    "(Note that, other than creating the Vgg16 object, none of these steps are necessary to build a model; they are just showing how to use the class to view imagenet predictions.)"
   ]
  },
  {
   "cell_type": "markdown",
   "metadata": {},
   "source": [
    "## Use our Vgg16 class to finetune the model\n",
    "\n",
    "To change our model so that it outputs \"cat\" vs \"dog\", instead of one of 1,000 very specific categories, we need to use a process called \"finetuning\". Finetuning looks from the outside to be identical to normal machine learning training - we provide a training set with data and labels to learn from, and a validation set to test against. The model learns a set of parameters based on the data provided.\n",
    "\n",
    "However, the difference is that we start with a model that is already trained to solve a similar problem. The idea is that many of the parameters should be very similar, or the same, between the existing model, and the model we wish to create. Therefore, we only select a subset of parameters to train, and leave the rest untouched. This happens automatically when we call *fit()* after calling *finetune()*.\n",
    "\n",
    "We create our batches just like before, and making the validation set available as well. A 'batch' (or *mini-batch* as it is commonly known) is simply a subset of the training data - we use a subset at a time when training or predicting, in order to speed up training, and to avoid running out of memory."
   ]
  },
  {
   "cell_type": "code",
   "execution_count": null,
   "metadata": {},
   "outputs": [],
   "source": [
    "batch_size=64"
   ]
  },
  {
   "cell_type": "code",
   "execution_count": null,
   "metadata": {},
   "outputs": [],
   "source": [
    "start_time = time.time()\n",
    "batches = vgg.get_batches(path+'train', batch_size=batch_size)\n",
    "val_batches = vgg.get_batches(path+'verify', batch_size=batch_size)\n",
    "print(\"--- %s seconds to run this block ---\" % (time.time() - start_time))"
   ]
  },
  {
   "cell_type": "markdown",
   "metadata": {},
   "source": [
    "Calling *finetune()* modifies the model such that it will be trained based on the data in the batches provided - in this case, to predict one of the 10 categories."
   ]
  },
  {
   "cell_type": "code",
   "execution_count": null,
   "metadata": {},
   "outputs": [],
   "source": [
    "start_time = time.time()\n",
    "vgg.finetune(batches)\n",
    "print(\"--- %s seconds to run this block ---\" % (time.time() - start_time))"
   ]
  },
  {
   "cell_type": "markdown",
   "metadata": {},
   "source": [
    "Finally, we *fit()* the parameters of the model using the training data, reporting the accuracy on the validation set after every epoch. (An *epoch* is one full pass through the training data.)"
   ]
  },
  {
   "cell_type": "code",
   "execution_count": null,
   "metadata": {},
   "outputs": [],
   "source": [
    "#this dataset takes ~10 minutes on aws p2 instance \n",
    "start_time = time.time()\n",
    "vgg.fit(batches, val_batches, nb_epoch=1)\n",
    "print(\"--- %s seconds to run this block ---\" % (time.time() - start_time))"
   ]
  },
  {
   "cell_type": "markdown",
   "metadata": {},
   "source": [
    "That shows all of the steps involved in using the Vgg16 class to create an image recognition model using whatever labels you are interested in. For instance, this process could classify paintings by style, or leaves by type of disease, or satellite photos by type of crop, and so forth.\n",
    "\n",
    "Next up, we'll dig one level deeper to see what's going on in the Vgg16 class."
   ]
  },
  {
   "cell_type": "markdown",
   "metadata": {},
   "source": [
    "# Create a VGG model from scratch in Keras\n",
    "\n",
    "For the rest of this tutorial, we will not be using the Vgg16 class at all. Instead, we will recreate from scratch the functionality we just used. This is not necessary if all you want to do is use the existing model - but if you want to create your own models, you'll need to understand these details. It will also help you in the future when you debug any problems with your models, since you'll understand what's going on behind the scenes."
   ]
  },
  {
   "cell_type": "markdown",
   "metadata": {},
   "source": [
    "## Model setup\n",
    "\n",
    "We need to import all the modules we'll be using from numpy, scipy, and keras:"
   ]
  },
  {
   "cell_type": "code",
   "execution_count": null,
   "metadata": {},
   "outputs": [],
   "source": [
    "from numpy.random import random, permutation\n",
    "from scipy import misc, ndimage\n",
    "from scipy.ndimage.interpolation import zoom\n",
    "\n",
    "import keras\n",
    "from keras import backend as K\n",
    "from keras.utils.data_utils import get_file\n",
    "from keras.models import Sequential, Model\n",
    "from keras.layers.core import Flatten, Dense, Dropout, Lambda\n",
    "from keras.layers import Input\n",
    "from keras.layers.convolutional import Convolution2D, MaxPooling2D, ZeroPadding2D\n",
    "from keras.optimizers import SGD, RMSprop\n",
    "\n",
    "from keras.preprocessing import image\n",
    "print (\"libraries loaded.\")"
   ]
  },
  {
   "cell_type": "markdown",
   "metadata": {},
   "source": [
    "Let's import the mappings from VGG ids to imagenet category ids and descriptions, for display purposes later."
   ]
  },
  {
   "cell_type": "code",
   "execution_count": null,
   "metadata": {},
   "outputs": [],
   "source": [
    "start_time = time.time()\n",
    "FILES_PATH = 'http://files.fast.ai/models/'; CLASS_FILE='imagenet_class_index.json'\n",
    "# Keras' get_file() is a handy function that downloads files, and caches them for re-use later\n",
    "fpath = get_file(CLASS_FILE, FILES_PATH+CLASS_FILE, cache_subdir='models')\n",
    "with open(fpath) as f: class_dict = json.load(f)\n",
    "# Convert dictionary with string indexes into an array\n",
    "classes = [class_dict[str(i)][1] for i in range(len(class_dict))]\n",
    "print(\"--- %s seconds to run this block ---\" % (time.time() - start_time))"
   ]
  },
  {
   "cell_type": "markdown",
   "metadata": {},
   "source": [
    "Here's a few examples of the categories we just imported:"
   ]
  },
  {
   "cell_type": "code",
   "execution_count": null,
   "metadata": {},
   "outputs": [],
   "source": [
    "classes[:5]"
   ]
  },
  {
   "cell_type": "markdown",
   "metadata": {},
   "source": [
    "## Model creation\n",
    "\n",
    "Creating the model involves creating the model architecture, and then loading the model weights into that architecture. We will start by defining the basic pieces of the VGG architecture.\n",
    "\n",
    "VGG has just one type of convolutional block, and one type of fully connected ('dense') block. Here's the convolutional block definition:"
   ]
  },
  {
   "cell_type": "code",
   "execution_count": null,
   "metadata": {},
   "outputs": [],
   "source": [
    "def ConvBlock(layers, model, filters):\n",
    "    for i in range(layers): \n",
    "        model.add(ZeroPadding2D((1,1)))\n",
    "        model.add(Convolution2D(filters, 3, 3, activation='relu'))\n",
    "    model.add(MaxPooling2D((2,2), strides=(2,2)))\n",
    "print(\"method loaded\")"
   ]
  },
  {
   "cell_type": "markdown",
   "metadata": {},
   "source": [
    "...and here's the fully-connected definition."
   ]
  },
  {
   "cell_type": "code",
   "execution_count": null,
   "metadata": {},
   "outputs": [],
   "source": [
    "def FCBlock(model):\n",
    "    model.add(Dense(4096, activation='relu'))\n",
    "    model.add(Dropout(0.5))\n",
    "print(\"method loaded\")"
   ]
  },
  {
   "cell_type": "markdown",
   "metadata": {},
   "source": [
    "When the VGG model was trained in 2014, the creators subtracted the average of each of the three (R,G,B) channels first, so that the data for each channel had a mean of zero. Furthermore, their software that expected the channels to be in B,G,R order, whereas Python by default uses R,G,B. We need to preprocess our data to make these two changes, so that it is compatible with the VGG model:"
   ]
  },
  {
   "cell_type": "code",
   "execution_count": null,
   "metadata": {},
   "outputs": [],
   "source": [
    "# Mean of each channel as provided by VGG researchers\n",
    "vgg_mean = np.array([123.68, 116.779, 103.939]).reshape((3,1,1))\n",
    "\n",
    "def vgg_preprocess(x):\n",
    "    x = x - vgg_mean     # subtract mean\n",
    "    return x[:, ::-1]    # reverse axis bgr->rgb\n",
    "print(\"method loaded\")"
   ]
  },
  {
   "cell_type": "markdown",
   "metadata": {},
   "source": [
    "Now we're ready to define the VGG model architecture - look at how simple it is, now that we have the basic blocks defined!"
   ]
  },
  {
   "cell_type": "code",
   "execution_count": null,
   "metadata": {},
   "outputs": [],
   "source": [
    "def VGG_16():\n",
    "    model = Sequential()\n",
    "    model.add(Lambda(vgg_preprocess, input_shape=(3,224,224)))\n",
    "\n",
    "    ConvBlock(2, model, 64)\n",
    "    ConvBlock(2, model, 128)\n",
    "    ConvBlock(3, model, 256)\n",
    "    ConvBlock(3, model, 512)\n",
    "    ConvBlock(3, model, 512)\n",
    "\n",
    "    model.add(Flatten())\n",
    "    FCBlock(model)\n",
    "    FCBlock(model)\n",
    "    model.add(Dense(1000, activation='softmax'))\n",
    "    return model\n",
    "print(\"method loaded\")"
   ]
  },
  {
   "cell_type": "markdown",
   "metadata": {},
   "source": [
    "We'll learn about what these different blocks do later in the course. For now, it's enough to know that:\n",
    "\n",
    "- Convolution layers are for finding patterns in images\n",
    "- Dense (fully connected) layers are for combining patterns across an image\n",
    "\n",
    "Now that we've defined the architecture, we can create the model like any python object:"
   ]
  },
  {
   "cell_type": "code",
   "execution_count": null,
   "metadata": {},
   "outputs": [],
   "source": [
    "model = VGG_16()\n",
    "print(\"type(model):\", type(model))"
   ]
  },
  {
   "cell_type": "markdown",
   "metadata": {},
   "source": [
    "As well as the architecture, we need the weights that the VGG creators trained. The weights are the part of the model that is learnt from the data, whereas the architecture is pre-defined based on the nature of the problem. \n",
    "\n",
    "Downloading pre-trained weights is much preferred to training the model ourselves, since otherwise we would have to download the entire Imagenet archive, and train the model for many days! It's very helpful when researchers release their weights, as they did here."
   ]
  },
  {
   "cell_type": "code",
   "execution_count": null,
   "metadata": {},
   "outputs": [],
   "source": [
    "fpath = get_file('vgg16.h5', FILES_PATH+'vgg16.h5', cache_subdir='models')\n",
    "model.load_weights(fpath)\n",
    "print(\"weights loaded.\")"
   ]
  },
  {
   "cell_type": "markdown",
   "metadata": {},
   "source": [
    "## Getting imagenet predictions\n",
    "\n",
    "The setup of the imagenet model is now complete, so all we have to do is grab a batch of images and call *predict()* on them."
   ]
  },
  {
   "cell_type": "code",
   "execution_count": null,
   "metadata": {},
   "outputs": [],
   "source": [
    "batch_size = 4"
   ]
  },
  {
   "cell_type": "markdown",
   "metadata": {},
   "source": [
    "Keras provides functionality to create batches of data from directories containing images; all we have to do is to define the size to resize the images to, what type of labels to create, whether to randomly shuffle the images, and how many images to include in each batch. We use this little wrapper to define some helpful defaults appropriate for imagenet data:"
   ]
  },
  {
   "cell_type": "code",
   "execution_count": null,
   "metadata": {},
   "outputs": [],
   "source": [
    "def get_batches(dirname, gen=image.ImageDataGenerator(), shuffle=True, \n",
    "                batch_size=batch_size, class_mode='categorical'):\n",
    "    return gen.flow_from_directory(path+dirname, target_size=(224,224), \n",
    "                class_mode=class_mode, shuffle=shuffle, batch_size=batch_size)\n",
    "print(\"method loaded.\")"
   ]
  },
  {
   "cell_type": "markdown",
   "metadata": {},
   "source": [
    "From here we can use exactly the same steps as before to look at predictions from the model."
   ]
  },
  {
   "cell_type": "code",
   "execution_count": null,
   "metadata": {},
   "outputs": [],
   "source": [
    "batches = get_batches('train', batch_size=batch_size)\n",
    "val_batches = get_batches('valid', batch_size=batch_size)\n",
    "imgs,labels = next(batches)\n",
    "\n",
    "# This shows the 'ground truth'\n",
    "plots(imgs, titles=labels)"
   ]
  },
  {
   "cell_type": "markdown",
   "metadata": {},
   "source": [
    "The VGG model returns 1,000 probabilities for each image, representing the probability that the model assigns to each possible imagenet category for each image. By finding the index with the largest probability (with *np.argmax()*) we can find the predicted label."
   ]
  },
  {
   "cell_type": "code",
   "execution_count": null,
   "metadata": {},
   "outputs": [],
   "source": [
    "def pred_batch(imgs):\n",
    "    preds = model.predict(imgs)\n",
    "    idxs = np.argmax(preds, axis=1)\n",
    "    print (\"type(idxs):\", type(idxs))\n",
    "\n",
    "    print('Shape: {}'.format(preds.shape))\n",
    "    print('First 5 classes: {}'.format(classes[:5]))\n",
    "    print('First 5 probabilities: {}\\n'.format(preds[0, :5]))\n",
    "    print('Predictions prob/class: ')\n",
    "    \n",
    "    for i in range(len(idxs)):\n",
    "        idx = idxs[i]\n",
    "        print ('  {:.4f}/{}'.format(preds[i, idx], classes[idx]))\n",
    "print(\"method loaded.\")"
   ]
  },
  {
   "cell_type": "code",
   "execution_count": null,
   "metadata": {},
   "outputs": [],
   "source": [
    "start_time = time.time()\n",
    "pred_batch(imgs)\n",
    "print(\"--- %s seconds to run this block ---\" % (time.time() - start_time))"
   ]
  },
  {
   "cell_type": "code",
   "execution_count": null,
   "metadata": {},
   "outputs": [],
   "source": []
  }
 ],
 "metadata": {
  "anaconda-cloud": {},
  "kernelspec": {
   "display_name": "Python 2",
   "language": "python",
   "name": "python2"
  },
  "language_info": {
   "codemirror_mode": {
    "name": "ipython",
    "version": 2
   },
   "file_extension": ".py",
   "mimetype": "text/x-python",
   "name": "python",
   "nbconvert_exporter": "python",
   "pygments_lexer": "ipython2",
   "version": "2.7.12"
  },
  "nav_menu": {},
  "nbpresent": {
   "slides": {
    "28b43202-5690-4169-9aca-6b9dabfeb3ec": {
     "id": "28b43202-5690-4169-9aca-6b9dabfeb3ec",
     "prev": null,
     "regions": {
      "3bba644a-cf4d-4a49-9fbd-e2554428cf9f": {
       "attrs": {
        "height": 0.8,
        "width": 0.8,
        "x": 0.1,
        "y": 0.1
       },
       "content": {
        "cell": "f3d3a388-7e2a-4151-9b50-c20498fceacc",
        "part": "whole"
       },
       "id": "3bba644a-cf4d-4a49-9fbd-e2554428cf9f"
      }
     }
    },
    "8104def2-4b68-44a0-8f1b-b03bf3b2a079": {
     "id": "8104def2-4b68-44a0-8f1b-b03bf3b2a079",
     "prev": "28b43202-5690-4169-9aca-6b9dabfeb3ec",
     "regions": {
      "7dded777-1ddf-4100-99ae-25cf1c15b575": {
       "attrs": {
        "height": 0.8,
        "width": 0.8,
        "x": 0.1,
        "y": 0.1
       },
       "content": {
        "cell": "fe47bd48-3414-4657-92e7-8b8d6cb0df00",
        "part": "whole"
       },
       "id": "7dded777-1ddf-4100-99ae-25cf1c15b575"
      }
     }
    }
   },
   "themes": {}
  },
  "toc": {
   "navigate_menu": true,
   "number_sections": true,
   "sideBar": true,
   "threshold": 6,
   "toc_cell": false,
   "toc_section_display": "block",
   "toc_window_display": false
  }
 },
 "nbformat": 4,
 "nbformat_minor": 1
}
