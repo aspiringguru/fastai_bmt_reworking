{
 "cells": [
  {
   "cell_type": "markdown",
   "metadata": {},
   "source": [
    "https://www.kaggle.com/c/state-farm-distracted-driver-detection  \n",
    "\n",
    "based on prev work by bmt.\n",
    "Kaggle-dogs-cats-kernel/Kaggle-cats-dogs-redux-ensemble-1-load-data-model-predict.ipynb"
   ]
  },
  {
   "cell_type": "code",
   "execution_count": 1,
   "metadata": {},
   "outputs": [],
   "source": [
    "sample_or_prod = False #True = sample, False = production\n",
    "batch_size=32 # was 64, try small size due to out of memory error."
   ]
  },
  {
   "cell_type": "markdown",
   "metadata": {},
   "source": [
    "c0: safe driving  \n",
    "c1: texting - right  \n",
    "c2: talking on the phone - right  \n",
    "c3: texting - left  \n",
    "c4: talking on the phone - left  \n",
    "c5: operating the radio  \n",
    "c6: drinking  \n",
    "c7: reaching behind  \n",
    "c8: hair and makeup  \n",
    "c9: talking to passenger  "
   ]
  },
  {
   "cell_type": "code",
   "execution_count": 2,
   "metadata": {},
   "outputs": [
    {
     "name": "stdout",
     "output_type": "stream",
     "text": [
      "('cat_desc:', <type 'list'>, 10)\n"
     ]
    }
   ],
   "source": [
    "cat_desc = ['safe driving', 'texting - right', 'talking on the phone - right', \n",
    "            'texting - left', 'talking on the phone - left', 'operating the radio', \n",
    "            'drinking', 'reaching behind', 'hair and makeup', 'talking to passenger']\n",
    "print (\"cat_desc:\", type(cat_desc), len(cat_desc))"
   ]
  },
  {
   "cell_type": "code",
   "execution_count": 3,
   "metadata": {},
   "outputs": [
    {
     "name": "stdout",
     "output_type": "stream",
     "text": [
      "('HOMEPATH:', '/home/ubuntu/fastai/')\n",
      "('DATA_PATH:', '/home/ubuntu/fastai/data/state/')\n"
     ]
    }
   ],
   "source": [
    "HOMEPATH = \"/home/ubuntu/fastai/\"\n",
    "DATA_PATH = HOMEPATH + \"data/state/\"\n",
    "print(\"HOMEPATH:\", HOMEPATH)\n",
    "print(\"DATA_PATH:\", DATA_PATH)\n",
    "import os\n",
    "from __future__ import division, print_function\n"
   ]
  },
  {
   "cell_type": "code",
   "execution_count": 4,
   "metadata": {},
   "outputs": [],
   "source": [
    "import os\n",
    "from datetime import datetime\n",
    "from glob import glob\n",
    "from random import shuffle\n",
    "from shutil import copyfile\n",
    "import pandas as pd\n",
    "import numpy as np\n",
    "import random\n",
    "import cv2\n",
    "import gc"
   ]
  },
  {
   "cell_type": "code",
   "execution_count": 81,
   "metadata": {},
   "outputs": [
    {
     "name": "stdout",
     "output_type": "stream",
     "text": [
      "WORKING_DATA: /home/ubuntu/fastai/data/state/\n",
      "WORKING_TEST: /home/ubuntu/fastai/data/state/test/\n",
      "WORKING_TRAIN: /home/ubuntu/fastai/data/state/train/\n",
      "WORKING_VALID: /home/ubuntu/fastai/data/state/valid/\n",
      "s_or_p: _prod_\n"
     ]
    }
   ],
   "source": [
    "MODEL_PATH = DATA_PATH+\"models/\"\n",
    "RESULTS_PATH = DATA_PATH+\"results/\"\n",
    "SCRAP_PATH = DATA_PATH+\"scrap/\"\n",
    "\n",
    "\n",
    "SAMPLE_DATA_PATH = DATA_PATH + \"sample/\"#choose this for testing or above for production\n",
    "SAMPLE_TEST_PATH = SAMPLE_DATA_PATH+\"test/\"\n",
    "SAMPLE_TRAIN_PATH = SAMPLE_DATA_PATH + \"train/\"\n",
    "SAMPLE_VALID_PATH = SAMPLE_DATA_PATH + \"valid/\"\n",
    "\n",
    "\n",
    "TEST_PATH = DATA_PATH+\"test/\"\n",
    "TRAIN_PATH = DATA_PATH + \"train/\"\n",
    "VALID_PATH = DATA_PATH + \"valid/\"\n",
    "\n",
    "\n",
    "if sample_or_prod:\n",
    "    WORKING_DATA  = SAMPLE_DATA_PATH\n",
    "    WORKING_TEST  = SAMPLE_TEST_PATH\n",
    "    WORKING_TRAIN = SAMPLE_TRAIN_PATH\n",
    "    WORKING_VALID = SAMPLE_VALID_PATH\n",
    "    s_or_p = \"_sample_\"\n",
    "else:\n",
    "    WORKING_DATA  = DATA_PATH\n",
    "    WORKING_TEST  = TEST_PATH\n",
    "    WORKING_TRAIN = TRAIN_PATH\n",
    "    WORKING_VALID = VALID_PATH\n",
    "    s_or_p = \"_prod_\"\n",
    "\n",
    "    \n",
    "print (\"WORKING_DATA:\", WORKING_DATA)\n",
    "print (\"WORKING_TEST:\", WORKING_TEST)\n",
    "print (\"WORKING_TRAIN:\", WORKING_TRAIN)\n",
    "print (\"WORKING_VALID:\", WORKING_VALID)\n",
    "print (\"s_or_p:\", s_or_p)"
   ]
  },
  {
   "cell_type": "code",
   "execution_count": 82,
   "metadata": {},
   "outputs": [],
   "source": [
    "#check if dir exists, create if not already.\n",
    "def makeNewDir(newDirPath):\n",
    "    if not os.path.exists(newDirPath): \n",
    "        print(\"directory \", newDirPath, \" did not exist, creating:\")\n",
    "        os.mkdir(newDirPath)\n",
    "    else:\n",
    "        print(\"directory \", newDirPath, \"already existed. filecount = \", len(dirFileList(newDirPath)))\n"
   ]
  },
  {
   "cell_type": "code",
   "execution_count": 83,
   "metadata": {},
   "outputs": [
    {
     "name": "stdout",
     "output_type": "stream",
     "text": [
      "directory  /home/ubuntu/fastai/data/state/scrap/  did not exist, creating:\n",
      "directory  /home/ubuntu/fastai/data/state/scrap/unknown/  did not exist, creating:\n"
     ]
    }
   ],
   "source": [
    "#create scrap directory for temp copying of files.\n",
    "makeNewDir(SCRAP_PATH)\n",
    "makeNewDir(SCRAP_PATH+UNKNOWN)"
   ]
  },
  {
   "cell_type": "code",
   "execution_count": 84,
   "metadata": {},
   "outputs": [
    {
     "name": "stdout",
     "output_type": "stream",
     "text": [
      "/home/ubuntu/fastai/data/state\n",
      "\u001b[01;34m.\u001b[00m\n",
      "├── \u001b[01;34mmodels\u001b[00m\n",
      "├── \u001b[01;34mresults\u001b[00m\n",
      "├── \u001b[01;34msample\u001b[00m\n",
      "│   ├── \u001b[01;34mtest\u001b[00m\n",
      "│   │   └── \u001b[01;34munknown\u001b[00m\n",
      "│   ├── \u001b[01;34mtrain\u001b[00m\n",
      "│   │   ├── \u001b[01;34mc0\u001b[00m\n",
      "│   │   ├── \u001b[01;34mc1\u001b[00m\n",
      "│   │   ├── \u001b[01;34mc2\u001b[00m\n",
      "│   │   ├── \u001b[01;34mc3\u001b[00m\n",
      "│   │   ├── \u001b[01;34mc4\u001b[00m\n",
      "│   │   ├── \u001b[01;34mc5\u001b[00m\n",
      "│   │   ├── \u001b[01;34mc6\u001b[00m\n",
      "│   │   ├── \u001b[01;34mc7\u001b[00m\n",
      "│   │   ├── \u001b[01;34mc8\u001b[00m\n",
      "│   │   └── \u001b[01;34mc9\u001b[00m\n",
      "│   └── \u001b[01;34mvalid\u001b[00m\n",
      "│       ├── \u001b[01;34mc0\u001b[00m\n",
      "│       ├── \u001b[01;34mc1\u001b[00m\n",
      "│       ├── \u001b[01;34mc2\u001b[00m\n",
      "│       ├── \u001b[01;34mc3\u001b[00m\n",
      "│       ├── \u001b[01;34mc4\u001b[00m\n",
      "│       ├── \u001b[01;34mc5\u001b[00m\n",
      "│       ├── \u001b[01;34mc6\u001b[00m\n",
      "│       ├── \u001b[01;34mc7\u001b[00m\n",
      "│       ├── \u001b[01;34mc8\u001b[00m\n",
      "│       └── \u001b[01;34mc9\u001b[00m\n",
      "├── \u001b[01;34mscrap\u001b[00m\n",
      "│   └── \u001b[01;34munknown\u001b[00m\n",
      "├── \u001b[01;34mtest\u001b[00m\n",
      "│   └── \u001b[01;34munknown\u001b[00m\n",
      "├── \u001b[01;34mtrain\u001b[00m\n",
      "│   ├── \u001b[01;34mc0\u001b[00m\n",
      "│   ├── \u001b[01;34mc1\u001b[00m\n",
      "│   ├── \u001b[01;34mc2\u001b[00m\n",
      "│   ├── \u001b[01;34mc3\u001b[00m\n",
      "│   ├── \u001b[01;34mc4\u001b[00m\n",
      "│   ├── \u001b[01;34mc5\u001b[00m\n",
      "│   ├── \u001b[01;34mc6\u001b[00m\n",
      "│   ├── \u001b[01;34mc7\u001b[00m\n",
      "│   ├── \u001b[01;34mc8\u001b[00m\n",
      "│   └── \u001b[01;34mc9\u001b[00m\n",
      "└── \u001b[01;34mvalid\u001b[00m\n",
      "    ├── \u001b[01;34mc0\u001b[00m\n",
      "    ├── \u001b[01;34mc1\u001b[00m\n",
      "    ├── \u001b[01;34mc2\u001b[00m\n",
      "    ├── \u001b[01;34mc3\u001b[00m\n",
      "    ├── \u001b[01;34mc4\u001b[00m\n",
      "    ├── \u001b[01;34mc5\u001b[00m\n",
      "    ├── \u001b[01;34mc6\u001b[00m\n",
      "    ├── \u001b[01;34mc7\u001b[00m\n",
      "    ├── \u001b[01;34mc8\u001b[00m\n",
      "    └── \u001b[01;34mc9\u001b[00m\n",
      "\n",
      "53 directories\n"
     ]
    }
   ],
   "source": [
    "os.chdir(DATA_PATH)\n",
    "print (os.getcwd())\n",
    "!tree -d"
   ]
  },
  {
   "cell_type": "code",
   "execution_count": 7,
   "metadata": {},
   "outputs": [],
   "source": [
    "def dirFileList(dir_path):\n",
    "    return [name for name in os.listdir(dir_path) if os.path.isfile(os.path.join(dir_path, name))]\n"
   ]
  },
  {
   "cell_type": "code",
   "execution_count": 8,
   "metadata": {},
   "outputs": [
    {
     "name": "stdout",
     "output_type": "stream",
     "text": [
      "CATEGORIES: ['c0/', 'c1/', 'c2/', 'c3/', 'c4/', 'c5/', 'c6/', 'c7/', 'c8/', 'c9/']\n"
     ]
    }
   ],
   "source": [
    "CATEGORIES = []\n",
    "\n",
    "\n",
    "for i in range(10):\n",
    "    CATEGORIES.append(\"c\"+str(i)+\"/\")\n",
    "print (\"CATEGORIES:\", CATEGORIES)"
   ]
  },
  {
   "cell_type": "code",
   "execution_count": 9,
   "metadata": {},
   "outputs": [],
   "source": [
    "UNKNOWN = 'unknown/'\n",
    "\n",
    "DATA_DIR_LIST = [DATA_PATH, SAMPLE_DATA_PATH, SAMPLE_TEST_PATH, SAMPLE_TEST_PATH+UNKNOWN, SAMPLE_TRAIN_PATH, \n",
    "                 SAMPLE_VALID_PATH, TEST_PATH, TEST_PATH+UNKNOWN, TRAIN_PATH, VALID_PATH, MODEL_PATH, RESULTS_PATH]\n",
    "\n",
    "\n",
    "\n",
    "for category in CATEGORIES:\n",
    "    DATA_DIR_LIST.append(TRAIN_PATH+category)\n",
    "    DATA_DIR_LIST.append(VALID_PATH+category)\n",
    "    DATA_DIR_LIST.append(SAMPLE_TRAIN_PATH+category)\n",
    "    DATA_DIR_LIST.append(SAMPLE_VALID_PATH+category)"
   ]
  },
  {
   "cell_type": "code",
   "execution_count": 10,
   "metadata": {},
   "outputs": [],
   "source": [
    "def showLayersInfo(model):\n",
    "    print (\"Number of layers : \", len(model.layers))\n",
    "    count = 0\n",
    "    for layer in model.layers:\n",
    "        print (count, type(layer), \", trainable:\", layer.trainable)\n",
    "        print (\"input:\", layer.input_shape, \", output:\",layer.output_shape, \", len(weights)\", len(layer.get_weights()), \"\\n\")\n",
    "        count +=1"
   ]
  },
  {
   "cell_type": "code",
   "execution_count": 11,
   "metadata": {},
   "outputs": [],
   "source": [
    "def plot_history(history):\n",
    "    # list all data in history\n",
    "    print(history.history.keys())\n",
    "    # summarize history for accuracy\n",
    "    plt.plot(history.history['acc'])\n",
    "    plt.plot(history.history['val_acc'])\n",
    "    plt.title('model accuracy')\n",
    "    plt.ylabel('accuracy')\n",
    "    plt.xlabel('epoch')\n",
    "    plt.legend(['train', 'validate'], loc='upper left')\n",
    "    plt.show()\n",
    "    # summarize history for loss\n",
    "    plt.plot(history.history['loss'])\n",
    "    plt.plot(history.history['val_loss'])\n",
    "    plt.title('model loss')\n",
    "    plt.ylabel('loss')\n",
    "    plt.xlabel('epoch')\n",
    "    plt.legend(['train', 'validate'], loc='upper left')\n",
    "    plt.show()"
   ]
  },
  {
   "cell_type": "code",
   "execution_count": 12,
   "metadata": {},
   "outputs": [],
   "source": [
    "def listDirsFileCount(DATA_DIR_LIST):\n",
    "    DATA_DIR_LIST = sorted(DATA_DIR_LIST)\n",
    "    for dir_ in DATA_DIR_LIST:\n",
    "        print (dir_, len(dirFileList(dir_)))\n",
    "        \n",
    "#NB: could have used global DATA_DIR_LIST  to access global variable DATA_DIR_LIST \n",
    "# without having to pass DATA_DIR_LIST as an arg, but this gives more flexability."
   ]
  },
  {
   "cell_type": "code",
   "execution_count": 13,
   "metadata": {},
   "outputs": [
    {
     "name": "stdout",
     "output_type": "stream",
     "text": [
      "/home/ubuntu/fastai/data/state/ 5\n",
      "/home/ubuntu/fastai/data/state/models/ 15\n",
      "/home/ubuntu/fastai/data/state/results/ 3\n",
      "/home/ubuntu/fastai/data/state/sample/ 0\n",
      "/home/ubuntu/fastai/data/state/sample/test/ 0\n",
      "/home/ubuntu/fastai/data/state/sample/test/unknown/ 15945\n",
      "/home/ubuntu/fastai/data/state/sample/train/ 0\n",
      "/home/ubuntu/fastai/data/state/sample/train/c0/ 347\n",
      "/home/ubuntu/fastai/data/state/sample/train/c1/ 314\n",
      "/home/ubuntu/fastai/data/state/sample/train/c2/ 323\n",
      "/home/ubuntu/fastai/data/state/sample/train/c3/ 325\n",
      "/home/ubuntu/fastai/data/state/sample/train/c4/ 323\n",
      "/home/ubuntu/fastai/data/state/sample/train/c5/ 322\n",
      "/home/ubuntu/fastai/data/state/sample/train/c6/ 324\n",
      "/home/ubuntu/fastai/data/state/sample/train/c7/ 278\n",
      "/home/ubuntu/fastai/data/state/sample/train/c8/ 268\n",
      "/home/ubuntu/fastai/data/state/sample/train/c9/ 298\n",
      "/home/ubuntu/fastai/data/state/sample/valid/ 0\n",
      "/home/ubuntu/fastai/data/state/sample/valid/c0/ 153\n",
      "/home/ubuntu/fastai/data/state/sample/valid/c1/ 138\n",
      "/home/ubuntu/fastai/data/state/sample/valid/c2/ 140\n",
      "/home/ubuntu/fastai/data/state/sample/valid/c3/ 145\n",
      "/home/ubuntu/fastai/data/state/sample/valid/c4/ 141\n",
      "/home/ubuntu/fastai/data/state/sample/valid/c5/ 140\n",
      "/home/ubuntu/fastai/data/state/sample/valid/c6/ 143\n",
      "/home/ubuntu/fastai/data/state/sample/valid/c7/ 121\n",
      "/home/ubuntu/fastai/data/state/sample/valid/c8/ 117\n",
      "/home/ubuntu/fastai/data/state/sample/valid/c9/ 131\n",
      "/home/ubuntu/fastai/data/state/test/ 0\n",
      "/home/ubuntu/fastai/data/state/test/unknown/ 79726\n",
      "/home/ubuntu/fastai/data/state/train/ 0\n",
      "/home/ubuntu/fastai/data/state/train/c0/ 1740\n",
      "/home/ubuntu/fastai/data/state/train/c1/ 1585\n",
      "/home/ubuntu/fastai/data/state/train/c2/ 1623\n",
      "/home/ubuntu/fastai/data/state/train/c3/ 1641\n",
      "/home/ubuntu/fastai/data/state/train/c4/ 1625\n",
      "/home/ubuntu/fastai/data/state/train/c5/ 1618\n",
      "/home/ubuntu/fastai/data/state/train/c6/ 1625\n",
      "/home/ubuntu/fastai/data/state/train/c7/ 1402\n",
      "/home/ubuntu/fastai/data/state/train/c8/ 1336\n",
      "/home/ubuntu/fastai/data/state/train/c9/ 1489\n",
      "/home/ubuntu/fastai/data/state/valid/ 0\n",
      "/home/ubuntu/fastai/data/state/valid/c0/ 749\n",
      "/home/ubuntu/fastai/data/state/valid/c1/ 682\n",
      "/home/ubuntu/fastai/data/state/valid/c2/ 694\n",
      "/home/ubuntu/fastai/data/state/valid/c3/ 705\n",
      "/home/ubuntu/fastai/data/state/valid/c4/ 701\n",
      "/home/ubuntu/fastai/data/state/valid/c5/ 694\n",
      "/home/ubuntu/fastai/data/state/valid/c6/ 700\n",
      "/home/ubuntu/fastai/data/state/valid/c7/ 600\n",
      "/home/ubuntu/fastai/data/state/valid/c8/ 575\n",
      "/home/ubuntu/fastai/data/state/valid/c9/ 640\n"
     ]
    }
   ],
   "source": [
    "listDirsFileCount(DATA_DIR_LIST)"
   ]
  },
  {
   "cell_type": "code",
   "execution_count": 14,
   "metadata": {
    "scrolled": true
   },
   "outputs": [
    {
     "name": "stdout",
     "output_type": "stream",
     "text": [
      "current working directory: /home/ubuntu/fastai\n"
     ]
    },
    {
     "name": "stderr",
     "output_type": "stream",
     "text": [
      "WARNING (theano.sandbox.cuda): The cuda backend is deprecated and will be removed in the next release (v0.10).  Please switch to the gpuarray backend. You can get more information about how to switch at this URL:\n",
      " https://github.com/Theano/Theano/wiki/Converting-to-the-new-gpu-back-end%28gpuarray%29\n",
      "\n",
      "Using gpu device 0: Tesla K80 (CNMeM is disabled, cuDNN 5110)\n",
      "Using Theano backend.\n"
     ]
    }
   ],
   "source": [
    "os.chdir(HOMEPATH)\n",
    "print (\"current working directory:\", os.getcwd())\n",
    "\n",
    "%matplotlib inline\n",
    "from __future__ import print_function, division\n",
    "#path = \"data/state/\"\n",
    "path = \"data/state/sample/\"\n",
    "import utils; reload(utils)\n",
    "from utils import *\n",
    "from IPython.display import FileLink"
   ]
  },
  {
   "cell_type": "code",
   "execution_count": 15,
   "metadata": {},
   "outputs": [
    {
     "name": "stdout",
     "output_type": "stream",
     "text": [
      "Found 15684 images belonging to 10 classes.\n",
      "Found 6740 images belonging to 10 classes.\n",
      "/home/ubuntu/fastai/data/state/train/ <class 'keras.preprocessing.image.DirectoryIterator'>\n",
      "/home/ubuntu/fastai/data/state/valid/ <class 'keras.preprocessing.image.DirectoryIterator'>\n"
     ]
    }
   ],
   "source": [
    "trn_batches = get_batches(WORKING_TRAIN, shuffle=False, batch_size=batch_size)#should be shuffle=True\n",
    "val_batches = get_batches(WORKING_VALID, shuffle=False, batch_size=batch_size)\n",
    "#test_batches = get_batches(WORKING_TEST, shuffle=False, batch_size=batch_size)\n",
    "print (WORKING_TRAIN, type(trn_batches))\n",
    "print (WORKING_VALID, type(val_batches))\n",
    "#print (WORKING_TEST, type(test_batches))\n",
    "\n",
    "#https://keras.io/preprocessing/image/\n",
    "#https://www.tensorflow.org/api_docs/python/tf/keras/preprocessing/image/DirectoryIterator\n",
    "#NB: utils.get_batches has default target_size=(224,224)"
   ]
  },
  {
   "cell_type": "code",
   "execution_count": 16,
   "metadata": {},
   "outputs": [
    {
     "name": "stdout",
     "output_type": "stream",
     "text": [
      "Found 15684 images belonging to 10 classes.\n",
      "Found 6740 images belonging to 10 classes.\n",
      "Found 79726 images belonging to 1 classes.\n",
      "val_classes <type 'numpy.ndarray'> (6740,)\n",
      "trn_classes <type 'numpy.ndarray'> (15684,)\n",
      "val_labels <type 'numpy.ndarray'> (6740, 10)\n",
      "trn_labels <type 'numpy.ndarray'> (15684, 10)\n",
      "val_filenames <type 'list'> 6740\n",
      "filenames <type 'list'> 15684\n",
      "test_filename <type 'list'> 79726\n"
     ]
    }
   ],
   "source": [
    "(val_classes, trn_classes, val_labels, trn_labels, val_filenames, filenames, test_filename) = get_classes(WORKING_DATA)\n",
    "\n",
    "print (\"val_classes\", type(val_classes), val_classes.shape)\n",
    "print (\"trn_classes\", type(trn_classes), trn_classes.shape)\n",
    "print (\"val_labels\", type(val_labels), val_labels.shape)\n",
    "print (\"trn_labels\", type(trn_labels), trn_labels.shape)\n",
    "print (\"val_filenames\", type(val_filenames), len(val_filenames))\n",
    "print (\"filenames\", type(filenames), len(filenames))\n",
    "print (\"test_filename\", type(test_filename), len(test_filename))\n",
    "#nb: test_filename not used again until after model building, training and ensemble."
   ]
  },
  {
   "cell_type": "code",
   "execution_count": 17,
   "metadata": {},
   "outputs": [
    {
     "name": "stdout",
     "output_type": "stream",
     "text": [
      "test_filename[0] unknown/img_46339.jpg\n"
     ]
    }
   ],
   "source": [
    "print (\"test_filename[0]\", test_filename[0])"
   ]
  },
  {
   "cell_type": "code",
   "execution_count": 18,
   "metadata": {},
   "outputs": [
    {
     "name": "stdout",
     "output_type": "stream",
     "text": [
      "val_classes: <type 'numpy.int32'> 0 [0 1 2 3 4 5 6 7 8 9]\n",
      "trn_classes: <type 'numpy.int32'> 0 [0 1 2 3 4 5 6 7 8 9]\n",
      "val_labels: <type 'numpy.ndarray'> [ 1.  0.  0.  0.  0.  0.  0.  0.  0.  0.] [ 0.  1.]\n",
      "trn_labels: <type 'numpy.ndarray'> [ 1.  0.  0.  0.  0.  0.  0.  0.  0.  0.] [ 0.  1.]\n"
     ]
    }
   ],
   "source": [
    "print (\"val_classes:\", type(val_classes[0]), val_classes[0], np.unique(val_classes))\n",
    "print (\"trn_classes:\", type(trn_classes[0]), trn_classes[0], np.unique(trn_classes))\n",
    "print (\"val_labels:\", type(val_labels[0]), val_labels[0], np.unique(val_labels))\n",
    "print (\"trn_labels:\", type(trn_labels[0]), trn_labels[0], np.unique(trn_labels))"
   ]
  },
  {
   "cell_type": "code",
   "execution_count": 19,
   "metadata": {},
   "outputs": [],
   "source": [
    "model = Vgg16().model\n"
   ]
  },
  {
   "cell_type": "code",
   "execution_count": 20,
   "metadata": {},
   "outputs": [],
   "source": [
    "#showLayersInfo(model)"
   ]
  },
  {
   "cell_type": "code",
   "execution_count": 21,
   "metadata": {},
   "outputs": [],
   "source": [
    "conv_layers,fc_layers = split_at(model, Convolution2D)\n",
    "#utils.split_at(model, layer_type) \n",
    "#splits model at last occurrance of layer_type. (in this case Convolution2D)\n"
   ]
  },
  {
   "cell_type": "code",
   "execution_count": 22,
   "metadata": {},
   "outputs": [
    {
     "name": "stdout",
     "output_type": "stream",
     "text": [
      "model        # of layers: 38\n",
      "conv_layers  # of layers: 31\n",
      "fc_layers    # of layers: 7\n"
     ]
    }
   ],
   "source": [
    "print (\"model        # of layers:\",  len(model.layers))\n",
    "print (\"conv_layers  # of layers:\",  len(conv_layers))\n",
    "print (\"fc_layers    # of layers:\",  len(fc_layers))"
   ]
  },
  {
   "cell_type": "code",
   "execution_count": 23,
   "metadata": {},
   "outputs": [],
   "source": [
    "conv_model = Sequential(conv_layers)\n",
    "#31 layers, all trainable, last layer = Convolution2D\n",
    "#showLayersInfo(conv_model)"
   ]
  },
  {
   "cell_type": "code",
   "execution_count": 24,
   "metadata": {},
   "outputs": [],
   "source": [
    "#showLayersInfo(Sequential(fc_layers))\n",
    "#7 layers, all trainable, last layer = Dense, 1000 classes output."
   ]
  },
  {
   "cell_type": "code",
   "execution_count": 25,
   "metadata": {},
   "outputs": [
    {
     "name": "stdout",
     "output_type": "stream",
     "text": [
      "startTime: 2018-01-06 04:50:45.967703\n",
      "val_features: (6740, 512, 14, 14)\n",
      "Time elapsed (hh:mm:ss.ms) 0:02:47.995752\n",
      "startTime: 2018-01-06 04:53:33.964108\n",
      "trn_features: (15684, 512, 14, 14)\n",
      "Time elapsed (hh:mm:ss.ms) 0:06:28.920371\n"
     ]
    }
   ],
   "source": [
    "startTime= datetime.now()\n",
    "print (\"startTime:\", startTime)\n",
    "\n",
    "#val_batches: <class 'keras.preprocessing.image.DirectoryIterator'>\n",
    "#https://www.tensorflow.org/api_docs/python/tf/keras/preprocessing/image/DirectoryIterator\n",
    "#\n",
    "\n",
    "val_features = conv_model.predict_generator(val_batches, val_batches.nb_sample)\n",
    "print (\"val_features:\", val_features.shape)\n",
    "timeElapsed=datetime.now()-startTime\n",
    "print ('Time elapsed (hh:mm:ss.ms) {}'.format(timeElapsed))\n",
    "\n",
    "startTime= datetime.now()\n",
    "print (\"startTime:\", startTime)\n",
    "trn_features = conv_model.predict_generator(trn_batches, trn_batches.nb_sample)\n",
    "print (\"trn_features:\", trn_features.shape)\n",
    "\n",
    "timeElapsed=datetime.now()-startTime\n",
    "print ('Time elapsed (hh:mm:ss.ms) {}'.format(timeElapsed))\n",
    "\n",
    "#NB: val_features and trn_features have shape (No of input images, 512, 14, 14)\n",
    "\n",
    "#training:    Found 15684 images belonging to 10 classes. time = approx 3min.\n",
    "#validation : Found 6740 images belonging to 10 classes.   time = approx 7min."
   ]
  },
  {
   "cell_type": "code",
   "execution_count": 26,
   "metadata": {},
   "outputs": [],
   "source": [
    "#save_array(MODEL_PATH + 'train_convlayer_features.bc', trn_features)\n",
    "#save_array(MODEL_PATH + 'valid_convlayer_features.bc', val_features)"
   ]
  },
  {
   "cell_type": "code",
   "execution_count": 27,
   "metadata": {},
   "outputs": [],
   "source": [
    "#trn_features = load_array(MODEL_PATH+'train_convlayer_features.bc')\n",
    "#val_features = load_array(MODEL_PATH+'valid_convlayer_features.bc')"
   ]
  },
  {
   "cell_type": "code",
   "execution_count": 28,
   "metadata": {},
   "outputs": [
    {
     "name": "stdout",
     "output_type": "stream",
     "text": [
      "startTime: 2018-01-06 05:00:02.916721\n",
      "Found 15684 images belonging to 10 classes.\n",
      "trn: (15684, 3, 224, 224)\n",
      "Time elapsed (hh:mm:ss.ms) 0:03:07.912017\n",
      "startTime: 2018-01-06 05:03:10.829056\n",
      "Found 6740 images belonging to 10 classes.\n",
      "val: (6740, 3, 224, 224)\n",
      "Time elapsed (hh:mm:ss.ms) 0:01:19.705718\n"
     ]
    }
   ],
   "source": [
    "startTime= datetime.now()\n",
    "print (\"startTime:\", startTime)\n",
    "\n",
    "trn = get_data(WORKING_TRAIN)\n",
    "print (\"trn:\", trn.shape)\n",
    "timeElapsed=datetime.now()-startTime\n",
    "print ('Time elapsed (hh:mm:ss.ms) {}'.format(timeElapsed))\n",
    "\n",
    "startTime= datetime.now()\n",
    "print (\"startTime:\", startTime)\n",
    "val = get_data(WORKING_VALID)\n",
    "print (\"val:\", val.shape)\n",
    "timeElapsed=datetime.now()-startTime\n",
    "print ('Time elapsed (hh:mm:ss.ms) {}'.format(timeElapsed))\n",
    "\n",
    "#production mode:\n",
    "# trn : takes approx 3m to run\n",
    "# val : takes approx 1:20 to run"
   ]
  },
  {
   "cell_type": "code",
   "execution_count": 29,
   "metadata": {},
   "outputs": [],
   "source": [
    "#save_array(MODEL_PATH+'train_data.bc', trn)\n",
    "#save_array(MODEL_PATH+'valid_data.bc', val)"
   ]
  },
  {
   "cell_type": "code",
   "execution_count": 30,
   "metadata": {},
   "outputs": [],
   "source": [
    "#trn = load_array(MODEL_PATH+'train_data.bc')\n",
    "#val = load_array(MODEL_PATH+'valid_data.bc')"
   ]
  },
  {
   "cell_type": "code",
   "execution_count": 31,
   "metadata": {},
   "outputs": [
    {
     "name": "stdout",
     "output_type": "stream",
     "text": [
      "Number of layers :  38\n",
      "0 <class 'keras.layers.core.Lambda'> , trainable: True\n",
      "input: (None, 3, 224, 224) , output: (None, 3, 224, 224) , len(weights) 0 \n",
      "\n",
      "1 <class 'keras.layers.convolutional.ZeroPadding2D'> , trainable: True\n",
      "input: (None, 3, 224, 224) , output: (None, 3, 226, 226) , len(weights) 0 \n",
      "\n",
      "2 <class 'keras.layers.convolutional.Convolution2D'> , trainable: True\n",
      "input: (None, 3, 226, 226) , output: (None, 64, 224, 224) , len(weights) 2 \n",
      "\n",
      "3 <class 'keras.layers.convolutional.ZeroPadding2D'> , trainable: True\n",
      "input: (None, 64, 224, 224) , output: (None, 64, 226, 226) , len(weights) 0 \n",
      "\n",
      "4 <class 'keras.layers.convolutional.Convolution2D'> , trainable: True\n",
      "input: (None, 64, 226, 226) , output: (None, 64, 224, 224) , len(weights) 2 \n",
      "\n",
      "5 <class 'keras.layers.pooling.MaxPooling2D'> , trainable: True\n",
      "input: (None, 64, 224, 224) , output: (None, 64, 112, 112) , len(weights) 0 \n",
      "\n",
      "6 <class 'keras.layers.convolutional.ZeroPadding2D'> , trainable: True\n",
      "input: (None, 64, 112, 112) , output: (None, 64, 114, 114) , len(weights) 0 \n",
      "\n",
      "7 <class 'keras.layers.convolutional.Convolution2D'> , trainable: True\n",
      "input: (None, 64, 114, 114) , output: (None, 128, 112, 112) , len(weights) 2 \n",
      "\n",
      "8 <class 'keras.layers.convolutional.ZeroPadding2D'> , trainable: True\n",
      "input: (None, 128, 112, 112) , output: (None, 128, 114, 114) , len(weights) 0 \n",
      "\n",
      "9 <class 'keras.layers.convolutional.Convolution2D'> , trainable: True\n",
      "input: (None, 128, 114, 114) , output: (None, 128, 112, 112) , len(weights) 2 \n",
      "\n",
      "10 <class 'keras.layers.pooling.MaxPooling2D'> , trainable: True\n",
      "input: (None, 128, 112, 112) , output: (None, 128, 56, 56) , len(weights) 0 \n",
      "\n",
      "11 <class 'keras.layers.convolutional.ZeroPadding2D'> , trainable: True\n",
      "input: (None, 128, 56, 56) , output: (None, 128, 58, 58) , len(weights) 0 \n",
      "\n",
      "12 <class 'keras.layers.convolutional.Convolution2D'> , trainable: True\n",
      "input: (None, 128, 58, 58) , output: (None, 256, 56, 56) , len(weights) 2 \n",
      "\n",
      "13 <class 'keras.layers.convolutional.ZeroPadding2D'> , trainable: True\n",
      "input: (None, 256, 56, 56) , output: (None, 256, 58, 58) , len(weights) 0 \n",
      "\n",
      "14 <class 'keras.layers.convolutional.Convolution2D'> , trainable: True\n",
      "input: (None, 256, 58, 58) , output: (None, 256, 56, 56) , len(weights) 2 \n",
      "\n",
      "15 <class 'keras.layers.convolutional.ZeroPadding2D'> , trainable: True\n",
      "input: (None, 256, 56, 56) , output: (None, 256, 58, 58) , len(weights) 0 \n",
      "\n",
      "16 <class 'keras.layers.convolutional.Convolution2D'> , trainable: True\n",
      "input: (None, 256, 58, 58) , output: (None, 256, 56, 56) , len(weights) 2 \n",
      "\n",
      "17 <class 'keras.layers.pooling.MaxPooling2D'> , trainable: True\n",
      "input: (None, 256, 56, 56) , output: (None, 256, 28, 28) , len(weights) 0 \n",
      "\n",
      "18 <class 'keras.layers.convolutional.ZeroPadding2D'> , trainable: True\n",
      "input: (None, 256, 28, 28) , output: (None, 256, 30, 30) , len(weights) 0 \n",
      "\n",
      "19 <class 'keras.layers.convolutional.Convolution2D'> , trainable: True\n",
      "input: (None, 256, 30, 30) , output: (None, 512, 28, 28) , len(weights) 2 \n",
      "\n",
      "20 <class 'keras.layers.convolutional.ZeroPadding2D'> , trainable: True\n",
      "input: (None, 512, 28, 28) , output: (None, 512, 30, 30) , len(weights) 0 \n",
      "\n",
      "21 <class 'keras.layers.convolutional.Convolution2D'> , trainable: True\n",
      "input: (None, 512, 30, 30) , output: (None, 512, 28, 28) , len(weights) 2 \n",
      "\n",
      "22 <class 'keras.layers.convolutional.ZeroPadding2D'> , trainable: True\n",
      "input: (None, 512, 28, 28) , output: (None, 512, 30, 30) , len(weights) 0 \n",
      "\n",
      "23 <class 'keras.layers.convolutional.Convolution2D'> , trainable: True\n",
      "input: (None, 512, 30, 30) , output: (None, 512, 28, 28) , len(weights) 2 \n",
      "\n",
      "24 <class 'keras.layers.pooling.MaxPooling2D'> , trainable: True\n",
      "input: (None, 512, 28, 28) , output: (None, 512, 14, 14) , len(weights) 0 \n",
      "\n",
      "25 <class 'keras.layers.convolutional.ZeroPadding2D'> , trainable: True\n",
      "input: (None, 512, 14, 14) , output: (None, 512, 16, 16) , len(weights) 0 \n",
      "\n",
      "26 <class 'keras.layers.convolutional.Convolution2D'> , trainable: True\n",
      "input: (None, 512, 16, 16) , output: (None, 512, 14, 14) , len(weights) 2 \n",
      "\n",
      "27 <class 'keras.layers.convolutional.ZeroPadding2D'> , trainable: True\n",
      "input: (None, 512, 14, 14) , output: (None, 512, 16, 16) , len(weights) 0 \n",
      "\n",
      "28 <class 'keras.layers.convolutional.Convolution2D'> , trainable: True\n",
      "input: (None, 512, 16, 16) , output: (None, 512, 14, 14) , len(weights) 2 \n",
      "\n",
      "29 <class 'keras.layers.convolutional.ZeroPadding2D'> , trainable: True\n",
      "input: (None, 512, 14, 14) , output: (None, 512, 16, 16) , len(weights) 0 \n",
      "\n",
      "30 <class 'keras.layers.convolutional.Convolution2D'> , trainable: True\n",
      "input: (None, 512, 16, 16) , output: (None, 512, 14, 14) , len(weights) 2 \n",
      "\n",
      "31 <class 'keras.layers.pooling.MaxPooling2D'> , trainable: True\n",
      "input: (None, 512, 14, 14) , output: (None, 512, 7, 7) , len(weights) 0 \n",
      "\n",
      "32 <class 'keras.layers.core.Flatten'> , trainable: True\n",
      "input: (None, 512, 7, 7) , output: (None, 25088) , len(weights) 0 \n",
      "\n",
      "33 <class 'keras.layers.core.Dense'> , trainable: True\n",
      "input: (None, 25088) , output: (None, 4096) , len(weights) 2 \n",
      "\n",
      "34 <class 'keras.layers.core.Dropout'> , trainable: True\n",
      "input: (None, 4096) , output: (None, 4096) , len(weights) 0 \n",
      "\n",
      "35 <class 'keras.layers.core.Dense'> , trainable: True\n",
      "input: (None, 4096) , output: (None, 4096) , len(weights) 2 \n",
      "\n",
      "36 <class 'keras.layers.core.Dropout'> , trainable: True\n",
      "input: (None, 4096) , output: (None, 4096) , len(weights) 0 \n",
      "\n",
      "37 <class 'keras.layers.core.Dense'> , trainable: True\n",
      "input: (None, 4096) , output: (None, 1000) , len(weights) 2 \n",
      "\n"
     ]
    }
   ],
   "source": [
    "showLayersInfo(model)"
   ]
  },
  {
   "cell_type": "code",
   "execution_count": 32,
   "metadata": {},
   "outputs": [
    {
     "name": "stdout",
     "output_type": "stream",
     "text": [
      "@start# of layers: 38\n",
      "@end# of layers: 36\n"
     ]
    }
   ],
   "source": [
    "print (\"@start# of layers:\", len(model.layers))#should be 38 layers before popping\n",
    "model.pop()\n",
    "model.pop()\n",
    "print (\"@end# of layers:\", len(model.layers))#should be 36 layers after popping\n",
    "#showLayersInfo(model)"
   ]
  },
  {
   "cell_type": "code",
   "execution_count": 33,
   "metadata": {},
   "outputs": [
    {
     "name": "stdout",
     "output_type": "stream",
     "text": [
      "____________________________________________________________________________________________________\n",
      "Layer (type)                     Output Shape          Param #     Connected to                     \n",
      "====================================================================================================\n",
      "lambda_1 (Lambda)                (None, 3, 224, 224)   0           lambda_input_1[0][0]             \n",
      "____________________________________________________________________________________________________\n",
      "zeropadding2d_1 (ZeroPadding2D)  (None, 3, 226, 226)   0           lambda_1[0][0]                   \n",
      "                                                                   lambda_1[0][0]                   \n",
      "____________________________________________________________________________________________________\n",
      "convolution2d_1 (Convolution2D)  (None, 64, 224, 224)  1792        zeropadding2d_1[0][0]            \n",
      "                                                                   zeropadding2d_1[1][0]            \n",
      "____________________________________________________________________________________________________\n",
      "zeropadding2d_2 (ZeroPadding2D)  (None, 64, 226, 226)  0           convolution2d_1[0][0]            \n",
      "                                                                   convolution2d_1[1][0]            \n",
      "____________________________________________________________________________________________________\n",
      "convolution2d_2 (Convolution2D)  (None, 64, 224, 224)  36928       zeropadding2d_2[0][0]            \n",
      "                                                                   zeropadding2d_2[1][0]            \n",
      "____________________________________________________________________________________________________\n",
      "maxpooling2d_1 (MaxPooling2D)    (None, 64, 112, 112)  0           convolution2d_2[0][0]            \n",
      "                                                                   convolution2d_2[1][0]            \n",
      "____________________________________________________________________________________________________\n",
      "zeropadding2d_3 (ZeroPadding2D)  (None, 64, 114, 114)  0           maxpooling2d_1[0][0]             \n",
      "                                                                   maxpooling2d_1[1][0]             \n",
      "____________________________________________________________________________________________________\n",
      "convolution2d_3 (Convolution2D)  (None, 128, 112, 112) 73856       zeropadding2d_3[0][0]            \n",
      "                                                                   zeropadding2d_3[1][0]            \n",
      "____________________________________________________________________________________________________\n",
      "zeropadding2d_4 (ZeroPadding2D)  (None, 128, 114, 114) 0           convolution2d_3[0][0]            \n",
      "                                                                   convolution2d_3[1][0]            \n",
      "____________________________________________________________________________________________________\n",
      "convolution2d_4 (Convolution2D)  (None, 128, 112, 112) 147584      zeropadding2d_4[0][0]            \n",
      "                                                                   zeropadding2d_4[1][0]            \n",
      "____________________________________________________________________________________________________\n",
      "maxpooling2d_2 (MaxPooling2D)    (None, 128, 56, 56)   0           convolution2d_4[0][0]            \n",
      "                                                                   convolution2d_4[1][0]            \n",
      "____________________________________________________________________________________________________\n",
      "zeropadding2d_5 (ZeroPadding2D)  (None, 128, 58, 58)   0           maxpooling2d_2[0][0]             \n",
      "                                                                   maxpooling2d_2[1][0]             \n",
      "____________________________________________________________________________________________________\n",
      "convolution2d_5 (Convolution2D)  (None, 256, 56, 56)   295168      zeropadding2d_5[0][0]            \n",
      "                                                                   zeropadding2d_5[1][0]            \n",
      "____________________________________________________________________________________________________\n",
      "zeropadding2d_6 (ZeroPadding2D)  (None, 256, 58, 58)   0           convolution2d_5[0][0]            \n",
      "                                                                   convolution2d_5[1][0]            \n",
      "____________________________________________________________________________________________________\n",
      "convolution2d_6 (Convolution2D)  (None, 256, 56, 56)   590080      zeropadding2d_6[0][0]            \n",
      "                                                                   zeropadding2d_6[1][0]            \n",
      "____________________________________________________________________________________________________\n",
      "zeropadding2d_7 (ZeroPadding2D)  (None, 256, 58, 58)   0           convolution2d_6[0][0]            \n",
      "                                                                   convolution2d_6[1][0]            \n",
      "____________________________________________________________________________________________________\n",
      "convolution2d_7 (Convolution2D)  (None, 256, 56, 56)   590080      zeropadding2d_7[0][0]            \n",
      "                                                                   zeropadding2d_7[1][0]            \n",
      "____________________________________________________________________________________________________\n",
      "maxpooling2d_3 (MaxPooling2D)    (None, 256, 28, 28)   0           convolution2d_7[0][0]            \n",
      "                                                                   convolution2d_7[1][0]            \n",
      "____________________________________________________________________________________________________\n",
      "zeropadding2d_8 (ZeroPadding2D)  (None, 256, 30, 30)   0           maxpooling2d_3[0][0]             \n",
      "                                                                   maxpooling2d_3[1][0]             \n",
      "____________________________________________________________________________________________________\n",
      "convolution2d_8 (Convolution2D)  (None, 512, 28, 28)   1180160     zeropadding2d_8[0][0]            \n",
      "                                                                   zeropadding2d_8[1][0]            \n",
      "____________________________________________________________________________________________________\n",
      "zeropadding2d_9 (ZeroPadding2D)  (None, 512, 30, 30)   0           convolution2d_8[0][0]            \n",
      "                                                                   convolution2d_8[1][0]            \n",
      "____________________________________________________________________________________________________\n",
      "convolution2d_9 (Convolution2D)  (None, 512, 28, 28)   2359808     zeropadding2d_9[0][0]            \n",
      "                                                                   zeropadding2d_9[1][0]            \n",
      "____________________________________________________________________________________________________\n",
      "zeropadding2d_10 (ZeroPadding2D) (None, 512, 30, 30)   0           convolution2d_9[0][0]            \n",
      "                                                                   convolution2d_9[1][0]            \n",
      "____________________________________________________________________________________________________\n",
      "convolution2d_10 (Convolution2D) (None, 512, 28, 28)   2359808     zeropadding2d_10[0][0]           \n",
      "                                                                   zeropadding2d_10[1][0]           \n",
      "____________________________________________________________________________________________________\n",
      "maxpooling2d_4 (MaxPooling2D)    (None, 512, 14, 14)   0           convolution2d_10[0][0]           \n",
      "                                                                   convolution2d_10[1][0]           \n",
      "____________________________________________________________________________________________________\n",
      "zeropadding2d_11 (ZeroPadding2D) (None, 512, 16, 16)   0           maxpooling2d_4[0][0]             \n",
      "                                                                   maxpooling2d_4[1][0]             \n",
      "____________________________________________________________________________________________________\n",
      "convolution2d_11 (Convolution2D) (None, 512, 14, 14)   2359808     zeropadding2d_11[0][0]           \n",
      "                                                                   zeropadding2d_11[1][0]           \n",
      "____________________________________________________________________________________________________\n",
      "zeropadding2d_12 (ZeroPadding2D) (None, 512, 16, 16)   0           convolution2d_11[0][0]           \n",
      "                                                                   convolution2d_11[1][0]           \n",
      "____________________________________________________________________________________________________\n",
      "convolution2d_12 (Convolution2D) (None, 512, 14, 14)   2359808     zeropadding2d_12[0][0]           \n",
      "                                                                   zeropadding2d_12[1][0]           \n",
      "____________________________________________________________________________________________________\n",
      "zeropadding2d_13 (ZeroPadding2D) (None, 512, 16, 16)   0           convolution2d_12[0][0]           \n",
      "                                                                   convolution2d_12[1][0]           \n",
      "____________________________________________________________________________________________________\n",
      "convolution2d_13 (Convolution2D) (None, 512, 14, 14)   2359808     zeropadding2d_13[0][0]           \n",
      "                                                                   zeropadding2d_13[1][0]           \n",
      "____________________________________________________________________________________________________\n",
      "maxpooling2d_5 (MaxPooling2D)    (None, 512, 7, 7)     0           convolution2d_13[0][0]           \n",
      "____________________________________________________________________________________________________\n",
      "flatten_1 (Flatten)              (None, 25088)         0           maxpooling2d_5[0][0]             \n",
      "____________________________________________________________________________________________________\n",
      "dense_1 (Dense)                  (None, 4096)          102764544   flatten_1[0][0]                  \n",
      "____________________________________________________________________________________________________\n",
      "dropout_1 (Dropout)              (None, 4096)          0           dense_1[0][0]                    \n",
      "____________________________________________________________________________________________________\n",
      "dense_2 (Dense)                  (None, 4096)          16781312    dropout_1[0][0]                  \n",
      "====================================================================================================\n"
     ]
    },
    {
     "name": "stdout",
     "output_type": "stream",
     "text": [
      "Total params: 134,260,544\n",
      "Trainable params: 134,260,544\n",
      "Non-trainable params: 0\n",
      "____________________________________________________________________________________________________\n"
     ]
    }
   ],
   "source": [
    "model.summary()"
   ]
  },
  {
   "cell_type": "code",
   "execution_count": 34,
   "metadata": {},
   "outputs": [
    {
     "name": "stdout",
     "output_type": "stream",
     "text": [
      "Number of layers :  36\n",
      "0 <class 'keras.layers.core.Lambda'> , trainable: True\n",
      "input: (None, 3, 224, 224) , output: (None, 3, 224, 224) , len(weights) 0 \n",
      "\n",
      "1 <class 'keras.layers.convolutional.ZeroPadding2D'> , trainable: True\n",
      "input: (None, 3, 224, 224) , output: (None, 3, 226, 226) , len(weights) 0 \n",
      "\n",
      "2 <class 'keras.layers.convolutional.Convolution2D'> , trainable: True\n",
      "input: (None, 3, 226, 226) , output: (None, 64, 224, 224) , len(weights) 2 \n",
      "\n",
      "3 <class 'keras.layers.convolutional.ZeroPadding2D'> , trainable: True\n",
      "input: (None, 64, 224, 224) , output: (None, 64, 226, 226) , len(weights) 0 \n",
      "\n",
      "4 <class 'keras.layers.convolutional.Convolution2D'> , trainable: True\n",
      "input: (None, 64, 226, 226) , output: (None, 64, 224, 224) , len(weights) 2 \n",
      "\n",
      "5 <class 'keras.layers.pooling.MaxPooling2D'> , trainable: True\n",
      "input: (None, 64, 224, 224) , output: (None, 64, 112, 112) , len(weights) 0 \n",
      "\n",
      "6 <class 'keras.layers.convolutional.ZeroPadding2D'> , trainable: True\n",
      "input: (None, 64, 112, 112) , output: (None, 64, 114, 114) , len(weights) 0 \n",
      "\n",
      "7 <class 'keras.layers.convolutional.Convolution2D'> , trainable: True\n",
      "input: (None, 64, 114, 114) , output: (None, 128, 112, 112) , len(weights) 2 \n",
      "\n",
      "8 <class 'keras.layers.convolutional.ZeroPadding2D'> , trainable: True\n",
      "input: (None, 128, 112, 112) , output: (None, 128, 114, 114) , len(weights) 0 \n",
      "\n",
      "9 <class 'keras.layers.convolutional.Convolution2D'> , trainable: True\n",
      "input: (None, 128, 114, 114) , output: (None, 128, 112, 112) , len(weights) 2 \n",
      "\n",
      "10 <class 'keras.layers.pooling.MaxPooling2D'> , trainable: True\n",
      "input: (None, 128, 112, 112) , output: (None, 128, 56, 56) , len(weights) 0 \n",
      "\n",
      "11 <class 'keras.layers.convolutional.ZeroPadding2D'> , trainable: True\n",
      "input: (None, 128, 56, 56) , output: (None, 128, 58, 58) , len(weights) 0 \n",
      "\n",
      "12 <class 'keras.layers.convolutional.Convolution2D'> , trainable: True\n",
      "input: (None, 128, 58, 58) , output: (None, 256, 56, 56) , len(weights) 2 \n",
      "\n",
      "13 <class 'keras.layers.convolutional.ZeroPadding2D'> , trainable: True\n",
      "input: (None, 256, 56, 56) , output: (None, 256, 58, 58) , len(weights) 0 \n",
      "\n",
      "14 <class 'keras.layers.convolutional.Convolution2D'> , trainable: True\n",
      "input: (None, 256, 58, 58) , output: (None, 256, 56, 56) , len(weights) 2 \n",
      "\n",
      "15 <class 'keras.layers.convolutional.ZeroPadding2D'> , trainable: True\n",
      "input: (None, 256, 56, 56) , output: (None, 256, 58, 58) , len(weights) 0 \n",
      "\n",
      "16 <class 'keras.layers.convolutional.Convolution2D'> , trainable: True\n",
      "input: (None, 256, 58, 58) , output: (None, 256, 56, 56) , len(weights) 2 \n",
      "\n",
      "17 <class 'keras.layers.pooling.MaxPooling2D'> , trainable: True\n",
      "input: (None, 256, 56, 56) , output: (None, 256, 28, 28) , len(weights) 0 \n",
      "\n",
      "18 <class 'keras.layers.convolutional.ZeroPadding2D'> , trainable: True\n",
      "input: (None, 256, 28, 28) , output: (None, 256, 30, 30) , len(weights) 0 \n",
      "\n",
      "19 <class 'keras.layers.convolutional.Convolution2D'> , trainable: True\n",
      "input: (None, 256, 30, 30) , output: (None, 512, 28, 28) , len(weights) 2 \n",
      "\n",
      "20 <class 'keras.layers.convolutional.ZeroPadding2D'> , trainable: True\n",
      "input: (None, 512, 28, 28) , output: (None, 512, 30, 30) , len(weights) 0 \n",
      "\n",
      "21 <class 'keras.layers.convolutional.Convolution2D'> , trainable: True\n",
      "input: (None, 512, 30, 30) , output: (None, 512, 28, 28) , len(weights) 2 \n",
      "\n",
      "22 <class 'keras.layers.convolutional.ZeroPadding2D'> , trainable: True\n",
      "input: (None, 512, 28, 28) , output: (None, 512, 30, 30) , len(weights) 0 \n",
      "\n",
      "23 <class 'keras.layers.convolutional.Convolution2D'> , trainable: True\n",
      "input: (None, 512, 30, 30) , output: (None, 512, 28, 28) , len(weights) 2 \n",
      "\n",
      "24 <class 'keras.layers.pooling.MaxPooling2D'> , trainable: True\n",
      "input: (None, 512, 28, 28) , output: (None, 512, 14, 14) , len(weights) 0 \n",
      "\n",
      "25 <class 'keras.layers.convolutional.ZeroPadding2D'> , trainable: True\n",
      "input: (None, 512, 14, 14) , output: (None, 512, 16, 16) , len(weights) 0 \n",
      "\n",
      "26 <class 'keras.layers.convolutional.Convolution2D'> , trainable: True\n",
      "input: (None, 512, 16, 16) , output: (None, 512, 14, 14) , len(weights) 2 \n",
      "\n",
      "27 <class 'keras.layers.convolutional.ZeroPadding2D'> , trainable: True\n",
      "input: (None, 512, 14, 14) , output: (None, 512, 16, 16) , len(weights) 0 \n",
      "\n",
      "28 <class 'keras.layers.convolutional.Convolution2D'> , trainable: True\n",
      "input: (None, 512, 16, 16) , output: (None, 512, 14, 14) , len(weights) 2 \n",
      "\n",
      "29 <class 'keras.layers.convolutional.ZeroPadding2D'> , trainable: True\n",
      "input: (None, 512, 14, 14) , output: (None, 512, 16, 16) , len(weights) 0 \n",
      "\n",
      "30 <class 'keras.layers.convolutional.Convolution2D'> , trainable: True\n",
      "input: (None, 512, 16, 16) , output: (None, 512, 14, 14) , len(weights) 2 \n",
      "\n",
      "31 <class 'keras.layers.pooling.MaxPooling2D'> , trainable: True\n",
      "input: (None, 512, 14, 14) , output: (None, 512, 7, 7) , len(weights) 0 \n",
      "\n",
      "32 <class 'keras.layers.core.Flatten'> , trainable: True\n",
      "input: (None, 512, 7, 7) , output: (None, 25088) , len(weights) 0 \n",
      "\n",
      "33 <class 'keras.layers.core.Dense'> , trainable: True\n",
      "input: (None, 25088) , output: (None, 4096) , len(weights) 2 \n",
      "\n",
      "34 <class 'keras.layers.core.Dropout'> , trainable: True\n",
      "input: (None, 4096) , output: (None, 4096) , len(weights) 0 \n",
      "\n",
      "35 <class 'keras.layers.core.Dense'> , trainable: True\n",
      "input: (None, 4096) , output: (None, 4096) , len(weights) 2 \n",
      "\n"
     ]
    }
   ],
   "source": [
    "showLayersInfo(model)"
   ]
  },
  {
   "cell_type": "code",
   "execution_count": 35,
   "metadata": {},
   "outputs": [
    {
     "name": "stdout",
     "output_type": "stream",
     "text": [
      "trn_batches: <class 'keras.preprocessing.image.DirectoryIterator'> trn_batches.nb_sample: 15684\n",
      "val_batches: <class 'keras.preprocessing.image.DirectoryIterator'> val_batches.nb_sample: 6740\n"
     ]
    }
   ],
   "source": [
    "print (\"trn_batches:\", type(trn_batches), \"trn_batches.nb_sample:\", trn_batches.nb_sample)\n",
    "print (\"val_batches:\", type(val_batches), \"val_batches.nb_sample:\", val_batches.nb_sample)"
   ]
  },
  {
   "cell_type": "code",
   "execution_count": 36,
   "metadata": {},
   "outputs": [
    {
     "name": "stdout",
     "output_type": "stream",
     "text": [
      "startTime: 2018-01-06 05:04:32.094914\n",
      "ll_val_feat: (6740, 4096)\n",
      "Time elapsed (hh:mm:ss.ms) 0:02:49.521793\n",
      "startTime: 2018-01-06 05:07:21.617055\n",
      "ll_feat: (15684, 4096)\n",
      "Time elapsed (hh:mm:ss.ms) 0:06:32.841929\n"
     ]
    }
   ],
   "source": [
    "startTime= datetime.now()\n",
    "print (\"startTime:\", startTime)\n",
    "\n",
    "ll_val_feat = model.predict_generator(val_batches, val_batches.nb_sample)\n",
    "print (\"ll_val_feat:\", ll_val_feat.shape)\n",
    "timeElapsed=datetime.now()-startTime\n",
    "print ('Time elapsed (hh:mm:ss.ms) {}'.format(timeElapsed))\n",
    "\n",
    "startTime= datetime.now()\n",
    "print (\"startTime:\", startTime)\n",
    "ll_feat = model.predict_generator(trn_batches, trn_batches.nb_sample)\n",
    "print (\"ll_feat:\", ll_feat.shape)\n",
    "\n",
    "timeElapsed=datetime.now()-startTime\n",
    "print ('Time elapsed (hh:mm:ss.ms) {}'.format(timeElapsed))\n",
    "\n",
    "#https://keras.io/models/sequential/\n",
    "#predict_generator(self, generator, steps=None, max_queue_size=10, workers=1, use_multiprocessing=False, verbose=0)\n",
    "#Returns : A Numpy array of predictions.\n",
    "#NB: ll_val_feat & ll_feat has shape = (number of imaes, 4096)\n",
    "#last layer of model is Dense with output: (None, 4096)\n",
    "#NB: model = Vgg16().model then last two layers pop'd. \n",
    "#ie: not a standard VGG16 model and output needs fixing to predict classes"
   ]
  },
  {
   "cell_type": "code",
   "execution_count": 37,
   "metadata": {},
   "outputs": [],
   "source": [
    "#save_array(MODEL_PATH + 'train_ll_feat.bc', ll_feat)\n",
    "#save_array(MODEL_PATH + 'valid_ll_feat.bc', ll_val_feat)"
   ]
  },
  {
   "cell_type": "code",
   "execution_count": 38,
   "metadata": {},
   "outputs": [],
   "source": [
    "#ll_feat = load_array(MODEL_PATH+ 'train_ll_feat.bc')\n",
    "#ll_val_feat = load_array(MODEL_PATH + 'valid_ll_feat.bc')"
   ]
  },
  {
   "cell_type": "code",
   "execution_count": 39,
   "metadata": {},
   "outputs": [],
   "source": [
    "def get_ll_layers():\n",
    "    #get_ll_layers:create 3 layers, BatchNormalization + Dropout + Dense\n",
    "    #NB: Dense needs to have 10 classes for this problem\n",
    "    return [ \n",
    "        BatchNormalization(input_shape=(4096,)),\n",
    "        Dropout(0.5),\n",
    "        Dense(10, activation='softmax') \n",
    "        ]"
   ]
  },
  {
   "cell_type": "code",
   "execution_count": 40,
   "metadata": {},
   "outputs": [],
   "source": [
    "def train_last_layer(i):\n",
    "    #nb: i is used in the filename to save weights.\n",
    "    #get_ll_layers:create 3 layers, BatchNormalization + Dropout + Dense\n",
    "    #set learning rate, train model, set learning rate again, train model.\n",
    "    #pop last three layers from vgg16 model, make all layers non trainable.\n",
    "    #add 3 layers created in get_ll_layers to end of model.\n",
    "    #copy weights from 3 layers just trained to last three layers in vgg16 model.\n",
    "    ll_layers = get_ll_layers()\n",
    "    ll_model = Sequential(ll_layers)\n",
    "    ll_model.compile(optimizer=Adam(), loss='categorical_crossentropy', metrics=['accuracy'])\n",
    "    ll_model.optimizer.lr=1e-5\n",
    "    #here the pretrained input from VGG16 is used as input to this model.\n",
    "    #saves having to run the full VGG16 model, only running the layers created by get_ll_layers()\n",
    "    history = ll_model.fit(ll_feat, trn_labels, validation_data=(ll_val_feat, val_labels), nb_epoch=12)\n",
    "    print (\"train_last_layer:i:\", i, \", ll_model.optimizer.lr:\", ll_model.optimizer.lr )\n",
    "    plot_history(history)\n",
    "    \n",
    "    ll_model.optimizer.lr=1e-7\n",
    "    ll_model.fit(ll_feat, trn_labels, validation_data=(ll_val_feat, val_labels), nb_epoch=1)\n",
    "    #nb: cannot show history with only one epoch.\n",
    "    print (\"ll_model.optimizer.lr:\", ll_model.optimizer.lr)\n",
    "    ll_model.save_weights(MODEL_PATH+'ll_bn' + s_or_p + i + '.h5')\n",
    "\n",
    "    #create new vgg16 model & pop last 3 layers.\n",
    "    vgg = Vgg16()\n",
    "    model = vgg.model\n",
    "    print(\"train_last_layer, model just created from Vgg16(), # layers = \", len(model.layers))\n",
    "    model.pop(); model.pop(); model.pop()\n",
    "    #\n",
    "    for layer in model.layers: layer.trainable=False\n",
    "    #set all layers to non trainable\n",
    "    model.compile(optimizer=Adam(), loss='categorical_crossentropy', metrics=['accuracy'])\n",
    "\n",
    "    #create three layers ()\n",
    "    ll_layers = get_ll_layers()\n",
    "    \n",
    "    #get_ll_layers:create 3 layers, BatchNormalization + Dropout + Dense, add these layers to model.\n",
    "    for layer in ll_layers: model.add(layer)\n",
    "    \n",
    "    #copy the weights from the above trained ll_model to the just added  last 3 layers in model.\n",
    "    for l1,l2 in zip(ll_model.layers, model.layers[-3:]):\n",
    "        l2.set_weights(l1.get_weights())\n",
    "    \n",
    "    #compile model so it is ready for use.\n",
    "    model.compile(optimizer=Adam(), loss='categorical_crossentropy', metrics=['accuracy'])\n",
    "    model.save_weights(MODEL_PATH+'bn' + s_or_p + i + '.h5')\n",
    "    print (\"@ end of train_last_layer, # layers = \", len(model.layers))\n",
    "    showLayersInfo(model)\n",
    "    return model"
   ]
  },
  {
   "cell_type": "code",
   "execution_count": 41,
   "metadata": {},
   "outputs": [],
   "source": [
    "def get_conv_model(model):\n",
    "    #split model into 2 sets of layers. \n",
    "    #conv_layers = start up to & including the last Convolution2D\n",
    "    #fc_layers   = rest of the model\n",
    "    #returns model, list of layers, int position of last Convolution2D layer. \n",
    "    \n",
    "    layers = model.layers\n",
    "    \n",
    "    #last_conv_idx = index of last Convolution2D layer\n",
    "    last_conv_idx = [index for index,layer in enumerate(layers) \n",
    "                         if type(layer) is Convolution2D][-1]\n",
    "\n",
    "    conv_layers = layers[:last_conv_idx+1]\n",
    "    conv_model = Sequential(conv_layers)\n",
    "    fc_layers = layers[last_conv_idx+1:]\n",
    "    return conv_model, fc_layers, last_conv_idx"
   ]
  },
  {
   "cell_type": "code",
   "execution_count": 42,
   "metadata": {},
   "outputs": [],
   "source": [
    "def get_fc_layers(p, in_shape):\n",
    "    #get_fc_layers creates 9 layers, with nominated input shape, nominated dropout rate\n",
    "    #previously dropped two layers to prevent model failing\n",
    "    #MaxPooling2D, Flatten, Dense, BatchNormalization, Dropout, Dense, BatchNormalization, Dropout, Dense\n",
    "    #NB: last layer = Dense - must have 10 classes to suit this problem\n",
    "    return [\n",
    "        MaxPooling2D(input_shape=in_shape),\n",
    "        Flatten(),\n",
    "        Dense(4096, activation='relu'),\n",
    "        #BatchNormalization(),\n",
    "        Dropout(p),\n",
    "        #Dense(4096, activation='relu'),\n",
    "        BatchNormalization(),\n",
    "        Dropout(p),\n",
    "        Dense(10, activation='softmax')\n",
    "        ]"
   ]
  },
  {
   "cell_type": "code",
   "execution_count": 43,
   "metadata": {},
   "outputs": [
    {
     "data": {
      "text/plain": [
       "439"
      ]
     },
     "execution_count": 43,
     "metadata": {},
     "output_type": "execute_result"
    }
   ],
   "source": [
    "gc.collect()"
   ]
  },
  {
   "cell_type": "code",
   "execution_count": 44,
   "metadata": {},
   "outputs": [],
   "source": [
    "def train_dense_layers(i, model):\n",
    "    #nb: i is used in the filename to save weights.\n",
    "    \n",
    "    print (\"start: train_dense_layers: i:\", i)\n",
    "    print (\"len(model.layers):\", len(model.layers))\n",
    "    #split model about last Convolutional2D layer\n",
    "    conv_model, fc_layers, last_conv_idx = get_conv_model(model)\n",
    "    #conv_model = Sqeuential(conv_layers) = list of layers, from start up to & including the last Convolution2D layer.\n",
    "    #fc_layers   = rest of the model       \n",
    "    \n",
    "    #shape of last Convolution2D layer output.\n",
    "    conv_shape = conv_model.output_shape[1:]\n",
    "    \n",
    "    ##get_fc_layers creates 9 layers, with nominated input shape, nominated dropout rate\n",
    "    #conv_shape ensures input shape from conv_model can be accepted.\n",
    "    fc_model = Sequential(get_fc_layers(0.5, conv_shape))\n",
    "    #MaxPooling2D, Flatten, Dense, BatchNormalization, Dropout, Dense, BatchNormalization, Dropout, Dense\n",
    "\n",
    "    print (\"train_dense_layers: showLayersInfo(fc_model):-----------START------------------------\")\n",
    "    showLayersInfo(fc_model)\n",
    "    print (\"train_dense_layers: showLayersInfo(Sequential(fc_layers)):-----------START-----------\")\n",
    "    showLayersInfo(Sequential(fc_layers))\n",
    "    print (\"-----------------------END-----------------------------------------------------------\")\n",
    "    print (\"len(fc_model.layers):\", len(fc_model.layers))#9 layers - as from def get_fc_layers\n",
    "    print (\"len(fc_layers):\", len(fc_layers))            #7 layers - layers split from vgg16 after last Convolutional2D layer\n",
    "    #copy weights from layers in fc_layers to the newly created fc_model. \n",
    "    count = 0\n",
    "    for l1,l2 in zip(fc_model.layers, fc_layers): \n",
    "        print (\"count:\", count)\n",
    "        print(\"l1:\", l1)\n",
    "        print(\"l2:\", l2)\n",
    "        weights = l2.get_weights()\n",
    "        print (\"l1.get_weights():\", len(l1.get_weights()))\n",
    "        print (\"l2.get_weights():\", len(l2.get_weights()))\n",
    "        l1.set_weights(weights)\n",
    "        count += 1\n",
    "    \n",
    "    print (\"marker AA\")\n",
    "    fc_model.compile(optimizer=Adam(1e-5), loss='categorical_crossentropy', metrics=['accuracy'])\n",
    "\n",
    "    history = fc_model.fit(trn_features, trn_labels, nb_epoch=8, \n",
    "         batch_size=batch_size, validation_data=(val_features, val_labels))\n",
    "    #was nb_epoch=2? increased since seeing good convergence here.\n",
    "    #nb: accuracy is improving rapidly here. validation has much higher accuracy than training.\n",
    "    plot_history(history)\n",
    "    print (\"marker BB\")\n",
    "\n",
    "    #setup data augmentation.\n",
    "    gen = image.ImageDataGenerator(rotation_range=10, \n",
    "                                   width_shift_range=0.05, \n",
    "                                   #width_zoom_range=0.05, #error - why???? redundant or not in this version of keras?\n",
    "                                   zoom_range=0.05, \n",
    "                                   channel_shift_range=10, \n",
    "                                   height_shift_range=0.05, \n",
    "                                   shear_range=0.05, \n",
    "                                   horizontal_flip=True)\n",
    "    print (\"marker CC\")\n",
    "\n",
    "    batches = gen.flow(trn, trn_labels, batch_size=batch_size)\n",
    "    \n",
    "    print (\"marker DD\")\n",
    "\n",
    "    val_batches = image.ImageDataGenerator().flow(val, \n",
    "                                                  val_labels, \n",
    "                                                  shuffle=False, \n",
    "                                                  batch_size=batch_size)\n",
    "    \n",
    "    \n",
    "    print (\"type(val_batches):\", type(val_batches), \"val_batches.n:\", val_batches.n)\n",
    "\n",
    "    print (\"len(conv_model.layers):\", len(conv_model.layers))#31 layers\n",
    "    \n",
    "    #set all layers in conv_model set to non trainable\n",
    "    #for layer in conv_model.layers: \n",
    "    #    layer.trainable = False\n",
    "    # made all layers trainable - since validation accuracy was exceeding training accuracy by a large margin.\n",
    "\n",
    "    #print (\"marker EE-all layers in conv_model set to non trainable\")\n",
    "    ##get_fc_layers creates 9 layers, with nominated input shape, nominated dropout rate\n",
    "    #MaxPooling2D, Flatten, Dense, BatchNormalization, Dropout, Dense, BatchNormalization, Dropout, Dense\n",
    "    #conv_shape ensures input shape from conv_model can be accepted.\n",
    "    #add all layers to end of conv_model\n",
    "    for layer in get_fc_layers(0.5, conv_shape): \n",
    "        conv_model.add(layer)\n",
    "    #print (\"showLayersInfo(conv_model): after 1. setting layers to non trainable & 2. adding get_fc_layers to conv_model\")\n",
    "    print (\"showLayersInfo(conv_model): after adding get_fc_layers to conv_model\")\n",
    "    showLayersInfo(conv_model)\n",
    "        \n",
    "    \n",
    "    #copy weights from fc_model.layers to the layers after last_conv_idx in conv_model.\n",
    "    #nb: weights in fc_model were trained \n",
    "    for l1,l2 in zip(conv_model.layers[last_conv_idx+1:], fc_model.layers): \n",
    "        l1.set_weights(l2.get_weights())\n",
    "    print (\"marker FF-copied weights from fc_model.layers to the layers after last_conv_idx in conv_model.\")\n",
    "    \n",
    "    conv_model.compile(optimizer=Adam(1e-5), loss='categorical_crossentropy', metrics=['accuracy'])\n",
    "    \n",
    "    conv_model.save_weights(MODEL_PATH+'no_dropout_bn' + s_or_p + i + '.h5')\n",
    "    \n",
    "    \n",
    "    conv_model.fit_generator(batches, \n",
    "                             samples_per_epoch=batches.n, \n",
    "                             nb_epoch=1, \n",
    "                             validation_data=val_batches, \n",
    "                             nb_val_samples=val_batches.n)\n",
    "    \n",
    "    #now make more of the models trainable. (this was in dogs/cats, needed to retrain models for different categories)\n",
    "    #for layer in conv_model.layers[16:]: layer.trainable = True\n",
    "    #for layer in conv_model.layers[8:]: layer.trainable = True\n",
    "\n",
    "    print (\"showLayersInfo(conv_model): after 1. copying weights to conv_model from fc_model.layers.\")\n",
    "    print (\"2. fitting, setting layers 16: to trainable.\")\n",
    "    \n",
    "    showLayersInfo(conv_model)\n",
    "\n",
    "\n",
    "    history = conv_model.fit_generator(batches, \n",
    "                             samples_per_epoch=batches.n, \n",
    "                             nb_epoch=8, \n",
    "                             validation_data=val_batches, \n",
    "                             nb_val_samples=val_batches.n)\n",
    "    #this was slow to improve. traing improves rapidly, validate accuracy does not, both are _VERY_ low <20%\n",
    "    print (\"history = conv_model.fit_generator(blah....), optimizer=Adam(1e-5)\")\n",
    "    plot_history(history)\n",
    "    \n",
    "    conv_model.optimizer.lr = 1e-7\n",
    "    history = conv_model.fit_generator(batches, \n",
    "                             samples_per_epoch=batches.n, \n",
    "                             nb_epoch=10, \n",
    "                             validation_data=val_batches, \n",
    "                             nb_val_samples=val_batches.n)\n",
    "\n",
    "    print (\"history = conv_model.fit_generator(blah....), conv_model.optimizer.lr:\", conv_model.optimizer.lr)\n",
    "    plot_history(history)\n",
    "    \n",
    "    conv_model.save_weights(MODEL_PATH + s_or_p + 'aug' + i + '.h5')"
   ]
  },
  {
   "cell_type": "code",
   "execution_count": 45,
   "metadata": {},
   "outputs": [
    {
     "data": {
      "text/plain": [
       "keras.models.Sequential"
      ]
     },
     "execution_count": 45,
     "metadata": {},
     "output_type": "execute_result"
    }
   ],
   "source": [
    "type(conv_model)"
   ]
  },
  {
   "cell_type": "code",
   "execution_count": 46,
   "metadata": {},
   "outputs": [],
   "source": [
    "num_emsembles = 1  #was 5, reduced to 1 to optimise training parameters.\n"
   ]
  },
  {
   "cell_type": "markdown",
   "metadata": {},
   "source": [
    "#done run this block as previously ran this block and this notebook is solely for predicting using saved models.\n",
    "#build the ensemble\n",
    "#multiple model builds, model trainings. takes long time.\n",
    "for i in range(num_emsembles):  \n",
    "    i = str(i)\n",
    "    print (\"i:\", i)\n",
    "    model = train_last_layer(i)\n",
    "    #a tthis point, model = vgg16 model, minus last three layers, plus layers BatchNormalization + Dropout + Dense\n",
    "    #get_ll_layers:create 3 layers, BatchNormalization + Dropout + Dense\n",
    "    #train_last_layer uses get_ll_layers to create 3 layer model, trains it, then pops last 3 layers from vgg16model\n",
    "    #at end of train_last_layer model has 38 layers with last three layers being BatchNormalization + Dropout + Dense\n",
    "\n",
    "    train_dense_layers(i, model)\n",
    "    print (\"run garbage collection.\")\n",
    "    gc.collect()\n",
    "    print (\"garbage collection completed.\")\n",
    "print (\"completed.\")"
   ]
  },
  {
   "cell_type": "code",
   "execution_count": null,
   "metadata": {},
   "outputs": [],
   "source": [
    "#marker AA\n",
    "#epoch 1/8 acc: 0.74 val_acc: 0.98 <1m per epoch with production data on p2.xlarge\n",
    "#epoch 8/8 acc: 0.998 val_acc: 0.998 <1m per epoch with production data on p2.xlarge\n",
    "#marker FF\n",
    "#epoch 1/1           loss: 0.7727 - acc: 0.7531 - val_loss: 0.0101 - val_acc: 0.9975 10 minutes to run\n",
    "#epoch 1/8 -  615s - loss: 0.3543 - acc: 0.8915 - val_loss: 0.0115 - val_acc: 0.9963\n",
    "#Epoch 1/10 - 615s - loss: 0.0833 - acc: 0.9774 - val_loss: 0.0105 - val_acc: 0.9975\n",
    "#"
   ]
  },
  {
   "cell_type": "code",
   "execution_count": 48,
   "metadata": {},
   "outputs": [
    {
     "name": "stdout",
     "output_type": "stream",
     "text": [
      "/home/ubuntu/fastai/data/state/models/_prod_aug0.h5\n"
     ]
    }
   ],
   "source": [
    "for i in range(num_emsembles):\n",
    "    print (MODEL_PATH + s_or_p + 'aug' + str(i) + '.h5')"
   ]
  },
  {
   "cell_type": "code",
   "execution_count": 49,
   "metadata": {},
   "outputs": [
    {
     "name": "stdout",
     "output_type": "stream",
     "text": [
      "Train on 15684 samples, validate on 6740 samples\n",
      "Epoch 1/12\n",
      "15684/15684 [==============================] - 2s - loss: 3.2434 - acc: 0.1118 - val_loss: 2.6221 - val_acc: 0.1347\n",
      "Epoch 2/12\n",
      "15684/15684 [==============================] - 3s - loss: 2.9017 - acc: 0.1528 - val_loss: 2.4495 - val_acc: 0.1823\n",
      "Epoch 3/12\n",
      "15684/15684 [==============================] - 2s - loss: 2.6834 - acc: 0.1889 - val_loss: 2.2908 - val_acc: 0.2306\n",
      "Epoch 4/12\n",
      "15684/15684 [==============================] - 2s - loss: 2.4834 - acc: 0.2258 - val_loss: 2.1784 - val_acc: 0.2690\n",
      "Epoch 5/12\n",
      "15684/15684 [==============================] - 2s - loss: 2.3328 - acc: 0.2616 - val_loss: 2.0961 - val_acc: 0.3004\n",
      "Epoch 6/12\n",
      "15684/15684 [==============================] - 2s - loss: 2.2387 - acc: 0.2839 - val_loss: 2.0335 - val_acc: 0.3326\n",
      "Epoch 7/12\n",
      "15684/15684 [==============================] - 2s - loss: 2.0926 - acc: 0.3277 - val_loss: 1.9827 - val_acc: 0.3510\n",
      "Epoch 8/12\n",
      "15684/15684 [==============================] - 2s - loss: 2.0228 - acc: 0.3471 - val_loss: 1.9401 - val_acc: 0.3720\n",
      "Epoch 9/12\n",
      "15684/15684 [==============================] - 2s - loss: 1.9382 - acc: 0.3715 - val_loss: 1.9107 - val_acc: 0.3893\n",
      "Epoch 10/12\n",
      "15684/15684 [==============================] - 2s - loss: 1.8747 - acc: 0.3967 - val_loss: 1.8809 - val_acc: 0.4010\n",
      "Epoch 11/12\n",
      "15684/15684 [==============================] - 2s - loss: 1.8168 - acc: 0.4160 - val_loss: 1.8612 - val_acc: 0.4107\n",
      "Epoch 12/12\n",
      "15684/15684 [==============================] - 2s - loss: 1.7586 - acc: 0.4271 - val_loss: 1.8379 - val_acc: 0.4174\n",
      "train_last_layer:i: 11 , ll_model.optimizer.lr: 1e-05\n",
      "['acc', 'loss', 'val_acc', 'val_loss']\n"
     ]
    },
    {
     "data": {
      "image/png": "[encoded data removed]",
      "text/plain": [
       "<matplotlib.figure.Figure at 0x7f326c55ee90>"
      ]
     },
     "metadata": {},
     "output_type": "display_data"
    },
    {
     "data": {
      "image/png": "[encoded data removed]",
      "text/plain": [
       "<matplotlib.figure.Figure at 0x7f326be93ed0>"
      ]
     },
     "metadata": {},
     "output_type": "display_data"
    },
    {
     "name": "stdout",
     "output_type": "stream",
     "text": [
      "Train on 15684 samples, validate on 6740 samples\n",
      "Epoch 1/1\n",
      "15684/15684 [==============================] - 2s - loss: 1.7274 - acc: 0.4413 - val_loss: 1.8191 - val_acc: 0.4261\n",
      "ll_model.optimizer.lr: 1e-07\n",
      "train_last_layer, model just created from Vgg16(), # layers =  38\n",
      "@ end of train_last_layer, # layers =  38\n",
      "Number of layers :  38\n",
      "0 <class 'keras.layers.core.Lambda'> , trainable: False\n",
      "input: (None, 3, 224, 224) , output: (None, 3, 224, 224) , len(weights) 0 \n",
      "\n",
      "1 <class 'keras.layers.convolutional.ZeroPadding2D'> , trainable: False\n",
      "input: (None, 3, 224, 224) , output: (None, 3, 226, 226) , len(weights) 0 \n",
      "\n",
      "2 <class 'keras.layers.convolutional.Convolution2D'> , trainable: False\n",
      "input: (None, 3, 226, 226) , output: (None, 64, 224, 224) , len(weights) 2 \n",
      "\n",
      "3 <class 'keras.layers.convolutional.ZeroPadding2D'> , trainable: False\n",
      "input: (None, 64, 224, 224) , output: (None, 64, 226, 226) , len(weights) 0 \n",
      "\n",
      "4 <class 'keras.layers.convolutional.Convolution2D'> , trainable: False\n",
      "input: (None, 64, 226, 226) , output: (None, 64, 224, 224) , len(weights) 2 \n",
      "\n",
      "5 <class 'keras.layers.pooling.MaxPooling2D'> , trainable: False\n",
      "input: (None, 64, 224, 224) , output: (None, 64, 112, 112) , len(weights) 0 \n",
      "\n",
      "6 <class 'keras.layers.convolutional.ZeroPadding2D'> , trainable: False\n",
      "input: (None, 64, 112, 112) , output: (None, 64, 114, 114) , len(weights) 0 \n",
      "\n",
      "7 <class 'keras.layers.convolutional.Convolution2D'> , trainable: False\n",
      "input: (None, 64, 114, 114) , output: (None, 128, 112, 112) , len(weights) 2 \n",
      "\n",
      "8 <class 'keras.layers.convolutional.ZeroPadding2D'> , trainable: False\n",
      "input: (None, 128, 112, 112) , output: (None, 128, 114, 114) , len(weights) 0 \n",
      "\n",
      "9 <class 'keras.layers.convolutional.Convolution2D'> , trainable: False\n",
      "input: (None, 128, 114, 114) , output: (None, 128, 112, 112) , len(weights) 2 \n",
      "\n",
      "10 <class 'keras.layers.pooling.MaxPooling2D'> , trainable: False\n",
      "input: (None, 128, 112, 112) , output: (None, 128, 56, 56) , len(weights) 0 \n",
      "\n",
      "11 <class 'keras.layers.convolutional.ZeroPadding2D'> , trainable: False\n",
      "input: (None, 128, 56, 56) , output: (None, 128, 58, 58) , len(weights) 0 \n",
      "\n",
      "12 <class 'keras.layers.convolutional.Convolution2D'> , trainable: False\n",
      "input: (None, 128, 58, 58) , output: (None, 256, 56, 56) , len(weights) 2 \n",
      "\n",
      "13 <class 'keras.layers.convolutional.ZeroPadding2D'> , trainable: False\n",
      "input: (None, 256, 56, 56) , output: (None, 256, 58, 58) , len(weights) 0 \n",
      "\n",
      "14 <class 'keras.layers.convolutional.Convolution2D'> , trainable: False\n",
      "input: (None, 256, 58, 58) , output: (None, 256, 56, 56) , len(weights) 2 \n",
      "\n",
      "15 <class 'keras.layers.convolutional.ZeroPadding2D'> , trainable: False\n",
      "input: (None, 256, 56, 56) , output: (None, 256, 58, 58) , len(weights) 0 \n",
      "\n",
      "16 <class 'keras.layers.convolutional.Convolution2D'> , trainable: False\n",
      "input: (None, 256, 58, 58) , output: (None, 256, 56, 56) , len(weights) 2 \n",
      "\n",
      "17 <class 'keras.layers.pooling.MaxPooling2D'> , trainable: False\n",
      "input: (None, 256, 56, 56) , output: (None, 256, 28, 28) , len(weights) 0 \n",
      "\n",
      "18 <class 'keras.layers.convolutional.ZeroPadding2D'> , trainable: False\n",
      "input: (None, 256, 28, 28) , output: (None, 256, 30, 30) , len(weights) 0 \n",
      "\n",
      "19 <class 'keras.layers.convolutional.Convolution2D'> , trainable: False\n",
      "input: (None, 256, 30, 30) , output: (None, 512, 28, 28) , len(weights) 2 \n",
      "\n",
      "20 <class 'keras.layers.convolutional.ZeroPadding2D'> , trainable: False\n",
      "input: (None, 512, 28, 28) , output: (None, 512, 30, 30) , len(weights) 0 \n",
      "\n",
      "21 <class 'keras.layers.convolutional.Convolution2D'> , trainable: False\n",
      "input: (None, 512, 30, 30) , output: (None, 512, 28, 28) , len(weights) 2 \n",
      "\n",
      "22 <class 'keras.layers.convolutional.ZeroPadding2D'> , trainable: False\n",
      "input: (None, 512, 28, 28) , output: (None, 512, 30, 30) , len(weights) 0 \n",
      "\n",
      "23 <class 'keras.layers.convolutional.Convolution2D'> , trainable: False\n",
      "input: (None, 512, 30, 30) , output: (None, 512, 28, 28) , len(weights) 2 \n",
      "\n",
      "24 <class 'keras.layers.pooling.MaxPooling2D'> , trainable: False\n",
      "input: (None, 512, 28, 28) , output: (None, 512, 14, 14) , len(weights) 0 \n",
      "\n",
      "25 <class 'keras.layers.convolutional.ZeroPadding2D'> , trainable: False\n",
      "input: (None, 512, 14, 14) , output: (None, 512, 16, 16) , len(weights) 0 \n",
      "\n",
      "26 <class 'keras.layers.convolutional.Convolution2D'> , trainable: False\n",
      "input: (None, 512, 16, 16) , output: (None, 512, 14, 14) , len(weights) 2 \n",
      "\n",
      "27 <class 'keras.layers.convolutional.ZeroPadding2D'> , trainable: False\n",
      "input: (None, 512, 14, 14) , output: (None, 512, 16, 16) , len(weights) 0 \n",
      "\n",
      "28 <class 'keras.layers.convolutional.Convolution2D'> , trainable: False\n",
      "input: (None, 512, 16, 16) , output: (None, 512, 14, 14) , len(weights) 2 \n",
      "\n",
      "29 <class 'keras.layers.convolutional.ZeroPadding2D'> , trainable: False\n",
      "input: (None, 512, 14, 14) , output: (None, 512, 16, 16) , len(weights) 0 \n",
      "\n",
      "30 <class 'keras.layers.convolutional.Convolution2D'> , trainable: False\n",
      "input: (None, 512, 16, 16) , output: (None, 512, 14, 14) , len(weights) 2 \n",
      "\n",
      "31 <class 'keras.layers.pooling.MaxPooling2D'> , trainable: False\n",
      "input: (None, 512, 14, 14) , output: (None, 512, 7, 7) , len(weights) 0 \n",
      "\n",
      "32 <class 'keras.layers.core.Flatten'> , trainable: False\n",
      "input: (None, 512, 7, 7) , output: (None, 25088) , len(weights) 0 \n",
      "\n",
      "33 <class 'keras.layers.core.Dense'> , trainable: False\n",
      "input: (None, 25088) , output: (None, 4096) , len(weights) 2 \n",
      "\n",
      "34 <class 'keras.layers.core.Dropout'> , trainable: False\n",
      "input: (None, 4096) , output: (None, 4096) , len(weights) 0 \n",
      "\n",
      "35 <class 'keras.layers.normalization.BatchNormalization'> , trainable: True\n",
      "input: (None, 4096) , output: (None, 4096) , len(weights) 4 \n",
      "\n",
      "36 <class 'keras.layers.core.Dropout'> , trainable: True\n",
      "input: (None, 4096) , output: (None, 4096) , len(weights) 0 \n",
      "\n",
      "37 <class 'keras.layers.core.Dense'> , trainable: True\n",
      "input: (None, 4096) , output: (None, 10) , len(weights) 2 \n",
      "\n"
     ]
    }
   ],
   "source": [
    "ens_model2 = train_last_layer(str(11))\n",
    "#just using this method to load the same stack of layers. ignore the accuracy returned."
   ]
  },
  {
   "cell_type": "code",
   "execution_count": 50,
   "metadata": {},
   "outputs": [
    {
     "name": "stdout",
     "output_type": "stream",
     "text": [
      "____________________________________________________________________________________________________\n",
      "Layer (type)                     Output Shape          Param #     Connected to                     \n",
      "====================================================================================================\n",
      "lambda_2 (Lambda)                (None, 3, 224, 224)   0           lambda_input_2[0][0]             \n",
      "____________________________________________________________________________________________________\n",
      "zeropadding2d_14 (ZeroPadding2D) (None, 3, 226, 226)   0           lambda_2[0][0]                   \n",
      "____________________________________________________________________________________________________\n",
      "convolution2d_14 (Convolution2D) (None, 64, 224, 224)  1792        zeropadding2d_14[0][0]           \n",
      "____________________________________________________________________________________________________\n",
      "zeropadding2d_15 (ZeroPadding2D) (None, 64, 226, 226)  0           convolution2d_14[0][0]           \n",
      "____________________________________________________________________________________________________\n",
      "convolution2d_15 (Convolution2D) (None, 64, 224, 224)  36928       zeropadding2d_15[0][0]           \n",
      "____________________________________________________________________________________________________\n",
      "maxpooling2d_6 (MaxPooling2D)    (None, 64, 112, 112)  0           convolution2d_15[0][0]           \n",
      "____________________________________________________________________________________________________\n",
      "zeropadding2d_16 (ZeroPadding2D) (None, 64, 114, 114)  0           maxpooling2d_6[0][0]             \n",
      "____________________________________________________________________________________________________\n",
      "convolution2d_16 (Convolution2D) (None, 128, 112, 112) 73856       zeropadding2d_16[0][0]           \n",
      "____________________________________________________________________________________________________\n",
      "zeropadding2d_17 (ZeroPadding2D) (None, 128, 114, 114) 0           convolution2d_16[0][0]           \n",
      "____________________________________________________________________________________________________\n",
      "convolution2d_17 (Convolution2D) (None, 128, 112, 112) 147584      zeropadding2d_17[0][0]           \n",
      "____________________________________________________________________________________________________\n",
      "maxpooling2d_7 (MaxPooling2D)    (None, 128, 56, 56)   0           convolution2d_17[0][0]           \n",
      "____________________________________________________________________________________________________\n",
      "zeropadding2d_18 (ZeroPadding2D) (None, 128, 58, 58)   0           maxpooling2d_7[0][0]             \n",
      "____________________________________________________________________________________________________\n",
      "convolution2d_18 (Convolution2D) (None, 256, 56, 56)   295168      zeropadding2d_18[0][0]           \n",
      "____________________________________________________________________________________________________\n",
      "zeropadding2d_19 (ZeroPadding2D) (None, 256, 58, 58)   0           convolution2d_18[0][0]           \n",
      "____________________________________________________________________________________________________\n",
      "convolution2d_19 (Convolution2D) (None, 256, 56, 56)   590080      zeropadding2d_19[0][0]           \n",
      "____________________________________________________________________________________________________\n",
      "zeropadding2d_20 (ZeroPadding2D) (None, 256, 58, 58)   0           convolution2d_19[0][0]           \n",
      "____________________________________________________________________________________________________\n",
      "convolution2d_20 (Convolution2D) (None, 256, 56, 56)   590080      zeropadding2d_20[0][0]           \n",
      "____________________________________________________________________________________________________\n",
      "maxpooling2d_8 (MaxPooling2D)    (None, 256, 28, 28)   0           convolution2d_20[0][0]           \n",
      "____________________________________________________________________________________________________\n",
      "zeropadding2d_21 (ZeroPadding2D) (None, 256, 30, 30)   0           maxpooling2d_8[0][0]             \n",
      "____________________________________________________________________________________________________\n",
      "convolution2d_21 (Convolution2D) (None, 512, 28, 28)   1180160     zeropadding2d_21[0][0]           \n",
      "____________________________________________________________________________________________________\n",
      "zeropadding2d_22 (ZeroPadding2D) (None, 512, 30, 30)   0           convolution2d_21[0][0]           \n",
      "____________________________________________________________________________________________________\n",
      "convolution2d_22 (Convolution2D) (None, 512, 28, 28)   2359808     zeropadding2d_22[0][0]           \n",
      "____________________________________________________________________________________________________\n",
      "zeropadding2d_23 (ZeroPadding2D) (None, 512, 30, 30)   0           convolution2d_22[0][0]           \n",
      "____________________________________________________________________________________________________\n",
      "convolution2d_23 (Convolution2D) (None, 512, 28, 28)   2359808     zeropadding2d_23[0][0]           \n",
      "____________________________________________________________________________________________________\n",
      "maxpooling2d_9 (MaxPooling2D)    (None, 512, 14, 14)   0           convolution2d_23[0][0]           \n",
      "____________________________________________________________________________________________________\n",
      "zeropadding2d_24 (ZeroPadding2D) (None, 512, 16, 16)   0           maxpooling2d_9[0][0]             \n",
      "____________________________________________________________________________________________________\n",
      "convolution2d_24 (Convolution2D) (None, 512, 14, 14)   2359808     zeropadding2d_24[0][0]           \n",
      "____________________________________________________________________________________________________\n",
      "zeropadding2d_25 (ZeroPadding2D) (None, 512, 16, 16)   0           convolution2d_24[0][0]           \n",
      "____________________________________________________________________________________________________\n",
      "convolution2d_25 (Convolution2D) (None, 512, 14, 14)   2359808     zeropadding2d_25[0][0]           \n",
      "____________________________________________________________________________________________________\n",
      "zeropadding2d_26 (ZeroPadding2D) (None, 512, 16, 16)   0           convolution2d_25[0][0]           \n",
      "____________________________________________________________________________________________________\n",
      "convolution2d_26 (Convolution2D) (None, 512, 14, 14)   2359808     zeropadding2d_26[0][0]           \n",
      "____________________________________________________________________________________________________\n",
      "maxpooling2d_10 (MaxPooling2D)   (None, 512, 7, 7)     0           convolution2d_26[0][0]           \n",
      "____________________________________________________________________________________________________\n",
      "flatten_2 (Flatten)              (None, 25088)         0           maxpooling2d_10[0][0]            \n",
      "____________________________________________________________________________________________________\n",
      "dense_5 (Dense)                  (None, 4096)          102764544   flatten_2[0][0]                  \n",
      "____________________________________________________________________________________________________\n",
      "dropout_4 (Dropout)              (None, 4096)          0           dense_5[0][0]                    \n",
      "____________________________________________________________________________________________________\n",
      "batchnormalization_2 (BatchNorma (None, 4096)          16384       dropout_4[0][0]                  \n",
      "____________________________________________________________________________________________________\n",
      "dropout_6 (Dropout)              (None, 4096)          0           batchnormalization_2[0][0]       \n",
      "____________________________________________________________________________________________________\n",
      "dense_8 (Dense)                  (None, 10)            40970       dropout_6[0][0]                  \n",
      "====================================================================================================\n",
      "Total params: 117,536,586\n",
      "Trainable params: 49,162\n",
      "Non-trainable params: 117,487,424\n",
      "____________________________________________________________________________________________________\n"
     ]
    }
   ],
   "source": [
    "ens_model2.summary()"
   ]
  },
  {
   "cell_type": "code",
   "execution_count": 51,
   "metadata": {},
   "outputs": [],
   "source": [
    "for layer in ens_model2.layers: layer.trainable=True"
   ]
  },
  {
   "cell_type": "code",
   "execution_count": null,
   "metadata": {},
   "outputs": [],
   "source": [
    "#START skip blocks of code not required for prediction"
   ]
  },
  {
   "cell_type": "code",
   "execution_count": null,
   "metadata": {},
   "outputs": [],
   "source": []
  },
  {
   "cell_type": "code",
   "execution_count": null,
   "metadata": {},
   "outputs": [],
   "source": [
    "def get_ens_pred(arr, fname):\n",
    "    ens_pred = []\n",
    "    for i in range(num_emsembles):\n",
    "        i = str(i)\n",
    "        print (\"loading weights file:\", i)\n",
    "        ens_model2.load_weights('{}{}{}.h5'.format(MODEL_PATH, fname, i))\n",
    "        print (\"predicting from weights file:\", i)\n",
    "        preds = ens_model2.predict(arr, batch_size=batch_size)\n",
    "        ens_pred.append(preds)\n",
    "        print (\"len(ens_pred):\", len(ens_pred), \", len(preds):\", len(preds))\n",
    "    return ens_pred"
   ]
  },
  {
   "cell_type": "code",
   "execution_count": null,
   "metadata": {},
   "outputs": [],
   "source": [
    "#recall: val = get_data(WORKING_VALID)\n",
    "#val: (1500, 3, 224, 224)\n",
    "startTime= datetime.now()\n",
    "print (\"startTime:\", startTime)\n",
    "\n",
    "val_pred2 = get_ens_pred(val, s_or_p + 'aug')\n",
    "\n",
    "timeElapsed=datetime.now()-startTime\n",
    "print('Time elapsed (hh:mm:ss.ms) {}'.format(timeElapsed))\n",
    "\n",
    "\n",
    "#nb: this loads weights from the files with 'aug' in filename. this is the final model build in method train_dense_layers"
   ]
  },
  {
   "cell_type": "code",
   "execution_count": null,
   "metadata": {},
   "outputs": [],
   "source": [
    "print (\"len(val_pred2):\", len(val_pred2))\n",
    "print(val_pred2[0].shape)\n",
    "print(val_pred2[0][0:10, :])"
   ]
  },
  {
   "cell_type": "code",
   "execution_count": null,
   "metadata": {},
   "outputs": [],
   "source": [
    "preds = val_pred2\n",
    "preds = np.around(preds, decimals=1)\n",
    "print (type(preds))\n",
    "print (np.unique(preds))\n",
    "preds[0][0:5,]\n"
   ]
  },
  {
   "cell_type": "code",
   "execution_count": null,
   "metadata": {},
   "outputs": [],
   "source": [
    "#calc categorical_accuracy for each prediction and for the average.\n",
    "cat_acc = []\n",
    "for i in range(num_emsembles):\n",
    "    temp_val_preds = val_pred2[i]\n",
    "    print (\"i:\", i, type(temp_val_preds), temp_val_preds.shape)\n",
    "    cat_acc.append(float(categorical_accuracy(val_labels, temp_val_preds).eval()))\n",
    "    print (\"i:\", i, type(temp_val_preds), temp_val_preds.shape, \", categorical accuracy:\", cat_acc[i])\n",
    "print (\"cat_acc:\", type(cat_acc), cat_acc)\n"
   ]
  },
  {
   "cell_type": "code",
   "execution_count": null,
   "metadata": {},
   "outputs": [],
   "source": [
    "val_avg_preds2 = np.stack(val_pred2).mean(axis=0)\n",
    "#get the mean prediction across all \n",
    "print (\"type(val_avg_preds2):\", type(val_avg_preds2), val_avg_preds2.shape)\n",
    "print(val_avg_preds2[0:10, :])"
   ]
  },
  {
   "cell_type": "code",
   "execution_count": null,
   "metadata": {},
   "outputs": [],
   "source": [
    "print (\"categorical accuracy from mean      :\", float(categorical_accuracy(val_labels, val_avg_preds2).eval()))\n",
    "print (\"best individual categorical accuracy:\", np.max(cat_acc))\n",
    "#NB: mean accuracy is higher because it is choosing the best prediction row by row. then comparing with actual category."
   ]
  },
  {
   "cell_type": "code",
   "execution_count": null,
   "metadata": {},
   "outputs": [],
   "source": [
    "#end skip blocks of code not required for prediction"
   ]
  },
  {
   "cell_type": "code",
   "execution_count": null,
   "metadata": {},
   "outputs": [],
   "source": []
  },
  {
   "cell_type": "markdown",
   "metadata": {},
   "source": [
    "#hold using this block: causes crash.\n",
    "startTime= datetime.now()\n",
    "print (\"startTime:\", startTime)\n",
    "\n",
    "test = get_data(WORKING_TEST)\n",
    "print (\"test:\", test.shape)\n",
    "\n",
    "timeElapsed=datetime.now()-startTime\n",
    "print ('Time elapsed (hh:mm:ss.ms) {}'.format(timeElapsed))\n",
    "print (\"test:\", type(test), test.shape)"
   ]
  },
  {
   "cell_type": "code",
   "execution_count": 146,
   "metadata": {},
   "outputs": [
    {
     "data": {
      "text/plain": [
       "'unknown/img_40754.jpg'"
      ]
     },
     "execution_count": 146,
     "metadata": {},
     "output_type": "execute_result"
    }
   ],
   "source": [
    "test_filename[len(test_filename)-1]"
   ]
  },
  {
   "cell_type": "code",
   "execution_count": 121,
   "metadata": {},
   "outputs": [],
   "source": [
    "def emptyDir(directory):\n",
    "    for the_file in os.listdir(directory):\n",
    "        file_path = os.path.join(directory, the_file)\n",
    "        try:\n",
    "            if os.path.isfile(file_path):\n",
    "                os.unlink(file_path)\n",
    "            #elif os.path.isdir(file_path): shutil.rmtree(file_path) #uncomment to remove one level of sub-dir\n",
    "        except Exception as e:\n",
    "            print(e)"
   ]
  },
  {
   "cell_type": "code",
   "execution_count": 148,
   "metadata": {},
   "outputs": [
    {
     "name": "stdout",
     "output_type": "stream",
     "text": [
      "['img_46339.jpg', 'img_18865.jpg', 'img_23088.jpg', 'img_92913.jpg', 'img_82508.jpg']\n"
     ]
    }
   ],
   "source": [
    "#create list of filenames with the unknown/ dropped\n",
    "filenames = []\n",
    "for i in range(len(test_filename)):\n",
    "    filenames.append(test_filename[i][8:])\n",
    "    #print (filenames[i])\n",
    "print (filenames[0:5])"
   ]
  },
  {
   "cell_type": "code",
   "execution_count": 150,
   "metadata": {},
   "outputs": [
    {
     "name": "stdout",
     "output_type": "stream",
     "text": [
      "SCRAP_PATH+UNKNOWN: /home/ubuntu/fastai/data/state/scrap/unknown/\n",
      "startTime: 2018-01-06 08:51:31.375866\n",
      "Found 5000 images belonging to 1 classes.\n",
      "results: <type 'numpy.ndarray'> (5000, 10)\n",
      "Found 5000 images belonging to 1 classes.\n",
      "results: <type 'numpy.ndarray'> (10000, 10)\n",
      "Found 5000 images belonging to 1 classes.\n",
      "results: <type 'numpy.ndarray'> (15000, 10)\n",
      "Found 5000 images belonging to 1 classes.\n",
      "results: <type 'numpy.ndarray'> (20000, 10)\n",
      "Found 5000 images belonging to 1 classes.\n",
      "results: <type 'numpy.ndarray'> (25000, 10)\n",
      "Found 5000 images belonging to 1 classes.\n",
      "results: <type 'numpy.ndarray'> (30000, 10)\n",
      "Found 5000 images belonging to 1 classes.\n",
      "results: <type 'numpy.ndarray'> (35000, 10)\n",
      "Found 5000 images belonging to 1 classes.\n",
      "results: <type 'numpy.ndarray'> (40000, 10)\n",
      "Found 5000 images belonging to 1 classes.\n",
      "results: <type 'numpy.ndarray'> (45000, 10)\n",
      "Found 5000 images belonging to 1 classes.\n",
      "results: <type 'numpy.ndarray'> (50000, 10)\n",
      "Found 5000 images belonging to 1 classes.\n",
      "results: <type 'numpy.ndarray'> (55000, 10)\n",
      "Found 5000 images belonging to 1 classes.\n",
      "results: <type 'numpy.ndarray'> (60000, 10)\n",
      "Found 5000 images belonging to 1 classes.\n",
      "results: <type 'numpy.ndarray'> (65000, 10)\n",
      "Found 5000 images belonging to 1 classes.\n",
      "results: <type 'numpy.ndarray'> (70000, 10)\n",
      "Found 5000 images belonging to 1 classes.\n",
      "results: <type 'numpy.ndarray'> (75000, 10)\n",
      "Found 4726 images belonging to 1 classes.\n",
      "results: <type 'numpy.ndarray'> (79726, 10)\n",
      "Time elapsed (hh:mm:ss.ms) 0:48:39.456768\n"
     ]
    }
   ],
   "source": [
    "#SCRAP_PATH+UNKNOWN\n",
    "print (\"SCRAP_PATH+UNKNOWN:\", SCRAP_PATH+UNKNOWN)\n",
    "results = np.empty(shape=(0,10)) \n",
    "step_size = 5000\n",
    "startTime= datetime.now()\n",
    "print (\"startTime:\", startTime)\n",
    "\n",
    "for i in range(0, len(filenames), step_size):\n",
    "    #print (i, range(i, min(len(filenames),i+step_size)))\n",
    "    #copy files in this list to SCRAP_PATH+UNKNOWN\n",
    "    for j in range(i, min(len(filenames),i+step_size)):\n",
    "        copyfile(WORKING_TEST+UNKNOWN+filenames[j], SCRAP_PATH+UNKNOWN+filenames[j])\n",
    "    scrap_data = get_data(SCRAP_PATH)\n",
    "    scrap_preds = ens_model2.predict(scrap_data, batch_size=batch_size)\n",
    "    #print (\"scrap_preds:\", type(scrap_preds), scrap_preds.shape)\n",
    "    results = np.vstack((results,scrap_preds))\n",
    "    emptyDir(SCRAP_PATH+UNKNOWN)\n",
    "    print (\"results:\", type(results), results.shape)\n",
    "    #break\n",
    "\n",
    "timeElapsed=datetime.now()-startTime\n",
    "print('Time elapsed (hh:mm:ss.ms) {}'.format(timeElapsed))\n",
    "#zzz"
   ]
  },
  {
   "cell_type": "code",
   "execution_count": 170,
   "metadata": {},
   "outputs": [
    {
     "data": {
      "text/plain": [
       "(79726, 10)"
      ]
     },
     "execution_count": 170,
     "metadata": {},
     "output_type": "execute_result"
    }
   ],
   "source": [
    "results.shape"
   ]
  },
  {
   "cell_type": "code",
   "execution_count": 151,
   "metadata": {},
   "outputs": [
    {
     "name": "stdout",
     "output_type": "stream",
     "text": [
      "/home/ubuntu/fastai/data/state/results\n"
     ]
    },
    {
     "name": "stderr",
     "output_type": "stream",
     "text": [
      "/usr/local/lib/python2.7/dist-packages/ipykernel_launcher.py:4: DeprecationWarning: `imsave` is deprecated!\n",
      "`imsave` is deprecated in SciPy 1.0.0, and will be removed in 1.2.0.\n",
      "Use ``imageio.imwrite`` instead.\n",
      "  after removing the cwd from sys.path.\n"
     ]
    },
    {
     "data": {
      "image/png": "[encoded data removed]",
      "text/plain": [
       "<matplotlib.figure.Figure at 0x7f32669419d0>"
      ]
     },
     "metadata": {},
     "output_type": "display_data"
    },
    {
     "name": "stdout",
     "output_type": "stream",
     "text": [
      "f: (768, 1024, 3) uint8\n",
      "face: (768, 1024, 3) uint8\n"
     ]
    },
    {
     "name": "stderr",
     "output_type": "stream",
     "text": [
      "/usr/local/lib/python2.7/dist-packages/ipykernel_launcher.py:9: DeprecationWarning: `imread` is deprecated!\n",
      "`imread` is deprecated in SciPy 1.0.0, and will be removed in 1.2.0.\n",
      "Use ``imageio.imread`` instead.\n",
      "  if __name__ == '__main__':\n"
     ]
    }
   ],
   "source": [
    "print (os.getcwd())\n",
    "from scipy import misc\n",
    "f = misc.face()\n",
    "misc.imsave('face.png', f)\n",
    "import matplotlib.pyplot as plt\n",
    "plt.imshow(f)\n",
    "plt.show()\n",
    "print (\"f:\", f.shape, f.dtype)\n",
    "face = misc.imread('face.png')\n",
    "print (\"face:\", face.shape, face.dtype)"
   ]
  },
  {
   "cell_type": "code",
   "execution_count": null,
   "metadata": {},
   "outputs": [],
   "source": []
  },
  {
   "cell_type": "code",
   "execution_count": null,
   "metadata": {},
   "outputs": [],
   "source": []
  },
  {
   "cell_type": "code",
   "execution_count": 152,
   "metadata": {},
   "outputs": [
    {
     "name": "stdout",
     "output_type": "stream",
     "text": [
      "startTime: 2018-01-06 09:41:58.744085\n"
     ]
    },
    {
     "ename": "NameError",
     "evalue": "name 'get_ens_pred' is not defined",
     "output_type": "error",
     "traceback": [
      "\u001b[0;31m---------------------------------------------------------------------------\u001b[0m",
      "\u001b[0;31mNameError\u001b[0m                                 Traceback (most recent call last)",
      "\u001b[0;32m<ipython-input-152-733c5f23b2e7>\u001b[0m in \u001b[0;36m<module>\u001b[0;34m()\u001b[0m\n\u001b[1;32m      4\u001b[0m \u001b[0;32mprint\u001b[0m \u001b[0;34m(\u001b[0m\u001b[0;34m\"startTime:\"\u001b[0m\u001b[0;34m,\u001b[0m \u001b[0mstartTime\u001b[0m\u001b[0;34m)\u001b[0m\u001b[0;34m\u001b[0m\u001b[0m\n\u001b[1;32m      5\u001b[0m \u001b[0;34m\u001b[0m\u001b[0m\n\u001b[0;32m----> 6\u001b[0;31m \u001b[0mtest_pred2\u001b[0m \u001b[0;34m=\u001b[0m \u001b[0mget_ens_pred\u001b[0m\u001b[0;34m(\u001b[0m\u001b[0mtest\u001b[0m\u001b[0;34m,\u001b[0m \u001b[0ms_or_p\u001b[0m \u001b[0;34m+\u001b[0m \u001b[0;34m'aug'\u001b[0m\u001b[0;34m)\u001b[0m\u001b[0;34m\u001b[0m\u001b[0m\n\u001b[0m\u001b[1;32m      7\u001b[0m \u001b[0;31m#preds = ens_model2.predict(arr, batch_size=batch_size)\u001b[0m\u001b[0;34m\u001b[0m\u001b[0;34m\u001b[0m\u001b[0m\n\u001b[1;32m      8\u001b[0m \u001b[0;34m\u001b[0m\u001b[0m\n",
      "\u001b[0;31mNameError\u001b[0m: name 'get_ens_pred' is not defined"
     ]
    }
   ],
   "source": [
    "#recall: test = get_data(WORKING_TEST)\n",
    "#<type 'numpy.ndarray'> (2500, 3, 224, 224)\n",
    "startTime= datetime.now()\n",
    "print (\"startTime:\", startTime)\n",
    "\n",
    "#test_pred2 = get_ens_pred(test, s_or_p + 'aug')\n",
    "#preds = ens_model2.predict(arr, batch_size=batch_size)\n",
    "\n",
    "\n",
    "timeElapsed=datetime.now()-startTime\n",
    "print('Time elapsed (hh:mm:ss.ms) {}'.format(timeElapsed))\n",
    "\n",
    "\n",
    "#print (\"test_pred2.shape:\", test_pred2.shape)\n",
    "#approx time to run : production version: "
   ]
  },
  {
   "cell_type": "code",
   "execution_count": 153,
   "metadata": {},
   "outputs": [
    {
     "name": "stdout",
     "output_type": "stream",
     "text": [
      "len(val_pred2): 79727\n",
      "(10,)\n"
     ]
    }
   ],
   "source": [
    "print (\"len(val_pred2):\", len(test_pred2))\n",
    "print(test_pred2[0].shape)\n"
   ]
  },
  {
   "cell_type": "code",
   "execution_count": 154,
   "metadata": {},
   "outputs": [
    {
     "ename": "IndexError",
     "evalue": "too many indices for array",
     "output_type": "error",
     "traceback": [
      "\u001b[0;31m---------------------------------------------------------------------------\u001b[0m",
      "\u001b[0;31mIndexError\u001b[0m                                Traceback (most recent call last)",
      "\u001b[0;32m<ipython-input-154-0bb8589b9a1e>\u001b[0m in \u001b[0;36m<module>\u001b[0;34m()\u001b[0m\n\u001b[0;32m----> 1\u001b[0;31m \u001b[0;32mprint\u001b[0m\u001b[0;34m(\u001b[0m\u001b[0mtest_pred2\u001b[0m\u001b[0;34m[\u001b[0m\u001b[0;36m0\u001b[0m\u001b[0;34m]\u001b[0m\u001b[0;34m[\u001b[0m\u001b[0;36m0\u001b[0m\u001b[0;34m:\u001b[0m\u001b[0;36m10\u001b[0m\u001b[0;34m,\u001b[0m \u001b[0;34m:\u001b[0m\u001b[0;34m]\u001b[0m\u001b[0;34m)\u001b[0m\u001b[0;34m\u001b[0m\u001b[0m\n\u001b[0m",
      "\u001b[0;31mIndexError\u001b[0m: too many indices for array"
     ]
    }
   ],
   "source": [
    "print(test_pred2[0][0:10, :])"
   ]
  },
  {
   "cell_type": "code",
   "execution_count": 155,
   "metadata": {},
   "outputs": [
    {
     "name": "stdout",
     "output_type": "stream",
     "text": [
      "type(avg_test_pred2): <type 'numpy.ndarray'> (10,)\n"
     ]
    },
    {
     "ename": "IndexError",
     "evalue": "too many indices for array",
     "output_type": "error",
     "traceback": [
      "\u001b[0;31m---------------------------------------------------------------------------\u001b[0m",
      "\u001b[0;31mIndexError\u001b[0m                                Traceback (most recent call last)",
      "\u001b[0;32m<ipython-input-155-82ebba07e26f>\u001b[0m in \u001b[0;36m<module>\u001b[0;34m()\u001b[0m\n\u001b[1;32m      2\u001b[0m \u001b[0;31m#get the mean prediction across all\u001b[0m\u001b[0;34m\u001b[0m\u001b[0;34m\u001b[0m\u001b[0m\n\u001b[1;32m      3\u001b[0m \u001b[0;32mprint\u001b[0m \u001b[0;34m(\u001b[0m\u001b[0;34m\"type(avg_test_pred2):\"\u001b[0m\u001b[0;34m,\u001b[0m \u001b[0mtype\u001b[0m\u001b[0;34m(\u001b[0m\u001b[0mavg_test_pred2\u001b[0m\u001b[0;34m)\u001b[0m\u001b[0;34m,\u001b[0m \u001b[0mavg_test_pred2\u001b[0m\u001b[0;34m.\u001b[0m\u001b[0mshape\u001b[0m\u001b[0;34m)\u001b[0m\u001b[0;34m\u001b[0m\u001b[0m\n\u001b[0;32m----> 4\u001b[0;31m \u001b[0;32mprint\u001b[0m\u001b[0;34m(\u001b[0m\u001b[0mavg_test_pred2\u001b[0m\u001b[0;34m[\u001b[0m\u001b[0;36m0\u001b[0m\u001b[0;34m:\u001b[0m\u001b[0;36m10\u001b[0m\u001b[0;34m,\u001b[0m \u001b[0;34m:\u001b[0m\u001b[0;34m]\u001b[0m\u001b[0;34m)\u001b[0m\u001b[0;34m\u001b[0m\u001b[0m\n\u001b[0m",
      "\u001b[0;31mIndexError\u001b[0m: too many indices for array"
     ]
    }
   ],
   "source": [
    "avg_test_pred2 = np.stack(test_pred2).mean(axis=0)\n",
    "#get the mean prediction across all \n",
    "print (\"type(avg_test_pred2):\", type(avg_test_pred2), avg_test_pred2.shape)\n",
    "print(avg_test_pred2[0:10, :])"
   ]
  },
  {
   "cell_type": "code",
   "execution_count": 156,
   "metadata": {},
   "outputs": [],
   "source": [
    "#NB: need to check last few block suit 10 category predictions and output format required for kaggle submisison."
   ]
  },
  {
   "cell_type": "code",
   "execution_count": 171,
   "metadata": {},
   "outputs": [
    {
     "data": {
      "text/plain": [
       "array([[ 0.,  0.,  0.,  0.,  0.,  0.,  0.,  0.,  0.,  1.],\n",
       "       [ 0.,  0.,  0.,  0.,  0.,  0.,  0.,  1.,  0.,  0.],\n",
       "       [ 0.,  0.,  1.,  0.,  0.,  0.,  0.,  0.,  0.,  0.],\n",
       "       [ 0.,  0.,  1.,  0.,  0.,  0.,  0.,  0.,  0.,  0.],\n",
       "       [ 0.,  0.,  0.,  0.,  0.,  0.,  0.,  0.,  0.,  1.]])"
      ]
     },
     "execution_count": 171,
     "metadata": {},
     "output_type": "execute_result"
    }
   ],
   "source": [
    "\n",
    "#preds_submit = np.around(avg_test_pred2, decimals=1)\n",
    "#preds_submit = np.around(test_pred2, decimals=1)\n",
    "preds_submit = np.around(results, decimals=1)\n",
    "\n",
    "\n",
    "preds_submit[0:5,]"
   ]
  },
  {
   "cell_type": "code",
   "execution_count": 158,
   "metadata": {},
   "outputs": [
    {
     "data": {
      "text/plain": [
       "(['unknown/img_46339.jpg',\n",
       "  'unknown/img_18865.jpg',\n",
       "  'unknown/img_23088.jpg',\n",
       "  'unknown/img_92913.jpg',\n",
       "  'unknown/img_82508.jpg'],\n",
       " 79726)"
      ]
     },
     "execution_count": 158,
     "metadata": {},
     "output_type": "execute_result"
    }
   ],
   "source": [
    "test_filename[0:5], len(test_filename)"
   ]
  },
  {
   "cell_type": "code",
   "execution_count": 159,
   "metadata": {},
   "outputs": [
    {
     "data": {
      "text/plain": [
       "(79726, 1)"
      ]
     },
     "execution_count": 159,
     "metadata": {},
     "output_type": "execute_result"
    }
   ],
   "source": [
    "filenames_array = np.reshape(np.array(filenames), (len(filenames),1))\n",
    "filenames_array.shape"
   ]
  },
  {
   "cell_type": "code",
   "execution_count": 172,
   "metadata": {},
   "outputs": [
    {
     "data": {
      "text/plain": [
       "(79726, 10)"
      ]
     },
     "execution_count": 172,
     "metadata": {},
     "output_type": "execute_result"
    }
   ],
   "source": [
    "preds_submit.shape"
   ]
  },
  {
   "cell_type": "code",
   "execution_count": 173,
   "metadata": {},
   "outputs": [],
   "source": [
    "results2 = pd.concat([pd.DataFrame(filenames),pd.DataFrame(preds_submit)],axis=1)"
   ]
  },
  {
   "cell_type": "code",
   "execution_count": 174,
   "metadata": {},
   "outputs": [
    {
     "data": {
      "text/plain": [
       "(79726, 11)"
      ]
     },
     "execution_count": 174,
     "metadata": {},
     "output_type": "execute_result"
    }
   ],
   "source": [
    "results2.shape"
   ]
  },
  {
   "cell_type": "code",
   "execution_count": 175,
   "metadata": {},
   "outputs": [
    {
     "data": {
      "text/plain": [
       "['c0', 'c1', 'c2', 'c3', 'c4', 'c5', 'c6', 'c7', 'c8', 'c9']"
      ]
     },
     "execution_count": 175,
     "metadata": {},
     "output_type": "execute_result"
    }
   ],
   "source": [
    "CATEGORIES\n",
    "categories_ = []\n",
    "for categ in CATEGORIES:\n",
    "    #print (categ[0:2])\n",
    "    categories_.append(categ[0:2])\n",
    "categories_"
   ]
  },
  {
   "cell_type": "code",
   "execution_count": 176,
   "metadata": {},
   "outputs": [],
   "source": [
    "results2.columns = ['img']+categories_"
   ]
  },
  {
   "cell_type": "code",
   "execution_count": 177,
   "metadata": {},
   "outputs": [
    {
     "data": {
      "text/plain": [
       "['img', 'c0', 'c1', 'c2', 'c3', 'c4', 'c5', 'c6', 'c7', 'c8', 'c9']"
      ]
     },
     "execution_count": 177,
     "metadata": {},
     "output_type": "execute_result"
    }
   ],
   "source": [
    "list(results2)"
   ]
  },
  {
   "cell_type": "code",
   "execution_count": 178,
   "metadata": {},
   "outputs": [
    {
     "data": {
      "text/html": [
       "<div>\n",
       "<style>\n",
       "    .dataframe thead tr:only-child th {\n",
       "        text-align: right;\n",
       "    }\n",
       "\n",
       "    .dataframe thead th {\n",
       "        text-align: left;\n",
       "    }\n",
       "\n",
       "    .dataframe tbody tr th {\n",
       "        vertical-align: top;\n",
       "    }\n",
       "</style>\n",
       "<table border=\"1\" class=\"dataframe\">\n",
       "  <thead>\n",
       "    <tr style=\"text-align: right;\">\n",
       "      <th></th>\n",
       "      <th>img</th>\n",
       "      <th>c0</th>\n",
       "      <th>c1</th>\n",
       "      <th>c2</th>\n",
       "      <th>c3</th>\n",
       "      <th>c4</th>\n",
       "      <th>c5</th>\n",
       "      <th>c6</th>\n",
       "      <th>c7</th>\n",
       "      <th>c8</th>\n",
       "      <th>c9</th>\n",
       "    </tr>\n",
       "  </thead>\n",
       "  <tbody>\n",
       "    <tr>\n",
       "      <th>0</th>\n",
       "      <td>img_46339.jpg</td>\n",
       "      <td>0.0</td>\n",
       "      <td>0.0</td>\n",
       "      <td>0.0</td>\n",
       "      <td>0.0</td>\n",
       "      <td>0.0</td>\n",
       "      <td>0.0</td>\n",
       "      <td>0.0</td>\n",
       "      <td>0.0</td>\n",
       "      <td>0.0</td>\n",
       "      <td>1.0</td>\n",
       "    </tr>\n",
       "    <tr>\n",
       "      <th>1</th>\n",
       "      <td>img_18865.jpg</td>\n",
       "      <td>0.0</td>\n",
       "      <td>0.0</td>\n",
       "      <td>0.0</td>\n",
       "      <td>0.0</td>\n",
       "      <td>0.0</td>\n",
       "      <td>0.0</td>\n",
       "      <td>0.0</td>\n",
       "      <td>1.0</td>\n",
       "      <td>0.0</td>\n",
       "      <td>0.0</td>\n",
       "    </tr>\n",
       "    <tr>\n",
       "      <th>2</th>\n",
       "      <td>img_23088.jpg</td>\n",
       "      <td>0.0</td>\n",
       "      <td>0.0</td>\n",
       "      <td>1.0</td>\n",
       "      <td>0.0</td>\n",
       "      <td>0.0</td>\n",
       "      <td>0.0</td>\n",
       "      <td>0.0</td>\n",
       "      <td>0.0</td>\n",
       "      <td>0.0</td>\n",
       "      <td>0.0</td>\n",
       "    </tr>\n",
       "    <tr>\n",
       "      <th>3</th>\n",
       "      <td>img_92913.jpg</td>\n",
       "      <td>0.0</td>\n",
       "      <td>0.0</td>\n",
       "      <td>1.0</td>\n",
       "      <td>0.0</td>\n",
       "      <td>0.0</td>\n",
       "      <td>0.0</td>\n",
       "      <td>0.0</td>\n",
       "      <td>0.0</td>\n",
       "      <td>0.0</td>\n",
       "      <td>0.0</td>\n",
       "    </tr>\n",
       "    <tr>\n",
       "      <th>4</th>\n",
       "      <td>img_82508.jpg</td>\n",
       "      <td>0.0</td>\n",
       "      <td>0.0</td>\n",
       "      <td>0.0</td>\n",
       "      <td>0.0</td>\n",
       "      <td>0.0</td>\n",
       "      <td>0.0</td>\n",
       "      <td>0.0</td>\n",
       "      <td>0.0</td>\n",
       "      <td>0.0</td>\n",
       "      <td>1.0</td>\n",
       "    </tr>\n",
       "  </tbody>\n",
       "</table>\n",
       "</div>"
      ],
      "text/plain": [
       "             img   c0   c1   c2   c3   c4   c5   c6   c7   c8   c9\n",
       "0  img_46339.jpg  0.0  0.0  0.0  0.0  0.0  0.0  0.0  0.0  0.0  1.0\n",
       "1  img_18865.jpg  0.0  0.0  0.0  0.0  0.0  0.0  0.0  1.0  0.0  0.0\n",
       "2  img_23088.jpg  0.0  0.0  1.0  0.0  0.0  0.0  0.0  0.0  0.0  0.0\n",
       "3  img_92913.jpg  0.0  0.0  1.0  0.0  0.0  0.0  0.0  0.0  0.0  0.0\n",
       "4  img_82508.jpg  0.0  0.0  0.0  0.0  0.0  0.0  0.0  0.0  0.0  1.0"
      ]
     },
     "execution_count": 178,
     "metadata": {},
     "output_type": "execute_result"
    }
   ],
   "source": [
    "results2.head()"
   ]
  },
  {
   "cell_type": "code",
   "execution_count": 179,
   "metadata": {},
   "outputs": [
    {
     "data": {
      "text/plain": [
       "'/home/ubuntu/fastai/data/state/results/'"
      ]
     },
     "execution_count": 179,
     "metadata": {},
     "output_type": "execute_result"
    }
   ],
   "source": [
    "RESULTS_PATH"
   ]
  },
  {
   "cell_type": "code",
   "execution_count": 180,
   "metadata": {},
   "outputs": [
    {
     "name": "stdout",
     "output_type": "stream",
     "text": [
      "/home/ubuntu/fastai/data/state/results\n",
      "written to : ensemble_submit_prod_.csv\n"
     ]
    }
   ],
   "source": [
    "%cd $RESULTS_PATH\n",
    "submission_file_name = \"ensemble_submit\"+ s_or_p +\".csv\"\n",
    "results2.to_csv(submission_file_name, index=False, float_format='%.1f')\n",
    "print (\"written to :\", submission_file_name)"
   ]
  },
  {
   "cell_type": "code",
   "execution_count": 185,
   "metadata": {},
   "outputs": [
    {
     "name": "stdout",
     "output_type": "stream",
     "text": [
      "             img   c0   c1   c2   c3   c4   c5   c6   c7   c8   c9\n",
      "0  img_46339.jpg  0.0  0.0  0.0  0.0  0.0  0.0  0.0  0.0  0.0  1.0\n"
     ]
    },
    {
     "data": {
      "text/plain": [
       "'talking to passenger'"
      ]
     },
     "execution_count": 185,
     "metadata": {},
     "output_type": "execute_result"
    },
    {
     "data": {
      "image/png": "[encoded data removed]",
      "text/plain": [
       "<matplotlib.figure.Figure at 0x7f3268db1f50>"
      ]
     },
     "metadata": {},
     "output_type": "display_data"
    }
   ],
   "source": [
    "import matplotlib.image as mpimg\n",
    "img=mpimg.imread(WORKING_TEST+UNKNOWN + filenames[0])\n",
    "imgplot = plt.imshow(img)\n",
    "print (results2.head(1))\n",
    "cat_desc[9]"
   ]
  },
  {
   "cell_type": "markdown",
   "metadata": {},
   "source": [
    "kg submit  ensemble_submit_sample_.csv -u user-email -p password -c state-farm-distracted-driver-detection"
   ]
  },
  {
   "cell_type": "code",
   "execution_count": null,
   "metadata": {},
   "outputs": [],
   "source": [
    "#Submission : must have 79726 rows"
   ]
  }
 ],
 "metadata": {
  "kernelspec": {
   "display_name": "Python 2",
   "language": "python",
   "name": "python2"
  },
  "language_info": {
   "codemirror_mode": {
    "name": "ipython",
    "version": 2
   },
   "file_extension": ".py",
   "mimetype": "text/x-python",
   "name": "python",
   "nbconvert_exporter": "python",
   "pygments_lexer": "ipython2",
   "version": "2.7.12"
  }
 },
 "nbformat": 4,
 "nbformat_minor": 2
}
